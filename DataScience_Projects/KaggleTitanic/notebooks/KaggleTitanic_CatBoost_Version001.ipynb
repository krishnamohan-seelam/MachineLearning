{
 "cells": [
  {
   "cell_type": "code",
   "execution_count": 2,
   "metadata": {},
   "outputs": [],
   "source": [
    "import os\n",
    "import math\n",
    "import datetime\n",
    "from mlsettings.settings import load_app_config, get_datafolder_path\n",
    "from mltools.mlcommon import (load_data, print_dataset_info, split_dataset, \n",
    "                              auto_scatter_simple,load_dataset,detect_outliers,\n",
    "                              one_hot_dataframe)\n",
    "\n",
    "import matplotlib.pyplot as plt\n",
    "import seaborn as sns\n",
    "import pandas as pd\n",
    "import numpy as np\n",
    "import warnings\n",
    "warnings.filterwarnings('ignore')\n",
    "%matplotlib inline \n",
    "from numpy import set_printoptions\n",
    "set_printoptions(precision=4)\n",
    "\n",
    "pd.set_option('display.width', 140)\n",
    "pd.set_option('precision', 4)\n",
    "\n",
    "sns.set_style(\"whitegrid\")\n",
    "\n",
    "sns.set_palette(sns.color_palette(\"muted\", 15))"
   ]
  },
  {
   "cell_type": "code",
   "execution_count": 3,
   "metadata": {},
   "outputs": [
    {
     "name": "stdout",
     "output_type": "stream",
     "text": [
      "D:\\DataSource\\kaggle_titanic\\train.csv\n",
      "D:\\DataSource\\kaggle_titanic\\test.csv\n",
      " input file is :D:\\DataSource\\kaggle_titanic\\train.csv loaded.\n",
      "Continous Variables\n",
      "['PassengerId', 'Survived', 'Pclass', 'Age', 'SibSp', 'Parch', 'Fare']\n",
      "Categorical Variables\n",
      "['Name', 'Sex', 'Ticket', 'Cabin', 'Embarked']\n",
      " input file is :D:\\DataSource\\kaggle_titanic\\test.csv loaded.\n",
      "Continous Variables\n",
      "['PassengerId', 'Pclass', 'Age', 'SibSp', 'Parch', 'Fare']\n",
      "Categorical Variables\n",
      "['Name', 'Sex', 'Ticket', 'Cabin', 'Embarked']\n"
     ]
    }
   ],
   "source": [
    "load_app_config()\n",
    "DIRECTORY=\"kaggle_titanic\"\n",
    "TRAIN_FILE ='train.csv'\n",
    "TEST_FILE = 'test.csv'\n",
    "RESPONSE = 'Survived'\n",
    "input_path = get_datafolder_path()\n",
    "\n",
    "train_file = os.path.join(input_path, DIRECTORY, TRAIN_FILE)\n",
    "test_file = os.path.join(input_path, DIRECTORY, TEST_FILE)\n",
    "print(train_file)\n",
    "print(test_file)\n",
    "\n",
    "train_dataset,feature_columns,response_column,continuous_vars,categorical_vars = load_dataset(train_file,RESPONSE)\n",
    "test_dataset,tfeature_columns,tresponse_column,tcontinuous_vars,tcategorical_vars  = load_dataset(test_file,RESPONSE,colseparator=',')\n",
    "\n",
    "train_X = train_dataset[feature_columns]\n",
    "train_y = train_dataset[response_column]\n",
    "test_X  = test_dataset[tfeature_columns]"
   ]
  },
  {
   "cell_type": "code",
   "execution_count": 4,
   "metadata": {},
   "outputs": [],
   "source": [
    "def get_df_description(df):\n",
    "    df_description = df.describe(include='all').T\n",
    "    df_description['null_count'] = df.isnull().sum()\n",
    "    return df_description"
   ]
  },
  {
   "cell_type": "code",
   "execution_count": 5,
   "metadata": {},
   "outputs": [],
   "source": [
    "full_dataset =pd.concat(objs=[train_dataset, test_dataset], axis=0).reset_index(drop=True)  "
   ]
  },
  {
   "cell_type": "code",
   "execution_count": 6,
   "metadata": {},
   "outputs": [],
   "source": [
    "from catboost import Pool, CatBoostClassifier, cv\n",
    "from sklearn.model_selection import train_test_split\n",
    "from sklearn.metrics import accuracy_score"
   ]
  },
  {
   "cell_type": "code",
   "execution_count": 7,
   "metadata": {},
   "outputs": [
    {
     "data": {
      "text/html": [
       "<div>\n",
       "<style scoped>\n",
       "    .dataframe tbody tr th:only-of-type {\n",
       "        vertical-align: middle;\n",
       "    }\n",
       "\n",
       "    .dataframe tbody tr th {\n",
       "        vertical-align: top;\n",
       "    }\n",
       "\n",
       "    .dataframe thead th {\n",
       "        text-align: right;\n",
       "    }\n",
       "</style>\n",
       "<table border=\"1\" class=\"dataframe\">\n",
       "  <thead>\n",
       "    <tr style=\"text-align: right;\">\n",
       "      <th></th>\n",
       "      <th>count</th>\n",
       "      <th>unique</th>\n",
       "      <th>top</th>\n",
       "      <th>freq</th>\n",
       "      <th>mean</th>\n",
       "      <th>std</th>\n",
       "      <th>min</th>\n",
       "      <th>25%</th>\n",
       "      <th>50%</th>\n",
       "      <th>75%</th>\n",
       "      <th>max</th>\n",
       "      <th>null_count</th>\n",
       "    </tr>\n",
       "  </thead>\n",
       "  <tbody>\n",
       "    <tr>\n",
       "      <td>Age</td>\n",
       "      <td>1046</td>\n",
       "      <td>NaN</td>\n",
       "      <td>NaN</td>\n",
       "      <td>NaN</td>\n",
       "      <td>29.88</td>\n",
       "      <td>14.41</td>\n",
       "      <td>0.17</td>\n",
       "      <td>21</td>\n",
       "      <td>28</td>\n",
       "      <td>39</td>\n",
       "      <td>80</td>\n",
       "      <td>263</td>\n",
       "    </tr>\n",
       "    <tr>\n",
       "      <td>Cabin</td>\n",
       "      <td>295</td>\n",
       "      <td>186</td>\n",
       "      <td>C23 C25 C27</td>\n",
       "      <td>6</td>\n",
       "      <td>NaN</td>\n",
       "      <td>NaN</td>\n",
       "      <td>NaN</td>\n",
       "      <td>NaN</td>\n",
       "      <td>NaN</td>\n",
       "      <td>NaN</td>\n",
       "      <td>NaN</td>\n",
       "      <td>1014</td>\n",
       "    </tr>\n",
       "    <tr>\n",
       "      <td>Embarked</td>\n",
       "      <td>1307</td>\n",
       "      <td>3</td>\n",
       "      <td>S</td>\n",
       "      <td>914</td>\n",
       "      <td>NaN</td>\n",
       "      <td>NaN</td>\n",
       "      <td>NaN</td>\n",
       "      <td>NaN</td>\n",
       "      <td>NaN</td>\n",
       "      <td>NaN</td>\n",
       "      <td>NaN</td>\n",
       "      <td>2</td>\n",
       "    </tr>\n",
       "    <tr>\n",
       "      <td>Fare</td>\n",
       "      <td>1308</td>\n",
       "      <td>NaN</td>\n",
       "      <td>NaN</td>\n",
       "      <td>NaN</td>\n",
       "      <td>33.3</td>\n",
       "      <td>51.76</td>\n",
       "      <td>0</td>\n",
       "      <td>7.896</td>\n",
       "      <td>14.45</td>\n",
       "      <td>31.27</td>\n",
       "      <td>512.3</td>\n",
       "      <td>1</td>\n",
       "    </tr>\n",
       "    <tr>\n",
       "      <td>Name</td>\n",
       "      <td>1309</td>\n",
       "      <td>1307</td>\n",
       "      <td>Kelly, Mr. James</td>\n",
       "      <td>2</td>\n",
       "      <td>NaN</td>\n",
       "      <td>NaN</td>\n",
       "      <td>NaN</td>\n",
       "      <td>NaN</td>\n",
       "      <td>NaN</td>\n",
       "      <td>NaN</td>\n",
       "      <td>NaN</td>\n",
       "      <td>0</td>\n",
       "    </tr>\n",
       "    <tr>\n",
       "      <td>Parch</td>\n",
       "      <td>1309</td>\n",
       "      <td>NaN</td>\n",
       "      <td>NaN</td>\n",
       "      <td>NaN</td>\n",
       "      <td>0.385</td>\n",
       "      <td>0.8656</td>\n",
       "      <td>0</td>\n",
       "      <td>0</td>\n",
       "      <td>0</td>\n",
       "      <td>0</td>\n",
       "      <td>9</td>\n",
       "      <td>0</td>\n",
       "    </tr>\n",
       "    <tr>\n",
       "      <td>PassengerId</td>\n",
       "      <td>1309</td>\n",
       "      <td>NaN</td>\n",
       "      <td>NaN</td>\n",
       "      <td>NaN</td>\n",
       "      <td>655</td>\n",
       "      <td>378</td>\n",
       "      <td>1</td>\n",
       "      <td>328</td>\n",
       "      <td>655</td>\n",
       "      <td>982</td>\n",
       "      <td>1309</td>\n",
       "      <td>0</td>\n",
       "    </tr>\n",
       "    <tr>\n",
       "      <td>Pclass</td>\n",
       "      <td>1309</td>\n",
       "      <td>NaN</td>\n",
       "      <td>NaN</td>\n",
       "      <td>NaN</td>\n",
       "      <td>2.295</td>\n",
       "      <td>0.8378</td>\n",
       "      <td>1</td>\n",
       "      <td>2</td>\n",
       "      <td>3</td>\n",
       "      <td>3</td>\n",
       "      <td>3</td>\n",
       "      <td>0</td>\n",
       "    </tr>\n",
       "    <tr>\n",
       "      <td>Sex</td>\n",
       "      <td>1309</td>\n",
       "      <td>2</td>\n",
       "      <td>male</td>\n",
       "      <td>843</td>\n",
       "      <td>NaN</td>\n",
       "      <td>NaN</td>\n",
       "      <td>NaN</td>\n",
       "      <td>NaN</td>\n",
       "      <td>NaN</td>\n",
       "      <td>NaN</td>\n",
       "      <td>NaN</td>\n",
       "      <td>0</td>\n",
       "    </tr>\n",
       "    <tr>\n",
       "      <td>SibSp</td>\n",
       "      <td>1309</td>\n",
       "      <td>NaN</td>\n",
       "      <td>NaN</td>\n",
       "      <td>NaN</td>\n",
       "      <td>0.4989</td>\n",
       "      <td>1.042</td>\n",
       "      <td>0</td>\n",
       "      <td>0</td>\n",
       "      <td>0</td>\n",
       "      <td>1</td>\n",
       "      <td>8</td>\n",
       "      <td>0</td>\n",
       "    </tr>\n",
       "    <tr>\n",
       "      <td>Survived</td>\n",
       "      <td>891</td>\n",
       "      <td>NaN</td>\n",
       "      <td>NaN</td>\n",
       "      <td>NaN</td>\n",
       "      <td>0.3838</td>\n",
       "      <td>0.4866</td>\n",
       "      <td>0</td>\n",
       "      <td>0</td>\n",
       "      <td>0</td>\n",
       "      <td>1</td>\n",
       "      <td>1</td>\n",
       "      <td>418</td>\n",
       "    </tr>\n",
       "    <tr>\n",
       "      <td>Ticket</td>\n",
       "      <td>1309</td>\n",
       "      <td>929</td>\n",
       "      <td>CA. 2343</td>\n",
       "      <td>11</td>\n",
       "      <td>NaN</td>\n",
       "      <td>NaN</td>\n",
       "      <td>NaN</td>\n",
       "      <td>NaN</td>\n",
       "      <td>NaN</td>\n",
       "      <td>NaN</td>\n",
       "      <td>NaN</td>\n",
       "      <td>0</td>\n",
       "    </tr>\n",
       "  </tbody>\n",
       "</table>\n",
       "</div>"
      ],
      "text/plain": [
       "            count unique               top freq    mean     std   min    25%    50%    75%    max  null_count\n",
       "Age          1046    NaN               NaN  NaN   29.88   14.41  0.17     21     28     39     80         263\n",
       "Cabin         295    186       C23 C25 C27    6     NaN     NaN   NaN    NaN    NaN    NaN    NaN        1014\n",
       "Embarked     1307      3                 S  914     NaN     NaN   NaN    NaN    NaN    NaN    NaN           2\n",
       "Fare         1308    NaN               NaN  NaN    33.3   51.76     0  7.896  14.45  31.27  512.3           1\n",
       "Name         1309   1307  Kelly, Mr. James    2     NaN     NaN   NaN    NaN    NaN    NaN    NaN           0\n",
       "Parch        1309    NaN               NaN  NaN   0.385  0.8656     0      0      0      0      9           0\n",
       "PassengerId  1309    NaN               NaN  NaN     655     378     1    328    655    982   1309           0\n",
       "Pclass       1309    NaN               NaN  NaN   2.295  0.8378     1      2      3      3      3           0\n",
       "Sex          1309      2              male  843     NaN     NaN   NaN    NaN    NaN    NaN    NaN           0\n",
       "SibSp        1309    NaN               NaN  NaN  0.4989   1.042     0      0      0      1      8           0\n",
       "Survived      891    NaN               NaN  NaN  0.3838  0.4866     0      0      0      1      1         418\n",
       "Ticket       1309    929          CA. 2343   11     NaN     NaN   NaN    NaN    NaN    NaN    NaN           0"
      ]
     },
     "execution_count": 7,
     "metadata": {},
     "output_type": "execute_result"
    }
   ],
   "source": [
    "get_df_description(full_dataset)"
   ]
  },
  {
   "cell_type": "code",
   "execution_count": 8,
   "metadata": {},
   "outputs": [],
   "source": [
    "train_dataset =full_dataset[full_dataset['Survived'].notnull()]\n",
    "test_dataset =full_dataset[full_dataset['Survived'].isnull()]\n",
    "#train_dataset[\"Survived\"] = train_dataset[\"Survived\"].astype(\"int\")\n",
    "train_dataset.drop(labels=[\"Survived\"],axis = 1,inplace=True)\n",
    "test_dataset.drop(labels=[\"Survived\"],axis = 1,inplace=True)"
   ]
  },
  {
   "cell_type": "code",
   "execution_count": 9,
   "metadata": {},
   "outputs": [],
   "source": [
    "train_dataset.fillna(-999,inplace=True)\n",
    "test_dataset.fillna(-999,inplace=True)"
   ]
  },
  {
   "cell_type": "code",
   "execution_count": 10,
   "metadata": {},
   "outputs": [],
   "source": [
    "category_names =  list(train_dataset.select_dtypes(include=['object']).columns)"
   ]
  },
  {
   "cell_type": "code",
   "execution_count": 11,
   "metadata": {},
   "outputs": [
    {
     "data": {
      "text/plain": [
       "['Cabin', 'Embarked', 'Name', 'Sex', 'Ticket']"
      ]
     },
     "execution_count": 11,
     "metadata": {},
     "output_type": "execute_result"
    }
   ],
   "source": [
    "category_names"
   ]
  },
  {
   "cell_type": "code",
   "execution_count": 12,
   "metadata": {},
   "outputs": [
    {
     "data": {
      "text/plain": [
       "Age            float64\n",
       "Cabin           object\n",
       "Embarked        object\n",
       "Fare           float64\n",
       "Name            object\n",
       "Parch            int64\n",
       "PassengerId      int64\n",
       "Pclass           int64\n",
       "Sex             object\n",
       "SibSp            int64\n",
       "Ticket          object\n",
       "dtype: object"
      ]
     },
     "execution_count": 12,
     "metadata": {},
     "output_type": "execute_result"
    }
   ],
   "source": [
    "train_dataset.dtypes"
   ]
  },
  {
   "cell_type": "code",
   "execution_count": 13,
   "metadata": {},
   "outputs": [
    {
     "data": {
      "text/plain": [
       "array([ 1,  2,  4,  8, 10], dtype=int64)"
      ]
     },
     "execution_count": 13,
     "metadata": {},
     "output_type": "execute_result"
    }
   ],
   "source": [
    "cate_features_index = np.where(train_dataset.dtypes == object)[0]\n",
    "cate_features_index"
   ]
  },
  {
   "cell_type": "code",
   "execution_count": null,
   "metadata": {},
   "outputs": [],
   "source": [
    "CheckNames"
   ]
  },
  {
   "cell_type": "code",
   "execution_count": 37,
   "metadata": {},
   "outputs": [],
   "source": [
    "from sklearn.model_selection import train_test_split\n",
    "X_train, X_val, y_train, y_val = train_test_split(train_dataset,train_y,test_size=0.20,random_state=42)"
   ]
  },
  {
   "cell_type": "code",
   "execution_count": 121,
   "metadata": {},
   "outputs": [],
   "source": [
    "model = CatBoostClassifier( iterations =100 ,loss_function='Logloss',eval_metric='Accuracy',\n",
    "                           use_best_model=True,random_seed=42,class_weights=[0.72,0.28],\n",
    "                           colsample_bylevel=0.72,\n",
    "                           bagging_temperature=.6,\n",
    "                           max_depth=4,\n",
    "                           )"
   ]
  },
  {
   "cell_type": "code",
   "execution_count": 122,
   "metadata": {
    "scrolled": false
   },
   "outputs": [
    {
     "name": "stdout",
     "output_type": "stream",
     "text": [
      "Learning rate set to 0.201726\n",
      "0:\tlearn: 0.8894406\ttest: 0.8596346\tbest: 0.8596346 (0)\ttotal: 37.7ms\tremaining: 3.73s\n",
      "1:\tlearn: 0.8894406\ttest: 0.8596346\tbest: 0.8596346 (0)\ttotal: 55.2ms\tremaining: 2.7s\n",
      "2:\tlearn: 0.8894406\ttest: 0.8596346\tbest: 0.8596346 (0)\ttotal: 80.9ms\tremaining: 2.61s\n",
      "3:\tlearn: 0.8894406\ttest: 0.8596346\tbest: 0.8596346 (0)\ttotal: 105ms\tremaining: 2.52s\n",
      "4:\tlearn: 0.8894406\ttest: 0.8596346\tbest: 0.8596346 (0)\ttotal: 129ms\tremaining: 2.46s\n",
      "5:\tlearn: 0.8894406\ttest: 0.8596346\tbest: 0.8596346 (0)\ttotal: 154ms\tremaining: 2.41s\n",
      "6:\tlearn: 0.8894406\ttest: 0.8596346\tbest: 0.8596346 (0)\ttotal: 179ms\tremaining: 2.38s\n",
      "7:\tlearn: 0.8894406\ttest: 0.8596346\tbest: 0.8596346 (0)\ttotal: 210ms\tremaining: 2.41s\n",
      "8:\tlearn: 0.8894406\ttest: 0.8596346\tbest: 0.8596346 (0)\ttotal: 237ms\tremaining: 2.4s\n",
      "9:\tlearn: 0.8894406\ttest: 0.8596346\tbest: 0.8596346 (0)\ttotal: 263ms\tremaining: 2.37s\n",
      "10:\tlearn: 0.8894406\ttest: 0.8596346\tbest: 0.8596346 (0)\ttotal: 287ms\tremaining: 2.32s\n",
      "11:\tlearn: 0.8908593\ttest: 0.8596346\tbest: 0.8596346 (0)\ttotal: 311ms\tremaining: 2.28s\n",
      "12:\tlearn: 0.8929874\ttest: 0.8654485\tbest: 0.8654485 (12)\ttotal: 336ms\tremaining: 2.25s\n",
      "13:\tlearn: 0.8936968\ttest: 0.8654485\tbest: 0.8654485 (12)\ttotal: 360ms\tremaining: 2.21s\n",
      "14:\tlearn: 0.8929874\ttest: 0.8654485\tbest: 0.8654485 (12)\ttotal: 393ms\tremaining: 2.23s\n",
      "15:\tlearn: 0.8929874\ttest: 0.8654485\tbest: 0.8654485 (12)\ttotal: 434ms\tremaining: 2.28s\n",
      "16:\tlearn: 0.8944062\ttest: 0.8654485\tbest: 0.8654485 (12)\ttotal: 485ms\tremaining: 2.37s\n",
      "17:\tlearn: 0.8944062\ttest: 0.8683555\tbest: 0.8683555 (17)\ttotal: 520ms\tremaining: 2.37s\n",
      "18:\tlearn: 0.8944062\ttest: 0.8654485\tbest: 0.8683555 (17)\ttotal: 545ms\tremaining: 2.32s\n",
      "19:\tlearn: 0.8951155\ttest: 0.8654485\tbest: 0.8683555 (17)\ttotal: 575ms\tremaining: 2.3s\n",
      "20:\tlearn: 0.8951155\ttest: 0.8654485\tbest: 0.8683555 (17)\ttotal: 600ms\tremaining: 2.26s\n",
      "21:\tlearn: 0.8951155\ttest: 0.8712625\tbest: 0.8712625 (21)\ttotal: 625ms\tremaining: 2.21s\n",
      "22:\tlearn: 0.8951155\ttest: 0.8712625\tbest: 0.8712625 (21)\ttotal: 650ms\tremaining: 2.17s\n",
      "23:\tlearn: 0.8958249\ttest: 0.8712625\tbest: 0.8712625 (21)\ttotal: 670ms\tremaining: 2.12s\n",
      "24:\tlearn: 0.8958249\ttest: 0.8712625\tbest: 0.8712625 (21)\ttotal: 696ms\tremaining: 2.09s\n",
      "25:\tlearn: 0.8958249\ttest: 0.8712625\tbest: 0.8712625 (21)\ttotal: 722ms\tremaining: 2.06s\n",
      "26:\tlearn: 0.8958249\ttest: 0.8712625\tbest: 0.8712625 (21)\ttotal: 752ms\tremaining: 2.03s\n",
      "27:\tlearn: 0.8940008\ttest: 0.8712625\tbest: 0.8712625 (21)\ttotal: 778ms\tremaining: 2s\n",
      "28:\tlearn: 0.8947102\ttest: 0.8712625\tbest: 0.8712625 (21)\ttotal: 805ms\tremaining: 1.97s\n",
      "29:\tlearn: 0.8947102\ttest: 0.8712625\tbest: 0.8712625 (21)\ttotal: 831ms\tremaining: 1.94s\n",
      "30:\tlearn: 0.8986623\ttest: 0.8712625\tbest: 0.8712625 (21)\ttotal: 856ms\tremaining: 1.9s\n",
      "31:\tlearn: 0.8972436\ttest: 0.8712625\tbest: 0.8712625 (21)\ttotal: 882ms\tremaining: 1.87s\n",
      "32:\tlearn: 0.8961289\ttest: 0.8712625\tbest: 0.8712625 (21)\ttotal: 910ms\tremaining: 1.85s\n",
      "33:\tlearn: 0.8961289\ttest: 0.8712625\tbest: 0.8712625 (21)\ttotal: 940ms\tremaining: 1.82s\n",
      "34:\tlearn: 0.8961289\ttest: 0.8712625\tbest: 0.8712625 (21)\ttotal: 969ms\tremaining: 1.8s\n",
      "35:\tlearn: 0.8961289\ttest: 0.8712625\tbest: 0.8712625 (21)\ttotal: 1s\tremaining: 1.78s\n",
      "36:\tlearn: 0.8961289\ttest: 0.8712625\tbest: 0.8712625 (21)\ttotal: 1.04s\tremaining: 1.77s\n",
      "37:\tlearn: 0.8968383\ttest: 0.8712625\tbest: 0.8712625 (21)\ttotal: 1.07s\tremaining: 1.74s\n",
      "38:\tlearn: 0.8968383\ttest: 0.8712625\tbest: 0.8712625 (21)\ttotal: 1.09s\tremaining: 1.71s\n",
      "39:\tlearn: 0.8968383\ttest: 0.8712625\tbest: 0.8712625 (21)\ttotal: 1.12s\tremaining: 1.68s\n",
      "40:\tlearn: 0.8961289\ttest: 0.8712625\tbest: 0.8712625 (21)\ttotal: 1.15s\tremaining: 1.66s\n",
      "41:\tlearn: 0.8968383\ttest: 0.8712625\tbest: 0.8712625 (21)\ttotal: 1.19s\tremaining: 1.64s\n",
      "42:\tlearn: 0.8961289\ttest: 0.8712625\tbest: 0.8712625 (21)\ttotal: 1.22s\tremaining: 1.61s\n",
      "43:\tlearn: 0.8961289\ttest: 0.8712625\tbest: 0.8712625 (21)\ttotal: 1.25s\tremaining: 1.59s\n",
      "44:\tlearn: 0.8961289\ttest: 0.8712625\tbest: 0.8712625 (21)\ttotal: 1.27s\tremaining: 1.56s\n",
      "45:\tlearn: 0.8968383\ttest: 0.8712625\tbest: 0.8712625 (21)\ttotal: 1.3s\tremaining: 1.53s\n",
      "46:\tlearn: 0.8968383\ttest: 0.8712625\tbest: 0.8712625 (21)\ttotal: 1.33s\tremaining: 1.5s\n",
      "47:\tlearn: 0.8968383\ttest: 0.8712625\tbest: 0.8712625 (21)\ttotal: 1.36s\tremaining: 1.48s\n",
      "48:\tlearn: 0.8975476\ttest: 0.8712625\tbest: 0.8712625 (21)\ttotal: 1.4s\tremaining: 1.45s\n",
      "49:\tlearn: 0.8993717\ttest: 0.8712625\tbest: 0.8712625 (21)\ttotal: 1.44s\tremaining: 1.44s\n",
      "50:\tlearn: 0.9000811\ttest: 0.8712625\tbest: 0.8712625 (21)\ttotal: 1.49s\tremaining: 1.43s\n",
      "51:\tlearn: 0.9000811\ttest: 0.8712625\tbest: 0.8712625 (21)\ttotal: 1.52s\tremaining: 1.4s\n",
      "52:\tlearn: 0.9000811\ttest: 0.8712625\tbest: 0.8712625 (21)\ttotal: 1.55s\tremaining: 1.37s\n",
      "53:\tlearn: 0.9022092\ttest: 0.8712625\tbest: 0.8712625 (21)\ttotal: 1.58s\tremaining: 1.34s\n",
      "54:\tlearn: 0.9022092\ttest: 0.8712625\tbest: 0.8712625 (21)\ttotal: 1.61s\tremaining: 1.32s\n",
      "55:\tlearn: 0.9022092\ttest: 0.8712625\tbest: 0.8712625 (21)\ttotal: 1.64s\tremaining: 1.29s\n",
      "56:\tlearn: 0.9022092\ttest: 0.8712625\tbest: 0.8712625 (21)\ttotal: 1.68s\tremaining: 1.27s\n",
      "57:\tlearn: 0.9022092\ttest: 0.8712625\tbest: 0.8712625 (21)\ttotal: 1.71s\tremaining: 1.24s\n",
      "58:\tlearn: 0.9022092\ttest: 0.8712625\tbest: 0.8712625 (21)\ttotal: 1.74s\tremaining: 1.21s\n",
      "59:\tlearn: 0.9022092\ttest: 0.8712625\tbest: 0.8712625 (21)\ttotal: 1.77s\tremaining: 1.18s\n",
      "60:\tlearn: 0.9022092\ttest: 0.8712625\tbest: 0.8712625 (21)\ttotal: 1.8s\tremaining: 1.15s\n",
      "61:\tlearn: 0.9014998\ttest: 0.8712625\tbest: 0.8712625 (21)\ttotal: 1.84s\tremaining: 1.13s\n",
      "62:\tlearn: 0.9014998\ttest: 0.8712625\tbest: 0.8712625 (21)\ttotal: 1.86s\tremaining: 1.09s\n",
      "63:\tlearn: 0.9000811\ttest: 0.8712625\tbest: 0.8712625 (21)\ttotal: 1.89s\tremaining: 1.06s\n",
      "64:\tlearn: 0.9000811\ttest: 0.8712625\tbest: 0.8712625 (21)\ttotal: 1.91s\tremaining: 1.03s\n",
      "65:\tlearn: 0.9000811\ttest: 0.8741694\tbest: 0.8741694 (65)\ttotal: 1.94s\tremaining: 998ms\n",
      "66:\tlearn: 0.9000811\ttest: 0.8741694\tbest: 0.8741694 (65)\ttotal: 1.96s\tremaining: 966ms\n",
      "67:\tlearn: 0.9000811\ttest: 0.8741694\tbest: 0.8741694 (65)\ttotal: 1.99s\tremaining: 935ms\n",
      "68:\tlearn: 0.9007904\ttest: 0.8741694\tbest: 0.8741694 (65)\ttotal: 2.02s\tremaining: 907ms\n",
      "69:\tlearn: 0.9014998\ttest: 0.8741694\tbest: 0.8741694 (65)\ttotal: 2.04s\tremaining: 877ms\n",
      "70:\tlearn: 0.9022092\ttest: 0.8741694\tbest: 0.8741694 (65)\ttotal: 2.07s\tremaining: 845ms\n",
      "71:\tlearn: 0.9040332\ttest: 0.8741694\tbest: 0.8741694 (65)\ttotal: 2.1s\tremaining: 815ms\n",
      "72:\tlearn: 0.9040332\ttest: 0.8741694\tbest: 0.8741694 (65)\ttotal: 2.13s\tremaining: 786ms\n",
      "73:\tlearn: 0.9047426\ttest: 0.8741694\tbest: 0.8741694 (65)\ttotal: 2.15s\tremaining: 757ms\n",
      "74:\tlearn: 0.9047426\ttest: 0.8741694\tbest: 0.8741694 (65)\ttotal: 2.19s\tremaining: 729ms\n",
      "75:\tlearn: 0.9054520\ttest: 0.8741694\tbest: 0.8741694 (65)\ttotal: 2.22s\tremaining: 702ms\n",
      "76:\tlearn: 0.9054520\ttest: 0.8666944\tbest: 0.8741694 (65)\ttotal: 2.25s\tremaining: 674ms\n",
      "77:\tlearn: 0.9061613\ttest: 0.8666944\tbest: 0.8741694 (65)\ttotal: 2.29s\tremaining: 645ms\n",
      "78:\tlearn: 0.9061613\ttest: 0.8666944\tbest: 0.8741694 (65)\ttotal: 2.32s\tremaining: 616ms\n",
      "79:\tlearn: 0.9068707\ttest: 0.8666944\tbest: 0.8741694 (65)\ttotal: 2.35s\tremaining: 587ms\n",
      "80:\tlearn: 0.9061613\ttest: 0.8592193\tbest: 0.8741694 (65)\ttotal: 2.37s\tremaining: 556ms\n",
      "81:\tlearn: 0.9061613\ttest: 0.8592193\tbest: 0.8741694 (65)\ttotal: 2.4s\tremaining: 526ms\n",
      "82:\tlearn: 0.9089988\ttest: 0.8592193\tbest: 0.8741694 (65)\ttotal: 2.43s\tremaining: 497ms\n",
      "83:\tlearn: 0.9089988\ttest: 0.8592193\tbest: 0.8741694 (65)\ttotal: 2.45s\tremaining: 467ms\n",
      "84:\tlearn: 0.9097081\ttest: 0.8621262\tbest: 0.8741694 (65)\ttotal: 2.48s\tremaining: 437ms\n",
      "85:\tlearn: 0.9085934\ttest: 0.8621262\tbest: 0.8741694 (65)\ttotal: 2.5s\tremaining: 407ms\n",
      "86:\tlearn: 0.9085934\ttest: 0.8621262\tbest: 0.8741694 (65)\ttotal: 2.53s\tremaining: 378ms\n",
      "87:\tlearn: 0.9085934\ttest: 0.8621262\tbest: 0.8741694 (65)\ttotal: 2.55s\tremaining: 348ms\n",
      "88:\tlearn: 0.9085934\ttest: 0.8621262\tbest: 0.8741694 (65)\ttotal: 2.58s\tremaining: 318ms\n",
      "89:\tlearn: 0.9085934\ttest: 0.8621262\tbest: 0.8741694 (65)\ttotal: 2.6s\tremaining: 290ms\n",
      "90:\tlearn: 0.9085934\ttest: 0.8621262\tbest: 0.8741694 (65)\ttotal: 2.63s\tremaining: 260ms\n",
      "91:\tlearn: 0.9085934\ttest: 0.8621262\tbest: 0.8741694 (65)\ttotal: 2.66s\tremaining: 231ms\n",
      "92:\tlearn: 0.9085934\ttest: 0.8621262\tbest: 0.8741694 (65)\ttotal: 2.68s\tremaining: 202ms\n",
      "93:\tlearn: 0.9093028\ttest: 0.8621262\tbest: 0.8741694 (65)\ttotal: 2.71s\tremaining: 173ms\n",
      "94:\tlearn: 0.9093028\ttest: 0.8621262\tbest: 0.8741694 (65)\ttotal: 2.73s\tremaining: 144ms\n",
      "95:\tlearn: 0.9093028\ttest: 0.8621262\tbest: 0.8741694 (65)\ttotal: 2.76s\tremaining: 115ms\n",
      "96:\tlearn: 0.9093028\ttest: 0.8621262\tbest: 0.8741694 (65)\ttotal: 2.78s\tremaining: 86.1ms\n"
     ]
    },
    {
     "name": "stdout",
     "output_type": "stream",
     "text": [
      "97:\tlearn: 0.9093028\ttest: 0.8621262\tbest: 0.8741694 (65)\ttotal: 2.81s\tremaining: 57.4ms\n",
      "98:\tlearn: 0.9085934\ttest: 0.8621262\tbest: 0.8741694 (65)\ttotal: 2.84s\tremaining: 28.7ms\n",
      "99:\tlearn: 0.9093028\ttest: 0.8592193\tbest: 0.8741694 (65)\ttotal: 2.86s\tremaining: 0us\n",
      "\n",
      "bestTest = 0.8741694377\n",
      "bestIteration = 65\n",
      "\n",
      "Shrink model to first 66 iterations.\n"
     ]
    },
    {
     "data": {
      "text/plain": [
       "<catboost.core.CatBoostClassifier at 0x1cd8819cfd0>"
      ]
     },
     "execution_count": 122,
     "metadata": {},
     "output_type": "execute_result"
    }
   ],
   "source": [
    "model.fit(X_train,y_train,cat_features=cate_features_index,eval_set=(X_val,y_val))"
   ]
  },
  {
   "cell_type": "code",
   "execution_count": 123,
   "metadata": {},
   "outputs": [],
   "source": [
    "from sklearn.metrics.classification import accuracy_score, log_loss\n",
    "from sklearn.metrics import confusion_matrix,roc_auc_score,mean_squared_error,f1_score,recall_score,precision_score\n",
    "\n",
    "def model_evalution(model,x_train,y_train,x_test,y_test):\n",
    "    print(\"####################### model Evalution started #######################\")\n",
    "    train_pre = model.predict(x_train)\n",
    "    test_pre = model.predict(x_test)\n",
    "    train_pro = model.predict_proba(x_train)\n",
    "    test_pro = model.predict_proba(x_test)\n",
    "\n",
    "    print(\"Train Accuracy: {0} \\t Test Accuracy: {1}\".format(accuracy_score(y_train, train_pre),accuracy_score(y_test,test_pre)))\n",
    "    print(\"Train Loss: {0} \\t Test Loss: {1}\".format(mean_squared_error(y_train, train_pre),mean_squared_error(y_test,test_pre)))\n",
    "    print(\"Train AUC: {0} \\t Test AUC: {1}\".format(roc_auc_score(y_train, train_pro[:,1]),roc_auc_score(y_test,test_pro[:,1])))\n",
    "    print(\"Train F1: {0} \\t Test F1: {1}\".format(f1_score(y_train, train_pre),f1_score(y_test,test_pre)))\n",
    "    print(\"Train recall: {0} \\t Test recall: {1}\".format(recall_score(y_train, train_pre),recall_score(y_test,test_pre)))\n",
    "    print(\"Train precision: {0} \\t Test Precision: {1}\".format(precision_score(y_train, train_pre),precision_score(y_test,test_pre)))\n",
    "    print(\"Train Confusion Matrix: \\n{0} \\n Test Confusion Matrix: \\n{1}\".format(confusion_matrix(y_train, train_pre),confusion_matrix(y_test,test_pre)))\n",
    "  #f1_score"
   ]
  },
  {
   "cell_type": "code",
   "execution_count": 124,
   "metadata": {},
   "outputs": [
    {
     "name": "stdout",
     "output_type": "stream",
     "text": [
      "####################### model Evalution started #######################\n",
      "Train Accuracy: 0.8932584269662921 \t Test Accuracy: 0.7932960893854749\n",
      "Train Loss: 0.10674157303370786 \t Test Loss: 0.20670391061452514\n",
      "Train AUC: 0.9817676818609654 \t Test AUC: 0.8942728442728441\n",
      "Train F1: 0.8382978723404255 \t Test F1: 0.6890756302521008\n",
      "Train recall: 0.7350746268656716 \t Test recall: 0.5540540540540541\n",
      "Train precision: 0.9752475247524752 \t Test Precision: 0.9111111111111111\n",
      "Train Confusion Matrix: \n",
      "[[439   5]\n",
      " [ 71 197]] \n",
      " Test Confusion Matrix: \n",
      "[[101   4]\n",
      " [ 33  41]]\n"
     ]
    }
   ],
   "source": [
    "model_evalution(model,X_train, y_train,X_val,y_val)"
   ]
  },
  {
   "cell_type": "code",
   "execution_count": 104,
   "metadata": {},
   "outputs": [
    {
     "name": "stdout",
     "output_type": "stream",
     "text": [
      "the test accuracy is :0.804469\n"
     ]
    }
   ],
   "source": [
    "print('the test accuracy is :{:.6f}'.format(accuracy_score(y_val,model.predict(X_val))))"
   ]
  },
  {
   "cell_type": "code",
   "execution_count": 98,
   "metadata": {},
   "outputs": [],
   "source": [
    "test_y =model.predict(test_dataset)"
   ]
  },
  {
   "cell_type": "code",
   "execution_count": 99,
   "metadata": {},
   "outputs": [],
   "source": [
    "submission =pd.DataFrame({'PassengerId':test_X[\"PassengerId\"].values ,'Survived':test_y}) \n",
    "import datetime\n",
    "FORMAT = '%Y%m%d%H%M%S'\n",
    "timestamp=datetime.datetime.now().strftime(FORMAT)\n",
    "filename =\"Titanic_CatBoost_Pred_\"+timestamp+\"_out.csv\"\n",
    "submission.to_csv(filename,index=False)"
   ]
  },
  {
   "cell_type": "code",
   "execution_count": null,
   "metadata": {},
   "outputs": [],
   "source": []
  }
 ],
 "metadata": {
  "kernelspec": {
   "display_name": "Python 3",
   "language": "python",
   "name": "python3"
  },
  "language_info": {
   "codemirror_mode": {
    "name": "ipython",
    "version": 3
   },
   "file_extension": ".py",
   "mimetype": "text/x-python",
   "name": "python",
   "nbconvert_exporter": "python",
   "pygments_lexer": "ipython3",
   "version": "3.7.1"
  }
 },
 "nbformat": 4,
 "nbformat_minor": 2
}
