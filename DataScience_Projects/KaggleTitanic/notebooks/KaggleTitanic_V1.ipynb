{
 "cells": [
  {
   "cell_type": "code",
   "execution_count": 1,
   "metadata": {},
   "outputs": [],
   "source": [
    "import pathlib\n",
    "import pandas as pd\n",
    "import numpy as np\n",
    "import pandas_profiling\n",
    "import warnings\n",
    "warnings.filterwarnings('ignore')\n",
    "from mltools.mlcommon import one_hot_dataframe"
   ]
  },
  {
   "cell_type": "code",
   "execution_count": 2,
   "metadata": {},
   "outputs": [],
   "source": [
    "project_directory = pathlib.Path().resolve().parent\n",
    "data_directory  = project_directory.joinpath('data/raw')\n",
    "report_directory  = project_directory.joinpath('reports')"
   ]
  },
  {
   "cell_type": "code",
   "execution_count": 3,
   "metadata": {},
   "outputs": [],
   "source": [
    "train_file = 'train.csv'\n",
    "test_file  = 'test.csv'\n",
    "report_file = 'profile_report.html'\n",
    "train_filepath = data_directory.joinpath(train_file)\n",
    "test_filepath = data_directory.joinpath(test_file)\n",
    "report_filepath = report_directory.joinpath(report_file)"
   ]
  },
  {
   "cell_type": "code",
   "execution_count": 4,
   "metadata": {},
   "outputs": [],
   "source": [
    "def get_df_describe(df):\n",
    "    describe_df  = df.describe(include='all').T\n",
    "    describe_df['Null_Count']= df.isnull().sum()\n",
    "    return describe_df"
   ]
  },
  {
   "cell_type": "code",
   "execution_count": 5,
   "metadata": {},
   "outputs": [],
   "source": [
    "def has_cabin(deck_level):\n",
    "    if (deck_level =='X'):\n",
    "        return 'No'\n",
    "    else: \n",
    "        return 'Yes'\n"
   ]
  },
  {
   "cell_type": "code",
   "execution_count": 6,
   "metadata": {},
   "outputs": [],
   "source": [
    "def tweak_dataset(df):\n",
    "    df['FamilySize'] = df[\"SibSp\"] +df[\"Parch\"] + 1\n",
    "    df['Embarked'].fillna('S' ,inplace =True)\n",
    "    df['Title'] = df['Name'].str.extract('([A-Za-z]+)\\.',expand =False)\n",
    "    df['Title'] = df['Title'].replace(['Lady', 'Countess', 'Sir', 'Jonkheer', 'Dona','Don'], 'Other')\n",
    "    df['Title'] = df['Title'].replace(['Capt', 'Col', 'Dr', 'Major', 'Rev'],'Officer')\n",
    "    df['Title'] = df['Title'].replace('Mlle', 'Miss')\n",
    "    df['Title'] = df['Title'].replace('Ms', 'Miss')\n",
    "    df['Title'] = df['Title'].replace('Mme', 'Mrs')\n",
    "\n",
    "    df['Cabin'].fillna('XXX' ,inplace=True)\n",
    "    df['Deck_Level'] = df['Cabin'].apply(lambda x : x[0]) \n",
    "     \n",
    "    df.drop(['Name','Ticket','Cabin',],inplace=True,axis =1) \n",
    "    #df = pd.get_dummies(df,drop_first=True)\n",
    "    return df"
   ]
  },
  {
   "cell_type": "code",
   "execution_count": 7,
   "metadata": {},
   "outputs": [],
   "source": [
    "def fill_missing_age(row):\n",
    "    if pd.isnull(row['Age']):\n",
    "        return median_ages[row['Sex'],row['Pclass'],row['Title'] ,row['SibSp'] ,row['Parch']]\n",
    "    else:\n",
    "        return row['Age']\n"
   ]
  },
  {
   "cell_type": "code",
   "execution_count": 8,
   "metadata": {},
   "outputs": [],
   "source": [
    "train_df = pd.read_csv(train_filepath)\n",
    "test_df = pd.read_csv(test_filepath)"
   ]
  },
  {
   "cell_type": "code",
   "execution_count": 9,
   "metadata": {},
   "outputs": [],
   "source": [
    "pandas_profiling.ProfileReport(train_df).to_file(report_filepath)"
   ]
  },
  {
   "cell_type": "code",
   "execution_count": 10,
   "metadata": {},
   "outputs": [],
   "source": [
    "#train_df = tweak_dataset(train_df)\n",
    "#test_df = tweak_dataset(test_df)"
   ]
  },
  {
   "cell_type": "code",
   "execution_count": 11,
   "metadata": {},
   "outputs": [],
   "source": [
    "train_df.fillna(-999,inplace=True)\n",
    "test_df.fillna(-999,inplace=True)"
   ]
  },
  {
   "cell_type": "code",
   "execution_count": 13,
   "metadata": {},
   "outputs": [
    {
     "data": {
      "text/plain": [
       "PassengerId      int64\n",
       "Survived         int64\n",
       "Pclass           int64\n",
       "Name            object\n",
       "Sex             object\n",
       "Age            float64\n",
       "SibSp            int64\n",
       "Parch            int64\n",
       "Ticket          object\n",
       "Fare           float64\n",
       "Cabin           object\n",
       "Embarked        object\n",
       "dtype: object"
      ]
     },
     "execution_count": 13,
     "metadata": {},
     "output_type": "execute_result"
    }
   ],
   "source": [
    "train_df.dtypes"
   ]
  },
  {
   "cell_type": "code",
   "execution_count": 12,
   "metadata": {},
   "outputs": [
    {
     "ename": "NameError",
     "evalue": "name 'Check' is not defined",
     "output_type": "error",
     "traceback": [
      "\u001b[1;31m---------------------------------------------------------------------------\u001b[0m",
      "\u001b[1;31mNameError\u001b[0m                                 Traceback (most recent call last)",
      "\u001b[1;32m<ipython-input-12-85d53ae9eb86>\u001b[0m in \u001b[0;36m<module>\u001b[1;34m\u001b[0m\n\u001b[1;32m----> 1\u001b[1;33m \u001b[0mCheck\u001b[0m\u001b[1;33m\u001b[0m\u001b[1;33m\u001b[0m\u001b[0m\n\u001b[0m",
      "\u001b[1;31mNameError\u001b[0m: name 'Check' is not defined"
     ]
    }
   ],
   "source": [
    "Check"
   ]
  },
  {
   "cell_type": "code",
   "execution_count": 16,
   "metadata": {},
   "outputs": [],
   "source": [
    "full_dataset =pd.concat(objs=[train_df, test_df], axis=0,sort=True).reset_index(drop=True)  "
   ]
  },
  {
   "cell_type": "code",
   "execution_count": 17,
   "metadata": {},
   "outputs": [],
   "source": [
    "train_dataset =full_dataset[full_dataset['Survived'].notnull()]\n",
    "train_y = full_dataset[full_dataset['Survived'].notnull()]['Survived']\n",
    "test_dataset =full_dataset[full_dataset['Survived'].isnull()]\n",
    "#train_dataset[\"Survived\"] = train_dataset[\"Survived\"].astype(\"int\")\n",
    "test_passengers = test_dataset['PassengerId']\n",
    "train_dataset.drop(labels=[\"Survived\",'PassengerId'],axis = 1,inplace=True)\n",
    "test_dataset.drop(labels=[\"Survived\",'PassengerId'],axis = 1,inplace=True)"
   ]
  },
  {
   "cell_type": "code",
   "execution_count": 29,
   "metadata": {},
   "outputs": [],
   "source": [
    "cate_features_index = np.where(train_dataset.dtypes != float)[0]"
   ]
  },
  {
   "cell_type": "code",
   "execution_count": 20,
   "metadata": {},
   "outputs": [],
   "source": [
    "from sklearn.model_selection  import  train_test_split"
   ]
  },
  {
   "cell_type": "code",
   "execution_count": 21,
   "metadata": {},
   "outputs": [],
   "source": [
    "X_train, X_val, y_train, y_val = train_test_split(train_dataset,train_y,test_size=0.3, random_state=42)"
   ]
  },
  {
   "cell_type": "code",
   "execution_count": 22,
   "metadata": {},
   "outputs": [],
   "source": [
    "from sklearn import metrics"
   ]
  },
  {
   "cell_type": "code",
   "execution_count": 23,
   "metadata": {},
   "outputs": [],
   "source": [
    "from catboost import CatBoostClassifier, Pool, cv"
   ]
  },
  {
   "cell_type": "code",
   "execution_count": null,
   "metadata": {},
   "outputs": [],
   "source": []
  },
  {
   "cell_type": "code",
   "execution_count": 34,
   "metadata": {},
   "outputs": [],
   "source": [
    "catboost_model = CatBoostClassifier(loss_function='Logloss', custom_metric='AUC:hints=skip_train~false', metric_period=20)"
   ]
  },
  {
   "cell_type": "code",
   "execution_count": 35,
   "metadata": {
    "scrolled": false
   },
   "outputs": [
    {
     "name": "stdout",
     "output_type": "stream",
     "text": [
      "Learning rate set to 0.074246\n",
      "0:\tlearn: 0.6527757\ttest: 0.6524415\tbest: 0.6524415 (0)\ttotal: 35ms\tremaining: 35s\n",
      "20:\tlearn: 0.4286319\ttest: 0.4426418\tbest: 0.4426418 (20)\ttotal: 1.21s\tremaining: 56.2s\n",
      "40:\tlearn: 0.4006740\ttest: 0.4224243\tbest: 0.4224243 (40)\ttotal: 2.27s\tremaining: 53.2s\n",
      "60:\tlearn: 0.3908619\ttest: 0.4187190\tbest: 0.4187190 (60)\ttotal: 3.09s\tremaining: 47.6s\n",
      "80:\tlearn: 0.3795637\ttest: 0.4143556\tbest: 0.4143556 (80)\ttotal: 3.92s\tremaining: 44.5s\n",
      "100:\tlearn: 0.3655047\ttest: 0.4084590\tbest: 0.4084590 (100)\ttotal: 4.86s\tremaining: 43.3s\n",
      "120:\tlearn: 0.3516161\ttest: 0.4062774\tbest: 0.4062774 (120)\ttotal: 6.17s\tremaining: 44.8s\n",
      "140:\tlearn: 0.3340691\ttest: 0.4043454\tbest: 0.4043454 (140)\ttotal: 7.63s\tremaining: 46.5s\n",
      "160:\tlearn: 0.3185344\ttest: 0.4038973\tbest: 0.4038973 (160)\ttotal: 9.15s\tremaining: 47.7s\n",
      "180:\tlearn: 0.3021198\ttest: 0.4001843\tbest: 0.4001843 (180)\ttotal: 10.7s\tremaining: 48.3s\n",
      "200:\tlearn: 0.2884311\ttest: 0.4040137\tbest: 0.4001843 (180)\ttotal: 12.1s\tremaining: 48.2s\n",
      "220:\tlearn: 0.2782096\ttest: 0.4023944\tbest: 0.4001843 (180)\ttotal: 13.6s\tremaining: 48.1s\n",
      "240:\tlearn: 0.2702596\ttest: 0.4033453\tbest: 0.4001843 (180)\ttotal: 15.1s\tremaining: 47.7s\n",
      "260:\tlearn: 0.2605984\ttest: 0.4035287\tbest: 0.4001843 (180)\ttotal: 16.6s\tremaining: 47.1s\n",
      "280:\tlearn: 0.2534848\ttest: 0.4072514\tbest: 0.4001843 (180)\ttotal: 18.1s\tremaining: 46.3s\n",
      "300:\tlearn: 0.2461411\ttest: 0.4088292\tbest: 0.4001843 (180)\ttotal: 19.6s\tremaining: 45.4s\n",
      "320:\tlearn: 0.2397313\ttest: 0.4070526\tbest: 0.4001843 (180)\ttotal: 21.1s\tremaining: 44.7s\n",
      "340:\tlearn: 0.2332843\ttest: 0.4078289\tbest: 0.4001843 (180)\ttotal: 22.9s\tremaining: 44.2s\n",
      "360:\tlearn: 0.2282656\ttest: 0.4082880\tbest: 0.4001843 (180)\ttotal: 25s\tremaining: 44.3s\n",
      "380:\tlearn: 0.2215002\ttest: 0.4076127\tbest: 0.4001843 (180)\ttotal: 27.3s\tremaining: 44.3s\n",
      "400:\tlearn: 0.2161983\ttest: 0.4093641\tbest: 0.4001843 (180)\ttotal: 28.8s\tremaining: 43.1s\n",
      "420:\tlearn: 0.2123176\ttest: 0.4103047\tbest: 0.4001843 (180)\ttotal: 30.4s\tremaining: 41.8s\n",
      "440:\tlearn: 0.2082291\ttest: 0.4119468\tbest: 0.4001843 (180)\ttotal: 31.9s\tremaining: 40.4s\n",
      "460:\tlearn: 0.2020745\ttest: 0.4128666\tbest: 0.4001843 (180)\ttotal: 33.3s\tremaining: 38.9s\n",
      "480:\tlearn: 0.1977132\ttest: 0.4135832\tbest: 0.4001843 (180)\ttotal: 35s\tremaining: 37.8s\n",
      "500:\tlearn: 0.1939191\ttest: 0.4131239\tbest: 0.4001843 (180)\ttotal: 36.5s\tremaining: 36.3s\n",
      "520:\tlearn: 0.1901603\ttest: 0.4147949\tbest: 0.4001843 (180)\ttotal: 37.9s\tremaining: 34.9s\n",
      "540:\tlearn: 0.1861586\ttest: 0.4147108\tbest: 0.4001843 (180)\ttotal: 39.5s\tremaining: 33.5s\n",
      "560:\tlearn: 0.1820179\ttest: 0.4156840\tbest: 0.4001843 (180)\ttotal: 41s\tremaining: 32.1s\n",
      "580:\tlearn: 0.1772390\ttest: 0.4170254\tbest: 0.4001843 (180)\ttotal: 42.5s\tremaining: 30.6s\n",
      "600:\tlearn: 0.1737072\ttest: 0.4175260\tbest: 0.4001843 (180)\ttotal: 44s\tremaining: 29.2s\n",
      "620:\tlearn: 0.1689155\ttest: 0.4174525\tbest: 0.4001843 (180)\ttotal: 45.5s\tremaining: 27.8s\n",
      "640:\tlearn: 0.1666650\ttest: 0.4196194\tbest: 0.4001843 (180)\ttotal: 47s\tremaining: 26.3s\n",
      "660:\tlearn: 0.1631153\ttest: 0.4190172\tbest: 0.4001843 (180)\ttotal: 48.4s\tremaining: 24.8s\n",
      "680:\tlearn: 0.1593200\ttest: 0.4198576\tbest: 0.4001843 (180)\ttotal: 49.9s\tremaining: 23.4s\n",
      "700:\tlearn: 0.1551483\ttest: 0.4210405\tbest: 0.4001843 (180)\ttotal: 51.4s\tremaining: 21.9s\n",
      "720:\tlearn: 0.1524942\ttest: 0.4224794\tbest: 0.4001843 (180)\ttotal: 52.9s\tremaining: 20.5s\n",
      "740:\tlearn: 0.1502984\ttest: 0.4235485\tbest: 0.4001843 (180)\ttotal: 54.4s\tremaining: 19s\n",
      "760:\tlearn: 0.1474076\ttest: 0.4246158\tbest: 0.4001843 (180)\ttotal: 55.8s\tremaining: 17.5s\n",
      "780:\tlearn: 0.1446821\ttest: 0.4266009\tbest: 0.4001843 (180)\ttotal: 57.3s\tremaining: 16.1s\n",
      "800:\tlearn: 0.1420397\ttest: 0.4274868\tbest: 0.4001843 (180)\ttotal: 58.8s\tremaining: 14.6s\n",
      "820:\tlearn: 0.1387476\ttest: 0.4308122\tbest: 0.4001843 (180)\ttotal: 1m\tremaining: 13.2s\n",
      "840:\tlearn: 0.1366070\ttest: 0.4322711\tbest: 0.4001843 (180)\ttotal: 1m 2s\tremaining: 11.8s\n",
      "860:\tlearn: 0.1346751\ttest: 0.4317161\tbest: 0.4001843 (180)\ttotal: 1m 3s\tremaining: 10.3s\n",
      "880:\tlearn: 0.1327057\ttest: 0.4341310\tbest: 0.4001843 (180)\ttotal: 1m 5s\tremaining: 8.86s\n",
      "900:\tlearn: 0.1305135\ttest: 0.4358505\tbest: 0.4001843 (180)\ttotal: 1m 7s\tremaining: 7.38s\n",
      "920:\tlearn: 0.1287280\ttest: 0.4388441\tbest: 0.4001843 (180)\ttotal: 1m 8s\tremaining: 5.89s\n",
      "940:\tlearn: 0.1268884\ttest: 0.4395514\tbest: 0.4001843 (180)\ttotal: 1m 10s\tremaining: 4.41s\n",
      "960:\tlearn: 0.1240322\ttest: 0.4384322\tbest: 0.4001843 (180)\ttotal: 1m 11s\tremaining: 2.91s\n",
      "980:\tlearn: 0.1223736\ttest: 0.4415237\tbest: 0.4001843 (180)\ttotal: 1m 13s\tremaining: 1.43s\n",
      "999:\tlearn: 0.1209845\ttest: 0.4413155\tbest: 0.4001843 (180)\ttotal: 1m 15s\tremaining: 0us\n",
      "\n",
      "bestTest = 0.4001842749\n",
      "bestIteration = 180\n",
      "\n",
      "Shrink model to first 181 iterations.\n"
     ]
    },
    {
     "data": {
      "text/plain": [
       "<catboost.core.CatBoostClassifier at 0x25aa55fc2e8>"
      ]
     },
     "execution_count": 35,
     "metadata": {},
     "output_type": "execute_result"
    }
   ],
   "source": [
    "catboost_model.fit(X_train, y_train,eval_set=(X_val, y_val),cat_features=cate_features_index)"
   ]
  },
  {
   "cell_type": "code",
   "execution_count": 36,
   "metadata": {},
   "outputs": [
    {
     "name": "stdout",
     "output_type": "stream",
     "text": [
      "0:\tlearn: 0.6766921\ttest: 0.6771108\tbest: 0.6771108 (0)\ttotal: 4.07s\tremaining: 1h 7m 48s\n",
      "20:\tlearn: 0.5024130\ttest: 0.5103828\tbest: 0.5103828 (20)\ttotal: 1m 9s\tremaining: 54m 9s\n",
      "40:\tlearn: 0.4547821\ttest: 0.4699913\tbest: 0.4699913 (40)\ttotal: 2m 13s\tremaining: 51m 57s\n",
      "60:\tlearn: 0.4325228\ttest: 0.4527157\tbest: 0.4527157 (60)\ttotal: 3m 16s\tremaining: 50m 19s\n",
      "80:\tlearn: 0.4188960\ttest: 0.4427315\tbest: 0.4427315 (80)\ttotal: 4m 19s\tremaining: 49m 6s\n",
      "100:\tlearn: 0.4084186\ttest: 0.4354614\tbest: 0.4354614 (100)\ttotal: 5m 21s\tremaining: 47m 40s\n",
      "120:\tlearn: 0.4020894\ttest: 0.4326019\tbest: 0.4326019 (120)\ttotal: 6m 24s\tremaining: 46m 32s\n",
      "140:\tlearn: 0.3967853\ttest: 0.4304271\tbest: 0.4304271 (140)\ttotal: 7m 26s\tremaining: 45m 17s\n",
      "160:\tlearn: 0.3906035\ttest: 0.4279699\tbest: 0.4279699 (160)\ttotal: 8m 31s\tremaining: 44m 23s\n",
      "180:\tlearn: 0.3857642\ttest: 0.4255557\tbest: 0.4255557 (180)\ttotal: 9m 33s\tremaining: 43m 13s\n",
      "200:\tlearn: 0.3816629\ttest: 0.4247608\tbest: 0.4247608 (200)\ttotal: 10m 33s\tremaining: 41m 59s\n",
      "220:\tlearn: 0.3764479\ttest: 0.4235429\tbest: 0.4235429 (220)\ttotal: 11m 34s\tremaining: 40m 48s\n",
      "240:\tlearn: 0.3697898\ttest: 0.4225673\tbest: 0.4225673 (240)\ttotal: 12m 39s\tremaining: 39m 50s\n",
      "260:\tlearn: 0.3626976\ttest: 0.4219117\tbest: 0.4219117 (260)\ttotal: 13m 43s\tremaining: 38m 51s\n",
      "280:\tlearn: 0.3544400\ttest: 0.4204076\tbest: 0.4204076 (280)\ttotal: 14m 50s\tremaining: 37m 57s\n",
      "300:\tlearn: 0.3465946\ttest: 0.4199337\tbest: 0.4199337 (300)\ttotal: 15m 58s\tremaining: 37m 6s\n",
      "320:\tlearn: 0.3386575\ttest: 0.4198245\tbest: 0.4198245 (320)\ttotal: 17m 10s\tremaining: 36m 19s\n",
      "340:\tlearn: 0.3317388\ttest: 0.4186749\tbest: 0.4186749 (340)\ttotal: 18m 19s\tremaining: 35m 24s\n",
      "360:\tlearn: 0.3250419\ttest: 0.4185934\tbest: 0.4185934 (360)\ttotal: 19m 28s\tremaining: 34m 27s\n",
      "380:\tlearn: 0.3187168\ttest: 0.4184560\tbest: 0.4184560 (380)\ttotal: 20m 34s\tremaining: 33m 26s\n",
      "400:\tlearn: 0.3125859\ttest: 0.4197180\tbest: 0.4184560 (380)\ttotal: 21m 42s\tremaining: 32m 25s\n",
      "420:\tlearn: 0.3072508\ttest: 0.4202290\tbest: 0.4184560 (380)\ttotal: 22m 49s\tremaining: 31m 23s\n",
      "440:\tlearn: 0.3017000\ttest: 0.4201975\tbest: 0.4184560 (380)\ttotal: 24m 4s\tremaining: 30m 30s\n",
      "460:\tlearn: 0.2965308\ttest: 0.4204845\tbest: 0.4184560 (380)\ttotal: 25m 33s\tremaining: 29m 53s\n",
      "480:\tlearn: 0.2921335\ttest: 0.4210398\tbest: 0.4184560 (380)\ttotal: 26m 46s\tremaining: 28m 53s\n",
      "500:\tlearn: 0.2872104\ttest: 0.4211181\tbest: 0.4184560 (380)\ttotal: 27m 55s\tremaining: 27m 49s\n",
      "520:\tlearn: 0.2832403\ttest: 0.4212606\tbest: 0.4184560 (380)\ttotal: 29m 4s\tremaining: 26m 44s\n",
      "540:\tlearn: 0.2798194\ttest: 0.4220863\tbest: 0.4184560 (380)\ttotal: 30m 14s\tremaining: 25m 39s\n",
      "560:\tlearn: 0.2760842\ttest: 0.4226304\tbest: 0.4184560 (380)\ttotal: 31m 23s\tremaining: 24m 33s\n",
      "580:\tlearn: 0.2726588\ttest: 0.4231486\tbest: 0.4184560 (380)\ttotal: 32m 43s\tremaining: 23m 35s\n",
      "600:\tlearn: 0.2689094\ttest: 0.4229110\tbest: 0.4184560 (380)\ttotal: 33m 52s\tremaining: 22m 29s\n",
      "620:\tlearn: 0.2656036\ttest: 0.4231290\tbest: 0.4184560 (380)\ttotal: 35m 3s\tremaining: 21m 23s\n",
      "640:\tlearn: 0.2626350\ttest: 0.4238961\tbest: 0.4184560 (380)\ttotal: 36m 11s\tremaining: 20m 16s\n",
      "660:\tlearn: 0.2592299\ttest: 0.4241349\tbest: 0.4184560 (380)\ttotal: 37m 22s\tremaining: 19m 9s\n",
      "680:\tlearn: 0.2559116\ttest: 0.4242795\tbest: 0.4184560 (380)\ttotal: 38m 30s\tremaining: 18m 2s\n",
      "700:\tlearn: 0.2532386\ttest: 0.4244133\tbest: 0.4184560 (380)\ttotal: 39m 39s\tremaining: 16m 54s\n",
      "720:\tlearn: 0.2499858\ttest: 0.4240164\tbest: 0.4184560 (380)\ttotal: 40m 48s\tremaining: 15m 47s\n",
      "740:\tlearn: 0.2474340\ttest: 0.4243100\tbest: 0.4184560 (380)\ttotal: 41m 57s\tremaining: 14m 39s\n",
      "760:\tlearn: 0.2448972\ttest: 0.4252995\tbest: 0.4184560 (380)\ttotal: 43m 4s\tremaining: 13m 31s\n",
      "780:\tlearn: 0.2421001\ttest: 0.4254556\tbest: 0.4184560 (380)\ttotal: 44m 13s\tremaining: 12m 24s\n",
      "800:\tlearn: 0.2397105\ttest: 0.4261378\tbest: 0.4184560 (380)\ttotal: 45m 25s\tremaining: 11m 17s\n",
      "820:\tlearn: 0.2371215\ttest: 0.4266442\tbest: 0.4184560 (380)\ttotal: 46m 33s\tremaining: 10m 9s\n",
      "840:\tlearn: 0.2346050\ttest: 0.4269507\tbest: 0.4184560 (380)\ttotal: 47m 48s\tremaining: 9m 2s\n",
      "860:\tlearn: 0.2322961\ttest: 0.4273250\tbest: 0.4184560 (380)\ttotal: 48m 59s\tremaining: 7m 54s\n",
      "880:\tlearn: 0.2300171\ttest: 0.4277729\tbest: 0.4184560 (380)\ttotal: 50m 11s\tremaining: 6m 46s\n",
      "900:\tlearn: 0.2279205\ttest: 0.4277598\tbest: 0.4184560 (380)\ttotal: 51m 20s\tremaining: 5m 38s\n",
      "920:\tlearn: 0.2254729\ttest: 0.4279388\tbest: 0.4184560 (380)\ttotal: 52m 29s\tremaining: 4m 30s\n",
      "940:\tlearn: 0.2230711\ttest: 0.4291034\tbest: 0.4184560 (380)\ttotal: 53m 35s\tremaining: 3m 21s\n",
      "960:\tlearn: 0.2207370\ttest: 0.4297002\tbest: 0.4184560 (380)\ttotal: 54m 45s\tremaining: 2m 13s\n",
      "980:\tlearn: 0.2184542\ttest: 0.4300000\tbest: 0.4184560 (380)\ttotal: 55m 55s\tremaining: 1m 4s\n",
      "999:\tlearn: 0.2165142\ttest: 0.4310945\tbest: 0.4184560 (380)\ttotal: 57m 1s\tremaining: 0us\n"
     ]
    }
   ],
   "source": [
    "cv_data = cv(Pool(X_train,y_train,cat_features=cate_features_index),catboost_model.get_params(),fold_count=10) "
   ]
  },
  {
   "cell_type": "code",
   "execution_count": 37,
   "metadata": {},
   "outputs": [],
   "source": [
    "from sklearn.metrics.classification import accuracy_score, log_loss\n",
    "from sklearn.metrics import confusion_matrix,roc_auc_score,mean_squared_error,f1_score,recall_score,precision_score\n",
    "\n",
    "def model_evalution(model,x_train,y_train,x_test,y_test):\n",
    "    print(\"####################### model Evalution started #######################\")\n",
    "    train_pre = model.predict(x_train)\n",
    "    test_pre = model.predict(x_test)\n",
    "    train_pro = model.predict_proba(x_train)\n",
    "    test_pro = model.predict_proba(x_test)\n",
    "\n",
    "    print(\"Train Accuracy: {0} \\t Test Accuracy: {1}\".format(accuracy_score(y_train, train_pre),accuracy_score(y_test,test_pre)))\n",
    "    print(\"Train Loss: {0} \\t Test Loss: {1}\".format(mean_squared_error(y_train, train_pre),mean_squared_error(y_test,test_pre)))\n",
    "    print(\"Train AUC: {0} \\t Test AUC: {1}\".format(roc_auc_score(y_train, train_pro[:,1]),roc_auc_score(y_test,test_pro[:,1])))\n",
    "    print(\"Train F1: {0} \\t Test F1: {1}\".format(f1_score(y_train, train_pre),f1_score(y_test,test_pre)))\n",
    "    print(\"Train recall: {0} \\t Test recall: {1}\".format(recall_score(y_train, train_pre),recall_score(y_test,test_pre)))\n",
    "    print(\"Train precision: {0} \\t Test Precision: {1}\".format(precision_score(y_train, train_pre),precision_score(y_test,test_pre)))\n",
    "    print(\"Train Confusion Matrix: \\n{0} \\n Test Confusion Matrix: \\n{1}\".format(confusion_matrix(y_train, train_pre),confusion_matrix(y_test,test_pre)))\n",
    "  #f1_score"
   ]
  },
  {
   "cell_type": "code",
   "execution_count": 38,
   "metadata": {},
   "outputs": [
    {
     "name": "stdout",
     "output_type": "stream",
     "text": [
      "####################### model Evalution started #######################\n",
      "Train Accuracy: 0.9229534510433387 \t Test Accuracy: 0.8097014925373134\n",
      "Train Loss: 0.07704654895666131 \t Test Loss: 0.19029850746268656\n",
      "Train AUC: 0.9845337485643608 \t Test AUC: 0.8954495897171055\n",
      "Train F1: 0.8938053097345133 \t Test F1: 0.7487684729064039\n",
      "Train recall: 0.8744588744588745 \t Test recall: 0.6846846846846847\n",
      "Train precision: 0.9140271493212669 \t Test Precision: 0.8260869565217391\n",
      "Train Confusion Matrix: \n",
      "[[373  19]\n",
      " [ 29 202]] \n",
      " Test Confusion Matrix: \n",
      "[[141  16]\n",
      " [ 35  76]]\n"
     ]
    }
   ],
   "source": [
    "model_evalution(catboost_model,X_train, y_train,X_val,y_val)"
   ]
  },
  {
   "cell_type": "code",
   "execution_count": 39,
   "metadata": {},
   "outputs": [],
   "source": [
    "test_y =catboost_model.predict(test_dataset)"
   ]
  },
  {
   "cell_type": "code",
   "execution_count": 41,
   "metadata": {},
   "outputs": [],
   "source": [
    "submission =pd.DataFrame({'PassengerId':test_passengers.values ,'Survived':test_y}) \n",
    "import datetime\n",
    "FORMAT = '%Y%m%d%H%M%S'\n",
    "timestamp=datetime.datetime.now().strftime(FORMAT)\n",
    "filename =\"Titanic_CatBoost\"+timestamp+\"_out.csv\"\n",
    "submission.to_csv(filename,index=False)"
   ]
  },
  {
   "cell_type": "code",
   "execution_count": 43,
   "metadata": {},
   "outputs": [
    {
     "name": "stdout",
     "output_type": "stream",
     "text": [
      "{'depth': [1, 1, 2, 3, 4, 5, 6, 7, 8, 9, 10],\n",
      " 'iterations': [100, 233, 366, 500],\n",
      " 'l2_leaf_reg': [1, 2, 3, 5, 8],\n",
      " 'learning_rate': [0.005, 0.03, 0.1]}\n"
     ]
    }
   ],
   "source": [
    "from sklearn.model_selection import RandomizedSearchCV\n",
    "from pprint import pprint\n",
    "# Number of trees \n",
    "iterations = [int(x) for x in np.linspace(start = 100, stop = 500, num = 4)]\n",
    "# Maximum number of levels in tree\n",
    "depth = [int(x) for x in np.linspace(1, 10, num = 11)]\n",
    " \n",
    "# Minimum number of samples required to split a node\n",
    "l2_leaf_reg = [1,2,3,5,8]\n",
    "# Minimum number of samples required at each leaf node\n",
    "loss_function = ['Logloss','CrossEntropy']\n",
    "# Method of selecting samples for training each tree\n",
    "learning_rate =[0.005,0.03,0.1]\n",
    "border_count =[32,]\n",
    "ctr_border_count=[50,]\n",
    "thread_count=4\n",
    "eval_metric =[\"Precision\"]\n",
    "params = {'depth':depth,\n",
    "          'iterations':iterations,\n",
    "          'learning_rate':learning_rate, \n",
    "          'l2_leaf_reg':l2_leaf_reg,\n",
    "          #'border_count':border_count,\n",
    "          #'ctr_border_count':ctr_border_count,\n",
    "          #'thread_count':thread_count,\n",
    "          #'eval_metric':eval_metric,\n",
    "         }\n",
    "pprint(params)"
   ]
  },
  {
   "cell_type": "code",
   "execution_count": 44,
   "metadata": {},
   "outputs": [],
   "source": [
    "from sklearn.model_selection import RandomizedSearchCV"
   ]
  },
  {
   "cell_type": "code",
   "execution_count": 45,
   "metadata": {
    "scrolled": false
   },
   "outputs": [
    {
     "ename": "CatBoostError",
     "evalue": "Bad value for num_feature[non_default_doc_idx=0,feature_idx=1]=\"E67\": Cannot convert 'b'E67'' to float",
     "output_type": "error",
     "traceback": [
      "\u001b[1;31m---------------------------------------------------------------------------\u001b[0m",
      "\u001b[1;31m_RemoteTraceback\u001b[0m                          Traceback (most recent call last)",
      "\u001b[1;31m_RemoteTraceback\u001b[0m: \n\"\"\"\nTraceback (most recent call last):\n  File \"_catboost.pyx\", line 1983, in _catboost.get_float_feature\n  File \"_catboost.pyx\", line 1298, in _catboost._FloatOrNan\n  File \"_catboost.pyx\", line 1158, in _catboost._FloatOrNanFromString\nTypeError: Cannot convert 'b'E67'' to float\n\nDuring handling of the above exception, another exception occurred:\n\nTraceback (most recent call last):\n  File \"D:\\Anaconda3\\lib\\site-packages\\joblib\\externals\\loky\\process_executor.py\", line 418, in _process_worker\n    r = call_item()\n  File \"D:\\Anaconda3\\lib\\site-packages\\joblib\\externals\\loky\\process_executor.py\", line 272, in __call__\n    return self.fn(*self.args, **self.kwargs)\n  File \"D:\\Anaconda3\\lib\\site-packages\\joblib\\_parallel_backends.py\", line 567, in __call__\n    return self.func(*args, **kwargs)\n  File \"D:\\Anaconda3\\lib\\site-packages\\joblib\\parallel.py\", line 225, in __call__\n    for func, args, kwargs in self.items]\n  File \"D:\\Anaconda3\\lib\\site-packages\\joblib\\parallel.py\", line 225, in <listcomp>\n    for func, args, kwargs in self.items]\n  File \"D:\\Anaconda3\\lib\\site-packages\\sklearn\\model_selection\\_validation.py\", line 514, in _fit_and_score\n    estimator.fit(X_train, y_train, **fit_params)\n  File \"D:\\Anaconda3\\lib\\site-packages\\catboost\\core.py\", line 3689, in fit\n    silent, early_stopping_rounds, save_snapshot, snapshot_file, snapshot_interval, init_model)\n  File \"D:\\Anaconda3\\lib\\site-packages\\catboost\\core.py\", line 1600, in _fit\n    save_snapshot, snapshot_file, snapshot_interval, init_model\n  File \"D:\\Anaconda3\\lib\\site-packages\\catboost\\core.py\", line 1495, in _prepare_train_params\n    train_pool = _build_train_pool(X, y, cat_features, pairs, sample_weight, group_id, group_weight, subgroup_id, pairs_weight, baseline, column_description)\n  File \"D:\\Anaconda3\\lib\\site-packages\\catboost\\core.py\", line 908, in _build_train_pool\n    group_weight=group_weight, subgroup_id=subgroup_id, pairs_weight=pairs_weight, baseline=baseline)\n  File \"D:\\Anaconda3\\lib\\site-packages\\catboost\\core.py\", line 332, in __init__\n    self._init(data, label, cat_features, pairs, weight, group_id, group_weight, subgroup_id, pairs_weight, baseline, feature_names)\n  File \"D:\\Anaconda3\\lib\\site-packages\\catboost\\core.py\", line 889, in _init\n    self._init_pool(data, label, cat_features, pairs, weight, group_id, group_weight, subgroup_id, pairs_weight, baseline, feature_names)\n  File \"_catboost.pyx\", line 3130, in _catboost._PoolBase._init_pool\n  File \"_catboost.pyx\", line 3163, in _catboost._PoolBase._init_pool\n  File \"_catboost.pyx\", line 3021, in _catboost._PoolBase._init_features_order_layout_pool\n  File \"_catboost.pyx\", line 2299, in _catboost._set_features_order_data_pd_data_frame\n  File \"_catboost.pyx\", line 2022, in _catboost.create_num_factor_data\n  File \"_catboost.pyx\", line 1985, in _catboost.get_float_feature\n_catboost.CatBoostError: Bad value for num_feature[non_default_doc_idx=0,feature_idx=1]=\"E67\": Cannot convert 'b'E67'' to float\n\"\"\"",
      "\nThe above exception was the direct cause of the following exception:\n",
      "\u001b[1;31mCatBoostError\u001b[0m                             Traceback (most recent call last)",
      "\u001b[1;32m<ipython-input-45-46a493fa9263>\u001b[0m in \u001b[0;36m<module>\u001b[1;34m\u001b[0m\n\u001b[0;32m      3\u001b[0m randm = RandomizedSearchCV(estimator=cb_model, param_distributions = params, \n\u001b[0;32m      4\u001b[0m                                cv = 3, n_iter = 10, n_jobs=-1)\n\u001b[1;32m----> 5\u001b[1;33m \u001b[0mrandm\u001b[0m\u001b[1;33m.\u001b[0m\u001b[0mfit\u001b[0m\u001b[1;33m(\u001b[0m\u001b[0mX_train\u001b[0m\u001b[1;33m,\u001b[0m \u001b[0my_train\u001b[0m\u001b[1;33m)\u001b[0m\u001b[1;33m\u001b[0m\u001b[1;33m\u001b[0m\u001b[0m\n\u001b[0m",
      "\u001b[1;32mD:\\Anaconda3\\lib\\site-packages\\sklearn\\model_selection\\_search.py\u001b[0m in \u001b[0;36mfit\u001b[1;34m(self, X, y, groups, **fit_params)\u001b[0m\n\u001b[0;32m    685\u001b[0m                 \u001b[1;32mreturn\u001b[0m \u001b[0mresults\u001b[0m\u001b[1;33m\u001b[0m\u001b[1;33m\u001b[0m\u001b[0m\n\u001b[0;32m    686\u001b[0m \u001b[1;33m\u001b[0m\u001b[0m\n\u001b[1;32m--> 687\u001b[1;33m             \u001b[0mself\u001b[0m\u001b[1;33m.\u001b[0m\u001b[0m_run_search\u001b[0m\u001b[1;33m(\u001b[0m\u001b[0mevaluate_candidates\u001b[0m\u001b[1;33m)\u001b[0m\u001b[1;33m\u001b[0m\u001b[1;33m\u001b[0m\u001b[0m\n\u001b[0m\u001b[0;32m    688\u001b[0m \u001b[1;33m\u001b[0m\u001b[0m\n\u001b[0;32m    689\u001b[0m         \u001b[1;31m# For multi-metric evaluation, store the best_index_, best_params_ and\u001b[0m\u001b[1;33m\u001b[0m\u001b[1;33m\u001b[0m\u001b[1;33m\u001b[0m\u001b[0m\n",
      "\u001b[1;32mD:\\Anaconda3\\lib\\site-packages\\sklearn\\model_selection\\_search.py\u001b[0m in \u001b[0;36m_run_search\u001b[1;34m(self, evaluate_candidates)\u001b[0m\n\u001b[0;32m   1466\u001b[0m         evaluate_candidates(ParameterSampler(\n\u001b[0;32m   1467\u001b[0m             \u001b[0mself\u001b[0m\u001b[1;33m.\u001b[0m\u001b[0mparam_distributions\u001b[0m\u001b[1;33m,\u001b[0m \u001b[0mself\u001b[0m\u001b[1;33m.\u001b[0m\u001b[0mn_iter\u001b[0m\u001b[1;33m,\u001b[0m\u001b[1;33m\u001b[0m\u001b[1;33m\u001b[0m\u001b[0m\n\u001b[1;32m-> 1468\u001b[1;33m             random_state=self.random_state))\n\u001b[0m",
      "\u001b[1;32mD:\\Anaconda3\\lib\\site-packages\\sklearn\\model_selection\\_search.py\u001b[0m in \u001b[0;36mevaluate_candidates\u001b[1;34m(candidate_params)\u001b[0m\n\u001b[0;32m    664\u001b[0m                                \u001b[1;32mfor\u001b[0m \u001b[0mparameters\u001b[0m\u001b[1;33m,\u001b[0m \u001b[1;33m(\u001b[0m\u001b[0mtrain\u001b[0m\u001b[1;33m,\u001b[0m \u001b[0mtest\u001b[0m\u001b[1;33m)\u001b[0m\u001b[1;33m\u001b[0m\u001b[1;33m\u001b[0m\u001b[0m\n\u001b[0;32m    665\u001b[0m                                in product(candidate_params,\n\u001b[1;32m--> 666\u001b[1;33m                                           cv.split(X, y, groups)))\n\u001b[0m\u001b[0;32m    667\u001b[0m \u001b[1;33m\u001b[0m\u001b[0m\n\u001b[0;32m    668\u001b[0m                 \u001b[1;32mif\u001b[0m \u001b[0mlen\u001b[0m\u001b[1;33m(\u001b[0m\u001b[0mout\u001b[0m\u001b[1;33m)\u001b[0m \u001b[1;33m<\u001b[0m \u001b[1;36m1\u001b[0m\u001b[1;33m:\u001b[0m\u001b[1;33m\u001b[0m\u001b[1;33m\u001b[0m\u001b[0m\n",
      "\u001b[1;32mD:\\Anaconda3\\lib\\site-packages\\joblib\\parallel.py\u001b[0m in \u001b[0;36m__call__\u001b[1;34m(self, iterable)\u001b[0m\n\u001b[0;32m    932\u001b[0m \u001b[1;33m\u001b[0m\u001b[0m\n\u001b[0;32m    933\u001b[0m             \u001b[1;32mwith\u001b[0m \u001b[0mself\u001b[0m\u001b[1;33m.\u001b[0m\u001b[0m_backend\u001b[0m\u001b[1;33m.\u001b[0m\u001b[0mretrieval_context\u001b[0m\u001b[1;33m(\u001b[0m\u001b[1;33m)\u001b[0m\u001b[1;33m:\u001b[0m\u001b[1;33m\u001b[0m\u001b[1;33m\u001b[0m\u001b[0m\n\u001b[1;32m--> 934\u001b[1;33m                 \u001b[0mself\u001b[0m\u001b[1;33m.\u001b[0m\u001b[0mretrieve\u001b[0m\u001b[1;33m(\u001b[0m\u001b[1;33m)\u001b[0m\u001b[1;33m\u001b[0m\u001b[1;33m\u001b[0m\u001b[0m\n\u001b[0m\u001b[0;32m    935\u001b[0m             \u001b[1;31m# Make sure that we get a last message telling us we are done\u001b[0m\u001b[1;33m\u001b[0m\u001b[1;33m\u001b[0m\u001b[1;33m\u001b[0m\u001b[0m\n\u001b[0;32m    936\u001b[0m             \u001b[0melapsed_time\u001b[0m \u001b[1;33m=\u001b[0m \u001b[0mtime\u001b[0m\u001b[1;33m.\u001b[0m\u001b[0mtime\u001b[0m\u001b[1;33m(\u001b[0m\u001b[1;33m)\u001b[0m \u001b[1;33m-\u001b[0m \u001b[0mself\u001b[0m\u001b[1;33m.\u001b[0m\u001b[0m_start_time\u001b[0m\u001b[1;33m\u001b[0m\u001b[1;33m\u001b[0m\u001b[0m\n",
      "\u001b[1;32mD:\\Anaconda3\\lib\\site-packages\\joblib\\parallel.py\u001b[0m in \u001b[0;36mretrieve\u001b[1;34m(self)\u001b[0m\n\u001b[0;32m    831\u001b[0m             \u001b[1;32mtry\u001b[0m\u001b[1;33m:\u001b[0m\u001b[1;33m\u001b[0m\u001b[1;33m\u001b[0m\u001b[0m\n\u001b[0;32m    832\u001b[0m                 \u001b[1;32mif\u001b[0m \u001b[0mgetattr\u001b[0m\u001b[1;33m(\u001b[0m\u001b[0mself\u001b[0m\u001b[1;33m.\u001b[0m\u001b[0m_backend\u001b[0m\u001b[1;33m,\u001b[0m \u001b[1;34m'supports_timeout'\u001b[0m\u001b[1;33m,\u001b[0m \u001b[1;32mFalse\u001b[0m\u001b[1;33m)\u001b[0m\u001b[1;33m:\u001b[0m\u001b[1;33m\u001b[0m\u001b[1;33m\u001b[0m\u001b[0m\n\u001b[1;32m--> 833\u001b[1;33m                     \u001b[0mself\u001b[0m\u001b[1;33m.\u001b[0m\u001b[0m_output\u001b[0m\u001b[1;33m.\u001b[0m\u001b[0mextend\u001b[0m\u001b[1;33m(\u001b[0m\u001b[0mjob\u001b[0m\u001b[1;33m.\u001b[0m\u001b[0mget\u001b[0m\u001b[1;33m(\u001b[0m\u001b[0mtimeout\u001b[0m\u001b[1;33m=\u001b[0m\u001b[0mself\u001b[0m\u001b[1;33m.\u001b[0m\u001b[0mtimeout\u001b[0m\u001b[1;33m)\u001b[0m\u001b[1;33m)\u001b[0m\u001b[1;33m\u001b[0m\u001b[1;33m\u001b[0m\u001b[0m\n\u001b[0m\u001b[0;32m    834\u001b[0m                 \u001b[1;32melse\u001b[0m\u001b[1;33m:\u001b[0m\u001b[1;33m\u001b[0m\u001b[1;33m\u001b[0m\u001b[0m\n\u001b[0;32m    835\u001b[0m                     \u001b[0mself\u001b[0m\u001b[1;33m.\u001b[0m\u001b[0m_output\u001b[0m\u001b[1;33m.\u001b[0m\u001b[0mextend\u001b[0m\u001b[1;33m(\u001b[0m\u001b[0mjob\u001b[0m\u001b[1;33m.\u001b[0m\u001b[0mget\u001b[0m\u001b[1;33m(\u001b[0m\u001b[1;33m)\u001b[0m\u001b[1;33m)\u001b[0m\u001b[1;33m\u001b[0m\u001b[1;33m\u001b[0m\u001b[0m\n",
      "\u001b[1;32mD:\\Anaconda3\\lib\\site-packages\\joblib\\_parallel_backends.py\u001b[0m in \u001b[0;36mwrap_future_result\u001b[1;34m(future, timeout)\u001b[0m\n\u001b[0;32m    519\u001b[0m         AsyncResults.get from multiprocessing.\"\"\"\n\u001b[0;32m    520\u001b[0m         \u001b[1;32mtry\u001b[0m\u001b[1;33m:\u001b[0m\u001b[1;33m\u001b[0m\u001b[1;33m\u001b[0m\u001b[0m\n\u001b[1;32m--> 521\u001b[1;33m             \u001b[1;32mreturn\u001b[0m \u001b[0mfuture\u001b[0m\u001b[1;33m.\u001b[0m\u001b[0mresult\u001b[0m\u001b[1;33m(\u001b[0m\u001b[0mtimeout\u001b[0m\u001b[1;33m=\u001b[0m\u001b[0mtimeout\u001b[0m\u001b[1;33m)\u001b[0m\u001b[1;33m\u001b[0m\u001b[1;33m\u001b[0m\u001b[0m\n\u001b[0m\u001b[0;32m    522\u001b[0m         \u001b[1;32mexcept\u001b[0m \u001b[0mLokyTimeoutError\u001b[0m\u001b[1;33m:\u001b[0m\u001b[1;33m\u001b[0m\u001b[1;33m\u001b[0m\u001b[0m\n\u001b[0;32m    523\u001b[0m             \u001b[1;32mraise\u001b[0m \u001b[0mTimeoutError\u001b[0m\u001b[1;33m(\u001b[0m\u001b[1;33m)\u001b[0m\u001b[1;33m\u001b[0m\u001b[1;33m\u001b[0m\u001b[0m\n",
      "\u001b[1;32mD:\\Anaconda3\\lib\\concurrent\\futures\\_base.py\u001b[0m in \u001b[0;36mresult\u001b[1;34m(self, timeout)\u001b[0m\n\u001b[0;32m    430\u001b[0m                 \u001b[1;32mraise\u001b[0m \u001b[0mCancelledError\u001b[0m\u001b[1;33m(\u001b[0m\u001b[1;33m)\u001b[0m\u001b[1;33m\u001b[0m\u001b[1;33m\u001b[0m\u001b[0m\n\u001b[0;32m    431\u001b[0m             \u001b[1;32melif\u001b[0m \u001b[0mself\u001b[0m\u001b[1;33m.\u001b[0m\u001b[0m_state\u001b[0m \u001b[1;33m==\u001b[0m \u001b[0mFINISHED\u001b[0m\u001b[1;33m:\u001b[0m\u001b[1;33m\u001b[0m\u001b[1;33m\u001b[0m\u001b[0m\n\u001b[1;32m--> 432\u001b[1;33m                 \u001b[1;32mreturn\u001b[0m \u001b[0mself\u001b[0m\u001b[1;33m.\u001b[0m\u001b[0m__get_result\u001b[0m\u001b[1;33m(\u001b[0m\u001b[1;33m)\u001b[0m\u001b[1;33m\u001b[0m\u001b[1;33m\u001b[0m\u001b[0m\n\u001b[0m\u001b[0;32m    433\u001b[0m             \u001b[1;32melse\u001b[0m\u001b[1;33m:\u001b[0m\u001b[1;33m\u001b[0m\u001b[1;33m\u001b[0m\u001b[0m\n\u001b[0;32m    434\u001b[0m                 \u001b[1;32mraise\u001b[0m \u001b[0mTimeoutError\u001b[0m\u001b[1;33m(\u001b[0m\u001b[1;33m)\u001b[0m\u001b[1;33m\u001b[0m\u001b[1;33m\u001b[0m\u001b[0m\n",
      "\u001b[1;32mD:\\Anaconda3\\lib\\concurrent\\futures\\_base.py\u001b[0m in \u001b[0;36m__get_result\u001b[1;34m(self)\u001b[0m\n\u001b[0;32m    382\u001b[0m     \u001b[1;32mdef\u001b[0m \u001b[0m__get_result\u001b[0m\u001b[1;33m(\u001b[0m\u001b[0mself\u001b[0m\u001b[1;33m)\u001b[0m\u001b[1;33m:\u001b[0m\u001b[1;33m\u001b[0m\u001b[1;33m\u001b[0m\u001b[0m\n\u001b[0;32m    383\u001b[0m         \u001b[1;32mif\u001b[0m \u001b[0mself\u001b[0m\u001b[1;33m.\u001b[0m\u001b[0m_exception\u001b[0m\u001b[1;33m:\u001b[0m\u001b[1;33m\u001b[0m\u001b[1;33m\u001b[0m\u001b[0m\n\u001b[1;32m--> 384\u001b[1;33m             \u001b[1;32mraise\u001b[0m \u001b[0mself\u001b[0m\u001b[1;33m.\u001b[0m\u001b[0m_exception\u001b[0m\u001b[1;33m\u001b[0m\u001b[1;33m\u001b[0m\u001b[0m\n\u001b[0m\u001b[0;32m    385\u001b[0m         \u001b[1;32melse\u001b[0m\u001b[1;33m:\u001b[0m\u001b[1;33m\u001b[0m\u001b[1;33m\u001b[0m\u001b[0m\n\u001b[0;32m    386\u001b[0m             \u001b[1;32mreturn\u001b[0m \u001b[0mself\u001b[0m\u001b[1;33m.\u001b[0m\u001b[0m_result\u001b[0m\u001b[1;33m\u001b[0m\u001b[1;33m\u001b[0m\u001b[0m\n",
      "\u001b[1;31mCatBoostError\u001b[0m: Bad value for num_feature[non_default_doc_idx=0,feature_idx=1]=\"E67\": Cannot convert 'b'E67'' to float"
     ]
    }
   ],
   "source": [
    "cb_model = CatBoostClassifier()\n",
    "\n",
    "randm = RandomizedSearchCV(estimator=cb_model, param_distributions = params, \n",
    "                               cv = 3, n_iter = 10, n_jobs=-1)\n",
    "randm.fit(X_train, y_train)"
   ]
  },
  {
   "cell_type": "code",
   "execution_count": null,
   "metadata": {},
   "outputs": [],
   "source": [
    "print(\"\\n========================================================\")\n",
    "print(\" Results from Random Search \" )\n",
    "print(\"========================================================\")    \n",
    "\n",
    "print(\"\\n The best estimator across ALL searched params:\\n\",\n",
    "      randm.best_estimator_)\n",
    "\n",
    "print(\"\\n The best score across ALL searched params:\\n\",\n",
    "      randm.best_score_)\n",
    "\n",
    "print(\"\\n The best parameters across ALL searched params:\\n\",\n",
    "      randm.best_params_)\n",
    "\n",
    "print(\"\\n ========================================================\")"
   ]
  },
  {
   "cell_type": "code",
   "execution_count": null,
   "metadata": {},
   "outputs": [],
   "source": [
    "# catboost_model = CatBoostClassifier(iterations=400,\n",
    "#                                     verbose=True,eval_metric=\"F1\",\n",
    "#                                     learning_rate=0.1,\n",
    "#                                     class_weights=[1,3],\n",
    "#                                     depth=3,l2_leaf_reg=3,bagging_temperature=0.5)"
   ]
  },
  {
   "cell_type": "code",
   "execution_count": null,
   "metadata": {},
   "outputs": [],
   "source": [
    "catboost_model = randm.best_estimator_"
   ]
  },
  {
   "cell_type": "code",
   "execution_count": null,
   "metadata": {},
   "outputs": [],
   "source": [
    "model_evalution(catboost_model,X_train, y_train,X_val,y_val)"
   ]
  },
  {
   "cell_type": "code",
   "execution_count": null,
   "metadata": {},
   "outputs": [],
   "source": [
    "test_y =catboost_model.predict(test_dataset)"
   ]
  },
  {
   "cell_type": "code",
   "execution_count": null,
   "metadata": {},
   "outputs": [],
   "source": [
    "submission =pd.DataFrame({'PassengerId':test_passengers.values ,'Survived':test_y}) \n",
    "#submission['Loan_Status'].replace(0, 'N',inplace=True)\n",
    "#submission['Loan_Status'].replace(1, 'Y',inplace=True)\n",
    "import datetime\n",
    "FORMAT = '%Y%m%d%H%M%S'\n",
    "timestamp=datetime.datetime.now().strftime(FORMAT)\n",
    "filename =\"Titanic_CatBoost\"+timestamp+\"_out.csv\"\n",
    "#submission.to_csv(filename,index=False)\n",
    "\n",
    "submission.to_csv(filename,index=False)"
   ]
  },
  {
   "cell_type": "code",
   "execution_count": null,
   "metadata": {},
   "outputs": [],
   "source": []
  }
 ],
 "metadata": {
  "kernelspec": {
   "display_name": "Python 3",
   "language": "python",
   "name": "python3"
  },
  "language_info": {
   "codemirror_mode": {
    "name": "ipython",
    "version": 3
   },
   "file_extension": ".py",
   "mimetype": "text/x-python",
   "name": "python",
   "nbconvert_exporter": "python",
   "pygments_lexer": "ipython3",
   "version": "3.7.1"
  }
 },
 "nbformat": 4,
 "nbformat_minor": 2
}
