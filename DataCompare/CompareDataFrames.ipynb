{
 "cells": [
  {
   "cell_type": "code",
   "execution_count": null,
   "metadata": {},
   "outputs": [],
   "source": [
    "from io import StringIO\n",
    "import pandas as pd\n",
    "\n",
    "DF1 = StringIO(\"\"\"Date       Fruit  Num  Color \n",
    "2013-11-24 Banana 22.1 Yellow\n",
    "2013-11-24 Orange  8.6 Orange\n",
    "2013-11-24 Apple   7.6 Green\n",
    "2013-11-24 Celery 10.2 Green\n",
    "\"\"\")\n",
    "DF2 = StringIO(\"\"\"Date       Fruit  Num  Color \n",
    "2013-11-24 Banana 22.1 Yellow\n",
    "2013-11-24 Orange  8.6 Orange\n",
    "2013-11-24 Apple   7.6 Green\n",
    "2013-11-24 Celery 10.2 Green\n",
    "2013-11-25 Apple  22.1 Red\n",
    "2013-11-25 Orange  8.6 Orange\"\"\")\n",
    "\n",
    "\n",
    "df1 = pd.read_table(DF1, sep='\\s+')\n",
    "df2 = pd.read_table(DF2, sep='\\s+')"
   ]
  },
  {
   "cell_type": "code",
   "execution_count": null,
   "metadata": {},
   "outputs": [],
   "source": [
    "class BaseValidationError(ValueError):\n",
    "    pass\n",
    "\n",
    "\n",
    "\n",
    "class CompareDataFrames(object):\n",
    "    \"\"\"\n",
    "    CompareDataFrames\n",
    "    \"\"\"\n",
    "    def __init__(self,first_df,second_df,compare_columns,compare_by_index,abs_tolerance,relative_tolerance):\n",
    "        "
   ]
  }
 ],
 "metadata": {
  "kernelspec": {
   "display_name": "Python 3",
   "language": "python",
   "name": "python3"
  },
  "language_info": {
   "codemirror_mode": {
    "name": "ipython",
    "version": 3
   },
   "file_extension": ".py",
   "mimetype": "text/x-python",
   "name": "python",
   "nbconvert_exporter": "python",
   "pygments_lexer": "ipython3",
   "version": "3.7.1"
  }
 },
 "nbformat": 4,
 "nbformat_minor": 2
}
