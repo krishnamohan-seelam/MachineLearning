{
 "cells": [
  {
   "cell_type": "code",
   "execution_count": 5,
   "metadata": {},
   "outputs": [
    {
     "name": "stdout",
     "output_type": "stream",
     "text": [
      "1 7\n"
     ]
    }
   ],
   "source": [
    "class C1:\n",
    "    def __init__(self):\n",
    "        self.__i = 1\n",
    "        self.j = 5\n",
    "    def display(self):\n",
    "        print(self.__i, self.j)\n",
    "\n",
    "class C2(C1):\n",
    "    def __init__(self):\n",
    "        super().__init__()\n",
    "        self.__i = 2\n",
    "        self.j = 7\n",
    "\n",
    "c = C2()\n",
    "c.display()"
   ]
  },
  {
   "cell_type": "code",
   "execution_count": 6,
   "metadata": {},
   "outputs": [
    {
     "name": "stdout",
     "output_type": "stream",
     "text": [
      "xtsrponmligeea\n"
     ]
    }
   ],
   "source": [
    "string = \"sortingexample\"\n",
    "result = ''.join(sorted(string,\n",
    "reverse = True)) \n",
    "print(str(result))"
   ]
  },
  {
   "cell_type": "code",
   "execution_count": 7,
   "metadata": {},
   "outputs": [
    {
     "name": "stdout",
     "output_type": "stream",
     "text": [
      "[Records(name='Tom', age=13, length=135), Records(name='Yuri', age=17, length=143), Records(name='Jack', age=16, length=152), Records(name='Jerry', age=14, length=160), Records(name='Harry', age=20, length=184)]\n"
     ]
    }
   ],
   "source": [
    "from collections import namedtuple \n",
    "Records = namedtuple('Records', 'name age length')\n",
    "jack = Records('Jack', 16,152)\n",
    "yuri = Records('Yuri', 17,143)\n",
    "jerry = Records('Jerry',14, 160)\n",
    "tom = Records('Tom', 13,135)\n",
    "harry = Records('Harry', 20,184)\n",
    "members = [jack, yuri, jerry, tom, harry]\n",
    "data = sorted(members, key=lambda x: getattr(x,'length','age'), reverse=False)\n",
    "print(data)"
   ]
  },
  {
   "cell_type": "code",
   "execution_count": 13,
   "metadata": {},
   "outputs": [
    {
     "name": "stdout",
     "output_type": "stream",
     "text": [
      "('caught',)\n"
     ]
    }
   ],
   "source": [
    "class variableError(NameError):\n",
    "    def __init__(self, argument):\n",
    "        self.arg = argument\n",
    "try:\n",
    "    raise variableError(\"caught\")\n",
    "\n",
    "except variableError as e:\n",
    "    print(e.args)"
   ]
  },
  {
   "cell_type": "code",
   "execution_count": 21,
   "metadata": {},
   "outputs": [
    {
     "name": "stdout",
     "output_type": "stream",
     "text": [
      "Value exist\n"
     ]
    }
   ],
   "source": [
    "import math\n",
    "\n",
    "def binarySearch(arr, val):\n",
    "    if len(arr) == 0 : return False\n",
    "    lowest = 0\n",
    "    highest = len(arr)-1\n",
    "    while (lowest <= highest):\n",
    "        middle = math.floor((lowest + highest) / 2)\n",
    "\n",
    "        if arr[middle] == val:\n",
    "            return True\n",
    "        elif val < arr[middle]:\n",
    "            highest = middle - 1\n",
    "        else:\n",
    "            lowest = middle + 1\n",
    "    return False\n",
    "\n",
    "\n",
    "arr = [12, 23, 31, 35, 53, 57, 68]\n",
    "val = 12\n",
    "\n",
    "if(binarySearch(arr, val) == True):\n",
    "    print(\"Value exist\")\n",
    "else:\n",
    "    print(\"Value doesn't exist\")"
   ]
  },
  {
   "cell_type": "code",
   "execution_count": 22,
   "metadata": {},
   "outputs": [
    {
     "name": "stdout",
     "output_type": "stream",
     "text": [
      "[('data', 3), ('are', 2), ('that', 2), ('to', 2), ('store', 2)]\n"
     ]
    }
   ],
   "source": [
    "from collections import Counter\n",
    "import re\n",
    "sentence = \"\"\"\n",
    "Collections in python are containers that are used to store the collection of data, for example, list, dict tuple, set etc. Several modules have been deployed that provide additional data structures to store a collection of data.\n",
    "\"\"\"\n",
    "words = re.findall('\\w+', sentence)\n",
    "print(Counter(words).most_common(5))"
   ]
  },
  {
   "cell_type": "code",
   "execution_count": 23,
   "metadata": {},
   "outputs": [
    {
     "name": "stdout",
     "output_type": "stream",
     "text": [
      "1\n"
     ]
    }
   ],
   "source": [
    "class Person():\n",
    "    eyes = 2\n",
    "    def __init__(self):\n",
    "        self.eyes = 1\n",
    "\n",
    "person = Person()\n",
    "print(person.eyes)"
   ]
  },
  {
   "cell_type": "code",
   "execution_count": 24,
   "metadata": {},
   "outputs": [
    {
     "name": "stdout",
     "output_type": "stream",
     "text": [
      "['Apple', 'Banana', 'Bear', 'Grapes', 'Lion', 'Monkey', 'Orange']\n"
     ]
    }
   ],
   "source": [
    "animals=set([\"Monkey\",\"Lion\",\"Bear\"])\n",
    "fruits=set([\"Apple\",\"Mango\",\"Orange\",\"Banana\",\"Grapes\"])\n",
    "jungle=animals|fruits\n",
    "jungle.discard(\"Mango\")\n",
    "print(sorted(jungle))"
   ]
  },
  {
   "cell_type": "code",
   "execution_count": 25,
   "metadata": {},
   "outputs": [
    {
     "name": "stdout",
     "output_type": "stream",
     "text": [
      "[('d', 'c'), ('a', 'b'), ('z', 'a'), ('c', 'a')]\n"
     ]
    }
   ],
   "source": [
    "def f1(item):\n",
    "    return item[1]\n",
    "unordered = [('z', 'a'), ('d', 'c'), ('a', 'b'),('c', 'a')]\n",
    "unordered.sort(key=f1, reverse = True)\n",
    "print(unordered)"
   ]
  },
  {
   "cell_type": "code",
   "execution_count": 26,
   "metadata": {},
   "outputs": [],
   "source": [
    "citiesRoads = {\"Agra\":[\"Chandigarh\", \"Etawa\"], \"Bareilly\": [\"Agra\", \"Delhi\"],\"Chandigarh\": [\"Delhi\"], \"Delhi\": [\"Chandigarh\", \"Agra\"], \"Etawa\": [\"Chandigarh\"], \"Faridabad\": []}\n",
    "def f1(connections, start, end, road=[]):\n",
    "    road = road + [start]\n",
    "    if start == end:\n",
    "        return [road]\n",
    "    if start not in connections.keys():\n",
    "        return []\n",
    "\n",
    "    roads = []\n",
    "\n",
    "    for node in connections[start]:\n",
    "        if node not in road:\n",
    "            newroads = f1(connections, node, end, road)\n",
    "        for newroad in newroads:\n",
    "            roads.append(newroad)\n",
    "    return roads"
   ]
  },
  {
   "cell_type": "code",
   "execution_count": 27,
   "metadata": {},
   "outputs": [
    {
     "name": "stdout",
     "output_type": "stream",
     "text": [
      "[['Agra', 'Chandigarh'], ['Agra', 'Etawa', 'Chandigarh']]\n"
     ]
    }
   ],
   "source": [
    "print(f1(citiesRoads, \"Agra\", \"Chandigarh\"))"
   ]
  },
  {
   "cell_type": "code",
   "execution_count": 28,
   "metadata": {},
   "outputs": [],
   "source": [
    "class Dinosaur():\n",
    "    def __init__(self):\n",
    "        self.name = \"Albert\"\n",
    "    def Name(self):\n",
    "        self.name = 'Nekata'\n",
    "        \n",
    "dinosaur = Dinosaur()"
   ]
  },
  {
   "cell_type": "code",
   "execution_count": 29,
   "metadata": {},
   "outputs": [
    {
     "name": "stdout",
     "output_type": "stream",
     "text": [
      "Albert\n"
     ]
    }
   ],
   "source": [
    "print(dinosaur.name)"
   ]
  },
  {
   "cell_type": "code",
   "execution_count": 30,
   "metadata": {},
   "outputs": [
    {
     "name": "stdout",
     "output_type": "stream",
     "text": [
      "12 19 23 23 87 1 \n",
      "12 19 5 23 23 87 1 "
     ]
    }
   ],
   "source": [
    "class addKey():\n",
    "    def __init__(self,value):\n",
    "        self.key = value\n",
    "        self.left = None\n",
    "        self.right = None\n",
    "\n",
    "def show(data):\n",
    "    if(not data): \n",
    "        return\n",
    "    show(data.left)\n",
    "    print(data.key,end=\" \")\n",
    "    show(data.right)\n",
    "\n",
    "def insertKey(data,key):\n",
    "    listData=[]\n",
    "    listData.append(data)\n",
    "    while(len(listData)):\n",
    "        data = listData[0]\n",
    "        listData.pop(0)\n",
    "        if (not data.left):\n",
    "            data.left = addKey(key)\n",
    "            break\n",
    "        else:\n",
    "            listData.append(data.left)\n",
    "            if (not data.right):\n",
    "                data.right = addKey(key)\n",
    "                break\n",
    "            else:\n",
    "                listData.append(data.right)\n",
    "\n",
    "origin = addKey(23)\n",
    "origin.left = addKey(19)\n",
    "origin.left.left = addKey(12)\n",
    "origin.right = addKey(87)\n",
    "origin.right.left =addKey(23)\n",
    "origin.right.right = addKey(1)\n",
    "show(origin)\n",
    "key = 5\n",
    "insertKey(origin,key)\n",
    "print()\n",
    "show(origin)"
   ]
  },
  {
   "cell_type": "code",
   "execution_count": 31,
   "metadata": {},
   "outputs": [
    {
     "ename": "TypeError",
     "evalue": "'<' not supported between instances of 'dict' and 'tuple'",
     "output_type": "error",
     "traceback": [
      "\u001b[1;31m---------------------------------------------------------------------------\u001b[0m",
      "\u001b[1;31mTypeError\u001b[0m                                 Traceback (most recent call last)",
      "\u001b[1;32m<ipython-input-31-7346527bf2f0>\u001b[0m in \u001b[0;36m<module>\u001b[1;34m\u001b[0m\n\u001b[0;32m      1\u001b[0m \u001b[0ma\u001b[0m \u001b[1;33m=\u001b[0m \u001b[1;33m[\u001b[0m\u001b[1;33m(\u001b[0m\u001b[1;36m10\u001b[0m\u001b[1;33m,\u001b[0m \u001b[1;36m2\u001b[0m\u001b[1;33m,\u001b[0m \u001b[1;36m6\u001b[0m\u001b[1;33m)\u001b[0m\u001b[1;33m,\u001b[0m \u001b[1;33m{\u001b[0m\u001b[1;34m'name'\u001b[0m\u001b[1;33m:\u001b[0m \u001b[1;34m'John'\u001b[0m\u001b[1;33m,\u001b[0m \u001b[1;34m'age'\u001b[0m\u001b[1;33m:\u001b[0m\u001b[1;36m32\u001b[0m\u001b[1;33m}\u001b[0m\u001b[1;33m,\u001b[0m \u001b[1;33m[\u001b[0m\u001b[1;34m'bca'\u001b[0m\u001b[1;33m,\u001b[0m \u001b[1;36m43\u001b[0m\u001b[1;33m,\u001b[0m \u001b[1;36m12\u001b[0m\u001b[1;33m,\u001b[0m \u001b[1;33m(\u001b[0m\u001b[1;36m2\u001b[0m\u001b[1;33m,\u001b[0m \u001b[1;36m1\u001b[0m\u001b[1;33m,\u001b[0m \u001b[1;36m3\u001b[0m\u001b[1;33m)\u001b[0m\u001b[1;33m]\u001b[0m\u001b[1;33m]\u001b[0m\u001b[1;33m\u001b[0m\u001b[1;33m\u001b[0m\u001b[0m\n\u001b[1;32m----> 2\u001b[1;33m \u001b[0mprint\u001b[0m\u001b[1;33m(\u001b[0m\u001b[0ma\u001b[0m\u001b[1;33m.\u001b[0m\u001b[0msort\u001b[0m\u001b[1;33m(\u001b[0m\u001b[1;33m)\u001b[0m\u001b[1;33m)\u001b[0m\u001b[1;33m\u001b[0m\u001b[1;33m\u001b[0m\u001b[0m\n\u001b[0m",
      "\u001b[1;31mTypeError\u001b[0m: '<' not supported between instances of 'dict' and 'tuple'"
     ]
    }
   ],
   "source": [
    "a = [(10, 2, 6), {'name': 'John', 'age':32}, ['bca', 43, 12, (2, 1, 3)]]\n",
    "print(a.sort())"
   ]
  },
  {
   "cell_type": "code",
   "execution_count": 34,
   "metadata": {},
   "outputs": [
    {
     "data": {
      "text/plain": [
       "'Write the code here to call the multiply() & divide() from class Third'"
      ]
     },
     "execution_count": 34,
     "metadata": {},
     "output_type": "execute_result"
    }
   ],
   "source": [
    "class First:\n",
    "    def multiply(self, x, y):\n",
    "        z = x * y\n",
    "        return z\n",
    "\n",
    "class Second(First):\n",
    "    def divide(self, a, b):\n",
    "        c = a / b\n",
    "        return c\n",
    "\n",
    "class Third(Second):\n",
    "    def calc(self):\n",
    "        pass\n",
    "\n",
    "\"\"\"Write the code here to call the multiply() & divide() from class Third\"\"\""
   ]
  },
  {
   "cell_type": "code",
   "execution_count": 35,
   "metadata": {},
   "outputs": [],
   "source": [
    "third_cls_obj = Third()"
   ]
  },
  {
   "cell_type": "code",
   "execution_count": 36,
   "metadata": {},
   "outputs": [
    {
     "data": {
      "text/plain": [
       "6"
      ]
     },
     "execution_count": 36,
     "metadata": {},
     "output_type": "execute_result"
    }
   ],
   "source": [
    "third_cls_obj.multiply(2, 3)"
   ]
  },
  {
   "cell_type": "code",
   "execution_count": 37,
   "metadata": {},
   "outputs": [
    {
     "data": {
      "text/plain": [
       "0.6666666666666666"
      ]
     },
     "execution_count": 37,
     "metadata": {},
     "output_type": "execute_result"
    }
   ],
   "source": [
    "third_cls_obj.divide(2, 3)"
   ]
  },
  {
   "cell_type": "code",
   "execution_count": 38,
   "metadata": {},
   "outputs": [
    {
     "name": "stdout",
     "output_type": "stream",
     "text": [
      "hypoB\n"
     ]
    }
   ],
   "source": [
    "class A:\n",
    "    def hypoA(self):\n",
    "        print(\"hypoA\")\n",
    "class B(A):\n",
    "    def hypoB(self):\n",
    "        print(\"hypoB\")\n",
    "class C(A):\n",
    "    def hypoC(self):\n",
    "        print( \"hypoC\" )\n",
    "class D(B,C):\n",
    "    def hypoD(self):\n",
    "        print(\"hypoD\")   \n",
    "obj=D()\n",
    "obj.hypoB()"
   ]
  },
  {
   "cell_type": "code",
   "execution_count": 39,
   "metadata": {},
   "outputs": [
    {
     "name": "stdout",
     "output_type": "stream",
     "text": [
      "deque([23, '0', 'o', 'python', 18.2, '@#', 12.9])\n"
     ]
    }
   ],
   "source": [
    "from collections import deque\n",
    "d = deque()\n",
    "d.append(1)\n",
    "d.append('python')\n",
    "d.popleft()\n",
    "d.append(18.2)\n",
    "d.extendleft(['o', '0', 23])\n",
    "d.extend(['@#', 12.9, '123'])\n",
    "d.pop()\n",
    "print(d)"
   ]
  },
  {
   "cell_type": "code",
   "execution_count": 41,
   "metadata": {},
   "outputs": [
    {
     "ename": "TypeError",
     "evalue": "can't concat str to bytes",
     "output_type": "error",
     "traceback": [
      "\u001b[1;31m---------------------------------------------------------------------------\u001b[0m",
      "\u001b[1;31mTypeError\u001b[0m                                 Traceback (most recent call last)",
      "\u001b[1;32m<ipython-input-41-491fa9f25cb5>\u001b[0m in \u001b[0;36m<module>\u001b[1;34m\u001b[0m\n\u001b[0;32m      1\u001b[0m \u001b[0mf1\u001b[0m\u001b[1;33m=\u001b[0m\u001b[0mopen\u001b[0m\u001b[1;33m(\u001b[0m\u001b[1;34m\"Abc.txt\"\u001b[0m\u001b[1;33m,\u001b[0m\u001b[1;34m'rb'\u001b[0m\u001b[1;33m)\u001b[0m\u001b[1;33m\u001b[0m\u001b[1;33m\u001b[0m\u001b[0m\n\u001b[0;32m      2\u001b[0m \u001b[0mtext\u001b[0m\u001b[1;33m=\u001b[0m\u001b[0mf1\u001b[0m\u001b[1;33m.\u001b[0m\u001b[0mread\u001b[0m\u001b[1;33m(\u001b[0m\u001b[1;33m)\u001b[0m\u001b[1;33m\u001b[0m\u001b[1;33m\u001b[0m\u001b[0m\n\u001b[1;32m----> 3\u001b[1;33m \u001b[0mtest\u001b[0m\u001b[1;33m=\u001b[0m\u001b[0mtext\u001b[0m\u001b[1;33m+\u001b[0m\u001b[1;34m\"\\n\"\u001b[0m\u001b[1;33m+\u001b[0m\u001b[1;34m\"Hello Ram!\"\u001b[0m\u001b[1;33m\u001b[0m\u001b[1;33m\u001b[0m\u001b[0m\n\u001b[0m\u001b[0;32m      4\u001b[0m \u001b[0mprint\u001b[0m\u001b[1;33m(\u001b[0m\u001b[0mtest\u001b[0m\u001b[1;33m)\u001b[0m\u001b[1;33m\u001b[0m\u001b[1;33m\u001b[0m\u001b[0m\n",
      "\u001b[1;31mTypeError\u001b[0m: can't concat str to bytes"
     ]
    }
   ],
   "source": [
    "f1=open(\"Abc.txt\",'rb')\n",
    "text=f1.read()\n",
    "test=text+\"\\n\"+\"Hello Ram!\"\n",
    "print(test)"
   ]
  },
  {
   "cell_type": "code",
   "execution_count": 42,
   "metadata": {},
   "outputs": [
    {
     "name": "stdout",
     "output_type": "stream",
     "text": [
      "[(65, 'A'), (77, 'M'), (83, 'S'), (84, 'T')]\n"
     ]
    }
   ],
   "source": [
    "lst = ['Mazid', 'Tarun', 'Simmi', 'Aron']\n",
    "a = [(ord(z[0]), z[0]) for z in sorted(lst)]\n",
    "print(a)"
   ]
  },
  {
   "cell_type": "code",
   "execution_count": 43,
   "metadata": {},
   "outputs": [
    {
     "name": "stdout",
     "output_type": "stream",
     "text": [
      "1 2 4 3 None\n"
     ]
    }
   ],
   "source": [
    "from collections import defaultdict \n",
    "class Test:\n",
    "    def __init__(self):\n",
    "        self.graph = defaultdict(list)\n",
    "    def create(self,u,v):\n",
    "        self.graph[u].append(v)\n",
    "    def f1(self, s):\n",
    "        visited = [False] * (len(self.graph))\n",
    "        queue = []\n",
    "        queue.append(s)\n",
    "        visited[s] = True\n",
    "        while queue:\n",
    "            s = queue.pop(0) # queue = []\n",
    "            print (s, end = \" \")\n",
    "            for i in self.graph[s]: # graph[1]\n",
    "                if visited[i] == False:\n",
    "                    queue.append(i)\n",
    "                    visited[i] = True\n",
    "g = Test()\n",
    "g.create(1, 2)\n",
    "g.create(0, 1)\n",
    "g.create(3, 1)\n",
    "g.create(2, 3)\n",
    "g.create(1, 4)\n",
    "g.create(4, 2)\n",
    "print(g.f1(1))"
   ]
  },
  {
   "cell_type": "code",
   "execution_count": 44,
   "metadata": {},
   "outputs": [
    {
     "name": "stdout",
     "output_type": "stream",
     "text": [
      "set()\n",
      "['1', '45', '89', 'A1', 'A49', 'AB', 'F89', 'K66', 'V1']\n"
     ]
    }
   ],
   "source": [
    "Numerics={'1','45','89'}\n",
    "AlphaNumerics={'1','A1','AB','A49','45','V1','F89','89', 'K66'}\n",
    "Numerics.issubset(AlphaNumerics)\n",
    "Numerics.issuperset(AlphaNumerics)\n",
    "AlphaNumerics.issuperset(Numerics)\n",
    "if(Numerics.issubset(AlphaNumerics)):\n",
    "     Numerics.clear()\n",
    "if(AlphaNumerics.issubset(Numerics)):\n",
    "    AlphaNumerics.clear()\n",
    "print(Numerics)\n",
    "print(sorted(AlphaNumerics))"
   ]
  },
  {
   "cell_type": "code",
   "execution_count": 45,
   "metadata": {},
   "outputs": [
    {
     "name": "stdout",
     "output_type": "stream",
     "text": [
      "['Delhi', 'Agra', 'Lucknow']\n"
     ]
    }
   ],
   "source": [
    "connections = {\"Delhi\":[\"Agra\", \"Chandigard\"], \"Jaipur\": [\"Chandigard\", \"Agra\"], \"Agra\": [\"Lucknow\"], \"Chandigard\": [\"Lucknow\", \"Simla\"], \"Simla\": [\"Chandigrad\"], \"Lunknow\": []}\n",
    "def find_connections(connections, first, last, route=[]):\n",
    "    route = route + [first]\n",
    "    if first == last:\n",
    "         return route\n",
    "    if first not in connections.keys():\n",
    "         return None\n",
    "    shortest = None\n",
    "    for node in connections[first]:\n",
    "        if node not in route:\n",
    "            newroute = find_connections(connections, node, last, route)\n",
    "        if newroute:\n",
    "            if not shortest or len(newroute) < len(shortest):\n",
    "                shortest = newroute\n",
    "                return shortest\n",
    "print(find_connections(connections, \"Delhi\", \"Lucknow\"))"
   ]
  },
  {
   "cell_type": "code",
   "execution_count": 46,
   "metadata": {},
   "outputs": [
    {
     "name": "stdout",
     "output_type": "stream",
     "text": [
      "0.1 1\n"
     ]
    }
   ],
   "source": [
    "class Hypothesis:\n",
    "    def __init__(self):\n",
    "        self.x = 0\n",
    "class Derived_hypothesis(Hypothesis):\n",
    "    def __init__(self):\n",
    "        Hypothesis.x = 0.1\n",
    "        self.y = 1\n",
    "\n",
    "def main():\n",
    "    b = Derived_hypothesis()\n",
    "    print(b.x,b.y)\n",
    "\n",
    "main()"
   ]
  },
  {
   "cell_type": "code",
   "execution_count": 47,
   "metadata": {},
   "outputs": [
    {
     "name": "stdout",
     "output_type": "stream",
     "text": [
      "This computer has intel i7 8900 installed with 16 GB RAM\n",
      "This computer has intel i5 7700 installed with 8 GB RAM\n"
     ]
    }
   ],
   "source": [
    "class Computer:\n",
    "    def __init__(self, processor, ram):\n",
    "        self.processor = processor\n",
    "        self.ram = ram\n",
    "\n",
    "    def config(self):\n",
    "        print(\"This computer has\", self.processor, \"installed with\", self.ram)\n",
    "\n",
    "com1 = Computer('intel i7 8900', \"16 GB RAM\")\n",
    "com2 = Computer('intel i5 7700', \"8 GB RAM\")\n",
    "\n",
    "com1.config()\n",
    "com2.config()"
   ]
  },
  {
   "cell_type": "code",
   "execution_count": 48,
   "metadata": {},
   "outputs": [
    {
     "name": "stdout",
     "output_type": "stream",
     "text": [
      "Employee Name =  Rachal\n",
      "exception caught 'department'\n"
     ]
    }
   ],
   "source": [
    "def employeeDetails(**arguments):\n",
    "    try:\n",
    "        print(\"Employee Name = \", arguments['Name'])\n",
    "        print(\"Department = \", arguments['department'])\n",
    "        print(\"Salary = \", arguments['Salary'])\n",
    "    except Exception as e:\n",
    "        print(\"exception caught\", str(e))\n",
    "\n",
    "employeeDetails(Name=\"Rachal\", Salary=\"1000000\")"
   ]
  },
  {
   "cell_type": "code",
   "execution_count": 49,
   "metadata": {},
   "outputs": [
    {
     "data": {
      "text/plain": [
       "True"
      ]
     },
     "execution_count": 49,
     "metadata": {},
     "output_type": "execute_result"
    }
   ],
   "source": [
    "def f1(alist):\n",
    "    copy = list(alist)\n",
    "    copy.sort()\n",
    "    for i in range(len(alist)-1):\n",
    "        if copy[i] == copy[i+1]:\n",
    "            return False\n",
    "    return True\n",
    "\n",
    "f1([2, 4, 7, 3, 6, 13, 7])\n",
    "f1([2, 4, 7, 3, 6, 13])"
   ]
  },
  {
   "cell_type": "code",
   "execution_count": 50,
   "metadata": {},
   "outputs": [
    {
     "name": "stdout",
     "output_type": "stream",
     "text": [
      "13\n",
      "['Best Of Luck.you are doing good.']\n"
     ]
    }
   ],
   "source": [
    "filename=\"abc1.txt\"\n",
    "f1=open(filename,'w')\n",
    "f1.writelines(\"you are welcome!\")\n",
    "f1.close()\n",
    "\n",
    "fileObj = open(filename, \"w+\")\n",
    "fileObj.write(\"Best Of Luck.\")\n",
    "print(fileObj.tell())\n",
    "fileObj.seek(13,0)\n",
    "fileObj.write(\"you are doing good.\")\n",
    "fileObj.close()\n",
    "\n",
    "with open(filename) as fobj:\n",
    "    print(fobj.readlines())"
   ]
  },
  {
   "cell_type": "code",
   "execution_count": 51,
   "metadata": {},
   "outputs": [
    {
     "name": "stdout",
     "output_type": "stream",
     "text": [
      "1\n"
     ]
    }
   ],
   "source": [
    "class C1:\n",
    "    def __str__(self):\n",
    "        return '1'\n",
    "class C2(C1):\n",
    "    def __init__(self):\n",
    "        super().__init__()\n",
    "class C3(C2):\n",
    "    def __init__(self):\n",
    "        super().__init__()\n",
    "\n",
    "obj1 = C1()\n",
    "obj2 = C2()\n",
    "obj3 = C3()\n",
    "print(obj3)"
   ]
  },
  {
   "cell_type": "code",
   "execution_count": 52,
   "metadata": {},
   "outputs": [],
   "source": [
    "class C1:\n",
    "    def __init__(self):\n",
    "        __x = 1\n",
    "        self.__y = 1\n",
    "        self.__z__ = 1\n",
    "        __a__= 1"
   ]
  },
  {
   "cell_type": "code",
   "execution_count": 53,
   "metadata": {},
   "outputs": [],
   "source": [
    "c =C1()"
   ]
  },
  {
   "cell_type": "code",
   "execution_count": 62,
   "metadata": {},
   "outputs": [
    {
     "name": "stdout",
     "output_type": "stream",
     "text": [
      "A B\n"
     ]
    }
   ],
   "source": [
    "class N:\n",
    "    def A(self):\n",
    "        return self.B()\n",
    "    def B(self):\n",
    "        return 'A'\n",
    "\n",
    "class M(N):\n",
    "    pass\n",
    "    def B(self):\n",
    "        return 'B'\n",
    "obj1=N()\n",
    "obj2=M()\n",
    "print(obj1.A(),obj2.B())"
   ]
  },
  {
   "cell_type": "code",
   "execution_count": 63,
   "metadata": {},
   "outputs": [
    {
     "name": "stdout",
     "output_type": "stream",
     "text": [
      "Nier\n"
     ]
    }
   ],
   "source": [
    "class Employee():\n",
    "    def __init__(self, name):\n",
    "        self.name = name\n",
    "    def changeName(self, name):\n",
    "        self.name = \"Nier\"\n",
    "\n",
    "employee = Employee(\"Robert\")\n",
    "employee.changeName(\"Helium\")\n",
    "print(employee.name)"
   ]
  },
  {
   "cell_type": "code",
   "execution_count": 64,
   "metadata": {},
   "outputs": [
    {
     "name": "stdout",
     "output_type": "stream",
     "text": [
      "12\n"
     ]
    }
   ],
   "source": [
    "import re\n",
    "theValueAdded = 0\n",
    "pattern = 'python'\n",
    "if re.match(pattern, 'mypythontest.txt'): theValueAdded += 1\n",
    "if re.match(pattern, 'test.python'): theValueAdded += 2\n",
    "if re.search(pattern, 'python.txt'): theValueAdded += 4\n",
    "if re.search(pattern, 'regular.python'): theValueAdded += 8\n",
    "print (theValueAdded)"
   ]
  },
  {
   "cell_type": "code",
   "execution_count": null,
   "metadata": {},
   "outputs": [],
   "source": []
  }
 ],
 "metadata": {
  "kernelspec": {
   "display_name": "Python 3",
   "language": "python",
   "name": "python3"
  },
  "language_info": {
   "codemirror_mode": {
    "name": "ipython",
    "version": 3
   },
   "file_extension": ".py",
   "mimetype": "text/x-python",
   "name": "python",
   "nbconvert_exporter": "python",
   "pygments_lexer": "ipython3",
   "version": "3.7.5"
  }
 },
 "nbformat": 4,
 "nbformat_minor": 4
}
