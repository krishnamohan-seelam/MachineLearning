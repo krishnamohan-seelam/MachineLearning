{
 "cells": [
  {
   "cell_type": "code",
   "execution_count": 2,
   "metadata": {
    "collapsed": true
   },
   "outputs": [],
   "source": [
    "import os\n",
    "import math\n",
    "import datetime\n",
    "\n",
    "from sklearn.preprocessing import LabelEncoder\n",
    "from sklearn.preprocessing import LabelBinarizer\n",
    "\n",
    "from mlsettings.settings import load_app_config, get_datafolder_path\n",
    "from mltools.mlcommon import load_data, print_dataset_info, split_dataset, auto_scatter_simple\n",
    "\n",
    "% matplotlib inline \n",
    "import matplotlib.pyplot as plt\n",
    "import seaborn as sns\n",
    "import pandas as pd\n",
    "import numpy as np\n",
    " \n"
   ]
  },
  {
   "cell_type": "code",
   "execution_count": 3,
   "metadata": {},
   "outputs": [
    {
     "name": "stdout",
     "output_type": "stream",
     "text": [
      "{'REG': {'ML_PATH': 'F:\\\\MachineLearning', 'ML_DATASOURCE': 'F:\\\\DataSource'}, 'DEV': {'ML_PATH': 'F:\\\\MachineLearning', 'ML_DATASOURCE': 'F:\\\\DataSource'}, 'UAT': {'ML_PATH': 'F:\\\\MachineLearning', 'ML_DATASOURCE': 'F:\\\\DataSource'}, 'PRD': {'ML_PATH': 'F:\\\\MachineLearning', 'ML_DATASOURCE': 'F:\\\\DataSource'}}\n",
      "Adding F:\\MachineLearning  to system path\n",
      "Adding F:\\DataSource  to system path\n"
     ]
    }
   ],
   "source": [
    "load_app_config()\n",
    "DIRECTORY = \"iris\"\n",
    "TRAINFILENAME = \"iris_train.csv\"\n",
    "TESTFILENAME = \"iris_test.csv\"\n",
    "FILENAME ='iris.csv'\n",
    "input_path = get_datafolder_path()"
   ]
  },
  {
   "cell_type": "code",
   "execution_count": 84,
   "metadata": {
    "collapsed": true
   },
   "outputs": [],
   "source": [
    "def start_classification(filename=FILENAME):\n",
    "    input_file = os.path.join(input_path, DIRECTORY, filename)\n",
    "    input_dataset = load_data(input_file)\n",
    "    \n",
    "    print(\" input file is :{0} loaded.\".format(input_file))\n",
    "    #plot_dataset(input_dataset)\n",
    "    pp_dataset=preprocess_data(input_dataset)\n",
    "    print(pp_dataset.info())\n",
    "    \n",
    "    try:\n",
    "        continuous_vars = pp_dataset.describe().columns\n",
    "        print(continuous_vars)\n",
    "    except ValueError:\n",
    "        print(\"no continous variables\")\n",
    "   \n",
    "    try:\n",
    "        categorical_vars = pp_dataset.describe(include=[\"object\"]).columns\n",
    "        print(\"Categorical:\")\n",
    "        print(categorical_vars)\n",
    "        pp_dataset=pp_dataset.drop(categorical_vars,axis=1)\n",
    "    except ValueError:\n",
    "        print(\"no continous variables\")\n",
    "    \n",
    "    print(pp_dataset.head(5).to_string())\n",
    "    \n",
    "    y=pp_dataset['labelled_class']\n",
    "    X=pp_dataset.drop('labelled_class',axis=1)\n",
    "    \n",
    "    from sklearn.neighbors import KNeighborsClassifier\n",
    "    knn_model  = KNeighborsClassifier(n_neighbors=5)\n",
    "    knn_model.fit(X, y)\n",
    "    X_new = [[3, 5, 4, 2], [5, 4, 3, 2]]\n",
    "    print(\"Prediction:\")\n",
    "    y_predict=knn_model.predict(X)\n",
    "    from sklearn import metrics\n",
    "    print(\"Accuracy Score {0}\".format(metrics.accuracy_score(y, y_predict)))\n",
    "    \n",
    "    knn_model2  = KNeighborsClassifier(n_neighbors=5)\n",
    "    (train_X, test_X ,train_y ,test_y)=split_dataset(X,y,0.3,4)    \n",
    "    knn_model2.fit(train_X,train_y)\n",
    "    y_predict=knn_model2.predict(test_X)\n",
    "    print(\"Accuracy Score -test data {0}\".format(metrics.accuracy_score(test_y, y_predict)))\n",
    "    \n",
    "    test_n_models(train_X, test_X ,train_y ,test_y)"
   ]
  },
  {
   "cell_type": "code",
   "execution_count": 87,
   "metadata": {
    "collapsed": true
   },
   "outputs": [],
   "source": [
    "def test_n_models(train_X, test_X ,train_y ,test_y):\n",
    "    test_scores = []\n",
    "    from sklearn.neighbors import KNeighborsClassifier\n",
    "    from sklearn import metrics \n",
    "    for n in range(1,26):\n",
    "        knn_model  = KNeighborsClassifier(n_neighbors=n)\n",
    "        knn_model.fit(train_X, train_y)\n",
    "        y_predict = knn_model.predict(test_X)\n",
    "        test_scores.append(metrics.accuracy_score(test_y, y_predict))\n",
    "    plt.plot(range(1,26), test_scores)\n",
    "    plt.xlabel('Value of K for KNN')\n",
    "    plt.ylabel('Testing Accuracy')          \n",
    "    #print(test_scores)"
   ]
  },
  {
   "cell_type": "code",
   "execution_count": 55,
   "metadata": {
    "collapsed": true
   },
   "outputs": [],
   "source": [
    "def plot_dataset(input_dataset):\n",
    "    #g = sns.PairGrid(input_dataset)\n",
    "    #g.map(plt.scatter)\n",
    "    \n",
    "    sns.pairplot(input_dataset, hue=\"class\", size=3.5,palette=\"husl\");\n",
    "     "
   ]
  },
  {
   "cell_type": "code",
   "execution_count": 47,
   "metadata": {
    "collapsed": true
   },
   "outputs": [],
   "source": [
    "def preprocess_data(input_dataset):\n",
    "    class_le = LabelEncoder()\n",
    "    labelled_class = class_le.fit_transform(input_dataset[\"class\"])\n",
    "    input_dataset['labelled_class']=labelled_class\n",
    "    print(\"count of labelled class:{0}\".format(input_dataset['labelled_class'].unique().size) )\n",
    "    return input_dataset\n"
   ]
  },
  {
   "cell_type": "code",
   "execution_count": 86,
   "metadata": {},
   "outputs": [
    {
     "name": "stdout",
     "output_type": "stream",
     "text": [
      " input file is :F:\\DataSource\\iris\\iris.csv loaded.\n",
      "count of labelled class:3\n",
      "<class 'pandas.core.frame.DataFrame'>\n",
      "RangeIndex: 150 entries, 0 to 149\n",
      "Data columns (total 6 columns):\n",
      "sepal_length      150 non-null float64\n",
      "sepal_width       150 non-null float64\n",
      "petal_length      150 non-null float64\n",
      "petal_width       150 non-null float64\n",
      "class             150 non-null object\n",
      "labelled_class    150 non-null int64\n",
      "dtypes: float64(4), int64(1), object(1)\n",
      "memory usage: 7.1+ KB\n",
      "None\n",
      "Index(['sepal_length', 'sepal_width', 'petal_length', 'petal_width',\n",
      "       'labelled_class'],\n",
      "      dtype='object')\n",
      "Categorical:\n",
      "Index(['class'], dtype='object')\n",
      "   sepal_length  sepal_width  petal_length  petal_width  labelled_class\n",
      "0           5.1          3.5           1.4          0.2               0\n",
      "1           4.9          3.0           1.4          0.2               0\n",
      "2           4.7          3.2           1.3          0.2               0\n",
      "3           4.6          3.1           1.5          0.2               0\n",
      "4           5.0          3.6           1.4          0.2               0\n",
      "Prediction:\n",
      "Accuracy Score 0.9666666666666667\n",
      "Accuracy Score -test data 0.9777777777777777\n",
      "[0.9555555555555556, 0.9555555555555556, 0.97777777777777775, 0.97777777777777775, 0.97777777777777775, 0.97777777777777775, 0.97777777777777775, 0.97777777777777775, 0.97777777777777775, 0.97777777777777775, 0.97777777777777775, 0.97777777777777775, 0.97777777777777775, 0.97777777777777775, 0.97777777777777775, 0.97777777777777775, 0.97777777777777775, 0.97777777777777775, 0.97777777777777775, 0.97777777777777775, 0.97777777777777775, 0.97777777777777775, 0.97777777777777775, 0.97777777777777775, 0.97777777777777775]\n"
     ]
    },
    {
     "data": {
      "image/png": "[encoded data removed]",
      "text/plain": [
       "<matplotlib.figure.Figure at 0x24e587fcf28>"
      ]
     },
     "metadata": {},
     "output_type": "display_data"
    }
   ],
   "source": [
    "start_classification(FILENAME)"
   ]
  },
  {
   "cell_type": "code",
   "execution_count": null,
   "metadata": {
    "collapsed": true
   },
   "outputs": [],
   "source": []
  }
 ],
 "metadata": {
  "kernelspec": {
   "display_name": "Python 3",
   "language": "python",
   "name": "python3"
  },
  "language_info": {
   "codemirror_mode": {
    "name": "ipython",
    "version": 3
   },
   "file_extension": ".py",
   "mimetype": "text/x-python",
   "name": "python",
   "nbconvert_exporter": "python",
   "pygments_lexer": "ipython3",
   "version": "3.5.3"
  }
 },
 "nbformat": 4,
 "nbformat_minor": 2
}
