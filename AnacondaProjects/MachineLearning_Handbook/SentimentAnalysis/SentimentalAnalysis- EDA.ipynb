{
 "cells": [
  {
   "cell_type": "code",
   "execution_count": 1,
   "metadata": {},
   "outputs": [],
   "source": [
    "import re\n",
    "import string\n",
    "import numpy as np\n",
    "import pandas as pd"
   ]
  },
  {
   "cell_type": "code",
   "execution_count": 2,
   "metadata": {},
   "outputs": [],
   "source": [
    "train_df = pd.read_csv('train.csv')"
   ]
  },
  {
   "cell_type": "code",
   "execution_count": 3,
   "metadata": {},
   "outputs": [],
   "source": [
    "test_df = pd.read_csv('test.csv')"
   ]
  },
  {
   "cell_type": "code",
   "execution_count": 4,
   "metadata": {},
   "outputs": [],
   "source": [
    "full_dataset = pd.concat([train_df, test_df], sort=False)"
   ]
  },
  {
   "cell_type": "code",
   "execution_count": 5,
   "metadata": {},
   "outputs": [],
   "source": [
    "from nltk.tokenize.casual import casual_tokenize"
   ]
  },
  {
   "cell_type": "code",
   "execution_count": 6,
   "metadata": {},
   "outputs": [],
   "source": [
    "from sklearn.feature_extraction import text\n",
    "sk_learn_stopwords = text.ENGLISH_STOP_WORDS\n",
    "from nltk.corpus import stopwords\n",
    "nltk__stopwords = stopwords.words('english')\n",
    "stop_words = sk_learn_stopwords.intersection(nltk__stopwords)"
   ]
  },
  {
   "cell_type": "code",
   "execution_count": 7,
   "metadata": {},
   "outputs": [],
   "source": [
    "def clean_row(row):\n",
    "    \"\"\"Cleans the row \"\"\"\n",
    "    temp_tweet = row['tweet']\n",
    "    temp_tweet = re.sub(r'https?:\\/\\/.*\\/[a-zA-Z0-9]*', '', temp_tweet)\n",
    "    temp_tweet = re.sub(r'&amp;quot;|&amp;amp', '', temp_tweet)\n",
    "    temp_tweet = re.sub(r'@[\\w]*', '', temp_tweet)\n",
    "    #temp_tweet = re.sub(r'#[a-zA-Z0-9]*', '', temp_tweet)\n",
    "    return temp_tweet"
   ]
  },
  {
   "cell_type": "code",
   "execution_count": 8,
   "metadata": {},
   "outputs": [],
   "source": [
    "def remove_punctuations(text):\n",
    "    for punctuation in string.punctuation:\n",
    "        text = text.replace(punctuation, '')\n",
    "    return text"
   ]
  },
  {
   "cell_type": "code",
   "execution_count": 9,
   "metadata": {},
   "outputs": [],
   "source": [
    "def tweet_casual_tokenize(text):\n",
    "    return casual_tokenize(text, reduce_len=True, strip_handles=True)"
   ]
  },
  {
   "cell_type": "code",
   "execution_count": 10,
   "metadata": {},
   "outputs": [],
   "source": [
    "def remove_stopwords(words):\n",
    "    return [word for word in words if word not in stop_words]"
   ]
  },
  {
   "cell_type": "code",
   "execution_count": 11,
   "metadata": {},
   "outputs": [],
   "source": [
    "full_dataset['tweet'] = full_dataset['tweet'].str.lower()\n",
    "full_dataset['tweet'] = full_dataset.apply(clean_row, axis=1)"
   ]
  },
  {
   "cell_type": "code",
   "execution_count": 12,
   "metadata": {},
   "outputs": [],
   "source": [
    "full_dataset['cleaned_tweet'] = full_dataset['tweet'].apply(\n",
    "    tweet_casual_tokenize)\n",
    "full_dataset['cleaned_tweet'] = full_dataset['cleaned_tweet'].apply(\n",
    "    remove_stopwords)"
   ]
  },
  {
   "cell_type": "code",
   "execution_count": 13,
   "metadata": {},
   "outputs": [],
   "source": [
    "full_dataset['tweet_length'] = full_dataset['tweet'].str.len()\n",
    "\n",
    "full_dataset['cleaned_tweet'] = full_dataset['cleaned_tweet'].apply(\n",
    "    lambda x: ' '.join(x))\n",
    "full_dataset['cleaned_tweet'] = full_dataset['cleaned_tweet'].apply(\n",
    "    remove_punctuations)\n",
    "full_dataset['word_count'] = full_dataset['cleaned_tweet'].str.len()"
   ]
  },
  {
   "cell_type": "code",
   "execution_count": 14,
   "metadata": {},
   "outputs": [
    {
     "data": {
      "text/plain": [
       "array(['#fingerprint #pregnancy test  #android #apps #beautiful #cute #health #igers #iphoneonly #iphonesia #iphone',\n",
       "       \"i hate the new #iphone upgrade. won't let me download apps. #ugh #apple sucks\"],\n",
       "      dtype=object)"
      ]
     },
     "execution_count": 14,
     "metadata": {},
     "output_type": "execute_result"
    }
   ],
   "source": [
    "full_dataset.loc[0]['tweet'].values"
   ]
  },
  {
   "cell_type": "code",
   "execution_count": 15,
   "metadata": {},
   "outputs": [
    {
     "data": {
      "text/plain": [
       "array(['fingerprint pregnancy test android apps beautiful cute health igers iphoneonly iphonesia iphone',\n",
       "       'hate new iphone upgrade  wont let download apps  ugh apple sucks'],\n",
       "      dtype=object)"
      ]
     },
     "execution_count": 15,
     "metadata": {},
     "output_type": "execute_result"
    }
   ],
   "source": [
    "full_dataset.loc[0]['cleaned_tweet'].values"
   ]
  },
  {
   "cell_type": "code",
   "execution_count": 16,
   "metadata": {},
   "outputs": [],
   "source": [
    "from textblob import TextBlob"
   ]
  },
  {
   "cell_type": "code",
   "execution_count": 17,
   "metadata": {},
   "outputs": [],
   "source": [
    "full_dataset['polarity'] = full_dataset['tweet'].apply(\n",
    "    lambda x: TextBlob(x).sentiment.polarity)"
   ]
  },
  {
   "cell_type": "code",
   "execution_count": 18,
   "metadata": {},
   "outputs": [
    {
     "data": {
      "text/html": [
       "<div>\n",
       "<style scoped>\n",
       "    .dataframe tbody tr th:only-of-type {\n",
       "        vertical-align: middle;\n",
       "    }\n",
       "\n",
       "    .dataframe tbody tr th {\n",
       "        vertical-align: top;\n",
       "    }\n",
       "\n",
       "    .dataframe thead th {\n",
       "        text-align: right;\n",
       "    }\n",
       "</style>\n",
       "<table border=\"1\" class=\"dataframe\">\n",
       "  <thead>\n",
       "    <tr style=\"text-align: right;\">\n",
       "      <th></th>\n",
       "      <th>id</th>\n",
       "      <th>label</th>\n",
       "      <th>tweet</th>\n",
       "      <th>cleaned_tweet</th>\n",
       "      <th>tweet_length</th>\n",
       "      <th>word_count</th>\n",
       "      <th>polarity</th>\n",
       "    </tr>\n",
       "  </thead>\n",
       "  <tbody>\n",
       "    <tr>\n",
       "      <th>0</th>\n",
       "      <td>1</td>\n",
       "      <td>0.0</td>\n",
       "      <td>#fingerprint #pregnancy test  #android #apps #...</td>\n",
       "      <td>fingerprint pregnancy test android apps beauti...</td>\n",
       "      <td>107</td>\n",
       "      <td>95</td>\n",
       "      <td>0.675000</td>\n",
       "    </tr>\n",
       "    <tr>\n",
       "      <th>1</th>\n",
       "      <td>2</td>\n",
       "      <td>0.0</td>\n",
       "      <td>finally a transparant silicon case ^^ thanks t...</td>\n",
       "      <td>finally transparant silicon case   thanks uncl...</td>\n",
       "      <td>97</td>\n",
       "      <td>82</td>\n",
       "      <td>0.233333</td>\n",
       "    </tr>\n",
       "    <tr>\n",
       "      <th>2</th>\n",
       "      <td>3</td>\n",
       "      <td>0.0</td>\n",
       "      <td>we love this! would you go? #talk #makememorie...</td>\n",
       "      <td>love  would go  talk makememories unplug relax...</td>\n",
       "      <td>101</td>\n",
       "      <td>78</td>\n",
       "      <td>0.625000</td>\n",
       "    </tr>\n",
       "    <tr>\n",
       "      <th>3</th>\n",
       "      <td>4</td>\n",
       "      <td>0.0</td>\n",
       "      <td>i'm wired i know i'm george i was made that wa...</td>\n",
       "      <td>im wired know im george made way  iphone cute ...</td>\n",
       "      <td>81</td>\n",
       "      <td>59</td>\n",
       "      <td>0.375000</td>\n",
       "    </tr>\n",
       "    <tr>\n",
       "      <th>4</th>\n",
       "      <td>5</td>\n",
       "      <td>1.0</td>\n",
       "      <td>what amazing service! apple won't even talk to...</td>\n",
       "      <td>amazing service  apple wont even talk question...</td>\n",
       "      <td>124</td>\n",
       "      <td>79</td>\n",
       "      <td>-0.125000</td>\n",
       "    </tr>\n",
       "  </tbody>\n",
       "</table>\n",
       "</div>"
      ],
      "text/plain": [
       "   id  label                                              tweet  \\\n",
       "0   1    0.0  #fingerprint #pregnancy test  #android #apps #...   \n",
       "1   2    0.0  finally a transparant silicon case ^^ thanks t...   \n",
       "2   3    0.0  we love this! would you go? #talk #makememorie...   \n",
       "3   4    0.0  i'm wired i know i'm george i was made that wa...   \n",
       "4   5    1.0  what amazing service! apple won't even talk to...   \n",
       "\n",
       "                                       cleaned_tweet  tweet_length  \\\n",
       "0  fingerprint pregnancy test android apps beauti...           107   \n",
       "1  finally transparant silicon case   thanks uncl...            97   \n",
       "2  love  would go  talk makememories unplug relax...           101   \n",
       "3  im wired know im george made way  iphone cute ...            81   \n",
       "4  amazing service  apple wont even talk question...           124   \n",
       "\n",
       "   word_count  polarity  \n",
       "0          95  0.675000  \n",
       "1          82  0.233333  \n",
       "2          78  0.625000  \n",
       "3          59  0.375000  \n",
       "4          79 -0.125000  "
      ]
     },
     "execution_count": 18,
     "metadata": {},
     "output_type": "execute_result"
    }
   ],
   "source": [
    "full_dataset.head()"
   ]
  },
  {
   "cell_type": "code",
   "execution_count": 19,
   "metadata": {},
   "outputs": [],
   "source": [
    "train = full_dataset[full_dataset['label'].notnull()]"
   ]
  },
  {
   "cell_type": "code",
   "execution_count": 20,
   "metadata": {},
   "outputs": [
    {
     "data": {
      "text/html": [
       "<div>\n",
       "<style scoped>\n",
       "    .dataframe tbody tr th:only-of-type {\n",
       "        vertical-align: middle;\n",
       "    }\n",
       "\n",
       "    .dataframe tbody tr th {\n",
       "        vertical-align: top;\n",
       "    }\n",
       "\n",
       "    .dataframe thead th {\n",
       "        text-align: right;\n",
       "    }\n",
       "</style>\n",
       "<table border=\"1\" class=\"dataframe\">\n",
       "  <thead>\n",
       "    <tr style=\"text-align: right;\">\n",
       "      <th></th>\n",
       "      <th>id</th>\n",
       "      <th>label</th>\n",
       "      <th>tweet</th>\n",
       "      <th>cleaned_tweet</th>\n",
       "      <th>tweet_length</th>\n",
       "      <th>word_count</th>\n",
       "      <th>polarity</th>\n",
       "    </tr>\n",
       "  </thead>\n",
       "  <tbody>\n",
       "    <tr>\n",
       "      <th>0</th>\n",
       "      <td>1</td>\n",
       "      <td>0.0</td>\n",
       "      <td>#fingerprint #pregnancy test  #android #apps #...</td>\n",
       "      <td>fingerprint pregnancy test android apps beauti...</td>\n",
       "      <td>107</td>\n",
       "      <td>95</td>\n",
       "      <td>0.675000</td>\n",
       "    </tr>\n",
       "    <tr>\n",
       "      <th>1</th>\n",
       "      <td>2</td>\n",
       "      <td>0.0</td>\n",
       "      <td>finally a transparant silicon case ^^ thanks t...</td>\n",
       "      <td>finally transparant silicon case   thanks uncl...</td>\n",
       "      <td>97</td>\n",
       "      <td>82</td>\n",
       "      <td>0.233333</td>\n",
       "    </tr>\n",
       "    <tr>\n",
       "      <th>2</th>\n",
       "      <td>3</td>\n",
       "      <td>0.0</td>\n",
       "      <td>we love this! would you go? #talk #makememorie...</td>\n",
       "      <td>love  would go  talk makememories unplug relax...</td>\n",
       "      <td>101</td>\n",
       "      <td>78</td>\n",
       "      <td>0.625000</td>\n",
       "    </tr>\n",
       "    <tr>\n",
       "      <th>3</th>\n",
       "      <td>4</td>\n",
       "      <td>0.0</td>\n",
       "      <td>i'm wired i know i'm george i was made that wa...</td>\n",
       "      <td>im wired know im george made way  iphone cute ...</td>\n",
       "      <td>81</td>\n",
       "      <td>59</td>\n",
       "      <td>0.375000</td>\n",
       "    </tr>\n",
       "    <tr>\n",
       "      <th>4</th>\n",
       "      <td>5</td>\n",
       "      <td>1.0</td>\n",
       "      <td>what amazing service! apple won't even talk to...</td>\n",
       "      <td>amazing service  apple wont even talk question...</td>\n",
       "      <td>124</td>\n",
       "      <td>79</td>\n",
       "      <td>-0.125000</td>\n",
       "    </tr>\n",
       "  </tbody>\n",
       "</table>\n",
       "</div>"
      ],
      "text/plain": [
       "   id  label                                              tweet  \\\n",
       "0   1    0.0  #fingerprint #pregnancy test  #android #apps #...   \n",
       "1   2    0.0  finally a transparant silicon case ^^ thanks t...   \n",
       "2   3    0.0  we love this! would you go? #talk #makememorie...   \n",
       "3   4    0.0  i'm wired i know i'm george i was made that wa...   \n",
       "4   5    1.0  what amazing service! apple won't even talk to...   \n",
       "\n",
       "                                       cleaned_tweet  tweet_length  \\\n",
       "0  fingerprint pregnancy test android apps beauti...           107   \n",
       "1  finally transparant silicon case   thanks uncl...            97   \n",
       "2  love  would go  talk makememories unplug relax...           101   \n",
       "3  im wired know im george made way  iphone cute ...            81   \n",
       "4  amazing service  apple wont even talk question...           124   \n",
       "\n",
       "   word_count  polarity  \n",
       "0          95  0.675000  \n",
       "1          82  0.233333  \n",
       "2          78  0.625000  \n",
       "3          59  0.375000  \n",
       "4          79 -0.125000  "
      ]
     },
     "execution_count": 20,
     "metadata": {},
     "output_type": "execute_result"
    }
   ],
   "source": [
    "train.head()"
   ]
  },
  {
   "cell_type": "code",
   "execution_count": 21,
   "metadata": {},
   "outputs": [
    {
     "data": {
      "text/plain": [
       "<matplotlib.axes._subplots.AxesSubplot at 0x156c8fe9088>"
      ]
     },
     "execution_count": 21,
     "metadata": {},
     "output_type": "execute_result"
    }
   ],
   "source": [
    "import seaborn as sns\n",
    "import numpy as np\n",
    "sns.distplot(train[train['label'] == 1]['polarity'], bins=15)"
   ]
  },
  {
   "cell_type": "code",
   "execution_count": 22,
   "metadata": {},
   "outputs": [
    {
     "data": {
      "text/plain": [
       "<matplotlib.axes._subplots.AxesSubplot at 0x156c8be6e88>"
      ]
     },
     "execution_count": 22,
     "metadata": {},
     "output_type": "execute_result"
    },
    {
     "data": {
      "image/png": "[encoded data removed]",
      "text/plain": [
       "<Figure size 432x288 with 1 Axes>"
      ]
     },
     "metadata": {
      "needs_background": "light"
     },
     "output_type": "display_data"
    }
   ],
   "source": [
    "sns.distplot(train[train['label'] == 0]['polarity'], bins=15)"
   ]
  },
  {
   "cell_type": "code",
   "execution_count": 23,
   "metadata": {},
   "outputs": [
    {
     "data": {
      "text/plain": [
       "<matplotlib.axes._subplots.AxesSubplot at 0x156c8eb0548>"
      ]
     },
     "execution_count": 23,
     "metadata": {},
     "output_type": "execute_result"
    },
    {
     "data": {
      "image/png": "[encoded data removed]",
      "text/plain": [
       "<Figure size 432x288 with 1 Axes>"
      ]
     },
     "metadata": {
      "needs_background": "light"
     },
     "output_type": "display_data"
    }
   ],
   "source": [
    "sns.distplot(train[train['label'] == 0]['word_count'])"
   ]
  },
  {
   "cell_type": "code",
   "execution_count": 24,
   "metadata": {},
   "outputs": [
    {
     "data": {
      "text/plain": [
       "<matplotlib.axes._subplots.AxesSubplot at 0x156c901ca08>"
      ]
     },
     "execution_count": 24,
     "metadata": {},
     "output_type": "execute_result"
    },
    {
     "data": {
      "image/png": "[encoded data removed]",
      "text/plain": [
       "<Figure size 432x288 with 1 Axes>"
      ]
     },
     "metadata": {
      "needs_background": "light"
     },
     "output_type": "display_data"
    }
   ],
   "source": [
    "sns.distplot(train[train['label'] == 1]['word_count'])"
   ]
  },
  {
   "cell_type": "code",
   "execution_count": null,
   "metadata": {},
   "outputs": [],
   "source": []
  }
 ],
 "metadata": {
  "kernelspec": {
   "display_name": "Python 3",
   "language": "python",
   "name": "python3"
  },
  "language_info": {
   "codemirror_mode": {
    "name": "ipython",
    "version": 3
   },
   "file_extension": ".py",
   "mimetype": "text/x-python",
   "name": "python",
   "nbconvert_exporter": "python",
   "pygments_lexer": "ipython3",
   "version": "3.7.5"
  }
 },
 "nbformat": 4,
 "nbformat_minor": 2
}
