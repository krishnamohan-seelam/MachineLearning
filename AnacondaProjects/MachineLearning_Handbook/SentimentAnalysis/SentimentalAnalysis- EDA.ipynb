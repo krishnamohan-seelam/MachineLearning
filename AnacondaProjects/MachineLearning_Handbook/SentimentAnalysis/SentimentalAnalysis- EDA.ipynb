{
 "cells": [
  {
   "cell_type": "code",
   "execution_count": 1,
   "metadata": {},
   "outputs": [],
   "source": [
    "import re\n",
    "import string\n",
    "import numpy as np\n",
    "import pandas as pd"
   ]
  },
  {
   "cell_type": "code",
   "execution_count": 2,
   "metadata": {},
   "outputs": [],
   "source": [
    "train_df = pd.read_csv('train.csv')"
   ]
  },
  {
   "cell_type": "code",
   "execution_count": 3,
   "metadata": {},
   "outputs": [],
   "source": [
    "test_df = pd.read_csv('test.csv')"
   ]
  },
  {
   "cell_type": "code",
   "execution_count": 4,
   "metadata": {},
   "outputs": [],
   "source": [
    "full_dataset = pd.concat([train_df,test_df],sort=False)"
   ]
  },
  {
   "cell_type": "code",
   "execution_count": 5,
   "metadata": {},
   "outputs": [],
   "source": [
    "from nltk.tokenize.casual import casual_tokenize"
   ]
  },
  {
   "cell_type": "code",
   "execution_count": 6,
   "metadata": {},
   "outputs": [],
   "source": [
    "from sklearn.feature_extraction import text\n",
    "sk_learn_stopwords = text.ENGLISH_STOP_WORDS\n",
    "from nltk.corpus import stopwords\n",
    "nltk__stopwords =   stopwords.words('english')\n",
    "stop_words =sk_learn_stopwords.intersection(nltk__stopwords)\n"
   ]
  },
  {
   "cell_type": "code",
   "execution_count": 7,
   "metadata": {},
   "outputs": [],
   "source": [
    "def clean_row(row):\n",
    "    temp_tweet= row['tweet']\n",
    "    temp_tweet = re.sub(r'https?:\\/\\/.*\\/[a-zA-Z0-9]*', '', temp_tweet)\n",
    "    temp_tweet = re.sub(r'&amp;quot;|&amp;amp', '', temp_tweet)\n",
    "    temp_tweet = re.sub(r'@[\\w]*', '', temp_tweet)\n",
    "    #temp_tweet = re.sub(r'#[a-zA-Z0-9]*', '', temp_tweet)\n",
    "    return temp_tweet"
   ]
  },
  {
   "cell_type": "code",
   "execution_count": 8,
   "metadata": {},
   "outputs": [],
   "source": [
    "def remove_punctuations(text):\n",
    "    for punctuation in string.punctuation:\n",
    "        text = text.replace(punctuation, '')\n",
    "    return text"
   ]
  },
  {
   "cell_type": "code",
   "execution_count": 9,
   "metadata": {},
   "outputs": [],
   "source": [
    "def tweet_casual_tokenize(text):\n",
    "    return casual_tokenize(text,reduce_len=True, strip_handles=True)\n"
   ]
  },
  {
   "cell_type": "code",
   "execution_count": 10,
   "metadata": {},
   "outputs": [],
   "source": [
    "def remove_stopwords(words):\n",
    "    return [word for word in words if word not in stop_words]\n"
   ]
  },
  {
   "cell_type": "code",
   "execution_count": 11,
   "metadata": {},
   "outputs": [],
   "source": [
    "full_dataset['tweet'] = full_dataset['tweet'].str.lower()\n",
    "full_dataset['tweet'] = full_dataset.apply(clean_row,axis=1)\n",
    "full_dataset['tweet'] = full_dataset['tweet'].apply(remove_punctuations) "
   ]
  },
  {
   "cell_type": "code",
   "execution_count": 12,
   "metadata": {},
   "outputs": [],
   "source": [
    "\n",
    "full_dataset['cleaned_tweet'] = full_dataset['tweet'].apply(tweet_casual_tokenize) \n",
    "full_dataset['cleaned_tweet'] = full_dataset['cleaned_tweet'].apply(remove_stopwords) "
   ]
  },
  {
   "cell_type": "code",
   "execution_count": 13,
   "metadata": {},
   "outputs": [],
   "source": [
    "full_dataset['tweet_length'] = full_dataset['tweet'].str.len()\n",
    "full_dataset['cleaned_tweet_length'] = full_dataset['cleaned_tweet'].str.len()"
   ]
  },
  {
   "cell_type": "code",
   "execution_count": 14,
   "metadata": {},
   "outputs": [
    {
     "data": {
      "text/html": [
       "<div>\n",
       "<style scoped>\n",
       "    .dataframe tbody tr th:only-of-type {\n",
       "        vertical-align: middle;\n",
       "    }\n",
       "\n",
       "    .dataframe tbody tr th {\n",
       "        vertical-align: top;\n",
       "    }\n",
       "\n",
       "    .dataframe thead th {\n",
       "        text-align: right;\n",
       "    }\n",
       "</style>\n",
       "<table border=\"1\" class=\"dataframe\">\n",
       "  <thead>\n",
       "    <tr style=\"text-align: right;\">\n",
       "      <th></th>\n",
       "      <th>id</th>\n",
       "      <th>label</th>\n",
       "      <th>tweet</th>\n",
       "      <th>cleaned_tweet</th>\n",
       "      <th>tweet_length</th>\n",
       "      <th>cleaned_tweet_length</th>\n",
       "    </tr>\n",
       "  </thead>\n",
       "  <tbody>\n",
       "    <tr>\n",
       "      <th>0</th>\n",
       "      <td>1</td>\n",
       "      <td>0.0</td>\n",
       "      <td>fingerprint pregnancy test  android apps beaut...</td>\n",
       "      <td>[fingerprint, pregnancy, test, android, apps, ...</td>\n",
       "      <td>96</td>\n",
       "      <td>12</td>\n",
       "    </tr>\n",
       "    <tr>\n",
       "      <th>1</th>\n",
       "      <td>2</td>\n",
       "      <td>0.0</td>\n",
       "      <td>finally a transparant silicon case  thanks to ...</td>\n",
       "      <td>[finally, transparant, silicon, case, thanks, ...</td>\n",
       "      <td>88</td>\n",
       "      <td>12</td>\n",
       "    </tr>\n",
       "    <tr>\n",
       "      <th>2</th>\n",
       "      <td>3</td>\n",
       "      <td>0.0</td>\n",
       "      <td>we love this would you go talk makememories un...</td>\n",
       "      <td>[love, would, go, talk, makememories, unplug, ...</td>\n",
       "      <td>88</td>\n",
       "      <td>11</td>\n",
       "    </tr>\n",
       "    <tr>\n",
       "      <th>3</th>\n",
       "      <td>4</td>\n",
       "      <td>0.0</td>\n",
       "      <td>im wired i know im george i was made that way ...</td>\n",
       "      <td>[im, wired, know, im, george, made, way, iphon...</td>\n",
       "      <td>73</td>\n",
       "      <td>11</td>\n",
       "    </tr>\n",
       "    <tr>\n",
       "      <th>4</th>\n",
       "      <td>5</td>\n",
       "      <td>1.0</td>\n",
       "      <td>what amazing service apple wont even talk to m...</td>\n",
       "      <td>[amazing, service, apple, wont, even, talk, qu...</td>\n",
       "      <td>119</td>\n",
       "      <td>12</td>\n",
       "    </tr>\n",
       "  </tbody>\n",
       "</table>\n",
       "</div>"
      ],
      "text/plain": [
       "   id  label                                              tweet  \\\n",
       "0   1    0.0  fingerprint pregnancy test  android apps beaut...   \n",
       "1   2    0.0  finally a transparant silicon case  thanks to ...   \n",
       "2   3    0.0  we love this would you go talk makememories un...   \n",
       "3   4    0.0  im wired i know im george i was made that way ...   \n",
       "4   5    1.0  what amazing service apple wont even talk to m...   \n",
       "\n",
       "                                       cleaned_tweet  tweet_length  \\\n",
       "0  [fingerprint, pregnancy, test, android, apps, ...            96   \n",
       "1  [finally, transparant, silicon, case, thanks, ...            88   \n",
       "2  [love, would, go, talk, makememories, unplug, ...            88   \n",
       "3  [im, wired, know, im, george, made, way, iphon...            73   \n",
       "4  [amazing, service, apple, wont, even, talk, qu...           119   \n",
       "\n",
       "   cleaned_tweet_length  \n",
       "0                    12  \n",
       "1                    12  \n",
       "2                    11  \n",
       "3                    11  \n",
       "4                    12  "
      ]
     },
     "execution_count": 14,
     "metadata": {},
     "output_type": "execute_result"
    }
   ],
   "source": [
    "full_dataset.head()"
   ]
  },
  {
   "cell_type": "code",
   "execution_count": 15,
   "metadata": {},
   "outputs": [
    {
     "data": {
      "text/plain": [
       "array(['fingerprint pregnancy test  android apps beautiful cute health igers iphoneonly iphonesia iphone',\n",
       "       'i hate the new iphone upgrade wont let me download apps ugh apple sucks'],\n",
       "      dtype=object)"
      ]
     },
     "execution_count": 15,
     "metadata": {},
     "output_type": "execute_result"
    }
   ],
   "source": [
    "full_dataset.loc[0]['tweet'].values"
   ]
  },
  {
   "cell_type": "code",
   "execution_count": 16,
   "metadata": {},
   "outputs": [
    {
     "data": {
      "text/plain": [
       "array([list(['fingerprint', 'pregnancy', 'test', 'android', 'apps', 'beautiful', 'cute', 'health', 'igers', 'iphoneonly', 'iphonesia', 'iphone']),\n",
       "       list(['hate', 'new', 'iphone', 'upgrade', 'wont', 'let', 'download', 'apps', 'ugh', 'apple', 'sucks'])],\n",
       "      dtype=object)"
      ]
     },
     "execution_count": 16,
     "metadata": {},
     "output_type": "execute_result"
    }
   ],
   "source": [
    "full_dataset.loc[0]['cleaned_tweet'].values"
   ]
  },
  {
   "cell_type": "code",
   "execution_count": null,
   "metadata": {},
   "outputs": [],
   "source": []
  }
 ],
 "metadata": {
  "kernelspec": {
   "display_name": "Python 3",
   "language": "python",
   "name": "python3"
  },
  "language_info": {
   "codemirror_mode": {
    "name": "ipython",
    "version": 3
   },
   "file_extension": ".py",
   "mimetype": "text/x-python",
   "name": "python",
   "nbconvert_exporter": "python",
   "pygments_lexer": "ipython3",
   "version": "3.7.5"
  }
 },
 "nbformat": 4,
 "nbformat_minor": 2
}
