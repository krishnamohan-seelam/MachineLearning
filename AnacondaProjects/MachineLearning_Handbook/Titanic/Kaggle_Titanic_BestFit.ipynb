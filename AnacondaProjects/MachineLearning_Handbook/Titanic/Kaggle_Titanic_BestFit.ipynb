{
 "cells": [
  {
   "cell_type": "markdown",
   "metadata": {},
   "source": [
    "# Title- Titanic: Machine Learning from Disaster\n",
    "\n",
    "### Competition Description\n",
    "\n",
    "The sinking of the RMS Titanic is one of the most infamous shipwrecks in history.  On April 15, 1912, during her maiden voyage, the Titanic sank after colliding with an iceberg, killing 1502 out of 2224 passengers and crew. This sensational tragedy shocked the international community and led to better safety regulations for ships.\n",
    "\n",
    "One of the reasons that the shipwreck led to such loss of life was that there were not enough lifeboats for the passengers and crew. Although there was some element of luck involved in surviving the sinking, some groups of people were more likely to survive than others, such as women, children, and the upper-class.\n",
    "\n",
    "In this challenge, we ask you to complete the analysis of what sorts of people were likely to survive. In particular, we ask you to apply the tools of machine learning to predict which passengers survived the tragedy.\n",
    "\n",
    "#### Practice Skills\n",
    "###### Binary classification \n",
    "---"
   ]
  },
  {
   "cell_type": "markdown",
   "metadata": {},
   "source": [
    "### Overview\n",
    "The data has been split into two groups:\n",
    "\n",
    "training set (train.csv)\n",
    "test set (test.csv)\n",
    "\n",
    "The training set should be used to build your machine learning models. For the training set, we provide the outcome (also known as the “ground truth”) for each passenger. Your model will be based on “features” like passengers’ gender and class. You can also use feature engineering to create new features.\n",
    "\n",
    "The test set should be used to see how well your model performs on unseen data. For the test set, we do not provide the ground truth for each passenger. It is your job to predict these outcomes. For each passenger in the test set, use the model you trained to predict whether or not they survived the sinking of the Titanic.\n",
    "\n",
    "We also include gender_submission.csv, a set of predictions that assume all and only female passengers survive, as an example of what a submission file should look like.\n",
    "\n",
    "----"
   ]
  },
  {
   "cell_type": "markdown",
   "metadata": {},
   "source": [
    "### Data Dictionary\n",
    "\n",
    "<table>\n",
    "<tbody>\n",
    "<tr><th><b>Variable</b></th><th><b>Definition</b></th><th><b>Key</b></th></tr>\n",
    "<tr>\n",
    "<td>survival</td>\n",
    "<td>Survival</td>\n",
    "<td>0 = No, 1 = Yes</td>\n",
    "</tr>\n",
    "<tr>\n",
    "<td>pclass</td>\n",
    "<td>Ticket class</td>\n",
    "<td>1 = 1st, 2 = 2nd, 3 = 3rd</td>\n",
    "</tr>\n",
    "<tr>\n",
    "<td>sex</td>\n",
    "<td>Sex</td>\n",
    "<td></td>\n",
    "</tr>\n",
    "<tr>\n",
    "<td>Age</td>\n",
    "<td>Age in years</td>\n",
    "<td></td>\n",
    "</tr>\n",
    "<tr>\n",
    "<td>sibsp</td>\n",
    "<td># of siblings / spouses aboard the Titanic</td>\n",
    "<td></td>\n",
    "</tr>\n",
    "<tr>\n",
    "<td>parch</td>\n",
    "<td># of parents / children aboard the Titanic</td>\n",
    "<td></td>\n",
    "</tr>\n",
    "<tr>\n",
    "<td>ticket</td>\n",
    "<td>Ticket number</td>\n",
    "<td></td>\n",
    "</tr>\n",
    "<tr>\n",
    "<td>fare</td>\n",
    "<td>Passenger fare</td>\n",
    "<td></td>\n",
    "</tr>\n",
    "<tr>\n",
    "<td>cabin</td>\n",
    "<td>Cabin number</td>\n",
    "<td></td>\n",
    "</tr>\n",
    "<tr>\n",
    "<td>embarked</td>\n",
    "<td>Port of Embarkation</td>\n",
    "<td>C = Cherbourg, Q = Queenstown, S = Southampton</td>\n",
    "</tr>\n",
    "</tbody>\n",
    "</table>\n",
    "\n",
    " \n"
   ]
  },
  {
   "cell_type": "markdown",
   "metadata": {},
   "source": [
    "---\n",
    "### Variable Notes\n",
    "<p><b>pclass</b>: A proxy for socio-economic status (SES)<br> 1st = Upper<br> 2nd = Middle<br> 3rd = Lower<br><br> <b>age</b>: Age is fractional if less than 1. If the age is estimated, is it in the form of xx.5<br><br> <b>sibsp</b>: The dataset defines family relations in this way...<br> Sibling = brother, sister, stepbrother, stepsister<br> Spouse = husband, wife (mistresses and fiancés were ignored)<br><br> <b>parch</b>: The dataset defines family relations in this way...<br> Parent = mother, father<br> Child = daughter, son, stepdaughter, stepson<br> Some children travelled only with a nanny, therefore parch=0 for them.</p>"
   ]
  },
  {
   "cell_type": "markdown",
   "metadata": {},
   "source": [
    "---\n",
    "### 1.Prepare Problem\n",
    "#### a.Load libraries\n",
    "#### b.Load dataset\n",
    "##### for this problem we will be loading training set and test  from two files as given by kaggle "
   ]
  },
  {
   "cell_type": "code",
   "execution_count": 1,
   "metadata": {},
   "outputs": [],
   "source": [
    "import os\n",
    "import math\n",
    "import datetime\n",
    "\n",
    "from sklearn.preprocessing import LabelEncoder\n",
    "from sklearn.preprocessing import LabelBinarizer\n",
    "\n",
    "from mlsettings.settings import load_app_config, get_datafolder_path\n",
    "from mltools.mlcommon import load_data, print_dataset_info, split_dataset, auto_scatter_simple\n",
    "from mltools.mlcommon import detect_outliers\n",
    "\n",
    "import matplotlib.pyplot as plt\n",
    "import seaborn as sns\n",
    "import pandas as pd\n",
    "import numpy as np\n",
    " \n",
    "% matplotlib inline \n",
    "from numpy import set_printoptions\n",
    "set_printoptions(precision=4)"
   ]
  },
  {
   "cell_type": "code",
   "execution_count": 2,
   "metadata": {},
   "outputs": [
    {
     "name": "stdout",
     "output_type": "stream",
     "text": [
      "Adding D:\\DataSource  to system path\n",
      "Adding D:\\MachineLearning  to system path\n"
     ]
    }
   ],
   "source": [
    "load_app_config()\n",
    "DIRECTORY=\"kaggle_titanic\"\n",
    "TRAIN_FILE ='train.csv'\n",
    "TEST_FILE = 'test.csv'\n",
    "RESPONSE = 'Survived'\n",
    "input_path = get_datafolder_path()"
   ]
  },
  {
   "cell_type": "code",
   "execution_count": 3,
   "metadata": {},
   "outputs": [],
   "source": [
    "def load_dataset(filename=TRAIN_FILE,response=RESPONSE):\n",
    "    input_file = os.path.join(input_path, DIRECTORY, filename)\n",
    "    input_dataset = load_data(input_file)\n",
    "    print(\" input file is :{0} loaded.\".format(input_file))\n",
    "    #print(input_dataset.head())\n",
    "    \n",
    "    try:\n",
    "        continuous_vars = input_dataset.describe().columns.values.tolist()\n",
    "        print(\"Continous Variables\")\n",
    "        print(continuous_vars)\n",
    "    except ValueError:\n",
    "        print(\"No continous variables\")\n",
    "    \n",
    "    try:\n",
    "        categorical_vars = input_dataset.describe(include=[\"object\"]).columns.values.tolist()\n",
    "        print(\"Categorical Variables\")\n",
    "        print(categorical_vars)\n",
    "    except ValueError:\n",
    "        print(\"No categorical variables\")\n",
    "        categorical_vars = None\n",
    "    \n",
    "    response_column =  [col for col in input_dataset.columns if response in col]\n",
    "    feature_columns =  [col for col in input_dataset.columns if response not in col]\n",
    "      \n",
    "    return  input_dataset,feature_columns,response_column,continuous_vars,categorical_vars\n"
   ]
  },
  {
   "cell_type": "code",
   "execution_count": 4,
   "metadata": {},
   "outputs": [
    {
     "name": "stdout",
     "output_type": "stream",
     "text": [
      " input file is :D:\\DataSource\\kaggle_titanic\\train.csv loaded.\n",
      "Continous Variables\n",
      "['PassengerId', 'Survived', 'Pclass', 'Age', 'SibSp', 'Parch', 'Fare']\n",
      "Categorical Variables\n",
      "['Name', 'Sex', 'Ticket', 'Cabin', 'Embarked']\n"
     ]
    }
   ],
   "source": [
    "train_dataset,feature_columns,response_column,continuous_vars,categorical_vars = load_dataset(filename=TRAIN_FILE,response=RESPONSE)\n",
    "train_X = train_dataset[feature_columns]\n",
    "train_y = train_dataset[response_column]\n"
   ]
  },
  {
   "cell_type": "code",
   "execution_count": 5,
   "metadata": {},
   "outputs": [
    {
     "name": "stdout",
     "output_type": "stream",
     "text": [
      " input file is :D:\\DataSource\\kaggle_titanic\\test.csv loaded.\n",
      "Continous Variables\n",
      "['PassengerId', 'Pclass', 'Age', 'SibSp', 'Parch', 'Fare']\n",
      "Categorical Variables\n",
      "['Name', 'Sex', 'Ticket', 'Cabin', 'Embarked']\n"
     ]
    }
   ],
   "source": [
    "test_dataset,tfeature_columns,tresponse_column,tcontinuous_vars,tcategorical_vars  = load_dataset(filename=TEST_FILE,response=RESPONSE)\n",
    "test_X =[]\n",
    "test_y=[]\n",
    "if feature_columns:\n",
    "    test_X = test_dataset[tfeature_columns]\n",
    "\n",
    "if response_column:\n",
    "    test_y = test_dataset[tfeature_columns]\n",
    "   "
   ]
  },
  {
   "cell_type": "code",
   "execution_count": 6,
   "metadata": {},
   "outputs": [
    {
     "name": "stdout",
     "output_type": "stream",
     "text": [
      "     PassengerId  Survived  Pclass                               Name     Sex  \\\n",
      "27            28         0       1     Fortune, Mr. Charles Alexander    male   \n",
      "88            89         1       1         Fortune, Miss. Mabel Helen  female   \n",
      "159          160         0       3         Sage, Master. Thomas Henry    male   \n",
      "180          181         0       3       Sage, Miss. Constance Gladys  female   \n",
      "201          202         0       3                Sage, Mr. Frederick    male   \n",
      "324          325         0       3           Sage, Mr. George John Jr    male   \n",
      "341          342         1       1     Fortune, Miss. Alice Elizabeth  female   \n",
      "792          793         0       3            Sage, Miss. Stella Anna  female   \n",
      "846          847         0       3           Sage, Mr. Douglas Bullen    male   \n",
      "863          864         0       3  Sage, Miss. Dorothy Edith \"Dolly\"  female   \n",
      "\n",
      "      Age  SibSp  Parch    Ticket    Fare        Cabin Embarked  \n",
      "27   19.0      3      2     19950  263.00  C23 C25 C27        S  \n",
      "88   23.0      3      2     19950  263.00  C23 C25 C27        S  \n",
      "159   NaN      8      2  CA. 2343   69.55          NaN        S  \n",
      "180   NaN      8      2  CA. 2343   69.55          NaN        S  \n",
      "201   NaN      8      2  CA. 2343   69.55          NaN        S  \n",
      "324   NaN      8      2  CA. 2343   69.55          NaN        S  \n",
      "341  24.0      3      2     19950  263.00  C23 C25 C27        S  \n",
      "792   NaN      8      2  CA. 2343   69.55          NaN        S  \n",
      "846   NaN      8      2  CA. 2343   69.55          NaN        S  \n",
      "863   NaN      8      2  CA. 2343   69.55          NaN        S  \n"
     ]
    },
    {
     "name": "stderr",
     "output_type": "stream",
     "text": [
      "D:\\Anaconda3\\lib\\site-packages\\numpy\\lib\\function_base.py:4291: RuntimeWarning: Invalid value encountered in percentile\n",
      "  interpolation=interpolation)\n"
     ]
    }
   ],
   "source": [
    "    \n",
    "outliers_to_drop = detect_outliers(train_dataset,2,[\"Age\",\"SibSp\",\"Parch\",\"Fare\"])\n",
    "print(train_dataset.loc[outliers_to_drop])\n",
    "train_dataset = train_dataset.drop(outliers_to_drop, axis = 0).reset_index(drop=True)\n",
    "train_X = train_dataset[feature_columns]\n",
    "train_y = train_dataset[response_column]\n",
    " "
   ]
  },
  {
   "cell_type": "markdown",
   "metadata": {},
   "source": [
    "### 2.Summarize Data \n",
    "#### a) Descriptive statistics\n",
    "#### b) Data visualizations\n"
   ]
  },
  {
   "cell_type": "code",
   "execution_count": 7,
   "metadata": {},
   "outputs": [],
   "source": [
    "def display_data_descriptives(input_dataset,X,feature_columns,y,response_column):\n",
    "    print(\"<{0} {1} {0}>\".format(\"=\"*40,\"info\"))\n",
    "    print(input_dataset.info())\n",
    "    print(\"<{0} {1} {0}>\".format(\"=\"*40,\"feature columns\"))\n",
    "    print(feature_columns)\n",
    "    print(\"<{0} {1} {0}>\".format(\"=\"*40,\"response\"))\n",
    "    print(response_column)\n",
    "    print(\"<{0} {1} {0}>\".format(\"=\"*40,\"Descriptive Statistics -X\"))\n",
    "    print(X.describe())\n",
    "    print(\"<{0} {1} {0}>\".format(\"=\"*40,\"Descriptive Statistics -y\"))\n",
    "    print(y.describe())\n",
    "    print(\"<{0} {1} {0}>\".format(\"=\"*40,\"value_count -y\"))\n",
    " \n",
    "    print(y.groupby(response_column)[response_column].count())\n",
    "    \n",
    "   \n",
    "    ##print(\"<{0} {1} {0}>\".format(\"=\"*40,\"Correlation\"))\n",
    "    ##print(input_dataset.corr(method='pearson'))"
   ]
  },
  {
   "cell_type": "code",
   "execution_count": 8,
   "metadata": {},
   "outputs": [
    {
     "name": "stdout",
     "output_type": "stream",
     "text": [
      "<======================================== info ========================================>\n",
      "<class 'pandas.core.frame.DataFrame'>\n",
      "RangeIndex: 881 entries, 0 to 880\n",
      "Data columns (total 12 columns):\n",
      "PassengerId    881 non-null int64\n",
      "Survived       881 non-null int64\n",
      "Pclass         881 non-null int64\n",
      "Name           881 non-null object\n",
      "Sex            881 non-null object\n",
      "Age            711 non-null float64\n",
      "SibSp          881 non-null int64\n",
      "Parch          881 non-null int64\n",
      "Ticket         881 non-null object\n",
      "Fare           881 non-null float64\n",
      "Cabin          201 non-null object\n",
      "Embarked       879 non-null object\n",
      "dtypes: float64(2), int64(5), object(5)\n",
      "memory usage: 82.7+ KB\n",
      "None\n",
      "<======================================== feature columns ========================================>\n",
      "['PassengerId', 'Pclass', 'Name', 'Sex', 'Age', 'SibSp', 'Parch', 'Ticket', 'Fare', 'Cabin', 'Embarked']\n",
      "<======================================== response ========================================>\n",
      "['Survived']\n",
      "<======================================== Descriptive Statistics -X ========================================>\n",
      "       PassengerId    Pclass       Age     SibSp     Parch      Fare\n",
      "count      881.000  881.0000  711.0000  881.0000  881.0000  881.0000\n",
      "mean       446.714    2.3076   29.7316    0.4552    0.3632   31.1216\n",
      "std        256.617    0.8351   14.5478    0.8716    0.7918   47.9962\n",
      "min          1.000    1.0000    0.4200    0.0000    0.0000    0.0000\n",
      "25%        226.000    2.0000   20.2500    0.0000    0.0000    7.8958\n",
      "50%        448.000    3.0000   28.0000    0.0000    0.0000   14.4542\n",
      "75%        668.000    3.0000   38.0000    1.0000    0.0000   30.5000\n",
      "max        891.000    3.0000   80.0000    5.0000    6.0000  512.3292\n",
      "<======================================== Descriptive Statistics -y ========================================>\n",
      "       Survived\n",
      "count  881.0000\n",
      "mean     0.3859\n",
      "std      0.4871\n",
      "min      0.0000\n",
      "25%      0.0000\n",
      "50%      0.0000\n",
      "75%      1.0000\n",
      "max      1.0000\n",
      "<======================================== value_count -y ========================================>\n",
      "          Survived\n",
      "Survived          \n",
      "0              541\n",
      "1              340\n",
      "<class 'pandas.core.frame.DataFrame'>\n",
      "RangeIndex: 418 entries, 0 to 417\n",
      "Data columns (total 11 columns):\n",
      "PassengerId    418 non-null int64\n",
      "Pclass         418 non-null int64\n",
      "Name           418 non-null object\n",
      "Sex            418 non-null object\n",
      "Age            332 non-null float64\n",
      "SibSp          418 non-null int64\n",
      "Parch          418 non-null int64\n",
      "Ticket         418 non-null object\n",
      "Fare           417 non-null float64\n",
      "Cabin          91 non-null object\n",
      "Embarked       418 non-null object\n",
      "dtypes: float64(2), int64(4), object(5)\n",
      "memory usage: 36.0+ KB\n",
      "None\n",
      "<======================================== train data header ========================================>\n"
     ]
    },
    {
     "data": {
      "text/html": [
       "<div>\n",
       "<style scoped>\n",
       "    .dataframe tbody tr th:only-of-type {\n",
       "        vertical-align: middle;\n",
       "    }\n",
       "\n",
       "    .dataframe tbody tr th {\n",
       "        vertical-align: top;\n",
       "    }\n",
       "\n",
       "    .dataframe thead th {\n",
       "        text-align: right;\n",
       "    }\n",
       "</style>\n",
       "<table border=\"1\" class=\"dataframe\">\n",
       "  <thead>\n",
       "    <tr style=\"text-align: right;\">\n",
       "      <th></th>\n",
       "      <th>PassengerId</th>\n",
       "      <th>Survived</th>\n",
       "      <th>Pclass</th>\n",
       "      <th>Name</th>\n",
       "      <th>Sex</th>\n",
       "      <th>Age</th>\n",
       "      <th>SibSp</th>\n",
       "      <th>Parch</th>\n",
       "      <th>Ticket</th>\n",
       "      <th>Fare</th>\n",
       "      <th>Cabin</th>\n",
       "      <th>Embarked</th>\n",
       "    </tr>\n",
       "  </thead>\n",
       "  <tbody>\n",
       "    <tr>\n",
       "      <th>0</th>\n",
       "      <td>1</td>\n",
       "      <td>0</td>\n",
       "      <td>3</td>\n",
       "      <td>Braund, Mr. Owen Harris</td>\n",
       "      <td>male</td>\n",
       "      <td>22.0</td>\n",
       "      <td>1</td>\n",
       "      <td>0</td>\n",
       "      <td>A/5 21171</td>\n",
       "      <td>7.2500</td>\n",
       "      <td>NaN</td>\n",
       "      <td>S</td>\n",
       "    </tr>\n",
       "    <tr>\n",
       "      <th>1</th>\n",
       "      <td>2</td>\n",
       "      <td>1</td>\n",
       "      <td>1</td>\n",
       "      <td>Cumings, Mrs. John Bradley (Florence Briggs Th...</td>\n",
       "      <td>female</td>\n",
       "      <td>38.0</td>\n",
       "      <td>1</td>\n",
       "      <td>0</td>\n",
       "      <td>PC 17599</td>\n",
       "      <td>71.2833</td>\n",
       "      <td>C85</td>\n",
       "      <td>C</td>\n",
       "    </tr>\n",
       "    <tr>\n",
       "      <th>2</th>\n",
       "      <td>3</td>\n",
       "      <td>1</td>\n",
       "      <td>3</td>\n",
       "      <td>Heikkinen, Miss. Laina</td>\n",
       "      <td>female</td>\n",
       "      <td>26.0</td>\n",
       "      <td>0</td>\n",
       "      <td>0</td>\n",
       "      <td>STON/O2. 3101282</td>\n",
       "      <td>7.9250</td>\n",
       "      <td>NaN</td>\n",
       "      <td>S</td>\n",
       "    </tr>\n",
       "    <tr>\n",
       "      <th>3</th>\n",
       "      <td>4</td>\n",
       "      <td>1</td>\n",
       "      <td>1</td>\n",
       "      <td>Futrelle, Mrs. Jacques Heath (Lily May Peel)</td>\n",
       "      <td>female</td>\n",
       "      <td>35.0</td>\n",
       "      <td>1</td>\n",
       "      <td>0</td>\n",
       "      <td>113803</td>\n",
       "      <td>53.1000</td>\n",
       "      <td>C123</td>\n",
       "      <td>S</td>\n",
       "    </tr>\n",
       "    <tr>\n",
       "      <th>4</th>\n",
       "      <td>5</td>\n",
       "      <td>0</td>\n",
       "      <td>3</td>\n",
       "      <td>Allen, Mr. William Henry</td>\n",
       "      <td>male</td>\n",
       "      <td>35.0</td>\n",
       "      <td>0</td>\n",
       "      <td>0</td>\n",
       "      <td>373450</td>\n",
       "      <td>8.0500</td>\n",
       "      <td>NaN</td>\n",
       "      <td>S</td>\n",
       "    </tr>\n",
       "  </tbody>\n",
       "</table>\n",
       "</div>"
      ],
      "text/plain": [
       "   PassengerId  Survived  Pclass                                               Name     Sex   Age  SibSp  Parch  \\\n",
       "0            1         0       3                            Braund, Mr. Owen Harris    male  22.0      1      0   \n",
       "1            2         1       1  Cumings, Mrs. John Bradley (Florence Briggs Th...  female  38.0      1      0   \n",
       "2            3         1       3                             Heikkinen, Miss. Laina  female  26.0      0      0   \n",
       "3            4         1       1       Futrelle, Mrs. Jacques Heath (Lily May Peel)  female  35.0      1      0   \n",
       "4            5         0       3                           Allen, Mr. William Henry    male  35.0      0      0   \n",
       "\n",
       "             Ticket     Fare Cabin Embarked  \n",
       "0         A/5 21171   7.2500   NaN        S  \n",
       "1          PC 17599  71.2833   C85        C  \n",
       "2  STON/O2. 3101282   7.9250   NaN        S  \n",
       "3            113803  53.1000  C123        S  \n",
       "4            373450   8.0500   NaN        S  "
      ]
     },
     "execution_count": 8,
     "metadata": {},
     "output_type": "execute_result"
    }
   ],
   "source": [
    "pd.set_option('display.width', 120)\n",
    "pd.set_option('precision', 4)\n",
    "display_data_descriptives(train_dataset,train_X,feature_columns,train_y,response_column)\n",
    "#display_data_descriptives(test_dataset,tfeature_columns,tresponse_column,tcontinuous_vars,tcategorical_vars)\n",
    "print(test_dataset.info())\n",
    "print(\"<{0} {1} {0}>\".format(\"=\"*40,\"train data header\"))\n",
    "train_dataset.head() "
   ]
  },
  {
   "cell_type": "markdown",
   "metadata": {},
   "source": [
    "### Inferences  from bar plots  \n",
    "##### Survival rate of female is more than males in all passenger categories\n",
    "##### Survival rate for passenger class 3 is least\n",
    "##### Survival rate of  passengers boarded at Embarked  at  C is greater than others\n",
    "##### Passengers havings siblings survived better  than  zero siblings\n",
    "##### Passengers travelling alone had less chances of survival than families \n",
    "##### Women  from 1st  and 2nd class have 100 % survival\n",
    "##### Men from 2nd and 3rd Pclass have only around 10% survival chance.\n",
    "##### Males from Pclass 1 only have slightly higher survival chance than Pclass 2 and 3"
   ]
  },
  {
   "cell_type": "markdown",
   "metadata": {},
   "source": [
    "---  \n",
    "### 3. Prepare Data\n",
    "#### a) Data Cleaning\n",
    "#### b) Feature Selection\n",
    "#### c) Data Transforms"
   ]
  },
  {
   "cell_type": "code",
   "execution_count": 9,
   "metadata": {},
   "outputs": [],
   "source": [
    "from sklearn.preprocessing import Imputer\n",
    "train_len = len(train_X)\n",
    "full_dataset =pd.concat(objs=[train_X, test_X], axis=0).reset_index(drop=True)\n",
    "#full_dataset =[full_dataset,train_dataset]"
   ]
  },
  {
   "cell_type": "code",
   "execution_count": 10,
   "metadata": {},
   "outputs": [
    {
     "name": "stdout",
     "output_type": "stream",
     "text": [
      "<======================================== Columns having null values ========================================>\n"
     ]
    }
   ],
   "source": [
    "first_char = lambda x : x\n",
    "transform_cabin = lambda x : 1 if x!='X' else 0\n",
    "print(\"<{0} {1} {0}>\".format(\"=\"*40,\"Columns having null values\"))\n",
    "check_null = full_dataset.isnull().sum()[full_dataset.isnull().sum()>0] \n",
    " \n"
   ]
  },
  {
   "cell_type": "code",
   "execution_count": 11,
   "metadata": {},
   "outputs": [],
   "source": [
    "full_dataset['Title'] = full_dataset['Name'].str.extract(' ([A-Za-z]+)\\.',expand=False)\n"
   ]
  },
  {
   "cell_type": "code",
   "execution_count": 12,
   "metadata": {},
   "outputs": [],
   "source": [
    "#full_dataset['Title'] = full_dataset['Title'].replace(['Lady', 'Countess','Capt', 'Col', 'Don', 'Dr', 'Major', 'Rev', 'Sir', 'Jonkheer', 'Dona'], 'Other')\n",
    "#full_dataset['Title'] = full_dataset['Title'].replace('Mlle', 'Miss')\n",
    "#full_dataset['Title'] = full_dataset['Title'].replace('Ms', 'Miss')\n",
    "#full_dataset['Title'] = full_dataset['Title'].replace('Mme', 'Mrs')\n",
    "    \n",
    " "
   ]
  },
  {
   "cell_type": "code",
   "execution_count": 13,
   "metadata": {},
   "outputs": [
    {
     "name": "stdout",
     "output_type": "stream",
     "text": [
      "              Age\n",
      "Title            \n",
      "Capt      70.0000\n",
      "Col       54.0000\n",
      "Countess  33.0000\n",
      "Don       40.0000\n",
      "Dona      39.0000\n",
      "Dr        43.5714\n",
      "Jonkheer  38.0000\n",
      "Lady      48.0000\n",
      "Major     48.5000\n",
      "Master     5.4826\n",
      "Miss      21.7576\n",
      "Mlle      24.0000\n",
      "Mme       24.0000\n",
      "Mr        32.2750\n",
      "Mrs       36.9941\n",
      "Ms        28.0000\n",
      "Rev       41.2500\n",
      "Sir       49.0000\n"
     ]
    }
   ],
   "source": [
    "train_mean_age =full_dataset[~full_dataset[\"Age\"].isnull()][['Title', 'Age']].groupby(['Title'], as_index=False).mean().set_index('Title') \n",
    "print(train_mean_age)"
   ]
  },
  {
   "cell_type": "code",
   "execution_count": 14,
   "metadata": {},
   "outputs": [
    {
     "data": {
      "text/html": [
       "<div>\n",
       "<style scoped>\n",
       "    .dataframe tbody tr th:only-of-type {\n",
       "        vertical-align: middle;\n",
       "    }\n",
       "\n",
       "    .dataframe tbody tr th {\n",
       "        vertical-align: top;\n",
       "    }\n",
       "\n",
       "    .dataframe thead th {\n",
       "        text-align: right;\n",
       "    }\n",
       "</style>\n",
       "<table border=\"1\" class=\"dataframe\">\n",
       "  <thead>\n",
       "    <tr style=\"text-align: right;\">\n",
       "      <th></th>\n",
       "      <th>Title</th>\n",
       "      <th>PassengerId</th>\n",
       "      <th>Pclass</th>\n",
       "      <th>Name</th>\n",
       "      <th>Sex</th>\n",
       "      <th>Age</th>\n",
       "      <th>SibSp</th>\n",
       "      <th>Parch</th>\n",
       "      <th>Ticket</th>\n",
       "      <th>Fare</th>\n",
       "      <th>Cabin</th>\n",
       "      <th>Embarked</th>\n",
       "    </tr>\n",
       "  </thead>\n",
       "  <tbody>\n",
       "    <tr>\n",
       "      <th>0</th>\n",
       "      <td>Dr</td>\n",
       "      <td>1</td>\n",
       "      <td>1</td>\n",
       "      <td>1</td>\n",
       "      <td>1</td>\n",
       "      <td>0</td>\n",
       "      <td>1</td>\n",
       "      <td>1</td>\n",
       "      <td>1</td>\n",
       "      <td>1</td>\n",
       "      <td>0</td>\n",
       "      <td>1</td>\n",
       "    </tr>\n",
       "    <tr>\n",
       "      <th>1</th>\n",
       "      <td>Master</td>\n",
       "      <td>7</td>\n",
       "      <td>7</td>\n",
       "      <td>7</td>\n",
       "      <td>7</td>\n",
       "      <td>0</td>\n",
       "      <td>7</td>\n",
       "      <td>7</td>\n",
       "      <td>7</td>\n",
       "      <td>7</td>\n",
       "      <td>0</td>\n",
       "      <td>7</td>\n",
       "    </tr>\n",
       "    <tr>\n",
       "      <th>2</th>\n",
       "      <td>Miss</td>\n",
       "      <td>47</td>\n",
       "      <td>47</td>\n",
       "      <td>47</td>\n",
       "      <td>47</td>\n",
       "      <td>0</td>\n",
       "      <td>47</td>\n",
       "      <td>47</td>\n",
       "      <td>47</td>\n",
       "      <td>47</td>\n",
       "      <td>2</td>\n",
       "      <td>47</td>\n",
       "    </tr>\n",
       "    <tr>\n",
       "      <th>3</th>\n",
       "      <td>Mr</td>\n",
       "      <td>173</td>\n",
       "      <td>173</td>\n",
       "      <td>173</td>\n",
       "      <td>173</td>\n",
       "      <td>0</td>\n",
       "      <td>173</td>\n",
       "      <td>173</td>\n",
       "      <td>173</td>\n",
       "      <td>173</td>\n",
       "      <td>16</td>\n",
       "      <td>173</td>\n",
       "    </tr>\n",
       "    <tr>\n",
       "      <th>4</th>\n",
       "      <td>Mrs</td>\n",
       "      <td>27</td>\n",
       "      <td>27</td>\n",
       "      <td>27</td>\n",
       "      <td>27</td>\n",
       "      <td>0</td>\n",
       "      <td>27</td>\n",
       "      <td>27</td>\n",
       "      <td>27</td>\n",
       "      <td>27</td>\n",
       "      <td>5</td>\n",
       "      <td>27</td>\n",
       "    </tr>\n",
       "    <tr>\n",
       "      <th>5</th>\n",
       "      <td>Ms</td>\n",
       "      <td>1</td>\n",
       "      <td>1</td>\n",
       "      <td>1</td>\n",
       "      <td>1</td>\n",
       "      <td>0</td>\n",
       "      <td>1</td>\n",
       "      <td>1</td>\n",
       "      <td>1</td>\n",
       "      <td>1</td>\n",
       "      <td>0</td>\n",
       "      <td>1</td>\n",
       "    </tr>\n",
       "  </tbody>\n",
       "</table>\n",
       "</div>"
      ],
      "text/plain": [
       "    Title  PassengerId  Pclass  Name  Sex  Age  SibSp  Parch  Ticket  Fare  Cabin  Embarked\n",
       "0      Dr            1       1     1    1    0      1      1       1     1      0         1\n",
       "1  Master            7       7     7    7    0      7      7       7     7      0         7\n",
       "2    Miss           47      47    47   47    0     47     47      47    47      2        47\n",
       "3      Mr          173     173   173  173    0    173    173     173   173     16       173\n",
       "4     Mrs           27      27    27   27    0     27     27      27    27      5        27\n",
       "5      Ms            1       1     1    1    0      1      1       1     1      0         1"
      ]
     },
     "execution_count": 14,
     "metadata": {},
     "output_type": "execute_result"
    }
   ],
   "source": [
    "full_dataset[full_dataset[\"Age\"].isnull()].groupby(['Title'], as_index=False).count()"
   ]
  },
  {
   "cell_type": "markdown",
   "metadata": {},
   "source": [
    "####  Transform  sex  label in numerical categorical value, assign mean age  to null \n",
    "#####  Fill in missing Embarked values "
   ]
  },
  {
   "cell_type": "code",
   "execution_count": 15,
   "metadata": {},
   "outputs": [
    {
     "name": "stderr",
     "output_type": "stream",
     "text": [
      "D:\\Anaconda3\\lib\\site-packages\\pandas\\core\\indexing.py:189: SettingWithCopyWarning: \n",
      "A value is trying to be set on a copy of a slice from a DataFrame\n",
      "\n",
      "See the caveats in the documentation: http://pandas.pydata.org/pandas-docs/stable/indexing.html#indexing-view-versus-copy\n",
      "  self._setitem_with_indexer(indexer, value)\n"
     ]
    }
   ],
   "source": [
    "age_null_index =list(full_dataset[\"Age\"][full_dataset[\"Age\"].isnull()].index)\n",
    " \n",
    "for each_index in age_null_index:\n",
    "    title =full_dataset['Title'].iloc[each_index]\n",
    "    if title =='Dr':\n",
    "        full_dataset['Age'].iloc[each_index] = 45.178571\n",
    "    else:\n",
    "        age= train_mean_age.loc[title]['Age']\n",
    "        full_dataset['Age'].iloc[each_index] = age\n",
    "     "
   ]
  },
  {
   "cell_type": "code",
   "execution_count": 16,
   "metadata": {},
   "outputs": [],
   "source": [
    "full_dataset['Embarked'] = full_dataset['Embarked'].fillna('S')"
   ]
  },
  {
   "cell_type": "code",
   "execution_count": 17,
   "metadata": {},
   "outputs": [
    {
     "name": "stdout",
     "output_type": "stream",
     "text": [
      "<======================================== Columns having null values ========================================>\n",
      "Fare        1\n",
      "Cabin    1007\n",
      "dtype: int64\n"
     ]
    }
   ],
   "source": [
    "#sex_mapping= {'male':0,'female':1}\n",
    "\n",
    "    #dataset['Sex'] =dataset['Sex'].map(sex_mapping)\n",
    "    \n",
    "    \n",
    "'''\n",
    "    median_age = math.ceil(dataset[\"Age\"].median())\n",
    "    #dataset['Age'].fillna(median_age, inplace=True)\n",
    "    \n",
    "    age_null_index =list(dataset[\"Age\"][dataset[\"Age\"].isnull()].index)\n",
    "    print(len(age_null_index))\n",
    "    for each_index in age_null_index:\n",
    "        median_age = math.ceil(dataset[\"Age\"].median())\n",
    "        pred_age = dataset[\"Age\"][((dataset['SibSp'] == dataset.iloc[each_index][\"SibSp\"]) &\n",
    "                                   (dataset['Parch'] == dataset.iloc[each_index][\"Parch\"]) &\n",
    "                                   (dataset['Pclass'] == dataset.iloc[each_index][\"Pclass\"]))].median()\n",
    "        if not np.isnan(pred_age) :\n",
    "            dataset['Age'].iloc[each_index] = pred_age\n",
    "        else :\n",
    "            dataset['Age'].iloc[each_index] = pred_age\n",
    "'''\n",
    "    \n",
    "print(\"<{0} {1} {0}>\".format(\"=\"*40,\"Columns having null values\"))\n",
    "check_null = full_dataset.isnull().sum()[full_dataset.isnull().sum()>0] \n",
    "print(check_null)\n",
    "\n",
    "#test_dataset[test_dataset[\"Age\"].isnull()]"
   ]
  },
  {
   "cell_type": "markdown",
   "metadata": {},
   "source": [
    "####  Transform Fare "
   ]
  },
  {
   "cell_type": "code",
   "execution_count": 18,
   "metadata": {},
   "outputs": [
    {
     "name": "stdout",
     "output_type": "stream",
     "text": [
      "      PassengerId  Pclass                              Name   Sex   Age  SibSp  Parch      Ticket     Fare Cabin  \\\n",
      "92             95       3                 Coxon, Mr. Daniel  male  59.0      0      0      364500   7.2500   NaN   \n",
      "114           117       3              Connors, Mr. Patrick  male  70.5      0      0      370369   7.7500   NaN   \n",
      "150           153       3                  Meo, Mr. Alfonzo  male  55.5      0      0  A.5. 11206   8.0500   NaN   \n",
      "217           223       3           Green, Mr. George Henry  male  51.0      0      0       21440   8.0500   NaN   \n",
      "275           281       3                  Duane, Mr. Frank  male  65.0      0      0      336439   7.7500   NaN   \n",
      "320           327       3         Nysveen, Mr. Johan Hansen  male  61.0      0      0      345364   6.2375   NaN   \n",
      "399           407       3  Widegren, Mr. Carl/Charles Peter  male  51.0      0      0      347064   7.7500   NaN   \n",
      "475           483       3          Rouse, Mr. Richard Henry  male  50.0      0      0    A/5 3594   8.0500   NaN   \n",
      "624           632       3       Lundahl, Mr. Johan Svensson  male  51.0      0      0      347743   7.0542   NaN   \n",
      "842           852       3               Svensson, Mr. Johan  male  74.0      0      0      347060   7.7750   NaN   \n",
      "906           917       3           Robins, Mr. Alexander A  male  50.0      1      0   A/5. 3337  14.5000   NaN   \n",
      "1033         1044       3                Storey, Mr. Thomas  male  60.5      0      0        3701      NaN   NaN   \n",
      "\n",
      "     Embarked Title  \n",
      "92          S    Mr  \n",
      "114         Q    Mr  \n",
      "150         S    Mr  \n",
      "217         S    Mr  \n",
      "275         Q    Mr  \n",
      "320         S    Mr  \n",
      "399         S    Mr  \n",
      "475         S    Mr  \n",
      "624         S    Mr  \n",
      "842         S    Mr  \n",
      "906         S    Mr  \n",
      "1033        S    Mr  \n",
      "7.75\n"
     ]
    },
    {
     "name": "stderr",
     "output_type": "stream",
     "text": [
      "D:\\Anaconda3\\lib\\site-packages\\ipykernel_launcher.py:16: SettingWithCopyWarning: \n",
      "A value is trying to be set on a copy of a slice from a DataFrame.\n",
      "Try using .loc[row_indexer,col_indexer] = value instead\n",
      "\n",
      "See the caveats in the documentation: http://pandas.pydata.org/pandas-docs/stable/indexing.html#indexing-view-versus-copy\n",
      "  app.launch_new_instance()\n"
     ]
    }
   ],
   "source": [
    "# assign same fare\n",
    "print(full_dataset[(full_dataset['Pclass'] ==3  ) & \n",
    "                  (full_dataset['Sex'] == 'male'  ) &\n",
    "                  (full_dataset['Age'] >= 50  )\n",
    "               ])\n",
    "\n",
    "fare_median =full_dataset[(full_dataset['Pclass'] ==3  ) & \n",
    "                  (full_dataset['Sex'] == 'male'  ) &\n",
    "                  (full_dataset['Age'] >= 50  )\n",
    "               ]['Fare'].median()\n",
    "print(fare_median)\n",
    "\n",
    "age_null_index = full_dataset[\"Fare\"][full_dataset[\"Fare\"].isnull()].index \n",
    "#full_dataset['Fare'].iloc[each_index] = fare_median\n",
    "fare_index=full_dataset[full_dataset[\"Fare\"].isnull()].index\n",
    "full_dataset.iloc[fare_index]['Fare']=fare_median\n",
    "\n"
   ]
  },
  {
   "cell_type": "code",
   "execution_count": 19,
   "metadata": {},
   "outputs": [],
   "source": [
    "full_dataset.loc[fare_index,'Fare'] =fare_median"
   ]
  },
  {
   "cell_type": "code",
   "execution_count": 20,
   "metadata": {},
   "outputs": [
    {
     "name": "stdout",
     "output_type": "stream",
     "text": [
      "      PassengerId  Pclass                              Name   Sex   Age  SibSp  Parch      Ticket     Fare Cabin  \\\n",
      "92             95       3                 Coxon, Mr. Daniel  male  59.0      0      0      364500   7.2500   NaN   \n",
      "114           117       3              Connors, Mr. Patrick  male  70.5      0      0      370369   7.7500   NaN   \n",
      "150           153       3                  Meo, Mr. Alfonzo  male  55.5      0      0  A.5. 11206   8.0500   NaN   \n",
      "217           223       3           Green, Mr. George Henry  male  51.0      0      0       21440   8.0500   NaN   \n",
      "275           281       3                  Duane, Mr. Frank  male  65.0      0      0      336439   7.7500   NaN   \n",
      "320           327       3         Nysveen, Mr. Johan Hansen  male  61.0      0      0      345364   6.2375   NaN   \n",
      "399           407       3  Widegren, Mr. Carl/Charles Peter  male  51.0      0      0      347064   7.7500   NaN   \n",
      "475           483       3          Rouse, Mr. Richard Henry  male  50.0      0      0    A/5 3594   8.0500   NaN   \n",
      "624           632       3       Lundahl, Mr. Johan Svensson  male  51.0      0      0      347743   7.0542   NaN   \n",
      "842           852       3               Svensson, Mr. Johan  male  74.0      0      0      347060   7.7750   NaN   \n",
      "906           917       3           Robins, Mr. Alexander A  male  50.0      1      0   A/5. 3337  14.5000   NaN   \n",
      "1033         1044       3                Storey, Mr. Thomas  male  60.5      0      0        3701   7.7500   NaN   \n",
      "\n",
      "     Embarked Title  \n",
      "92          S    Mr  \n",
      "114         Q    Mr  \n",
      "150         S    Mr  \n",
      "217         S    Mr  \n",
      "275         Q    Mr  \n",
      "320         S    Mr  \n",
      "399         S    Mr  \n",
      "475         S    Mr  \n",
      "624         S    Mr  \n",
      "842         S    Mr  \n",
      "906         S    Mr  \n",
      "1033        S    Mr  \n"
     ]
    }
   ],
   "source": [
    "print(full_dataset[(full_dataset['Pclass'] ==3  ) & \n",
    "                  (full_dataset['Sex'] == 'male'  ) &\n",
    "                  (full_dataset['Age'] >= 50  )\n",
    "               ])\n",
    "transform_cabin = lambda x : 1 if x !='X' else 0\n",
    "full_dataset['Cabin'].fillna('X' ,inplace=True)\n"
   ]
  },
  {
   "cell_type": "code",
   "execution_count": 21,
   "metadata": {},
   "outputs": [
    {
     "name": "stdout",
     "output_type": "stream",
     "text": [
      "X    1007\n",
      "C      91\n",
      "B      65\n",
      "D      46\n",
      "E      41\n",
      "A      22\n",
      "F      21\n",
      "G       5\n",
      "T       1\n",
      "Name: Cabin, dtype: int64\n"
     ]
    }
   ],
   "source": [
    "first_char = lambda x : str(x)[0]\n",
    "full_dataset['Cabin'] = full_dataset['Cabin'].apply(first_char)\n",
    "#print(full_dataset.info())\n",
    "print(full_dataset['Cabin'].value_counts())\n"
   ]
  },
  {
   "cell_type": "code",
   "execution_count": 22,
   "metadata": {},
   "outputs": [
    {
     "name": "stdout",
     "output_type": "stream",
     "text": [
      "adult_male      749\n",
      "adult_female    389\n",
      "child            60\n",
      "teen             60\n",
      "infant           41\n",
      "Name: Person, dtype: int64\n"
     ]
    }
   ],
   "source": [
    "def age_sex(row):\n",
    "    \n",
    "    if (row['Age'] > 0 and row['Age'] <= 3) and (row['Sex'] in ['male','female']):\n",
    "        return  'infant'\n",
    "    \n",
    "    if (row['Age'] > 3 and row['Age'] <= 12) and (row['Sex'] in ['male','female']):\n",
    "        return  'child'\n",
    "    \n",
    "    if (row['Age'] > 12 and row['Age'] < 18) and (row['Sex'] in ['male','female']):\n",
    "        return  'teen'\n",
    "        \n",
    "    elif (row['Age'] >= 18) and (row['Sex'] =='female'):\n",
    "        return 'adult_female'\n",
    "        \n",
    "    elif (row['Age'] >= 18) and (row['Sex'] =='male'):\n",
    "        return  'adult_male'\n",
    "        \n",
    "full_dataset['Person'] = full_dataset.apply(age_sex,axis =1)  \n",
    "\n",
    "#df.apply(my_test2, axis=1)\n",
    "#for each_index in full_dataset.index.tolist():\n",
    "#    sex  = full_dataset['Sex'].iloc[each_index]\n",
    "#    age  = full_dataset['Age'].iloc[each_index]\n",
    "    \n",
    "    \n",
    "        \n",
    "    \n",
    "print(full_dataset['Person'].value_counts()) "
   ]
  },
  {
   "cell_type": "code",
   "execution_count": 23,
   "metadata": {},
   "outputs": [],
   "source": [
    "from sklearn import feature_extraction\n",
    "def one_hot_dataframe(data,columns,replace=False):\n",
    "    fe_vec= feature_extraction.DictVectorizer()\n",
    "    make_dict = lambda row :dict((column,row[column]) for column in  columns)\n",
    "    vector_data=pd.DataFrame(fe_vec.fit_transform( data[columns].apply(make_dict, axis=1)).toarray())\n",
    "    vector_data.columns = fe_vec.get_feature_names()\n",
    "    vector_data.index= data.index\n",
    "    if replace:\n",
    "        data = data.drop(columns, axis=1)\n",
    "        data = data.join(vector_data)\n",
    "    return data,vector_data\n",
    "\n",
    "\n",
    " "
   ]
  },
  {
   "cell_type": "code",
   "execution_count": 24,
   "metadata": {},
   "outputs": [],
   "source": [
    "\n",
    "Ticket = []\n",
    "for each_ticket in list(full_dataset['Ticket']):\n",
    "    #print(each_ticket)\n",
    "    each_ticket =str(each_ticket).upper()\n",
    "    if not each_ticket.isdigit() :\n",
    "        each_ticket=each_ticket.replace(\".\",\"\").replace(\"/\",\"\").strip().split(' ')[0] \n",
    "        Ticket.append(each_ticket) #Take prefix\n",
    "    else:\n",
    "        Ticket.append(\"XXX\")\n",
    "full_dataset[\"Ticket\"] = Ticket\n"
   ]
  },
  {
   "cell_type": "code",
   "execution_count": 25,
   "metadata": {},
   "outputs": [],
   "source": [
    "#full_dataset = pd.get_dummies(full_dataset, columns = [\"Ticket\"], prefix=\"T\")\n",
    "full_dataset[\"Pclass\"] = full_dataset[\"Pclass\"].astype(\"category\")\n",
    "full_dataset = pd.get_dummies(full_dataset, columns = [\"Pclass\"],prefix=\"Pc\")\n",
    "full_dataset = pd.get_dummies(full_dataset, columns = [\"Ticket\"], prefix=\"T\") "
   ]
  },
  {
   "cell_type": "code",
   "execution_count": 26,
   "metadata": {},
   "outputs": [],
   "source": [
    "### Now we will  categorize Title \n",
    "full_dataset[\"Title\"] = full_dataset[\"Title\"].replace(['Lady', 'the Countess','Countess','Capt', 'Col','Don', 'Dr', 'Major', 'Rev', 'Sir', 'Jonkheer', 'Dona'], 'Rare')\n",
    "full_dataset[\"Title\"] = full_dataset[\"Title\"].map({\"Master\":0, \"Miss\":1, \"Ms\" : 1 , \"Mme\":1, \"Mlle\":1, \"Mrs\":1, \"Mr\":2, \"Rare\":3})\n",
    "full_dataset[\"Title\"] = full_dataset[\"Title\"].astype(int)\n",
    "full_dataset = pd.get_dummies(full_dataset, columns = [\"Title\"])"
   ]
  },
  {
   "cell_type": "code",
   "execution_count": 27,
   "metadata": {},
   "outputs": [
    {
     "name": "stdout",
     "output_type": "stream",
     "text": [
      "<class 'pandas.core.frame.DataFrame'>\n",
      "RangeIndex: 1299 entries, 0 to 1298\n",
      "Data columns (total 53 columns):\n",
      "PassengerId    1299 non-null int64\n",
      "Name           1299 non-null object\n",
      "Sex            1299 non-null object\n",
      "Age            1299 non-null float64\n",
      "SibSp          1299 non-null int64\n",
      "Parch          1299 non-null int64\n",
      "Fare           1299 non-null float64\n",
      "Cabin          1299 non-null object\n",
      "Embarked       1299 non-null object\n",
      "Person         1299 non-null object\n",
      "Pc_1           1299 non-null uint8\n",
      "Pc_2           1299 non-null uint8\n",
      "Pc_3           1299 non-null uint8\n",
      "T_A            1299 non-null uint8\n",
      "T_A4           1299 non-null uint8\n",
      "T_A5           1299 non-null uint8\n",
      "T_AQ3          1299 non-null uint8\n",
      "T_AQ4          1299 non-null uint8\n",
      "T_AS           1299 non-null uint8\n",
      "T_C            1299 non-null uint8\n",
      "T_CA           1299 non-null uint8\n",
      "T_CASOTON      1299 non-null uint8\n",
      "T_FA           1299 non-null uint8\n",
      "T_FC           1299 non-null uint8\n",
      "T_FCC          1299 non-null uint8\n",
      "T_LINE         1299 non-null uint8\n",
      "T_LP           1299 non-null uint8\n",
      "T_PC           1299 non-null uint8\n",
      "T_PP           1299 non-null uint8\n",
      "T_PPP          1299 non-null uint8\n",
      "T_SC           1299 non-null uint8\n",
      "T_SCA3         1299 non-null uint8\n",
      "T_SCA4         1299 non-null uint8\n",
      "T_SCAH         1299 non-null uint8\n",
      "T_SCOW         1299 non-null uint8\n",
      "T_SCPARIS      1299 non-null uint8\n",
      "T_SOC          1299 non-null uint8\n",
      "T_SOP          1299 non-null uint8\n",
      "T_SOPP         1299 non-null uint8\n",
      "T_SOTONO2      1299 non-null uint8\n",
      "T_SOTONOQ      1299 non-null uint8\n",
      "T_SP           1299 non-null uint8\n",
      "T_STONO        1299 non-null uint8\n",
      "T_STONO2       1299 non-null uint8\n",
      "T_STONOQ       1299 non-null uint8\n",
      "T_SWPP         1299 non-null uint8\n",
      "T_WC           1299 non-null uint8\n",
      "T_WEP          1299 non-null uint8\n",
      "T_XXX          1299 non-null uint8\n",
      "Title_0        1299 non-null uint8\n",
      "Title_1        1299 non-null uint8\n",
      "Title_2        1299 non-null uint8\n",
      "Title_3        1299 non-null uint8\n",
      "dtypes: float64(2), int64(3), object(5), uint8(43)\n",
      "memory usage: 156.1+ KB\n"
     ]
    }
   ],
   "source": [
    "full_dataset.info()\n"
   ]
  },
  {
   "cell_type": "code",
   "execution_count": 28,
   "metadata": {},
   "outputs": [],
   "source": [
    "full_dataset,full_dataset_ignore = one_hot_dataframe(full_dataset, ['Person','Embarked','Cabin'], replace=True)\n",
    "#test_dataset,test_dataset_n = one_hot_dataframe(test_dataset, ['Pclass','Embarked', 'Sex','Title','Cabin','Ticket'], replace=True)"
   ]
  },
  {
   "cell_type": "code",
   "execution_count": 29,
   "metadata": {},
   "outputs": [
    {
     "data": {
      "text/plain": [
       "0       (16.136, 32.102]\n",
       "1       (32.102, 48.068]\n",
       "2       (16.136, 32.102]\n",
       "3       (32.102, 48.068]\n",
       "4       (32.102, 48.068]\n",
       "5       (32.102, 48.068]\n",
       "6       (48.068, 64.034]\n",
       "7       (0.0902, 16.136]\n",
       "8       (16.136, 32.102]\n",
       "9       (0.0902, 16.136]\n",
       "10      (0.0902, 16.136]\n",
       "11      (48.068, 64.034]\n",
       "12      (16.136, 32.102]\n",
       "13      (32.102, 48.068]\n",
       "14      (0.0902, 16.136]\n",
       "15      (48.068, 64.034]\n",
       "16      (0.0902, 16.136]\n",
       "17      (32.102, 48.068]\n",
       "18      (16.136, 32.102]\n",
       "19      (32.102, 48.068]\n",
       "20      (32.102, 48.068]\n",
       "21      (32.102, 48.068]\n",
       "22      (0.0902, 16.136]\n",
       "23      (16.136, 32.102]\n",
       "24      (0.0902, 16.136]\n",
       "25      (32.102, 48.068]\n",
       "26      (32.102, 48.068]\n",
       "27      (16.136, 32.102]\n",
       "28      (32.102, 48.068]\n",
       "29      (32.102, 48.068]\n",
       "              ...       \n",
       "1269    (16.136, 32.102]\n",
       "1270    (0.0902, 16.136]\n",
       "1271    (16.136, 32.102]\n",
       "1272    (48.068, 64.034]\n",
       "1273    (0.0902, 16.136]\n",
       "1274    (32.102, 48.068]\n",
       "1275    (16.136, 32.102]\n",
       "1276    (16.136, 32.102]\n",
       "1277    (16.136, 32.102]\n",
       "1278    (32.102, 48.068]\n",
       "1279    (16.136, 32.102]\n",
       "1280    (16.136, 32.102]\n",
       "1281    (16.136, 32.102]\n",
       "1282    (32.102, 48.068]\n",
       "1283    (16.136, 32.102]\n",
       "1284    (16.136, 32.102]\n",
       "1285    (32.102, 48.068]\n",
       "1286    (16.136, 32.102]\n",
       "1287    (16.136, 32.102]\n",
       "1288    (48.068, 64.034]\n",
       "1289    (16.136, 32.102]\n",
       "1290    (0.0902, 16.136]\n",
       "1291    (16.136, 32.102]\n",
       "1292    (32.102, 48.068]\n",
       "1293    (16.136, 32.102]\n",
       "1294    (32.102, 48.068]\n",
       "1295    (32.102, 48.068]\n",
       "1296    (32.102, 48.068]\n",
       "1297    (32.102, 48.068]\n",
       "1298    (0.0902, 16.136]\n",
       "Name: AgeBand, Length: 1299, dtype: category\n",
       "Categories (5, interval[float64]): [(0.0902, 16.136] < (16.136, 32.102] < (32.102, 48.068] < (48.068, 64.034] < (64.034, 80.0]]"
      ]
     },
     "execution_count": 29,
     "metadata": {},
     "output_type": "execute_result"
    }
   ],
   "source": [
    "#full_dataset = [train_dataset,test_dataset]\n",
    "full_dataset['AgeBand'] = pd.cut(full_dataset[full_dataset['Age']>= 0]['Age']  ,5)\n",
    "full_dataset['AgeBand'] "
   ]
  },
  {
   "cell_type": "code",
   "execution_count": 30,
   "metadata": {},
   "outputs": [],
   "source": [
    " \n",
    "full_dataset.loc[ (full_dataset['Age'] > 0 ) & (full_dataset['Age'] <= 0.0902), 'Age'] = 0\n",
    "\n",
    "full_dataset.loc[(full_dataset['Age'] > 0.0902) & (full_dataset['Age'] <= 16.136), 'Age'] = 1\n",
    "full_dataset.loc[(full_dataset['Age'] > 16.136 ) & (full_dataset['Age'] <= 32.102), 'Age'] = 2\n",
    "full_dataset.loc[(full_dataset['Age'] > 32.102 ) & (full_dataset['Age'] <= 48.068), 'Age'] = 3\n",
    "full_dataset.loc[(full_dataset['Age'] > 48.068 ) & (full_dataset['Age'] <=  64.034), 'Age'] = 4\n",
    "full_dataset.loc[ full_dataset['Age'] > 64.034, 'Age'] = 5"
   ]
  },
  {
   "cell_type": "code",
   "execution_count": 31,
   "metadata": {},
   "outputs": [
    {
     "data": {
      "text/html": [
       "<div>\n",
       "<style scoped>\n",
       "    .dataframe tbody tr th:only-of-type {\n",
       "        vertical-align: middle;\n",
       "    }\n",
       "\n",
       "    .dataframe tbody tr th {\n",
       "        vertical-align: top;\n",
       "    }\n",
       "\n",
       "    .dataframe thead th {\n",
       "        text-align: right;\n",
       "    }\n",
       "</style>\n",
       "<table border=\"1\" class=\"dataframe\">\n",
       "  <thead>\n",
       "    <tr style=\"text-align: right;\">\n",
       "      <th></th>\n",
       "      <th>PassengerId</th>\n",
       "      <th>Name</th>\n",
       "      <th>Sex</th>\n",
       "      <th>Age</th>\n",
       "      <th>SibSp</th>\n",
       "      <th>Parch</th>\n",
       "      <th>Fare</th>\n",
       "      <th>Pc_1</th>\n",
       "      <th>Pc_2</th>\n",
       "      <th>Pc_3</th>\n",
       "      <th>...</th>\n",
       "      <th>Cabin=X</th>\n",
       "      <th>Embarked=C</th>\n",
       "      <th>Embarked=Q</th>\n",
       "      <th>Embarked=S</th>\n",
       "      <th>Person=adult_female</th>\n",
       "      <th>Person=adult_male</th>\n",
       "      <th>Person=child</th>\n",
       "      <th>Person=infant</th>\n",
       "      <th>Person=teen</th>\n",
       "      <th>AgeBand</th>\n",
       "    </tr>\n",
       "  </thead>\n",
       "  <tbody>\n",
       "  </tbody>\n",
       "</table>\n",
       "<p>0 rows × 68 columns</p>\n",
       "</div>"
      ],
      "text/plain": [
       "Empty DataFrame\n",
       "Columns: [PassengerId, Name, Sex, Age, SibSp, Parch, Fare, Pc_1, Pc_2, Pc_3, T_A, T_A4, T_A5, T_AQ3, T_AQ4, T_AS, T_C, T_CA, T_CASOTON, T_FA, T_FC, T_FCC, T_LINE, T_LP, T_PC, T_PP, T_PPP, T_SC, T_SCA3, T_SCA4, T_SCAH, T_SCOW, T_SCPARIS, T_SOC, T_SOP, T_SOPP, T_SOTONO2, T_SOTONOQ, T_SP, T_STONO, T_STONO2, T_STONOQ, T_SWPP, T_WC, T_WEP, T_XXX, Title_0, Title_1, Title_2, Title_3, Cabin=A, Cabin=B, Cabin=C, Cabin=D, Cabin=E, Cabin=F, Cabin=G, Cabin=T, Cabin=X, Embarked=C, Embarked=Q, Embarked=S, Person=adult_female, Person=adult_male, Person=child, Person=infant, Person=teen, AgeBand]\n",
       "Index: []\n",
       "\n",
       "[0 rows x 68 columns]"
      ]
     },
     "execution_count": 31,
     "metadata": {},
     "output_type": "execute_result"
    }
   ],
   "source": [
    "#print(full_dataset['Fare'].value_counts()) \n",
    "full_dataset[full_dataset[\"Fare\"].isnull()]"
   ]
  },
  {
   "cell_type": "code",
   "execution_count": 32,
   "metadata": {},
   "outputs": [],
   "source": [
    "full_dataset['FareBand'] = pd.qcut(full_dataset['Fare'], 4)\n",
    "#print (train_dataset[['FareBand', 'Survived']].groupby(['FareBand'], as_index=False).mean())\n",
    "full_dataset.loc[ full_dataset['Fare'] <= 7.91, 'Fare'] = 0\n",
    "full_dataset.loc[(full_dataset['Fare'] > 7.91) & (full_dataset['Fare'] <= 14.454), 'Fare'] = 1\n",
    "full_dataset.loc[(full_dataset['Fare'] > 14.454) & (full_dataset['Fare'] <= 31), 'Fare']   = 2\n",
    "full_dataset.loc[ full_dataset['Fare'] > 31, 'Fare'] = 3\n",
    "full_dataset['Fare'] = full_dataset['Fare'].astype(int)"
   ]
  },
  {
   "cell_type": "code",
   "execution_count": 33,
   "metadata": {},
   "outputs": [],
   "source": [
    "\n",
    "full_dataset['FamilySize'] = full_dataset['SibSp'] +  full_dataset['Parch'] + 1\n",
    "    #dataset['IsAlone'] = 0\n",
    "    #dataset.loc[dataset['FamilySize'] == 1, 'IsAlone'] = 1\n",
    "full_dataset['Single'] = full_dataset['FamilySize'].map(lambda s: 1 if s == 1 else 0)\n",
    "full_dataset['SmallF'] = full_dataset['FamilySize'].map(lambda s: 1 if  s == 2  else 0)\n",
    "full_dataset['MedF']  = full_dataset['FamilySize'].map(lambda s: 1 if 3 <= s <= 4 else 0)\n",
    "full_dataset['LargeF'] = full_dataset['FamilySize'].map(lambda s: 1 if s >= 5 else 0)\n",
    "    \n"
   ]
  },
  {
   "cell_type": "markdown",
   "metadata": {},
   "source": [
    "#### Feature Selection"
   ]
  },
  {
   "cell_type": "code",
   "execution_count": 34,
   "metadata": {},
   "outputs": [
    {
     "data": {
      "text/html": [
       "<div>\n",
       "<style scoped>\n",
       "    .dataframe tbody tr th:only-of-type {\n",
       "        vertical-align: middle;\n",
       "    }\n",
       "\n",
       "    .dataframe tbody tr th {\n",
       "        vertical-align: top;\n",
       "    }\n",
       "\n",
       "    .dataframe thead th {\n",
       "        text-align: right;\n",
       "    }\n",
       "</style>\n",
       "<table border=\"1\" class=\"dataframe\">\n",
       "  <thead>\n",
       "    <tr style=\"text-align: right;\">\n",
       "      <th></th>\n",
       "      <th>PassengerId</th>\n",
       "      <th>Name</th>\n",
       "      <th>Sex</th>\n",
       "      <th>Age</th>\n",
       "      <th>SibSp</th>\n",
       "      <th>Parch</th>\n",
       "      <th>Fare</th>\n",
       "      <th>Pc_1</th>\n",
       "      <th>Pc_2</th>\n",
       "      <th>Pc_3</th>\n",
       "      <th>...</th>\n",
       "      <th>Person=child</th>\n",
       "      <th>Person=infant</th>\n",
       "      <th>Person=teen</th>\n",
       "      <th>AgeBand</th>\n",
       "      <th>FareBand</th>\n",
       "      <th>FamilySize</th>\n",
       "      <th>Single</th>\n",
       "      <th>SmallF</th>\n",
       "      <th>MedF</th>\n",
       "      <th>LargeF</th>\n",
       "    </tr>\n",
       "  </thead>\n",
       "  <tbody>\n",
       "  </tbody>\n",
       "</table>\n",
       "<p>0 rows × 74 columns</p>\n",
       "</div>"
      ],
      "text/plain": [
       "Empty DataFrame\n",
       "Columns: [PassengerId, Name, Sex, Age, SibSp, Parch, Fare, Pc_1, Pc_2, Pc_3, T_A, T_A4, T_A5, T_AQ3, T_AQ4, T_AS, T_C, T_CA, T_CASOTON, T_FA, T_FC, T_FCC, T_LINE, T_LP, T_PC, T_PP, T_PPP, T_SC, T_SCA3, T_SCA4, T_SCAH, T_SCOW, T_SCPARIS, T_SOC, T_SOP, T_SOPP, T_SOTONO2, T_SOTONOQ, T_SP, T_STONO, T_STONO2, T_STONOQ, T_SWPP, T_WC, T_WEP, T_XXX, Title_0, Title_1, Title_2, Title_3, Cabin=A, Cabin=B, Cabin=C, Cabin=D, Cabin=E, Cabin=F, Cabin=G, Cabin=T, Cabin=X, Embarked=C, Embarked=Q, Embarked=S, Person=adult_female, Person=adult_male, Person=child, Person=infant, Person=teen, AgeBand, FareBand, FamilySize, Single, SmallF, MedF, LargeF]\n",
       "Index: []\n",
       "\n",
       "[0 rows x 74 columns]"
      ]
     },
     "execution_count": 34,
     "metadata": {},
     "output_type": "execute_result"
    }
   ],
   "source": [
    "full_dataset[full_dataset[\"AgeBand\"].isnull()]"
   ]
  },
  {
   "cell_type": "code",
   "execution_count": 35,
   "metadata": {},
   "outputs": [],
   "source": [
    "train_len = len(train_X)\n",
    "train_dataset = full_dataset[:train_len]\n",
    "test_dataset = full_dataset[train_len:]\n",
    "#test_dataset.drop(labels=[\"Survived\"],axis = 1,inplace=True)\n",
    " "
   ]
  },
  {
   "cell_type": "code",
   "execution_count": 36,
   "metadata": {},
   "outputs": [
    {
     "name": "stdout",
     "output_type": "stream",
     "text": [
      "<class 'pandas.core.frame.DataFrame'>\n",
      "RangeIndex: 881 entries, 0 to 880\n",
      "Data columns (total 68 columns):\n",
      "Age                    881 non-null float64\n",
      "SibSp                  881 non-null int64\n",
      "Parch                  881 non-null int64\n",
      "Fare                   881 non-null int32\n",
      "Pc_1                   881 non-null uint8\n",
      "Pc_2                   881 non-null uint8\n",
      "Pc_3                   881 non-null uint8\n",
      "T_A                    881 non-null uint8\n",
      "T_A4                   881 non-null uint8\n",
      "T_A5                   881 non-null uint8\n",
      "T_AQ3                  881 non-null uint8\n",
      "T_AQ4                  881 non-null uint8\n",
      "T_AS                   881 non-null uint8\n",
      "T_C                    881 non-null uint8\n",
      "T_CA                   881 non-null uint8\n",
      "T_CASOTON              881 non-null uint8\n",
      "T_FA                   881 non-null uint8\n",
      "T_FC                   881 non-null uint8\n",
      "T_FCC                  881 non-null uint8\n",
      "T_LINE                 881 non-null uint8\n",
      "T_LP                   881 non-null uint8\n",
      "T_PC                   881 non-null uint8\n",
      "T_PP                   881 non-null uint8\n",
      "T_PPP                  881 non-null uint8\n",
      "T_SC                   881 non-null uint8\n",
      "T_SCA3                 881 non-null uint8\n",
      "T_SCA4                 881 non-null uint8\n",
      "T_SCAH                 881 non-null uint8\n",
      "T_SCOW                 881 non-null uint8\n",
      "T_SCPARIS              881 non-null uint8\n",
      "T_SOC                  881 non-null uint8\n",
      "T_SOP                  881 non-null uint8\n",
      "T_SOPP                 881 non-null uint8\n",
      "T_SOTONO2              881 non-null uint8\n",
      "T_SOTONOQ              881 non-null uint8\n",
      "T_SP                   881 non-null uint8\n",
      "T_STONO                881 non-null uint8\n",
      "T_STONO2               881 non-null uint8\n",
      "T_STONOQ               881 non-null uint8\n",
      "T_SWPP                 881 non-null uint8\n",
      "T_WC                   881 non-null uint8\n",
      "T_WEP                  881 non-null uint8\n",
      "T_XXX                  881 non-null uint8\n",
      "Title_0                881 non-null uint8\n",
      "Title_1                881 non-null uint8\n",
      "Title_2                881 non-null uint8\n",
      "Title_3                881 non-null uint8\n",
      "Cabin=A                881 non-null float64\n",
      "Cabin=B                881 non-null float64\n",
      "Cabin=C                881 non-null float64\n",
      "Cabin=D                881 non-null float64\n",
      "Cabin=E                881 non-null float64\n",
      "Cabin=F                881 non-null float64\n",
      "Cabin=G                881 non-null float64\n",
      "Cabin=T                881 non-null float64\n",
      "Cabin=X                881 non-null float64\n",
      "Embarked=C             881 non-null float64\n",
      "Embarked=Q             881 non-null float64\n",
      "Embarked=S             881 non-null float64\n",
      "Person=adult_female    881 non-null float64\n",
      "Person=adult_male      881 non-null float64\n",
      "Person=child           881 non-null float64\n",
      "Person=infant          881 non-null float64\n",
      "Person=teen            881 non-null float64\n",
      "Single                 881 non-null int64\n",
      "SmallF                 881 non-null int64\n",
      "MedF                   881 non-null int64\n",
      "LargeF                 881 non-null int64\n",
      "dtypes: float64(18), int32(1), int64(6), uint8(43)\n",
      "memory usage: 205.7 KB\n"
     ]
    }
   ],
   "source": [
    "#features_drop = ['Name', 'SibSp', 'Parch','FamilySize','Sex']\n",
    "features_drop = ['Name','FamilySize','Sex']\n",
    "train_dataset = train_dataset.drop(features_drop, axis=1)\n",
    "test_dataset = test_dataset.drop(features_drop, axis=1)\n",
    "train_dataset = train_dataset.drop(['PassengerId', 'AgeBand', 'FareBand'], axis=1)\n",
    "test_dataset = test_dataset.drop(['PassengerId', 'AgeBand', 'FareBand'], axis=1)\n",
    "\n",
    "train_dataset.info()"
   ]
  },
  {
   "cell_type": "code",
   "execution_count": 37,
   "metadata": {},
   "outputs": [
    {
     "name": "stdout",
     "output_type": "stream",
     "text": [
      "<class 'pandas.core.frame.DataFrame'>\n",
      "RangeIndex: 418 entries, 881 to 1298\n",
      "Data columns (total 68 columns):\n",
      "Age                    418 non-null float64\n",
      "SibSp                  418 non-null int64\n",
      "Parch                  418 non-null int64\n",
      "Fare                   418 non-null int32\n",
      "Pc_1                   418 non-null uint8\n",
      "Pc_2                   418 non-null uint8\n",
      "Pc_3                   418 non-null uint8\n",
      "T_A                    418 non-null uint8\n",
      "T_A4                   418 non-null uint8\n",
      "T_A5                   418 non-null uint8\n",
      "T_AQ3                  418 non-null uint8\n",
      "T_AQ4                  418 non-null uint8\n",
      "T_AS                   418 non-null uint8\n",
      "T_C                    418 non-null uint8\n",
      "T_CA                   418 non-null uint8\n",
      "T_CASOTON              418 non-null uint8\n",
      "T_FA                   418 non-null uint8\n",
      "T_FC                   418 non-null uint8\n",
      "T_FCC                  418 non-null uint8\n",
      "T_LINE                 418 non-null uint8\n",
      "T_LP                   418 non-null uint8\n",
      "T_PC                   418 non-null uint8\n",
      "T_PP                   418 non-null uint8\n",
      "T_PPP                  418 non-null uint8\n",
      "T_SC                   418 non-null uint8\n",
      "T_SCA3                 418 non-null uint8\n",
      "T_SCA4                 418 non-null uint8\n",
      "T_SCAH                 418 non-null uint8\n",
      "T_SCOW                 418 non-null uint8\n",
      "T_SCPARIS              418 non-null uint8\n",
      "T_SOC                  418 non-null uint8\n",
      "T_SOP                  418 non-null uint8\n",
      "T_SOPP                 418 non-null uint8\n",
      "T_SOTONO2              418 non-null uint8\n",
      "T_SOTONOQ              418 non-null uint8\n",
      "T_SP                   418 non-null uint8\n",
      "T_STONO                418 non-null uint8\n",
      "T_STONO2               418 non-null uint8\n",
      "T_STONOQ               418 non-null uint8\n",
      "T_SWPP                 418 non-null uint8\n",
      "T_WC                   418 non-null uint8\n",
      "T_WEP                  418 non-null uint8\n",
      "T_XXX                  418 non-null uint8\n",
      "Title_0                418 non-null uint8\n",
      "Title_1                418 non-null uint8\n",
      "Title_2                418 non-null uint8\n",
      "Title_3                418 non-null uint8\n",
      "Cabin=A                418 non-null float64\n",
      "Cabin=B                418 non-null float64\n",
      "Cabin=C                418 non-null float64\n",
      "Cabin=D                418 non-null float64\n",
      "Cabin=E                418 non-null float64\n",
      "Cabin=F                418 non-null float64\n",
      "Cabin=G                418 non-null float64\n",
      "Cabin=T                418 non-null float64\n",
      "Cabin=X                418 non-null float64\n",
      "Embarked=C             418 non-null float64\n",
      "Embarked=Q             418 non-null float64\n",
      "Embarked=S             418 non-null float64\n",
      "Person=adult_female    418 non-null float64\n",
      "Person=adult_male      418 non-null float64\n",
      "Person=child           418 non-null float64\n",
      "Person=infant          418 non-null float64\n",
      "Person=teen            418 non-null float64\n",
      "Single                 418 non-null int64\n",
      "SmallF                 418 non-null int64\n",
      "MedF                   418 non-null int64\n",
      "LargeF                 418 non-null int64\n",
      "dtypes: float64(18), int32(1), int64(6), uint8(43)\n",
      "memory usage: 97.6 KB\n"
     ]
    }
   ],
   "source": [
    "test_dataset.info()\n",
    " "
   ]
  },
  {
   "cell_type": "code",
   "execution_count": 38,
   "metadata": {},
   "outputs": [
    {
     "data": {
      "text/html": [
       "<div>\n",
       "<style scoped>\n",
       "    .dataframe tbody tr th:only-of-type {\n",
       "        vertical-align: middle;\n",
       "    }\n",
       "\n",
       "    .dataframe tbody tr th {\n",
       "        vertical-align: top;\n",
       "    }\n",
       "\n",
       "    .dataframe thead th {\n",
       "        text-align: right;\n",
       "    }\n",
       "</style>\n",
       "<table border=\"1\" class=\"dataframe\">\n",
       "  <thead>\n",
       "    <tr style=\"text-align: right;\">\n",
       "      <th></th>\n",
       "      <th>Age</th>\n",
       "      <th>SibSp</th>\n",
       "      <th>Parch</th>\n",
       "      <th>Fare</th>\n",
       "      <th>Pc_1</th>\n",
       "      <th>Pc_2</th>\n",
       "      <th>Pc_3</th>\n",
       "      <th>T_A</th>\n",
       "      <th>T_A4</th>\n",
       "      <th>T_A5</th>\n",
       "      <th>...</th>\n",
       "      <th>Embarked=S</th>\n",
       "      <th>Person=adult_female</th>\n",
       "      <th>Person=adult_male</th>\n",
       "      <th>Person=child</th>\n",
       "      <th>Person=infant</th>\n",
       "      <th>Person=teen</th>\n",
       "      <th>Single</th>\n",
       "      <th>SmallF</th>\n",
       "      <th>MedF</th>\n",
       "      <th>LargeF</th>\n",
       "    </tr>\n",
       "  </thead>\n",
       "  <tbody>\n",
       "    <tr>\n",
       "      <th>881</th>\n",
       "      <td>3.0</td>\n",
       "      <td>0</td>\n",
       "      <td>0</td>\n",
       "      <td>0</td>\n",
       "      <td>0</td>\n",
       "      <td>0</td>\n",
       "      <td>1</td>\n",
       "      <td>0</td>\n",
       "      <td>0</td>\n",
       "      <td>0</td>\n",
       "      <td>...</td>\n",
       "      <td>0.0</td>\n",
       "      <td>0.0</td>\n",
       "      <td>1.0</td>\n",
       "      <td>0.0</td>\n",
       "      <td>0.0</td>\n",
       "      <td>0.0</td>\n",
       "      <td>1</td>\n",
       "      <td>0</td>\n",
       "      <td>0</td>\n",
       "      <td>0</td>\n",
       "    </tr>\n",
       "    <tr>\n",
       "      <th>882</th>\n",
       "      <td>3.0</td>\n",
       "      <td>1</td>\n",
       "      <td>0</td>\n",
       "      <td>0</td>\n",
       "      <td>0</td>\n",
       "      <td>0</td>\n",
       "      <td>1</td>\n",
       "      <td>0</td>\n",
       "      <td>0</td>\n",
       "      <td>0</td>\n",
       "      <td>...</td>\n",
       "      <td>1.0</td>\n",
       "      <td>1.0</td>\n",
       "      <td>0.0</td>\n",
       "      <td>0.0</td>\n",
       "      <td>0.0</td>\n",
       "      <td>0.0</td>\n",
       "      <td>0</td>\n",
       "      <td>1</td>\n",
       "      <td>0</td>\n",
       "      <td>0</td>\n",
       "    </tr>\n",
       "    <tr>\n",
       "      <th>883</th>\n",
       "      <td>4.0</td>\n",
       "      <td>0</td>\n",
       "      <td>0</td>\n",
       "      <td>1</td>\n",
       "      <td>0</td>\n",
       "      <td>1</td>\n",
       "      <td>0</td>\n",
       "      <td>0</td>\n",
       "      <td>0</td>\n",
       "      <td>0</td>\n",
       "      <td>...</td>\n",
       "      <td>0.0</td>\n",
       "      <td>0.0</td>\n",
       "      <td>1.0</td>\n",
       "      <td>0.0</td>\n",
       "      <td>0.0</td>\n",
       "      <td>0.0</td>\n",
       "      <td>1</td>\n",
       "      <td>0</td>\n",
       "      <td>0</td>\n",
       "      <td>0</td>\n",
       "    </tr>\n",
       "    <tr>\n",
       "      <th>884</th>\n",
       "      <td>2.0</td>\n",
       "      <td>0</td>\n",
       "      <td>0</td>\n",
       "      <td>1</td>\n",
       "      <td>0</td>\n",
       "      <td>0</td>\n",
       "      <td>1</td>\n",
       "      <td>0</td>\n",
       "      <td>0</td>\n",
       "      <td>0</td>\n",
       "      <td>...</td>\n",
       "      <td>1.0</td>\n",
       "      <td>0.0</td>\n",
       "      <td>1.0</td>\n",
       "      <td>0.0</td>\n",
       "      <td>0.0</td>\n",
       "      <td>0.0</td>\n",
       "      <td>1</td>\n",
       "      <td>0</td>\n",
       "      <td>0</td>\n",
       "      <td>0</td>\n",
       "    </tr>\n",
       "    <tr>\n",
       "      <th>885</th>\n",
       "      <td>2.0</td>\n",
       "      <td>1</td>\n",
       "      <td>1</td>\n",
       "      <td>1</td>\n",
       "      <td>0</td>\n",
       "      <td>0</td>\n",
       "      <td>1</td>\n",
       "      <td>0</td>\n",
       "      <td>0</td>\n",
       "      <td>0</td>\n",
       "      <td>...</td>\n",
       "      <td>1.0</td>\n",
       "      <td>1.0</td>\n",
       "      <td>0.0</td>\n",
       "      <td>0.0</td>\n",
       "      <td>0.0</td>\n",
       "      <td>0.0</td>\n",
       "      <td>0</td>\n",
       "      <td>0</td>\n",
       "      <td>1</td>\n",
       "      <td>0</td>\n",
       "    </tr>\n",
       "  </tbody>\n",
       "</table>\n",
       "<p>5 rows × 68 columns</p>\n",
       "</div>"
      ],
      "text/plain": [
       "     Age  SibSp  Parch  Fare  Pc_1  Pc_2  Pc_3  T_A  T_A4  T_A5   ...    Embarked=S  Person=adult_female  \\\n",
       "881  3.0      0      0     0     0     0     1    0     0     0   ...           0.0                  0.0   \n",
       "882  3.0      1      0     0     0     0     1    0     0     0   ...           1.0                  1.0   \n",
       "883  4.0      0      0     1     0     1     0    0     0     0   ...           0.0                  0.0   \n",
       "884  2.0      0      0     1     0     0     1    0     0     0   ...           1.0                  0.0   \n",
       "885  2.0      1      1     1     0     0     1    0     0     0   ...           1.0                  1.0   \n",
       "\n",
       "     Person=adult_male  Person=child  Person=infant  Person=teen  Single  SmallF  MedF  LargeF  \n",
       "881                1.0           0.0            0.0          0.0       1       0     0       0  \n",
       "882                0.0           0.0            0.0          0.0       0       1     0       0  \n",
       "883                1.0           0.0            0.0          0.0       1       0     0       0  \n",
       "884                1.0           0.0            0.0          0.0       1       0     0       0  \n",
       "885                0.0           0.0            0.0          0.0       0       0     1       0  \n",
       "\n",
       "[5 rows x 68 columns]"
      ]
     },
     "execution_count": 38,
     "metadata": {},
     "output_type": "execute_result"
    }
   ],
   "source": [
    "train_y.head()\n",
    "test_dataset.head()"
   ]
  },
  {
   "cell_type": "markdown",
   "metadata": {},
   "source": [
    "### 4. Evaluate Algorithms - Logistic regression\n",
    "####  a) Split-out validation dataset\n",
    "####  b) Test options and evaluation metric\n"
   ]
  },
  {
   "cell_type": "code",
   "execution_count": 39,
   "metadata": {},
   "outputs": [],
   "source": [
    "from sklearn import metrics\n",
    "def measure_performance(X, y, clf, show_accuracy=True,show_classification_report=True,\n",
    "                        show_confusion_matrix=True, show_r2_score=False):\n",
    "    y_pred = clf.predict(X) \n",
    "    if show_accuracy:\n",
    "        print (\"Accuracy:{0:.3f}\".format( metrics.accuracy_score(y, y_pred)) )\n",
    "    if show_classification_report:\n",
    "        print (\"Classification report\")\n",
    "        print (metrics.classification_report(y, y_pred))\n",
    "    if show_confusion_matrix:\n",
    "        print(\"Confusion matrix\") \n",
    "        print(metrics.confusion_matrix(y, y_pred),)\n",
    "    if show_r2_score:\n",
    "        print (\"Coefficient of determination:{0:.3f}\"\n",
    "               .format( metrics.r2_score(y, y_pred)))\n",
    "    return y_pred"
   ]
  },
  {
   "cell_type": "code",
   "execution_count": 40,
   "metadata": {},
   "outputs": [
    {
     "name": "stdout",
     "output_type": "stream",
     "text": [
      "LogisticRegression(C=1, class_weight=None, dual=False, fit_intercept=True,\n",
      "          intercept_scaling=1, max_iter=100, multi_class='ovr', n_jobs=1,\n",
      "          penalty='l2', random_state=None, solver='liblinear', tol=0.0001,\n",
      "          verbose=0, warm_start=False)\n",
      "Accuracy: 86.949\n",
      "Classification report\n",
      "             precision    recall  f1-score   support\n",
      "\n",
      "          0       0.78      0.83      0.81       170\n",
      "          1       0.74      0.68      0.71       121\n",
      "\n",
      "avg / total       0.76      0.77      0.76       291\n",
      "\n",
      "Confusion matrix\n",
      "[[141  29]\n",
      " [ 39  82]]\n"
     ]
    }
   ],
   "source": [
    "from sklearn.model_selection  import  train_test_split\n",
    "from sklearn.linear_model  import LogisticRegression\n",
    "from sklearn.preprocessing import StandardScaler\n",
    "test_size = 0.33\n",
    "seed = 7\n",
    "\n",
    "X_trainmodel, X_val, y_trainmodel, y_val = train_test_split(train_dataset, train_y, test_size=test_size,random_state=seed)\n",
    "sc = StandardScaler()\n",
    "X_trainmodel_std = sc.fit_transform(X_trainmodel)\n",
    "X_val_std = sc.transform(X_val)\n",
    "test_dataset_std =sc.transform(test_dataset)\n",
    "logrmodel = LogisticRegression(C=1)\n",
    "print(logrmodel)\n",
    "\n",
    "logrmodel.fit(X_trainmodel_std, y_trainmodel.values.ravel())\n",
    "result = logrmodel.score(X_trainmodel_std, y_trainmodel.values)\n",
    "print (\"Accuracy: {0:.3f}\".format(result*100.0))\n",
    "y_pred=measure_performance(X_val_std,y_val,logrmodel, show_accuracy=False, \n",
    "                    show_classification_report=True,\n",
    "                    show_confusion_matrix=True, show_r2_score=False)\n",
    "\n",
    "y_pred_result=logrmodel.predict(test_dataset_std)"
   ]
  },
  {
   "cell_type": "code",
   "execution_count": 41,
   "metadata": {},
   "outputs": [],
   "source": [
    "from sklearn.model_selection import GridSearchCV, cross_val_score, StratifiedKFold, learning_curve\n",
    "\n",
    "def plot_learning_curve(estimator, title, X, y, ylim=None, cv=None,\n",
    "                        n_jobs=-1, train_sizes=np.linspace(.1, 1.0, 5)):\n",
    "    \"\"\"Generate a simple plot of the test and training learning curve\"\"\"\n",
    "    plt.figure()\n",
    "    plt.title(title)\n",
    "    \n",
    "    if ylim is not None:\n",
    "        plt.ylim(*ylim)\n",
    "    plt.xlabel(\"Training examples\")\n",
    "    plt.ylabel(\"Score\")\n",
    "    \n",
    "    train_sizes, train_scores, test_scores = learning_curve(estimator, X, y, cv=cv, n_jobs=n_jobs, train_sizes=train_sizes)\n",
    "    train_scores_mean = np.mean(train_scores, axis=1)\n",
    "    train_scores_std = np.std(train_scores, axis=1)\n",
    "    test_scores_mean = np.mean(test_scores, axis=1)\n",
    "    test_scores_std = np.std(test_scores, axis=1)\n",
    "    plt.grid()\n",
    "\n",
    "    plt.fill_between(train_sizes, train_scores_mean - train_scores_std,\n",
    "                     train_scores_mean + train_scores_std, alpha=0.1,\n",
    "                     color=\"r\")\n",
    "    plt.fill_between(train_sizes, test_scores_mean - test_scores_std,\n",
    "                     test_scores_mean + test_scores_std, alpha=0.1, color=\"g\")\n",
    "    plt.plot(train_sizes, train_scores_mean, 'o-', color=\"r\",\n",
    "             label=\"Training score\")\n",
    "    plt.plot(train_sizes, test_scores_mean, 'o-', color=\"g\",\n",
    "             label=\"Cross-validation score\")\n",
    "\n",
    "    plt.legend(loc=\"best\")\n",
    "    return plt"
   ]
  },
  {
   "cell_type": "code",
   "execution_count": 42,
   "metadata": {},
   "outputs": [
    {
     "data": {
      "image/png": "[encoded data removed]",
      "text/plain": [
       "<Figure size 432x288 with 1 Axes>"
      ]
     },
     "metadata": {},
     "output_type": "display_data"
    }
   ],
   "source": [
    "kfold = StratifiedKFold(n_splits=5)\n",
    "g = plot_learning_curve(logrmodel,\"Logistic\",X_trainmodel_std,y_trainmodel.values.ravel(),cv=None)\n"
   ]
  },
  {
   "cell_type": "code",
   "execution_count": 43,
   "metadata": {},
   "outputs": [
    {
     "name": "stdout",
     "output_type": "stream",
     "text": [
      "Fitting 10 folds for each of 20 candidates, totalling 200 fits\n"
     ]
    },
    {
     "name": "stderr",
     "output_type": "stream",
     "text": [
      "[Parallel(n_jobs=-1)]: Done  42 tasks      | elapsed:    3.8s\n"
     ]
    },
    {
     "name": "stdout",
     "output_type": "stream",
     "text": [
      "Best parameters: {'C': 1.0, 'penalty': 'l1', 'solver': 'liblinear'}\n",
      "Best cross-validation score: 0.85\n",
      "Best estimator:\n",
      "LogisticRegression(C=1.0, class_weight=None, dual=False, fit_intercept=True,\n",
      "          intercept_scaling=1, max_iter=100, multi_class='ovr', n_jobs=1,\n",
      "          penalty='l1', random_state=None, solver='liblinear', tol=0.0001,\n",
      "          verbose=0, warm_start=False)\n"
     ]
    },
    {
     "name": "stderr",
     "output_type": "stream",
     "text": [
      "[Parallel(n_jobs=-1)]: Done 200 out of 200 | elapsed:    7.0s finished\n"
     ]
    }
   ],
   "source": [
    "from sklearn.model_selection import GridSearchCV\n",
    "# Create regularization penalty space\n",
    "penalty = ['l1', 'l2']\n",
    "\n",
    "# Create regularization hyperparameter space\n",
    "C = np.logspace(0, 8, 10)\n",
    "solver =['liblinear']\n",
    "# Create hyperparameter options\n",
    "hyperparameters = dict(C=C, penalty=penalty,solver=solver)\n",
    "logistic = LogisticRegression()\n",
    "grid_search = GridSearchCV(logistic, hyperparameters, cv=10, scoring=\"accuracy\", verbose = 1,n_jobs =-1)\n",
    "grid_search.fit(X_trainmodel_std,y_trainmodel.values.ravel())\n",
    "\n",
    "grid_search_best = grid_search.best_estimator_\n",
    "\n",
    " #Best score\n",
    "print(\"Best parameters: {}\".format(grid_search.best_params_))\n",
    "print(\"Best cross-validation score: {:.2f}\".format(grid_search.best_score_))\n",
    "print(\"Best estimator:\\n{}\".format(grid_search.best_estimator_))\n"
   ]
  },
  {
   "cell_type": "code",
   "execution_count": 44,
   "metadata": {},
   "outputs": [
    {
     "name": "stdout",
     "output_type": "stream",
     "text": [
      "Accuracy: 86.610\n",
      "Classification report\n",
      "             precision    recall  f1-score   support\n",
      "\n",
      "          0       0.79      0.85      0.82       170\n",
      "          1       0.76      0.69      0.72       121\n",
      "\n",
      "avg / total       0.78      0.78      0.78       291\n",
      "\n",
      "Confusion matrix\n",
      "[[144  26]\n",
      " [ 38  83]]\n"
     ]
    },
    {
     "data": {
      "image/png": "[encoded data removed]",
      "text/plain": [
       "<Figure size 432x288 with 1 Axes>"
      ]
     },
     "metadata": {},
     "output_type": "display_data"
    }
   ],
   "source": [
    "\n",
    "logrmodel = grid_search_best \n",
    "\n",
    "logrmodel.fit(X_trainmodel_std, y_trainmodel.values.ravel())\n",
    "kfold = StratifiedKFold(n_splits=10)\n",
    "g = plot_learning_curve(logrmodel,\"Logistic\",X_trainmodel_std,y_trainmodel.values.ravel(),cv=None)\n",
    "result = logrmodel.score(X_trainmodel_std, y_trainmodel.values)\n",
    "print (\"Accuracy: {0:.3f}\".format(result*100.0))\n",
    "y_pred=measure_performance(X_val_std,y_val,logrmodel, show_accuracy=False, \n",
    "                    show_classification_report=True,\n",
    "                    show_confusion_matrix=True, show_r2_score=False)\n",
    "\n",
    "y_pred_result=logrmodel.predict(test_dataset_std)"
   ]
  },
  {
   "cell_type": "code",
   "execution_count": 45,
   "metadata": {},
   "outputs": [
    {
     "name": "stdout",
     "output_type": "stream",
     "text": [
      "Fitting 10 folds for each of 27 candidates, totalling 270 fits\n"
     ]
    },
    {
     "name": "stderr",
     "output_type": "stream",
     "text": [
      "[Parallel(n_jobs=-1)]: Done  42 tasks      | elapsed:   13.6s\n",
      "[Parallel(n_jobs=-1)]: Done 192 tasks      | elapsed:   43.3s\n",
      "[Parallel(n_jobs=-1)]: Done 270 out of 270 | elapsed:  1.0min finished\n"
     ]
    },
    {
     "name": "stdout",
     "output_type": "stream",
     "text": [
      "Best parameters: {'bootstrap': False, 'criterion': 'gini', 'max_depth': None, 'max_features': 10, 'min_samples_leaf': 10, 'min_samples_split': 2, 'n_estimators': 200}\n",
      "Best cross-validation score: 0.85\n",
      "Best estimator:\n",
      "RandomForestClassifier(bootstrap=False, class_weight=None, criterion='gini',\n",
      "            max_depth=None, max_features=10, max_leaf_nodes=None,\n",
      "            min_impurity_decrease=0.0, min_impurity_split=None,\n",
      "            min_samples_leaf=10, min_samples_split=2,\n",
      "            min_weight_fraction_leaf=0.0, n_estimators=200, n_jobs=1,\n",
      "            oob_score=False, random_state=None, verbose=0,\n",
      "            warm_start=False)\n"
     ]
    }
   ],
   "source": [
    "#0.61802902979373567608861726508785\n",
    "#0.38197097020626432391138273491215\n",
    "from sklearn.model_selection import GridSearchCV\n",
    "from sklearn.svm import SVC\n",
    "## Search grid for optimal parameters\n",
    "from sklearn.ensemble import RandomForestClassifier\n",
    "rf_param_grid = {\"max_depth\": [None],\n",
    "              \"max_features\": [1, 3, 10],\n",
    "              \"min_samples_split\": [2, 3, 10],\n",
    "              \"min_samples_leaf\": [1,7,10],\n",
    "              \"bootstrap\": [False],\n",
    "              \"n_estimators\" :[200],\n",
    "              \"criterion\": [\"gini\"]\n",
    "              #,\"class_weight\":[ {0:0.618,1:0.382}]\n",
    "                }\n",
    "rfc =RandomForestClassifier()\n",
    "grid_search = GridSearchCV(rfc,param_grid = rf_param_grid, cv=10, scoring=\"accuracy\", verbose = 1,n_jobs =-1)\n",
    "\n",
    "grid_search.fit(X_trainmodel,y_trainmodel.values.ravel())\n",
    "\n",
    "rfc_best = grid_search.best_estimator_\n",
    "\n",
    " #Best score\n",
    "print(\"Best parameters: {}\".format(grid_search.best_params_))\n",
    "print(\"Best cross-validation score: {:.2f}\".format(grid_search.best_score_))\n",
    "print(\"Best estimator:\\n{}\".format(grid_search.best_estimator_))\n"
   ]
  },
  {
   "cell_type": "code",
   "execution_count": 46,
   "metadata": {},
   "outputs": [
    {
     "name": "stdout",
     "output_type": "stream",
     "text": [
      "Accuracy: 85.593\n",
      "Classification report\n",
      "             precision    recall  f1-score   support\n",
      "\n",
      "          0       0.79      0.86      0.83       170\n",
      "          1       0.78      0.69      0.73       121\n",
      "\n",
      "avg / total       0.79      0.79      0.79       291\n",
      "\n",
      "Confusion matrix\n",
      "[[147  23]\n",
      " [ 38  83]]\n"
     ]
    }
   ],
   "source": [
    "rfc_best_params =grid_search.best_params_\n",
    "#class_weight={0: 0.69, 1: 0.31} best \n",
    "#rfc =RandomForestClassifier(**rfc_best_params)\n",
    "'''\n",
    "rfc = RandomForestClassifier(bootstrap=False, class_weight={0: 0.66, 1: 0.34},\n",
    "            criterion='gini', max_depth=None, max_features=76,\n",
    "            max_leaf_nodes=None, min_impurity_split=1e-07,\n",
    "            min_samples_leaf=10, min_samples_split=7,\n",
    "            min_weight_fraction_leaf=0.0, n_estimators=1500, n_jobs=1,\n",
    "            oob_score=False, random_state=None, verbose=0,\n",
    "            warm_start=False)\n",
    "            \n",
    "rfc = RandomForestClassifier(bootstrap=False, class_weight={0: 0.70, 1: 0.30},\n",
    "            criterion='gini', max_depth=None, max_features=None,\n",
    "            max_leaf_nodes=None, min_impurity_split=1e-07,\n",
    "            min_samples_leaf=10, min_samples_split=7,\n",
    "            min_weight_fraction_leaf=0.0, n_estimators=10000, n_jobs=1,\n",
    "            oob_score=False, random_state=None, verbose=0,\n",
    "            warm_start=False)             \n",
    "\n",
    "rfcbest = RandomForestClassifier(bootstrap=False, class_weight={0: 0.62, 1: 0.38},\n",
    "            criterion='gini', max_depth=None, max_features=None,\n",
    "            max_leaf_nodes=None, min_impurity_split=1e-07,\n",
    "            min_samples_leaf=10, min_samples_split=5 ,\n",
    "            min_weight_fraction_leaf=0.0, n_estimators=5000, n_jobs=-1,\n",
    "            oob_score=False, random_state=None, verbose=0,\n",
    "            warm_start=False)\n",
    "            \n",
    "'''\n",
    "rfc = rfc_best\n",
    "\n",
    "rfc.fit(X_trainmodel, y_trainmodel.values.ravel())\n",
    "#g = plot_learning_curve(rfc,\"RandomForest\",X_trainmodel,y_trainmodel.values.ravel(),cv=None)\n",
    "result = rfc.score(X_trainmodel, y_trainmodel.values)\n",
    "print (\"Accuracy: {0:.3f}\".format(result*100.0))\n",
    "y_pred=measure_performance(X_val,y_val,rfc, show_accuracy=False, \n",
    "                    show_classification_report=True,\n",
    "                    show_confusion_matrix=True, show_r2_score=False)\n",
    "\n",
    " \n",
    "y_pred_result=rfc.predict(test_dataset)"
   ]
  },
  {
   "cell_type": "code",
   "execution_count": 47,
   "metadata": {},
   "outputs": [
    {
     "data": {
      "text/plain": [
       "<matplotlib.legend.Legend at 0x23caf748eb8>"
      ]
     },
     "execution_count": 47,
     "metadata": {},
     "output_type": "execute_result"
    },
    {
     "data": {
      "image/png": "[encoded data removed]",
      "text/plain": [
       "<Figure size 432x288 with 1 Axes>"
      ]
     },
     "metadata": {},
     "output_type": "display_data"
    }
   ],
   "source": [
    "from sklearn.metrics import roc_curve\n",
    "fpr, tpr, thresholds = roc_curve(y_val, rfc.predict_proba(X_val)[:, 1])\n",
    "plt.figure()\n",
    "plt.plot(fpr, tpr, label=\"ROC Curve\")\n",
    "plt.xlabel(\"FPR\")\n",
    "plt.ylabel(\"TPR (recall)\")\n",
    "plt.title(\"roc_curve\");\n",
    "# find threshold closest to zero:\n",
    "close_zero = np.argmin(np.abs(thresholds))\n",
    "plt.plot(fpr[close_zero], tpr[close_zero], 'o', markersize=10,\n",
    "         label=\"threshold zero\", fillstyle=\"none\", c='k', mew=2)\n",
    "plt.legend(loc=4)"
   ]
  },
  {
   "cell_type": "code",
   "execution_count": 48,
   "metadata": {},
   "outputs": [
    {
     "name": "stdout",
     "output_type": "stream",
     "text": [
      "Fitting 10 folds for each of 112 candidates, totalling 1120 fits\n"
     ]
    },
    {
     "name": "stderr",
     "output_type": "stream",
     "text": [
      "[Parallel(n_jobs=4)]: Done  68 tasks      | elapsed:    5.6s\n"
     ]
    },
    {
     "name": "stdout",
     "output_type": "stream",
     "text": [
      "AdaBoostClassifier(algorithm='SAMME.R',\n",
      "          base_estimator=DecisionTreeClassifier(class_weight=None, criterion='entropy', max_depth=None,\n",
      "            max_features=None, max_leaf_nodes=None,\n",
      "            min_impurity_decrease=0.0, min_impurity_split=None,\n",
      "            min_samples_leaf=1, min_samples_split=2,\n",
      "            min_weight_fraction_leaf=0.0, presort=False, random_state=None,\n",
      "            splitter='random'),\n",
      "          learning_rate=0.001, n_estimators=2, random_state=7)\n"
     ]
    },
    {
     "name": "stderr",
     "output_type": "stream",
     "text": [
      "[Parallel(n_jobs=4)]: Done 1120 out of 1120 | elapsed:   11.7s finished\n"
     ]
    }
   ],
   "source": [
    "from sklearn.ensemble import RandomForestClassifier, AdaBoostClassifier, GradientBoostingClassifier, ExtraTreesClassifier, VotingClassifier\n",
    "from sklearn.tree import DecisionTreeClassifier\n",
    "#class_weight={0:0.618,1:0.382}\n",
    "DTC = DecisionTreeClassifier()\n",
    "\n",
    "adaDTC = AdaBoostClassifier(DTC, random_state=7)\n",
    "\n",
    "ada_param_grid = {\"base_estimator__criterion\" : [\"gini\", \"entropy\"],\n",
    "              \"base_estimator__splitter\" :   [\"best\", \"random\"],\n",
    "              \"algorithm\" : [\"SAMME\",\"SAMME.R\"],\n",
    "              \"n_estimators\" :[1,2],\n",
    "              \"learning_rate\":  [0.0001, 0.001, 0.01, 0.1, 0.2, 0.3,1.5]}\n",
    "\n",
    "gsadaDTC = GridSearchCV(adaDTC,param_grid = ada_param_grid, cv=kfold, scoring=\"accuracy\", n_jobs= 4, verbose = 1)\n",
    "\n",
    "gsadaDTC.fit(X_trainmodel, y_trainmodel.values.ravel())\n",
    "\n",
    "ada_best = gsadaDTC.best_estimator_\n",
    "print(ada_best)\n",
    " "
   ]
  },
  {
   "cell_type": "code",
   "execution_count": 49,
   "metadata": {},
   "outputs": [],
   "source": [
    "def plot_roc(y_val,model):\n",
    "    fpr, tpr, thresholds = roc_curve(y_val, model.predict_proba(X_val)[:, 1])\n",
    "    plt.figure()\n",
    "    plt.plot(fpr, tpr, label=\"ROC Curve\")\n",
    "    plt.xlabel(\"FPR\")\n",
    "    plt.ylabel(\"TPR (recall)\")\n",
    "    plt.title(\"roc_curve\");\n",
    "    # find threshold closest to zero:\n",
    "    close_zero = np.argmin(np.abs(thresholds))\n",
    "    plt.plot(fpr[close_zero], tpr[close_zero], 'o', markersize=10,\n",
    "         label=\"threshold zero\", fillstyle=\"none\", c='k', mew=2)\n",
    "    plt.legend(loc=4)"
   ]
  },
  {
   "cell_type": "code",
   "execution_count": 50,
   "metadata": {},
   "outputs": [
    {
     "name": "stdout",
     "output_type": "stream",
     "text": [
      "Accuracy: 85.932\n",
      "Classification report\n",
      "             precision    recall  f1-score   support\n",
      "\n",
      "          0       0.79      0.85      0.82       170\n",
      "          1       0.77      0.69      0.72       121\n",
      "\n",
      "avg / total       0.78      0.78      0.78       291\n",
      "\n",
      "Confusion matrix\n",
      "[[145  25]\n",
      " [ 38  83]]\n"
     ]
    },
    {
     "data": {
      "image/png": "[encoded data removed]",
      "text/plain": [
       "<Figure size 432x288 with 1 Axes>"
      ]
     },
     "metadata": {},
     "output_type": "display_data"
    }
   ],
   "source": [
    "adaDTC =ada_best \n",
    "\n",
    "adaDTC.fit(X_trainmodel, y_trainmodel.values.ravel())\n",
    "#g = plot_learning_curve(rfc,\"RandomForest\",X_trainmodel,y_trainmodel.values.ravel(),cv=None)\n",
    "result = adaDTC.score(X_trainmodel_std, y_trainmodel.values)\n",
    "print (\"Accuracy: {0:.3f}\".format(result*100.0))\n",
    "y_pred=measure_performance(X_val,y_val,adaDTC, show_accuracy=False, \n",
    "                    show_classification_report=True,\n",
    "                    show_confusion_matrix=True, show_r2_score=False)\n",
    "plot_roc(y_val,adaDTC)"
   ]
  },
  {
   "cell_type": "code",
   "execution_count": 74,
   "metadata": {},
   "outputs": [
    {
     "name": "stdout",
     "output_type": "stream",
     "text": [
      "Fitting 10 folds for each of 108 candidates, totalling 1080 fits\n"
     ]
    },
    {
     "name": "stderr",
     "output_type": "stream",
     "text": [
      "[Parallel(n_jobs=4)]: Done  42 tasks      | elapsed:   11.8s\n",
      "[Parallel(n_jobs=4)]: Done 192 tasks      | elapsed:   42.4s\n",
      "[Parallel(n_jobs=4)]: Done 442 tasks      | elapsed:  1.5min\n",
      "[Parallel(n_jobs=4)]: Done 792 tasks      | elapsed:  2.7min\n",
      "[Parallel(n_jobs=4)]: Done 1080 out of 1080 | elapsed:  4.0min finished\n"
     ]
    },
    {
     "data": {
      "text/plain": [
       "0.8542372881355932"
      ]
     },
     "execution_count": 74,
     "metadata": {},
     "output_type": "execute_result"
    }
   ],
   "source": [
    "extc = ExtraTreesClassifier()\n",
    "#class_weight={0: 0.618, 1: 0.382}\n",
    "\n",
    "## Search grid for optimal parameters\n",
    "ex_param_grid = {\"max_depth\": [5],\n",
    "              \"max_features\": [1, 3, 10],\n",
    "              \"min_samples_split\": [2, 3, 10],\n",
    "              \"min_samples_leaf\": [1, 3, 10],\n",
    "              \"bootstrap\": [False],\n",
    "              \"n_estimators\" :[100,300],\n",
    "              \"criterion\": [\"gini\",\"entropy\"]}\n",
    "\n",
    "\n",
    "gsextc  = GridSearchCV(extc ,param_grid = ex_param_grid, cv=kfold, scoring=\"accuracy\", n_jobs= 4, verbose = 1)\n",
    "\n",
    "gsextc.fit(X_trainmodel, y_trainmodel.values.ravel())\n",
    "\n",
    "extc_best = gsextc.best_estimator_\n",
    "\n",
    "# Best score\n",
    "gsextc.best_score_"
   ]
  },
  {
   "cell_type": "code",
   "execution_count": 75,
   "metadata": {},
   "outputs": [
    {
     "name": "stdout",
     "output_type": "stream",
     "text": [
      "Accuracy: 85.593\n",
      "Classification report\n",
      "             precision    recall  f1-score   support\n",
      "\n",
      "          0       0.79      0.86      0.82       170\n",
      "          1       0.78      0.67      0.72       121\n",
      "\n",
      "avg / total       0.78      0.78      0.78       291\n",
      "\n",
      "Confusion matrix\n",
      "[[147  23]\n",
      " [ 40  81]]\n"
     ]
    },
    {
     "data": {
      "image/png": "[encoded data removed]",
      "text/plain": [
       "<Figure size 432x288 with 1 Axes>"
      ]
     },
     "metadata": {},
     "output_type": "display_data"
    }
   ],
   "source": [
    "extc= extc_best\n",
    "\n",
    "extc.fit(X_trainmodel, y_trainmodel.values.ravel())\n",
    "#g = plot_learning_curve(rfc,\"RandomForest\",X_trainmodel,y_trainmodel.values.ravel(),cv=None)\n",
    "result = extc.score(X_trainmodel_std, y_trainmodel.values)\n",
    "print (\"Accuracy: {0:.3f}\".format(result*100.0))\n",
    "y_pred=measure_performance(X_val,y_val,extc, show_accuracy=False, \n",
    "                    show_classification_report=True,\n",
    "                    show_confusion_matrix=True, show_r2_score=False)\n",
    "plot_roc(y_val,extc)"
   ]
  },
  {
   "cell_type": "code",
   "execution_count": 76,
   "metadata": {},
   "outputs": [
    {
     "data": {
      "image/png": "[encoded data removed]",
      "text/plain": [
       "<Figure size 432x288 with 1 Axes>"
      ]
     },
     "metadata": {},
     "output_type": "display_data"
    }
   ],
   "source": [
    "g = plot_learning_curve(extc,\"EXT\",X_trainmodel_std,y_trainmodel.values.ravel(),cv=None)"
   ]
  },
  {
   "cell_type": "code",
   "execution_count": 67,
   "metadata": {},
   "outputs": [
    {
     "name": "stdout",
     "output_type": "stream",
     "text": [
      "Fitting 10 folds for each of 36 candidates, totalling 360 fits\n"
     ]
    },
    {
     "name": "stderr",
     "output_type": "stream",
     "text": [
      "[Parallel(n_jobs=4)]: Done  42 tasks      | elapsed:    6.8s\n",
      "[Parallel(n_jobs=4)]: Done 192 tasks      | elapsed:   17.0s\n",
      "[Parallel(n_jobs=4)]: Done 360 out of 360 | elapsed:   30.7s finished\n"
     ]
    },
    {
     "data": {
      "text/plain": [
       "0.8542372881355932"
      ]
     },
     "execution_count": 67,
     "metadata": {},
     "output_type": "execute_result"
    }
   ],
   "source": [
    "# Gradient boosting tunning\n",
    "\n",
    "gbc = GradientBoostingClassifier()\n",
    "gb_param_grid = {'loss' : [\"deviance\"],\n",
    "              'n_estimators' : [100,],\n",
    "              'learning_rate': [0.1, 0.05, 0.01],\n",
    "              'max_depth': [4, 8],\n",
    "              'min_samples_leaf': [3,5,7],\n",
    "              'max_features': [6,8],\n",
    "              \n",
    "              }\n",
    "\n",
    "gsgbc = GridSearchCV(gbc,param_grid = gb_param_grid, cv=kfold, scoring=\"accuracy\", n_jobs= 4, verbose = 1)\n",
    "\n",
    "gsgbc.fit(X_trainmodel, y_trainmodel.values.ravel())\n",
    "\n",
    "gbc_best = gsgbc.best_estimator_\n",
    "\n",
    "# Best score\n",
    "gsgbc.best_score_"
   ]
  },
  {
   "cell_type": "code",
   "execution_count": 68,
   "metadata": {},
   "outputs": [
    {
     "name": "stdout",
     "output_type": "stream",
     "text": [
      "GradientBoostingClassifier(criterion='friedman_mse', init=None,\n",
      "              learning_rate=0.05, loss='deviance', max_depth=4,\n",
      "              max_features=6, max_leaf_nodes=None,\n",
      "              min_impurity_decrease=0.0, min_impurity_split=None,\n",
      "              min_samples_leaf=7, min_samples_split=2,\n",
      "              min_weight_fraction_leaf=0.0, n_estimators=100,\n",
      "              presort='auto', random_state=None, subsample=1.0, verbose=0,\n",
      "              warm_start=False)\n"
     ]
    }
   ],
   "source": [
    "print(gbc_best )"
   ]
  },
  {
   "cell_type": "code",
   "execution_count": 69,
   "metadata": {},
   "outputs": [
    {
     "name": "stdout",
     "output_type": "stream",
     "text": [
      "Accuracy: 86.271\n",
      "Classification report\n",
      "             precision    recall  f1-score   support\n",
      "\n",
      "          0       0.79      0.86      0.83       170\n",
      "          1       0.78      0.68      0.73       121\n",
      "\n",
      "avg / total       0.79      0.79      0.78       291\n",
      "\n",
      "Confusion matrix\n",
      "[[147  23]\n",
      " [ 39  82]]\n"
     ]
    },
    {
     "data": {
      "image/png": "[encoded data removed]",
      "text/plain": [
       "<Figure size 432x288 with 1 Axes>"
      ]
     },
     "metadata": {},
     "output_type": "display_data"
    }
   ],
   "source": [
    "gbc=gbc_best\n",
    "gbc.fit(X_trainmodel, y_trainmodel.values.ravel())\n",
    "#g = plot_learning_curve(rfc,\"RandomForest\",X_trainmodel,y_trainmodel.values.ravel(),cv=None)\n",
    "result = gbc.score(X_trainmodel_std, y_trainmodel.values)\n",
    "print (\"Accuracy: {0:.3f}\".format(result*100.0))\n",
    "y_pred=measure_performance(X_val,y_val,gbc, show_accuracy=False, \n",
    "                    show_classification_report=True,\n",
    "                    show_confusion_matrix=True, show_r2_score=False)\n",
    "plot_roc(y_val,gbc)"
   ]
  },
  {
   "cell_type": "code",
   "execution_count": 70,
   "metadata": {},
   "outputs": [
    {
     "name": "stdout",
     "output_type": "stream",
     "text": [
      "Classification report\n",
      "             precision    recall  f1-score   support\n",
      "\n",
      "          0       0.79      0.86      0.82       170\n",
      "          1       0.78      0.67      0.72       121\n",
      "\n",
      "avg / total       0.78      0.78      0.78       291\n",
      "\n",
      "Confusion matrix\n",
      "[[147  23]\n",
      " [ 40  81]]\n"
     ]
    }
   ],
   "source": [
    "y_pred=measure_performance(X_val_std,y_val,gbc, show_accuracy=False, \n",
    "                    show_classification_report=True,\n",
    "                    show_confusion_matrix=True, show_r2_score=False)"
   ]
  },
  {
   "cell_type": "code",
   "execution_count": 71,
   "metadata": {},
   "outputs": [
    {
     "data": {
      "image/png": "[encoded data removed]",
      "text/plain": [
       "<Figure size 432x288 with 1 Axes>"
      ]
     },
     "metadata": {},
     "output_type": "display_data"
    }
   ],
   "source": [
    "g = plot_learning_curve(gbc_best,\"GBC\",X_trainmodel_std,y_trainmodel.values.ravel(),cv=None)"
   ]
  },
  {
   "cell_type": "code",
   "execution_count": 78,
   "metadata": {},
   "outputs": [
    {
     "name": "stderr",
     "output_type": "stream",
     "text": [
      "D:\\Anaconda3\\lib\\site-packages\\sklearn\\preprocessing\\label.py:151: DeprecationWarning: The truth value of an empty array is ambiguous. Returning False, but in future this will result in an error. Use `array.size > 0` to check that an array is not empty.\n",
      "  if diff:\n",
      "D:\\Anaconda3\\lib\\site-packages\\sklearn\\preprocessing\\label.py:151: DeprecationWarning: The truth value of an empty array is ambiguous. Returning False, but in future this will result in an error. Use `array.size > 0` to check that an array is not empty.\n",
      "  if diff:\n"
     ]
    },
    {
     "name": "stdout",
     "output_type": "stream",
     "text": [
      "Accuracy: 90.339\n",
      "Classification report\n",
      "             precision    recall  f1-score   support\n",
      "\n",
      "          0       0.79      0.88      0.83       170\n",
      "          1       0.80      0.67      0.73       121\n",
      "\n",
      "avg / total       0.79      0.79      0.79       291\n",
      "\n",
      "Confusion matrix\n",
      "[[150  20]\n",
      " [ 40  81]]\n"
     ]
    },
    {
     "name": "stderr",
     "output_type": "stream",
     "text": [
      "D:\\Anaconda3\\lib\\site-packages\\sklearn\\preprocessing\\label.py:151: DeprecationWarning: The truth value of an empty array is ambiguous. Returning False, but in future this will result in an error. Use `array.size > 0` to check that an array is not empty.\n",
      "  if diff:\n"
     ]
    },
    {
     "data": {
      "image/png": "[encoded data removed]",
      "text/plain": [
       "<Figure size 432x288 with 1 Axes>"
      ]
     },
     "metadata": {},
     "output_type": "display_data"
    }
   ],
   "source": [
    "## Voting classifier\n",
    "titanic_vc = VotingClassifier(estimators=[('rfc', rfc_best), ('extc', extc_best),\n",
    "                                          ('adac',ada_best),('gbc',gbc_best)], voting='soft', n_jobs=4)\n",
    "titanic_vc.fit(X_trainmodel, y_trainmodel.values.ravel())\n",
    "#g = plot_learning_curve(rfc,\"RandomForest\",X_trainmodel,y_trainmodel.values.ravel(),cv=None)\n",
    "result = titanic_vc.score(X_trainmodel, y_trainmodel.values)\n",
    "print (\"Accuracy: {0:.3f}\".format(result*100.0))\n",
    "y_pred=measure_performance(X_val,y_val,titanic_vc, show_accuracy=False, \n",
    "                    show_classification_report=True,\n",
    "                    show_confusion_matrix=True, show_r2_score=False)\n",
    "plot_roc(y_val,titanic_vc)\n",
    "y_pred_result=titanic_vc.predict(test_dataset)"
   ]
  },
  {
   "cell_type": "code",
   "execution_count": 79,
   "metadata": {},
   "outputs": [],
   "source": [
    "FORMAT = '%Y%m%d%H%M%S'\n",
    "timestamp=datetime.datetime.now().strftime(FORMAT)\n",
    "filename =\"submission_vcbest\"+timestamp+\"_out.csv\"\n",
    "submission = pd.DataFrame({\n",
    "        \"PassengerId\": test_X[\"PassengerId\"],\n",
    "        \"Survived\": y_pred_result\n",
    "    })\n",
    "submission.to_csv(filename, index=False)"
   ]
  },
  {
   "cell_type": "code",
   "execution_count": 80,
   "metadata": {},
   "outputs": [
    {
     "name": "stdout",
     "output_type": "stream",
     "text": [
      "[1.4431e-02 2.3697e-02 8.4074e-03 1.8583e-02 3.3711e-02 8.3783e-03\n",
      " 3.9410e-02 0.0000e+00 0.0000e+00 1.0822e-03 0.0000e+00 0.0000e+00\n",
      " 0.0000e+00 0.0000e+00 1.6269e-04 0.0000e+00 0.0000e+00 0.0000e+00\n",
      " 0.0000e+00 0.0000e+00 0.0000e+00 6.6782e-04 0.0000e+00 0.0000e+00\n",
      " 0.0000e+00 0.0000e+00 0.0000e+00 0.0000e+00 0.0000e+00 0.0000e+00\n",
      " 0.0000e+00 0.0000e+00 0.0000e+00 0.0000e+00 0.0000e+00 0.0000e+00\n",
      " 0.0000e+00 0.0000e+00 0.0000e+00 0.0000e+00 0.0000e+00 0.0000e+00\n",
      " 2.4370e-03 3.8156e-03 2.0465e-01 1.7877e-01 1.6312e-03 3.2551e-04\n",
      " 2.7932e-03 9.7722e-04 5.0971e-03 1.7816e-03 0.0000e+00 0.0000e+00\n",
      " 0.0000e+00 4.8077e-02 7.4966e-03 1.8934e-03 7.4169e-03 1.2296e-01\n",
      " 1.9441e-01 2.7601e-03 3.0114e-03 2.0919e-03 1.2413e-02 7.3705e-03\n",
      " 8.0900e-03 3.1207e-02]\n"
     ]
    }
   ],
   "source": [
    "print(rfc_best.feature_importances_)"
   ]
  },
  {
   "cell_type": "code",
   "execution_count": 61,
   "metadata": {},
   "outputs": [
    {
     "data": {
      "text/plain": [
       "\"\\nplt.title('Feature Importances')\\n\\nax.set_xticklabels(ax.get_xticklabels(),ha='right')\\nplt.barh(range(len(indices)), importances[indices],  align='center',ax=ax)\\nplt.yticks(range(len(indices)), features[indices])\\nplt.xlabel('Relative Importance')\\n\""
      ]
     },
     "execution_count": 61,
     "metadata": {},
     "output_type": "execute_result"
    },
    {
     "data": {
      "image/png": "[encoded data removed]",
      "text/plain": [
       "<Figure size 3600x3000 with 1 Axes>"
      ]
     },
     "metadata": {},
     "output_type": "display_data"
    }
   ],
   "source": [
    "features = train_dataset.columns \n",
    "importances = rfc_best.feature_importances_\n",
    "indices = np.argsort(importances)\n",
    "fig = plt.figure(figsize=(12,10),dpi=300)\n",
    "ax = fig.gca()\n",
    "g = sns.barplot(y=features[indices][:66],x = importances[indices][:66] , orient='h')\n",
    "#feature_imp =pd.DataFrame(data=importances[indices], columns=features[indices])\n",
    "'''\n",
    "plt.title('Feature Importances')\n",
    "\n",
    "ax.set_xticklabels(ax.get_xticklabels(),ha='right')\n",
    "plt.barh(range(len(indices)), importances[indices],  align='center',ax=ax)\n",
    "plt.yticks(range(len(indices)), features[indices])\n",
    "plt.xlabel('Relative Importance')\n",
    "'''\n",
    "\n",
    "#plt.show()"
   ]
  },
  {
   "cell_type": "code",
   "execution_count": null,
   "metadata": {},
   "outputs": [],
   "source": []
  }
 ],
 "metadata": {
  "kernelspec": {
   "display_name": "Python 3",
   "language": "python",
   "name": "python3"
  },
  "language_info": {
   "codemirror_mode": {
    "name": "ipython",
    "version": 3
   },
   "file_extension": ".py",
   "mimetype": "text/x-python",
   "name": "python",
   "nbconvert_exporter": "python",
   "pygments_lexer": "ipython3",
   "version": "3.6.5"
  }
 },
 "nbformat": 4,
 "nbformat_minor": 2
}
