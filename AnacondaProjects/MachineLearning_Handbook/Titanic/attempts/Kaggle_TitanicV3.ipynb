{
 "cells": [
  {
   "cell_type": "markdown",
   "metadata": {},
   "source": [
    "# Title- Titanic: Machine Learning from Disaster\n",
    "\n",
    "### Competition Description\n",
    "\n",
    "The sinking of the RMS Titanic is one of the most infamous shipwrecks in history.  On April 15, 1912, during her maiden voyage, the Titanic sank after colliding with an iceberg, killing 1502 out of 2224 passengers and crew. This sensational tragedy shocked the international community and led to better safety regulations for ships.\n",
    "\n",
    "One of the reasons that the shipwreck led to such loss of life was that there were not enough lifeboats for the passengers and crew. Although there was some element of luck involved in surviving the sinking, some groups of people were more likely to survive than others, such as women, children, and the upper-class.\n",
    "\n",
    "In this challenge, we ask you to complete the analysis of what sorts of people were likely to survive. In particular, we ask you to apply the tools of machine learning to predict which passengers survived the tragedy.\n",
    "\n",
    "#### Practice Skills\n",
    "###### Binary classification \n",
    "---"
   ]
  },
  {
   "cell_type": "markdown",
   "metadata": {},
   "source": [
    "### Overview\n",
    "The data has been split into two groups:\n",
    "\n",
    "training set (train.csv)\n",
    "test set (test.csv)\n",
    "\n",
    "The training set should be used to build your machine learning models. For the training set, we provide the outcome (also known as the “ground truth”) for each passenger. Your model will be based on “features” like passengers’ gender and class. You can also use feature engineering to create new features.\n",
    "\n",
    "The test set should be used to see how well your model performs on unseen data. For the test set, we do not provide the ground truth for each passenger. It is your job to predict these outcomes. For each passenger in the test set, use the model you trained to predict whether or not they survived the sinking of the Titanic.\n",
    "\n",
    "We also include gender_submission.csv, a set of predictions that assume all and only female passengers survive, as an example of what a submission file should look like.\n",
    "\n",
    "----"
   ]
  },
  {
   "cell_type": "markdown",
   "metadata": {},
   "source": [
    "### Data Dictionary\n",
    "\n",
    "<table>\n",
    "<tbody>\n",
    "<tr><th><b>Variable</b></th><th><b>Definition</b></th><th><b>Key</b></th></tr>\n",
    "<tr>\n",
    "<td>survival</td>\n",
    "<td>Survival</td>\n",
    "<td>0 = No, 1 = Yes</td>\n",
    "</tr>\n",
    "<tr>\n",
    "<td>pclass</td>\n",
    "<td>Ticket class</td>\n",
    "<td>1 = 1st, 2 = 2nd, 3 = 3rd</td>\n",
    "</tr>\n",
    "<tr>\n",
    "<td>sex</td>\n",
    "<td>Sex</td>\n",
    "<td></td>\n",
    "</tr>\n",
    "<tr>\n",
    "<td>Age</td>\n",
    "<td>Age in years</td>\n",
    "<td></td>\n",
    "</tr>\n",
    "<tr>\n",
    "<td>sibsp</td>\n",
    "<td># of siblings / spouses aboard the Titanic</td>\n",
    "<td></td>\n",
    "</tr>\n",
    "<tr>\n",
    "<td>parch</td>\n",
    "<td># of parents / children aboard the Titanic</td>\n",
    "<td></td>\n",
    "</tr>\n",
    "<tr>\n",
    "<td>ticket</td>\n",
    "<td>Ticket number</td>\n",
    "<td></td>\n",
    "</tr>\n",
    "<tr>\n",
    "<td>fare</td>\n",
    "<td>Passenger fare</td>\n",
    "<td></td>\n",
    "</tr>\n",
    "<tr>\n",
    "<td>cabin</td>\n",
    "<td>Cabin number</td>\n",
    "<td></td>\n",
    "</tr>\n",
    "<tr>\n",
    "<td>embarked</td>\n",
    "<td>Port of Embarkation</td>\n",
    "<td>C = Cherbourg, Q = Queenstown, S = Southampton</td>\n",
    "</tr>\n",
    "</tbody>\n",
    "</table>\n",
    "\n",
    " \n"
   ]
  },
  {
   "cell_type": "markdown",
   "metadata": {},
   "source": [
    "---\n",
    "### Variable Notes\n",
    "<p><b>pclass</b>: A proxy for socio-economic status (SES)<br> 1st = Upper<br> 2nd = Middle<br> 3rd = Lower<br><br> <b>age</b>: Age is fractional if less than 1. If the age is estimated, is it in the form of xx.5<br><br> <b>sibsp</b>: The dataset defines family relations in this way...<br> Sibling = brother, sister, stepbrother, stepsister<br> Spouse = husband, wife (mistresses and fiancés were ignored)<br><br> <b>parch</b>: The dataset defines family relations in this way...<br> Parent = mother, father<br> Child = daughter, son, stepdaughter, stepson<br> Some children travelled only with a nanny, therefore parch=0 for them.</p>"
   ]
  },
  {
   "cell_type": "markdown",
   "metadata": {},
   "source": [
    "---\n",
    "### 1.Prepare Problem\n",
    "#### a.Load libraries\n",
    "#### b.Load dataset\n",
    "##### for this problem we will be loading training set and test  from two files as given by kaggle "
   ]
  },
  {
   "cell_type": "code",
   "execution_count": 1,
   "metadata": {
    "collapsed": true
   },
   "outputs": [],
   "source": [
    "import os\n",
    "import math\n",
    "import datetime\n",
    "\n",
    "from sklearn.preprocessing import LabelEncoder\n",
    "from sklearn.preprocessing import LabelBinarizer\n",
    "\n",
    "from mlsettings.settings import load_app_config, get_datafolder_path\n",
    "from mltools.mlcommon import load_data, print_dataset_info, split_dataset, auto_scatter_simple\n",
    "\n",
    "import matplotlib.pyplot as plt\n",
    "import seaborn as sns\n",
    "import pandas as pd\n",
    "import numpy as np\n",
    " \n",
    "% matplotlib inline \n",
    "from numpy import set_printoptions\n",
    "set_printoptions(precision=4)"
   ]
  },
  {
   "cell_type": "code",
   "execution_count": 2,
   "metadata": {},
   "outputs": [
    {
     "name": "stdout",
     "output_type": "stream",
     "text": [
      "{'REG': {'ML_DATASOURCE': 'F:\\\\DataSource', 'ML_PATH': 'F:\\\\MachineLearning'}, 'PRD': {'ML_DATASOURCE': 'F:\\\\DataSource', 'ML_PATH': 'F:\\\\MachineLearning'}, 'UAT': {'ML_DATASOURCE': 'F:\\\\DataSource', 'ML_PATH': 'F:\\\\MachineLearning'}, 'DEV': {'ML_DATASOURCE': 'F:\\\\DataSource', 'ML_PATH': 'F:\\\\MachineLearning'}}\n",
      "Adding F:\\DataSource  to system path\n",
      "Adding F:\\MachineLearning  to system path\n"
     ]
    }
   ],
   "source": [
    "load_app_config()\n",
    "DIRECTORY=\"kaggle_titanic\"\n",
    "TRAIN_FILE ='train.csv'\n",
    "TEST_FILE = 'test.csv'\n",
    "RESPONSE = 'Survived'\n",
    "input_path = get_datafolder_path()"
   ]
  },
  {
   "cell_type": "code",
   "execution_count": 3,
   "metadata": {
    "collapsed": true
   },
   "outputs": [],
   "source": [
    "def load_dataset(filename=TRAIN_FILE,response=RESPONSE):\n",
    "    input_file = os.path.join(input_path, DIRECTORY, filename)\n",
    "    input_dataset = load_data(input_file)\n",
    "    print(\" input file is :{0} loaded.\".format(input_file))\n",
    "    #print(input_dataset.head())\n",
    "    \n",
    "    try:\n",
    "        continuous_vars = input_dataset.describe().columns.values.tolist()\n",
    "        print(\"Continous Variables\")\n",
    "        print(continuous_vars)\n",
    "    except ValueError:\n",
    "        print(\"No continous variables\")\n",
    "    \n",
    "    try:\n",
    "        categorical_vars = input_dataset.describe(include=[\"object\"]).columns.values.tolist()\n",
    "        print(\"Categorical Variables\")\n",
    "        print(categorical_vars)\n",
    "    except ValueError:\n",
    "        print(\"No categorical variables\")\n",
    "        categorical_vars = None\n",
    "    \n",
    "    response_column =  [col for col in input_dataset.columns if response in col]\n",
    "    feature_columns =  [col for col in input_dataset.columns if response not in col]\n",
    "      \n",
    "    return  input_dataset,feature_columns,response_column,continuous_vars,categorical_vars\n"
   ]
  },
  {
   "cell_type": "code",
   "execution_count": 7,
   "metadata": {},
   "outputs": [
    {
     "name": "stdout",
     "output_type": "stream",
     "text": [
      " input file is :F:\\DataSource\\kaggle_titanic\\train.csv loaded.\n",
      "Continous Variables\n",
      "['PassengerId', 'Survived', 'Pclass', 'Age', 'SibSp', 'Parch', 'Fare']\n",
      "Categorical Variables\n",
      "['Name', 'Sex', 'Ticket', 'Cabin', 'Embarked']\n"
     ]
    }
   ],
   "source": [
    "train_dataset,feature_columns,response_column,continuous_vars,categorical_vars = load_dataset(filename=TRAIN_FILE,response=RESPONSE)\n",
    "train_X = train_dataset[feature_columns]\n",
    "train_y = train_dataset[response_column]\n"
   ]
  },
  {
   "cell_type": "code",
   "execution_count": 8,
   "metadata": {},
   "outputs": [
    {
     "name": "stdout",
     "output_type": "stream",
     "text": [
      " input file is :F:\\DataSource\\kaggle_titanic\\test.csv loaded.\n",
      "Continous Variables\n",
      "['PassengerId', 'Pclass', 'Age', 'SibSp', 'Parch', 'Fare']\n",
      "Categorical Variables\n",
      "['Name', 'Sex', 'Ticket', 'Cabin', 'Embarked']\n"
     ]
    }
   ],
   "source": [
    "test_dataset,tfeature_columns,tresponse_column,tcontinuous_vars,tcategorical_vars  = load_dataset(filename=TEST_FILE,response=RESPONSE)\n",
    "test_X =[]\n",
    "test_y=[]\n",
    "if feature_columns:\n",
    "    test_X = test_dataset[tfeature_columns]\n",
    "\n",
    "if response_column:\n",
    "    test_y = test_dataset[tfeature_columns]\n",
    "   "
   ]
  },
  {
   "cell_type": "code",
   "execution_count": 9,
   "metadata": {},
   "outputs": [
    {
     "data": {
      "text/plain": [
       "'\\nfrom collections import Counter\\ndef detect_outliers(dataset,noutliers,columns):\\n    outlier_indices = []\\n    for column in columns:\\n        # 1st quartile (25%)\\n        Q1 = np.percentile(dataset[column], 25)\\n        # 3rd quartile (75%)\\n        Q3 = np.percentile(dataset[column],75)\\n        # Interquartile range (IQR)\\n        IQR = Q3 - Q1\\n        \\n        # outlier step\\n        outlier_step = 1.5 * IQR\\n        \\n        # Determine a list of indices of outliers for feature col\\n        outlier_list_col = dataset[(dataset[column] < Q1 - outlier_step) | (dataset[column] > Q3 + outlier_step )].index\\n        outlier_indices.extend(outlier_list_col)\\n         \\n    outlier_indices = Counter(outlier_indices)\\n     \\n    multiple_outliers = list( k for k, v in outlier_indices.items() if v > noutliers )\\n    return multiple_outliers \\n        \\nOutliers_to_drop = detect_outliers(train_dataset,2,[\"Age\",\"SibSp\",\"Parch\",\"Fare\"])\\nprint(train_dataset.loc[Outliers_to_drop])\\ntrain_dataset = train_dataset.drop(Outliers_to_drop, axis = 0).reset_index(drop=True)\\ntrain_X = train_dataset[feature_columns]\\ntrain_y = train_dataset[response_column]\\n'"
      ]
     },
     "execution_count": 9,
     "metadata": {},
     "output_type": "execute_result"
    }
   ],
   "source": [
    "'''\n",
    "from collections import Counter\n",
    "def detect_outliers(dataset,noutliers,columns):\n",
    "    outlier_indices = []\n",
    "    for column in columns:\n",
    "        # 1st quartile (25%)\n",
    "        Q1 = np.percentile(dataset[column], 25)\n",
    "        # 3rd quartile (75%)\n",
    "        Q3 = np.percentile(dataset[column],75)\n",
    "        # Interquartile range (IQR)\n",
    "        IQR = Q3 - Q1\n",
    "        \n",
    "        # outlier step\n",
    "        outlier_step = 1.5 * IQR\n",
    "        \n",
    "        # Determine a list of indices of outliers for feature col\n",
    "        outlier_list_col = dataset[(dataset[column] < Q1 - outlier_step) | (dataset[column] > Q3 + outlier_step )].index\n",
    "        outlier_indices.extend(outlier_list_col)\n",
    "         \n",
    "    outlier_indices = Counter(outlier_indices)\n",
    "     \n",
    "    multiple_outliers = list( k for k, v in outlier_indices.items() if v > noutliers )\n",
    "    return multiple_outliers \n",
    "        \n",
    "Outliers_to_drop = detect_outliers(train_dataset,2,[\"Age\",\"SibSp\",\"Parch\",\"Fare\"])\n",
    "print(train_dataset.loc[Outliers_to_drop])\n",
    "train_dataset = train_dataset.drop(Outliers_to_drop, axis = 0).reset_index(drop=True)\n",
    "train_X = train_dataset[feature_columns]\n",
    "train_y = train_dataset[response_column]\n",
    "'''"
   ]
  },
  {
   "cell_type": "code",
   "execution_count": 10,
   "metadata": {},
   "outputs": [
    {
     "name": "stdout",
     "output_type": "stream",
     "text": [
      "<class 'pandas.core.frame.DataFrame'>\n",
      "RangeIndex: 891 entries, 0 to 890\n",
      "Data columns (total 11 columns):\n",
      "PassengerId    891 non-null int64\n",
      "Pclass         891 non-null int64\n",
      "Name           891 non-null object\n",
      "Sex            891 non-null object\n",
      "Age            714 non-null float64\n",
      "SibSp          891 non-null int64\n",
      "Parch          891 non-null int64\n",
      "Ticket         891 non-null object\n",
      "Fare           891 non-null float64\n",
      "Cabin          204 non-null object\n",
      "Embarked       889 non-null object\n",
      "dtypes: float64(2), int64(4), object(5)\n",
      "memory usage: 76.6+ KB\n",
      "None\n",
      "<class 'pandas.core.frame.DataFrame'>\n",
      "RangeIndex: 418 entries, 0 to 417\n",
      "Data columns (total 11 columns):\n",
      "PassengerId    418 non-null int64\n",
      "Pclass         418 non-null int64\n",
      "Name           418 non-null object\n",
      "Sex            418 non-null object\n",
      "Age            332 non-null float64\n",
      "SibSp          418 non-null int64\n",
      "Parch          418 non-null int64\n",
      "Ticket         418 non-null object\n",
      "Fare           417 non-null float64\n",
      "Cabin          91 non-null object\n",
      "Embarked       418 non-null object\n",
      "dtypes: float64(2), int64(4), object(5)\n",
      "memory usage: 36.0+ KB\n",
      "None\n"
     ]
    }
   ],
   "source": [
    "print(train_X.info())\n",
    "print(test_X.info())"
   ]
  },
  {
   "cell_type": "markdown",
   "metadata": {},
   "source": [
    "### 2.Summarize Data \n",
    "#### a) Descriptive statistics\n",
    "#### b) Data visualizations\n"
   ]
  },
  {
   "cell_type": "code",
   "execution_count": 11,
   "metadata": {
    "collapsed": true
   },
   "outputs": [],
   "source": [
    "def display_data_descriptives(input_dataset,X,feature_columns,y,response_column):\n",
    "    print(\"<{0} {1} {0}>\".format(\"=\"*40,\"info\"))\n",
    "    print(input_dataset.info())\n",
    "    print(\"<{0} {1} {0}>\".format(\"=\"*40,\"feature columns\"))\n",
    "    print(feature_columns)\n",
    "    print(\"<{0} {1} {0}>\".format(\"=\"*40,\"data header\"))\n",
    "    print(X.head().to_string())\n",
    "    print(\"<{0} {1} {0}>\".format(\"=\"*40,\"response\"))\n",
    "    print(response_column)\n",
    "    print(\"<{0} {1} {0}>\".format(\"=\"*40,\"Descriptive Statistics -X\"))\n",
    "    print(X.describe())\n",
    "    print(\"<{0} {1} {0}>\".format(\"=\"*40,\"Descriptive Statistics -y\"))\n",
    "    print(y.describe())\n",
    "    print(\"<{0} {1} {0}>\".format(\"=\"*40,\"value_count -y\"))\n",
    " \n",
    "    print(y.groupby(response_column)[response_column].count())\n",
    "    ##print(\"<{0} {1} {0}>\".format(\"=\"*40,\"Correlation\"))\n",
    "    ##print(input_dataset.corr(method='pearson'))"
   ]
  },
  {
   "cell_type": "code",
   "execution_count": 12,
   "metadata": {},
   "outputs": [
    {
     "name": "stdout",
     "output_type": "stream",
     "text": [
      "<======================================== info ========================================>\n",
      "<class 'pandas.core.frame.DataFrame'>\n",
      "RangeIndex: 891 entries, 0 to 890\n",
      "Data columns (total 12 columns):\n",
      "PassengerId    891 non-null int64\n",
      "Survived       891 non-null int64\n",
      "Pclass         891 non-null int64\n",
      "Name           891 non-null object\n",
      "Sex            891 non-null object\n",
      "Age            714 non-null float64\n",
      "SibSp          891 non-null int64\n",
      "Parch          891 non-null int64\n",
      "Ticket         891 non-null object\n",
      "Fare           891 non-null float64\n",
      "Cabin          204 non-null object\n",
      "Embarked       889 non-null object\n",
      "dtypes: float64(2), int64(5), object(5)\n",
      "memory usage: 83.6+ KB\n",
      "None\n",
      "<======================================== feature columns ========================================>\n",
      "['PassengerId', 'Pclass', 'Name', 'Sex', 'Age', 'SibSp', 'Parch', 'Ticket', 'Fare', 'Cabin', 'Embarked']\n",
      "<======================================== data header ========================================>\n",
      "   PassengerId  Pclass                                               Name     Sex   Age  SibSp  Parch            Ticket     Fare Cabin Embarked\n",
      "0            1       3                            Braund, Mr. Owen Harris    male  22.0      1      0         A/5 21171   7.2500   NaN        S\n",
      "1            2       1  Cumings, Mrs. John Bradley (Florence Briggs Th...  female  38.0      1      0          PC 17599  71.2833   C85        C\n",
      "2            3       3                             Heikkinen, Miss. Laina  female  26.0      0      0  STON/O2. 3101282   7.9250   NaN        S\n",
      "3            4       1       Futrelle, Mrs. Jacques Heath (Lily May Peel)  female  35.0      1      0            113803  53.1000  C123        S\n",
      "4            5       3                           Allen, Mr. William Henry    male  35.0      0      0            373450   8.0500   NaN        S\n",
      "<======================================== response ========================================>\n",
      "['Survived']\n",
      "<======================================== Descriptive Statistics -X ========================================>\n",
      "       PassengerId    Pclass       Age     SibSp     Parch      Fare\n",
      "count     891.0000  891.0000  714.0000  891.0000  891.0000  891.0000\n",
      "mean      446.0000    2.3086   29.6991    0.5230    0.3816   32.2042\n",
      "std       257.3538    0.8361   14.5265    1.1027    0.8061   49.6934\n",
      "min         1.0000    1.0000    0.4200    0.0000    0.0000    0.0000\n",
      "25%       223.5000    2.0000   20.1250    0.0000    0.0000    7.9104\n",
      "50%       446.0000    3.0000   28.0000    0.0000    0.0000   14.4542\n",
      "75%       668.5000    3.0000   38.0000    1.0000    0.0000   31.0000\n",
      "max       891.0000    3.0000   80.0000    8.0000    6.0000  512.3292\n",
      "<======================================== Descriptive Statistics -y ========================================>\n",
      "       Survived\n",
      "count  891.0000\n",
      "mean     0.3838\n",
      "std      0.4866\n",
      "min      0.0000\n",
      "25%      0.0000\n",
      "50%      0.0000\n",
      "75%      1.0000\n",
      "max      1.0000\n",
      "<======================================== value_count -y ========================================>\n",
      "          Survived\n",
      "Survived          \n",
      "0              549\n",
      "1              342\n",
      "<class 'pandas.core.frame.DataFrame'>\n",
      "RangeIndex: 418 entries, 0 to 417\n",
      "Data columns (total 11 columns):\n",
      "PassengerId    418 non-null int64\n",
      "Pclass         418 non-null int64\n",
      "Name           418 non-null object\n",
      "Sex            418 non-null object\n",
      "Age            332 non-null float64\n",
      "SibSp          418 non-null int64\n",
      "Parch          418 non-null int64\n",
      "Ticket         418 non-null object\n",
      "Fare           417 non-null float64\n",
      "Cabin          91 non-null object\n",
      "Embarked       418 non-null object\n",
      "dtypes: float64(2), int64(4), object(5)\n",
      "memory usage: 36.0+ KB\n",
      "None\n"
     ]
    }
   ],
   "source": [
    "pd.set_option('display.width', 120)\n",
    "pd.set_option('precision', 4)\n",
    "display_data_descriptives(train_dataset,train_X,feature_columns,train_y,response_column)\n",
    "#display_data_descriptives(test_dataset,tfeature_columns,tresponse_column,tcontinuous_vars,tcategorical_vars)\n",
    "print(test_dataset.info())"
   ]
  },
  {
   "cell_type": "code",
   "execution_count": 13,
   "metadata": {
    "collapsed": true
   },
   "outputs": [],
   "source": [
    "categorical = ['Sex', 'Embarked','SibSp','Parch','Pclass']\n",
    "def bar_plots(train_dataset,categorical):\n",
    "    fig = plt.figure(figsize=(16,12))\n",
    "    size =len(categorical)\n",
    "     \n",
    "    for i in range(size):\n",
    "        #counts=train_dataset.groupby(categorical[i])['Survived'].value_counts()\n",
    "        #print(\"Dataset group by {0} \".format(categorical[i]))\n",
    "        #print(counts)\n",
    "        ax = fig.add_subplot(3, 2, i+1)\n",
    "        sns.barplot(x=categorical[i], y=\"Survived\", data=train_dataset,ax=ax,errwidth =0)\n",
    "        sns.despine()\n",
    "    plt.tight_layout()"
   ]
  },
  {
   "cell_type": "code",
   "execution_count": 14,
   "metadata": {},
   "outputs": [
    {
     "data": {
      "image/png": "[encoded data removed]",
      "text/plain": [
       "<matplotlib.figure.Figure at 0x2caea873f28>"
      ]
     },
     "metadata": {},
     "output_type": "display_data"
    }
   ],
   "source": [
    "sns.set(style=\"white\", color_codes=True)\n",
    "\n",
    "flatui = [\"#9b59b6\", \"#3498db\", \"#95a5a6\", \"#e74c3c\", \"#34495e\", \"#2ecc71\"]\n",
    "pkmn_type_colors = ['#78C850',  # Grass\n",
    "                    '#F08030',  # Fire\n",
    "                    '#6890F0',  # Water\n",
    "                    '#A8B820',  # Bug\n",
    "                    '#A8A878',  # Normal\n",
    "                    '#A040A0',  # Poison\n",
    "                    '#F8D030',  # Electric\n",
    "                    '#E0C068',  # Ground\n",
    "                    '#EE99AC',  # Fairy\n",
    "                    '#C03028',  # Fighting\n",
    "                    '#F85888',  # Psychic\n",
    "                    '#B8A038',  # Rock\n",
    "                    '#705898',  # Ghost\n",
    "                    '#98D8D8',  # Ice\n",
    "                    '#7038F8',  # Dragon\n",
    "                   ]\n",
    "\n",
    "bar_plots(train_dataset,categorical)"
   ]
  },
  {
   "cell_type": "markdown",
   "metadata": {},
   "source": [
    "### Inferences  from bar plots  \n",
    "##### Survival rate of female is more than males in all passenger categories\n",
    "##### Survival rate for passenger class 3 is least\n",
    "##### Survival rate of  passengers boarded at Embarked  at  C is greater than others\n",
    "##### Passengers havings siblings survived better  than  zero siblings\n",
    "##### Passengers travelling alone had less chances of survival than families \n",
    "\n"
   ]
  },
  {
   "cell_type": "code",
   "execution_count": 12,
   "metadata": {
    "collapsed": true
   },
   "outputs": [],
   "source": [
    "#g  = sns.factorplot(x=\"Pclass\", hue=\"Sex\", col=\"Survived\",data=train_dataset, kind=\"count\",size=5, aspect=.7,palette=flatui);\n",
    "#g1 = sns.factorplot(x=\"Embarked\", hue=\"Sex\", col=\"Survived\",data=train_dataset, kind=\"count\",size=5, aspect=.7,palette=flatui);   \n",
    "#g2 = sns.factorplot(x=\"SibSp\", col=\"Survived\",data=train_dataset, kind=\"count\",size=5, aspect=.7,palette=sns.color_palette(\"husl\",2)); \n",
    "#g3 = sns.factorplot(x=\"Parch\", col=\"Survived\",data=train_dataset, kind=\"count\",size=5, aspect=.7,palette=sns.color_palette(\"husl\",2)); "
   ]
  },
  {
   "cell_type": "code",
   "execution_count": 15,
   "metadata": {},
   "outputs": [
    {
     "data": {
      "image/png": "[encoded data removed]",
      "text/plain": [
       "<matplotlib.figure.Figure at 0x2caeb240f98>"
      ]
     },
     "metadata": {},
     "output_type": "display_data"
    }
   ],
   "source": [
    "g = sns.factorplot(x='Sex',y='Survived',hue='Pclass',size=4, aspect=1,palette=flatui ,data =train_dataset)"
   ]
  },
  {
   "cell_type": "markdown",
   "metadata": {},
   "source": [
    "##### Women  from 1st  and 2nd class have 100 % survival\n",
    "##### Men from 2nd and 3rd Pclass have only around 10% survival chance."
   ]
  },
  {
   "cell_type": "code",
   "execution_count": 16,
   "metadata": {},
   "outputs": [
    {
     "data": {
      "image/png": "[encoded data removed]",
      "text/plain": [
       "<matplotlib.figure.Figure at 0x2caeb23cf28>"
      ]
     },
     "metadata": {},
     "output_type": "display_data"
    }
   ],
   "source": [
    "g1 =sns.factorplot(x='Pclass', y='Survived', hue='Sex', col='Embarked', data=train_dataset)"
   ]
  },
  {
   "cell_type": "markdown",
   "metadata": {},
   "source": [
    "##### Males from Pclass 1 only have slightly higher survival chance than Pclass 2 and 3"
   ]
  },
  {
   "cell_type": "markdown",
   "metadata": {},
   "source": [
    "---  \n",
    "### 3. Prepare Data\n",
    "#### a) Data Cleaning\n",
    "#### b) Feature Selection\n",
    "#### c) Data Transforms"
   ]
  },
  {
   "cell_type": "code",
   "execution_count": 17,
   "metadata": {
    "collapsed": true
   },
   "outputs": [],
   "source": [
    "from sklearn.preprocessing import Imputer\n"
   ]
  },
  {
   "cell_type": "code",
   "execution_count": 18,
   "metadata": {},
   "outputs": [
    {
     "name": "stdout",
     "output_type": "stream",
     "text": [
      "<======================================== Columns having null values ========================================>\n",
      "Age         177\n",
      "Cabin       687\n",
      "Embarked      2\n",
      "dtype: int64\n",
      "<======================================== Columns having null values ========================================>\n",
      "Age       86\n",
      "Fare       1\n",
      "Cabin    327\n",
      "dtype: int64\n"
     ]
    }
   ],
   "source": [
    "full_dataset = [train_dataset,test_dataset]\n",
    " \n",
    "## identity the null data sets \n",
    "for dataset in full_dataset:\n",
    "    print(\"<{0} {1} {0}>\".format(\"=\"*40,\"Columns having null values\"))\n",
    "    check_null = dataset.isnull().sum()[dataset.isnull().sum()>0] \n",
    "    print(check_null)\n",
    "     "
   ]
  },
  {
   "cell_type": "code",
   "execution_count": 19,
   "metadata": {},
   "outputs": [
    {
     "data": {
      "image/png": "[encoded data removed]",
      "text/plain": [
       "<matplotlib.figure.Figure at 0x2caeaea4048>"
      ]
     },
     "metadata": {},
     "output_type": "display_data"
    }
   ],
   "source": [
    "first_char = lambda x : x[0]\n",
    "transform_cabin = lambda x : 1 if x!='X' else 0\n",
    "for dataset in full_dataset:\n",
    "    dataset['Cabin'].fillna('X' ,inplace=True)\n",
    "    dataset['Cabin']= dataset['Cabin'].map(first_char)\n",
    "    dataset['Cabin']= dataset['Cabin'].map(transform_cabin)\n",
    "\n",
    "g = sns.factorplot(\"Survived\", col=\"Cabin\" ,col_wrap=4 ,data=full_dataset[0],kind=\"count\", size=3.5, aspect=.8)\n"
   ]
  },
  {
   "cell_type": "code",
   "execution_count": 20,
   "metadata": {},
   "outputs": [
    {
     "name": "stdout",
     "output_type": "stream",
     "text": [
      "Title     Survived\n",
      "Capt      0             1\n",
      "Col       0             1\n",
      "          1             1\n",
      "Countess  1             1\n",
      "Don       0             1\n",
      "Dr        0             4\n",
      "          1             3\n",
      "Jonkheer  0             1\n",
      "Lady      1             1\n",
      "Major     0             1\n",
      "          1             1\n",
      "Master    1            23\n",
      "          0            17\n",
      "Miss      1           127\n",
      "          0            55\n",
      "Mlle      1             2\n",
      "Mme       1             1\n",
      "Mr        0           436\n",
      "          1            81\n",
      "Mrs       1            99\n",
      "          0            26\n",
      "Ms        1             1\n",
      "Rev       0             6\n",
      "Sir       1             1\n",
      "Name: Survived, dtype: int64\n",
      "Title\n",
      "Col         2\n",
      "Dona        1\n",
      "Dr          1\n",
      "Master     21\n",
      "Miss       78\n",
      "Mr        240\n",
      "Mrs        72\n",
      "Ms          1\n",
      "Rev         2\n",
      "Name: Name, dtype: int64\n"
     ]
    },
    {
     "data": {
      "text/html": [
       "<div>\n",
       "<style>\n",
       "    .dataframe thead tr:only-child th {\n",
       "        text-align: right;\n",
       "    }\n",
       "\n",
       "    .dataframe thead th {\n",
       "        text-align: left;\n",
       "    }\n",
       "\n",
       "    .dataframe tbody tr th {\n",
       "        vertical-align: top;\n",
       "    }\n",
       "</style>\n",
       "<table border=\"1\" class=\"dataframe\">\n",
       "  <thead>\n",
       "    <tr style=\"text-align: right;\">\n",
       "      <th></th>\n",
       "      <th>Title</th>\n",
       "      <th>Survived</th>\n",
       "    </tr>\n",
       "  </thead>\n",
       "  <tbody>\n",
       "    <tr>\n",
       "      <th>0</th>\n",
       "      <td>Master</td>\n",
       "      <td>0.5750</td>\n",
       "    </tr>\n",
       "    <tr>\n",
       "      <th>1</th>\n",
       "      <td>Miss</td>\n",
       "      <td>0.7027</td>\n",
       "    </tr>\n",
       "    <tr>\n",
       "      <th>2</th>\n",
       "      <td>Mr</td>\n",
       "      <td>0.1567</td>\n",
       "    </tr>\n",
       "    <tr>\n",
       "      <th>3</th>\n",
       "      <td>Mrs</td>\n",
       "      <td>0.7937</td>\n",
       "    </tr>\n",
       "    <tr>\n",
       "      <th>4</th>\n",
       "      <td>Other</td>\n",
       "      <td>0.3478</td>\n",
       "    </tr>\n",
       "  </tbody>\n",
       "</table>\n",
       "</div>"
      ],
      "text/plain": [
       "    Title  Survived\n",
       "0  Master    0.5750\n",
       "1    Miss    0.7027\n",
       "2      Mr    0.1567\n",
       "3     Mrs    0.7937\n",
       "4   Other    0.3478"
      ]
     },
     "execution_count": 20,
     "metadata": {},
     "output_type": "execute_result"
    }
   ],
   "source": [
    "for dataset in full_dataset:\n",
    "    dataset['Title'] = dataset['Name'].str.extract(' ([A-Za-z]+)\\.',expand=False)\n",
    "    \n",
    "print(train_dataset.groupby('Title')['Survived'].value_counts())\n",
    "print(test_dataset.groupby('Title')['Name'].count()) \n",
    "for dataset in full_dataset:\n",
    "    dataset['Title'] = dataset['Title'].replace(['Lady', 'Countess','Capt', 'Col', 'Don', 'Dr', 'Major', 'Rev', 'Sir', 'Jonkheer', 'Dona'], 'Other')\n",
    "    dataset['Title'] = dataset['Title'].replace('Mlle', 'Miss')\n",
    "    dataset['Title'] = dataset['Title'].replace('Ms', 'Miss')\n",
    "    dataset['Title'] = dataset['Title'].replace('Mme', 'Mrs')\n",
    "    \n",
    "full_dataset[0][['Title', 'Survived']].groupby(['Title'], as_index=False).mean()"
   ]
  },
  {
   "cell_type": "code",
   "execution_count": 21,
   "metadata": {},
   "outputs": [
    {
     "data": {
      "image/png": "[encoded data removed]",
      "text/plain": [
       "<matplotlib.figure.Figure at 0x2caea8bc6d8>"
      ]
     },
     "metadata": {},
     "output_type": "display_data"
    },
    {
     "data": {
      "image/png": "[encoded data removed]",
      "text/plain": [
       "<matplotlib.figure.Figure at 0x2caea9899b0>"
      ]
     },
     "metadata": {},
     "output_type": "display_data"
    }
   ],
   "source": [
    "#ax  =sns.violinplot(x=\"Embarked\", y=\"Age\", hue=\"Survived\", data=train_dataset, split=True)\n",
    "fig = plt.figure(figsize=(8,4)) \n",
    "ax = sns.boxplot(y=\"Age\",x='Survived', data=train_dataset, palette=\"Set2\")\n",
    "ax.set_xticklabels(ax.get_xticklabels())\n",
    "plt.gca().spines['top'].set_visible(False)\n",
    "plt.gca().spines['right'].set_visible(False)\n",
    "plt.tight_layout()\n",
    "plt.show()\n",
    "\n",
    "fig = plt.figure(figsize=(6,6)) \n",
    "ax = fig.add_subplot(1, 1, 1)\n",
    "sns.barplot(x='Survived' , y='Age' ,hue ='Title',data=train_dataset,ax=ax,errwidth =0)\n",
    "ax.set_xticklabels(ax.get_xticklabels(),ha='right')\n",
    "plt.gca().spines['top'].set_visible(False)\n",
    "plt.gca().spines['right'].set_visible(False)\n",
    "plt.tight_layout()\n",
    "plt.show()\n",
    "\n"
   ]
  },
  {
   "cell_type": "code",
   "execution_count": 22,
   "metadata": {
    "collapsed": true
   },
   "outputs": [],
   "source": [
    "train_mean_age =full_dataset[0][['Title', 'Age']].groupby(['Title'], as_index=False).mean().set_index('Title') \n",
    " "
   ]
  },
  {
   "cell_type": "code",
   "execution_count": 23,
   "metadata": {},
   "outputs": [
    {
     "data": {
      "text/html": [
       "<div>\n",
       "<style>\n",
       "    .dataframe thead tr:only-child th {\n",
       "        text-align: right;\n",
       "    }\n",
       "\n",
       "    .dataframe thead th {\n",
       "        text-align: left;\n",
       "    }\n",
       "\n",
       "    .dataframe tbody tr th {\n",
       "        vertical-align: top;\n",
       "    }\n",
       "</style>\n",
       "<table border=\"1\" class=\"dataframe\">\n",
       "  <thead>\n",
       "    <tr style=\"text-align: right;\">\n",
       "      <th></th>\n",
       "      <th>Age</th>\n",
       "    </tr>\n",
       "    <tr>\n",
       "      <th>Title</th>\n",
       "      <th></th>\n",
       "    </tr>\n",
       "  </thead>\n",
       "  <tbody>\n",
       "    <tr>\n",
       "      <th>Master</th>\n",
       "      <td>7.4065</td>\n",
       "    </tr>\n",
       "    <tr>\n",
       "      <th>Miss</th>\n",
       "      <td>21.7748</td>\n",
       "    </tr>\n",
       "    <tr>\n",
       "      <th>Mr</th>\n",
       "      <td>32.0000</td>\n",
       "    </tr>\n",
       "    <tr>\n",
       "      <th>Mrs</th>\n",
       "      <td>38.9032</td>\n",
       "    </tr>\n",
       "    <tr>\n",
       "      <th>Other</th>\n",
       "      <td>43.8333</td>\n",
       "    </tr>\n",
       "  </tbody>\n",
       "</table>\n",
       "</div>"
      ],
      "text/plain": [
       "            Age\n",
       "Title          \n",
       "Master   7.4065\n",
       "Miss    21.7748\n",
       "Mr      32.0000\n",
       "Mrs     38.9032\n",
       "Other   43.8333"
      ]
     },
     "execution_count": 23,
     "metadata": {},
     "output_type": "execute_result"
    }
   ],
   "source": [
    " \n",
    "test_mean_age =full_dataset[1][['Title', 'Age']].groupby(['Title'], as_index=False).mean().set_index('Title') \n",
    "test_mean_age"
   ]
  },
  {
   "cell_type": "code",
   "execution_count": 24,
   "metadata": {},
   "outputs": [
    {
     "data": {
      "text/html": [
       "<div>\n",
       "<style>\n",
       "    .dataframe thead tr:only-child th {\n",
       "        text-align: right;\n",
       "    }\n",
       "\n",
       "    .dataframe thead th {\n",
       "        text-align: left;\n",
       "    }\n",
       "\n",
       "    .dataframe tbody tr th {\n",
       "        vertical-align: top;\n",
       "    }\n",
       "</style>\n",
       "<table border=\"1\" class=\"dataframe\">\n",
       "  <thead>\n",
       "    <tr style=\"text-align: right;\">\n",
       "      <th></th>\n",
       "      <th>Title</th>\n",
       "      <th>Age</th>\n",
       "    </tr>\n",
       "  </thead>\n",
       "  <tbody>\n",
       "    <tr>\n",
       "      <th>0</th>\n",
       "      <td>Master</td>\n",
       "      <td>0</td>\n",
       "    </tr>\n",
       "    <tr>\n",
       "      <th>1</th>\n",
       "      <td>Miss</td>\n",
       "      <td>0</td>\n",
       "    </tr>\n",
       "    <tr>\n",
       "      <th>2</th>\n",
       "      <td>Mr</td>\n",
       "      <td>0</td>\n",
       "    </tr>\n",
       "    <tr>\n",
       "      <th>3</th>\n",
       "      <td>Mrs</td>\n",
       "      <td>0</td>\n",
       "    </tr>\n",
       "    <tr>\n",
       "      <th>4</th>\n",
       "      <td>Other</td>\n",
       "      <td>0</td>\n",
       "    </tr>\n",
       "  </tbody>\n",
       "</table>\n",
       "</div>"
      ],
      "text/plain": [
       "    Title  Age\n",
       "0  Master    0\n",
       "1    Miss    0\n",
       "2      Mr    0\n",
       "3     Mrs    0\n",
       "4   Other    0"
      ]
     },
     "execution_count": 24,
     "metadata": {},
     "output_type": "execute_result"
    }
   ],
   "source": [
    "full_dataset[0][full_dataset[0][\"Age\"].isnull()].groupby(['Title'], as_index=False)['Age'].count()"
   ]
  },
  {
   "cell_type": "code",
   "execution_count": 25,
   "metadata": {},
   "outputs": [
    {
     "data": {
      "text/html": [
       "<div>\n",
       "<style>\n",
       "    .dataframe thead tr:only-child th {\n",
       "        text-align: right;\n",
       "    }\n",
       "\n",
       "    .dataframe thead th {\n",
       "        text-align: left;\n",
       "    }\n",
       "\n",
       "    .dataframe tbody tr th {\n",
       "        vertical-align: top;\n",
       "    }\n",
       "</style>\n",
       "<table border=\"1\" class=\"dataframe\">\n",
       "  <thead>\n",
       "    <tr style=\"text-align: right;\">\n",
       "      <th></th>\n",
       "      <th>Title</th>\n",
       "      <th>Age</th>\n",
       "    </tr>\n",
       "  </thead>\n",
       "  <tbody>\n",
       "    <tr>\n",
       "      <th>0</th>\n",
       "      <td>Master</td>\n",
       "      <td>0</td>\n",
       "    </tr>\n",
       "    <tr>\n",
       "      <th>1</th>\n",
       "      <td>Miss</td>\n",
       "      <td>0</td>\n",
       "    </tr>\n",
       "    <tr>\n",
       "      <th>2</th>\n",
       "      <td>Mr</td>\n",
       "      <td>0</td>\n",
       "    </tr>\n",
       "    <tr>\n",
       "      <th>3</th>\n",
       "      <td>Mrs</td>\n",
       "      <td>0</td>\n",
       "    </tr>\n",
       "  </tbody>\n",
       "</table>\n",
       "</div>"
      ],
      "text/plain": [
       "    Title  Age\n",
       "0  Master    0\n",
       "1    Miss    0\n",
       "2      Mr    0\n",
       "3     Mrs    0"
      ]
     },
     "execution_count": 25,
     "metadata": {},
     "output_type": "execute_result"
    }
   ],
   "source": [
    "full_dataset[1][full_dataset[1][\"Age\"].isnull()].groupby(['Title'], as_index=False)['Age'].count()"
   ]
  },
  {
   "cell_type": "markdown",
   "metadata": {},
   "source": [
    "####  Transform  sex  label in numerical categorical value, assign mean age  to null \n",
    "#####  Fill in missing Embarked values "
   ]
  },
  {
   "cell_type": "code",
   "execution_count": 26,
   "metadata": {},
   "outputs": [
    {
     "name": "stderr",
     "output_type": "stream",
     "text": [
      "F:\\Anaconda2\\envs\\machinelearning\\lib\\site-packages\\pandas\\core\\indexing.py:179: SettingWithCopyWarning: \n",
      "A value is trying to be set on a copy of a slice from a DataFrame\n",
      "\n",
      "See the caveats in the documentation: http://pandas.pydata.org/pandas-docs/stable/indexing.html#indexing-view-versus-copy\n",
      "  self._setitem_with_indexer(indexer, value)\n"
     ]
    }
   ],
   "source": [
    "age_null_index =list(full_dataset[0][\"Age\"][full_dataset[0][\"Age\"].isnull()].index)\n",
    " \n",
    "for each_index in age_null_index:\n",
    "    title =full_dataset[0]['Title'].iloc[each_index]\n",
    "    if title =='Other':\n",
    "        full_dataset[0]['Age'].iloc[each_index] = -1\n",
    "    else:\n",
    "        age= train_mean_age.loc[title]['Age']\n",
    "        full_dataset[0]['Age'].iloc[each_index] = age\n",
    "     "
   ]
  },
  {
   "cell_type": "code",
   "execution_count": 27,
   "metadata": {},
   "outputs": [
    {
     "data": {
      "text/html": [
       "<div>\n",
       "<style>\n",
       "    .dataframe thead tr:only-child th {\n",
       "        text-align: right;\n",
       "    }\n",
       "\n",
       "    .dataframe thead th {\n",
       "        text-align: left;\n",
       "    }\n",
       "\n",
       "    .dataframe tbody tr th {\n",
       "        vertical-align: top;\n",
       "    }\n",
       "</style>\n",
       "<table border=\"1\" class=\"dataframe\">\n",
       "  <thead>\n",
       "    <tr style=\"text-align: right;\">\n",
       "      <th></th>\n",
       "      <th>PassengerId</th>\n",
       "      <th>Survived</th>\n",
       "      <th>Pclass</th>\n",
       "      <th>Name</th>\n",
       "      <th>Sex</th>\n",
       "      <th>Age</th>\n",
       "      <th>SibSp</th>\n",
       "      <th>Parch</th>\n",
       "      <th>Ticket</th>\n",
       "      <th>Fare</th>\n",
       "      <th>Cabin</th>\n",
       "      <th>Embarked</th>\n",
       "      <th>Title</th>\n",
       "    </tr>\n",
       "  </thead>\n",
       "  <tbody>\n",
       "  </tbody>\n",
       "</table>\n",
       "</div>"
      ],
      "text/plain": [
       "Empty DataFrame\n",
       "Columns: [PassengerId, Survived, Pclass, Name, Sex, Age, SibSp, Parch, Ticket, Fare, Cabin, Embarked, Title]\n",
       "Index: []"
      ]
     },
     "execution_count": 27,
     "metadata": {},
     "output_type": "execute_result"
    }
   ],
   "source": [
    "full_dataset[0][full_dataset[0][\"Age\"].isnull()]"
   ]
  },
  {
   "cell_type": "code",
   "execution_count": 28,
   "metadata": {},
   "outputs": [
    {
     "name": "stderr",
     "output_type": "stream",
     "text": [
      "F:\\Anaconda2\\envs\\machinelearning\\lib\\site-packages\\pandas\\core\\indexing.py:179: SettingWithCopyWarning: \n",
      "A value is trying to be set on a copy of a slice from a DataFrame\n",
      "\n",
      "See the caveats in the documentation: http://pandas.pydata.org/pandas-docs/stable/indexing.html#indexing-view-versus-copy\n",
      "  self._setitem_with_indexer(indexer, value)\n"
     ]
    }
   ],
   "source": [
    "tage_null_index =list(full_dataset[1][\"Age\"][full_dataset[1][\"Age\"].isnull()].index)\n",
    " \n",
    "for each_index in tage_null_index:\n",
    "    title =full_dataset[1]['Title'].iloc[each_index]\n",
    "    if title =='Other':\n",
    "        full_dataset[1]['Age'].iloc[each_index] = -1\n",
    "    else:\n",
    "        age= test_mean_age.loc[title]['Age']\n",
    "        full_dataset[1]['Age'].iloc[each_index] = age"
   ]
  },
  {
   "cell_type": "code",
   "execution_count": 29,
   "metadata": {},
   "outputs": [
    {
     "data": {
      "text/html": [
       "<div>\n",
       "<style>\n",
       "    .dataframe thead tr:only-child th {\n",
       "        text-align: right;\n",
       "    }\n",
       "\n",
       "    .dataframe thead th {\n",
       "        text-align: left;\n",
       "    }\n",
       "\n",
       "    .dataframe tbody tr th {\n",
       "        vertical-align: top;\n",
       "    }\n",
       "</style>\n",
       "<table border=\"1\" class=\"dataframe\">\n",
       "  <thead>\n",
       "    <tr style=\"text-align: right;\">\n",
       "      <th></th>\n",
       "      <th>PassengerId</th>\n",
       "      <th>Pclass</th>\n",
       "      <th>Name</th>\n",
       "      <th>Sex</th>\n",
       "      <th>Age</th>\n",
       "      <th>SibSp</th>\n",
       "      <th>Parch</th>\n",
       "      <th>Ticket</th>\n",
       "      <th>Fare</th>\n",
       "      <th>Cabin</th>\n",
       "      <th>Embarked</th>\n",
       "      <th>Title</th>\n",
       "    </tr>\n",
       "  </thead>\n",
       "  <tbody>\n",
       "  </tbody>\n",
       "</table>\n",
       "</div>"
      ],
      "text/plain": [
       "Empty DataFrame\n",
       "Columns: [PassengerId, Pclass, Name, Sex, Age, SibSp, Parch, Ticket, Fare, Cabin, Embarked, Title]\n",
       "Index: []"
      ]
     },
     "execution_count": 29,
     "metadata": {},
     "output_type": "execute_result"
    }
   ],
   "source": [
    "full_dataset[1][full_dataset[1][\"Age\"].isnull()]"
   ]
  },
  {
   "cell_type": "code",
   "execution_count": 30,
   "metadata": {},
   "outputs": [
    {
     "name": "stdout",
     "output_type": "stream",
     "text": [
      "<======================================== Columns having null values ========================================>\n",
      "Series([], dtype: int64)\n",
      "<======================================== Columns having null values ========================================>\n",
      "Fare    1\n",
      "dtype: int64\n"
     ]
    }
   ],
   "source": [
    "sex_mapping= {'male':0,'female':1}\n",
    "for dataset in full_dataset:\n",
    "    dataset['Sex'] =dataset['Sex'].map(sex_mapping)\n",
    "    dataset['Embarked'] = dataset['Embarked'].fillna('S')\n",
    "    \n",
    "    '''\n",
    "    median_age = math.ceil(dataset[\"Age\"].median())\n",
    "    #dataset['Age'].fillna(median_age, inplace=True)\n",
    "    \n",
    "    age_null_index =list(dataset[\"Age\"][dataset[\"Age\"].isnull()].index)\n",
    "    print(len(age_null_index))\n",
    "    for each_index in age_null_index:\n",
    "        median_age = math.ceil(dataset[\"Age\"].median())\n",
    "        pred_age = dataset[\"Age\"][((dataset['SibSp'] == dataset.iloc[each_index][\"SibSp\"]) &\n",
    "                                   (dataset['Parch'] == dataset.iloc[each_index][\"Parch\"]) &\n",
    "                                   (dataset['Pclass'] == dataset.iloc[each_index][\"Pclass\"]))].median()\n",
    "        if not np.isnan(pred_age) :\n",
    "            dataset['Age'].iloc[each_index] = pred_age\n",
    "        else :\n",
    "            dataset['Age'].iloc[each_index] = pred_age\n",
    "    '''\n",
    "    \n",
    "for dataset in full_dataset:\n",
    "    print(\"<{0} {1} {0}>\".format(\"=\"*40,\"Columns having null values\"))\n",
    "    check_null = dataset.isnull().sum()[dataset.isnull().sum()>0] \n",
    "    print(check_null)\n",
    "\n",
    "#test_dataset[test_dataset[\"Age\"].isnull()]"
   ]
  },
  {
   "cell_type": "markdown",
   "metadata": {},
   "source": [
    "####  Transform Fare "
   ]
  },
  {
   "cell_type": "code",
   "execution_count": 64,
   "metadata": {},
   "outputs": [
    {
     "name": "stdout",
     "output_type": "stream",
     "text": [
      "     PassengerId  Pclass                     Name  Sex   Age  SibSp  Parch     Ticket  Fare  Cabin Embarked Title\n",
      "25           917       3  Robins, Mr. Alexander A    0  50.0      1      0  A/5. 3337  14.5      0        S    Mr\n",
      "152         1044       3       Storey, Mr. Thomas    0  60.5      0      0       3701   NaN      0        S    Mr\n",
      "     PassengerId  Pclass                     Name  Sex   Age  SibSp  Parch     Ticket  Fare  Cabin Embarked Title\n",
      "25           917       3  Robins, Mr. Alexander A    0  50.0      1      0  A/5. 3337  14.5      0        S    Mr\n",
      "152         1044       3       Storey, Mr. Thomas    0  60.5      0      0       3701  14.5      0        S    Mr\n"
     ]
    },
    {
     "name": "stderr",
     "output_type": "stream",
     "text": [
      "F:\\Anaconda2\\envs\\machinelearning\\lib\\site-packages\\pandas\\core\\indexing.py:179: SettingWithCopyWarning: \n",
      "A value is trying to be set on a copy of a slice from a DataFrame\n",
      "\n",
      "See the caveats in the documentation: http://pandas.pydata.org/pandas-docs/stable/indexing.html#indexing-view-versus-copy\n",
      "  self._setitem_with_indexer(indexer, value)\n"
     ]
    }
   ],
   "source": [
    "#test_dataset['Age'].fillna(median_age, inplace=True)\n",
    "#full_dataset = [train_dataset,test_dataset]\n",
    "full_dataset[1][full_dataset[1][\"Fare\"].isnull()]\n",
    "\n",
    "print(full_dataset[1][  (full_dataset[1]['Pclass'] ==3  ) & \n",
    "                  (full_dataset[1]['Sex'] ==0  ) &\n",
    "                  (full_dataset[1]['Age'] >= 50  )\n",
    "               ])\n",
    "# assign same fare\n",
    "full_dataset[1]['Fare'].iloc[152]=14.5\n",
    "print(full_dataset[1][  (full_dataset[1]['Pclass'] ==3  ) & \n",
    "                  (full_dataset[1]['Sex'] ==0  ) &\n",
    "                  (full_dataset[1]['Age'] >= 50  )\n",
    "               ])"
   ]
  },
  {
   "cell_type": "code",
   "execution_count": 66,
   "metadata": {
    "collapsed": true
   },
   "outputs": [],
   "source": [
    "from sklearn import feature_extraction\n",
    "def one_hot_dataframe(data,columns,replace=False):\n",
    "    fe_vec= feature_extraction.DictVectorizer()\n",
    "    make_dict = lambda row :dict((column,row[column]) for column in  columns)\n",
    "    vector_data=pd.DataFrame(fe_vec.fit_transform( data[columns].apply(make_dict, axis=1)).toarray())\n",
    "    vector_data.columns = fe_vec.get_feature_names()\n",
    "    vector_data.index= data.index\n",
    "    if replace:\n",
    "        data = data.drop(columns, axis=1)\n",
    "        data = data.join(vector_data)\n",
    "    return data,vector_data\n",
    "\n",
    "\n",
    " "
   ]
  },
  {
   "cell_type": "code",
   "execution_count": 67,
   "metadata": {
    "collapsed": true
   },
   "outputs": [],
   "source": [
    "train_dataset,train_dataset_n = one_hot_dataframe(train_dataset, ['Pclass','Embarked', 'Sex','Title','Cabin'], replace=True)\n",
    "test_dataset,test_dataset_n = one_hot_dataframe(test_dataset, ['Pclass','Embarked', 'Sex','Title','Cabin'], replace=True)"
   ]
  },
  {
   "cell_type": "code",
   "execution_count": 72,
   "metadata": {},
   "outputs": [
    {
     "data": {
      "text/plain": [
       "0      (16.336, 32.252]\n",
       "1      (32.252, 48.168]\n",
       "2      (16.336, 32.252]\n",
       "3      (32.252, 48.168]\n",
       "4      (32.252, 48.168]\n",
       "5      (32.252, 48.168]\n",
       "6      (48.168, 64.084]\n",
       "7        (0.34, 16.336]\n",
       "8      (16.336, 32.252]\n",
       "9        (0.34, 16.336]\n",
       "10       (0.34, 16.336]\n",
       "11     (48.168, 64.084]\n",
       "12     (16.336, 32.252]\n",
       "13     (32.252, 48.168]\n",
       "14       (0.34, 16.336]\n",
       "15     (48.168, 64.084]\n",
       "16       (0.34, 16.336]\n",
       "17     (32.252, 48.168]\n",
       "18     (16.336, 32.252]\n",
       "19     (32.252, 48.168]\n",
       "20     (32.252, 48.168]\n",
       "21     (32.252, 48.168]\n",
       "22       (0.34, 16.336]\n",
       "23     (16.336, 32.252]\n",
       "24       (0.34, 16.336]\n",
       "25     (32.252, 48.168]\n",
       "26     (32.252, 48.168]\n",
       "27     (16.336, 32.252]\n",
       "28     (16.336, 32.252]\n",
       "29     (32.252, 48.168]\n",
       "             ...       \n",
       "861    (16.336, 32.252]\n",
       "862    (32.252, 48.168]\n",
       "863    (16.336, 32.252]\n",
       "864    (16.336, 32.252]\n",
       "865    (32.252, 48.168]\n",
       "866    (16.336, 32.252]\n",
       "867    (16.336, 32.252]\n",
       "868    (32.252, 48.168]\n",
       "869      (0.34, 16.336]\n",
       "870    (16.336, 32.252]\n",
       "871    (32.252, 48.168]\n",
       "872    (32.252, 48.168]\n",
       "873    (32.252, 48.168]\n",
       "874    (16.336, 32.252]\n",
       "875      (0.34, 16.336]\n",
       "876    (16.336, 32.252]\n",
       "877    (16.336, 32.252]\n",
       "878    (32.252, 48.168]\n",
       "879    (48.168, 64.084]\n",
       "880    (16.336, 32.252]\n",
       "881    (32.252, 48.168]\n",
       "882    (16.336, 32.252]\n",
       "883    (16.336, 32.252]\n",
       "884    (16.336, 32.252]\n",
       "885    (32.252, 48.168]\n",
       "886    (16.336, 32.252]\n",
       "887    (16.336, 32.252]\n",
       "888    (16.336, 32.252]\n",
       "889    (16.336, 32.252]\n",
       "890    (16.336, 32.252]\n",
       "Name: AgeBand, Length: 891, dtype: category\n",
       "Categories (5, interval[float64]): [(0.34, 16.336] < (16.336, 32.252] < (32.252, 48.168] < (48.168, 64.084] < (64.084, 80.0]]"
      ]
     },
     "execution_count": 72,
     "metadata": {},
     "output_type": "execute_result"
    }
   ],
   "source": [
    "full_dataset = [train_dataset,test_dataset]\n",
    "train_dataset['AgeBand'] = pd.cut(train_dataset[train_dataset['Age']>-1]['Age']  ,5)\n",
    "train_dataset['AgeBand'] "
   ]
  },
  {
   "cell_type": "code",
   "execution_count": 74,
   "metadata": {
    "collapsed": true
   },
   "outputs": [],
   "source": [
    "for dataset in full_dataset:\n",
    "    dataset.loc[ dataset['Age'] < 0, 'Age'] = -1\n",
    "    dataset.loc[ (dataset['Age'] > 0 ) & (dataset['Age'] <= 16.336), 'Age'] = 0\n",
    "    dataset.loc[(dataset['Age'] > 16.336) & (dataset['Age'] <= 32.252), 'Age'] = 1\n",
    "    dataset.loc[(dataset['Age'] > 32.252) & (dataset['Age'] <= 48.168), 'Age'] = 2\n",
    "    dataset.loc[(dataset['Age'] > 48.168) & (dataset['Age'] <= 64.084), 'Age'] = 3\n",
    "    dataset.loc[ dataset['Age'] > 64.084, 'Age'] = 4"
   ]
  },
  {
   "cell_type": "code",
   "execution_count": 75,
   "metadata": {},
   "outputs": [
    {
     "name": "stdout",
     "output_type": "stream",
     "text": [
      "          FareBand  Survived\n",
      "0   (-0.001, 7.91]    0.1973\n",
      "1   (7.91, 14.454]    0.3036\n",
      "2   (14.454, 31.0]    0.4550\n",
      "3  (31.0, 512.329]    0.5811\n"
     ]
    }
   ],
   "source": [
    "train_dataset['FareBand'] = pd.qcut(train_dataset['Fare'], 4)\n",
    "print (train_dataset[['FareBand', 'Survived']].groupby(['FareBand'], as_index=False).mean())\n",
    "\n",
    "for dataset in full_dataset:\n",
    "    dataset.loc[ dataset['Fare'] <= 7.91, 'Fare'] = 0\n",
    "    dataset.loc[(dataset['Fare'] > 7.91) & (dataset['Fare'] <= 14.454), 'Fare'] = 1\n",
    "    dataset.loc[(dataset['Fare'] > 14.454) & (dataset['Fare'] <= 31), 'Fare']   = 2\n",
    "    dataset.loc[ dataset['Fare'] > 31, 'Fare'] = 3\n",
    "    dataset['Fare'] = dataset['Fare'].astype(int)"
   ]
  },
  {
   "cell_type": "code",
   "execution_count": 76,
   "metadata": {
    "collapsed": true
   },
   "outputs": [],
   "source": [
    "for dataset in full_dataset:\n",
    "    dataset['FamilySize'] = dataset['SibSp'] +  dataset['Parch'] + 1\n",
    "    #dataset['IsAlone'] = 0\n",
    "    #dataset.loc[dataset['FamilySize'] == 1, 'IsAlone'] = 1\n",
    "    dataset['Single'] = dataset['FamilySize'].map(lambda s: 1 if s == 1 else 0)\n",
    "    dataset['SmallF'] = dataset['FamilySize'].map(lambda s: 1 if  s == 2  else 0)\n",
    "    dataset['MedF'] = dataset['FamilySize'].map(lambda s: 1 if 3 <= s <= 4 else 0)\n",
    "    dataset['LargeF'] = dataset['FamilySize'].map(lambda s: 1 if s >= 5 else 0)\n",
    "    \n"
   ]
  },
  {
   "cell_type": "markdown",
   "metadata": {},
   "source": [
    "#### Feature Selection"
   ]
  },
  {
   "cell_type": "code",
   "execution_count": 77,
   "metadata": {},
   "outputs": [
    {
     "ename": "ValueError",
     "evalue": "labels ['Cabin=T'] not contained in axis",
     "output_type": "error",
     "traceback": [
      "\u001b[1;31m---------------------------------------------------------------------------\u001b[0m",
      "\u001b[1;31mValueError\u001b[0m                                Traceback (most recent call last)",
      "\u001b[1;32m<ipython-input-77-bad66a9da50a>\u001b[0m in \u001b[0;36m<module>\u001b[1;34m()\u001b[0m\n\u001b[0;32m      4\u001b[0m \u001b[0mtrain_dataset\u001b[0m \u001b[1;33m=\u001b[0m \u001b[0mtrain_dataset\u001b[0m\u001b[1;33m.\u001b[0m\u001b[0mdrop\u001b[0m\u001b[1;33m(\u001b[0m\u001b[1;33m[\u001b[0m\u001b[1;34m'PassengerId'\u001b[0m\u001b[1;33m,\u001b[0m \u001b[1;34m'AgeBand'\u001b[0m\u001b[1;33m,\u001b[0m \u001b[1;34m'FareBand'\u001b[0m\u001b[1;33m]\u001b[0m\u001b[1;33m,\u001b[0m \u001b[0maxis\u001b[0m\u001b[1;33m=\u001b[0m\u001b[1;36m1\u001b[0m\u001b[1;33m)\u001b[0m\u001b[1;33m\u001b[0m\u001b[0m\n\u001b[0;32m      5\u001b[0m \u001b[1;31m### we will drop Cabin T\u001b[0m\u001b[1;33m\u001b[0m\u001b[1;33m\u001b[0m\u001b[0m\n\u001b[1;32m----> 6\u001b[1;33m \u001b[0mX_train\u001b[0m \u001b[1;33m=\u001b[0m \u001b[0mtrain_dataset\u001b[0m\u001b[1;33m.\u001b[0m\u001b[0mdrop\u001b[0m\u001b[1;33m(\u001b[0m\u001b[1;33m[\u001b[0m\u001b[1;34m'Survived'\u001b[0m\u001b[1;33m,\u001b[0m\u001b[1;34m'Cabin=T'\u001b[0m\u001b[1;33m]\u001b[0m\u001b[1;33m,\u001b[0m \u001b[0maxis\u001b[0m\u001b[1;33m=\u001b[0m\u001b[1;36m1\u001b[0m\u001b[1;33m)\u001b[0m\u001b[1;33m\u001b[0m\u001b[0m\n\u001b[0m\u001b[0;32m      7\u001b[0m \u001b[0my_train\u001b[0m \u001b[1;33m=\u001b[0m \u001b[0mtrain_dataset\u001b[0m\u001b[1;33m[\u001b[0m\u001b[1;34m'Survived'\u001b[0m\u001b[1;33m]\u001b[0m\u001b[1;33m\u001b[0m\u001b[0m\n\u001b[0;32m      8\u001b[0m \u001b[0mX_test\u001b[0m \u001b[1;33m=\u001b[0m \u001b[0mtest_dataset\u001b[0m\u001b[1;33m.\u001b[0m\u001b[0mdrop\u001b[0m\u001b[1;33m(\u001b[0m\u001b[1;34m\"PassengerId\"\u001b[0m\u001b[1;33m,\u001b[0m \u001b[0maxis\u001b[0m\u001b[1;33m=\u001b[0m\u001b[1;36m1\u001b[0m\u001b[1;33m)\u001b[0m\u001b[1;33m.\u001b[0m\u001b[0mcopy\u001b[0m\u001b[1;33m(\u001b[0m\u001b[1;33m)\u001b[0m\u001b[1;33m\u001b[0m\u001b[0m\n",
      "\u001b[1;32mF:\\Anaconda2\\envs\\machinelearning\\lib\\site-packages\\pandas\\core\\generic.py\u001b[0m in \u001b[0;36mdrop\u001b[1;34m(self, labels, axis, level, inplace, errors)\u001b[0m\n\u001b[0;32m   2159\u001b[0m                 \u001b[0mnew_axis\u001b[0m \u001b[1;33m=\u001b[0m \u001b[0maxis\u001b[0m\u001b[1;33m.\u001b[0m\u001b[0mdrop\u001b[0m\u001b[1;33m(\u001b[0m\u001b[0mlabels\u001b[0m\u001b[1;33m,\u001b[0m \u001b[0mlevel\u001b[0m\u001b[1;33m=\u001b[0m\u001b[0mlevel\u001b[0m\u001b[1;33m,\u001b[0m \u001b[0merrors\u001b[0m\u001b[1;33m=\u001b[0m\u001b[0merrors\u001b[0m\u001b[1;33m)\u001b[0m\u001b[1;33m\u001b[0m\u001b[0m\n\u001b[0;32m   2160\u001b[0m             \u001b[1;32melse\u001b[0m\u001b[1;33m:\u001b[0m\u001b[1;33m\u001b[0m\u001b[0m\n\u001b[1;32m-> 2161\u001b[1;33m                 \u001b[0mnew_axis\u001b[0m \u001b[1;33m=\u001b[0m \u001b[0maxis\u001b[0m\u001b[1;33m.\u001b[0m\u001b[0mdrop\u001b[0m\u001b[1;33m(\u001b[0m\u001b[0mlabels\u001b[0m\u001b[1;33m,\u001b[0m \u001b[0merrors\u001b[0m\u001b[1;33m=\u001b[0m\u001b[0merrors\u001b[0m\u001b[1;33m)\u001b[0m\u001b[1;33m\u001b[0m\u001b[0m\n\u001b[0m\u001b[0;32m   2162\u001b[0m             \u001b[0mdropped\u001b[0m \u001b[1;33m=\u001b[0m \u001b[0mself\u001b[0m\u001b[1;33m.\u001b[0m\u001b[0mreindex\u001b[0m\u001b[1;33m(\u001b[0m\u001b[1;33m**\u001b[0m\u001b[1;33m{\u001b[0m\u001b[0maxis_name\u001b[0m\u001b[1;33m:\u001b[0m \u001b[0mnew_axis\u001b[0m\u001b[1;33m}\u001b[0m\u001b[1;33m)\u001b[0m\u001b[1;33m\u001b[0m\u001b[0m\n\u001b[0;32m   2163\u001b[0m             \u001b[1;32mtry\u001b[0m\u001b[1;33m:\u001b[0m\u001b[1;33m\u001b[0m\u001b[0m\n",
      "\u001b[1;32mF:\\Anaconda2\\envs\\machinelearning\\lib\\site-packages\\pandas\\core\\indexes\\base.py\u001b[0m in \u001b[0;36mdrop\u001b[1;34m(self, labels, errors)\u001b[0m\n\u001b[0;32m   3622\u001b[0m             \u001b[1;32mif\u001b[0m \u001b[0merrors\u001b[0m \u001b[1;33m!=\u001b[0m \u001b[1;34m'ignore'\u001b[0m\u001b[1;33m:\u001b[0m\u001b[1;33m\u001b[0m\u001b[0m\n\u001b[0;32m   3623\u001b[0m                 raise ValueError('labels %s not contained in axis' %\n\u001b[1;32m-> 3624\u001b[1;33m                                  labels[mask])\n\u001b[0m\u001b[0;32m   3625\u001b[0m             \u001b[0mindexer\u001b[0m \u001b[1;33m=\u001b[0m \u001b[0mindexer\u001b[0m\u001b[1;33m[\u001b[0m\u001b[1;33m~\u001b[0m\u001b[0mmask\u001b[0m\u001b[1;33m]\u001b[0m\u001b[1;33m\u001b[0m\u001b[0m\n\u001b[0;32m   3626\u001b[0m         \u001b[1;32mreturn\u001b[0m \u001b[0mself\u001b[0m\u001b[1;33m.\u001b[0m\u001b[0mdelete\u001b[0m\u001b[1;33m(\u001b[0m\u001b[0mindexer\u001b[0m\u001b[1;33m)\u001b[0m\u001b[1;33m\u001b[0m\u001b[0m\n",
      "\u001b[1;31mValueError\u001b[0m: labels ['Cabin=T'] not contained in axis"
     ]
    }
   ],
   "source": [
    "features_drop = ['Name', 'SibSp', 'Parch','FamilySize','Ticket']\n",
    "train_dataset = train_dataset.drop(features_drop, axis=1)\n",
    "test_dataset = test_dataset.drop(features_drop, axis=1)\n",
    "train_dataset = train_dataset.drop(['PassengerId', 'AgeBand', 'FareBand'], axis=1)\n",
    "\n",
    "\n"
   ]
  },
  {
   "cell_type": "code",
   "execution_count": 78,
   "metadata": {
    "collapsed": true
   },
   "outputs": [],
   "source": [
    "### we will drop Cabin T\n",
    "X_train = train_dataset.drop(['Survived'], axis=1)\n",
    "y_train = train_dataset['Survived']\n",
    "X_test = test_dataset.drop(\"PassengerId\", axis=1).copy()"
   ]
  },
  {
   "cell_type": "code",
   "execution_count": 81,
   "metadata": {},
   "outputs": [
    {
     "name": "stdout",
     "output_type": "stream",
     "text": [
      "['Age' 'Fare' 'Cabin' 'Embarked=C' 'Embarked=Q' 'Embarked=S' 'Pclass' 'Sex'\n",
      " 'Title=Master' 'Title=Miss' 'Title=Mr' 'Title=Mrs' 'Title=Other' 'Single'\n",
      " 'SmallF' 'MedF' 'LargeF']\n",
      "['Age' 'Fare' 'Cabin' 'Embarked=C' 'Embarked=Q' 'Embarked=S' 'Pclass' 'Sex'\n",
      " 'Title=Master' 'Title=Miss' 'Title=Mr' 'Title=Mrs' 'Title=Other' 'Single'\n",
      " 'SmallF' 'MedF' 'LargeF']\n",
      "['Title=Other', 'SmallF', 'Fare', 'Title=Mr', 'Sex', 'Title=Master', 'LargeF', 'Embarked=Q', 'Embarked=S', 'Single', 'Age', 'Cabin', 'MedF', 'Embarked=C', 'Title=Mrs', 'Title=Miss', 'Pclass']\n"
     ]
    },
    {
     "data": {
      "text/plain": [
       "((891, 17), (891,), (418, 17))"
      ]
     },
     "execution_count": 81,
     "metadata": {},
     "output_type": "execute_result"
    }
   ],
   "source": [
    "print(X_train.columns.values)\n",
    "print(X_test.columns.values)\n",
    "all_features  =set(X_test.columns.values).intersection(set(X_train.columns.values))\n",
    "all_features =list(all_features)\n",
    "print(all_features)\n",
    "\n",
    "X_train.shape, y_train.shape, X_test.shape\n",
    " "
   ]
  },
  {
   "cell_type": "code",
   "execution_count": 82,
   "metadata": {},
   "outputs": [
    {
     "name": "stdout",
     "output_type": "stream",
     "text": [
      "['Title=Other', 'SmallF', 'Fare', 'Title=Mr', 'Sex', 'Title=Master', 'LargeF', 'Embarked=Q', 'Embarked=S', 'Single', 'Age', 'Cabin', 'MedF', 'Embarked=C', 'Title=Mrs', 'Title=Miss', 'Pclass']\n"
     ]
    }
   ],
   "source": [
    "X_train =X_train[all_features]\n",
    "X_test = X_test[all_features]\n",
    "X_train.shape, y_train.shape, X_test.shape\n",
    "print(all_features)"
   ]
  },
  {
   "cell_type": "markdown",
   "metadata": {},
   "source": [
    "### 4. Evaluate Algorithms\n",
    "####  a) Split-out validation dataset\n",
    "####  b) Test options and evaluation metric\n",
    "####  c) Spot Check Algorithms\n",
    "####  d) Compare Algorithms"
   ]
  },
  {
   "cell_type": "code",
   "execution_count": 83,
   "metadata": {},
   "outputs": [
    {
     "data": {
      "text/html": [
       "<div>\n",
       "<style>\n",
       "    .dataframe thead tr:only-child th {\n",
       "        text-align: right;\n",
       "    }\n",
       "\n",
       "    .dataframe thead th {\n",
       "        text-align: left;\n",
       "    }\n",
       "\n",
       "    .dataframe tbody tr th {\n",
       "        vertical-align: top;\n",
       "    }\n",
       "</style>\n",
       "<table border=\"1\" class=\"dataframe\">\n",
       "  <thead>\n",
       "    <tr style=\"text-align: right;\">\n",
       "      <th></th>\n",
       "      <th>Title=Other</th>\n",
       "      <th>SmallF</th>\n",
       "      <th>Fare</th>\n",
       "      <th>Title=Mr</th>\n",
       "      <th>Sex</th>\n",
       "      <th>Title=Master</th>\n",
       "      <th>LargeF</th>\n",
       "      <th>Embarked=Q</th>\n",
       "      <th>Embarked=S</th>\n",
       "      <th>Single</th>\n",
       "      <th>Age</th>\n",
       "      <th>Cabin</th>\n",
       "      <th>MedF</th>\n",
       "      <th>Embarked=C</th>\n",
       "      <th>Title=Mrs</th>\n",
       "      <th>Title=Miss</th>\n",
       "      <th>Pclass</th>\n",
       "    </tr>\n",
       "  </thead>\n",
       "  <tbody>\n",
       "    <tr>\n",
       "      <th>0</th>\n",
       "      <td>0.0</td>\n",
       "      <td>1</td>\n",
       "      <td>0</td>\n",
       "      <td>1.0</td>\n",
       "      <td>0.0</td>\n",
       "      <td>0.0</td>\n",
       "      <td>0</td>\n",
       "      <td>0.0</td>\n",
       "      <td>1.0</td>\n",
       "      <td>0</td>\n",
       "      <td>0.0</td>\n",
       "      <td>0.0</td>\n",
       "      <td>0</td>\n",
       "      <td>0.0</td>\n",
       "      <td>0.0</td>\n",
       "      <td>0.0</td>\n",
       "      <td>3.0</td>\n",
       "    </tr>\n",
       "    <tr>\n",
       "      <th>1</th>\n",
       "      <td>0.0</td>\n",
       "      <td>1</td>\n",
       "      <td>3</td>\n",
       "      <td>0.0</td>\n",
       "      <td>1.0</td>\n",
       "      <td>0.0</td>\n",
       "      <td>0</td>\n",
       "      <td>0.0</td>\n",
       "      <td>0.0</td>\n",
       "      <td>0</td>\n",
       "      <td>0.0</td>\n",
       "      <td>1.0</td>\n",
       "      <td>0</td>\n",
       "      <td>1.0</td>\n",
       "      <td>1.0</td>\n",
       "      <td>0.0</td>\n",
       "      <td>1.0</td>\n",
       "    </tr>\n",
       "    <tr>\n",
       "      <th>2</th>\n",
       "      <td>0.0</td>\n",
       "      <td>0</td>\n",
       "      <td>1</td>\n",
       "      <td>0.0</td>\n",
       "      <td>1.0</td>\n",
       "      <td>0.0</td>\n",
       "      <td>0</td>\n",
       "      <td>0.0</td>\n",
       "      <td>1.0</td>\n",
       "      <td>1</td>\n",
       "      <td>0.0</td>\n",
       "      <td>0.0</td>\n",
       "      <td>0</td>\n",
       "      <td>0.0</td>\n",
       "      <td>0.0</td>\n",
       "      <td>1.0</td>\n",
       "      <td>3.0</td>\n",
       "    </tr>\n",
       "    <tr>\n",
       "      <th>3</th>\n",
       "      <td>0.0</td>\n",
       "      <td>1</td>\n",
       "      <td>3</td>\n",
       "      <td>0.0</td>\n",
       "      <td>1.0</td>\n",
       "      <td>0.0</td>\n",
       "      <td>0</td>\n",
       "      <td>0.0</td>\n",
       "      <td>1.0</td>\n",
       "      <td>0</td>\n",
       "      <td>0.0</td>\n",
       "      <td>1.0</td>\n",
       "      <td>0</td>\n",
       "      <td>0.0</td>\n",
       "      <td>1.0</td>\n",
       "      <td>0.0</td>\n",
       "      <td>1.0</td>\n",
       "    </tr>\n",
       "    <tr>\n",
       "      <th>4</th>\n",
       "      <td>0.0</td>\n",
       "      <td>0</td>\n",
       "      <td>1</td>\n",
       "      <td>1.0</td>\n",
       "      <td>0.0</td>\n",
       "      <td>0.0</td>\n",
       "      <td>0</td>\n",
       "      <td>0.0</td>\n",
       "      <td>1.0</td>\n",
       "      <td>1</td>\n",
       "      <td>0.0</td>\n",
       "      <td>0.0</td>\n",
       "      <td>0</td>\n",
       "      <td>0.0</td>\n",
       "      <td>0.0</td>\n",
       "      <td>0.0</td>\n",
       "      <td>3.0</td>\n",
       "    </tr>\n",
       "  </tbody>\n",
       "</table>\n",
       "</div>"
      ],
      "text/plain": [
       "   Title=Other  SmallF  Fare  Title=Mr  Sex  Title=Master  LargeF  Embarked=Q  Embarked=S  Single  Age  Cabin  MedF  \\\n",
       "0          0.0       1     0       1.0  0.0           0.0       0         0.0         1.0       0  0.0    0.0     0   \n",
       "1          0.0       1     3       0.0  1.0           0.0       0         0.0         0.0       0  0.0    1.0     0   \n",
       "2          0.0       0     1       0.0  1.0           0.0       0         0.0         1.0       1  0.0    0.0     0   \n",
       "3          0.0       1     3       0.0  1.0           0.0       0         0.0         1.0       0  0.0    1.0     0   \n",
       "4          0.0       0     1       1.0  0.0           0.0       0         0.0         1.0       1  0.0    0.0     0   \n",
       "\n",
       "   Embarked=C  Title=Mrs  Title=Miss  Pclass  \n",
       "0         0.0        0.0         0.0     3.0  \n",
       "1         1.0        1.0         0.0     1.0  \n",
       "2         0.0        0.0         1.0     3.0  \n",
       "3         0.0        1.0         0.0     1.0  \n",
       "4         0.0        0.0         0.0     3.0  "
      ]
     },
     "execution_count": 83,
     "metadata": {},
     "output_type": "execute_result"
    }
   ],
   "source": [
    "X_train.head()"
   ]
  },
  {
   "cell_type": "code",
   "execution_count": 84,
   "metadata": {
    "collapsed": true
   },
   "outputs": [],
   "source": [
    "from sklearn.model_selection  import  train_test_split\n",
    "from sklearn.linear_model  import LogisticRegression\n",
    "test_size = 0.33\n",
    "seed = 7\n",
    "\n",
    "X_trainmodel, X_val, y_trainmodel, y_val = train_test_split(X_train, y_train, test_size=test_size,random_state=seed)"
   ]
  },
  {
   "cell_type": "code",
   "execution_count": 85,
   "metadata": {},
   "outputs": [
    {
     "name": "stdout",
     "output_type": "stream",
     "text": [
      "Accuracy: 85.067\n"
     ]
    }
   ],
   "source": [
    "logrmodel = LogisticRegression()\n",
    "logrmodel.fit(X_trainmodel, y_trainmodel.values.ravel())\n",
    "result = logrmodel.score(X_trainmodel, y_trainmodel.values)\n",
    "print (\"Accuracy: {0:.3f}\".format(result*100.0))"
   ]
  },
  {
   "cell_type": "code",
   "execution_count": 86,
   "metadata": {},
   "outputs": [
    {
     "name": "stdout",
     "output_type": "stream",
     "text": [
      "85.23\n"
     ]
    }
   ],
   "source": [
    "from sklearn.svm import LinearSVC\n",
    "lin_svc = LinearSVC()\n",
    "lin_svc.fit(X_trainmodel, y_trainmodel.values.ravel())\n",
    "#y_pred_linear_svc = lin_svc.predict(X_test)\n",
    "acc_linear_svc = round(lin_svc.score(X_trainmodel, y_trainmodel) * 100, 2)\n",
    "print (acc_linear_svc)"
   ]
  },
  {
   "cell_type": "code",
   "execution_count": 87,
   "metadata": {
    "collapsed": true
   },
   "outputs": [],
   "source": [
    "from sklearn.model_selection import KFold\n",
    "from sklearn.model_selection import cross_val_score\n",
    "def train_and_evaluate(model, X_train, y_train, t_splits =10,seed=7):\n",
    "    model.fit(X_train, y_train)\n",
    "    print (\"Coefficient of determination on training set:\",model.score(X_train, y_train))\n",
    "    # create a k-fold cross validation iterator of k=5 folds\n",
    "    cv = KFold(n_splits= t_splits,shuffle=True, random_state=seed)\n",
    "    scores = cross_val_score(model, X_train, y_train, cv=cv)\n",
    "    print(scores)\n",
    "    print (\"Average coefficient of determination using {0}-fold crossvalidation:{1}\".format(t_splits,np.mean(scores)))"
   ]
  },
  {
   "cell_type": "code",
   "execution_count": 88,
   "metadata": {
    "collapsed": true
   },
   "outputs": [],
   "source": [
    "from sklearn.model_selection import KFold\n",
    "from sklearn.model_selection import cross_val_score\n",
    "from sklearn.linear_model import LogisticRegression\n",
    "from sklearn.tree import DecisionTreeClassifier\n",
    "from sklearn.neighbors import KNeighborsClassifier\n",
    "from sklearn.discriminant_analysis import LinearDiscriminantAnalysis\n",
    "from sklearn.naive_bayes import GaussianNB\n",
    "from sklearn.svm import SVC\n",
    "from sklearn.ensemble import RandomForestClassifier"
   ]
  },
  {
   "cell_type": "code",
   "execution_count": 89,
   "metadata": {},
   "outputs": [
    {
     "name": "stdout",
     "output_type": "stream",
     "text": [
      "Accuracy of LR is 0.848954802259887 with variance 0.04833547958397685\n",
      "Accuracy of DT is 0.8203389830508476 with variance 0.05491412079460833\n",
      "Accuracy of KNN is 0.8203954802259888 with variance 0.05605131983147354\n",
      "Accuracy of GB is 0.818728813559322 with variance 0.05592336430756287\n",
      "Accuracy of SVC is 0.8505932203389831 with variance 0.05321788741699568\n",
      "Accuracy of RFC is 0.833870056497175 with variance 0.051018145714893964\n"
     ]
    },
    {
     "data": {
      "image/png": "[encoded data removed]",
      "text/plain": [
       "<matplotlib.figure.Figure at 0x2caeb4aeef0>"
      ]
     },
     "metadata": {},
     "output_type": "display_data"
    }
   ],
   "source": [
    "models = []\n",
    "models.append(('LR', LogisticRegression()))\n",
    "###models.append(('LDA', LinearDiscriminantAnalysis()))\n",
    "models.append(('DT',DecisionTreeClassifier()))\n",
    "models.append(('KNN',KNeighborsClassifier()))\n",
    "models.append(('GB',GaussianNB()))\n",
    "models.append(('SVC',SVC()))\n",
    "models.append(('RFC',RandomForestClassifier(n_estimators=300,random_state=0,criterion='entropy')))\n",
    "# evaluate each model in turn\n",
    "results = []\n",
    "names = []\n",
    "scoring = 'accuracy'\n",
    "for name, model in models:\n",
    "    kfold = KFold(n_splits=10, random_state=7)\n",
    "    cv_results = cross_val_score(model, X_trainmodel, y_trainmodel.values.ravel(), cv=kfold, scoring=scoring)\n",
    "    results.append(cv_results)\n",
    "    names.append(name)\n",
    "    msg = \"Accuracy of {0} is {1} with variance {2}\".format(name, cv_results.mean(), cv_results.std())\n",
    "    print(msg)\n",
    "fig = plt.figure()\n",
    "fig.suptitle('Algorithm Comparison')\n",
    "ax = fig.add_subplot(111)\n",
    "plt.boxplot(results)\n",
    "ax.set_xticklabels(names)\n",
    "plt.show()"
   ]
  },
  {
   "cell_type": "code",
   "execution_count": 90,
   "metadata": {
    "collapsed": true
   },
   "outputs": [],
   "source": [
    "from sklearn import metrics\n",
    "def measure_performance(X, y, clf, show_accuracy=True,show_classification_report=True,\n",
    "                        show_confusion_matrix=True, show_r2_score=False):\n",
    "    y_pred = clf.predict(X) \n",
    "    if show_accuracy:\n",
    "        print (\"Accuracy:{0:.3f}\".format( metrics.accuracy_score(y, y_pred)) )\n",
    "    if show_classification_report:\n",
    "        print (\"Classification report\")\n",
    "        print (metrics.classification_report(y, y_pred))\n",
    "    if show_confusion_matrix:\n",
    "        print(\"Confusion matrix\") \n",
    "        print(metrics.confusion_matrix(y, y_pred),)\n",
    "    if show_r2_score:\n",
    "        print (\"Coefficient of determination:{0:.3f}\"\n",
    "               .format( metrics.r2_score(y, y_pred)))\n",
    "    return y_pred"
   ]
  },
  {
   "cell_type": "code",
   "execution_count": 91,
   "metadata": {},
   "outputs": [
    {
     "name": "stdout",
     "output_type": "stream",
     "text": [
      "Classification report\n",
      "             precision    recall  f1-score   support\n",
      "\n",
      "          0       0.80      0.88      0.83       176\n",
      "          1       0.78      0.67      0.72       119\n",
      "\n",
      "avg / total       0.79      0.79      0.79       295\n",
      "\n",
      "Confusion matrix\n",
      "[[154  22]\n",
      " [ 39  80]]\n"
     ]
    }
   ],
   "source": [
    "svc=SVC()\n",
    "svc.fit(X_trainmodel, y_trainmodel.values.ravel())\n",
    "y_pred=measure_performance(X_val,y_val,svc, show_accuracy=False, \n",
    "                    show_classification_report=True,\n",
    "                    show_confusion_matrix=True, show_r2_score=False)"
   ]
  },
  {
   "cell_type": "code",
   "execution_count": 92,
   "metadata": {},
   "outputs": [
    {
     "name": "stdout",
     "output_type": "stream",
     "text": [
      "RandomForestClassifier(bootstrap=True, class_weight=None, criterion='gini',\n",
      "            max_depth=None, max_features='auto', max_leaf_nodes=None,\n",
      "            min_impurity_split=1e-07, min_samples_leaf=1,\n",
      "            min_samples_split=2, min_weight_fraction_leaf=0.0,\n",
      "            n_estimators=300, n_jobs=1, oob_score=False, random_state=0,\n",
      "            verbose=0, warm_start=False)\n",
      "Classification report\n",
      "             precision    recall  f1-score   support\n",
      "\n",
      "          0       0.79      0.89      0.84       176\n",
      "          1       0.80      0.65      0.72       119\n",
      "\n",
      "avg / total       0.79      0.79      0.79       295\n",
      "\n",
      "Confusion matrix\n",
      "[[157  19]\n",
      " [ 42  77]]\n"
     ]
    }
   ],
   "source": [
    "rfc =RandomForestClassifier(n_estimators=300,random_state=0 )\n",
    "print(rfc)\n",
    "rfc.fit(X_trainmodel, y_trainmodel.values.ravel())\n",
    "y_pred=measure_performance(X_val,y_val,rfc, show_accuracy=False, \n",
    "                    show_classification_report=True,\n",
    "                    show_confusion_matrix=True, show_r2_score=False)"
   ]
  },
  {
   "cell_type": "code",
   "execution_count": 93,
   "metadata": {},
   "outputs": [
    {
     "data": {
      "text/plain": [
       "'\\nparam_grid = [{\\'kernel\\': [\\'rbf\\'],\\n               \\'C\\': [0.001, 0.01, 0.1, 1, 10, 100],\\n               \\'gamma\\': [0.001, 0.01, 0.1, 1, 10, 100]},\\n              {\\'kernel\\': [\\'linear\\'],\\n               \\'C\\': [0.001, 0.01, 0.1, 1, 10, 100]}]\\nprint(\"List of grids:\\n{}\".format(param_grid))\\ngrid_search = GridSearchCV(SVC(), param_grid, cv=5,n_jobs =1)\\ngrid_search.fit(X_trainmodel,y_trainmodel.values.ravel())\\nprint(\"Test set score: {:.2f}\".format(grid_search.score(X_val, y_val)))\\nprint(\"Best parameters: {}\".format(grid_search.best_params_))\\nprint(\"Best cross-validation score: {:.2f}\".format(grid_search.best_score_))\\nprint(\"Best estimator:\\n{}\".format(grid_search.best_estimator_))\\n'"
      ]
     },
     "execution_count": 93,
     "metadata": {},
     "output_type": "execute_result"
    }
   ],
   "source": [
    "from sklearn.model_selection import GridSearchCV\n",
    "from sklearn.svm import SVC\n",
    "'''\n",
    "param_grid = [{'kernel': ['rbf'],\n",
    "               'C': [0.001, 0.01, 0.1, 1, 10, 100],\n",
    "               'gamma': [0.001, 0.01, 0.1, 1, 10, 100]},\n",
    "              {'kernel': ['linear'],\n",
    "               'C': [0.001, 0.01, 0.1, 1, 10, 100]}]\n",
    "print(\"List of grids:\\n{}\".format(param_grid))\n",
    "grid_search = GridSearchCV(SVC(), param_grid, cv=5,n_jobs =1)\n",
    "grid_search.fit(X_trainmodel,y_trainmodel.values.ravel())\n",
    "print(\"Test set score: {:.2f}\".format(grid_search.score(X_val, y_val)))\n",
    "print(\"Best parameters: {}\".format(grid_search.best_params_))\n",
    "print(\"Best cross-validation score: {:.2f}\".format(grid_search.best_score_))\n",
    "print(\"Best estimator:\\n{}\".format(grid_search.best_estimator_))\n",
    "'''"
   ]
  },
  {
   "cell_type": "code",
   "execution_count": null,
   "metadata": {
    "collapsed": true
   },
   "outputs": [],
   "source": []
  },
  {
   "cell_type": "code",
   "execution_count": null,
   "metadata": {
    "collapsed": true
   },
   "outputs": [],
   "source": []
  },
  {
   "cell_type": "code",
   "execution_count": 94,
   "metadata": {},
   "outputs": [
    {
     "name": "stdout",
     "output_type": "stream",
     "text": [
      "Fitting 8 folds for each of 54 candidates, totalling 432 fits\n"
     ]
    },
    {
     "name": "stderr",
     "output_type": "stream",
     "text": [
      "[Parallel(n_jobs=4)]: Done  42 tasks      | elapsed:  1.4min\n",
      "[Parallel(n_jobs=4)]: Done 192 tasks      | elapsed:  5.3min\n",
      "[Parallel(n_jobs=4)]: Done 432 out of 432 | elapsed: 12.0min finished\n"
     ]
    },
    {
     "name": "stdout",
     "output_type": "stream",
     "text": [
      "Best parameters: {'min_samples_leaf': 3, 'min_samples_split': 2, 'n_estimators': 2000, 'criterion': 'entropy', 'max_depth': 10, 'max_features': 3, 'bootstrap': False}\n",
      "Best cross-validation score: 0.85\n",
      "Best estimator:\n",
      "RandomForestClassifier(bootstrap=False, class_weight=None,\n",
      "            criterion='entropy', max_depth=10, max_features=3,\n",
      "            max_leaf_nodes=None, min_impurity_split=1e-07,\n",
      "            min_samples_leaf=3, min_samples_split=2,\n",
      "            min_weight_fraction_leaf=0.0, n_estimators=2000, n_jobs=1,\n",
      "            oob_score=False, random_state=None, verbose=0,\n",
      "            warm_start=False)\n"
     ]
    }
   ],
   "source": [
    "rfc= RandomForestClassifier()\n",
    "\n",
    "\n",
    "## Search grid for optimal parameters\n",
    "rf_param_grid = {\"max_depth\": [10],\n",
    "              \"max_features\": [1, 3, 10],\n",
    "              \"min_samples_split\": [2, 3, 10],\n",
    "              \"min_samples_leaf\": [1, 3, 10],\n",
    "              \"bootstrap\": [False],\n",
    "              \"n_estimators\" :[1000,2000],\n",
    "              \"criterion\": [\"entropy\"]}\n",
    "\n",
    "\n",
    "grid_search = GridSearchCV(rfc,param_grid = rf_param_grid, cv=8, scoring=\"accuracy\", verbose = 1,n_jobs =4)\n",
    "\n",
    "grid_search.fit(X_trainmodel,y_trainmodel.values.ravel())\n",
    "\n",
    "rfc_best = grid_search.best_estimator_\n",
    "\n",
    " #Best score\n",
    "print(\"Best parameters: {}\".format(grid_search.best_params_))\n",
    "print(\"Best cross-validation score: {:.2f}\".format(grid_search.best_score_))\n",
    "print(\"Best estimator:\\n{}\".format(grid_search.best_estimator_))"
   ]
  },
  {
   "cell_type": "code",
   "execution_count": 97,
   "metadata": {},
   "outputs": [
    {
     "name": "stdout",
     "output_type": "stream",
     "text": [
      "RandomForestClassifier(bootstrap=False, class_weight=None, criterion='gini',\n",
      "            max_depth=10, max_features=3, max_leaf_nodes=None,\n",
      "            min_impurity_split=1e-07, min_samples_leaf=3,\n",
      "            min_samples_split=2, min_weight_fraction_leaf=0.0,\n",
      "            n_estimators=2000, n_jobs=1, oob_score=False,\n",
      "            random_state=None, verbose=0, warm_start=False)\n",
      "Classification report\n",
      "             precision    recall  f1-score   support\n",
      "\n",
      "          0       0.79      0.91      0.84       176\n",
      "          1       0.83      0.64      0.72       119\n",
      "\n",
      "avg / total       0.80      0.80      0.79       295\n",
      "\n",
      "Confusion matrix\n",
      "[[160  16]\n",
      " [ 43  76]]\n",
      "<class 'pandas.core.frame.DataFrame'>\n",
      "Int64Index: 596 entries, 65 to 175\n",
      "Data columns (total 17 columns):\n",
      "Title=Other     596 non-null float64\n",
      "SmallF          596 non-null int64\n",
      "Fare            596 non-null int32\n",
      "Title=Mr        596 non-null float64\n",
      "Sex             596 non-null float64\n",
      "Title=Master    596 non-null float64\n",
      "LargeF          596 non-null int64\n",
      "Embarked=Q      596 non-null float64\n",
      "Embarked=S      596 non-null float64\n",
      "Single          596 non-null int64\n",
      "Age             596 non-null float64\n",
      "Cabin           596 non-null float64\n",
      "MedF            596 non-null int64\n",
      "Embarked=C      596 non-null float64\n",
      "Title=Mrs       596 non-null float64\n",
      "Title=Miss      596 non-null float64\n",
      "Pclass          596 non-null float64\n",
      "dtypes: float64(12), int32(1), int64(4)\n",
      "memory usage: 81.5 KB\n",
      "None\n",
      "<class 'pandas.core.frame.DataFrame'>\n",
      "RangeIndex: 418 entries, 0 to 417\n",
      "Data columns (total 17 columns):\n",
      "Title=Other     418 non-null float64\n",
      "SmallF          418 non-null int64\n",
      "Fare            418 non-null int32\n",
      "Title=Mr        418 non-null float64\n",
      "Sex             418 non-null float64\n",
      "Title=Master    418 non-null float64\n",
      "LargeF          418 non-null int64\n",
      "Embarked=Q      418 non-null float64\n",
      "Embarked=S      418 non-null float64\n",
      "Single          418 non-null int64\n",
      "Age             418 non-null float64\n",
      "Cabin           418 non-null float64\n",
      "MedF            418 non-null int64\n",
      "Embarked=C      418 non-null float64\n",
      "Title=Mrs       418 non-null float64\n",
      "Title=Miss      418 non-null float64\n",
      "Pclass          418 non-null float64\n",
      "dtypes: float64(12), int32(1), int64(4)\n",
      "memory usage: 54.0 KB\n",
      "None\n"
     ]
    }
   ],
   "source": [
    "rfc =RandomForestClassifier(bootstrap=False, class_weight=None,\n",
    "            criterion='gini', max_depth=10, max_features=3,\n",
    "            max_leaf_nodes=None, min_impurity_split=1e-07,\n",
    "            min_samples_leaf=3, min_samples_split=2,\n",
    "            min_weight_fraction_leaf=0.0, n_estimators=2000, n_jobs=1,\n",
    "            oob_score=False, random_state=None, verbose=0,\n",
    "            warm_start=False)\n",
    "print(rfc)\n",
    "rfc.fit(X_trainmodel, y_trainmodel.values.ravel())\n",
    "y_pred=measure_performance(X_val,y_val,rfc, show_accuracy=False, \n",
    "                    show_classification_report=True,\n",
    "                    show_confusion_matrix=True, show_r2_score=False)\n",
    "\n",
    "print(X_trainmodel.info())\n",
    "print(X_test.info())\n",
    "#X_test.to_csv('tranform_test.csv', index=False)\n",
    "y_pred_result=rfc.predict(X_test)"
   ]
  },
  {
   "cell_type": "code",
   "execution_count": 98,
   "metadata": {
    "collapsed": true
   },
   "outputs": [],
   "source": [
    "submission = pd.DataFrame({\n",
    "        \"PassengerId\": test_X[\"PassengerId\"],\n",
    "        \"Survived\": y_pred_result\n",
    "    })\n",
    "submission.to_csv('submission_new_0207.csv', index=False)"
   ]
  },
  {
   "cell_type": "code",
   "execution_count": null,
   "metadata": {
    "collapsed": true
   },
   "outputs": [],
   "source": []
  }
 ],
 "metadata": {
  "kernelspec": {
   "display_name": "Python 3",
   "language": "python",
   "name": "python3"
  },
  "language_info": {
   "codemirror_mode": {
    "name": "ipython",
    "version": 3
   },
   "file_extension": ".py",
   "mimetype": "text/x-python",
   "name": "python",
   "nbconvert_exporter": "python",
   "pygments_lexer": "ipython3",
   "version": "3.5.3"
  }
 },
 "nbformat": 4,
 "nbformat_minor": 2
}
