{
 "cells": [
  {
   "cell_type": "markdown",
   "metadata": {},
   "source": [
    "# Title- Titanic: Machine Learning from Disaster\n",
    "\n",
    "### Competition Description\n",
    "\n",
    "The sinking of the RMS Titanic is one of the most infamous shipwrecks in history.  On April 15, 1912, during her maiden voyage, the Titanic sank after colliding with an iceberg, killing 1502 out of 2224 passengers and crew. This sensational tragedy shocked the international community and led to better safety regulations for ships.\n",
    "\n",
    "One of the reasons that the shipwreck led to such loss of life was that there were not enough lifeboats for the passengers and crew. Although there was some element of luck involved in surviving the sinking, some groups of people were more likely to survive than others, such as women, children, and the upper-class.\n",
    "\n",
    "In this challenge, we ask you to complete the analysis of what sorts of people were likely to survive. In particular, we ask you to apply the tools of machine learning to predict which passengers survived the tragedy.\n",
    "\n",
    "#### Practice Skills\n",
    "###### Binary classification \n",
    "---"
   ]
  },
  {
   "cell_type": "markdown",
   "metadata": {},
   "source": [
    "### Overview\n",
    "The data has been split into two groups:\n",
    "\n",
    "training set (train.csv)\n",
    "test set (test.csv)\n",
    "\n",
    "The training set should be used to build your machine learning models. For the training set, we provide the outcome (also known as the “ground truth”) for each passenger. Your model will be based on “features” like passengers’ gender and class. You can also use feature engineering to create new features.\n",
    "\n",
    "The test set should be used to see how well your model performs on unseen data. For the test set, we do not provide the ground truth for each passenger. It is your job to predict these outcomes. For each passenger in the test set, use the model you trained to predict whether or not they survived the sinking of the Titanic.\n",
    "\n",
    "We also include gender_submission.csv, a set of predictions that assume all and only female passengers survive, as an example of what a submission file should look like.\n",
    "\n",
    "----"
   ]
  },
  {
   "cell_type": "markdown",
   "metadata": {},
   "source": [
    "### Data Dictionary\n",
    "\n",
    "<table>\n",
    "<tbody>\n",
    "<tr><th><b>Variable</b></th><th><b>Definition</b></th><th><b>Key</b></th></tr>\n",
    "<tr>\n",
    "<td>survival</td>\n",
    "<td>Survival</td>\n",
    "<td>0 = No, 1 = Yes</td>\n",
    "</tr>\n",
    "<tr>\n",
    "<td>pclass</td>\n",
    "<td>Ticket class</td>\n",
    "<td>1 = 1st, 2 = 2nd, 3 = 3rd</td>\n",
    "</tr>\n",
    "<tr>\n",
    "<td>sex</td>\n",
    "<td>Sex</td>\n",
    "<td></td>\n",
    "</tr>\n",
    "<tr>\n",
    "<td>Age</td>\n",
    "<td>Age in years</td>\n",
    "<td></td>\n",
    "</tr>\n",
    "<tr>\n",
    "<td>sibsp</td>\n",
    "<td># of siblings / spouses aboard the Titanic</td>\n",
    "<td></td>\n",
    "</tr>\n",
    "<tr>\n",
    "<td>parch</td>\n",
    "<td># of parents / children aboard the Titanic</td>\n",
    "<td></td>\n",
    "</tr>\n",
    "<tr>\n",
    "<td>ticket</td>\n",
    "<td>Ticket number</td>\n",
    "<td></td>\n",
    "</tr>\n",
    "<tr>\n",
    "<td>fare</td>\n",
    "<td>Passenger fare</td>\n",
    "<td></td>\n",
    "</tr>\n",
    "<tr>\n",
    "<td>cabin</td>\n",
    "<td>Cabin number</td>\n",
    "<td></td>\n",
    "</tr>\n",
    "<tr>\n",
    "<td>embarked</td>\n",
    "<td>Port of Embarkation</td>\n",
    "<td>C = Cherbourg, Q = Queenstown, S = Southampton</td>\n",
    "</tr>\n",
    "</tbody>\n",
    "</table>\n",
    "\n",
    " \n"
   ]
  },
  {
   "cell_type": "markdown",
   "metadata": {},
   "source": [
    "---\n",
    "### Variable Notes\n",
    "<p><b>pclass</b>: A proxy for socio-economic status (SES)<br> 1st = Upper<br> 2nd = Middle<br> 3rd = Lower<br><br> <b>age</b>: Age is fractional if less than 1. If the age is estimated, is it in the form of xx.5<br><br> <b>sibsp</b>: The dataset defines family relations in this way...<br> Sibling = brother, sister, stepbrother, stepsister<br> Spouse = husband, wife (mistresses and fiancés were ignored)<br><br> <b>parch</b>: The dataset defines family relations in this way...<br> Parent = mother, father<br> Child = daughter, son, stepdaughter, stepson<br> Some children travelled only with a nanny, therefore parch=0 for them.</p>"
   ]
  },
  {
   "cell_type": "markdown",
   "metadata": {},
   "source": [
    "---\n",
    "### 1.Prepare Problem\n",
    "#### a.Load libraries\n",
    "#### b.Load dataset\n",
    "##### for this problem we will be loading training set and test  from two files as given by kaggle "
   ]
  },
  {
   "cell_type": "code",
   "execution_count": 1,
   "metadata": {
    "collapsed": true
   },
   "outputs": [],
   "source": [
    "import os\n",
    "import math\n",
    "import datetime\n",
    "\n",
    "from sklearn.preprocessing import LabelEncoder\n",
    "from sklearn.preprocessing import LabelBinarizer\n",
    "\n",
    "from mlsettings.settings import load_app_config, get_datafolder_path\n",
    "from mltools.mlcommon import load_data, print_dataset_info, split_dataset, auto_scatter_simple\n",
    "\n",
    "import matplotlib.pyplot as plt\n",
    "import seaborn as sns\n",
    "import pandas as pd\n",
    "import numpy as np\n",
    " \n",
    "% matplotlib inline \n",
    "from numpy import set_printoptions\n",
    "set_printoptions(precision=4)"
   ]
  },
  {
   "cell_type": "code",
   "execution_count": 2,
   "metadata": {},
   "outputs": [
    {
     "name": "stdout",
     "output_type": "stream",
     "text": [
      "{'REG': {'ML_DATASOURCE': 'F:\\\\DataSource', 'ML_PATH': 'F:\\\\MachineLearning'}, 'UAT': {'ML_DATASOURCE': 'F:\\\\DataSource', 'ML_PATH': 'F:\\\\MachineLearning'}, 'PRD': {'ML_DATASOURCE': 'F:\\\\DataSource', 'ML_PATH': 'F:\\\\MachineLearning'}, 'DEV': {'ML_DATASOURCE': 'F:\\\\DataSource', 'ML_PATH': 'F:\\\\MachineLearning'}}\n",
      "Adding F:\\DataSource  to system path\n",
      "Adding F:\\MachineLearning  to system path\n"
     ]
    }
   ],
   "source": [
    "load_app_config()\n",
    "DIRECTORY=\"kaggle_titanic\"\n",
    "TRAIN_FILE ='train.csv'\n",
    "TEST_FILE = 'test.csv'\n",
    "RESPONSE = 'Survived'\n",
    "input_path = get_datafolder_path()"
   ]
  },
  {
   "cell_type": "code",
   "execution_count": 3,
   "metadata": {
    "collapsed": true
   },
   "outputs": [],
   "source": [
    "def load_dataset(filename=TRAIN_FILE,response=RESPONSE):\n",
    "    input_file = os.path.join(input_path, DIRECTORY, filename)\n",
    "    input_dataset = load_data(input_file)\n",
    "    print(\" input file is :{0} loaded.\".format(input_file))\n",
    "    #print(input_dataset.head())\n",
    "    \n",
    "    try:\n",
    "        continuous_vars = input_dataset.describe().columns.values.tolist()\n",
    "        print(\"Continous Variables\")\n",
    "        print(continuous_vars)\n",
    "    except ValueError:\n",
    "        print(\"No continous variables\")\n",
    "    \n",
    "    try:\n",
    "        categorical_vars = input_dataset.describe(include=[\"object\"]).columns.values.tolist()\n",
    "        print(\"Categorical Variables\")\n",
    "        print(categorical_vars)\n",
    "    except ValueError:\n",
    "        print(\"No categorical variables\")\n",
    "        categorical_vars = None\n",
    "    \n",
    "    response_column =  [col for col in input_dataset.columns if response in col]\n",
    "    feature_columns =  [col for col in input_dataset.columns if response not in col]\n",
    "      \n",
    "    return  input_dataset,feature_columns,response_column,continuous_vars,categorical_vars\n"
   ]
  },
  {
   "cell_type": "code",
   "execution_count": 4,
   "metadata": {},
   "outputs": [
    {
     "name": "stdout",
     "output_type": "stream",
     "text": [
      " input file is :F:\\DataSource\\kaggle_titanic\\train.csv loaded.\n",
      "Continous Variables\n",
      "['PassengerId', 'Survived', 'Pclass', 'Age', 'SibSp', 'Parch', 'Fare']\n",
      "Categorical Variables\n",
      "['Name', 'Sex', 'Ticket', 'Cabin', 'Embarked']\n"
     ]
    }
   ],
   "source": [
    "train_dataset,feature_columns,response_column,continuous_vars,categorical_vars = load_dataset(filename=TRAIN_FILE,response=RESPONSE)\n",
    "train_X = train_dataset[feature_columns]\n",
    "train_y = train_dataset[response_column]\n"
   ]
  },
  {
   "cell_type": "code",
   "execution_count": 5,
   "metadata": {},
   "outputs": [
    {
     "name": "stdout",
     "output_type": "stream",
     "text": [
      " input file is :F:\\DataSource\\kaggle_titanic\\test.csv loaded.\n",
      "Continous Variables\n",
      "['PassengerId', 'Pclass', 'Age', 'SibSp', 'Parch', 'Fare']\n",
      "Categorical Variables\n",
      "['Name', 'Sex', 'Ticket', 'Cabin', 'Embarked']\n"
     ]
    }
   ],
   "source": [
    "test_dataset,tfeature_columns,tresponse_column,tcontinuous_vars,tcategorical_vars  = load_dataset(filename=TEST_FILE,response=RESPONSE)\n",
    "test_X =[]\n",
    "test_y=[]\n",
    "if feature_columns:\n",
    "    test_X = test_dataset[feature_columns]\n",
    "\n",
    "if response_column:\n",
    "    test_y = test_dataset[feature_columns]\n",
    "   "
   ]
  },
  {
   "cell_type": "markdown",
   "metadata": {},
   "source": [
    "### 2.Summarize Data \n",
    "#### a) Descriptive statistics\n",
    "#### b) Data visualizations\n"
   ]
  },
  {
   "cell_type": "code",
   "execution_count": 6,
   "metadata": {
    "collapsed": true
   },
   "outputs": [],
   "source": [
    "def display_data_descriptives(input_dataset,X,feature_columns,y,response_column):\n",
    "    print(\"<{0} {1} {0}>\".format(\"=\"*40,\"info\"))\n",
    "    print(input_dataset.info())\n",
    "    print(\"<{0} {1} {0}>\".format(\"=\"*40,\"feature columns\"))\n",
    "    print(feature_columns)\n",
    "    print(\"<{0} {1} {0}>\".format(\"=\"*40,\"data header\"))\n",
    "    print(X.head().to_string())\n",
    "    print(\"<{0} {1} {0}>\".format(\"=\"*40,\"response\"))\n",
    "    print(response_column)\n",
    "    print(\"<{0} {1} {0}>\".format(\"=\"*40,\"Descriptive Statistics -X\"))\n",
    "    print(X.describe())\n",
    "    print(\"<{0} {1} {0}>\".format(\"=\"*40,\"Descriptive Statistics -y\"))\n",
    "    print(y.describe())\n",
    "    print(\"<{0} {1} {0}>\".format(\"=\"*40,\"value_count -y\"))\n",
    " \n",
    "    print(y.groupby(response_column)[response_column].count())\n",
    "    ##print(\"<{0} {1} {0}>\".format(\"=\"*40,\"Correlation\"))\n",
    "    ##print(input_dataset.corr(method='pearson'))"
   ]
  },
  {
   "cell_type": "code",
   "execution_count": 7,
   "metadata": {},
   "outputs": [
    {
     "name": "stdout",
     "output_type": "stream",
     "text": [
      "<======================================== info ========================================>\n",
      "<class 'pandas.core.frame.DataFrame'>\n",
      "RangeIndex: 891 entries, 0 to 890\n",
      "Data columns (total 12 columns):\n",
      "PassengerId    891 non-null int64\n",
      "Survived       891 non-null int64\n",
      "Pclass         891 non-null int64\n",
      "Name           891 non-null object\n",
      "Sex            891 non-null object\n",
      "Age            714 non-null float64\n",
      "SibSp          891 non-null int64\n",
      "Parch          891 non-null int64\n",
      "Ticket         891 non-null object\n",
      "Fare           891 non-null float64\n",
      "Cabin          204 non-null object\n",
      "Embarked       889 non-null object\n",
      "dtypes: float64(2), int64(5), object(5)\n",
      "memory usage: 83.6+ KB\n",
      "None\n",
      "<======================================== feature columns ========================================>\n",
      "['PassengerId', 'Pclass', 'Name', 'Sex', 'Age', 'SibSp', 'Parch', 'Ticket', 'Fare', 'Cabin', 'Embarked']\n",
      "<======================================== data header ========================================>\n",
      "   PassengerId  Pclass                                               Name     Sex   Age  SibSp  Parch            Ticket     Fare Cabin Embarked\n",
      "0            1       3                            Braund, Mr. Owen Harris    male  22.0      1      0         A/5 21171   7.2500   NaN        S\n",
      "1            2       1  Cumings, Mrs. John Bradley (Florence Briggs Th...  female  38.0      1      0          PC 17599  71.2833   C85        C\n",
      "2            3       3                             Heikkinen, Miss. Laina  female  26.0      0      0  STON/O2. 3101282   7.9250   NaN        S\n",
      "3            4       1       Futrelle, Mrs. Jacques Heath (Lily May Peel)  female  35.0      1      0            113803  53.1000  C123        S\n",
      "4            5       3                           Allen, Mr. William Henry    male  35.0      0      0            373450   8.0500   NaN        S\n",
      "<======================================== response ========================================>\n",
      "['Survived']\n",
      "<======================================== Descriptive Statistics -X ========================================>\n",
      "       PassengerId    Pclass       Age     SibSp     Parch      Fare\n",
      "count     891.0000  891.0000  714.0000  891.0000  891.0000  891.0000\n",
      "mean      446.0000    2.3086   29.6991    0.5230    0.3816   32.2042\n",
      "std       257.3538    0.8361   14.5265    1.1027    0.8061   49.6934\n",
      "min         1.0000    1.0000    0.4200    0.0000    0.0000    0.0000\n",
      "25%       223.5000    2.0000   20.1250    0.0000    0.0000    7.9104\n",
      "50%       446.0000    3.0000   28.0000    0.0000    0.0000   14.4542\n",
      "75%       668.5000    3.0000   38.0000    1.0000    0.0000   31.0000\n",
      "max       891.0000    3.0000   80.0000    8.0000    6.0000  512.3292\n",
      "<======================================== Descriptive Statistics -y ========================================>\n",
      "       Survived\n",
      "count  891.0000\n",
      "mean     0.3838\n",
      "std      0.4866\n",
      "min      0.0000\n",
      "25%      0.0000\n",
      "50%      0.0000\n",
      "75%      1.0000\n",
      "max      1.0000\n",
      "<======================================== value_count -y ========================================>\n",
      "          Survived\n",
      "Survived          \n",
      "0              549\n",
      "1              342\n",
      "<class 'pandas.core.frame.DataFrame'>\n",
      "RangeIndex: 418 entries, 0 to 417\n",
      "Data columns (total 11 columns):\n",
      "PassengerId    418 non-null int64\n",
      "Pclass         418 non-null int64\n",
      "Name           418 non-null object\n",
      "Sex            418 non-null object\n",
      "Age            332 non-null float64\n",
      "SibSp          418 non-null int64\n",
      "Parch          418 non-null int64\n",
      "Ticket         418 non-null object\n",
      "Fare           417 non-null float64\n",
      "Cabin          91 non-null object\n",
      "Embarked       418 non-null object\n",
      "dtypes: float64(2), int64(4), object(5)\n",
      "memory usage: 36.0+ KB\n",
      "None\n"
     ]
    }
   ],
   "source": [
    "pd.set_option('display.width', 120)\n",
    "pd.set_option('precision', 4)\n",
    "display_data_descriptives(train_dataset,train_X,feature_columns,train_y,response_column)\n",
    "#display_data_descriptives(test_dataset,tfeature_columns,tresponse_column,tcontinuous_vars,tcategorical_vars)\n",
    "print(test_dataset.info())"
   ]
  },
  {
   "cell_type": "code",
   "execution_count": 8,
   "metadata": {
    "collapsed": true
   },
   "outputs": [],
   "source": [
    "categorical = ['Sex', 'Embarked','SibSp','Parch','Pclass']\n",
    "def bar_plots(train_dataset,categorical):\n",
    "    fig = plt.figure(figsize=(16,12))\n",
    "    size =len(categorical)\n",
    "     \n",
    "    for i in range(size):\n",
    "        #counts=train_dataset.groupby(categorical[i])['Survived'].value_counts()\n",
    "        #print(\"Dataset group by {0} \".format(categorical[i]))\n",
    "        #print(counts)\n",
    "        ax = fig.add_subplot(3, 2, i+1)\n",
    "        sns.barplot(x=categorical[i], y=\"Survived\", data=train_dataset,ax=ax)\n",
    "    plt.tight_layout()"
   ]
  },
  {
   "cell_type": "code",
   "execution_count": 9,
   "metadata": {},
   "outputs": [
    {
     "data": {
      "image/png": "[encoded data removed]",
      "text/plain": [
       "<matplotlib.figure.Figure at 0x1820bc1feb8>"
      ]
     },
     "metadata": {},
     "output_type": "display_data"
    }
   ],
   "source": [
    "sns.set(style=\"whitegrid\", color_codes=True)\n",
    "\n",
    "flatui = [\"#9b59b6\", \"#3498db\", \"#95a5a6\", \"#e74c3c\", \"#34495e\", \"#2ecc71\"]\n",
    "pkmn_type_colors = ['#78C850',  # Grass\n",
    "                    '#F08030',  # Fire\n",
    "                    '#6890F0',  # Water\n",
    "                    '#A8B820',  # Bug\n",
    "                    '#A8A878',  # Normal\n",
    "                    '#A040A0',  # Poison\n",
    "                    '#F8D030',  # Electric\n",
    "                    '#E0C068',  # Ground\n",
    "                    '#EE99AC',  # Fairy\n",
    "                    '#C03028',  # Fighting\n",
    "                    '#F85888',  # Psychic\n",
    "                    '#B8A038',  # Rock\n",
    "                    '#705898',  # Ghost\n",
    "                    '#98D8D8',  # Ice\n",
    "                    '#7038F8',  # Dragon\n",
    "                   ]\n",
    "\n",
    "bar_plots(train_dataset,categorical)"
   ]
  },
  {
   "cell_type": "markdown",
   "metadata": {},
   "source": [
    "### Inferences  from bar plots  \n",
    "##### Survival rate of female is more than males in all passenger categories\n",
    "##### Survival rate for passenger class 3 is least\n",
    "##### Survival rate of  passengers boarded at Embarked  at  C is greater than others\n",
    "##### Passengers havings siblings survived better  than  zero siblings\n",
    "##### Passengers travelling alone had less chances of survival than families \n",
    "\n"
   ]
  },
  {
   "cell_type": "code",
   "execution_count": 10,
   "metadata": {
    "collapsed": true
   },
   "outputs": [],
   "source": [
    "#g  = sns.factorplot(x=\"Pclass\", hue=\"Sex\", col=\"Survived\",data=train_dataset, kind=\"count\",size=5, aspect=.7,palette=flatui);\n",
    "#g1 = sns.factorplot(x=\"Embarked\", hue=\"Sex\", col=\"Survived\",data=train_dataset, kind=\"count\",size=5, aspect=.7,palette=flatui);   \n",
    "#g2 = sns.factorplot(x=\"SibSp\", col=\"Survived\",data=train_dataset, kind=\"count\",size=5, aspect=.7,palette=sns.color_palette(\"husl\",2)); \n",
    "#g3 = sns.factorplot(x=\"Parch\", col=\"Survived\",data=train_dataset, kind=\"count\",size=5, aspect=.7,palette=sns.color_palette(\"husl\",2)); "
   ]
  },
  {
   "cell_type": "code",
   "execution_count": 11,
   "metadata": {},
   "outputs": [
    {
     "data": {
      "image/png": "[encoded data removed]",
      "text/plain": [
       "<matplotlib.figure.Figure at 0x1820c65cf60>"
      ]
     },
     "metadata": {},
     "output_type": "display_data"
    }
   ],
   "source": [
    "g = sns.factorplot(x='Sex',y='Survived',hue='Pclass',size=4, aspect=1,palette=flatui ,data =train_dataset)"
   ]
  },
  {
   "cell_type": "markdown",
   "metadata": {},
   "source": [
    "##### Women  from 1st  and 2nd class have 100 % survival\n",
    "##### Men from 2nd and 3rd Pclass have only around 10% survival chance."
   ]
  },
  {
   "cell_type": "code",
   "execution_count": 12,
   "metadata": {},
   "outputs": [
    {
     "data": {
      "image/png": "[encoded data removed]",
      "text/plain": [
       "<matplotlib.figure.Figure at 0x1820c1e57b8>"
      ]
     },
     "metadata": {},
     "output_type": "display_data"
    }
   ],
   "source": [
    "g1 =sns.factorplot(x='Pclass', y='Survived', hue='Sex', col='Embarked', data=train_dataset)"
   ]
  },
  {
   "cell_type": "markdown",
   "metadata": {},
   "source": [
    "##### Males from Pclass 1 only have slightly higher survival chance than Pclass 2 and 3"
   ]
  },
  {
   "cell_type": "code",
   "execution_count": 13,
   "metadata": {
    "collapsed": true
   },
   "outputs": [],
   "source": [
    "#ax  =sns.violinplot(x=\"Embarked\", y=\"Age\", hue=\"Survived\", data=train_dataset, split=True)\n"
   ]
  },
  {
   "cell_type": "markdown",
   "metadata": {},
   "source": [
    "---  \n",
    "### 3. Prepare Data\n",
    "#### a) Data Cleaning\n",
    "#### b) Feature Selection\n",
    "#### c) Data Transforms"
   ]
  },
  {
   "cell_type": "markdown",
   "metadata": {},
   "source": [
    "#### Transform names into  Titles"
   ]
  },
  {
   "cell_type": "code",
   "execution_count": 14,
   "metadata": {
    "collapsed": true
   },
   "outputs": [],
   "source": [
    "full_dataset = [train_dataset, test_dataset]\n",
    "for dataset in full_dataset:\n",
    "    dataset['Title'] = dataset['Name'].str.extract(' ([A-Za-z]+)\\.',expand=False)"
   ]
  },
  {
   "cell_type": "code",
   "execution_count": 15,
   "metadata": {},
   "outputs": [
    {
     "data": {
      "text/plain": [
       "Title     Survived\n",
       "Capt      0             1\n",
       "Col       0             1\n",
       "          1             1\n",
       "Countess  1             1\n",
       "Don       0             1\n",
       "Dr        0             4\n",
       "          1             3\n",
       "Jonkheer  0             1\n",
       "Lady      1             1\n",
       "Major     0             1\n",
       "          1             1\n",
       "Master    1            23\n",
       "          0            17\n",
       "Miss      1           127\n",
       "          0            55\n",
       "Mlle      1             2\n",
       "Mme       1             1\n",
       "Mr        0           436\n",
       "          1            81\n",
       "Mrs       1            99\n",
       "          0            26\n",
       "Ms        1             1\n",
       "Rev       0             6\n",
       "Sir       1             1\n",
       "Name: Survived, dtype: int64"
      ]
     },
     "execution_count": 15,
     "metadata": {},
     "output_type": "execute_result"
    }
   ],
   "source": [
    "train_dataset.groupby('Title')['Survived'].value_counts()"
   ]
  },
  {
   "cell_type": "code",
   "execution_count": 16,
   "metadata": {},
   "outputs": [
    {
     "data": {
      "text/plain": [
       "Title\n",
       "Col         2\n",
       "Dona        1\n",
       "Dr          1\n",
       "Master     21\n",
       "Miss       78\n",
       "Mr        240\n",
       "Mrs        72\n",
       "Ms          1\n",
       "Rev         2\n",
       "Name: Name, dtype: int64"
      ]
     },
     "execution_count": 16,
     "metadata": {},
     "output_type": "execute_result"
    }
   ],
   "source": [
    "test_dataset.groupby('Title')['Name'].count()"
   ]
  },
  {
   "cell_type": "code",
   "execution_count": 17,
   "metadata": {},
   "outputs": [
    {
     "data": {
      "text/html": [
       "<div>\n",
       "<style>\n",
       "    .dataframe thead tr:only-child th {\n",
       "        text-align: right;\n",
       "    }\n",
       "\n",
       "    .dataframe thead th {\n",
       "        text-align: left;\n",
       "    }\n",
       "\n",
       "    .dataframe tbody tr th {\n",
       "        vertical-align: top;\n",
       "    }\n",
       "</style>\n",
       "<table border=\"1\" class=\"dataframe\">\n",
       "  <thead>\n",
       "    <tr style=\"text-align: right;\">\n",
       "      <th></th>\n",
       "      <th>Title</th>\n",
       "      <th>Survived</th>\n",
       "    </tr>\n",
       "  </thead>\n",
       "  <tbody>\n",
       "    <tr>\n",
       "      <th>0</th>\n",
       "      <td>Master</td>\n",
       "      <td>0.5750</td>\n",
       "    </tr>\n",
       "    <tr>\n",
       "      <th>1</th>\n",
       "      <td>Miss</td>\n",
       "      <td>0.7027</td>\n",
       "    </tr>\n",
       "    <tr>\n",
       "      <th>2</th>\n",
       "      <td>Mr</td>\n",
       "      <td>0.1567</td>\n",
       "    </tr>\n",
       "    <tr>\n",
       "      <th>3</th>\n",
       "      <td>Mrs</td>\n",
       "      <td>0.7937</td>\n",
       "    </tr>\n",
       "    <tr>\n",
       "      <th>4</th>\n",
       "      <td>Other</td>\n",
       "      <td>0.3478</td>\n",
       "    </tr>\n",
       "  </tbody>\n",
       "</table>\n",
       "</div>"
      ],
      "text/plain": [
       "    Title  Survived\n",
       "0  Master    0.5750\n",
       "1    Miss    0.7027\n",
       "2      Mr    0.1567\n",
       "3     Mrs    0.7937\n",
       "4   Other    0.3478"
      ]
     },
     "execution_count": 17,
     "metadata": {},
     "output_type": "execute_result"
    }
   ],
   "source": [
    "for dataset in full_dataset:\n",
    "    dataset['Title'] = dataset['Title'].replace(['Lady', 'Countess','Capt', 'Col', 'Don', 'Dr', 'Major', 'Rev', 'Sir', 'Jonkheer', 'Dona'], 'Other')\n",
    "    dataset['Title'] = dataset['Title'].replace('Mlle', 'Miss')\n",
    "    dataset['Title'] = dataset['Title'].replace('Ms', 'Miss')\n",
    "    dataset['Title'] = dataset['Title'].replace('Mme', 'Mrs')\n",
    "    \n",
    "train_dataset[['Title', 'Survived']].groupby(['Title'], as_index=False).mean()"
   ]
  },
  {
   "cell_type": "code",
   "execution_count": 18,
   "metadata": {
    "collapsed": true
   },
   "outputs": [],
   "source": [
    "title_mapping = {\"Mr\": 1, \"Miss\": 2, \"Mrs\": 3, \"Master\": 4, \"Other\": 5}\n",
    "for dataset in full_dataset:\n",
    "    dataset['Title'] = dataset['Title'].map(title_mapping)\n",
    "    dataset['Title'] = dataset['Title'].fillna(0)"
   ]
  },
  {
   "cell_type": "markdown",
   "metadata": {},
   "source": [
    "####  Transform  sex  label in numerical categorical value"
   ]
  },
  {
   "cell_type": "code",
   "execution_count": 19,
   "metadata": {
    "collapsed": true
   },
   "outputs": [],
   "source": [
    "class_lb = LabelBinarizer()\n",
    " \n",
    "train_sex_bin = class_lb.fit_transform(train_dataset['Sex'].values) \n",
    "train_dataset['Sex']=train_sex_bin\n",
    "test_sex_bin =class_lb.transform(test_dataset['Sex'].values)\n",
    "test_dataset['Sex']=test_sex_bin"
   ]
  },
  {
   "cell_type": "markdown",
   "metadata": {},
   "source": [
    "#####  Fill in missing Embarked values \n"
   ]
  },
  {
   "cell_type": "code",
   "execution_count": 20,
   "metadata": {},
   "outputs": [
    {
     "name": "stdout",
     "output_type": "stream",
     "text": [
      "Embarked total count is 889\n",
      "Total trainset is 891 \n",
      "fill missing values with max Embarked counts\n"
     ]
    }
   ],
   "source": [
    "print(\"Embarked total count is {0}\\nTotal trainset is {1} \" .format(train_dataset['Embarked'].describe()['count'],len(train_dataset)) )\n",
    "print(\"fill missing values with max Embarked counts\")"
   ]
  },
  {
   "cell_type": "code",
   "execution_count": 21,
   "metadata": {
    "collapsed": true
   },
   "outputs": [],
   "source": [
    "for dataset in full_dataset:\n",
    "    dataset['Embarked'] = dataset['Embarked'].fillna('S')\n",
    "    dataset['Embarked'] = dataset['Embarked'].map( {'S': 0, 'C': 1, 'Q': 2} ).astype(int)"
   ]
  },
  {
   "cell_type": "markdown",
   "metadata": {},
   "source": [
    "#### Fill in missing age with  median age based on   title "
   ]
  },
  {
   "cell_type": "code",
   "execution_count": 22,
   "metadata": {
    "collapsed": true
   },
   "outputs": [],
   "source": [
    "#train_dataset[\"Age\"].fillna(train_dataset.groupby(\"Title\")[\"Age\"].transform(\"median\"), inplace=True)"
   ]
  },
  {
   "cell_type": "code",
   "execution_count": 23,
   "metadata": {
    "collapsed": true
   },
   "outputs": [],
   "source": [
    "#test_dataset[\"Age\"].fillna(test_dataset.groupby(\"Title\")[\"Age\"].transform(\"median\"), inplace=True)"
   ]
  },
  {
   "cell_type": "code",
   "execution_count": 24,
   "metadata": {
    "collapsed": true
   },
   "outputs": [],
   "source": [
    "#train_dataset['AgeBand'] = pd.cut(train_dataset['Age'], 5)"
   ]
  },
  {
   "cell_type": "code",
   "execution_count": 25,
   "metadata": {},
   "outputs": [
    {
     "name": "stderr",
     "output_type": "stream",
     "text": [
      "F:\\Anaconda2\\envs\\machinelearning\\lib\\site-packages\\ipykernel_launcher.py:7: SettingWithCopyWarning: \n",
      "A value is trying to be set on a copy of a slice from a DataFrame\n",
      "\n",
      "See the caveats in the documentation: http://pandas.pydata.org/pandas-docs/stable/indexing.html#indexing-view-versus-copy\n",
      "  import sys\n"
     ]
    }
   ],
   "source": [
    "for dataset in full_dataset:\n",
    "    age_avg = dataset['Age'].mean()\n",
    "    age_std = dataset['Age'].std()\n",
    "    age_null_count = dataset['Age'].isnull().sum()\n",
    "    \n",
    "    age_null_random_list = np.random.randint(age_avg - age_std, age_avg + age_std, size=age_null_count)\n",
    "    dataset['Age'][np.isnan(dataset['Age'])] = age_null_random_list\n",
    "    dataset['Age'] = dataset['Age'].astype(int)\n",
    "\n",
    "for dataset in full_dataset:\n",
    "    dataset.loc[ dataset['Age'] <= 16, 'Age'] = 0\n",
    "    dataset.loc[(dataset['Age'] > 16) & (dataset['Age'] <= 32), 'Age'] = 1\n",
    "    dataset.loc[(dataset['Age'] > 32) & (dataset['Age'] <= 48), 'Age'] = 2\n",
    "    dataset.loc[(dataset['Age'] > 48) & (dataset['Age'] <= 64), 'Age'] = 3\n",
    "    dataset.loc[ dataset['Age'] > 64, 'Age'] = 4"
   ]
  },
  {
   "cell_type": "code",
   "execution_count": 26,
   "metadata": {},
   "outputs": [
    {
     "data": {
      "text/html": [
       "<div>\n",
       "<style>\n",
       "    .dataframe thead tr:only-child th {\n",
       "        text-align: right;\n",
       "    }\n",
       "\n",
       "    .dataframe thead th {\n",
       "        text-align: left;\n",
       "    }\n",
       "\n",
       "    .dataframe tbody tr th {\n",
       "        vertical-align: top;\n",
       "    }\n",
       "</style>\n",
       "<table border=\"1\" class=\"dataframe\">\n",
       "  <thead>\n",
       "    <tr style=\"text-align: right;\">\n",
       "      <th></th>\n",
       "      <th>PassengerId</th>\n",
       "      <th>Survived</th>\n",
       "      <th>Pclass</th>\n",
       "      <th>Name</th>\n",
       "      <th>Sex</th>\n",
       "      <th>Age</th>\n",
       "      <th>SibSp</th>\n",
       "      <th>Parch</th>\n",
       "      <th>Ticket</th>\n",
       "      <th>Fare</th>\n",
       "      <th>Cabin</th>\n",
       "      <th>Embarked</th>\n",
       "      <th>Title</th>\n",
       "    </tr>\n",
       "  </thead>\n",
       "  <tbody>\n",
       "    <tr>\n",
       "      <th>0</th>\n",
       "      <td>1</td>\n",
       "      <td>0</td>\n",
       "      <td>3</td>\n",
       "      <td>Braund, Mr. Owen Harris</td>\n",
       "      <td>1</td>\n",
       "      <td>1</td>\n",
       "      <td>1</td>\n",
       "      <td>0</td>\n",
       "      <td>A/5 21171</td>\n",
       "      <td>7.2500</td>\n",
       "      <td>NaN</td>\n",
       "      <td>0</td>\n",
       "      <td>1</td>\n",
       "    </tr>\n",
       "    <tr>\n",
       "      <th>1</th>\n",
       "      <td>2</td>\n",
       "      <td>1</td>\n",
       "      <td>1</td>\n",
       "      <td>Cumings, Mrs. John Bradley (Florence Briggs Th...</td>\n",
       "      <td>0</td>\n",
       "      <td>2</td>\n",
       "      <td>1</td>\n",
       "      <td>0</td>\n",
       "      <td>PC 17599</td>\n",
       "      <td>71.2833</td>\n",
       "      <td>C85</td>\n",
       "      <td>1</td>\n",
       "      <td>3</td>\n",
       "    </tr>\n",
       "    <tr>\n",
       "      <th>2</th>\n",
       "      <td>3</td>\n",
       "      <td>1</td>\n",
       "      <td>3</td>\n",
       "      <td>Heikkinen, Miss. Laina</td>\n",
       "      <td>0</td>\n",
       "      <td>1</td>\n",
       "      <td>0</td>\n",
       "      <td>0</td>\n",
       "      <td>STON/O2. 3101282</td>\n",
       "      <td>7.9250</td>\n",
       "      <td>NaN</td>\n",
       "      <td>0</td>\n",
       "      <td>2</td>\n",
       "    </tr>\n",
       "    <tr>\n",
       "      <th>3</th>\n",
       "      <td>4</td>\n",
       "      <td>1</td>\n",
       "      <td>1</td>\n",
       "      <td>Futrelle, Mrs. Jacques Heath (Lily May Peel)</td>\n",
       "      <td>0</td>\n",
       "      <td>2</td>\n",
       "      <td>1</td>\n",
       "      <td>0</td>\n",
       "      <td>113803</td>\n",
       "      <td>53.1000</td>\n",
       "      <td>C123</td>\n",
       "      <td>0</td>\n",
       "      <td>3</td>\n",
       "    </tr>\n",
       "    <tr>\n",
       "      <th>4</th>\n",
       "      <td>5</td>\n",
       "      <td>0</td>\n",
       "      <td>3</td>\n",
       "      <td>Allen, Mr. William Henry</td>\n",
       "      <td>1</td>\n",
       "      <td>2</td>\n",
       "      <td>0</td>\n",
       "      <td>0</td>\n",
       "      <td>373450</td>\n",
       "      <td>8.0500</td>\n",
       "      <td>NaN</td>\n",
       "      <td>0</td>\n",
       "      <td>1</td>\n",
       "    </tr>\n",
       "  </tbody>\n",
       "</table>\n",
       "</div>"
      ],
      "text/plain": [
       "   PassengerId  Survived  Pclass                                               Name  Sex  Age  SibSp  Parch  \\\n",
       "0            1         0       3                            Braund, Mr. Owen Harris    1    1      1      0   \n",
       "1            2         1       1  Cumings, Mrs. John Bradley (Florence Briggs Th...    0    2      1      0   \n",
       "2            3         1       3                             Heikkinen, Miss. Laina    0    1      0      0   \n",
       "3            4         1       1       Futrelle, Mrs. Jacques Heath (Lily May Peel)    0    2      1      0   \n",
       "4            5         0       3                           Allen, Mr. William Henry    1    2      0      0   \n",
       "\n",
       "             Ticket     Fare Cabin  Embarked  Title  \n",
       "0         A/5 21171   7.2500   NaN         0      1  \n",
       "1          PC 17599  71.2833   C85         1      3  \n",
       "2  STON/O2. 3101282   7.9250   NaN         0      2  \n",
       "3            113803  53.1000  C123         0      3  \n",
       "4            373450   8.0500   NaN         0      1  "
      ]
     },
     "execution_count": 26,
     "metadata": {},
     "output_type": "execute_result"
    }
   ],
   "source": [
    "train_dataset.head()"
   ]
  },
  {
   "cell_type": "code",
   "execution_count": 27,
   "metadata": {
    "collapsed": true
   },
   "outputs": [],
   "source": [
    "#print (train_dataset[['AgeBand', 'Survived']].groupby(['AgeBand'], as_index=False).mean())"
   ]
  },
  {
   "cell_type": "markdown",
   "metadata": {},
   "source": [
    "####  Transform Fare "
   ]
  },
  {
   "cell_type": "code",
   "execution_count": 28,
   "metadata": {},
   "outputs": [
    {
     "name": "stdout",
     "output_type": "stream",
     "text": [
      "          FareBand  Survived\n",
      "0   (-0.001, 7.91]    0.1973\n",
      "1   (7.91, 14.454]    0.3036\n",
      "2   (14.454, 31.0]    0.4550\n",
      "3  (31.0, 512.329]    0.5811\n"
     ]
    }
   ],
   "source": [
    "for dataset in full_dataset:\n",
    "    dataset['Fare'] = dataset['Fare'].fillna(train_dataset['Fare'].median())\n",
    "    \n",
    "train_dataset['FareBand'] = pd.qcut(train_dataset['Fare'], 4)\n",
    "print (train_dataset[['FareBand', 'Survived']].groupby(['FareBand'], as_index=False).mean())\n",
    "\n",
    "for dataset in full_dataset:\n",
    "    dataset.loc[ dataset['Fare'] <= 7.91, 'Fare'] = 0\n",
    "    dataset.loc[(dataset['Fare'] > 7.91) & (dataset['Fare'] <= 14.454), 'Fare'] = 1\n",
    "    dataset.loc[(dataset['Fare'] > 14.454) & (dataset['Fare'] <= 31), 'Fare']   = 2\n",
    "    dataset.loc[ dataset['Fare'] > 31, 'Fare'] = 3\n",
    "    dataset['Fare'] = dataset['Fare'].astype(int)"
   ]
  },
  {
   "cell_type": "code",
   "execution_count": 29,
   "metadata": {},
   "outputs": [
    {
     "data": {
      "text/html": [
       "<div>\n",
       "<style>\n",
       "    .dataframe thead tr:only-child th {\n",
       "        text-align: right;\n",
       "    }\n",
       "\n",
       "    .dataframe thead th {\n",
       "        text-align: left;\n",
       "    }\n",
       "\n",
       "    .dataframe tbody tr th {\n",
       "        vertical-align: top;\n",
       "    }\n",
       "</style>\n",
       "<table border=\"1\" class=\"dataframe\">\n",
       "  <thead>\n",
       "    <tr style=\"text-align: right;\">\n",
       "      <th></th>\n",
       "      <th>PassengerId</th>\n",
       "      <th>Survived</th>\n",
       "      <th>Pclass</th>\n",
       "      <th>Name</th>\n",
       "      <th>Sex</th>\n",
       "      <th>Age</th>\n",
       "      <th>SibSp</th>\n",
       "      <th>Parch</th>\n",
       "      <th>Ticket</th>\n",
       "      <th>Fare</th>\n",
       "      <th>Cabin</th>\n",
       "      <th>Embarked</th>\n",
       "      <th>Title</th>\n",
       "      <th>FareBand</th>\n",
       "    </tr>\n",
       "  </thead>\n",
       "  <tbody>\n",
       "    <tr>\n",
       "      <th>0</th>\n",
       "      <td>1</td>\n",
       "      <td>0</td>\n",
       "      <td>3</td>\n",
       "      <td>Braund, Mr. Owen Harris</td>\n",
       "      <td>1</td>\n",
       "      <td>1</td>\n",
       "      <td>1</td>\n",
       "      <td>0</td>\n",
       "      <td>A/5 21171</td>\n",
       "      <td>0</td>\n",
       "      <td>NaN</td>\n",
       "      <td>0</td>\n",
       "      <td>1</td>\n",
       "      <td>(-0.001, 7.91]</td>\n",
       "    </tr>\n",
       "    <tr>\n",
       "      <th>1</th>\n",
       "      <td>2</td>\n",
       "      <td>1</td>\n",
       "      <td>1</td>\n",
       "      <td>Cumings, Mrs. John Bradley (Florence Briggs Th...</td>\n",
       "      <td>0</td>\n",
       "      <td>2</td>\n",
       "      <td>1</td>\n",
       "      <td>0</td>\n",
       "      <td>PC 17599</td>\n",
       "      <td>3</td>\n",
       "      <td>C85</td>\n",
       "      <td>1</td>\n",
       "      <td>3</td>\n",
       "      <td>(31.0, 512.329]</td>\n",
       "    </tr>\n",
       "    <tr>\n",
       "      <th>2</th>\n",
       "      <td>3</td>\n",
       "      <td>1</td>\n",
       "      <td>3</td>\n",
       "      <td>Heikkinen, Miss. Laina</td>\n",
       "      <td>0</td>\n",
       "      <td>1</td>\n",
       "      <td>0</td>\n",
       "      <td>0</td>\n",
       "      <td>STON/O2. 3101282</td>\n",
       "      <td>1</td>\n",
       "      <td>NaN</td>\n",
       "      <td>0</td>\n",
       "      <td>2</td>\n",
       "      <td>(7.91, 14.454]</td>\n",
       "    </tr>\n",
       "    <tr>\n",
       "      <th>3</th>\n",
       "      <td>4</td>\n",
       "      <td>1</td>\n",
       "      <td>1</td>\n",
       "      <td>Futrelle, Mrs. Jacques Heath (Lily May Peel)</td>\n",
       "      <td>0</td>\n",
       "      <td>2</td>\n",
       "      <td>1</td>\n",
       "      <td>0</td>\n",
       "      <td>113803</td>\n",
       "      <td>3</td>\n",
       "      <td>C123</td>\n",
       "      <td>0</td>\n",
       "      <td>3</td>\n",
       "      <td>(31.0, 512.329]</td>\n",
       "    </tr>\n",
       "    <tr>\n",
       "      <th>4</th>\n",
       "      <td>5</td>\n",
       "      <td>0</td>\n",
       "      <td>3</td>\n",
       "      <td>Allen, Mr. William Henry</td>\n",
       "      <td>1</td>\n",
       "      <td>2</td>\n",
       "      <td>0</td>\n",
       "      <td>0</td>\n",
       "      <td>373450</td>\n",
       "      <td>1</td>\n",
       "      <td>NaN</td>\n",
       "      <td>0</td>\n",
       "      <td>1</td>\n",
       "      <td>(7.91, 14.454]</td>\n",
       "    </tr>\n",
       "  </tbody>\n",
       "</table>\n",
       "</div>"
      ],
      "text/plain": [
       "   PassengerId  Survived  Pclass                                               Name  Sex  Age  SibSp  Parch  \\\n",
       "0            1         0       3                            Braund, Mr. Owen Harris    1    1      1      0   \n",
       "1            2         1       1  Cumings, Mrs. John Bradley (Florence Briggs Th...    0    2      1      0   \n",
       "2            3         1       3                             Heikkinen, Miss. Laina    0    1      0      0   \n",
       "3            4         1       1       Futrelle, Mrs. Jacques Heath (Lily May Peel)    0    2      1      0   \n",
       "4            5         0       3                           Allen, Mr. William Henry    1    2      0      0   \n",
       "\n",
       "             Ticket  Fare Cabin  Embarked  Title         FareBand  \n",
       "0         A/5 21171     0   NaN         0      1   (-0.001, 7.91]  \n",
       "1          PC 17599     3   C85         1      3  (31.0, 512.329]  \n",
       "2  STON/O2. 3101282     1   NaN         0      2   (7.91, 14.454]  \n",
       "3            113803     3  C123         0      3  (31.0, 512.329]  \n",
       "4            373450     1   NaN         0      1   (7.91, 14.454]  "
      ]
     },
     "execution_count": 29,
     "metadata": {},
     "output_type": "execute_result"
    }
   ],
   "source": [
    "train_dataset.head()"
   ]
  },
  {
   "cell_type": "code",
   "execution_count": 30,
   "metadata": {},
   "outputs": [
    {
     "name": "stdout",
     "output_type": "stream",
     "text": [
      "   IsAlone  Survived\n",
      "0        0    0.5056\n",
      "1        1    0.3035\n"
     ]
    }
   ],
   "source": [
    "for dataset in full_dataset:\n",
    "    dataset['FamilySize'] = dataset['SibSp'] +  dataset['Parch'] + 1\n",
    "    dataset['IsAlone'] = 0\n",
    "    dataset.loc[dataset['FamilySize'] == 1, 'IsAlone'] = 1\n",
    "    \n",
    "print (train_dataset[['IsAlone', 'Survived']].groupby(['IsAlone'], as_index=False).mean())\n"
   ]
  },
  {
   "cell_type": "markdown",
   "metadata": {},
   "source": [
    "#### Feature Selection"
   ]
  },
  {
   "cell_type": "code",
   "execution_count": 31,
   "metadata": {
    "collapsed": true
   },
   "outputs": [],
   "source": [
    "features_drop = ['Name', 'SibSp', 'Parch', 'Ticket', 'Cabin', 'FamilySize']\n",
    "train_dataset = train_dataset.drop(features_drop, axis=1)\n",
    "test_dataset = test_dataset.drop(features_drop, axis=1)\n",
    "train_dataset = train_dataset.drop(['PassengerId', 'FareBand'], axis=1)"
   ]
  },
  {
   "cell_type": "code",
   "execution_count": 32,
   "metadata": {},
   "outputs": [
    {
     "name": "stdout",
     "output_type": "stream",
     "text": [
      "<class 'pandas.core.frame.DataFrame'>\n",
      "RangeIndex: 891 entries, 0 to 890\n",
      "Data columns (total 8 columns):\n",
      "Survived    891 non-null int64\n",
      "Pclass      891 non-null int64\n",
      "Sex         891 non-null int32\n",
      "Age         891 non-null int32\n",
      "Fare        891 non-null int32\n",
      "Embarked    891 non-null int32\n",
      "Title       891 non-null int64\n",
      "IsAlone     891 non-null int64\n",
      "dtypes: int32(4), int64(4)\n",
      "memory usage: 41.8 KB\n"
     ]
    }
   ],
   "source": [
    "train_dataset.head()\n",
    "train_dataset.info()"
   ]
  },
  {
   "cell_type": "code",
   "execution_count": 33,
   "metadata": {},
   "outputs": [
    {
     "data": {
      "text/html": [
       "<div>\n",
       "<style>\n",
       "    .dataframe thead tr:only-child th {\n",
       "        text-align: right;\n",
       "    }\n",
       "\n",
       "    .dataframe thead th {\n",
       "        text-align: left;\n",
       "    }\n",
       "\n",
       "    .dataframe tbody tr th {\n",
       "        vertical-align: top;\n",
       "    }\n",
       "</style>\n",
       "<table border=\"1\" class=\"dataframe\">\n",
       "  <thead>\n",
       "    <tr style=\"text-align: right;\">\n",
       "      <th></th>\n",
       "      <th>PassengerId</th>\n",
       "      <th>Pclass</th>\n",
       "      <th>Sex</th>\n",
       "      <th>Age</th>\n",
       "      <th>Fare</th>\n",
       "      <th>Embarked</th>\n",
       "      <th>Title</th>\n",
       "      <th>IsAlone</th>\n",
       "    </tr>\n",
       "  </thead>\n",
       "  <tbody>\n",
       "    <tr>\n",
       "      <th>0</th>\n",
       "      <td>892</td>\n",
       "      <td>3</td>\n",
       "      <td>1</td>\n",
       "      <td>2</td>\n",
       "      <td>0</td>\n",
       "      <td>2</td>\n",
       "      <td>1</td>\n",
       "      <td>1</td>\n",
       "    </tr>\n",
       "    <tr>\n",
       "      <th>1</th>\n",
       "      <td>893</td>\n",
       "      <td>3</td>\n",
       "      <td>0</td>\n",
       "      <td>2</td>\n",
       "      <td>0</td>\n",
       "      <td>0</td>\n",
       "      <td>3</td>\n",
       "      <td>0</td>\n",
       "    </tr>\n",
       "    <tr>\n",
       "      <th>2</th>\n",
       "      <td>894</td>\n",
       "      <td>2</td>\n",
       "      <td>1</td>\n",
       "      <td>3</td>\n",
       "      <td>1</td>\n",
       "      <td>2</td>\n",
       "      <td>1</td>\n",
       "      <td>1</td>\n",
       "    </tr>\n",
       "    <tr>\n",
       "      <th>3</th>\n",
       "      <td>895</td>\n",
       "      <td>3</td>\n",
       "      <td>1</td>\n",
       "      <td>1</td>\n",
       "      <td>1</td>\n",
       "      <td>0</td>\n",
       "      <td>1</td>\n",
       "      <td>1</td>\n",
       "    </tr>\n",
       "    <tr>\n",
       "      <th>4</th>\n",
       "      <td>896</td>\n",
       "      <td>3</td>\n",
       "      <td>0</td>\n",
       "      <td>1</td>\n",
       "      <td>1</td>\n",
       "      <td>0</td>\n",
       "      <td>3</td>\n",
       "      <td>0</td>\n",
       "    </tr>\n",
       "  </tbody>\n",
       "</table>\n",
       "</div>"
      ],
      "text/plain": [
       "   PassengerId  Pclass  Sex  Age  Fare  Embarked  Title  IsAlone\n",
       "0          892       3    1    2     0         2      1        1\n",
       "1          893       3    0    2     0         0      3        0\n",
       "2          894       2    1    3     1         2      1        1\n",
       "3          895       3    1    1     1         0      1        1\n",
       "4          896       3    0    1     1         0      3        0"
      ]
     },
     "execution_count": 33,
     "metadata": {},
     "output_type": "execute_result"
    }
   ],
   "source": [
    "test_dataset.head()"
   ]
  },
  {
   "cell_type": "markdown",
   "metadata": {},
   "source": [
    "### 4. Evaluate Algorithms\n",
    "####  a) Split-out validation dataset\n",
    "####  b) Test options and evaluation metric\n",
    "####  c) Spot Check Algorithms\n",
    "####  d) Compare Algorithms"
   ]
  },
  {
   "cell_type": "code",
   "execution_count": 34,
   "metadata": {},
   "outputs": [
    {
     "data": {
      "text/plain": [
       "((891, 7), (891,), (418, 7))"
      ]
     },
     "execution_count": 34,
     "metadata": {},
     "output_type": "execute_result"
    }
   ],
   "source": [
    "X_train = train_dataset.drop('Survived', axis=1)\n",
    "y_train = train_dataset['Survived']\n",
    "X_test = test_dataset.drop(\"PassengerId\", axis=1).copy()\n",
    "\n",
    "X_train.shape, y_train.shape, X_test.shape\n"
   ]
  },
  {
   "cell_type": "code",
   "execution_count": 35,
   "metadata": {
    "collapsed": true
   },
   "outputs": [],
   "source": [
    "from sklearn.model_selection  import  train_test_split\n",
    "from sklearn.linear_model  import LogisticRegression\n",
    "test_size = 0.33\n",
    "seed = 7\n",
    "\n",
    "X_trainmodel, X_val, y_trainmodel, y_val = train_test_split(X_train, y_train, test_size=test_size,random_state=seed)"
   ]
  },
  {
   "cell_type": "code",
   "execution_count": 36,
   "metadata": {},
   "outputs": [
    {
     "data": {
      "text/plain": [
       "pandas.core.frame.DataFrame"
      ]
     },
     "execution_count": 36,
     "metadata": {},
     "output_type": "execute_result"
    }
   ],
   "source": [
    " type(X_train)"
   ]
  },
  {
   "cell_type": "code",
   "execution_count": 37,
   "metadata": {},
   "outputs": [
    {
     "name": "stdout",
     "output_type": "stream",
     "text": [
      "Accuracy: 82.047\n"
     ]
    }
   ],
   "source": [
    "logrmodel = LogisticRegression()\n",
    "logrmodel.fit(X_trainmodel, y_trainmodel.values.ravel())\n",
    "result = logrmodel.score(X_trainmodel, y_trainmodel.values)\n",
    "print (\"Accuracy: {0:.3f}\".format(result*100.0))"
   ]
  },
  {
   "cell_type": "code",
   "execution_count": 38,
   "metadata": {},
   "outputs": [
    {
     "name": "stdout",
     "output_type": "stream",
     "text": [
      "Accuracy: 82.550\n"
     ]
    }
   ],
   "source": [
    "logrmodel_l1 = LogisticRegression(penalty='l1', C=1.0)\n",
    "logrmodel_l1 .fit(X_trainmodel, y_trainmodel.values.ravel())\n",
    "result = logrmodel_l1 .score(X_trainmodel, y_trainmodel.values)\n",
    "print (\"Accuracy: {0:.3f}\".format(result*100.0))"
   ]
  },
  {
   "cell_type": "code",
   "execution_count": 39,
   "metadata": {},
   "outputs": [
    {
     "name": "stdout",
     "output_type": "stream",
     "text": [
      "80.54\n"
     ]
    }
   ],
   "source": [
    "from sklearn.svm import LinearSVC\n",
    "lin_svc = LinearSVC()\n",
    "lin_svc.fit(X_trainmodel, y_trainmodel.values.ravel())\n",
    "#y_pred_linear_svc = lin_svc.predict(X_test)\n",
    "acc_linear_svc = round(lin_svc.score(X_trainmodel, y_trainmodel) * 100, 2)\n",
    "print (acc_linear_svc)"
   ]
  },
  {
   "cell_type": "code",
   "execution_count": 40,
   "metadata": {
    "collapsed": true
   },
   "outputs": [],
   "source": [
    "from sklearn.model_selection import KFold\n",
    "from sklearn.model_selection import cross_val_score\n",
    "def train_and_evaluate(model, X_train, y_train, t_splits =10,seed=7):\n",
    "    model.fit(X_train, y_train)\n",
    "    print (\"Coefficient of determination on training set:\",model.score(X_train, y_train))\n",
    "    # create a k-fold cross validation iterator of k=5 folds\n",
    "    cv = KFold(n_splits= t_splits,shuffle=True, random_state=seed)\n",
    "    scores = cross_val_score(model, X_train, y_train, cv=cv)\n",
    "    print(scores)\n",
    "    print (\"Average coefficient of determination using {0}-fold crossvalidation:{1}\".format(t_splits,np.mean(scores)))"
   ]
  },
  {
   "cell_type": "code",
   "execution_count": 41,
   "metadata": {},
   "outputs": [
    {
     "name": "stdout",
     "output_type": "stream",
     "text": [
      "Coefficient of determination on training set: 0.805369127517\n",
      "[ 0.8167  0.7833  0.8667  0.75    0.75    0.8167  0.8475  0.8136  0.8475\n",
      "  0.7119]\n",
      "Average coefficient of determination using 10-fold crossvalidation:0.800367231638418\n"
     ]
    }
   ],
   "source": [
    "from sklearn.discriminant_analysis import LinearDiscriminantAnalysis\n",
    "lda_model = LinearDiscriminantAnalysis()\n",
    "train_and_evaluate(lda_model,X_trainmodel, y_trainmodel.values.ravel(),10,7)"
   ]
  },
  {
   "cell_type": "code",
   "execution_count": 56,
   "metadata": {
    "collapsed": true
   },
   "outputs": [],
   "source": [
    "from sklearn.model_selection import KFold\n",
    "from sklearn.model_selection import cross_val_score\n",
    "from sklearn.preprocessing import StandardScaler\n",
    "from sklearn.linear_model import LogisticRegression\n",
    "from sklearn.tree import DecisionTreeClassifier\n",
    "from sklearn.neighbors import KNeighborsClassifier\n",
    "from sklearn.discriminant_analysis import LinearDiscriminantAnalysis\n",
    "from sklearn.naive_bayes import GaussianNB\n",
    "from sklearn.svm import SVC\n",
    "from sklearn.svm import LinearSVC\n",
    "from sklearn.ensemble import RandomForestClassifier\n",
    "from sklearn.ensemble import ExtraTreesClassifier\n",
    "from sklearn.ensemble import AdaBoostClassifier\n",
    "from sklearn.ensemble import GradientBoostingClassifier\n",
    "from sklearn.pipeline import Pipeline"
   ]
  },
  {
   "cell_type": "code",
   "execution_count": 69,
   "metadata": {},
   "outputs": [
    {
     "name": "stdout",
     "output_type": "stream",
     "text": [
      "Accuracy of LR is 0.8087288135593221 with variance 0.06178573151713022\n",
      "Accuracy of LDA is 0.8037005649717515 with variance 0.055456869961540825\n",
      "Accuracy of DT is 0.8070056497175141 with variance 0.06694602962989853\n",
      "Accuracy of KNN is 0.7986158192090395 with variance 0.036246240343435925\n",
      "Accuracy of GB is 0.7987570621468927 with variance 0.053591851667611455\n",
      "Accuracy of SVM is 0.8237005649717514 with variance 0.04769520336085228\n",
      "Accuracy of LIN-SVC is 0.8053389830508475 with variance 0.05611444515759636\n",
      "Accuracy of RFC is 0.7969774011299434 with variance 0.05544832208898628\n",
      "Accuracy of ETC is 0.805310734463277 with variance 0.06068725007619363\n",
      "Accuracy of ABC is 0.8221468926553672 with variance 0.05074238987818734\n",
      "Accuracy of GBM is 0.8322033898305085 with variance 0.05640387776832172\n"
     ]
    },
    {
     "data": {
      "image/png": "[encoded data removed]",
      "text/plain": [
       "<matplotlib.figure.Figure at 0x1820c7e6128>"
      ]
     },
     "metadata": {},
     "output_type": "display_data"
    }
   ],
   "source": [
    "models = []\n",
    "models.append(('LR', LogisticRegression()))\n",
    "models.append(('LDA', LinearDiscriminantAnalysis()))\n",
    "models.append(('DT',DecisionTreeClassifier()))\n",
    "models.append(('KNN',KNeighborsClassifier()))\n",
    "models.append(('GB',GaussianNB()))\n",
    "models.append(('SVC',SVC(C=2.5)))\n",
    "models.append(('LIN-SVC',LinearSVC()))\n",
    "models.append(('RFC',RandomForestClassifier()))\n",
    "models.append(('ETC',ExtraTreesClassifier()))\n",
    "models.append(('ABC',AdaBoostClassifier()))\n",
    "models.append(('GBM', GradientBoostingClassifier()))\n",
    "# evaluate each model in turn\n",
    "results = []\n",
    "names = []\n",
    "scoring = 'accuracy'\n",
    "for name, model in models:\n",
    "    kfold = KFold(n_splits=10, random_state=7)\n",
    "    cv_results = cross_val_score(model, X_trainmodel, y_trainmodel.values.ravel(), cv=kfold, scoring=scoring)\n",
    "    results.append(cv_results)\n",
    "    names.append(name)\n",
    "    msg = \"Accuracy of {0} is {1} with variance {2}\".format(name, cv_results.mean(), cv_results.std())\n",
    "    print(msg)\n",
    "fig = plt.figure()\n",
    "fig.suptitle('Algorithm Comparison')\n",
    "ax = fig.add_subplot(111)\n",
    "plt.boxplot(results)\n",
    "ax.set_xticklabels(names)\n",
    "plt.show()"
   ]
  },
  {
   "cell_type": "code",
   "execution_count": 47,
   "metadata": {
    "collapsed": true
   },
   "outputs": [],
   "source": [
    "from sklearn import metrics\n",
    "def measure_performance(X, y, clf, show_accuracy=True,show_classification_report=True,\n",
    "                        show_confusion_matrix=True, show_r2_score=False):\n",
    "    y_pred = clf.predict(X) \n",
    "    if show_accuracy:\n",
    "        print (\"Accuracy:{0:.3f}\".format( metrics.accuracy_score(y, y_pred)),\"\\n\" )\n",
    "    if show_classification_report:\n",
    "        print (\"Classification report\")\n",
    "        print (metrics.classification_report(y, y_pred),\"\\n\")\n",
    "    if show_confusion_matrix:\n",
    "        print(\"Confusion matrix\") \n",
    "        print(metrics.confusion_matrix(y, y_pred),\"\\n\")\n",
    "    if show_r2_score:\n",
    "        print (\"Coefficient of determination:{0:.3f}\"\n",
    "               .format( metrics.r2_score(y, y_pred)),\"\\n\")\n",
    "    return y_pred"
   ]
  },
  {
   "cell_type": "code",
   "execution_count": 68,
   "metadata": {},
   "outputs": [
    {
     "name": "stdout",
     "output_type": "stream",
     "text": [
      "Classification report\n",
      "             precision    recall  f1-score   support\n",
      "\n",
      "          0       0.79      0.86      0.82       176\n",
      "          1       0.76      0.66      0.71       119\n",
      "\n",
      "avg / total       0.78      0.78      0.78       295\n",
      " \n",
      "\n",
      "Confusion matrix\n",
      "[[152  24]\n",
      " [ 41  78]] \n",
      "\n"
     ]
    }
   ],
   "source": []
  },
  {
   "cell_type": "code",
   "execution_count": 49,
   "metadata": {},
   "outputs": [
    {
     "name": "stdout",
     "output_type": "stream",
     "text": [
      "Classification report\n",
      "             precision    recall  f1-score   support\n",
      "\n",
      "          0       0.79      0.90      0.84       176\n",
      "          1       0.81      0.66      0.73       119\n",
      "\n",
      "avg / total       0.80      0.80      0.80       295\n",
      " \n",
      "\n",
      "Confusion matrix\n",
      "[[158  18]\n",
      " [ 41  78]] \n",
      "\n"
     ]
    }
   ],
   "source": [
    "rfc =RandomForestClassifier(n_estimators=500)\n",
    "rfc.fit(X_trainmodel, y_trainmodel.values.ravel())\n",
    "y_pred_val=measure_performance(X_val,y_val,rfc, show_accuracy=False, \n",
    "                    show_classification_report=True,\n",
    "                    show_confusion_matrix=True, show_r2_score=False)"
   ]
  },
  {
   "cell_type": "code",
   "execution_count": 50,
   "metadata": {
    "collapsed": true
   },
   "outputs": [],
   "source": [
    "y_pred_random_forest=rfc.predict(X_test)"
   ]
  },
  {
   "cell_type": "code",
   "execution_count": 51,
   "metadata": {},
   "outputs": [
    {
     "name": "stdout",
     "output_type": "stream",
     "text": [
      "Classification report\n",
      "             precision    recall  f1-score   support\n",
      "\n",
      "          0       0.77      0.91      0.84       176\n",
      "          1       0.83      0.61      0.70       119\n",
      "\n",
      "avg / total       0.80      0.79      0.78       295\n",
      " \n",
      "\n",
      "Confusion matrix\n",
      "[[161  15]\n",
      " [ 47  72]] \n",
      "\n"
     ]
    }
   ],
   "source": [
    "etc =ExtraTreesClassifier()\n",
    "etc.fit(X_trainmodel, y_trainmodel.values.ravel())\n",
    "y_pred=measure_performance(X_val,y_val,etc, show_accuracy=False, \n",
    "                    show_classification_report=True,\n",
    "                    show_confusion_matrix=True, show_r2_score=False)"
   ]
  },
  {
   "cell_type": "code",
   "execution_count": 57,
   "metadata": {
    "collapsed": true
   },
   "outputs": [],
   "source": [
    "def evaluvate_pipeline(X_train,y_train,estimators):\n",
    "    \n",
    "    # create pipeline\n",
    "    \n",
    "    model = Pipeline(estimators)\n",
    "    # evaluate pipeline\n",
    "    kfold = KFold(n_splits=10, random_state=7)\n",
    "    scores = cross_val_score(model, X_train, y_train.values.ravel(), cv=kfold)\n",
    "    \n",
    "    return scores,model"
   ]
  },
  {
   "cell_type": "code",
   "execution_count": 60,
   "metadata": {},
   "outputs": [
    {
     "name": "stdout",
     "output_type": "stream",
     "text": [
      "0.803700564972\n",
      "Accuracy:0.753 \n",
      "\n",
      "Classification report\n",
      "             precision    recall  f1-score   support\n",
      "\n",
      "          0       0.78      0.82      0.80       176\n",
      "          1       0.71      0.65      0.68       119\n",
      "\n",
      "avg / total       0.75      0.75      0.75       295\n",
      " \n",
      "\n",
      "Confusion matrix\n",
      "[[145  31]\n",
      " [ 42  77]] \n",
      "\n"
     ]
    }
   ],
   "source": [
    "estimators =[]\n",
    "estimators.append(('standardize', StandardScaler()))\n",
    "estimators.append(('lda', LinearDiscriminantAnalysis()))\n",
    "scores,pipeline = evaluvate_pipeline(X_trainmodel, y_trainmodel,estimators)\n",
    "print(scores.mean())\n",
    "pipeline.fit(X_trainmodel,y_trainmodel.ravel())\n",
    "y_pred = measure_performance(X_val,y_val,pipeline, show_accuracy=True, \n",
    "                    show_classification_report=True,\n",
    "                    show_confusion_matrix=True, show_r2_score=False)"
   ]
  },
  {
   "cell_type": "code",
   "execution_count": 73,
   "metadata": {},
   "outputs": [
    {
     "name": "stdout",
     "output_type": "stream",
     "text": [
      "0.825423728814\n",
      "Classification report\n",
      "             precision    recall  f1-score   support\n",
      "\n",
      "          0       0.79      0.86      0.82       176\n",
      "          1       0.76      0.66      0.71       119\n",
      "\n",
      "avg / total       0.78      0.78      0.78       295\n",
      " \n",
      "\n",
      "Confusion matrix\n",
      "[[152  24]\n",
      " [ 41  78]] \n",
      "\n"
     ]
    }
   ],
   "source": [
    "\n",
    "estimators =[]\n",
    "estimators.append(('standardize', StandardScaler()))\n",
    "estimators.append(('svc',SVC()))\n",
    "scores,pipeline = evaluvate_pipeline(X_trainmodel, y_trainmodel,estimators)\n",
    "print(scores.mean())\n",
    "pipeline.fit(X_trainmodel, y_trainmodel.values.ravel())\n",
    "y_pred=measure_performance(X_val,y_val,svc, show_accuracy=False, \n",
    "                    show_classification_report=True,\n",
    "                    show_confusion_matrix=True, show_r2_score=False)"
   ]
  },
  {
   "cell_type": "code",
   "execution_count": 95,
   "metadata": {},
   "outputs": [
    {
     "name": "stdout",
     "output_type": "stream",
     "text": [
      "GradientBoostingClassifier(criterion='friedman_mse', init=None,\n",
      "              learning_rate=0.1, loss='deviance', max_depth=3,\n",
      "              max_features=None, max_leaf_nodes=None,\n",
      "              min_impurity_split=1e-07, min_samples_leaf=1,\n",
      "              min_samples_split=2, min_weight_fraction_leaf=0.0,\n",
      "              n_estimators=100, presort='auto', random_state=None,\n",
      "              subsample=1.0, verbose=0, warm_start=False)\n",
      "Classification report\n",
      "             precision    recall  f1-score   support\n",
      "\n",
      "          0       0.81      0.88      0.84       176\n",
      "          1       0.80      0.70      0.74       119\n",
      "\n",
      "avg / total       0.81      0.81      0.80       295\n",
      " \n",
      "\n",
      "Confusion matrix\n",
      "[[155  21]\n",
      " [ 36  83]] \n",
      "\n"
     ]
    }
   ],
   "source": [
    "gbm=GradientBoostingClassifier()\n",
    "print(gbm)\n",
    "gbm.fit(X_trainmodel, y_trainmodel.values.ravel())\n",
    "y_pred=measure_performance(X_val,y_val,gbm, show_accuracy=False, \n",
    "                    show_classification_report=True,\n",
    "                    show_confusion_matrix=True, show_r2_score=False)\n",
    "y_pred_result=gbm.predict(X_test)\n",
    "\n"
   ]
  },
  {
   "cell_type": "code",
   "execution_count": null,
   "metadata": {
    "collapsed": true
   },
   "outputs": [],
   "source": [
    "from sklearn.model_selection import GridSearchCV"
   ]
  },
  {
   "cell_type": "code",
   "execution_count": 66,
   "metadata": {
    "collapsed": true
   },
   "outputs": [],
   "source": [
    "submission = pd.DataFrame({\n",
    "        \"PassengerId\": test_X[\"PassengerId\"],\n",
    "        \"Survived\": y_pred_result\n",
    "    })\n",
    "submission.to_csv('submission.csv', index=False)"
   ]
  },
  {
   "cell_type": "code",
   "execution_count": null,
   "metadata": {
    "collapsed": true
   },
   "outputs": [],
   "source": []
  }
 ],
 "metadata": {
  "kernelspec": {
   "display_name": "Python 3",
   "language": "python",
   "name": "python3"
  },
  "language_info": {
   "codemirror_mode": {
    "name": "ipython",
    "version": 3
   },
   "file_extension": ".py",
   "mimetype": "text/x-python",
   "name": "python",
   "nbconvert_exporter": "python",
   "pygments_lexer": "ipython3",
   "version": "3.5.3"
  }
 },
 "nbformat": 4,
 "nbformat_minor": 2
}
