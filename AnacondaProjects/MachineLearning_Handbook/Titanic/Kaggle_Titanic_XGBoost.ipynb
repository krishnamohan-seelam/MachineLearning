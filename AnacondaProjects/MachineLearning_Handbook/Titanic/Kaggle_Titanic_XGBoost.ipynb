{
 "cells": [
  {
   "cell_type": "markdown",
   "metadata": {},
   "source": [
    "# Title- Titanic: Machine Learning from Disaster\n",
    "\n",
    "### Competition Description\n",
    "\n",
    "The sinking of the RMS Titanic is one of the most infamous shipwrecks in history.  On April 15, 1912, during her maiden voyage, the Titanic sank after colliding with an iceberg, killing 1502 out of 2224 passengers and crew. This sensational tragedy shocked the international community and led to better safety regulations for ships.\n",
    "\n",
    "One of the reasons that the shipwreck led to such loss of life was that there were not enough lifeboats for the passengers and crew. Although there was some element of luck involved in surviving the sinking, some groups of people were more likely to survive than others, such as women, children, and the upper-class.\n",
    "\n",
    "In this challenge, we ask you to complete the analysis of what sorts of people were likely to survive. In particular, we ask you to apply the tools of machine learning to predict which passengers survived the tragedy.\n",
    "\n",
    "#### Practice Skills\n",
    "###### Binary classification "
   ]
  },
  {
   "cell_type": "markdown",
   "metadata": {},
   "source": [
    "### Overview\n",
    "The data has been split into two groups:\n",
    "\n",
    "training set (train.csv)\n",
    "test set (test.csv)\n",
    "\n",
    "The training set should be used to build your machine learning models. For the training set, we provide the outcome (also known as the “ground truth”) for each passenger. Your model will be based on “features” like passengers’ gender and class. You can also use feature engineering to create new features.\n",
    "\n",
    "The test set should be used to see how well your model performs on unseen data. For the test set, we do not provide the ground truth for each passenger. It is your job to predict these outcomes. For each passenger in the test set, use the model you trained to predict whether or not they survived the sinking of the Titanic.\n",
    "\n",
    "We also include gender_submission.csv, a set of predictions that assume all and only female passengers survive, as an example of what a submission file should look like.\n",
    "\n",
    "----\n",
    "### Data Dictionary\n",
    "\n",
    "<table>\n",
    "<tbody>\n",
    "<tr><th><b>Variable</b></th><th><b>Definition</b></th><th><b>Key</b></th></tr>\n",
    "<tr>\n",
    "<td>survival</td>\n",
    "<td>Survival</td>\n",
    "<td>0 = No, 1 = Yes</td>\n",
    "</tr>\n",
    "<tr>\n",
    "<td>pclass</td>\n",
    "<td>Ticket class</td>\n",
    "<td>1 = 1st, 2 = 2nd, 3 = 3rd</td>\n",
    "</tr>\n",
    "<tr>\n",
    "<td>sex</td>\n",
    "<td>Sex</td>\n",
    "<td></td>\n",
    "</tr>\n",
    "<tr>\n",
    "<td>Age</td>\n",
    "<td>Age in years</td>\n",
    "<td></td>\n",
    "</tr>\n",
    "<tr>\n",
    "<td>sibsp</td>\n",
    "<td># of siblings / spouses aboard the Titanic</td>\n",
    "<td></td>\n",
    "</tr>\n",
    "<tr>\n",
    "<td>parch</td>\n",
    "<td># of parents / children aboard the Titanic</td>\n",
    "<td></td>\n",
    "</tr>\n",
    "<tr>\n",
    "<td>ticket</td>\n",
    "<td>Ticket number</td>\n",
    "<td></td>\n",
    "</tr>\n",
    "<tr>\n",
    "<td>fare</td>\n",
    "<td>Passenger fare</td>\n",
    "<td></td>\n",
    "</tr>\n",
    "<tr>\n",
    "<td>cabin</td>\n",
    "<td>Cabin number</td>\n",
    "<td></td>\n",
    "</tr>\n",
    "<tr>\n",
    "<td>embarked</td>\n",
    "<td>Port of Embarkation</td>\n",
    "<td>C = Cherbourg, Q = Queenstown, S = Southampton</td>\n",
    "</tr>\n",
    "</tbody>\n",
    "</table>\n",
    "---\n",
    "### Variable Notes\n",
    "<p><b>pclass</b>: A proxy for socio-economic status (SES)<br> 1st = Upper<br> 2nd = Middle<br> 3rd = Lower<br><br> <b>age</b>: Age is fractional if less than 1. If the age is estimated, is it in the form of xx.5<br><br> <b>sibsp</b>: The dataset defines family relations in this way...<br> Sibling = brother, sister, stepbrother, stepsister<br> Spouse = husband, wife (mistresses and fiancés were ignored)<br><br> <b>parch</b>: The dataset defines family relations in this way...<br> Parent = mother, father<br> Child = daughter, son, stepdaughter, stepson<br> Some children travelled only with a nanny, therefore parch=0 for them.</p>\n"
   ]
  },
  {
   "cell_type": "markdown",
   "metadata": {},
   "source": [
    "---\n",
    "### 1.Prepare Problem\n",
    "#### a.Load libraries\n",
    "#### b.Load dataset\n",
    "##### for this problem we will be loading training set and test  from two files as given by kaggle "
   ]
  },
  {
   "cell_type": "code",
   "execution_count": 1,
   "metadata": {},
   "outputs": [],
   "source": [
    "import os\n",
    "import math\n",
    "import datetime\n",
    "from mlsettings.settings import load_app_config, get_datafolder_path\n",
    "from mltools.mlcommon import (load_data, print_dataset_info, split_dataset, \n",
    "                              auto_scatter_simple,load_dataset,detect_outliers,\n",
    "                              one_hot_dataframe)\n",
    "\n",
    "import matplotlib.pyplot as plt\n",
    "import seaborn as sns\n",
    "import pandas as pd\n",
    "import numpy as np\n",
    "import warnings\n",
    "warnings.filterwarnings('ignore')\n",
    "% matplotlib inline \n",
    "from numpy import set_printoptions\n",
    "set_printoptions(precision=4)\n",
    "\n",
    "pd.set_option('display.width', 140)\n",
    "pd.set_option('precision', 4)\n",
    "\n",
    "sns.set_style(\"whitegrid\")\n",
    "\n",
    "sns.set_palette(sns.color_palette(\"muted\", 15))"
   ]
  },
  {
   "cell_type": "code",
   "execution_count": 2,
   "metadata": {},
   "outputs": [
    {
     "name": "stdout",
     "output_type": "stream",
     "text": [
      "D:\\DataSource\\kaggle_titanic\\train.csv\n",
      "D:\\DataSource\\kaggle_titanic\\test.csv\n",
      " input file is :D:\\DataSource\\kaggle_titanic\\train.csv loaded.\n",
      "Continous Variables\n",
      "['PassengerId', 'Survived', 'Pclass', 'Age', 'SibSp', 'Parch', 'Fare']\n",
      "Categorical Variables\n",
      "['Name', 'Sex', 'Ticket', 'Cabin', 'Embarked']\n",
      " input file is :D:\\DataSource\\kaggle_titanic\\test.csv loaded.\n",
      "Continous Variables\n",
      "['PassengerId', 'Pclass', 'Age', 'SibSp', 'Parch', 'Fare']\n",
      "Categorical Variables\n",
      "['Name', 'Sex', 'Ticket', 'Cabin', 'Embarked']\n"
     ]
    }
   ],
   "source": [
    "load_app_config()\n",
    "DIRECTORY=\"kaggle_titanic\"\n",
    "TRAIN_FILE ='train.csv'\n",
    "TEST_FILE = 'test.csv'\n",
    "RESPONSE = 'Survived'\n",
    "input_path = get_datafolder_path()\n",
    "\n",
    "train_file = os.path.join(input_path, DIRECTORY, TRAIN_FILE)\n",
    "test_file = os.path.join(input_path, DIRECTORY, TEST_FILE)\n",
    "print(train_file)\n",
    "print(test_file)\n",
    "\n",
    "train_dataset,feature_columns,response_column,continuous_vars,categorical_vars = load_dataset(train_file,RESPONSE)\n",
    "test_dataset,tfeature_columns,tresponse_column,tcontinuous_vars,tcategorical_vars  = load_dataset(test_file,RESPONSE,colseparator=',')\n",
    "\n",
    "train_X = train_dataset[feature_columns]\n",
    "train_y = train_dataset[response_column]\n",
    "test_X  = test_dataset[tfeature_columns]"
   ]
  },
  {
   "cell_type": "markdown",
   "metadata": {},
   "source": [
    "### 2.Summarize Data \n",
    "#### a) Descriptive statistics\n",
    "#### b) Data visualizations"
   ]
  },
  {
   "cell_type": "code",
   "execution_count": 3,
   "metadata": {},
   "outputs": [
    {
     "data": {
      "text/plain": [
       "[27, 88, 159, 180, 201, 324, 341, 792, 846, 863]"
      ]
     },
     "execution_count": 3,
     "metadata": {},
     "output_type": "execute_result"
    }
   ],
   "source": [
    "Outliers_to_drop = detect_outliers(train_dataset,2,[\"Age\",\"SibSp\",\"Parch\",\"Fare\"])\n",
    "train_dataset.loc[Outliers_to_drop] # Show the outliers rows\n",
    "Outliers_to_drop"
   ]
  },
  {
   "cell_type": "code",
   "execution_count": 4,
   "metadata": {},
   "outputs": [
    {
     "data": {
      "text/html": [
       "<div>\n",
       "<style scoped>\n",
       "    .dataframe tbody tr th:only-of-type {\n",
       "        vertical-align: middle;\n",
       "    }\n",
       "\n",
       "    .dataframe tbody tr th {\n",
       "        vertical-align: top;\n",
       "    }\n",
       "\n",
       "    .dataframe thead th {\n",
       "        text-align: right;\n",
       "    }\n",
       "</style>\n",
       "<table border=\"1\" class=\"dataframe\">\n",
       "  <thead>\n",
       "    <tr style=\"text-align: right;\">\n",
       "      <th></th>\n",
       "      <th>PassengerId</th>\n",
       "      <th>Survived</th>\n",
       "      <th>Pclass</th>\n",
       "      <th>Name</th>\n",
       "      <th>Sex</th>\n",
       "      <th>Age</th>\n",
       "      <th>SibSp</th>\n",
       "      <th>Parch</th>\n",
       "      <th>Ticket</th>\n",
       "      <th>Fare</th>\n",
       "      <th>Cabin</th>\n",
       "      <th>Embarked</th>\n",
       "    </tr>\n",
       "  </thead>\n",
       "  <tbody>\n",
       "    <tr>\n",
       "      <th>0</th>\n",
       "      <td>1</td>\n",
       "      <td>0</td>\n",
       "      <td>3</td>\n",
       "      <td>Braund, Mr. Owen Harris</td>\n",
       "      <td>male</td>\n",
       "      <td>22.0</td>\n",
       "      <td>1</td>\n",
       "      <td>0</td>\n",
       "      <td>A/5 21171</td>\n",
       "      <td>7.2500</td>\n",
       "      <td>NaN</td>\n",
       "      <td>S</td>\n",
       "    </tr>\n",
       "    <tr>\n",
       "      <th>1</th>\n",
       "      <td>2</td>\n",
       "      <td>1</td>\n",
       "      <td>1</td>\n",
       "      <td>Cumings, Mrs. John Bradley (Florence Briggs Th...</td>\n",
       "      <td>female</td>\n",
       "      <td>38.0</td>\n",
       "      <td>1</td>\n",
       "      <td>0</td>\n",
       "      <td>PC 17599</td>\n",
       "      <td>71.2833</td>\n",
       "      <td>C85</td>\n",
       "      <td>C</td>\n",
       "    </tr>\n",
       "    <tr>\n",
       "      <th>2</th>\n",
       "      <td>3</td>\n",
       "      <td>1</td>\n",
       "      <td>3</td>\n",
       "      <td>Heikkinen, Miss. Laina</td>\n",
       "      <td>female</td>\n",
       "      <td>26.0</td>\n",
       "      <td>0</td>\n",
       "      <td>0</td>\n",
       "      <td>STON/O2. 3101282</td>\n",
       "      <td>7.9250</td>\n",
       "      <td>NaN</td>\n",
       "      <td>S</td>\n",
       "    </tr>\n",
       "    <tr>\n",
       "      <th>3</th>\n",
       "      <td>4</td>\n",
       "      <td>1</td>\n",
       "      <td>1</td>\n",
       "      <td>Futrelle, Mrs. Jacques Heath (Lily May Peel)</td>\n",
       "      <td>female</td>\n",
       "      <td>35.0</td>\n",
       "      <td>1</td>\n",
       "      <td>0</td>\n",
       "      <td>113803</td>\n",
       "      <td>53.1000</td>\n",
       "      <td>C123</td>\n",
       "      <td>S</td>\n",
       "    </tr>\n",
       "    <tr>\n",
       "      <th>4</th>\n",
       "      <td>5</td>\n",
       "      <td>0</td>\n",
       "      <td>3</td>\n",
       "      <td>Allen, Mr. William Henry</td>\n",
       "      <td>male</td>\n",
       "      <td>35.0</td>\n",
       "      <td>0</td>\n",
       "      <td>0</td>\n",
       "      <td>373450</td>\n",
       "      <td>8.0500</td>\n",
       "      <td>NaN</td>\n",
       "      <td>S</td>\n",
       "    </tr>\n",
       "  </tbody>\n",
       "</table>\n",
       "</div>"
      ],
      "text/plain": [
       "   PassengerId  Survived  Pclass                                               Name     Sex   Age  SibSp  Parch            Ticket  \\\n",
       "0            1         0       3                            Braund, Mr. Owen Harris    male  22.0      1      0         A/5 21171   \n",
       "1            2         1       1  Cumings, Mrs. John Bradley (Florence Briggs Th...  female  38.0      1      0          PC 17599   \n",
       "2            3         1       3                             Heikkinen, Miss. Laina  female  26.0      0      0  STON/O2. 3101282   \n",
       "3            4         1       1       Futrelle, Mrs. Jacques Heath (Lily May Peel)  female  35.0      1      0            113803   \n",
       "4            5         0       3                           Allen, Mr. William Henry    male  35.0      0      0            373450   \n",
       "\n",
       "      Fare Cabin Embarked  \n",
       "0   7.2500   NaN        S  \n",
       "1  71.2833   C85        C  \n",
       "2   7.9250   NaN        S  \n",
       "3  53.1000  C123        S  \n",
       "4   8.0500   NaN        S  "
      ]
     },
     "execution_count": 4,
     "metadata": {},
     "output_type": "execute_result"
    }
   ],
   "source": [
    "#train_dataset = train_dataset.drop(Outliers_to_drop, axis = 0).reset_index(drop=True)\n",
    "#train_y = train_dataset[response_column]\n",
    "#print(train_dataset.shape)\n",
    "#print(train_y.shape)\n",
    "train_dataset.head()"
   ]
  },
  {
   "cell_type": "code",
   "execution_count": 5,
   "metadata": {},
   "outputs": [
    {
     "data": {
      "text/html": [
       "<div>\n",
       "<style scoped>\n",
       "    .dataframe tbody tr th:only-of-type {\n",
       "        vertical-align: middle;\n",
       "    }\n",
       "\n",
       "    .dataframe tbody tr th {\n",
       "        vertical-align: top;\n",
       "    }\n",
       "\n",
       "    .dataframe thead th {\n",
       "        text-align: right;\n",
       "    }\n",
       "</style>\n",
       "<table border=\"1\" class=\"dataframe\">\n",
       "  <thead>\n",
       "    <tr style=\"text-align: right;\">\n",
       "      <th></th>\n",
       "      <th>PassengerId</th>\n",
       "      <th>Survived</th>\n",
       "      <th>Pclass</th>\n",
       "      <th>Name</th>\n",
       "      <th>Sex</th>\n",
       "      <th>Age</th>\n",
       "      <th>SibSp</th>\n",
       "      <th>Parch</th>\n",
       "      <th>Ticket</th>\n",
       "      <th>Fare</th>\n",
       "      <th>Cabin</th>\n",
       "      <th>Embarked</th>\n",
       "    </tr>\n",
       "  </thead>\n",
       "  <tbody>\n",
       "    <tr>\n",
       "      <th>27</th>\n",
       "      <td>28</td>\n",
       "      <td>0</td>\n",
       "      <td>1</td>\n",
       "      <td>Fortune, Mr. Charles Alexander</td>\n",
       "      <td>male</td>\n",
       "      <td>19.0</td>\n",
       "      <td>3</td>\n",
       "      <td>2</td>\n",
       "      <td>19950</td>\n",
       "      <td>263.00</td>\n",
       "      <td>C23 C25 C27</td>\n",
       "      <td>S</td>\n",
       "    </tr>\n",
       "    <tr>\n",
       "      <th>88</th>\n",
       "      <td>89</td>\n",
       "      <td>1</td>\n",
       "      <td>1</td>\n",
       "      <td>Fortune, Miss. Mabel Helen</td>\n",
       "      <td>female</td>\n",
       "      <td>23.0</td>\n",
       "      <td>3</td>\n",
       "      <td>2</td>\n",
       "      <td>19950</td>\n",
       "      <td>263.00</td>\n",
       "      <td>C23 C25 C27</td>\n",
       "      <td>S</td>\n",
       "    </tr>\n",
       "    <tr>\n",
       "      <th>159</th>\n",
       "      <td>160</td>\n",
       "      <td>0</td>\n",
       "      <td>3</td>\n",
       "      <td>Sage, Master. Thomas Henry</td>\n",
       "      <td>male</td>\n",
       "      <td>NaN</td>\n",
       "      <td>8</td>\n",
       "      <td>2</td>\n",
       "      <td>CA. 2343</td>\n",
       "      <td>69.55</td>\n",
       "      <td>NaN</td>\n",
       "      <td>S</td>\n",
       "    </tr>\n",
       "    <tr>\n",
       "      <th>180</th>\n",
       "      <td>181</td>\n",
       "      <td>0</td>\n",
       "      <td>3</td>\n",
       "      <td>Sage, Miss. Constance Gladys</td>\n",
       "      <td>female</td>\n",
       "      <td>NaN</td>\n",
       "      <td>8</td>\n",
       "      <td>2</td>\n",
       "      <td>CA. 2343</td>\n",
       "      <td>69.55</td>\n",
       "      <td>NaN</td>\n",
       "      <td>S</td>\n",
       "    </tr>\n",
       "    <tr>\n",
       "      <th>201</th>\n",
       "      <td>202</td>\n",
       "      <td>0</td>\n",
       "      <td>3</td>\n",
       "      <td>Sage, Mr. Frederick</td>\n",
       "      <td>male</td>\n",
       "      <td>NaN</td>\n",
       "      <td>8</td>\n",
       "      <td>2</td>\n",
       "      <td>CA. 2343</td>\n",
       "      <td>69.55</td>\n",
       "      <td>NaN</td>\n",
       "      <td>S</td>\n",
       "    </tr>\n",
       "    <tr>\n",
       "      <th>324</th>\n",
       "      <td>325</td>\n",
       "      <td>0</td>\n",
       "      <td>3</td>\n",
       "      <td>Sage, Mr. George John Jr</td>\n",
       "      <td>male</td>\n",
       "      <td>NaN</td>\n",
       "      <td>8</td>\n",
       "      <td>2</td>\n",
       "      <td>CA. 2343</td>\n",
       "      <td>69.55</td>\n",
       "      <td>NaN</td>\n",
       "      <td>S</td>\n",
       "    </tr>\n",
       "    <tr>\n",
       "      <th>341</th>\n",
       "      <td>342</td>\n",
       "      <td>1</td>\n",
       "      <td>1</td>\n",
       "      <td>Fortune, Miss. Alice Elizabeth</td>\n",
       "      <td>female</td>\n",
       "      <td>24.0</td>\n",
       "      <td>3</td>\n",
       "      <td>2</td>\n",
       "      <td>19950</td>\n",
       "      <td>263.00</td>\n",
       "      <td>C23 C25 C27</td>\n",
       "      <td>S</td>\n",
       "    </tr>\n",
       "    <tr>\n",
       "      <th>792</th>\n",
       "      <td>793</td>\n",
       "      <td>0</td>\n",
       "      <td>3</td>\n",
       "      <td>Sage, Miss. Stella Anna</td>\n",
       "      <td>female</td>\n",
       "      <td>NaN</td>\n",
       "      <td>8</td>\n",
       "      <td>2</td>\n",
       "      <td>CA. 2343</td>\n",
       "      <td>69.55</td>\n",
       "      <td>NaN</td>\n",
       "      <td>S</td>\n",
       "    </tr>\n",
       "    <tr>\n",
       "      <th>846</th>\n",
       "      <td>847</td>\n",
       "      <td>0</td>\n",
       "      <td>3</td>\n",
       "      <td>Sage, Mr. Douglas Bullen</td>\n",
       "      <td>male</td>\n",
       "      <td>NaN</td>\n",
       "      <td>8</td>\n",
       "      <td>2</td>\n",
       "      <td>CA. 2343</td>\n",
       "      <td>69.55</td>\n",
       "      <td>NaN</td>\n",
       "      <td>S</td>\n",
       "    </tr>\n",
       "    <tr>\n",
       "      <th>863</th>\n",
       "      <td>864</td>\n",
       "      <td>0</td>\n",
       "      <td>3</td>\n",
       "      <td>Sage, Miss. Dorothy Edith \"Dolly\"</td>\n",
       "      <td>female</td>\n",
       "      <td>NaN</td>\n",
       "      <td>8</td>\n",
       "      <td>2</td>\n",
       "      <td>CA. 2343</td>\n",
       "      <td>69.55</td>\n",
       "      <td>NaN</td>\n",
       "      <td>S</td>\n",
       "    </tr>\n",
       "  </tbody>\n",
       "</table>\n",
       "</div>"
      ],
      "text/plain": [
       "     PassengerId  Survived  Pclass                               Name     Sex   Age  SibSp  Parch    Ticket    Fare        Cabin Embarked\n",
       "27            28         0       1     Fortune, Mr. Charles Alexander    male  19.0      3      2     19950  263.00  C23 C25 C27        S\n",
       "88            89         1       1         Fortune, Miss. Mabel Helen  female  23.0      3      2     19950  263.00  C23 C25 C27        S\n",
       "159          160         0       3         Sage, Master. Thomas Henry    male   NaN      8      2  CA. 2343   69.55          NaN        S\n",
       "180          181         0       3       Sage, Miss. Constance Gladys  female   NaN      8      2  CA. 2343   69.55          NaN        S\n",
       "201          202         0       3                Sage, Mr. Frederick    male   NaN      8      2  CA. 2343   69.55          NaN        S\n",
       "324          325         0       3           Sage, Mr. George John Jr    male   NaN      8      2  CA. 2343   69.55          NaN        S\n",
       "341          342         1       1     Fortune, Miss. Alice Elizabeth  female  24.0      3      2     19950  263.00  C23 C25 C27        S\n",
       "792          793         0       3            Sage, Miss. Stella Anna  female   NaN      8      2  CA. 2343   69.55          NaN        S\n",
       "846          847         0       3           Sage, Mr. Douglas Bullen    male   NaN      8      2  CA. 2343   69.55          NaN        S\n",
       "863          864         0       3  Sage, Miss. Dorothy Edith \"Dolly\"  female   NaN      8      2  CA. 2343   69.55          NaN        S"
      ]
     },
     "execution_count": 5,
     "metadata": {},
     "output_type": "execute_result"
    }
   ],
   "source": [
    "train_dataset.iloc[Outliers_to_drop]"
   ]
  },
  {
   "cell_type": "code",
   "execution_count": 6,
   "metadata": {},
   "outputs": [
    {
     "name": "stdout",
     "output_type": "stream",
     "text": [
      "<=================================== info ===================================>\n",
      "<class 'pandas.core.frame.DataFrame'>\n",
      "RangeIndex: 891 entries, 0 to 890\n",
      "Data columns (total 12 columns):\n",
      "PassengerId    891 non-null int64\n",
      "Survived       891 non-null int64\n",
      "Pclass         891 non-null int64\n",
      "Name           891 non-null object\n",
      "Sex            891 non-null object\n",
      "Age            714 non-null float64\n",
      "SibSp          891 non-null int64\n",
      "Parch          891 non-null int64\n",
      "Ticket         891 non-null object\n",
      "Fare           891 non-null float64\n",
      "Cabin          204 non-null object\n",
      "Embarked       889 non-null object\n",
      "dtypes: float64(2), int64(5), object(5)\n",
      "memory usage: 83.6+ KB\n",
      "None\n",
      "<=================================== feature columns ===================================>\n",
      "['PassengerId', 'Pclass', 'Name', 'Sex', 'Age', 'SibSp', 'Parch', 'Ticket', 'Fare', 'Cabin', 'Embarked']\n",
      "<=================================== response ===================================>\n",
      "['Survived']\n",
      "<=================================== Descriptive Statistics-X ===================================>\n",
      "       PassengerId    Pclass       Age     SibSp     Parch      Fare\n",
      "count     891.0000  891.0000  714.0000  891.0000  891.0000  891.0000\n",
      "mean      446.0000    2.3086   29.6991    0.5230    0.3816   32.2042\n",
      "std       257.3538    0.8361   14.5265    1.1027    0.8061   49.6934\n",
      "min         1.0000    1.0000    0.4200    0.0000    0.0000    0.0000\n",
      "25%       223.5000    2.0000   20.1250    0.0000    0.0000    7.9104\n",
      "50%       446.0000    3.0000   28.0000    0.0000    0.0000   14.4542\n",
      "75%       668.5000    3.0000   38.0000    1.0000    0.0000   31.0000\n",
      "max       891.0000    3.0000   80.0000    8.0000    6.0000  512.3292\n",
      "<=================================== Descriptive Statistics-y ===================================>\n",
      "       Survived\n",
      "count  891.0000\n",
      "mean     0.3838\n",
      "std      0.4866\n",
      "min      0.0000\n",
      "25%      0.0000\n",
      "50%      0.0000\n",
      "75%      1.0000\n",
      "max      1.0000\n",
      "<=================================== value_count-y ===================================>\n",
      "          Survived\n",
      "Survived          \n",
      "0              549\n",
      "1              342\n",
      "<=================================== Survived Percentage ===================================>\n",
      "          Survived\n",
      "Survived          \n",
      "0           0.6162\n",
      "1           0.3838\n",
      "<================================================== null value count ==================================================>\n",
      "Age         177\n",
      "Cabin       687\n",
      "Embarked      2\n",
      "dtype: int64\n"
     ]
    }
   ],
   "source": [
    "def display_data_descriptives(input_dataset,X,feature_columns,y,response_column):\n",
    "    print(\"<{0} {1} {0}>\".format(\"=\"*35,\"info\"))\n",
    "    print(input_dataset.info())\n",
    "    print(\"<{0} {1} {0}>\".format(\"=\"*35,\"feature columns\"))\n",
    "    print(feature_columns)\n",
    "    print(\"<{0} {1} {0}>\".format(\"=\"*35,\"response\"))\n",
    "    print(response_column)\n",
    "    print(\"<{0} {1} {0}>\".format(\"=\"*35,\"Descriptive Statistics-X\"))\n",
    "    print(X.describe())\n",
    "        \n",
    "    print(\"<{0} {1} {0}>\".format(\"=\"*35,\"Descriptive Statistics-y\"))\n",
    "    print(y.describe())\n",
    "    print(\"<{0} {1} {0}>\".format(\"=\"*35,\"value_count-y\"))\n",
    " \n",
    "    print(y.groupby(response_column)[response_column].count())\n",
    "    \n",
    "    print(\"<{0} {1} {0}>\".format(\"=\"*35,\"Survived Percentage\"))\n",
    "    print(y.groupby(response_column)[response_column].count()/len(y))\n",
    "    \n",
    "    \n",
    "\n",
    "display_data_descriptives(train_dataset,train_X,feature_columns,train_y,response_column)\n",
    "\n",
    "check_null = train_dataset.isnull().sum()[train_dataset.isnull().sum()>0] \n",
    "print(\"<{0} {1} {0}>\".format(\"=\"*50,\"null value count\"))\n",
    "print(check_null)\n"
   ]
  },
  {
   "cell_type": "code",
   "execution_count": 7,
   "metadata": {},
   "outputs": [
    {
     "name": "stdout",
     "output_type": "stream",
     "text": [
      "<=================================== Descriptive Statistics-Survived ===================================>\n",
      "       PassengerId  Survived    Pclass       Age     SibSp     Parch      Fare\n",
      "count     342.0000     342.0  342.0000  290.0000  342.0000  342.0000  342.0000\n",
      "mean      444.3684       1.0    1.9503   28.3437    0.4737    0.4649   48.3954\n",
      "std       252.3588       0.0    0.8633   14.9510    0.7087    0.7717   66.5970\n",
      "min         2.0000       1.0    1.0000    0.4200    0.0000    0.0000    0.0000\n",
      "25%       250.7500       1.0    1.0000   19.0000    0.0000    0.0000   12.4750\n",
      "50%       439.5000       1.0    2.0000   28.0000    0.0000    0.0000   26.0000\n",
      "75%       651.5000       1.0    3.0000   36.0000    1.0000    1.0000   57.0000\n",
      "max       890.0000       1.0    3.0000   80.0000    4.0000    5.0000  512.3292\n",
      "<=================================== Descriptive Statistics-Survived-male ===================================>\n",
      "       PassengerId  Survived    Pclass      Age     SibSp     Parch      Fare\n",
      "count     109.0000     109.0  109.0000  93.0000  109.0000  109.0000  109.0000\n",
      "mean      475.7248       1.0    2.0183  27.2760    0.3853    0.3578   40.8215\n",
      "std       244.7175       0.0    0.9228  16.5048    0.6370    0.6458   71.3560\n",
      "min        18.0000       1.0    1.0000   0.4200    0.0000    0.0000    0.0000\n",
      "25%       272.0000       1.0    1.0000  18.0000    0.0000    0.0000    9.5000\n",
      "50%       508.0000       1.0    2.0000  28.0000    0.0000    0.0000   26.2875\n",
      "75%       680.0000       1.0    3.0000  36.0000    1.0000    1.0000   39.0000\n",
      "max       890.0000       1.0    3.0000  80.0000    4.0000    2.0000  512.3292\n",
      "<=================================== Descriptive Statistics-Survived-female ===================================>\n",
      "       PassengerId  Survived    Pclass       Age     SibSp     Parch      Fare\n",
      "count     233.0000     233.0  233.0000  197.0000  233.0000  233.0000  233.0000\n",
      "mean      429.6996       1.0    1.9185   28.8477    0.5150    0.5150   51.9386\n",
      "std       255.0483       0.0    0.8342   14.1751    0.7375    0.8205   64.1023\n",
      "min         2.0000       1.0    1.0000    0.7500    0.0000    0.0000    7.2250\n",
      "25%       238.0000       1.0    1.0000   19.0000    0.0000    0.0000   13.0000\n",
      "50%       400.0000       1.0    2.0000   28.0000    0.0000    0.0000   26.0000\n",
      "75%       636.0000       1.0    3.0000   38.0000    1.0000    1.0000   76.2917\n",
      "max       888.0000       1.0    3.0000   63.0000    4.0000    5.0000  512.3292\n",
      "<=================================== Descriptive Statistics-Dead ===================================>\n",
      "       PassengerId  Survived    Pclass       Age     SibSp     Parch      Fare\n",
      "count     549.0000     549.0  549.0000  424.0000  549.0000  549.0000  549.0000\n",
      "mean      447.0164       0.0    2.5319   30.6262    0.5537    0.3297   22.1179\n",
      "std       260.6405       0.0    0.7358   14.1721    1.2884    0.8232   31.3882\n",
      "min         1.0000       0.0    1.0000    1.0000    0.0000    0.0000    0.0000\n",
      "25%       211.0000       0.0    2.0000   21.0000    0.0000    0.0000    7.8542\n",
      "50%       455.0000       0.0    3.0000   28.0000    0.0000    0.0000   10.5000\n",
      "75%       675.0000       0.0    3.0000   39.0000    1.0000    0.0000   26.0000\n",
      "max       891.0000       0.0    3.0000   74.0000    8.0000    6.0000  263.0000\n",
      "<=================================== Descriptive Statistics-Survived-male ===================================>\n",
      "       PassengerId  Survived    Pclass       Age     SibSp     Parch      Fare\n",
      "count     468.0000     468.0  468.0000  360.0000  468.0000  468.0000  468.0000\n",
      "mean      449.1218       0.0    2.4765   31.6181    0.4402    0.2073   21.9610\n",
      "std       260.3653       0.0    0.7614   14.0560    1.1385    0.6014   32.4098\n",
      "min         1.0000       0.0    1.0000    1.0000    0.0000    0.0000    0.0000\n",
      "25%       212.5000       0.0    2.0000   21.7500    0.0000    0.0000    7.7958\n",
      "50%       461.0000       0.0    3.0000   29.0000    0.0000    0.0000    9.4167\n",
      "75%       678.5000       0.0    3.0000   39.2500    0.0000    0.0000   26.0000\n",
      "max       891.0000       0.0    3.0000   74.0000    8.0000    5.0000  263.0000\n",
      "<=================================== Descriptive Statistics-Survived-female ===================================>\n",
      "       PassengerId  Survived   Pclass      Age    SibSp    Parch      Fare\n",
      "count      81.0000      81.0  81.0000  64.0000  81.0000  81.0000   81.0000\n",
      "mean      434.8519       0.0   2.8519  25.0469   1.2099   1.0370   23.0244\n",
      "std       263.5221       0.0   0.4503  13.6186   1.8146   1.3914   24.8213\n",
      "min        15.0000       0.0   1.0000   2.0000   0.0000   0.0000    6.7500\n",
      "25%       206.0000       0.0   3.0000  16.7500   0.0000   0.0000    8.8500\n",
      "50%       420.0000       0.0   3.0000  24.5000   1.0000   0.0000   15.2458\n",
      "75%       643.0000       0.0   3.0000  33.2500   1.0000   2.0000   27.9000\n",
      "max       889.0000       0.0   3.0000  57.0000   8.0000   6.0000  151.5500\n"
     ]
    }
   ],
   "source": [
    "input_dataset =train_dataset\n",
    "print(\"<{0} {1} {0}>\".format(\"=\"*35,\"Descriptive Statistics-Survived\"))\n",
    "print(input_dataset[input_dataset['Survived']==1].describe())\n",
    "print(\"<{0} {1} {0}>\".format(\"=\"*35,\"Descriptive Statistics-Survived-male\"))\n",
    "print(input_dataset[(input_dataset['Survived']==1)& (input_dataset['Sex']=='male')].describe())\n",
    "print(\"<{0} {1} {0}>\".format(\"=\"*35,\"Descriptive Statistics-Survived-female\"))\n",
    "print(input_dataset[(input_dataset['Survived']==1)& (input_dataset['Sex']=='female')].describe())\n",
    "print(\"<{0} {1} {0}>\".format(\"=\"*35,\"Descriptive Statistics-Dead\"))\n",
    "print(input_dataset[input_dataset['Survived']==0].describe())\n",
    "print(\"<{0} {1} {0}>\".format(\"=\"*35,\"Descriptive Statistics-Survived-male\"))\n",
    "print(input_dataset[(input_dataset['Survived']==0)& (input_dataset['Sex']=='male')].describe())\n",
    "print(\"<{0} {1} {0}>\".format(\"=\"*35,\"Descriptive Statistics-Survived-female\"))\n",
    "print(input_dataset[(input_dataset['Survived']==0)& (input_dataset['Sex']=='female')].describe())"
   ]
  },
  {
   "cell_type": "markdown",
   "metadata": {},
   "source": [
    "#### Few points  to be  noted\n",
    "###### Age ,Cabin,Embarked has null values "
   ]
  },
  {
   "cell_type": "code",
   "execution_count": 8,
   "metadata": {},
   "outputs": [],
   "source": [
    "#Capture few variables that can be used in data cleaning \n",
    "max_age = train_dataset['Age'].max()\n",
    "min_age = train_dataset['Age'].min()"
   ]
  },
  {
   "cell_type": "code",
   "execution_count": 9,
   "metadata": {},
   "outputs": [
    {
     "data": {
      "image/png": "[encoded data removed]",
      "text/plain": [
       "<Figure size 3600x3000 with 5 Axes>"
      ]
     },
     "metadata": {},
     "output_type": "display_data"
    }
   ],
   "source": [
    "categorical = ['Sex', 'Embarked','SibSp','Parch','Pclass']\n",
    "def count_plots(train_dataset,categorical):\n",
    "    fig = plt.figure(figsize=(12,10),dpi=300)\n",
    "    size =len(categorical)\n",
    "     \n",
    "    for i in range(size):\n",
    "        ax = fig.add_subplot(3, 2, i+1)\n",
    "        sns.countplot(x=categorical[i], hue=\"Survived\", data=train_dataset,ax=ax)\n",
    "        sns.despine()\n",
    "    plt.tight_layout()\n",
    "    plt.show()\n",
    "count_plots(train_dataset,categorical)"
   ]
  },
  {
   "cell_type": "code",
   "execution_count": 10,
   "metadata": {},
   "outputs": [
    {
     "data": {
      "text/plain": [
       "<seaborn.axisgrid.FacetGrid at 0x1eb723989e8>"
      ]
     },
     "execution_count": 10,
     "metadata": {},
     "output_type": "execute_result"
    },
    {
     "data": {
      "image/png": "[encoded data removed]",
      "text/plain": [
       "<Figure size 905.625x216 with 1 Axes>"
      ]
     },
     "metadata": {},
     "output_type": "display_data"
    }
   ],
   "source": [
    "age_dist_by_class = sns.FacetGrid(train_dataset,hue='Pclass', aspect=4, hue_order=[1,2,3] )\n",
    "age_dist_by_class.set(xlim=(0,max_age))\n",
    "age_dist_by_class.set(ylim=(0,0.04))\n",
    "age_dist_by_class.map(sns.kdeplot,'Age', shade=True)\n",
    "age_dist_by_class.add_legend()"
   ]
  },
  {
   "cell_type": "code",
   "execution_count": 11,
   "metadata": {},
   "outputs": [
    {
     "data": {
      "image/png": "[encoded data removed]",
      "text/plain": [
       "<Figure size 1200x1000 with 4 Axes>"
      ]
     },
     "metadata": {},
     "output_type": "display_data"
    },
    {
     "name": "stdout",
     "output_type": "stream",
     "text": [
      "Check if SibSp and Parch can be combined to form a new feature\n",
      "Passenger class 3 has least chance of survival\n"
     ]
    }
   ],
   "source": [
    "bar_categories = ['SibSp','Parch','Pclass','Embarked']\n",
    "def bar_plots(train_dataset,categorical):\n",
    "    fig = plt.figure(figsize=(12,10),dpi=100)\n",
    "    size =len(categorical)\n",
    "     \n",
    "    for i in range(size):\n",
    "        ax = fig.add_subplot(3, 2, i+1)\n",
    "        sns.barplot(x=bar_categories[i], y=\"Survived\", hue=\"Sex\",data=train_dataset,ax=ax,ci=None)\n",
    "        sns.despine()\n",
    "    plt.tight_layout()\n",
    "    plt.show()\n",
    "bar_plots(train_dataset,bar_categories)\n",
    "print(\"Check if SibSp and Parch can be combined to form a new feature\")\n",
    "print(\"Passenger class 3 has least chance of survival\")"
   ]
  },
  {
   "cell_type": "code",
   "execution_count": 12,
   "metadata": {},
   "outputs": [
    {
     "name": "stdout",
     "output_type": "stream",
     "text": [
      "Family size > 3 have less chance of survival\n"
     ]
    },
    {
     "data": {
      "image/png": "[encoded data removed]",
      "text/plain": [
       "<Figure size 354.125x288 with 1 Axes>"
      ]
     },
     "metadata": {},
     "output_type": "display_data"
    }
   ],
   "source": [
    "train_dataset['Family_Size'] =train_dataset[\"SibSp\"] +train_dataset[\"Parch\"] + 1\n",
    "sns.factorplot(x=\"Family_Size\", y=\"Survived\",hue=\"Sex\", kind ='bar', data=train_dataset,\n",
    "               ci=None,legend_out=True,size =4,aspect=1)\n",
    "sns.despine()\n",
    "print(\"Family size > 3 have less chance of survival\")"
   ]
  },
  {
   "cell_type": "markdown",
   "metadata": {},
   "source": [
    "---  \n",
    "### 3. Prepare Data\n",
    "#### a) Data Cleaning\n",
    "#### b) Feature Selection\n",
    "#### c) Data Transforms"
   ]
  },
  {
   "cell_type": "code",
   "execution_count": 13,
   "metadata": {},
   "outputs": [],
   "source": [
    "full_dataset =pd.concat(objs=[train_dataset, test_dataset], axis=0).reset_index(drop=True)  "
   ]
  },
  {
   "cell_type": "code",
   "execution_count": 14,
   "metadata": {
    "scrolled": true
   },
   "outputs": [
    {
     "data": {
      "text/plain": [
       "'S'"
      ]
     },
     "execution_count": 14,
     "metadata": {},
     "output_type": "execute_result"
    }
   ],
   "source": [
    "full_dataset[full_dataset['Embarked'].notnull()]['Embarked'].mode()[0]"
   ]
  },
  {
   "cell_type": "code",
   "execution_count": 15,
   "metadata": {},
   "outputs": [],
   "source": [
    "### fill null embarked with 'S'\n",
    "full_dataset['Embarked'].fillna('S' ,inplace =True)\n",
    "full_dataset['Family_Size'] =full_dataset[\"SibSp\"] +full_dataset[\"Parch\"] + 1"
   ]
  },
  {
   "cell_type": "code",
   "execution_count": 16,
   "metadata": {},
   "outputs": [
    {
     "name": "stdout",
     "output_type": "stream",
     "text": [
      "7.75\n"
     ]
    }
   ],
   "source": [
    "fare_median =full_dataset[(full_dataset['Pclass'] ==3  ) & \n",
    "                  (full_dataset['Sex'] == 'male'  ) &\n",
    "                  (full_dataset['Age'] >= 50  )\n",
    "               ]['Fare'].median()\n",
    "\n",
    "print(fare_median)\n",
    "full_dataset.loc[full_dataset['Fare'].isnull(),'Fare']= fare_median"
   ]
  },
  {
   "cell_type": "markdown",
   "metadata": {},
   "source": [
    "##### Create new feature - Title"
   ]
  },
  {
   "cell_type": "code",
   "execution_count": 17,
   "metadata": {},
   "outputs": [
    {
     "name": "stdout",
     "output_type": "stream",
     "text": [
      "['Mr' 'Mrs' 'Miss' 'Master' 'Don' 'Rev' 'Dr' 'Mme' 'Ms' 'Major' 'Lady'\n",
      " 'Sir' 'Mlle' 'Col' 'Capt' 'Countess' 'Jonkheer' 'Dona']\n",
      "['Mr' 'Mrs' 'Miss' 'Master' 'Don' 'Rev' 'Dr' 'Mme' 'Ms' 'Major' 'Lady'\n",
      " 'Sir' 'Mlle' 'Col' 'Capt' 'Countess' 'Jonkheer']\n"
     ]
    }
   ],
   "source": [
    "full_dataset['Title'] = full_dataset['Name'].str.extract(' ([A-Za-z]+)\\.',expand =False)\n",
    "print(full_dataset['Title'].unique())\n",
    "full_dataset['Title'] = full_dataset['Title'].replace(['Lady', 'Countess', 'Sir', 'Jonkheer', 'Dona','Don'], 'Other')\n",
    "full_dataset['Title'] = full_dataset['Title'].replace(['Capt', 'Col', 'Dr', 'Major', 'Rev'],'Officer')\n",
    "full_dataset['Title'] = full_dataset['Title'].replace('Mlle', 'Miss')\n",
    "full_dataset['Title'] = full_dataset['Title'].replace('Ms', 'Miss')\n",
    "full_dataset['Title'] = full_dataset['Title'].replace('Mme', 'Mrs')\n",
    "\n",
    "train_dataset['Title'] = train_dataset['Name'].str.extract(' ([A-Za-z]+)\\.',expand =False)\n",
    "print(train_dataset['Title'].unique())\n",
    "train_dataset['Title'] = train_dataset['Title'].replace(['Lady', 'Countess', 'Sir', 'Jonkheer', 'Dona','Don'], 'Other')\n",
    "train_dataset['Title'] = train_dataset['Title'].replace(['Capt', 'Col', 'Dr', 'Major', 'Rev'],'Officer')\n",
    "train_dataset['Title'] = train_dataset['Title'].replace('Mlle', 'Miss')\n",
    "train_dataset['Title'] = train_dataset['Title'].replace('Ms', 'Miss')\n",
    "train_dataset['Title'] = train_dataset['Title'].replace('Mme', 'Mrs')"
   ]
  },
  {
   "cell_type": "code",
   "execution_count": 18,
   "metadata": {},
   "outputs": [
    {
     "data": {
      "text/plain": [
       "<matplotlib.axes._subplots.AxesSubplot at 0x1eb724252b0>"
      ]
     },
     "execution_count": 18,
     "metadata": {},
     "output_type": "execute_result"
    },
    {
     "data": {
      "image/png": "[encoded data removed]",
      "text/plain": [
       "<Figure size 432x288 with 1 Axes>"
      ]
     },
     "metadata": {},
     "output_type": "display_data"
    }
   ],
   "source": [
    "title_dataset =full_dataset[~full_dataset['Survived'].isnull()]\n",
    "title_dataset =title_dataset.groupby(['Title'])['Survived'].agg(['count'])\n",
    "title_dataset['count'] =np.log2(title_dataset['count'])\n",
    "title_dataset.plot.bar()"
   ]
  },
  {
   "cell_type": "code",
   "execution_count": 19,
   "metadata": {},
   "outputs": [],
   "source": [
    "full_dataset['Cabin'].fillna('XXX' ,inplace=True)\n",
    "full_dataset['Deck_Level'] =full_dataset['Cabin'].apply(lambda x : x[0]) "
   ]
  },
  {
   "cell_type": "code",
   "execution_count": 20,
   "metadata": {},
   "outputs": [
    {
     "data": {
      "text/plain": [
       "<matplotlib.axes._subplots.AxesSubplot at 0x1eb7271d9b0>"
      ]
     },
     "execution_count": 20,
     "metadata": {},
     "output_type": "execute_result"
    },
    {
     "data": {
      "image/png": "[encoded data removed]",
      "text/plain": [
       "<Figure size 432x288 with 1 Axes>"
      ]
     },
     "metadata": {},
     "output_type": "display_data"
    }
   ],
   "source": [
    "cabin_dataset =full_dataset[~full_dataset['Survived'].isnull()]\n",
    "cabin_dataset =cabin_dataset.groupby(['Deck_Level','Pclass'])['Survived'].agg(['count'])\n",
    "cabin_dataset['count'] =np.log2(cabin_dataset['count'])\n",
    "cabin_dataset.plot.bar()\n"
   ]
  },
  {
   "cell_type": "code",
   "execution_count": 21,
   "metadata": {},
   "outputs": [
    {
     "data": {
      "text/plain": [
       "<matplotlib.axes._subplots.AxesSubplot at 0x1eb72a27cc0>"
      ]
     },
     "execution_count": 21,
     "metadata": {},
     "output_type": "execute_result"
    },
    {
     "data": {
      "image/png": "[encoded data removed]",
      "text/plain": [
       "<Figure size 432x288 with 1 Axes>"
      ]
     },
     "metadata": {},
     "output_type": "display_data"
    }
   ],
   "source": [
    "sns.barplot(x=\"Deck_Level\", y=\"Survived\", hue=\"Pclass\", data=full_dataset[~full_dataset['Survived'].isnull()],ci=None )"
   ]
  },
  {
   "cell_type": "code",
   "execution_count": 22,
   "metadata": {},
   "outputs": [
    {
     "name": "stdout",
     "output_type": "stream",
     "text": [
      "<================================================== null value count ==================================================>\n",
      "Age         263\n",
      "Survived    418\n",
      "dtype: int64\n"
     ]
    }
   ],
   "source": [
    "check_null = full_dataset.isnull().sum()[full_dataset.isnull().sum()>0] \n",
    "print(\"<{0} {1} {0}>\".format(\"=\"*50,\"null value count\"))\n",
    "print(check_null)"
   ]
  },
  {
   "cell_type": "code",
   "execution_count": 23,
   "metadata": {},
   "outputs": [],
   "source": [
    "median_ages =full_dataset.groupby(['Sex','Pclass','Title','SibSp','Parch'])['Age'].median()\n",
    " "
   ]
  },
  {
   "cell_type": "code",
   "execution_count": 24,
   "metadata": {},
   "outputs": [],
   "source": [
    "def fill_missing_age(row):\n",
    "    if pd.isnull(row['Age']):\n",
    "        return median_ages[row['Sex'], row['Pclass'], row['Title'], row['SibSp'], row['Parch']]\n",
    "    else:\n",
    "        return row['Age']\n",
    "\n",
    "\n",
    "full_dataset[\"Fare\"] = full_dataset[\"Fare\"].map(lambda i: np.log(i) if i > 0 else 0)\n",
    "full_dataset['Age'] = full_dataset.apply(fill_missing_age, axis=1)"
   ]
  },
  {
   "cell_type": "code",
   "execution_count": 25,
   "metadata": {},
   "outputs": [
    {
     "data": {
      "text/plain": [
       "Series([], Name: Age, dtype: float64)"
      ]
     },
     "execution_count": 25,
     "metadata": {},
     "output_type": "execute_result"
    }
   ],
   "source": [
    "median_ages_again =full_dataset.groupby(['Sex','Pclass','Title'])['Age'].median()\n",
    "median_ages_again[median_ages_again.isnull()]"
   ]
  },
  {
   "cell_type": "code",
   "execution_count": 26,
   "metadata": {},
   "outputs": [],
   "source": [
    "def fill_missing_age_again(row):\n",
    "    if pd.isnull(row['Age']):\n",
    "        return median_ages_again[row['Sex'],row['Pclass'],row['Title']]\n",
    "    else:\n",
    "        return row['Age']\n",
    "    \n",
    "full_dataset['Age']=full_dataset.apply(fill_missing_age_again,axis=1) "
   ]
  },
  {
   "cell_type": "code",
   "execution_count": 27,
   "metadata": {},
   "outputs": [
    {
     "data": {
      "image/png": "[encoded data removed]",
      "text/plain": [
       "<Figure size 400x300 with 1 Axes>"
      ]
     },
     "metadata": {},
     "output_type": "display_data"
    }
   ],
   "source": [
    "age=train_dataset[~train_dataset['Age'].isnull()]['Age']\n",
    "fig = plt.figure(figsize=(4,3),dpi=100)\n",
    "ax = fig.gca()\n",
    "sns.distplot(age,kde=False,hist  =True,color ='green')\n",
    "sns.distplot(full_dataset[full_dataset['Survived'].isnull()]['Age'],kde=False,hist  =True,color ='blue')\n",
    "sns.despine()\n",
    "plt.show()"
   ]
  },
  {
   "cell_type": "code",
   "execution_count": 28,
   "metadata": {},
   "outputs": [],
   "source": [
    "full_dataset['Name_length'] = full_dataset['Name'].map(lambda x: len(x))"
   ]
  },
  {
   "cell_type": "code",
   "execution_count": 29,
   "metadata": {},
   "outputs": [],
   "source": [
    "full_dataset['Name_lengthBand'] = pd.cut(full_dataset['Name_length'], 5,labels=[1,2,3,4,5])\n",
    "full_dataset['Name_lengthBand'] =full_dataset['Name_lengthBand'].astype(int)"
   ]
  },
  {
   "cell_type": "code",
   "execution_count": 30,
   "metadata": {},
   "outputs": [],
   "source": [
    "full_dataset['AgeBand'] = pd.cut(full_dataset['Age'], 5)"
   ]
  },
  {
   "cell_type": "code",
   "execution_count": 32,
   "metadata": {},
   "outputs": [
    {
     "name": "stdout",
     "output_type": "stream",
     "text": [
      "<class 'pandas.core.frame.DataFrame'>\n",
      "RangeIndex: 1309 entries, 0 to 1308\n",
      "Data columns (total 18 columns):\n",
      "Age                1309 non-null float64\n",
      "Cabin              1309 non-null object\n",
      "Embarked           1309 non-null object\n",
      "Family_Size        1309 non-null int64\n",
      "Fare               1309 non-null float64\n",
      "Name               1309 non-null object\n",
      "Parch              1309 non-null int64\n",
      "PassengerId        1309 non-null int64\n",
      "Pclass             1309 non-null int64\n",
      "Sex                1309 non-null object\n",
      "SibSp              1309 non-null int64\n",
      "Survived           891 non-null float64\n",
      "Ticket             1309 non-null object\n",
      "Title              1309 non-null object\n",
      "Deck_Level         1309 non-null object\n",
      "Name_length        1309 non-null int64\n",
      "Name_lengthBand    1309 non-null int32\n",
      "AgeBand            1309 non-null category\n",
      "dtypes: category(1), float64(3), int32(1), int64(6), object(7)\n",
      "memory usage: 170.2+ KB\n"
     ]
    }
   ],
   "source": [
    "full_dataset.info()"
   ]
  },
  {
   "cell_type": "code",
   "execution_count": 33,
   "metadata": {},
   "outputs": [
    {
     "data": {
      "text/html": [
       "<div>\n",
       "<style scoped>\n",
       "    .dataframe tbody tr th:only-of-type {\n",
       "        vertical-align: middle;\n",
       "    }\n",
       "\n",
       "    .dataframe tbody tr th {\n",
       "        vertical-align: top;\n",
       "    }\n",
       "\n",
       "    .dataframe thead th {\n",
       "        text-align: right;\n",
       "    }\n",
       "</style>\n",
       "<table border=\"1\" class=\"dataframe\">\n",
       "  <thead>\n",
       "    <tr style=\"text-align: right;\">\n",
       "      <th></th>\n",
       "      <th>AgeBand</th>\n",
       "      <th>Sex</th>\n",
       "      <th>Survived</th>\n",
       "    </tr>\n",
       "  </thead>\n",
       "  <tbody>\n",
       "    <tr>\n",
       "      <th>0</th>\n",
       "      <td>(0.0902, 16.136]</td>\n",
       "      <td>female</td>\n",
       "      <td>0.6182</td>\n",
       "    </tr>\n",
       "    <tr>\n",
       "      <th>1</th>\n",
       "      <td>(0.0902, 16.136]</td>\n",
       "      <td>male</td>\n",
       "      <td>0.4364</td>\n",
       "    </tr>\n",
       "    <tr>\n",
       "      <th>2</th>\n",
       "      <td>(16.136, 32.102]</td>\n",
       "      <td>female</td>\n",
       "      <td>0.7244</td>\n",
       "    </tr>\n",
       "    <tr>\n",
       "      <th>3</th>\n",
       "      <td>(16.136, 32.102]</td>\n",
       "      <td>male</td>\n",
       "      <td>0.1508</td>\n",
       "    </tr>\n",
       "    <tr>\n",
       "      <th>4</th>\n",
       "      <td>(32.102, 48.068]</td>\n",
       "      <td>female</td>\n",
       "      <td>0.8077</td>\n",
       "    </tr>\n",
       "    <tr>\n",
       "      <th>5</th>\n",
       "      <td>(32.102, 48.068]</td>\n",
       "      <td>male</td>\n",
       "      <td>0.1929</td>\n",
       "    </tr>\n",
       "    <tr>\n",
       "      <th>6</th>\n",
       "      <td>(48.068, 64.034]</td>\n",
       "      <td>female</td>\n",
       "      <td>0.9200</td>\n",
       "    </tr>\n",
       "    <tr>\n",
       "      <th>7</th>\n",
       "      <td>(48.068, 64.034]</td>\n",
       "      <td>male</td>\n",
       "      <td>0.1739</td>\n",
       "    </tr>\n",
       "    <tr>\n",
       "      <th>8</th>\n",
       "      <td>(64.034, 80.0]</td>\n",
       "      <td>female</td>\n",
       "      <td>NaN</td>\n",
       "    </tr>\n",
       "    <tr>\n",
       "      <th>9</th>\n",
       "      <td>(64.034, 80.0]</td>\n",
       "      <td>male</td>\n",
       "      <td>0.0909</td>\n",
       "    </tr>\n",
       "  </tbody>\n",
       "</table>\n",
       "</div>"
      ],
      "text/plain": [
       "            AgeBand     Sex  Survived\n",
       "0  (0.0902, 16.136]  female    0.6182\n",
       "1  (0.0902, 16.136]    male    0.4364\n",
       "2  (16.136, 32.102]  female    0.7244\n",
       "3  (16.136, 32.102]    male    0.1508\n",
       "4  (32.102, 48.068]  female    0.8077\n",
       "5  (32.102, 48.068]    male    0.1929\n",
       "6  (48.068, 64.034]  female    0.9200\n",
       "7  (48.068, 64.034]    male    0.1739\n",
       "8    (64.034, 80.0]  female       NaN\n",
       "9    (64.034, 80.0]    male    0.0909"
      ]
     },
     "execution_count": 33,
     "metadata": {},
     "output_type": "execute_result"
    }
   ],
   "source": [
    "age_dataset =full_dataset[~full_dataset['Survived'].isnull()]\n",
    "age_dataset=age_dataset[['AgeBand', 'Survived','Sex']].groupby(['AgeBand','Sex'], as_index=False).mean().sort_values(by='AgeBand', ascending=True)\n",
    "age_dataset "
   ]
  },
  {
   "cell_type": "code",
   "execution_count": 34,
   "metadata": {},
   "outputs": [],
   "source": [
    "full_dataset.loc[ (full_dataset['Age'] > 0 ) & (full_dataset['Age'] <= 16.136), 'Age'] = 0\n",
    "full_dataset.loc[(full_dataset['Age'] > 16.136) & (full_dataset['Age'] <= 32.102), 'Age'] = 1\n",
    "full_dataset.loc[(full_dataset['Age'] > 32.102)  & (full_dataset['Age'] <= 48.0685), 'Age'] = 2\n",
    "full_dataset.loc[(full_dataset['Age'] > 48.068) & (full_dataset['Age'] <= 64.034), 'Age'] = 3\n",
    "full_dataset.loc[ full_dataset['Age'] > 64.034, 'Age'] = 4"
   ]
  },
  {
   "cell_type": "code",
   "execution_count": 35,
   "metadata": {},
   "outputs": [],
   "source": [
    "### combine sex and  age  \n",
    "def combine_age_gender(age_sex):\n",
    "    age,sex = age_sex\n",
    "    if (age == 0) and (sex == 'female'):\n",
    "        return 0\n",
    "    elif (age == 0) and (sex == 'male'):\n",
    "        return 1\n",
    "    elif (age == 1) and (sex == 'female'):\n",
    "        return 2\n",
    "    elif (age == 1) and (sex == 'male'):\n",
    "        return 3\n",
    "    elif (age == 2) and (sex == 'female'):\n",
    "        return 4\n",
    "    elif (age == 2) and (sex == 'male'):\n",
    "        return 5\n",
    "    elif (age == 3) and (sex == 'female'):\n",
    "        return 6\n",
    "    elif (age == 3) and (sex == 'male'):\n",
    "        return 7\n",
    "    elif (age == 4) and (sex == 'female'):\n",
    "        return 8\n",
    "    elif (age == 4) and (sex == 'male'):\n",
    "        return 9\n",
    "    return -1  ## else remain it as unassigned\n",
    "   \n",
    "full_dataset['Age_with_Gender'] = full_dataset[['Age','Sex']].apply(combine_age_gender,axis =1)"
   ]
  },
  {
   "cell_type": "code",
   "execution_count": 36,
   "metadata": {},
   "outputs": [],
   "source": [
    "def is_adult_male(age_sex):\n",
    "    age,sex = age_sex\n",
    "    if (age >21) and (sex == 'male'):\n",
    "        return 1\n",
    "    else: \n",
    "        return 0\n",
    "\n",
    "    \n",
    "full_dataset['Is_Adult_Male'] = full_dataset[['Age','Sex']].apply(is_adult_male,axis =1)\n",
    "  \n",
    "\n",
    "def is_adult_female(age_sex):\n",
    "    age,sex = age_sex\n",
    "    if (age >21) and (sex == 'female'):\n",
    "        return 1\n",
    "    else: \n",
    "        return 0\n",
    "\n",
    "    \n",
    "full_dataset['Is_Adult_Female'] = full_dataset[['Age','Sex']].apply(is_adult_female,axis =1)\n",
    "\n",
    "def is_adult_female(age_sex):\n",
    "    age,sex = age_sex\n",
    "    if (age <=1) and (sex == 'female'):\n",
    "        return 1\n",
    "    else: \n",
    "        return 0\n",
    "\n",
    "    \n",
    "full_dataset['Is_Infant'] = full_dataset['Age'].map(lambda x: 1 if x <=1 else 0)\n",
    "full_dataset['Is_Child'] = full_dataset['Age'].map(lambda x:  1 if 1 < x <=10 else 0)"
   ]
  },
  {
   "cell_type": "code",
   "execution_count": 37,
   "metadata": {},
   "outputs": [],
   "source": [
    "full_dataset['Single'] = full_dataset['Family_Size'].map(lambda s: 1 if s == 1 else 0)\n",
    "full_dataset['SmallF'] = full_dataset['Family_Size'].map(lambda s: 1 if  s == 2  else 0)\n",
    "full_dataset['MedF']  = full_dataset['Family_Size'].map(lambda s: 1 if 3 <= s <= 4 else 0)\n",
    "full_dataset['LargeF'] = full_dataset['Family_Size'].map(lambda s: 1 if s >= 5 else 0)"
   ]
  },
  {
   "cell_type": "code",
   "execution_count": 38,
   "metadata": {},
   "outputs": [
    {
     "data": {
      "text/html": [
       "<div>\n",
       "<style scoped>\n",
       "    .dataframe tbody tr th:only-of-type {\n",
       "        vertical-align: middle;\n",
       "    }\n",
       "\n",
       "    .dataframe tbody tr th {\n",
       "        vertical-align: top;\n",
       "    }\n",
       "\n",
       "    .dataframe thead th {\n",
       "        text-align: right;\n",
       "    }\n",
       "</style>\n",
       "<table border=\"1\" class=\"dataframe\">\n",
       "  <thead>\n",
       "    <tr style=\"text-align: right;\">\n",
       "      <th></th>\n",
       "      <th>Age</th>\n",
       "      <th>Cabin</th>\n",
       "      <th>Embarked</th>\n",
       "      <th>Family_Size</th>\n",
       "      <th>Fare</th>\n",
       "      <th>Name</th>\n",
       "      <th>Parch</th>\n",
       "      <th>PassengerId</th>\n",
       "      <th>Pclass</th>\n",
       "      <th>Sex</th>\n",
       "      <th>...</th>\n",
       "      <th>AgeBand</th>\n",
       "      <th>Age_with_Gender</th>\n",
       "      <th>Is_Adult_Male</th>\n",
       "      <th>Is_Adult_Female</th>\n",
       "      <th>Is_Infant</th>\n",
       "      <th>Is_Child</th>\n",
       "      <th>Single</th>\n",
       "      <th>SmallF</th>\n",
       "      <th>MedF</th>\n",
       "      <th>LargeF</th>\n",
       "    </tr>\n",
       "  </thead>\n",
       "  <tbody>\n",
       "    <tr>\n",
       "      <th>0</th>\n",
       "      <td>1.0</td>\n",
       "      <td>XXX</td>\n",
       "      <td>S</td>\n",
       "      <td>2</td>\n",
       "      <td>1.9810</td>\n",
       "      <td>Braund, Mr. Owen Harris</td>\n",
       "      <td>0</td>\n",
       "      <td>1</td>\n",
       "      <td>3</td>\n",
       "      <td>male</td>\n",
       "      <td>...</td>\n",
       "      <td>(16.136, 32.102]</td>\n",
       "      <td>3</td>\n",
       "      <td>0</td>\n",
       "      <td>0</td>\n",
       "      <td>1</td>\n",
       "      <td>0</td>\n",
       "      <td>0</td>\n",
       "      <td>1</td>\n",
       "      <td>0</td>\n",
       "      <td>0</td>\n",
       "    </tr>\n",
       "    <tr>\n",
       "      <th>1</th>\n",
       "      <td>2.0</td>\n",
       "      <td>C85</td>\n",
       "      <td>C</td>\n",
       "      <td>2</td>\n",
       "      <td>4.2667</td>\n",
       "      <td>Cumings, Mrs. John Bradley (Florence Briggs Th...</td>\n",
       "      <td>0</td>\n",
       "      <td>2</td>\n",
       "      <td>1</td>\n",
       "      <td>female</td>\n",
       "      <td>...</td>\n",
       "      <td>(32.102, 48.068]</td>\n",
       "      <td>4</td>\n",
       "      <td>0</td>\n",
       "      <td>0</td>\n",
       "      <td>0</td>\n",
       "      <td>1</td>\n",
       "      <td>0</td>\n",
       "      <td>1</td>\n",
       "      <td>0</td>\n",
       "      <td>0</td>\n",
       "    </tr>\n",
       "    <tr>\n",
       "      <th>2</th>\n",
       "      <td>1.0</td>\n",
       "      <td>XXX</td>\n",
       "      <td>S</td>\n",
       "      <td>1</td>\n",
       "      <td>2.0700</td>\n",
       "      <td>Heikkinen, Miss. Laina</td>\n",
       "      <td>0</td>\n",
       "      <td>3</td>\n",
       "      <td>3</td>\n",
       "      <td>female</td>\n",
       "      <td>...</td>\n",
       "      <td>(16.136, 32.102]</td>\n",
       "      <td>2</td>\n",
       "      <td>0</td>\n",
       "      <td>0</td>\n",
       "      <td>1</td>\n",
       "      <td>0</td>\n",
       "      <td>1</td>\n",
       "      <td>0</td>\n",
       "      <td>0</td>\n",
       "      <td>0</td>\n",
       "    </tr>\n",
       "    <tr>\n",
       "      <th>3</th>\n",
       "      <td>2.0</td>\n",
       "      <td>C123</td>\n",
       "      <td>S</td>\n",
       "      <td>2</td>\n",
       "      <td>3.9722</td>\n",
       "      <td>Futrelle, Mrs. Jacques Heath (Lily May Peel)</td>\n",
       "      <td>0</td>\n",
       "      <td>4</td>\n",
       "      <td>1</td>\n",
       "      <td>female</td>\n",
       "      <td>...</td>\n",
       "      <td>(32.102, 48.068]</td>\n",
       "      <td>4</td>\n",
       "      <td>0</td>\n",
       "      <td>0</td>\n",
       "      <td>0</td>\n",
       "      <td>1</td>\n",
       "      <td>0</td>\n",
       "      <td>1</td>\n",
       "      <td>0</td>\n",
       "      <td>0</td>\n",
       "    </tr>\n",
       "    <tr>\n",
       "      <th>4</th>\n",
       "      <td>2.0</td>\n",
       "      <td>XXX</td>\n",
       "      <td>S</td>\n",
       "      <td>1</td>\n",
       "      <td>2.0857</td>\n",
       "      <td>Allen, Mr. William Henry</td>\n",
       "      <td>0</td>\n",
       "      <td>5</td>\n",
       "      <td>3</td>\n",
       "      <td>male</td>\n",
       "      <td>...</td>\n",
       "      <td>(32.102, 48.068]</td>\n",
       "      <td>5</td>\n",
       "      <td>0</td>\n",
       "      <td>0</td>\n",
       "      <td>0</td>\n",
       "      <td>1</td>\n",
       "      <td>1</td>\n",
       "      <td>0</td>\n",
       "      <td>0</td>\n",
       "      <td>0</td>\n",
       "    </tr>\n",
       "  </tbody>\n",
       "</table>\n",
       "<p>5 rows × 27 columns</p>\n",
       "</div>"
      ],
      "text/plain": [
       "   Age Cabin Embarked  Family_Size    Fare                                               Name  Parch  PassengerId  Pclass     Sex   ...    \\\n",
       "0  1.0   XXX        S            2  1.9810                            Braund, Mr. Owen Harris      0            1       3    male   ...     \n",
       "1  2.0   C85        C            2  4.2667  Cumings, Mrs. John Bradley (Florence Briggs Th...      0            2       1  female   ...     \n",
       "2  1.0   XXX        S            1  2.0700                             Heikkinen, Miss. Laina      0            3       3  female   ...     \n",
       "3  2.0  C123        S            2  3.9722       Futrelle, Mrs. Jacques Heath (Lily May Peel)      0            4       1  female   ...     \n",
       "4  2.0   XXX        S            1  2.0857                           Allen, Mr. William Henry      0            5       3    male   ...     \n",
       "\n",
       "            AgeBand  Age_with_Gender Is_Adult_Male Is_Adult_Female Is_Infant  Is_Child  Single SmallF  MedF  LargeF  \n",
       "0  (16.136, 32.102]                3             0               0         1         0       0      1     0       0  \n",
       "1  (32.102, 48.068]                4             0               0         0         1       0      1     0       0  \n",
       "2  (16.136, 32.102]                2             0               0         1         0       1      0     0       0  \n",
       "3  (32.102, 48.068]                4             0               0         0         1       0      1     0       0  \n",
       "4  (32.102, 48.068]                5             0               0         0         1       1      0     0       0  \n",
       "\n",
       "[5 rows x 27 columns]"
      ]
     },
     "execution_count": 38,
     "metadata": {},
     "output_type": "execute_result"
    }
   ],
   "source": [
    "full_dataset.head()"
   ]
  },
  {
   "cell_type": "code",
   "execution_count": 39,
   "metadata": {},
   "outputs": [],
   "source": [
    "#deck_level =sorted(full_dataset['Deck_Level'].unique())\n",
    "#deck_mapper ={key:value for value,key in enumerate(deck_level)}\n",
    "#print(deck_mapper)\n",
    "#full_dataset[\"Deck_Level\"].replace(deck_mapper,inplace=True)"
   ]
  },
  {
   "cell_type": "code",
   "execution_count": 40,
   "metadata": {},
   "outputs": [],
   "source": [
    "embarked =sorted(full_dataset['Embarked'].unique())\n",
    "embarked_mapper ={key:value for value,key in enumerate(embarked)}\n",
    "full_dataset[\"Embarked\"].replace(embarked_mapper,inplace=True)"
   ]
  },
  {
   "cell_type": "code",
   "execution_count": 41,
   "metadata": {},
   "outputs": [],
   "source": [
    "#title =sorted(full_dataset['Title'].unique())\n",
    "#title_mapper ={key:value for value,key in enumerate(title)}\n",
    "#full_dataset[\"Title\"].replace(title_mapper,inplace=True)\n",
    " "
   ]
  },
  {
   "cell_type": "code",
   "execution_count": 42,
   "metadata": {},
   "outputs": [],
   "source": [
    "def has_cabin(deck_level):\n",
    "     \n",
    "    if (deck_level =='X'):\n",
    "        return 'No'\n",
    "    else: \n",
    "        return 'Yes'\n",
    "\n",
    "    \n",
    "full_dataset['Has_Cabin'] = full_dataset['Deck_Level'].apply(has_cabin)\n",
    "  "
   ]
  },
  {
   "cell_type": "code",
   "execution_count": 43,
   "metadata": {},
   "outputs": [],
   "source": [
    "full_dataset[\"Fare\"] = full_dataset[\"Fare\"].map(lambda i: np.log(i) if i > 0 else 0)"
   ]
  },
  {
   "cell_type": "code",
   "execution_count": 44,
   "metadata": {},
   "outputs": [],
   "source": [
    "full_dataset = pd.get_dummies(full_dataset, columns = [\"Pclass\"],prefix=\"Pc\")"
   ]
  },
  {
   "cell_type": "code",
   "execution_count": 45,
   "metadata": {},
   "outputs": [],
   "source": [
    "Ticket = []\n",
    "for each_ticket in list(full_dataset['Ticket']):\n",
    "    #print(each_ticket)\n",
    "    each_ticket =str(each_ticket).upper()\n",
    "    if not each_ticket.isdigit() :\n",
    "        each_ticket=each_ticket.replace(\".\",\"\").replace(\"/\",\"\").strip().split(' ')[0] \n",
    "        Ticket.append(each_ticket) #Take prefix\n",
    "    else:\n",
    "        Ticket.append(\"XXX\")\n",
    "full_dataset[\"Ticket\"] = Ticket"
   ]
  },
  {
   "cell_type": "code",
   "execution_count": 46,
   "metadata": {},
   "outputs": [],
   "source": [
    "full_dataset,full_dataset_ignore = one_hot_dataframe(full_dataset, ['Sex','Title','Deck_Level',], replace=True)"
   ]
  },
  {
   "cell_type": "code",
   "execution_count": 47,
   "metadata": {},
   "outputs": [
    {
     "data": {
      "text/html": [
       "<div>\n",
       "<style scoped>\n",
       "    .dataframe tbody tr th:only-of-type {\n",
       "        vertical-align: middle;\n",
       "    }\n",
       "\n",
       "    .dataframe tbody tr th {\n",
       "        vertical-align: top;\n",
       "    }\n",
       "\n",
       "    .dataframe thead th {\n",
       "        text-align: right;\n",
       "    }\n",
       "</style>\n",
       "<table border=\"1\" class=\"dataframe\">\n",
       "  <thead>\n",
       "    <tr style=\"text-align: right;\">\n",
       "      <th></th>\n",
       "      <th>Age</th>\n",
       "      <th>Cabin</th>\n",
       "      <th>Embarked</th>\n",
       "      <th>Family_Size</th>\n",
       "      <th>Fare</th>\n",
       "      <th>Name</th>\n",
       "      <th>Parch</th>\n",
       "      <th>PassengerId</th>\n",
       "      <th>SibSp</th>\n",
       "      <th>Survived</th>\n",
       "      <th>...</th>\n",
       "      <th>Deck_Level=T</th>\n",
       "      <th>Deck_Level=X</th>\n",
       "      <th>Sex=female</th>\n",
       "      <th>Sex=male</th>\n",
       "      <th>Title=Master</th>\n",
       "      <th>Title=Miss</th>\n",
       "      <th>Title=Mr</th>\n",
       "      <th>Title=Mrs</th>\n",
       "      <th>Title=Officer</th>\n",
       "      <th>Title=Other</th>\n",
       "    </tr>\n",
       "  </thead>\n",
       "  <tbody>\n",
       "    <tr>\n",
       "      <th>0</th>\n",
       "      <td>1.0</td>\n",
       "      <td>XXX</td>\n",
       "      <td>2</td>\n",
       "      <td>2</td>\n",
       "      <td>0.6836</td>\n",
       "      <td>Braund, Mr. Owen Harris</td>\n",
       "      <td>0</td>\n",
       "      <td>1</td>\n",
       "      <td>1</td>\n",
       "      <td>0.0</td>\n",
       "      <td>...</td>\n",
       "      <td>0.0</td>\n",
       "      <td>1.0</td>\n",
       "      <td>0.0</td>\n",
       "      <td>1.0</td>\n",
       "      <td>0.0</td>\n",
       "      <td>0.0</td>\n",
       "      <td>1.0</td>\n",
       "      <td>0.0</td>\n",
       "      <td>0.0</td>\n",
       "      <td>0.0</td>\n",
       "    </tr>\n",
       "    <tr>\n",
       "      <th>1</th>\n",
       "      <td>2.0</td>\n",
       "      <td>C85</td>\n",
       "      <td>0</td>\n",
       "      <td>2</td>\n",
       "      <td>1.4508</td>\n",
       "      <td>Cumings, Mrs. John Bradley (Florence Briggs Th...</td>\n",
       "      <td>0</td>\n",
       "      <td>2</td>\n",
       "      <td>1</td>\n",
       "      <td>1.0</td>\n",
       "      <td>...</td>\n",
       "      <td>0.0</td>\n",
       "      <td>0.0</td>\n",
       "      <td>1.0</td>\n",
       "      <td>0.0</td>\n",
       "      <td>0.0</td>\n",
       "      <td>0.0</td>\n",
       "      <td>0.0</td>\n",
       "      <td>1.0</td>\n",
       "      <td>0.0</td>\n",
       "      <td>0.0</td>\n",
       "    </tr>\n",
       "    <tr>\n",
       "      <th>2</th>\n",
       "      <td>1.0</td>\n",
       "      <td>XXX</td>\n",
       "      <td>2</td>\n",
       "      <td>1</td>\n",
       "      <td>0.7276</td>\n",
       "      <td>Heikkinen, Miss. Laina</td>\n",
       "      <td>0</td>\n",
       "      <td>3</td>\n",
       "      <td>0</td>\n",
       "      <td>1.0</td>\n",
       "      <td>...</td>\n",
       "      <td>0.0</td>\n",
       "      <td>1.0</td>\n",
       "      <td>1.0</td>\n",
       "      <td>0.0</td>\n",
       "      <td>0.0</td>\n",
       "      <td>1.0</td>\n",
       "      <td>0.0</td>\n",
       "      <td>0.0</td>\n",
       "      <td>0.0</td>\n",
       "      <td>0.0</td>\n",
       "    </tr>\n",
       "    <tr>\n",
       "      <th>3</th>\n",
       "      <td>2.0</td>\n",
       "      <td>C123</td>\n",
       "      <td>2</td>\n",
       "      <td>2</td>\n",
       "      <td>1.3793</td>\n",
       "      <td>Futrelle, Mrs. Jacques Heath (Lily May Peel)</td>\n",
       "      <td>0</td>\n",
       "      <td>4</td>\n",
       "      <td>1</td>\n",
       "      <td>1.0</td>\n",
       "      <td>...</td>\n",
       "      <td>0.0</td>\n",
       "      <td>0.0</td>\n",
       "      <td>1.0</td>\n",
       "      <td>0.0</td>\n",
       "      <td>0.0</td>\n",
       "      <td>0.0</td>\n",
       "      <td>0.0</td>\n",
       "      <td>1.0</td>\n",
       "      <td>0.0</td>\n",
       "      <td>0.0</td>\n",
       "    </tr>\n",
       "    <tr>\n",
       "      <th>4</th>\n",
       "      <td>2.0</td>\n",
       "      <td>XXX</td>\n",
       "      <td>2</td>\n",
       "      <td>1</td>\n",
       "      <td>0.7351</td>\n",
       "      <td>Allen, Mr. William Henry</td>\n",
       "      <td>0</td>\n",
       "      <td>5</td>\n",
       "      <td>0</td>\n",
       "      <td>0.0</td>\n",
       "      <td>...</td>\n",
       "      <td>0.0</td>\n",
       "      <td>1.0</td>\n",
       "      <td>0.0</td>\n",
       "      <td>1.0</td>\n",
       "      <td>0.0</td>\n",
       "      <td>0.0</td>\n",
       "      <td>1.0</td>\n",
       "      <td>0.0</td>\n",
       "      <td>0.0</td>\n",
       "      <td>0.0</td>\n",
       "    </tr>\n",
       "  </tbody>\n",
       "</table>\n",
       "<p>5 rows × 44 columns</p>\n",
       "</div>"
      ],
      "text/plain": [
       "   Age Cabin  Embarked  Family_Size    Fare                                               Name  Parch  PassengerId  SibSp  Survived  \\\n",
       "0  1.0   XXX         2            2  0.6836                            Braund, Mr. Owen Harris      0            1      1       0.0   \n",
       "1  2.0   C85         0            2  1.4508  Cumings, Mrs. John Bradley (Florence Briggs Th...      0            2      1       1.0   \n",
       "2  1.0   XXX         2            1  0.7276                             Heikkinen, Miss. Laina      0            3      0       1.0   \n",
       "3  2.0  C123         2            2  1.3793       Futrelle, Mrs. Jacques Heath (Lily May Peel)      0            4      1       1.0   \n",
       "4  2.0   XXX         2            1  0.7351                           Allen, Mr. William Henry      0            5      0       0.0   \n",
       "\n",
       "      ...      Deck_Level=T  Deck_Level=X  Sex=female Sex=male  Title=Master  Title=Miss  Title=Mr  Title=Mrs  Title=Officer  Title=Other  \n",
       "0     ...               0.0           1.0         0.0      1.0           0.0         0.0       1.0        0.0            0.0          0.0  \n",
       "1     ...               0.0           0.0         1.0      0.0           0.0         0.0       0.0        1.0            0.0          0.0  \n",
       "2     ...               0.0           1.0         1.0      0.0           0.0         1.0       0.0        0.0            0.0          0.0  \n",
       "3     ...               0.0           0.0         1.0      0.0           0.0         0.0       0.0        1.0            0.0          0.0  \n",
       "4     ...               0.0           1.0         0.0      1.0           0.0         0.0       1.0        0.0            0.0          0.0  \n",
       "\n",
       "[5 rows x 44 columns]"
      ]
     },
     "execution_count": 47,
     "metadata": {},
     "output_type": "execute_result"
    }
   ],
   "source": [
    "full_dataset.head()"
   ]
  },
  {
   "cell_type": "code",
   "execution_count": 48,
   "metadata": {},
   "outputs": [],
   "source": [
    "features_drop = ['Age','AgeBand','Cabin','Name','PassengerId','Is_Adult_Male','Is_Adult_Female','Is_Infant', 'Is_Child','Family_Size','Has_Cabin'\n",
    "                 ,'Ticket','Name_length']\n",
    "full_dataset = full_dataset.drop(features_drop, axis=1)"
   ]
  },
  {
   "cell_type": "code",
   "execution_count": 49,
   "metadata": {},
   "outputs": [
    {
     "name": "stdout",
     "output_type": "stream",
     "text": [
      "<class 'pandas.core.frame.DataFrame'>\n",
      "RangeIndex: 1309 entries, 0 to 1308\n",
      "Data columns (total 31 columns):\n",
      "Embarked           1309 non-null int64\n",
      "Fare               1309 non-null float64\n",
      "Parch              1309 non-null int64\n",
      "SibSp              1309 non-null int64\n",
      "Survived           891 non-null float64\n",
      "Name_lengthBand    1309 non-null int32\n",
      "Age_with_Gender    1309 non-null int64\n",
      "Single             1309 non-null int64\n",
      "SmallF             1309 non-null int64\n",
      "MedF               1309 non-null int64\n",
      "LargeF             1309 non-null int64\n",
      "Pc_1               1309 non-null uint8\n",
      "Pc_2               1309 non-null uint8\n",
      "Pc_3               1309 non-null uint8\n",
      "Deck_Level=A       1309 non-null float64\n",
      "Deck_Level=B       1309 non-null float64\n",
      "Deck_Level=C       1309 non-null float64\n",
      "Deck_Level=D       1309 non-null float64\n",
      "Deck_Level=E       1309 non-null float64\n",
      "Deck_Level=F       1309 non-null float64\n",
      "Deck_Level=G       1309 non-null float64\n",
      "Deck_Level=T       1309 non-null float64\n",
      "Deck_Level=X       1309 non-null float64\n",
      "Sex=female         1309 non-null float64\n",
      "Sex=male           1309 non-null float64\n",
      "Title=Master       1309 non-null float64\n",
      "Title=Miss         1309 non-null float64\n",
      "Title=Mr           1309 non-null float64\n",
      "Title=Mrs          1309 non-null float64\n",
      "Title=Officer      1309 non-null float64\n",
      "Title=Other        1309 non-null float64\n",
      "dtypes: float64(19), int32(1), int64(8), uint8(3)\n",
      "memory usage: 285.1 KB\n"
     ]
    }
   ],
   "source": [
    "full_dataset.info()\n",
    "#full_dataset['Has_Cabin'].unique()"
   ]
  },
  {
   "cell_type": "code",
   "execution_count": 50,
   "metadata": {},
   "outputs": [],
   "source": [
    "train_dataset =full_dataset[full_dataset['Survived'].notnull()]\n",
    "test_dataset =full_dataset[full_dataset['Survived'].isnull()]\n",
    "#train_dataset[\"Survived\"] = train_dataset[\"Survived\"].astype(\"int\")\n",
    "train_dataset.drop(labels=[\"Survived\"],axis = 1,inplace=True)\n",
    "test_dataset.drop(labels=[\"Survived\"],axis = 1,inplace=True)"
   ]
  },
  {
   "cell_type": "markdown",
   "metadata": {},
   "source": [
    "### 4. Evaluate Algorithm - Random Forest\n",
    "####  a) Split-out validation dataset\n",
    "####  b) Test options and evaluation metric"
   ]
  },
  {
   "cell_type": "code",
   "execution_count": 51,
   "metadata": {},
   "outputs": [
    {
     "data": {
      "text/html": [
       "<div>\n",
       "<style scoped>\n",
       "    .dataframe tbody tr th:only-of-type {\n",
       "        vertical-align: middle;\n",
       "    }\n",
       "\n",
       "    .dataframe tbody tr th {\n",
       "        vertical-align: top;\n",
       "    }\n",
       "\n",
       "    .dataframe thead th {\n",
       "        text-align: right;\n",
       "    }\n",
       "</style>\n",
       "<table border=\"1\" class=\"dataframe\">\n",
       "  <thead>\n",
       "    <tr style=\"text-align: right;\">\n",
       "      <th></th>\n",
       "      <th>Embarked</th>\n",
       "      <th>Fare</th>\n",
       "      <th>Parch</th>\n",
       "      <th>SibSp</th>\n",
       "      <th>Name_lengthBand</th>\n",
       "      <th>Age_with_Gender</th>\n",
       "      <th>Single</th>\n",
       "      <th>SmallF</th>\n",
       "      <th>MedF</th>\n",
       "      <th>LargeF</th>\n",
       "      <th>...</th>\n",
       "      <th>Deck_Level=T</th>\n",
       "      <th>Deck_Level=X</th>\n",
       "      <th>Sex=female</th>\n",
       "      <th>Sex=male</th>\n",
       "      <th>Title=Master</th>\n",
       "      <th>Title=Miss</th>\n",
       "      <th>Title=Mr</th>\n",
       "      <th>Title=Mrs</th>\n",
       "      <th>Title=Officer</th>\n",
       "      <th>Title=Other</th>\n",
       "    </tr>\n",
       "  </thead>\n",
       "  <tbody>\n",
       "    <tr>\n",
       "      <th>0</th>\n",
       "      <td>2</td>\n",
       "      <td>0.6836</td>\n",
       "      <td>0</td>\n",
       "      <td>1</td>\n",
       "      <td>1</td>\n",
       "      <td>3</td>\n",
       "      <td>0</td>\n",
       "      <td>1</td>\n",
       "      <td>0</td>\n",
       "      <td>0</td>\n",
       "      <td>...</td>\n",
       "      <td>0.0</td>\n",
       "      <td>1.0</td>\n",
       "      <td>0.0</td>\n",
       "      <td>1.0</td>\n",
       "      <td>0.0</td>\n",
       "      <td>0.0</td>\n",
       "      <td>1.0</td>\n",
       "      <td>0.0</td>\n",
       "      <td>0.0</td>\n",
       "      <td>0.0</td>\n",
       "    </tr>\n",
       "    <tr>\n",
       "      <th>1</th>\n",
       "      <td>0</td>\n",
       "      <td>1.4508</td>\n",
       "      <td>0</td>\n",
       "      <td>1</td>\n",
       "      <td>3</td>\n",
       "      <td>4</td>\n",
       "      <td>0</td>\n",
       "      <td>1</td>\n",
       "      <td>0</td>\n",
       "      <td>0</td>\n",
       "      <td>...</td>\n",
       "      <td>0.0</td>\n",
       "      <td>0.0</td>\n",
       "      <td>1.0</td>\n",
       "      <td>0.0</td>\n",
       "      <td>0.0</td>\n",
       "      <td>0.0</td>\n",
       "      <td>0.0</td>\n",
       "      <td>1.0</td>\n",
       "      <td>0.0</td>\n",
       "      <td>0.0</td>\n",
       "    </tr>\n",
       "    <tr>\n",
       "      <th>2</th>\n",
       "      <td>2</td>\n",
       "      <td>0.7276</td>\n",
       "      <td>0</td>\n",
       "      <td>0</td>\n",
       "      <td>1</td>\n",
       "      <td>2</td>\n",
       "      <td>1</td>\n",
       "      <td>0</td>\n",
       "      <td>0</td>\n",
       "      <td>0</td>\n",
       "      <td>...</td>\n",
       "      <td>0.0</td>\n",
       "      <td>1.0</td>\n",
       "      <td>1.0</td>\n",
       "      <td>0.0</td>\n",
       "      <td>0.0</td>\n",
       "      <td>1.0</td>\n",
       "      <td>0.0</td>\n",
       "      <td>0.0</td>\n",
       "      <td>0.0</td>\n",
       "      <td>0.0</td>\n",
       "    </tr>\n",
       "    <tr>\n",
       "      <th>3</th>\n",
       "      <td>2</td>\n",
       "      <td>1.3793</td>\n",
       "      <td>0</td>\n",
       "      <td>1</td>\n",
       "      <td>3</td>\n",
       "      <td>4</td>\n",
       "      <td>0</td>\n",
       "      <td>1</td>\n",
       "      <td>0</td>\n",
       "      <td>0</td>\n",
       "      <td>...</td>\n",
       "      <td>0.0</td>\n",
       "      <td>0.0</td>\n",
       "      <td>1.0</td>\n",
       "      <td>0.0</td>\n",
       "      <td>0.0</td>\n",
       "      <td>0.0</td>\n",
       "      <td>0.0</td>\n",
       "      <td>1.0</td>\n",
       "      <td>0.0</td>\n",
       "      <td>0.0</td>\n",
       "    </tr>\n",
       "    <tr>\n",
       "      <th>4</th>\n",
       "      <td>2</td>\n",
       "      <td>0.7351</td>\n",
       "      <td>0</td>\n",
       "      <td>0</td>\n",
       "      <td>1</td>\n",
       "      <td>5</td>\n",
       "      <td>1</td>\n",
       "      <td>0</td>\n",
       "      <td>0</td>\n",
       "      <td>0</td>\n",
       "      <td>...</td>\n",
       "      <td>0.0</td>\n",
       "      <td>1.0</td>\n",
       "      <td>0.0</td>\n",
       "      <td>1.0</td>\n",
       "      <td>0.0</td>\n",
       "      <td>0.0</td>\n",
       "      <td>1.0</td>\n",
       "      <td>0.0</td>\n",
       "      <td>0.0</td>\n",
       "      <td>0.0</td>\n",
       "    </tr>\n",
       "  </tbody>\n",
       "</table>\n",
       "<p>5 rows × 30 columns</p>\n",
       "</div>"
      ],
      "text/plain": [
       "   Embarked    Fare  Parch  SibSp  Name_lengthBand  Age_with_Gender  Single  SmallF  MedF  LargeF     ...       Deck_Level=T  \\\n",
       "0         2  0.6836      0      1                1                3       0       1     0       0     ...                0.0   \n",
       "1         0  1.4508      0      1                3                4       0       1     0       0     ...                0.0   \n",
       "2         2  0.7276      0      0                1                2       1       0     0       0     ...                0.0   \n",
       "3         2  1.3793      0      1                3                4       0       1     0       0     ...                0.0   \n",
       "4         2  0.7351      0      0                1                5       1       0     0       0     ...                0.0   \n",
       "\n",
       "   Deck_Level=X  Sex=female  Sex=male  Title=Master  Title=Miss  Title=Mr  Title=Mrs  Title=Officer  Title=Other  \n",
       "0           1.0         0.0       1.0           0.0         0.0       1.0        0.0            0.0          0.0  \n",
       "1           0.0         1.0       0.0           0.0         0.0       0.0        1.0            0.0          0.0  \n",
       "2           1.0         1.0       0.0           0.0         1.0       0.0        0.0            0.0          0.0  \n",
       "3           0.0         1.0       0.0           0.0         0.0       0.0        1.0            0.0          0.0  \n",
       "4           1.0         0.0       1.0           0.0         0.0       1.0        0.0            0.0          0.0  \n",
       "\n",
       "[5 rows x 30 columns]"
      ]
     },
     "execution_count": 51,
     "metadata": {},
     "output_type": "execute_result"
    }
   ],
   "source": [
    "train_dataset.head()"
   ]
  },
  {
   "cell_type": "code",
   "execution_count": 52,
   "metadata": {},
   "outputs": [],
   "source": [
    "#train_dataset.columns.values\n",
    "#fig, ax = plt.subplots(figsize=(10,20) )\n",
    "#g = sns.heatmap(train_dataset[train_dataset.columns.values].corr(),annot=True, fmt = \".2f\", cmap = \"coolwarm\",ax =ax)\n"
   ]
  },
  {
   "cell_type": "code",
   "execution_count": 53,
   "metadata": {},
   "outputs": [],
   "source": [
    "from sklearn import metrics\n",
    "from sklearn.metrics import roc_curve\n",
    "def measure_performance(X, y, clf, show_accuracy=True,show_classification_report=True,\n",
    "                        show_confusion_matrix=True, show_r2_score=False):\n",
    "    y_pred = clf.predict(X) \n",
    "    if show_accuracy:\n",
    "        print (\"Accuracy:{0:.3f}\".format( metrics.accuracy_score(y, y_pred)) )\n",
    "    if show_classification_report:\n",
    "        print (\"Classification report\")\n",
    "        print (metrics.classification_report(y, y_pred))\n",
    "    if show_confusion_matrix:\n",
    "        print(\"Confusion matrix\") \n",
    "        print(metrics.confusion_matrix(y, y_pred),)\n",
    "    if show_r2_score:\n",
    "        print (\"Coefficient of determination:{0:.3f}\"\n",
    "               .format( metrics.r2_score(y, y_pred)))\n",
    "    return y_pred"
   ]
  },
  {
   "cell_type": "code",
   "execution_count": 54,
   "metadata": {},
   "outputs": [],
   "source": [
    "from sklearn.model_selection import GridSearchCV, cross_val_score, StratifiedKFold, learning_curve\n",
    "def plot_learning_curve(train_sizes, train_scores, validation_scores):\n",
    "    plt.figure()\n",
    "    plt.title(\"Learning Curve\")\n",
    "    train_scores_mean = np.mean(train_scores, axis=1)\n",
    "    train_scores_std = np.std(train_scores, axis=1)\n",
    "    validation_scores_mean = np.mean(validation_scores, axis=1)\n",
    "    validation_scores_std = np.std(validation_scores, axis=1)\n",
    "\n",
    "    plt.fill_between(train_sizes, train_scores_mean - train_scores_std,\n",
    "                     train_scores_mean + train_scores_std, alpha=0.1,\n",
    "                     color=\"r\")\n",
    "    plt.fill_between(train_sizes, validation_scores_mean - validation_scores_std,\n",
    "                     validation_scores_mean + validation_scores_std, alpha=0.1, color=\"g\")\n",
    "    \n",
    "    plt.plot(train_sizes, train_scores_mean, 'o-', color=\"r\",label=\"Training score\")\n",
    "    plt.plot(train_sizes, validation_scores_mean, 'o-', color=\"g\" ,label=\"Cross-validation score\")\n",
    "    plt.ylim(max(-3, validation_scores_mean.min() - .1), train_scores_mean.max() + .1)\n",
    "    plt.legend(loc=\"best\")\n",
    "    plt.show()"
   ]
  },
  {
   "cell_type": "code",
   "execution_count": 55,
   "metadata": {},
   "outputs": [],
   "source": [
    "from sklearn.model_selection import validation_curve\n",
    "def plot_validation_curve(parameter_values, train_scores, validation_scores):\n",
    "    plt.figure()\n",
    "    plt.title(\"Validation Curve\")\n",
    "    train_scores_mean = np.mean(train_scores, axis=1)\n",
    "    train_scores_std = np.std(train_scores, axis=1)\n",
    "    validation_scores_mean = np.mean(validation_scores, axis=1)\n",
    "    validation_scores_std = np.std(validation_scores, axis=1)\n",
    "\n",
    "    plt.fill_between(parameter_values, train_scores_mean - train_scores_std,\n",
    "                     train_scores_mean + train_scores_std, alpha=0.1,\n",
    "                     color=\"r\")\n",
    "    plt.fill_between(parameter_values, validation_scores_mean - validation_scores_std,\n",
    "                     validation_scores_mean + validation_scores_std, alpha=0.1, color=\"g\")\n",
    "    plt.plot(parameter_values, train_scores_mean, 'o-', color=\"r\",\n",
    "             label=\"Training score\")\n",
    "    plt.plot(parameter_values, validation_scores_mean, 'o-', color=\"g\",\n",
    "             label=\"Cross-validation score\")\n",
    "    plt.ylim(validation_scores_mean.min() - .1, train_scores_mean.max() + .1)\n",
    "    plt.legend(loc=\"best\")\n",
    "    plt.show()"
   ]
  },
  {
   "cell_type": "code",
   "execution_count": 56,
   "metadata": {},
   "outputs": [],
   "source": [
    "def plot_roc(X_val,y_val,model):\n",
    "    fpr, tpr, thresholds = roc_curve(y_val, model.predict_proba(X_val)[:, 1])\n",
    "    plt.figure()\n",
    "    plt.plot(fpr, tpr, label=\"ROC Curve\")\n",
    "    plt.xlabel(\"FPR\")\n",
    "    plt.ylabel(\"TPR (recall)\")\n",
    "    plt.title(\"roc_curve\");\n",
    "    # find threshold closest to zero:\n",
    "    close_zero = np.argmin(np.abs(thresholds))\n",
    "    plt.plot(fpr[close_zero], tpr[close_zero], 'o', markersize=10,\n",
    "         label=\"threshold zero\", fillstyle=\"none\", c='k', mew=2)\n",
    "    plt.legend(loc=4)\n",
    "    plt.show()"
   ]
  },
  {
   "cell_type": "code",
   "execution_count": 57,
   "metadata": {},
   "outputs": [],
   "source": [
    "kfold = StratifiedKFold(n_splits=5)\n",
    "from sklearn.model_selection  import  train_test_split\n",
    "from sklearn.linear_model  import LogisticRegression\n",
    "from sklearn.preprocessing import StandardScaler\n",
    "test_size = 0.20\n",
    "seed = 2\n",
    "\n",
    "X_trainmodel, X_val, y_trainmodel, y_val = train_test_split(train_dataset, train_y, test_size=test_size,random_state=seed)"
   ]
  },
  {
   "cell_type": "code",
   "execution_count": 58,
   "metadata": {},
   "outputs": [],
   "source": [
    "def test_classifier(model,X,y,cv):\n",
    "    clf = model.fit(X,y.values.ravel())\n",
    "    result = clf.score(X,y.values)\n",
    "    print (\"Accuracy: {0:.3f}\".format(result*100.0))\n",
    "\n",
    "    train_sizes, train_scores, validation_scores = learning_curve(clf, X,y.values.ravel(),cv=cv)\n",
    "    plot_learning_curve(train_sizes, train_scores, validation_scores)\n",
    "    return clf,result\n",
    " "
   ]
  },
  {
   "cell_type": "code",
   "execution_count": null,
   "metadata": {},
   "outputs": [],
   "source": [
    "Check"
   ]
  },
  {
   "cell_type": "code",
   "execution_count": 59,
   "metadata": {},
   "outputs": [
    {
     "name": "stdout",
     "output_type": "stream",
     "text": [
      "Accuracy: 96.208\n"
     ]
    },
    {
     "data": {
      "image/png": "[encoded data removed]",
      "text/plain": [
       "<Figure size 432x288 with 1 Axes>"
      ]
     },
     "metadata": {},
     "output_type": "display_data"
    },
    {
     "name": "stdout",
     "output_type": "stream",
     "text": [
      "RandomForestClassifier(bootstrap=True, class_weight=None, criterion='gini',\n",
      "            max_depth=None, max_features=None, max_leaf_nodes=None,\n",
      "            min_impurity_decrease=0.0, min_impurity_split=None,\n",
      "            min_samples_leaf=1, min_samples_split=2,\n",
      "            min_weight_fraction_leaf=0.0, n_estimators=50, n_jobs=None,\n",
      "            oob_score=False, random_state=None, verbose=0,\n",
      "            warm_start=False)\n"
     ]
    }
   ],
   "source": [
    "from sklearn.ensemble import RandomForestClassifier\n",
    "\n",
    "rfc ,result = test_classifier(RandomForestClassifier(n_estimators=50, max_features=None),X_trainmodel,y_trainmodel,kfold)\n",
    "print(rfc)"
   ]
  },
  {
   "cell_type": "code",
   "execution_count": 60,
   "metadata": {},
   "outputs": [
    {
     "data": {
      "text/plain": [
       "<matplotlib.axes._subplots.AxesSubplot at 0x1eb72c81be0>"
      ]
     },
     "execution_count": 60,
     "metadata": {},
     "output_type": "execute_result"
    },
    {
     "data": {
      "image/png": "[encoded data removed]",
      "text/plain": [
       "<Figure size 288x720 with 1 Axes>"
      ]
     },
     "metadata": {},
     "output_type": "display_data"
    }
   ],
   "source": [
    "features = pd.DataFrame()\n",
    "features['feature'] = X_trainmodel.columns\n",
    "features['importance'] = rfc.feature_importances_\n",
    "features.sort_values(by=['importance'], ascending=True, inplace=True)\n",
    "features.set_index('feature', inplace=True)\n",
    "features.plot(kind='barh', figsize=(4, 10))"
   ]
  },
  {
   "cell_type": "code",
   "execution_count": 61,
   "metadata": {},
   "outputs": [
    {
     "name": "stdout",
     "output_type": "stream",
     "text": [
      "Classification report\n",
      "              precision    recall  f1-score   support\n",
      "\n",
      "           0       0.76      0.93      0.83       100\n",
      "           1       0.88      0.62      0.73        79\n",
      "\n",
      "   micro avg       0.79      0.79      0.79       179\n",
      "   macro avg       0.82      0.78      0.78       179\n",
      "weighted avg       0.81      0.79      0.79       179\n",
      "\n",
      "Confusion matrix\n",
      "[[93  7]\n",
      " [30 49]]\n"
     ]
    }
   ],
   "source": [
    "y_pred=measure_performance(X_val,y_val,rfc, show_accuracy=False, \n",
    "                    show_classification_report=True,\n",
    "                    show_confusion_matrix=True, show_r2_score=False)\n"
   ]
  },
  {
   "cell_type": "code",
   "execution_count": 85,
   "metadata": {},
   "outputs": [
    {
     "name": "stdout",
     "output_type": "stream",
     "text": [
      "(712, 9)\n",
      "(179, 9)\n",
      "(418, 9)\n"
     ]
    }
   ],
   "source": [
    "from sklearn.feature_selection import SelectFromModel\n",
    "model = SelectFromModel(rfc, prefit=True)\n",
    "reduced_train= model.transform(X_trainmodel)\n",
    "reduced_validation =model.transform(X_val)\n",
    "reduced_test =model.transform(test_dataset)\n",
    "X_trainmodel =reduced_train\n",
    "X_val =reduced_validation\n",
    "test_dataset =reduced_test\n",
    "print(reduced_train.shape)\n",
    "print(reduced_validation.shape)\n",
    "print(reduced_test.shape)"
   ]
  },
  {
   "cell_type": "code",
   "execution_count": 86,
   "metadata": {},
   "outputs": [],
   "source": [
    "rfc_best =RandomForestClassifier(bootstrap=True, class_weight=None, criterion='gini',\n",
    "            max_depth=6, max_features='auto', max_leaf_nodes=None,\n",
    "            min_impurity_split=1e-07, min_samples_leaf=1,\n",
    "            min_samples_split=10, min_weight_fraction_leaf=0.0,\n",
    "            n_estimators=50, n_jobs=1, oob_score=False, random_state=None,\n",
    "            verbose=0, warm_start=False)"
   ]
  },
  {
   "cell_type": "code",
   "execution_count": 87,
   "metadata": {},
   "outputs": [
    {
     "data": {
      "image/png": "[encoded data removed]",
      "text/plain": [
       "<Figure size 432x288 with 1 Axes>"
      ]
     },
     "metadata": {},
     "output_type": "display_data"
    },
    {
     "data": {
      "image/png": "[encoded data removed]",
      "text/plain": [
       "<Figure size 432x288 with 1 Axes>"
      ]
     },
     "metadata": {},
     "output_type": "display_data"
    },
    {
     "name": "stdout",
     "output_type": "stream",
     "text": [
      "Classification report\n",
      "              precision    recall  f1-score   support\n",
      "\n",
      "           0       0.77      0.92      0.84       100\n",
      "           1       0.86      0.65      0.74        79\n",
      "\n",
      "   micro avg       0.80      0.80      0.80       179\n",
      "   macro avg       0.82      0.78      0.79       179\n",
      "weighted avg       0.81      0.80      0.79       179\n",
      "\n",
      "Confusion matrix\n",
      "[[92  8]\n",
      " [28 51]]\n"
     ]
    }
   ],
   "source": [
    "rfc_best.fit(X_trainmodel, y_trainmodel.values.ravel())\n",
    "train_sizes, train_scores, validation_scores = learning_curve(rfc_best, X_trainmodel,y_trainmodel.values.ravel(),cv=kfold)\n",
    "plot_learning_curve(train_sizes, train_scores, validation_scores)\n",
    "\n",
    "plot_roc(X_val,y_val,rfc_best)\n",
    "\n",
    "y_pred=measure_performance(X_val,y_val,rfc_best, show_accuracy=False, \n",
    "                    show_classification_report=True,\n",
    "                    show_confusion_matrix=True, show_r2_score=False)"
   ]
  },
  {
   "cell_type": "code",
   "execution_count": 88,
   "metadata": {},
   "outputs": [],
   "source": [
    "import xgboost as xgb"
   ]
  },
  {
   "cell_type": "code",
   "execution_count": 89,
   "metadata": {},
   "outputs": [
    {
     "data": {
      "text/plain": [
       "GridSearchCV(cv=5, error_score='raise-deprecating',\n",
       "       estimator=XGBClassifier(base_score=0.5, booster='gbtree', colsample_bylevel=1,\n",
       "       colsample_bytree=0.6, eval_metric='auc', gamma=0.1,\n",
       "       learning_rate=0.2, max_delta_step=0, max_depth=5,\n",
       "       min_child_weight=1, missing=None, n_estimators=140, n_jobs=1,\n",
       "       nthread=4, objective='binary:logistic', random_state=0, reg_alpha=0,\n",
       "       reg_lambda=1, scale_pos_weight=1, seed=27, silent=True,\n",
       "       subsample=0.8),\n",
       "       fit_params=None, iid=False, n_jobs=4,\n",
       "       param_grid={'max_depth': [3, 5], 'min_child_weight': [1, 3], 'learning_rate': [0.001, 0.01, 0.1]},\n",
       "       pre_dispatch='2*n_jobs', refit=True, return_train_score='warn',\n",
       "       scoring='roc_auc', verbose=0)"
      ]
     },
     "execution_count": 89,
     "metadata": {},
     "output_type": "execute_result"
    }
   ],
   "source": [
    "from sklearn.model_selection import GridSearchCV \n",
    "gb_params_grid = {\n",
    " 'max_depth': [3,5],\n",
    " 'min_child_weight':[1,3],\n",
    " 'learning_rate':  [ 0.001,0.01,0.1], \n",
    " \n",
    "  \n",
    "}\n",
    "grid = GridSearchCV(estimator = xgb.XGBClassifier(learning_rate =0.2, n_estimators=140, max_depth=5,min_child_weight=1,\n",
    "                                                 gamma=0.1, subsample=0.80, colsample_bytree=0.60, \n",
    "                                                 objective= 'binary:logistic', eval_metric='auc' , nthread=4, \n",
    "                                                 scale_pos_weight=1, seed=27), \n",
    "                    param_grid = gb_params_grid, n_jobs=4,iid=False, cv=5,scoring='roc_auc')\n",
    "grid.fit(X_trainmodel,y_trainmodel.values.ravel())\n"
   ]
  },
  {
   "cell_type": "code",
   "execution_count": 90,
   "metadata": {},
   "outputs": [
    {
     "data": {
      "text/plain": [
       "({'learning_rate': 0.1, 'max_depth': 3, 'min_child_weight': 1},\n",
       " 0.8793958295961689)"
      ]
     },
     "execution_count": 90,
     "metadata": {},
     "output_type": "execute_result"
    }
   ],
   "source": [
    "grid.best_params_, grid.best_score_"
   ]
  },
  {
   "cell_type": "code",
   "execution_count": 91,
   "metadata": {},
   "outputs": [
    {
     "name": "stdout",
     "output_type": "stream",
     "text": [
      "XGBClassifier(base_score=0.5, booster='gbtree', colsample_bylevel=1,\n",
      "       colsample_bytree=0.6, eval_metric='auc', gamma=0.1,\n",
      "       learning_rate=0.1, max_delta_step=0, max_depth=3,\n",
      "       min_child_weight=1, missing=None, n_estimators=140, n_jobs=1,\n",
      "       nthread=4, objective='binary:logistic', random_state=0, reg_alpha=0,\n",
      "       reg_lambda=1, scale_pos_weight=1, seed=27, silent=True,\n",
      "       subsample=0.8)\n",
      "Classification report\n",
      "              precision    recall  f1-score   support\n",
      "\n",
      "           0       0.74      0.90      0.81       100\n",
      "           1       0.83      0.61      0.70        79\n",
      "\n",
      "   micro avg       0.77      0.77      0.77       179\n",
      "   macro avg       0.79      0.75      0.76       179\n",
      "weighted avg       0.78      0.77      0.76       179\n",
      "\n",
      "Confusion matrix\n",
      "[[90 10]\n",
      " [31 48]]\n"
     ]
    }
   ],
   "source": [
    "best_gbmodel = grid.best_estimator_\n",
    "print(best_gbmodel)\n",
    "y_pred=measure_performance(X_val,y_val,best_gbmodel, show_accuracy=False, \n",
    "                    show_classification_report=True,\n",
    "                    show_confusion_matrix=True, show_r2_score=False)"
   ]
  },
  {
   "cell_type": "code",
   "execution_count": 92,
   "metadata": {},
   "outputs": [
    {
     "name": "stdout",
     "output_type": "stream",
     "text": [
      "Accuracy: 88.764\n"
     ]
    },
    {
     "data": {
      "image/png": "[encoded data removed]",
      "text/plain": [
       "<Figure size 432x288 with 1 Axes>"
      ]
     },
     "metadata": {},
     "output_type": "display_data"
    },
    {
     "name": "stdout",
     "output_type": "stream",
     "text": [
      "XGBClassifier(base_score=0.5, booster='gbtree', colsample_bylevel=1,\n",
      "       colsample_bytree=0.6, eval_metric='auc', gamma=0.1,\n",
      "       learning_rate=0.1, max_delta_step=0, max_depth=3,\n",
      "       min_child_weight=1, missing=None, n_estimators=140, n_jobs=1,\n",
      "       nthread=4, objective='binary:logistic', random_state=0, reg_alpha=0,\n",
      "       reg_lambda=1, scale_pos_weight=1, seed=27, silent=True,\n",
      "       subsample=0.8)\n"
     ]
    }
   ],
   "source": [
    "best_gbmodel ,result = test_classifier(best_gbmodel,X_trainmodel,y_trainmodel,5)\n",
    "print(best_gbmodel)"
   ]
  },
  {
   "cell_type": "code",
   "execution_count": 93,
   "metadata": {},
   "outputs": [],
   "source": [
    "y_pred_result=best_gbmodel.predict(test_dataset)\n",
    "FORMAT = '%Y%m%d%H%M%S'\n",
    "timestamp=datetime.datetime.now().strftime(FORMAT)\n",
    "filename =\"submission_xgboost\"+timestamp+\"_out.csv\"\n",
    "submission = pd.DataFrame({\n",
    "        \"PassengerId\": test_X[\"PassengerId\"],\n",
    "        \"Survived\": y_pred_result\n",
    "    })\n",
    "#submission.to_csv(filename, index=False)"
   ]
  },
  {
   "cell_type": "code",
   "execution_count": 94,
   "metadata": {},
   "outputs": [],
   "source": [
    "def calc_accuracy(predictions, y_test):\n",
    "    labels = y_test.get_label()\n",
    "    return 'accuracy_score', (1 - sum(labels != predictions)/len(labels))"
   ]
  },
  {
   "cell_type": "code",
   "execution_count": 101,
   "metadata": {},
   "outputs": [],
   "source": [
    "params = {\"objective\": \"multi:softmax\",\n",
    "          'num_class': 2,\n",
    "          \"booster\" : \"gbtree\",\n",
    "          'learning_rate': 0.1,\n",
    "          \"max_depth\": 3,\n",
    "          \"subsample\":0.8,\n",
    "          'colsample_bylevel': 1,\n",
    "          'gamma': 0.1,\n",
    "          'min_child_weight': 1,\n",
    "          \"silent\": 1,\n",
    "          'colsample_bytree':0.6,\n",
    "          'reg_lambda':1,\n",
    "          \n",
    "          \n",
    "          }\n",
    "\n",
    "num_boost_round =60"
   ]
  },
  {
   "cell_type": "code",
   "execution_count": 102,
   "metadata": {},
   "outputs": [
    {
     "name": "stdout",
     "output_type": "stream",
     "text": [
      "Train a XGBoost model\n",
      "[0]\ttrain-merror:0.174157\teval-merror:0.234637\ttrain-accuracy_score:0.825843\teval-accuracy_score:0.765363\n",
      "Multiple eval metrics have been passed: 'eval-accuracy_score' will be used for early stopping.\n",
      "\n",
      "Will train until eval-accuracy_score hasn't improved in 50 rounds.\n",
      "[1]\ttrain-merror:0.176966\teval-merror:0.234637\ttrain-accuracy_score:0.823034\teval-accuracy_score:0.765363\n",
      "[2]\ttrain-merror:0.172753\teval-merror:0.223464\ttrain-accuracy_score:0.827247\teval-accuracy_score:0.776536\n",
      "[3]\ttrain-merror:0.171348\teval-merror:0.22905\ttrain-accuracy_score:0.828652\teval-accuracy_score:0.77095\n",
      "[4]\ttrain-merror:0.16573\teval-merror:0.21229\ttrain-accuracy_score:0.83427\teval-accuracy_score:0.787709\n",
      "[5]\ttrain-merror:0.161517\teval-merror:0.201117\ttrain-accuracy_score:0.838483\teval-accuracy_score:0.798883\n",
      "[6]\ttrain-merror:0.158708\teval-merror:0.201117\ttrain-accuracy_score:0.841292\teval-accuracy_score:0.798883\n",
      "[7]\ttrain-merror:0.155899\teval-merror:0.201117\ttrain-accuracy_score:0.844101\teval-accuracy_score:0.798883\n",
      "[8]\ttrain-merror:0.157303\teval-merror:0.195531\ttrain-accuracy_score:0.842697\teval-accuracy_score:0.804469\n",
      "[9]\ttrain-merror:0.158708\teval-merror:0.195531\ttrain-accuracy_score:0.841292\teval-accuracy_score:0.804469\n",
      "[10]\ttrain-merror:0.155899\teval-merror:0.195531\ttrain-accuracy_score:0.844101\teval-accuracy_score:0.804469\n",
      "[11]\ttrain-merror:0.155899\teval-merror:0.201117\ttrain-accuracy_score:0.844101\teval-accuracy_score:0.798883\n",
      "[12]\ttrain-merror:0.155899\teval-merror:0.201117\ttrain-accuracy_score:0.844101\teval-accuracy_score:0.798883\n",
      "[13]\ttrain-merror:0.157303\teval-merror:0.201117\ttrain-accuracy_score:0.842697\teval-accuracy_score:0.798883\n",
      "[14]\ttrain-merror:0.157303\teval-merror:0.201117\ttrain-accuracy_score:0.842697\teval-accuracy_score:0.798883\n",
      "[15]\ttrain-merror:0.157303\teval-merror:0.201117\ttrain-accuracy_score:0.842697\teval-accuracy_score:0.798883\n",
      "[16]\ttrain-merror:0.157303\teval-merror:0.201117\ttrain-accuracy_score:0.842697\teval-accuracy_score:0.798883\n",
      "[17]\ttrain-merror:0.157303\teval-merror:0.201117\ttrain-accuracy_score:0.842697\teval-accuracy_score:0.798883\n",
      "[18]\ttrain-merror:0.157303\teval-merror:0.201117\ttrain-accuracy_score:0.842697\teval-accuracy_score:0.798883\n",
      "[19]\ttrain-merror:0.155899\teval-merror:0.201117\ttrain-accuracy_score:0.844101\teval-accuracy_score:0.798883\n",
      "[20]\ttrain-merror:0.155899\teval-merror:0.201117\ttrain-accuracy_score:0.844101\teval-accuracy_score:0.798883\n",
      "[21]\ttrain-merror:0.15309\teval-merror:0.201117\ttrain-accuracy_score:0.84691\teval-accuracy_score:0.798883\n",
      "[22]\ttrain-merror:0.15309\teval-merror:0.201117\ttrain-accuracy_score:0.84691\teval-accuracy_score:0.798883\n",
      "[23]\ttrain-merror:0.15309\teval-merror:0.201117\ttrain-accuracy_score:0.84691\teval-accuracy_score:0.798883\n",
      "[24]\ttrain-merror:0.15309\teval-merror:0.201117\ttrain-accuracy_score:0.84691\teval-accuracy_score:0.798883\n",
      "[25]\ttrain-merror:0.147472\teval-merror:0.201117\ttrain-accuracy_score:0.852528\teval-accuracy_score:0.798883\n",
      "[26]\ttrain-merror:0.147472\teval-merror:0.201117\ttrain-accuracy_score:0.852528\teval-accuracy_score:0.798883\n",
      "[27]\ttrain-merror:0.147472\teval-merror:0.201117\ttrain-accuracy_score:0.852528\teval-accuracy_score:0.798883\n",
      "[28]\ttrain-merror:0.147472\teval-merror:0.206704\ttrain-accuracy_score:0.852528\teval-accuracy_score:0.793296\n",
      "[29]\ttrain-merror:0.147472\teval-merror:0.206704\ttrain-accuracy_score:0.852528\teval-accuracy_score:0.793296\n",
      "[30]\ttrain-merror:0.147472\teval-merror:0.206704\ttrain-accuracy_score:0.852528\teval-accuracy_score:0.793296\n",
      "[31]\ttrain-merror:0.147472\teval-merror:0.206704\ttrain-accuracy_score:0.852528\teval-accuracy_score:0.793296\n",
      "[32]\ttrain-merror:0.146067\teval-merror:0.206704\ttrain-accuracy_score:0.853933\teval-accuracy_score:0.793296\n",
      "[33]\ttrain-merror:0.147472\teval-merror:0.206704\ttrain-accuracy_score:0.852528\teval-accuracy_score:0.793296\n",
      "[34]\ttrain-merror:0.147472\teval-merror:0.201117\ttrain-accuracy_score:0.852528\teval-accuracy_score:0.798883\n",
      "[35]\ttrain-merror:0.146067\teval-merror:0.201117\ttrain-accuracy_score:0.853933\teval-accuracy_score:0.798883\n",
      "[36]\ttrain-merror:0.146067\teval-merror:0.201117\ttrain-accuracy_score:0.853933\teval-accuracy_score:0.798883\n",
      "[37]\ttrain-merror:0.144663\teval-merror:0.201117\ttrain-accuracy_score:0.855337\teval-accuracy_score:0.798883\n",
      "[38]\ttrain-merror:0.144663\teval-merror:0.201117\ttrain-accuracy_score:0.855337\teval-accuracy_score:0.798883\n",
      "[39]\ttrain-merror:0.143258\teval-merror:0.201117\ttrain-accuracy_score:0.856742\teval-accuracy_score:0.798883\n",
      "[40]\ttrain-merror:0.144663\teval-merror:0.201117\ttrain-accuracy_score:0.855337\teval-accuracy_score:0.798883\n",
      "[41]\ttrain-merror:0.144663\teval-merror:0.201117\ttrain-accuracy_score:0.855337\teval-accuracy_score:0.798883\n",
      "[42]\ttrain-merror:0.146067\teval-merror:0.201117\ttrain-accuracy_score:0.853933\teval-accuracy_score:0.798883\n",
      "[43]\ttrain-merror:0.146067\teval-merror:0.201117\ttrain-accuracy_score:0.853933\teval-accuracy_score:0.798883\n",
      "[44]\ttrain-merror:0.146067\teval-merror:0.195531\ttrain-accuracy_score:0.853933\teval-accuracy_score:0.804469\n",
      "[45]\ttrain-merror:0.143258\teval-merror:0.195531\ttrain-accuracy_score:0.856742\teval-accuracy_score:0.804469\n",
      "[46]\ttrain-merror:0.143258\teval-merror:0.195531\ttrain-accuracy_score:0.856742\teval-accuracy_score:0.804469\n",
      "[47]\ttrain-merror:0.140449\teval-merror:0.195531\ttrain-accuracy_score:0.859551\teval-accuracy_score:0.804469\n",
      "[48]\ttrain-merror:0.134831\teval-merror:0.206704\ttrain-accuracy_score:0.865169\teval-accuracy_score:0.793296\n",
      "[49]\ttrain-merror:0.132022\teval-merror:0.21229\ttrain-accuracy_score:0.867978\teval-accuracy_score:0.787709\n",
      "[50]\ttrain-merror:0.132022\teval-merror:0.206704\ttrain-accuracy_score:0.867978\teval-accuracy_score:0.793296\n",
      "[51]\ttrain-merror:0.132022\teval-merror:0.195531\ttrain-accuracy_score:0.867978\teval-accuracy_score:0.804469\n",
      "[52]\ttrain-merror:0.132022\teval-merror:0.195531\ttrain-accuracy_score:0.867978\teval-accuracy_score:0.804469\n",
      "[53]\ttrain-merror:0.132022\teval-merror:0.206704\ttrain-accuracy_score:0.867978\teval-accuracy_score:0.793296\n",
      "[54]\ttrain-merror:0.132022\teval-merror:0.206704\ttrain-accuracy_score:0.867978\teval-accuracy_score:0.793296\n",
      "[55]\ttrain-merror:0.126404\teval-merror:0.195531\ttrain-accuracy_score:0.873596\teval-accuracy_score:0.804469\n",
      "[56]\ttrain-merror:0.125\teval-merror:0.189944\ttrain-accuracy_score:0.875\teval-accuracy_score:0.810056\n",
      "[57]\ttrain-merror:0.125\teval-merror:0.189944\ttrain-accuracy_score:0.875\teval-accuracy_score:0.810056\n",
      "[58]\ttrain-merror:0.125\teval-merror:0.189944\ttrain-accuracy_score:0.875\teval-accuracy_score:0.810056\n",
      "[59]\ttrain-merror:0.123596\teval-merror:0.189944\ttrain-accuracy_score:0.876404\teval-accuracy_score:0.810056\n"
     ]
    }
   ],
   "source": [
    "print(\"Train a XGBoost model\")\n",
    "dtrain = xgb.DMatrix(X_trainmodel, y_trainmodel)\n",
    "dvalid = xgb.DMatrix(X_val, y_val)\n",
    "\n",
    "watchlist = [(dtrain, 'train'), (dvalid, 'eval')]\n",
    "gbm = xgb.train(params, dtrain, num_boost_round, watchlist,\n",
    "                feval=calc_accuracy, maximize=True, early_stopping_rounds=50, verbose_eval=True)"
   ]
  },
  {
   "cell_type": "code",
   "execution_count": 97,
   "metadata": {},
   "outputs": [
    {
     "data": {
      "text/plain": [
       "array([0., 1., 0., 0., 1.], dtype=float32)"
      ]
     },
     "execution_count": 97,
     "metadata": {},
     "output_type": "execute_result"
    }
   ],
   "source": [
    "test_y  =gbm.predict(xgb.DMatrix(test_dataset))\n",
    "test_y[0:5]"
   ]
  },
  {
   "cell_type": "code",
   "execution_count": 98,
   "metadata": {},
   "outputs": [],
   "source": [
    "FORMAT = '%Y%m%d%H%M%S'\n",
    "timestamp=datetime.datetime.now().strftime(FORMAT)\n",
    "filename =\"submission_xgboost\"+timestamp+\"_out.csv\"\n",
    "submission = pd.DataFrame({\n",
    "        \"PassengerId\": test_X[\"PassengerId\"],\n",
    "        \"Survived\": test_y\n",
    "    })\n",
    "submission.to_csv(filename, index=False)"
   ]
  },
  {
   "cell_type": "markdown",
   "metadata": {},
   "source": [
    "###### Overfitting the model , tune it   it using  Grid Search CV"
   ]
  }
 ],
 "metadata": {
  "kernelspec": {
   "display_name": "Python 3",
   "language": "python",
   "name": "python3"
  },
  "language_info": {
   "codemirror_mode": {
    "name": "ipython",
    "version": 3
   },
   "file_extension": ".py",
   "mimetype": "text/x-python",
   "name": "python",
   "nbconvert_exporter": "python",
   "pygments_lexer": "ipython3",
   "version": "3.6.5"
  }
 },
 "nbformat": 4,
 "nbformat_minor": 2
}
