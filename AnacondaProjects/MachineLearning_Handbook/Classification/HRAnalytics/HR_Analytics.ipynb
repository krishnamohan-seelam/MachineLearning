{
 "cells": [
  {
   "cell_type": "code",
   "execution_count": 1,
   "metadata": {},
   "outputs": [],
   "source": [
    "%load_ext autoreload\n",
    "%autoreload 2"
   ]
  },
  {
   "cell_type": "code",
   "execution_count": 2,
   "metadata": {},
   "outputs": [
    {
     "name": "stderr",
     "output_type": "stream",
     "text": [
      "24-Feb-19 18:47:08 - DEBUG - backend module://ipykernel.pylab.backend_inline version unknown\n",
      "24-Feb-19 18:47:09 - DEBUG - backend module://ipykernel.pylab.backend_inline version unknown\n"
     ]
    }
   ],
   "source": [
    "import pathlib\n",
    "import numpy as np\n",
    "import pandas as pd\n",
    "import matplotlib.pyplot as plt\n",
    "import seaborn as sns\n",
    "from mlsettings.settings import load_app_config, get_datafolder_path\n",
    "from mltools.modelbuilder.supervised import SupervisedDataLoader\n",
    "import warnings\n",
    "warnings.filterwarnings('ignore')\n",
    "% matplotlib inline \n",
    "np.set_printoptions(precision=4)\n",
    "\n",
    "pd.set_option('display.width', 200)\n",
    "pd.set_option('precision', 4)\n",
    "pd.set_option('display.width', 500)\n",
    "pd.set_option('display.max_columns', 100)\n",
    "pd.set_option('display.notebook_repr_html', True)\n",
    "sns.set_style(\"whitegrid\")\n",
    "pd.options.display.float_format = '{:,.4f}'.format\n",
    "sns.set()\n",
    "import logging\n",
    "logger = logging.getLogger()\n",
    "formatter = logging.Formatter('%(asctime)s - %(name)s - %(levelname)s - %(message)s', datefmt='%d-%b-%y %H:%M:%S')\n",
    "logger.setLevel(logging.DEBUG)"
   ]
  },
  {
   "cell_type": "code",
   "execution_count": 3,
   "metadata": {},
   "outputs": [],
   "source": [
    "from sklearn import metrics\n",
    "from sklearn.metrics import roc_curve\n",
    "def measure_performance(X, y, clf, show_accuracy=True,show_classification_report=True,\n",
    "                        show_confusion_matrix=True, show_r2_score=False):\n",
    "    y_pred = clf.predict(X) \n",
    "    if show_accuracy:\n",
    "        print (\"Accuracy:{0:.3f}\".format( metrics.accuracy_score(y, y_pred)) )\n",
    "    if show_classification_report:\n",
    "        print (\"Classification report\")\n",
    "        print (metrics.classification_report(y, y_pred))\n",
    "    if show_confusion_matrix:\n",
    "        print(\"Confusion matrix\") \n",
    "        print(metrics.confusion_matrix(y, y_pred),)\n",
    "    if show_r2_score:\n",
    "        print (\"Coefficient of determination:{0:.3f}\"\n",
    "               .format( metrics.r2_score(y, y_pred)))\n",
    "    return y_pred\n",
    "\n",
    "from sklearn.model_selection import GridSearchCV, cross_val_score, StratifiedKFold, learning_curve\n",
    "def plot_learning_curve(train_sizes, train_scores, validation_scores):\n",
    "    plt.figure()\n",
    "    plt.title(\"Learning Curve\")\n",
    "    train_scores_mean = np.mean(train_scores, axis=1)\n",
    "    train_scores_std = np.std(train_scores, axis=1)\n",
    "    validation_scores_mean = np.mean(validation_scores, axis=1)\n",
    "    validation_scores_std = np.std(validation_scores, axis=1)\n",
    "\n",
    "    plt.fill_between(train_sizes, train_scores_mean - train_scores_std,\n",
    "                     train_scores_mean + train_scores_std, alpha=0.1,\n",
    "                     color=\"r\")\n",
    "    plt.fill_between(train_sizes, validation_scores_mean - validation_scores_std,\n",
    "                     validation_scores_mean + validation_scores_std, alpha=0.1, color=\"g\")\n",
    "    \n",
    "    plt.plot(train_sizes, train_scores_mean, 'o-', color=\"r\",label=\"Training score\")\n",
    "    plt.plot(train_sizes, validation_scores_mean, 'o-', color=\"g\" ,label=\"Cross-validation score\")\n",
    "    plt.ylim(max(-3, validation_scores_mean.min() - .1), train_scores_mean.max() + .1)\n",
    "    plt.legend(loc=\"best\")\n",
    "    plt.show()\n",
    "\n",
    "from sklearn.model_selection import validation_curve\n",
    "def plot_validation_curve(parameter_values, train_scores, validation_scores):\n",
    "    plt.figure()\n",
    "    plt.title(\"Validation Curve\")\n",
    "    train_scores_mean = np.mean(train_scores, axis=1)\n",
    "    train_scores_std = np.std(train_scores, axis=1)\n",
    "    validation_scores_mean = np.mean(validation_scores, axis=1)\n",
    "    validation_scores_std = np.std(validation_scores, axis=1)\n",
    "\n",
    "    plt.fill_between(parameter_values, train_scores_mean - train_scores_std,\n",
    "                     train_scores_mean + train_scores_std, alpha=0.1,\n",
    "                     color=\"r\")\n",
    "    plt.fill_between(parameter_values, validation_scores_mean - validation_scores_std,\n",
    "                     validation_scores_mean + validation_scores_std, alpha=0.1, color=\"g\")\n",
    "    plt.plot(parameter_values, train_scores_mean, 'o-', color=\"r\",\n",
    "             label=\"Training score\")\n",
    "    plt.plot(parameter_values, validation_scores_mean, 'o-', color=\"g\",\n",
    "             label=\"Cross-validation score\")\n",
    "    plt.ylim(validation_scores_mean.min() - .1, train_scores_mean.max() + .1)\n",
    "    plt.legend(loc=\"best\")\n",
    "    plt.show()\n",
    "\n",
    "def plot_roc(X_val,y_val,model):\n",
    "    fpr, tpr, thresholds = roc_curve(y_val, model.predict_proba(X_val)[:, 1])\n",
    "    plt.figure()\n",
    "    plt.plot(fpr, tpr, label=\"ROC Curve\")\n",
    "    plt.xlabel(\"FPR\")\n",
    "    plt.ylabel(\"TPR (recall)\")\n",
    "    plt.title(\"roc_curve\");\n",
    "    # find threshold closest to zero:\n",
    "    close_zero = np.argmin(np.abs(thresholds))\n",
    "    plt.plot(fpr[close_zero], tpr[close_zero], 'o', markersize=10,\n",
    "         label=\"threshold zero\", fillstyle=\"none\", c='k', mew=2)\n",
    "    plt.legend(loc=4)\n",
    "    plt.show()"
   ]
  },
  {
   "cell_type": "code",
   "execution_count": 4,
   "metadata": {},
   "outputs": [
    {
     "name": "stderr",
     "output_type": "stream",
     "text": [
      "24-Feb-19 18:47:17 - INFO - Adding D:\\DataSource to system path\n",
      "24-Feb-19 18:47:17 - INFO - Adding D:\\MachineLearning to system path\n"
     ]
    }
   ],
   "source": [
    "load_app_config()\n",
    "DATA_DIRECTORY='HRAnalytics'\n",
    "TRAIN_FILE  = \"train.csv\"\n",
    "TEST_FILE  = \"test.csv\"\n",
    "RESPONSE = \"is_promoted\"\n",
    "input_path = get_datafolder_path()"
   ]
  },
  {
   "cell_type": "code",
   "execution_count": 5,
   "metadata": {},
   "outputs": [],
   "source": [
    "filepath  = pathlib.Path(input_path).joinpath(DATA_DIRECTORY)\n",
    "train_filepath = filepath.joinpath(TRAIN_FILE)\n",
    "test_filepath = filepath.joinpath(TEST_FILE)"
   ]
  },
  {
   "cell_type": "code",
   "execution_count": 6,
   "metadata": {},
   "outputs": [
    {
     "name": "stderr",
     "output_type": "stream",
     "text": [
      "24-Feb-19 18:47:17 - INFO - Loading train_file :D:\\DataSource\\HRAnalytics\\train.csv\n",
      "24-Feb-19 18:47:18 - INFO - Loading test_file :D:\\DataSource\\HRAnalytics\\test.csv\n"
     ]
    }
   ],
   "source": [
    "supervisedloader = SupervisedDataLoader(train_file=train_filepath,test_file=test_filepath,response =RESPONSE) \n",
    "train_dataset,test_dataset = supervisedloader.load()\n",
    "train_y = train_dataset[RESPONSE]"
   ]
  },
  {
   "cell_type": "code",
   "execution_count": 7,
   "metadata": {},
   "outputs": [],
   "source": [
    "def get_nullcounts(dataset):\n",
    "    nullcount_frame = pd.DataFrame({'Feature':dataset.columns.values,\n",
    "                                    'Missing_Values': dataset.shape[0] - dataset.count().values, })\n",
    "    nullcount_frame = nullcount_frame[nullcount_frame['Missing_Values']>0].reset_index(drop=True)\n",
    "    nullcount_frame['Missing_Values%'] = (nullcount_frame['Missing_Values']/dataset.shape[0])*100\n",
    "    return nullcount_frame"
   ]
  },
  {
   "cell_type": "code",
   "execution_count": 8,
   "metadata": {},
   "outputs": [
    {
     "data": {
      "text/html": [
       "<div>\n",
       "<style scoped>\n",
       "    .dataframe tbody tr th:only-of-type {\n",
       "        vertical-align: middle;\n",
       "    }\n",
       "\n",
       "    .dataframe tbody tr th {\n",
       "        vertical-align: top;\n",
       "    }\n",
       "\n",
       "    .dataframe thead th {\n",
       "        text-align: right;\n",
       "    }\n",
       "</style>\n",
       "<table border=\"1\" class=\"dataframe\">\n",
       "  <thead>\n",
       "    <tr style=\"text-align: right;\">\n",
       "      <th></th>\n",
       "      <th>employee_id</th>\n",
       "      <th>no_of_trainings</th>\n",
       "      <th>age</th>\n",
       "      <th>previous_year_rating</th>\n",
       "      <th>length_of_service</th>\n",
       "      <th>KPIs_met &gt;80%</th>\n",
       "      <th>awards_won?</th>\n",
       "      <th>avg_training_score</th>\n",
       "      <th>is_promoted</th>\n",
       "    </tr>\n",
       "  </thead>\n",
       "  <tbody>\n",
       "    <tr>\n",
       "      <th>count</th>\n",
       "      <td>54,808.0000</td>\n",
       "      <td>54,808.0000</td>\n",
       "      <td>54,808.0000</td>\n",
       "      <td>50,684.0000</td>\n",
       "      <td>54,808.0000</td>\n",
       "      <td>54,808.0000</td>\n",
       "      <td>54,808.0000</td>\n",
       "      <td>54,808.0000</td>\n",
       "      <td>54,808.0000</td>\n",
       "    </tr>\n",
       "    <tr>\n",
       "      <th>mean</th>\n",
       "      <td>39,195.8306</td>\n",
       "      <td>1.2530</td>\n",
       "      <td>34.8039</td>\n",
       "      <td>3.3293</td>\n",
       "      <td>5.8655</td>\n",
       "      <td>0.3520</td>\n",
       "      <td>0.0232</td>\n",
       "      <td>63.3868</td>\n",
       "      <td>0.0852</td>\n",
       "    </tr>\n",
       "    <tr>\n",
       "      <th>std</th>\n",
       "      <td>22,586.5814</td>\n",
       "      <td>0.6093</td>\n",
       "      <td>7.6602</td>\n",
       "      <td>1.2600</td>\n",
       "      <td>4.2651</td>\n",
       "      <td>0.4776</td>\n",
       "      <td>0.1505</td>\n",
       "      <td>13.3716</td>\n",
       "      <td>0.2791</td>\n",
       "    </tr>\n",
       "    <tr>\n",
       "      <th>min</th>\n",
       "      <td>1.0000</td>\n",
       "      <td>1.0000</td>\n",
       "      <td>20.0000</td>\n",
       "      <td>1.0000</td>\n",
       "      <td>1.0000</td>\n",
       "      <td>0.0000</td>\n",
       "      <td>0.0000</td>\n",
       "      <td>39.0000</td>\n",
       "      <td>0.0000</td>\n",
       "    </tr>\n",
       "    <tr>\n",
       "      <th>25%</th>\n",
       "      <td>19,669.7500</td>\n",
       "      <td>1.0000</td>\n",
       "      <td>29.0000</td>\n",
       "      <td>3.0000</td>\n",
       "      <td>3.0000</td>\n",
       "      <td>0.0000</td>\n",
       "      <td>0.0000</td>\n",
       "      <td>51.0000</td>\n",
       "      <td>0.0000</td>\n",
       "    </tr>\n",
       "    <tr>\n",
       "      <th>50%</th>\n",
       "      <td>39,225.5000</td>\n",
       "      <td>1.0000</td>\n",
       "      <td>33.0000</td>\n",
       "      <td>3.0000</td>\n",
       "      <td>5.0000</td>\n",
       "      <td>0.0000</td>\n",
       "      <td>0.0000</td>\n",
       "      <td>60.0000</td>\n",
       "      <td>0.0000</td>\n",
       "    </tr>\n",
       "    <tr>\n",
       "      <th>75%</th>\n",
       "      <td>58,730.5000</td>\n",
       "      <td>1.0000</td>\n",
       "      <td>39.0000</td>\n",
       "      <td>4.0000</td>\n",
       "      <td>7.0000</td>\n",
       "      <td>1.0000</td>\n",
       "      <td>0.0000</td>\n",
       "      <td>76.0000</td>\n",
       "      <td>0.0000</td>\n",
       "    </tr>\n",
       "    <tr>\n",
       "      <th>max</th>\n",
       "      <td>78,298.0000</td>\n",
       "      <td>10.0000</td>\n",
       "      <td>60.0000</td>\n",
       "      <td>5.0000</td>\n",
       "      <td>37.0000</td>\n",
       "      <td>1.0000</td>\n",
       "      <td>1.0000</td>\n",
       "      <td>99.0000</td>\n",
       "      <td>1.0000</td>\n",
       "    </tr>\n",
       "  </tbody>\n",
       "</table>\n",
       "</div>"
      ],
      "text/plain": [
       "       employee_id  no_of_trainings         age  previous_year_rating  length_of_service  KPIs_met >80%  awards_won?  avg_training_score  is_promoted\n",
       "count  54,808.0000      54,808.0000 54,808.0000           50,684.0000        54,808.0000    54,808.0000  54,808.0000         54,808.0000  54,808.0000\n",
       "mean   39,195.8306           1.2530     34.8039                3.3293             5.8655         0.3520       0.0232             63.3868       0.0852\n",
       "std    22,586.5814           0.6093      7.6602                1.2600             4.2651         0.4776       0.1505             13.3716       0.2791\n",
       "min         1.0000           1.0000     20.0000                1.0000             1.0000         0.0000       0.0000             39.0000       0.0000\n",
       "25%    19,669.7500           1.0000     29.0000                3.0000             3.0000         0.0000       0.0000             51.0000       0.0000\n",
       "50%    39,225.5000           1.0000     33.0000                3.0000             5.0000         0.0000       0.0000             60.0000       0.0000\n",
       "75%    58,730.5000           1.0000     39.0000                4.0000             7.0000         1.0000       0.0000             76.0000       0.0000\n",
       "max    78,298.0000          10.0000     60.0000                5.0000            37.0000         1.0000       1.0000             99.0000       1.0000"
      ]
     },
     "execution_count": 8,
     "metadata": {},
     "output_type": "execute_result"
    }
   ],
   "source": [
    "train_dataset.describe()"
   ]
  },
  {
   "cell_type": "code",
   "execution_count": 9,
   "metadata": {},
   "outputs": [
    {
     "data": {
      "text/html": [
       "<div>\n",
       "<style scoped>\n",
       "    .dataframe tbody tr th:only-of-type {\n",
       "        vertical-align: middle;\n",
       "    }\n",
       "\n",
       "    .dataframe tbody tr th {\n",
       "        vertical-align: top;\n",
       "    }\n",
       "\n",
       "    .dataframe thead th {\n",
       "        text-align: right;\n",
       "    }\n",
       "</style>\n",
       "<table border=\"1\" class=\"dataframe\">\n",
       "  <thead>\n",
       "    <tr style=\"text-align: right;\">\n",
       "      <th></th>\n",
       "      <th>employee_id</th>\n",
       "      <th>department</th>\n",
       "      <th>region</th>\n",
       "      <th>education</th>\n",
       "      <th>gender</th>\n",
       "      <th>recruitment_channel</th>\n",
       "      <th>no_of_trainings</th>\n",
       "      <th>age</th>\n",
       "      <th>previous_year_rating</th>\n",
       "      <th>length_of_service</th>\n",
       "      <th>KPIs_met &gt;80%</th>\n",
       "      <th>awards_won?</th>\n",
       "      <th>avg_training_score</th>\n",
       "      <th>is_promoted</th>\n",
       "    </tr>\n",
       "  </thead>\n",
       "  <tbody>\n",
       "    <tr>\n",
       "      <th>0</th>\n",
       "      <td>65438</td>\n",
       "      <td>Sales &amp; Marketing</td>\n",
       "      <td>region_7</td>\n",
       "      <td>Master's &amp; above</td>\n",
       "      <td>f</td>\n",
       "      <td>sourcing</td>\n",
       "      <td>1</td>\n",
       "      <td>35</td>\n",
       "      <td>5.0000</td>\n",
       "      <td>8</td>\n",
       "      <td>1</td>\n",
       "      <td>0</td>\n",
       "      <td>49</td>\n",
       "      <td>0</td>\n",
       "    </tr>\n",
       "    <tr>\n",
       "      <th>1</th>\n",
       "      <td>65141</td>\n",
       "      <td>Operations</td>\n",
       "      <td>region_22</td>\n",
       "      <td>Bachelor's</td>\n",
       "      <td>m</td>\n",
       "      <td>other</td>\n",
       "      <td>1</td>\n",
       "      <td>30</td>\n",
       "      <td>5.0000</td>\n",
       "      <td>4</td>\n",
       "      <td>0</td>\n",
       "      <td>0</td>\n",
       "      <td>60</td>\n",
       "      <td>0</td>\n",
       "    </tr>\n",
       "    <tr>\n",
       "      <th>2</th>\n",
       "      <td>7513</td>\n",
       "      <td>Sales &amp; Marketing</td>\n",
       "      <td>region_19</td>\n",
       "      <td>Bachelor's</td>\n",
       "      <td>m</td>\n",
       "      <td>sourcing</td>\n",
       "      <td>1</td>\n",
       "      <td>34</td>\n",
       "      <td>3.0000</td>\n",
       "      <td>7</td>\n",
       "      <td>0</td>\n",
       "      <td>0</td>\n",
       "      <td>50</td>\n",
       "      <td>0</td>\n",
       "    </tr>\n",
       "    <tr>\n",
       "      <th>3</th>\n",
       "      <td>2542</td>\n",
       "      <td>Sales &amp; Marketing</td>\n",
       "      <td>region_23</td>\n",
       "      <td>Bachelor's</td>\n",
       "      <td>m</td>\n",
       "      <td>other</td>\n",
       "      <td>2</td>\n",
       "      <td>39</td>\n",
       "      <td>1.0000</td>\n",
       "      <td>10</td>\n",
       "      <td>0</td>\n",
       "      <td>0</td>\n",
       "      <td>50</td>\n",
       "      <td>0</td>\n",
       "    </tr>\n",
       "    <tr>\n",
       "      <th>4</th>\n",
       "      <td>48945</td>\n",
       "      <td>Technology</td>\n",
       "      <td>region_26</td>\n",
       "      <td>Bachelor's</td>\n",
       "      <td>m</td>\n",
       "      <td>other</td>\n",
       "      <td>1</td>\n",
       "      <td>45</td>\n",
       "      <td>3.0000</td>\n",
       "      <td>2</td>\n",
       "      <td>0</td>\n",
       "      <td>0</td>\n",
       "      <td>73</td>\n",
       "      <td>0</td>\n",
       "    </tr>\n",
       "  </tbody>\n",
       "</table>\n",
       "</div>"
      ],
      "text/plain": [
       "   employee_id         department     region         education gender recruitment_channel  no_of_trainings  age  previous_year_rating  length_of_service  KPIs_met >80%  awards_won?  avg_training_score  is_promoted\n",
       "0        65438  Sales & Marketing   region_7  Master's & above      f            sourcing                1   35                5.0000                  8              1            0                  49            0\n",
       "1        65141         Operations  region_22        Bachelor's      m               other                1   30                5.0000                  4              0            0                  60            0\n",
       "2         7513  Sales & Marketing  region_19        Bachelor's      m            sourcing                1   34                3.0000                  7              0            0                  50            0\n",
       "3         2542  Sales & Marketing  region_23        Bachelor's      m               other                2   39                1.0000                 10              0            0                  50            0\n",
       "4        48945         Technology  region_26        Bachelor's      m               other                1   45                3.0000                  2              0            0                  73            0"
      ]
     },
     "metadata": {},
     "output_type": "display_data"
    },
    {
     "data": {
      "text/html": [
       "<div>\n",
       "<style scoped>\n",
       "    .dataframe tbody tr th:only-of-type {\n",
       "        vertical-align: middle;\n",
       "    }\n",
       "\n",
       "    .dataframe tbody tr th {\n",
       "        vertical-align: top;\n",
       "    }\n",
       "\n",
       "    .dataframe thead th {\n",
       "        text-align: right;\n",
       "    }\n",
       "</style>\n",
       "<table border=\"1\" class=\"dataframe\">\n",
       "  <thead>\n",
       "    <tr style=\"text-align: right;\">\n",
       "      <th></th>\n",
       "      <th>employee_id</th>\n",
       "      <th>department</th>\n",
       "      <th>region</th>\n",
       "      <th>education</th>\n",
       "      <th>gender</th>\n",
       "      <th>recruitment_channel</th>\n",
       "      <th>no_of_trainings</th>\n",
       "      <th>age</th>\n",
       "      <th>previous_year_rating</th>\n",
       "      <th>length_of_service</th>\n",
       "      <th>KPIs_met &gt;80%</th>\n",
       "      <th>awards_won?</th>\n",
       "      <th>avg_training_score</th>\n",
       "    </tr>\n",
       "  </thead>\n",
       "  <tbody>\n",
       "    <tr>\n",
       "      <th>0</th>\n",
       "      <td>8724</td>\n",
       "      <td>Technology</td>\n",
       "      <td>region_26</td>\n",
       "      <td>Bachelor's</td>\n",
       "      <td>m</td>\n",
       "      <td>sourcing</td>\n",
       "      <td>1</td>\n",
       "      <td>24</td>\n",
       "      <td>nan</td>\n",
       "      <td>1</td>\n",
       "      <td>1</td>\n",
       "      <td>0</td>\n",
       "      <td>77</td>\n",
       "    </tr>\n",
       "    <tr>\n",
       "      <th>1</th>\n",
       "      <td>74430</td>\n",
       "      <td>HR</td>\n",
       "      <td>region_4</td>\n",
       "      <td>Bachelor's</td>\n",
       "      <td>f</td>\n",
       "      <td>other</td>\n",
       "      <td>1</td>\n",
       "      <td>31</td>\n",
       "      <td>3.0000</td>\n",
       "      <td>5</td>\n",
       "      <td>0</td>\n",
       "      <td>0</td>\n",
       "      <td>51</td>\n",
       "    </tr>\n",
       "    <tr>\n",
       "      <th>2</th>\n",
       "      <td>72255</td>\n",
       "      <td>Sales &amp; Marketing</td>\n",
       "      <td>region_13</td>\n",
       "      <td>Bachelor's</td>\n",
       "      <td>m</td>\n",
       "      <td>other</td>\n",
       "      <td>1</td>\n",
       "      <td>31</td>\n",
       "      <td>1.0000</td>\n",
       "      <td>4</td>\n",
       "      <td>0</td>\n",
       "      <td>0</td>\n",
       "      <td>47</td>\n",
       "    </tr>\n",
       "    <tr>\n",
       "      <th>3</th>\n",
       "      <td>38562</td>\n",
       "      <td>Procurement</td>\n",
       "      <td>region_2</td>\n",
       "      <td>Bachelor's</td>\n",
       "      <td>f</td>\n",
       "      <td>other</td>\n",
       "      <td>3</td>\n",
       "      <td>31</td>\n",
       "      <td>2.0000</td>\n",
       "      <td>9</td>\n",
       "      <td>0</td>\n",
       "      <td>0</td>\n",
       "      <td>65</td>\n",
       "    </tr>\n",
       "    <tr>\n",
       "      <th>4</th>\n",
       "      <td>64486</td>\n",
       "      <td>Finance</td>\n",
       "      <td>region_29</td>\n",
       "      <td>Bachelor's</td>\n",
       "      <td>m</td>\n",
       "      <td>sourcing</td>\n",
       "      <td>1</td>\n",
       "      <td>30</td>\n",
       "      <td>4.0000</td>\n",
       "      <td>7</td>\n",
       "      <td>0</td>\n",
       "      <td>0</td>\n",
       "      <td>61</td>\n",
       "    </tr>\n",
       "  </tbody>\n",
       "</table>\n",
       "</div>"
      ],
      "text/plain": [
       "   employee_id         department     region   education gender recruitment_channel  no_of_trainings  age  previous_year_rating  length_of_service  KPIs_met >80%  awards_won?  avg_training_score\n",
       "0         8724         Technology  region_26  Bachelor's      m            sourcing                1   24                   nan                  1              1            0                  77\n",
       "1        74430                 HR   region_4  Bachelor's      f               other                1   31                3.0000                  5              0            0                  51\n",
       "2        72255  Sales & Marketing  region_13  Bachelor's      m               other                1   31                1.0000                  4              0            0                  47\n",
       "3        38562        Procurement   region_2  Bachelor's      f               other                3   31                2.0000                  9              0            0                  65\n",
       "4        64486            Finance  region_29  Bachelor's      m            sourcing                1   30                4.0000                  7              0            0                  61"
      ]
     },
     "metadata": {},
     "output_type": "display_data"
    }
   ],
   "source": [
    "display(train_dataset.head())\n",
    "display(test_dataset.head())"
   ]
  },
  {
   "cell_type": "markdown",
   "metadata": {},
   "source": [
    "### EDA \n",
    "##### Highly imbalanced dataset"
   ]
  },
  {
   "cell_type": "code",
   "execution_count": 10,
   "metadata": {},
   "outputs": [
    {
     "name": "stdout",
     "output_type": "stream",
     "text": [
      "% of target variable\n"
     ]
    },
    {
     "data": {
      "text/plain": [
       "0   0.9148\n",
       "1   0.0852\n",
       "Name: is_promoted, dtype: float64"
      ]
     },
     "execution_count": 10,
     "metadata": {},
     "output_type": "execute_result"
    }
   ],
   "source": [
    "print(\"% of target variable\")\n",
    "train_dataset['is_promoted'].value_counts()/train_dataset.shape[0]"
   ]
  },
  {
   "cell_type": "markdown",
   "metadata": {},
   "source": [
    "### Imputing missing values"
   ]
  },
  {
   "cell_type": "code",
   "execution_count": 11,
   "metadata": {},
   "outputs": [
    {
     "data": {
      "text/html": [
       "<div>\n",
       "<style scoped>\n",
       "    .dataframe tbody tr th:only-of-type {\n",
       "        vertical-align: middle;\n",
       "    }\n",
       "\n",
       "    .dataframe tbody tr th {\n",
       "        vertical-align: top;\n",
       "    }\n",
       "\n",
       "    .dataframe thead th {\n",
       "        text-align: right;\n",
       "    }\n",
       "</style>\n",
       "<table border=\"1\" class=\"dataframe\">\n",
       "  <thead>\n",
       "    <tr style=\"text-align: right;\">\n",
       "      <th></th>\n",
       "      <th>Feature</th>\n",
       "      <th>Missing_Values</th>\n",
       "      <th>Missing_Values%</th>\n",
       "    </tr>\n",
       "  </thead>\n",
       "  <tbody>\n",
       "    <tr>\n",
       "      <th>0</th>\n",
       "      <td>education</td>\n",
       "      <td>2409</td>\n",
       "      <td>4.3953</td>\n",
       "    </tr>\n",
       "    <tr>\n",
       "      <th>1</th>\n",
       "      <td>previous_year_rating</td>\n",
       "      <td>4124</td>\n",
       "      <td>7.5244</td>\n",
       "    </tr>\n",
       "  </tbody>\n",
       "</table>\n",
       "</div>"
      ],
      "text/plain": [
       "                Feature  Missing_Values  Missing_Values%\n",
       "0             education            2409           4.3953\n",
       "1  previous_year_rating            4124           7.5244"
      ]
     },
     "metadata": {},
     "output_type": "display_data"
    },
    {
     "data": {
      "text/html": [
       "<div>\n",
       "<style scoped>\n",
       "    .dataframe tbody tr th:only-of-type {\n",
       "        vertical-align: middle;\n",
       "    }\n",
       "\n",
       "    .dataframe tbody tr th {\n",
       "        vertical-align: top;\n",
       "    }\n",
       "\n",
       "    .dataframe thead th {\n",
       "        text-align: right;\n",
       "    }\n",
       "</style>\n",
       "<table border=\"1\" class=\"dataframe\">\n",
       "  <thead>\n",
       "    <tr style=\"text-align: right;\">\n",
       "      <th></th>\n",
       "      <th>Feature</th>\n",
       "      <th>Missing_Values</th>\n",
       "      <th>Missing_Values%</th>\n",
       "    </tr>\n",
       "  </thead>\n",
       "  <tbody>\n",
       "    <tr>\n",
       "      <th>0</th>\n",
       "      <td>education</td>\n",
       "      <td>1034</td>\n",
       "      <td>4.4019</td>\n",
       "    </tr>\n",
       "    <tr>\n",
       "      <th>1</th>\n",
       "      <td>previous_year_rating</td>\n",
       "      <td>1812</td>\n",
       "      <td>7.7139</td>\n",
       "    </tr>\n",
       "  </tbody>\n",
       "</table>\n",
       "</div>"
      ],
      "text/plain": [
       "                Feature  Missing_Values  Missing_Values%\n",
       "0             education            1034           4.4019\n",
       "1  previous_year_rating            1812           7.7139"
      ]
     },
     "metadata": {},
     "output_type": "display_data"
    }
   ],
   "source": [
    "display(get_nullcounts(train_dataset))\n",
    "display(get_nullcounts(test_dataset))"
   ]
  },
  {
   "cell_type": "code",
   "execution_count": 12,
   "metadata": {},
   "outputs": [],
   "source": [
    "train_rating_by_region_department =train_dataset .groupby(['region','department']) ['previous_year_rating'].median()"
   ]
  },
  {
   "cell_type": "code",
   "execution_count": 13,
   "metadata": {},
   "outputs": [
    {
     "data": {
      "text/plain": [
       "region    department\n",
       "region_1  Analytics    4.0000\n",
       "          Finance      3.0000\n",
       "          HR           4.5000\n",
       "          Legal        3.0000\n",
       "          Operations   4.0000\n",
       "Name: previous_year_rating, dtype: float64"
      ]
     },
     "execution_count": 13,
     "metadata": {},
     "output_type": "execute_result"
    }
   ],
   "source": [
    "train_rating_by_region_department.head()"
   ]
  },
  {
   "cell_type": "code",
   "execution_count": 14,
   "metadata": {},
   "outputs": [],
   "source": [
    "test_rating_by_region_department = test_dataset.groupby(['region','department'])['previous_year_rating'].median()"
   ]
  },
  {
   "cell_type": "code",
   "execution_count": 15,
   "metadata": {},
   "outputs": [],
   "source": [
    "def impute_rating(row):\n",
    "    return train_rating_by_region_department[row['region'],row['department']]"
   ]
  },
  {
   "cell_type": "code",
   "execution_count": 16,
   "metadata": {},
   "outputs": [],
   "source": [
    "train_dataset['previous_year_rating'].fillna(train_dataset[train_dataset['previous_year_rating'].isnull()].apply(impute_rating, axis=1), inplace=True)"
   ]
  },
  {
   "cell_type": "code",
   "execution_count": 17,
   "metadata": {},
   "outputs": [],
   "source": [
    "test_dataset['previous_year_rating'].fillna(test_dataset[test_dataset['previous_year_rating'].isnull()].apply(impute_rating, axis=1), inplace=True)"
   ]
  },
  {
   "cell_type": "code",
   "execution_count": 18,
   "metadata": {},
   "outputs": [],
   "source": [
    "train_education_mode = train_dataset.groupby(['department']).agg({'education':lambda x: x.value_counts(dropna=False).index[0]}).reset_index()"
   ]
  },
  {
   "cell_type": "code",
   "execution_count": 19,
   "metadata": {},
   "outputs": [
    {
     "data": {
      "text/html": [
       "<div>\n",
       "<style scoped>\n",
       "    .dataframe tbody tr th:only-of-type {\n",
       "        vertical-align: middle;\n",
       "    }\n",
       "\n",
       "    .dataframe tbody tr th {\n",
       "        vertical-align: top;\n",
       "    }\n",
       "\n",
       "    .dataframe thead th {\n",
       "        text-align: right;\n",
       "    }\n",
       "</style>\n",
       "<table border=\"1\" class=\"dataframe\">\n",
       "  <thead>\n",
       "    <tr style=\"text-align: right;\">\n",
       "      <th></th>\n",
       "      <th>department</th>\n",
       "      <th>education</th>\n",
       "    </tr>\n",
       "  </thead>\n",
       "  <tbody>\n",
       "    <tr>\n",
       "      <th>0</th>\n",
       "      <td>Analytics</td>\n",
       "      <td>Bachelor's</td>\n",
       "    </tr>\n",
       "    <tr>\n",
       "      <th>1</th>\n",
       "      <td>Finance</td>\n",
       "      <td>Bachelor's</td>\n",
       "    </tr>\n",
       "    <tr>\n",
       "      <th>2</th>\n",
       "      <td>HR</td>\n",
       "      <td>Bachelor's</td>\n",
       "    </tr>\n",
       "    <tr>\n",
       "      <th>3</th>\n",
       "      <td>Legal</td>\n",
       "      <td>Bachelor's</td>\n",
       "    </tr>\n",
       "    <tr>\n",
       "      <th>4</th>\n",
       "      <td>Operations</td>\n",
       "      <td>Bachelor's</td>\n",
       "    </tr>\n",
       "    <tr>\n",
       "      <th>5</th>\n",
       "      <td>Procurement</td>\n",
       "      <td>Bachelor's</td>\n",
       "    </tr>\n",
       "    <tr>\n",
       "      <th>6</th>\n",
       "      <td>R&amp;D</td>\n",
       "      <td>Bachelor's</td>\n",
       "    </tr>\n",
       "    <tr>\n",
       "      <th>7</th>\n",
       "      <td>Sales &amp; Marketing</td>\n",
       "      <td>Bachelor's</td>\n",
       "    </tr>\n",
       "    <tr>\n",
       "      <th>8</th>\n",
       "      <td>Technology</td>\n",
       "      <td>Bachelor's</td>\n",
       "    </tr>\n",
       "  </tbody>\n",
       "</table>\n",
       "</div>"
      ],
      "text/plain": [
       "          department   education\n",
       "0          Analytics  Bachelor's\n",
       "1            Finance  Bachelor's\n",
       "2                 HR  Bachelor's\n",
       "3              Legal  Bachelor's\n",
       "4         Operations  Bachelor's\n",
       "5        Procurement  Bachelor's\n",
       "6                R&D  Bachelor's\n",
       "7  Sales & Marketing  Bachelor's\n",
       "8         Technology  Bachelor's"
      ]
     },
     "execution_count": 19,
     "metadata": {},
     "output_type": "execute_result"
    }
   ],
   "source": [
    "train_education_mode"
   ]
  },
  {
   "cell_type": "code",
   "execution_count": 20,
   "metadata": {},
   "outputs": [],
   "source": [
    "train_dataset['education'].fillna(\"Bachelor's\",inplace=True)\n",
    "test_dataset['education'].fillna(\"Bachelor's\",inplace=True)"
   ]
  },
  {
   "cell_type": "code",
   "execution_count": 21,
   "metadata": {},
   "outputs": [
    {
     "data": {
      "text/html": [
       "<div>\n",
       "<style scoped>\n",
       "    .dataframe tbody tr th:only-of-type {\n",
       "        vertical-align: middle;\n",
       "    }\n",
       "\n",
       "    .dataframe tbody tr th {\n",
       "        vertical-align: top;\n",
       "    }\n",
       "\n",
       "    .dataframe thead th {\n",
       "        text-align: right;\n",
       "    }\n",
       "</style>\n",
       "<table border=\"1\" class=\"dataframe\">\n",
       "  <thead>\n",
       "    <tr style=\"text-align: right;\">\n",
       "      <th></th>\n",
       "      <th>Feature</th>\n",
       "      <th>Missing_Values</th>\n",
       "      <th>Missing_Values%</th>\n",
       "    </tr>\n",
       "  </thead>\n",
       "  <tbody>\n",
       "  </tbody>\n",
       "</table>\n",
       "</div>"
      ],
      "text/plain": [
       "Empty DataFrame\n",
       "Columns: [Feature, Missing_Values, Missing_Values%]\n",
       "Index: []"
      ]
     },
     "metadata": {},
     "output_type": "display_data"
    },
    {
     "data": {
      "text/html": [
       "<div>\n",
       "<style scoped>\n",
       "    .dataframe tbody tr th:only-of-type {\n",
       "        vertical-align: middle;\n",
       "    }\n",
       "\n",
       "    .dataframe tbody tr th {\n",
       "        vertical-align: top;\n",
       "    }\n",
       "\n",
       "    .dataframe thead th {\n",
       "        text-align: right;\n",
       "    }\n",
       "</style>\n",
       "<table border=\"1\" class=\"dataframe\">\n",
       "  <thead>\n",
       "    <tr style=\"text-align: right;\">\n",
       "      <th></th>\n",
       "      <th>Feature</th>\n",
       "      <th>Missing_Values</th>\n",
       "      <th>Missing_Values%</th>\n",
       "    </tr>\n",
       "  </thead>\n",
       "  <tbody>\n",
       "  </tbody>\n",
       "</table>\n",
       "</div>"
      ],
      "text/plain": [
       "Empty DataFrame\n",
       "Columns: [Feature, Missing_Values, Missing_Values%]\n",
       "Index: []"
      ]
     },
     "metadata": {},
     "output_type": "display_data"
    }
   ],
   "source": [
    "display(get_nullcounts(train_dataset))\n",
    "display(get_nullcounts(test_dataset))"
   ]
  },
  {
   "cell_type": "code",
   "execution_count": 22,
   "metadata": {},
   "outputs": [],
   "source": [
    "full_dataset = pd.concat(objs=[train_dataset,test_dataset],axis=0,sort =True).reset_index(drop=True) "
   ]
  },
  {
   "cell_type": "code",
   "execution_count": 23,
   "metadata": {},
   "outputs": [
    {
     "data": {
      "text/plain": [
       "Bachelor's          55690\n",
       "Master's & above    21429\n",
       "Below Secondary      1179\n",
       "Name: education, dtype: int64"
      ]
     },
     "execution_count": 23,
     "metadata": {},
     "output_type": "execute_result"
    }
   ],
   "source": [
    "full_dataset['department'].value_counts() \n",
    "full_dataset['education'].value_counts() "
   ]
  },
  {
   "cell_type": "code",
   "execution_count": 24,
   "metadata": {},
   "outputs": [],
   "source": [
    "department_encoding = {'R&D':1,'Legal':1,'HR':2,'Finance':2,\n",
    "                       'Analytics':3,'Technology':4,'Procurement':4,\n",
    "                       'Operations':5,'Sales & Marketing':5}\n",
    "\n",
    "education_encoding = {\"Bachelor's\":3,\"Master's & above\":2,'Below Secondary':1}\n",
    "\n",
    "gender_encoding = {'f':0,'m':1}\n",
    "recruitment_channel_encoding = {'other':3,'sourcing':2, 'referred':1}\n"
   ]
  },
  {
   "cell_type": "code",
   "execution_count": 25,
   "metadata": {},
   "outputs": [
    {
     "name": "stdout",
     "output_type": "stream",
     "text": [
      "<class 'pandas.core.frame.DataFrame'>\n",
      "RangeIndex: 78298 entries, 0 to 78297\n",
      "Data columns (total 14 columns):\n",
      "KPIs_met >80%           78298 non-null int64\n",
      "age                     78298 non-null int64\n",
      "avg_training_score      78298 non-null int64\n",
      "awards_won?             78298 non-null int64\n",
      "department              78298 non-null object\n",
      "education               78298 non-null object\n",
      "employee_id             78298 non-null int64\n",
      "gender                  78298 non-null object\n",
      "is_promoted             54808 non-null float64\n",
      "length_of_service       78298 non-null int64\n",
      "no_of_trainings         78298 non-null int64\n",
      "previous_year_rating    78298 non-null float64\n",
      "recruitment_channel     78298 non-null object\n",
      "region                  78298 non-null object\n",
      "dtypes: float64(2), int64(7), object(5)\n",
      "memory usage: 8.4+ MB\n"
     ]
    }
   ],
   "source": [
    "full_dataset.info()"
   ]
  },
  {
   "cell_type": "code",
   "execution_count": 26,
   "metadata": {},
   "outputs": [],
   "source": [
    "full_dataset['department'] =full_dataset['department'].map(department_encoding)\n",
    "full_dataset['education'] =full_dataset['education'].map(education_encoding)\n",
    "full_dataset['gender'] =full_dataset['gender'].map(gender_encoding)\n",
    "full_dataset['recruitment_channel'] =full_dataset['recruitment_channel'].map(recruitment_channel_encoding)\n",
    "full_dataset['previous_year_rating'] =full_dataset['previous_year_rating'].astype(int)"
   ]
  },
  {
   "cell_type": "code",
   "execution_count": 27,
   "metadata": {},
   "outputs": [],
   "source": [
    "full_dataset = pd.get_dummies(full_dataset, columns = [\"region\",],prefix=\"d_\")\n",
    "train_dataset['previous_year_rating'] =train_dataset['previous_year_rating'].astype(int)\n",
    "full_dataset.rename(columns={'KPIs_met >80%': 'KPIs_met_GT_80', 'awards_won?': 'awards_won'}, inplace=True)"
   ]
  },
  {
   "cell_type": "code",
   "execution_count": 28,
   "metadata": {},
   "outputs": [
    {
     "data": {
      "text/html": [
       "<div>\n",
       "<style scoped>\n",
       "    .dataframe tbody tr th:only-of-type {\n",
       "        vertical-align: middle;\n",
       "    }\n",
       "\n",
       "    .dataframe tbody tr th {\n",
       "        vertical-align: top;\n",
       "    }\n",
       "\n",
       "    .dataframe thead th {\n",
       "        text-align: right;\n",
       "    }\n",
       "</style>\n",
       "<table border=\"1\" class=\"dataframe\">\n",
       "  <thead>\n",
       "    <tr style=\"text-align: right;\">\n",
       "      <th></th>\n",
       "      <th>KPIs_met_GT_80</th>\n",
       "      <th>age</th>\n",
       "      <th>avg_training_score</th>\n",
       "      <th>awards_won</th>\n",
       "      <th>department</th>\n",
       "      <th>education</th>\n",
       "      <th>employee_id</th>\n",
       "      <th>gender</th>\n",
       "      <th>is_promoted</th>\n",
       "      <th>length_of_service</th>\n",
       "      <th>no_of_trainings</th>\n",
       "      <th>previous_year_rating</th>\n",
       "      <th>recruitment_channel</th>\n",
       "      <th>d__region_1</th>\n",
       "      <th>d__region_10</th>\n",
       "      <th>d__region_11</th>\n",
       "      <th>d__region_12</th>\n",
       "      <th>d__region_13</th>\n",
       "      <th>d__region_14</th>\n",
       "      <th>d__region_15</th>\n",
       "      <th>d__region_16</th>\n",
       "      <th>d__region_17</th>\n",
       "      <th>d__region_18</th>\n",
       "      <th>d__region_19</th>\n",
       "      <th>d__region_2</th>\n",
       "      <th>d__region_20</th>\n",
       "      <th>d__region_21</th>\n",
       "      <th>d__region_22</th>\n",
       "      <th>d__region_23</th>\n",
       "      <th>d__region_24</th>\n",
       "      <th>d__region_25</th>\n",
       "      <th>d__region_26</th>\n",
       "      <th>d__region_27</th>\n",
       "      <th>d__region_28</th>\n",
       "      <th>d__region_29</th>\n",
       "      <th>d__region_3</th>\n",
       "      <th>d__region_30</th>\n",
       "      <th>d__region_31</th>\n",
       "      <th>d__region_32</th>\n",
       "      <th>d__region_33</th>\n",
       "      <th>d__region_34</th>\n",
       "      <th>d__region_4</th>\n",
       "      <th>d__region_5</th>\n",
       "      <th>d__region_6</th>\n",
       "      <th>d__region_7</th>\n",
       "      <th>d__region_8</th>\n",
       "      <th>d__region_9</th>\n",
       "    </tr>\n",
       "  </thead>\n",
       "  <tbody>\n",
       "    <tr>\n",
       "      <th>0</th>\n",
       "      <td>1</td>\n",
       "      <td>35</td>\n",
       "      <td>49</td>\n",
       "      <td>0</td>\n",
       "      <td>5</td>\n",
       "      <td>2</td>\n",
       "      <td>65438</td>\n",
       "      <td>0</td>\n",
       "      <td>0.0000</td>\n",
       "      <td>8</td>\n",
       "      <td>1</td>\n",
       "      <td>5</td>\n",
       "      <td>2</td>\n",
       "      <td>0</td>\n",
       "      <td>0</td>\n",
       "      <td>0</td>\n",
       "      <td>0</td>\n",
       "      <td>0</td>\n",
       "      <td>0</td>\n",
       "      <td>0</td>\n",
       "      <td>0</td>\n",
       "      <td>0</td>\n",
       "      <td>0</td>\n",
       "      <td>0</td>\n",
       "      <td>0</td>\n",
       "      <td>0</td>\n",
       "      <td>0</td>\n",
       "      <td>0</td>\n",
       "      <td>0</td>\n",
       "      <td>0</td>\n",
       "      <td>0</td>\n",
       "      <td>0</td>\n",
       "      <td>0</td>\n",
       "      <td>0</td>\n",
       "      <td>0</td>\n",
       "      <td>0</td>\n",
       "      <td>0</td>\n",
       "      <td>0</td>\n",
       "      <td>0</td>\n",
       "      <td>0</td>\n",
       "      <td>0</td>\n",
       "      <td>0</td>\n",
       "      <td>0</td>\n",
       "      <td>0</td>\n",
       "      <td>1</td>\n",
       "      <td>0</td>\n",
       "      <td>0</td>\n",
       "    </tr>\n",
       "    <tr>\n",
       "      <th>1</th>\n",
       "      <td>0</td>\n",
       "      <td>30</td>\n",
       "      <td>60</td>\n",
       "      <td>0</td>\n",
       "      <td>5</td>\n",
       "      <td>3</td>\n",
       "      <td>65141</td>\n",
       "      <td>1</td>\n",
       "      <td>0.0000</td>\n",
       "      <td>4</td>\n",
       "      <td>1</td>\n",
       "      <td>5</td>\n",
       "      <td>3</td>\n",
       "      <td>0</td>\n",
       "      <td>0</td>\n",
       "      <td>0</td>\n",
       "      <td>0</td>\n",
       "      <td>0</td>\n",
       "      <td>0</td>\n",
       "      <td>0</td>\n",
       "      <td>0</td>\n",
       "      <td>0</td>\n",
       "      <td>0</td>\n",
       "      <td>0</td>\n",
       "      <td>0</td>\n",
       "      <td>0</td>\n",
       "      <td>0</td>\n",
       "      <td>1</td>\n",
       "      <td>0</td>\n",
       "      <td>0</td>\n",
       "      <td>0</td>\n",
       "      <td>0</td>\n",
       "      <td>0</td>\n",
       "      <td>0</td>\n",
       "      <td>0</td>\n",
       "      <td>0</td>\n",
       "      <td>0</td>\n",
       "      <td>0</td>\n",
       "      <td>0</td>\n",
       "      <td>0</td>\n",
       "      <td>0</td>\n",
       "      <td>0</td>\n",
       "      <td>0</td>\n",
       "      <td>0</td>\n",
       "      <td>0</td>\n",
       "      <td>0</td>\n",
       "      <td>0</td>\n",
       "    </tr>\n",
       "    <tr>\n",
       "      <th>2</th>\n",
       "      <td>0</td>\n",
       "      <td>34</td>\n",
       "      <td>50</td>\n",
       "      <td>0</td>\n",
       "      <td>5</td>\n",
       "      <td>3</td>\n",
       "      <td>7513</td>\n",
       "      <td>1</td>\n",
       "      <td>0.0000</td>\n",
       "      <td>7</td>\n",
       "      <td>1</td>\n",
       "      <td>3</td>\n",
       "      <td>2</td>\n",
       "      <td>0</td>\n",
       "      <td>0</td>\n",
       "      <td>0</td>\n",
       "      <td>0</td>\n",
       "      <td>0</td>\n",
       "      <td>0</td>\n",
       "      <td>0</td>\n",
       "      <td>0</td>\n",
       "      <td>0</td>\n",
       "      <td>0</td>\n",
       "      <td>1</td>\n",
       "      <td>0</td>\n",
       "      <td>0</td>\n",
       "      <td>0</td>\n",
       "      <td>0</td>\n",
       "      <td>0</td>\n",
       "      <td>0</td>\n",
       "      <td>0</td>\n",
       "      <td>0</td>\n",
       "      <td>0</td>\n",
       "      <td>0</td>\n",
       "      <td>0</td>\n",
       "      <td>0</td>\n",
       "      <td>0</td>\n",
       "      <td>0</td>\n",
       "      <td>0</td>\n",
       "      <td>0</td>\n",
       "      <td>0</td>\n",
       "      <td>0</td>\n",
       "      <td>0</td>\n",
       "      <td>0</td>\n",
       "      <td>0</td>\n",
       "      <td>0</td>\n",
       "      <td>0</td>\n",
       "    </tr>\n",
       "    <tr>\n",
       "      <th>3</th>\n",
       "      <td>0</td>\n",
       "      <td>39</td>\n",
       "      <td>50</td>\n",
       "      <td>0</td>\n",
       "      <td>5</td>\n",
       "      <td>3</td>\n",
       "      <td>2542</td>\n",
       "      <td>1</td>\n",
       "      <td>0.0000</td>\n",
       "      <td>10</td>\n",
       "      <td>2</td>\n",
       "      <td>1</td>\n",
       "      <td>3</td>\n",
       "      <td>0</td>\n",
       "      <td>0</td>\n",
       "      <td>0</td>\n",
       "      <td>0</td>\n",
       "      <td>0</td>\n",
       "      <td>0</td>\n",
       "      <td>0</td>\n",
       "      <td>0</td>\n",
       "      <td>0</td>\n",
       "      <td>0</td>\n",
       "      <td>0</td>\n",
       "      <td>0</td>\n",
       "      <td>0</td>\n",
       "      <td>0</td>\n",
       "      <td>0</td>\n",
       "      <td>1</td>\n",
       "      <td>0</td>\n",
       "      <td>0</td>\n",
       "      <td>0</td>\n",
       "      <td>0</td>\n",
       "      <td>0</td>\n",
       "      <td>0</td>\n",
       "      <td>0</td>\n",
       "      <td>0</td>\n",
       "      <td>0</td>\n",
       "      <td>0</td>\n",
       "      <td>0</td>\n",
       "      <td>0</td>\n",
       "      <td>0</td>\n",
       "      <td>0</td>\n",
       "      <td>0</td>\n",
       "      <td>0</td>\n",
       "      <td>0</td>\n",
       "      <td>0</td>\n",
       "    </tr>\n",
       "    <tr>\n",
       "      <th>4</th>\n",
       "      <td>0</td>\n",
       "      <td>45</td>\n",
       "      <td>73</td>\n",
       "      <td>0</td>\n",
       "      <td>4</td>\n",
       "      <td>3</td>\n",
       "      <td>48945</td>\n",
       "      <td>1</td>\n",
       "      <td>0.0000</td>\n",
       "      <td>2</td>\n",
       "      <td>1</td>\n",
       "      <td>3</td>\n",
       "      <td>3</td>\n",
       "      <td>0</td>\n",
       "      <td>0</td>\n",
       "      <td>0</td>\n",
       "      <td>0</td>\n",
       "      <td>0</td>\n",
       "      <td>0</td>\n",
       "      <td>0</td>\n",
       "      <td>0</td>\n",
       "      <td>0</td>\n",
       "      <td>0</td>\n",
       "      <td>0</td>\n",
       "      <td>0</td>\n",
       "      <td>0</td>\n",
       "      <td>0</td>\n",
       "      <td>0</td>\n",
       "      <td>0</td>\n",
       "      <td>0</td>\n",
       "      <td>0</td>\n",
       "      <td>1</td>\n",
       "      <td>0</td>\n",
       "      <td>0</td>\n",
       "      <td>0</td>\n",
       "      <td>0</td>\n",
       "      <td>0</td>\n",
       "      <td>0</td>\n",
       "      <td>0</td>\n",
       "      <td>0</td>\n",
       "      <td>0</td>\n",
       "      <td>0</td>\n",
       "      <td>0</td>\n",
       "      <td>0</td>\n",
       "      <td>0</td>\n",
       "      <td>0</td>\n",
       "      <td>0</td>\n",
       "    </tr>\n",
       "  </tbody>\n",
       "</table>\n",
       "</div>"
      ],
      "text/plain": [
       "   KPIs_met_GT_80  age  avg_training_score  awards_won  department  education  employee_id  gender  is_promoted  length_of_service  no_of_trainings  previous_year_rating  recruitment_channel  d__region_1  d__region_10  d__region_11  d__region_12  d__region_13  d__region_14  d__region_15  d__region_16  d__region_17  d__region_18  d__region_19  d__region_2  d__region_20  d__region_21  d__region_22  d__region_23  d__region_24  d__region_25  d__region_26  d__region_27  d__region_28  d__region_29  \\\n",
       "0               1   35                  49           0           5          2        65438       0       0.0000                  8                1                     5                    2            0             0             0             0             0             0             0             0             0             0             0            0             0             0             0             0             0             0             0             0             0             0   \n",
       "1               0   30                  60           0           5          3        65141       1       0.0000                  4                1                     5                    3            0             0             0             0             0             0             0             0             0             0             0            0             0             0             1             0             0             0             0             0             0             0   \n",
       "2               0   34                  50           0           5          3         7513       1       0.0000                  7                1                     3                    2            0             0             0             0             0             0             0             0             0             0             1            0             0             0             0             0             0             0             0             0             0             0   \n",
       "3               0   39                  50           0           5          3         2542       1       0.0000                 10                2                     1                    3            0             0             0             0             0             0             0             0             0             0             0            0             0             0             0             1             0             0             0             0             0             0   \n",
       "4               0   45                  73           0           4          3        48945       1       0.0000                  2                1                     3                    3            0             0             0             0             0             0             0             0             0             0             0            0             0             0             0             0             0             0             1             0             0             0   \n",
       "\n",
       "   d__region_3  d__region_30  d__region_31  d__region_32  d__region_33  d__region_34  d__region_4  d__region_5  d__region_6  d__region_7  d__region_8  d__region_9  \n",
       "0            0             0             0             0             0             0            0            0            0            1            0            0  \n",
       "1            0             0             0             0             0             0            0            0            0            0            0            0  \n",
       "2            0             0             0             0             0             0            0            0            0            0            0            0  \n",
       "3            0             0             0             0             0             0            0            0            0            0            0            0  \n",
       "4            0             0             0             0             0             0            0            0            0            0            0            0  "
      ]
     },
     "execution_count": 28,
     "metadata": {},
     "output_type": "execute_result"
    }
   ],
   "source": [
    "full_dataset.head()"
   ]
  },
  {
   "cell_type": "code",
   "execution_count": 29,
   "metadata": {},
   "outputs": [],
   "source": [
    "train_dataset =full_dataset[full_dataset['is_promoted'].notnull()]\n",
    "test_dataset  = full_dataset[full_dataset['is_promoted'].isnull()]\n",
    "test_dataset_emp =test_dataset['employee_id']\n",
    "train_y=full_dataset[full_dataset['is_promoted'].notnull()]['is_promoted']\n",
    "\n",
    "full_dataset.drop(['is_promoted','employee_id'],axis =1,inplace=True)\n",
    "train_dataset.drop(['is_promoted','employee_id'],axis =1,inplace=True)\n",
    "test_dataset.drop(['is_promoted','employee_id'],axis =1,inplace=True)\n"
   ]
  },
  {
   "cell_type": "code",
   "execution_count": 30,
   "metadata": {},
   "outputs": [],
   "source": [
    "kfold = StratifiedKFold(n_splits=10)\n",
    "from sklearn.model_selection  import  train_test_split\n",
    "from sklearn.linear_model  import LogisticRegression\n",
    "from sklearn.preprocessing import StandardScaler\n",
    "test_size = 0.25\n",
    "seed = 2\n",
    "\n",
    "X_trainmodel, X_val, y_trainmodel, y_val = train_test_split(train_dataset, train_y, test_size=test_size,random_state=seed)"
   ]
  },
  {
   "cell_type": "code",
   "execution_count": 31,
   "metadata": {},
   "outputs": [
    {
     "data": {
      "text/html": [
       "<div>\n",
       "<style scoped>\n",
       "    .dataframe tbody tr th:only-of-type {\n",
       "        vertical-align: middle;\n",
       "    }\n",
       "\n",
       "    .dataframe tbody tr th {\n",
       "        vertical-align: top;\n",
       "    }\n",
       "\n",
       "    .dataframe thead th {\n",
       "        text-align: right;\n",
       "    }\n",
       "</style>\n",
       "<table border=\"1\" class=\"dataframe\">\n",
       "  <thead>\n",
       "    <tr style=\"text-align: right;\">\n",
       "      <th></th>\n",
       "      <th>KPIs_met_GT_80</th>\n",
       "      <th>age</th>\n",
       "      <th>avg_training_score</th>\n",
       "      <th>awards_won</th>\n",
       "      <th>department</th>\n",
       "      <th>education</th>\n",
       "      <th>gender</th>\n",
       "      <th>length_of_service</th>\n",
       "      <th>no_of_trainings</th>\n",
       "      <th>previous_year_rating</th>\n",
       "      <th>recruitment_channel</th>\n",
       "      <th>d__region_1</th>\n",
       "      <th>d__region_10</th>\n",
       "      <th>d__region_11</th>\n",
       "      <th>d__region_12</th>\n",
       "      <th>d__region_13</th>\n",
       "      <th>d__region_14</th>\n",
       "      <th>d__region_15</th>\n",
       "      <th>d__region_16</th>\n",
       "      <th>d__region_17</th>\n",
       "      <th>d__region_18</th>\n",
       "      <th>d__region_19</th>\n",
       "      <th>d__region_2</th>\n",
       "      <th>d__region_20</th>\n",
       "      <th>d__region_21</th>\n",
       "      <th>d__region_22</th>\n",
       "      <th>d__region_23</th>\n",
       "      <th>d__region_24</th>\n",
       "      <th>d__region_25</th>\n",
       "      <th>d__region_26</th>\n",
       "      <th>d__region_27</th>\n",
       "      <th>d__region_28</th>\n",
       "      <th>d__region_29</th>\n",
       "      <th>d__region_3</th>\n",
       "      <th>d__region_30</th>\n",
       "      <th>d__region_31</th>\n",
       "      <th>d__region_32</th>\n",
       "      <th>d__region_33</th>\n",
       "      <th>d__region_34</th>\n",
       "      <th>d__region_4</th>\n",
       "      <th>d__region_5</th>\n",
       "      <th>d__region_6</th>\n",
       "      <th>d__region_7</th>\n",
       "      <th>d__region_8</th>\n",
       "      <th>d__region_9</th>\n",
       "    </tr>\n",
       "  </thead>\n",
       "  <tbody>\n",
       "    <tr>\n",
       "      <th>26984</th>\n",
       "      <td>1</td>\n",
       "      <td>43</td>\n",
       "      <td>68</td>\n",
       "      <td>0</td>\n",
       "      <td>4</td>\n",
       "      <td>2</td>\n",
       "      <td>1</td>\n",
       "      <td>5</td>\n",
       "      <td>1</td>\n",
       "      <td>3</td>\n",
       "      <td>2</td>\n",
       "      <td>0</td>\n",
       "      <td>0</td>\n",
       "      <td>0</td>\n",
       "      <td>0</td>\n",
       "      <td>0</td>\n",
       "      <td>0</td>\n",
       "      <td>0</td>\n",
       "      <td>0</td>\n",
       "      <td>0</td>\n",
       "      <td>0</td>\n",
       "      <td>0</td>\n",
       "      <td>1</td>\n",
       "      <td>0</td>\n",
       "      <td>0</td>\n",
       "      <td>0</td>\n",
       "      <td>0</td>\n",
       "      <td>0</td>\n",
       "      <td>0</td>\n",
       "      <td>0</td>\n",
       "      <td>0</td>\n",
       "      <td>0</td>\n",
       "      <td>0</td>\n",
       "      <td>0</td>\n",
       "      <td>0</td>\n",
       "      <td>0</td>\n",
       "      <td>0</td>\n",
       "      <td>0</td>\n",
       "      <td>0</td>\n",
       "      <td>0</td>\n",
       "      <td>0</td>\n",
       "      <td>0</td>\n",
       "      <td>0</td>\n",
       "      <td>0</td>\n",
       "      <td>0</td>\n",
       "    </tr>\n",
       "    <tr>\n",
       "      <th>668</th>\n",
       "      <td>0</td>\n",
       "      <td>39</td>\n",
       "      <td>68</td>\n",
       "      <td>0</td>\n",
       "      <td>4</td>\n",
       "      <td>2</td>\n",
       "      <td>0</td>\n",
       "      <td>5</td>\n",
       "      <td>2</td>\n",
       "      <td>3</td>\n",
       "      <td>3</td>\n",
       "      <td>0</td>\n",
       "      <td>0</td>\n",
       "      <td>0</td>\n",
       "      <td>0</td>\n",
       "      <td>0</td>\n",
       "      <td>0</td>\n",
       "      <td>0</td>\n",
       "      <td>0</td>\n",
       "      <td>0</td>\n",
       "      <td>0</td>\n",
       "      <td>0</td>\n",
       "      <td>0</td>\n",
       "      <td>0</td>\n",
       "      <td>0</td>\n",
       "      <td>0</td>\n",
       "      <td>0</td>\n",
       "      <td>0</td>\n",
       "      <td>0</td>\n",
       "      <td>0</td>\n",
       "      <td>0</td>\n",
       "      <td>0</td>\n",
       "      <td>0</td>\n",
       "      <td>0</td>\n",
       "      <td>0</td>\n",
       "      <td>0</td>\n",
       "      <td>0</td>\n",
       "      <td>0</td>\n",
       "      <td>0</td>\n",
       "      <td>0</td>\n",
       "      <td>0</td>\n",
       "      <td>0</td>\n",
       "      <td>1</td>\n",
       "      <td>0</td>\n",
       "      <td>0</td>\n",
       "    </tr>\n",
       "    <tr>\n",
       "      <th>44692</th>\n",
       "      <td>1</td>\n",
       "      <td>39</td>\n",
       "      <td>85</td>\n",
       "      <td>0</td>\n",
       "      <td>3</td>\n",
       "      <td>3</td>\n",
       "      <td>1</td>\n",
       "      <td>7</td>\n",
       "      <td>1</td>\n",
       "      <td>5</td>\n",
       "      <td>3</td>\n",
       "      <td>0</td>\n",
       "      <td>0</td>\n",
       "      <td>0</td>\n",
       "      <td>0</td>\n",
       "      <td>0</td>\n",
       "      <td>0</td>\n",
       "      <td>0</td>\n",
       "      <td>0</td>\n",
       "      <td>0</td>\n",
       "      <td>0</td>\n",
       "      <td>0</td>\n",
       "      <td>0</td>\n",
       "      <td>0</td>\n",
       "      <td>0</td>\n",
       "      <td>0</td>\n",
       "      <td>0</td>\n",
       "      <td>0</td>\n",
       "      <td>0</td>\n",
       "      <td>0</td>\n",
       "      <td>0</td>\n",
       "      <td>1</td>\n",
       "      <td>0</td>\n",
       "      <td>0</td>\n",
       "      <td>0</td>\n",
       "      <td>0</td>\n",
       "      <td>0</td>\n",
       "      <td>0</td>\n",
       "      <td>0</td>\n",
       "      <td>0</td>\n",
       "      <td>0</td>\n",
       "      <td>0</td>\n",
       "      <td>0</td>\n",
       "      <td>0</td>\n",
       "      <td>0</td>\n",
       "    </tr>\n",
       "    <tr>\n",
       "      <th>5678</th>\n",
       "      <td>1</td>\n",
       "      <td>31</td>\n",
       "      <td>62</td>\n",
       "      <td>0</td>\n",
       "      <td>5</td>\n",
       "      <td>3</td>\n",
       "      <td>1</td>\n",
       "      <td>4</td>\n",
       "      <td>1</td>\n",
       "      <td>4</td>\n",
       "      <td>3</td>\n",
       "      <td>0</td>\n",
       "      <td>0</td>\n",
       "      <td>0</td>\n",
       "      <td>0</td>\n",
       "      <td>0</td>\n",
       "      <td>0</td>\n",
       "      <td>0</td>\n",
       "      <td>0</td>\n",
       "      <td>0</td>\n",
       "      <td>0</td>\n",
       "      <td>0</td>\n",
       "      <td>1</td>\n",
       "      <td>0</td>\n",
       "      <td>0</td>\n",
       "      <td>0</td>\n",
       "      <td>0</td>\n",
       "      <td>0</td>\n",
       "      <td>0</td>\n",
       "      <td>0</td>\n",
       "      <td>0</td>\n",
       "      <td>0</td>\n",
       "      <td>0</td>\n",
       "      <td>0</td>\n",
       "      <td>0</td>\n",
       "      <td>0</td>\n",
       "      <td>0</td>\n",
       "      <td>0</td>\n",
       "      <td>0</td>\n",
       "      <td>0</td>\n",
       "      <td>0</td>\n",
       "      <td>0</td>\n",
       "      <td>0</td>\n",
       "      <td>0</td>\n",
       "      <td>0</td>\n",
       "    </tr>\n",
       "    <tr>\n",
       "      <th>43038</th>\n",
       "      <td>0</td>\n",
       "      <td>44</td>\n",
       "      <td>61</td>\n",
       "      <td>0</td>\n",
       "      <td>5</td>\n",
       "      <td>3</td>\n",
       "      <td>0</td>\n",
       "      <td>17</td>\n",
       "      <td>1</td>\n",
       "      <td>3</td>\n",
       "      <td>2</td>\n",
       "      <td>0</td>\n",
       "      <td>0</td>\n",
       "      <td>0</td>\n",
       "      <td>0</td>\n",
       "      <td>0</td>\n",
       "      <td>0</td>\n",
       "      <td>0</td>\n",
       "      <td>1</td>\n",
       "      <td>0</td>\n",
       "      <td>0</td>\n",
       "      <td>0</td>\n",
       "      <td>0</td>\n",
       "      <td>0</td>\n",
       "      <td>0</td>\n",
       "      <td>0</td>\n",
       "      <td>0</td>\n",
       "      <td>0</td>\n",
       "      <td>0</td>\n",
       "      <td>0</td>\n",
       "      <td>0</td>\n",
       "      <td>0</td>\n",
       "      <td>0</td>\n",
       "      <td>0</td>\n",
       "      <td>0</td>\n",
       "      <td>0</td>\n",
       "      <td>0</td>\n",
       "      <td>0</td>\n",
       "      <td>0</td>\n",
       "      <td>0</td>\n",
       "      <td>0</td>\n",
       "      <td>0</td>\n",
       "      <td>0</td>\n",
       "      <td>0</td>\n",
       "      <td>0</td>\n",
       "    </tr>\n",
       "  </tbody>\n",
       "</table>\n",
       "</div>"
      ],
      "text/plain": [
       "       KPIs_met_GT_80  age  avg_training_score  awards_won  department  education  gender  length_of_service  no_of_trainings  previous_year_rating  recruitment_channel  d__region_1  d__region_10  d__region_11  d__region_12  d__region_13  d__region_14  d__region_15  d__region_16  d__region_17  d__region_18  d__region_19  d__region_2  d__region_20  d__region_21  d__region_22  d__region_23  d__region_24  d__region_25  d__region_26  d__region_27  d__region_28  d__region_29  d__region_3  \\\n",
       "26984               1   43                  68           0           4          2       1                  5                1                     3                    2            0             0             0             0             0             0             0             0             0             0             0            1             0             0             0             0             0             0             0             0             0             0            0   \n",
       "668                 0   39                  68           0           4          2       0                  5                2                     3                    3            0             0             0             0             0             0             0             0             0             0             0            0             0             0             0             0             0             0             0             0             0             0            0   \n",
       "44692               1   39                  85           0           3          3       1                  7                1                     5                    3            0             0             0             0             0             0             0             0             0             0             0            0             0             0             0             0             0             0             0             0             1             0            0   \n",
       "5678                1   31                  62           0           5          3       1                  4                1                     4                    3            0             0             0             0             0             0             0             0             0             0             0            1             0             0             0             0             0             0             0             0             0             0            0   \n",
       "43038               0   44                  61           0           5          3       0                 17                1                     3                    2            0             0             0             0             0             0             0             1             0             0             0            0             0             0             0             0             0             0             0             0             0             0            0   \n",
       "\n",
       "       d__region_30  d__region_31  d__region_32  d__region_33  d__region_34  d__region_4  d__region_5  d__region_6  d__region_7  d__region_8  d__region_9  \n",
       "26984             0             0             0             0             0            0            0            0            0            0            0  \n",
       "668               0             0             0             0             0            0            0            0            1            0            0  \n",
       "44692             0             0             0             0             0            0            0            0            0            0            0  \n",
       "5678              0             0             0             0             0            0            0            0            0            0            0  \n",
       "43038             0             0             0             0             0            0            0            0            0            0            0  "
      ]
     },
     "execution_count": 31,
     "metadata": {},
     "output_type": "execute_result"
    }
   ],
   "source": [
    "X_trainmodel.head()\n"
   ]
  },
  {
   "cell_type": "code",
   "execution_count": 32,
   "metadata": {},
   "outputs": [],
   "source": [
    "from sklearn.ensemble import ExtraTreesClassifier\n",
    "# feature extraction\n",
    "\n",
    "def select_features_by_XTree(X,y):\n",
    "    model = ExtraTreesClassifier()\n",
    "    model.fit(X, y.values.ravel())\n",
    "\n",
    "    selected_features =np.array(model.feature_importances_)\n",
    "    selected_features_X = pd.DataFrame(X.columns.values, columns=['name'])\n",
    "    selected_features =selected_features.reshape(selected_features.shape[0],1)\n",
    "\n",
    "    selected_features_X['model_result'] =selected_features\n",
    "    selected_features_X =selected_features_X.sort_values(by='model_result',ascending=False)\n",
    "    return selected_features_X"
   ]
  },
  {
   "cell_type": "code",
   "execution_count": 33,
   "metadata": {},
   "outputs": [],
   "source": [
    "features_XTree = select_features_by_XTree(X_trainmodel,y_trainmodel)\n",
    "features = features_XTree[features_XTree['model_result'] > 0.0002]\n"
   ]
  },
  {
   "cell_type": "code",
   "execution_count": 34,
   "metadata": {},
   "outputs": [
    {
     "data": {
      "text/plain": [
       "'avg_training_score,age,length_of_service,previous_year_rating,department,KPIs_met_GT_80,recruitment_channel,awards_won,no_of_trainings,gender,education,d__region_2,d__region_13,d__region_22,d__region_7,d__region_15,d__region_28,d__region_26,d__region_31,d__region_27,d__region_16,d__region_4,d__region_11,d__region_23,d__region_20,d__region_30,d__region_14,d__region_25,d__region_19,d__region_10,d__region_1,d__region_17,d__region_29,d__region_32,d__region_8,d__region_12,d__region_6,d__region_3,d__region_5,d__region_21,d__region_24,d__region_33,d__region_9,d__region_34'"
      ]
     },
     "execution_count": 34,
     "metadata": {},
     "output_type": "execute_result"
    }
   ],
   "source": [
    "selected_features = list(features['name'].values)\n",
    "\",\".join(selected_features)"
   ]
  },
  {
   "cell_type": "code",
   "execution_count": 35,
   "metadata": {},
   "outputs": [],
   "source": [
    "from yellowbrick.features import Rank1D, Rank2D \n",
    "from yellowbrick.features import RadViz"
   ]
  },
  {
   "cell_type": "code",
   "execution_count": 36,
   "metadata": {},
   "outputs": [],
   "source": [
    "#features =X_trainmodel.columns.values"
   ]
  },
  {
   "cell_type": "code",
   "execution_count": 37,
   "metadata": {},
   "outputs": [
    {
     "name": "stderr",
     "output_type": "stream",
     "text": [
      "24-Feb-19 18:47:44 - DEBUG - findfont: Matching :family=sans-serif:style=normal:variant=normal:weight=normal:stretch=normal:size=10.0 to Arial ('c:\\\\windows\\\\fonts\\\\arial.ttf') with score of 0.050000\n",
      "24-Feb-19 18:47:44 - DEBUG - findfont: Matching :family=sans-serif:style=normal:variant=normal:weight=normal:stretch=normal:size=12.0 to Arial ('c:\\\\windows\\\\fonts\\\\arial.ttf') with score of 0.050000\n"
     ]
    },
    {
     "data": {
      "image/png": "[encoded data removed]",
      "text/plain": [
       "<Figure size 576x396 with 1 Axes>"
      ]
     },
     "metadata": {},
     "output_type": "display_data"
    }
   ],
   "source": [
    "visualizer = Rank1D(features=selected_features, algorithm='shapiro')\n",
    "visualizer.fit(X_trainmodel, y_trainmodel)                # Fit the data to the visualizer\n",
    "visualizer.transform(X_trainmodel)             # Transform the data\n",
    "visualizer.poof()     "
   ]
  },
  {
   "cell_type": "code",
   "execution_count": 38,
   "metadata": {},
   "outputs": [
    {
     "data": {
      "image/png": "[encoded data removed]",
      "text/plain": [
       "<Figure size 576x396 with 2 Axes>"
      ]
     },
     "metadata": {},
     "output_type": "display_data"
    }
   ],
   "source": [
    "visualizer = Rank2D(features=selected_features, algorithm='covariance')\n",
    "visualizer.fit(X_trainmodel, y_trainmodel)                # Fit the data to the visualizer\n",
    "visualizer.transform(X_trainmodel)             # Transform the data\n",
    "visualizer.poof()  "
   ]
  },
  {
   "cell_type": "code",
   "execution_count": 39,
   "metadata": {},
   "outputs": [
    {
     "name": "stdout",
     "output_type": "stream",
     "text": [
      "Accuracy: 91.972\n"
     ]
    }
   ],
   "source": [
    "from sklearn.linear_model  import LogisticRegression\n",
    "logrmodel = LogisticRegression()\n",
    "logrmodel.fit(X_trainmodel , y_trainmodel.values.ravel())\n",
    "result = logrmodel.score(X_val, y_val)\n",
    "print (\"Accuracy: {0:.3f}\".format(result*100.0))"
   ]
  },
  {
   "cell_type": "code",
   "execution_count": 40,
   "metadata": {},
   "outputs": [],
   "source": [
    "from sklearn.svm import SVC, LinearSVC\n",
    "from sklearn.naive_bayes import GaussianNB\n",
    "from sklearn.ensemble import RandomForestClassifier, GradientBoostingClassifier\n",
    "from sklearn.linear_model import LogisticRegression\n",
    "from sklearn.neighbors import KNeighborsClassifier\n",
    "from sklearn.neural_network import MLPClassifier\n",
    "from sklearn.kernel_approximation import Nystroem\n",
    "from sklearn.kernel_approximation import RBFSampler\n",
    "from sklearn.pipeline import make_pipeline"
   ]
  },
  {
   "cell_type": "code",
   "execution_count": 41,
   "metadata": {},
   "outputs": [],
   "source": [
    "SEED = 222\n",
    "np.random.seed(SEED)"
   ]
  },
  {
   "cell_type": "code",
   "execution_count": 42,
   "metadata": {},
   "outputs": [],
   "source": [
    "def get_models():\n",
    "    \"\"\"Generate a library of base learners.\"\"\"\n",
    "    nb = GaussianNB()\n",
    "    svc = SVC(C=100, probability=True)\n",
    "    knn = KNeighborsClassifier(n_neighbors=6)\n",
    "    lr = LogisticRegression(C=100, random_state=SEED)\n",
    "    nn = MLPClassifier((80, 10), early_stopping=False, random_state=SEED)\n",
    "    gb = GradientBoostingClassifier(n_estimators=100, random_state=SEED)\n",
    "    rf = RandomForestClassifier(n_estimators=50, max_features=3, random_state=SEED)\n",
    "\n",
    "    models = {#'svm': svc,\n",
    "              'knn': knn,\n",
    "              'naive bayes': nb,\n",
    "              'mlp-nn': nn,\n",
    "              'random forest': rf,\n",
    "              'gbm': gb,\n",
    "              'logistic': lr,\n",
    "              }\n",
    "\n",
    "    return models"
   ]
  },
  {
   "cell_type": "code",
   "execution_count": 43,
   "metadata": {},
   "outputs": [],
   "source": [
    "def train_predict(model_list,xtrain, ytrain,xval,yval):\n",
    "    \"\"\"Fit models in list on training set and return preds\"\"\"\n",
    "    P = np.zeros((yval.shape[0], len(model_list)))\n",
    "    P = pd.DataFrame(P)\n",
    "\n",
    "    print(\"Fitting models.\")\n",
    "    cols = list()\n",
    "    for i, (name, m) in enumerate(models.items()):\n",
    "        print(\"%s...\" % name, end=\" \", flush=False)\n",
    "        m.fit(xtrain, ytrain)\n",
    "        P.iloc[:, i] = m.predict_proba(xval)[:, 1]\n",
    "        cols.append(name)\n",
    "        print(\"done\")\n",
    "\n",
    "    P.columns = cols\n",
    "    print(\"Done.\\n\")\n",
    "    return P\n"
   ]
  },
  {
   "cell_type": "code",
   "execution_count": 44,
   "metadata": {},
   "outputs": [],
   "source": [
    "def score_models(P, y):\n",
    "    \"\"\"Score model in prediction DF\"\"\"\n",
    "    print(\"Scoring models.\")\n",
    "    for m in P.columns:\n",
    "        score = roc_auc_score(y, P.loc[:, m])\n",
    "        print(\"%-26s: %.3f\" % (m, score))\n",
    "    print(\"Done.\\n\")"
   ]
  },
  {
   "cell_type": "code",
   "execution_count": 45,
   "metadata": {},
   "outputs": [
    {
     "name": "stdout",
     "output_type": "stream",
     "text": [
      "Fitting models.\n",
      "knn... done\n",
      "naive bayes... done\n",
      "mlp-nn... done\n",
      "random forest... done\n",
      "gbm... done\n",
      "logistic... done\n",
      "Done.\n",
      "\n"
     ]
    }
   ],
   "source": [
    "models = get_models()\n",
    "P = train_predict(models,X_trainmodel, y_trainmodel,X_val,y_val)\n"
   ]
  },
  {
   "cell_type": "code",
   "execution_count": 46,
   "metadata": {},
   "outputs": [
    {
     "name": "stdout",
     "output_type": "stream",
     "text": [
      "Scoring models.\n",
      "knn                       : 0.688\n",
      "naive bayes               : 0.710\n",
      "mlp-nn                    : 0.855\n",
      "random forest             : 0.832\n",
      "gbm                       : 0.871\n",
      "logistic                  : 0.812\n",
      "Done.\n",
      "\n"
     ]
    }
   ],
   "source": [
    "from sklearn.metrics import roc_auc_score\n",
    "score_models(P, y_val)"
   ]
  },
  {
   "cell_type": "code",
   "execution_count": 47,
   "metadata": {},
   "outputs": [
    {
     "name": "stderr",
     "output_type": "stream",
     "text": [
      "[MLENS] backend: threading\n",
      "[MLENS] Found 1 residual cache(s):\n",
      "        1 (4096): C:\\Users\\krish\\AppData\\Local\\Temp\\.mlens_tmp_cache_7wyvaxy_\n",
      "        Total size: 4096\n",
      "[MLENS] Removing... done.\n"
     ]
    }
   ],
   "source": [
    "from mlens.visualization import corrmat"
   ]
  },
  {
   "cell_type": "code",
   "execution_count": 48,
   "metadata": {},
   "outputs": [
    {
     "name": "stderr",
     "output_type": "stream",
     "text": [
      "24-Feb-19 18:50:39 - DEBUG - findfont: Matching :family=sans-serif:style=normal:variant=normal:weight=normal:stretch=normal:size=14.0 to Arial ('c:\\\\windows\\\\fonts\\\\arial.ttf') with score of 0.050000\n"
     ]
    },
    {
     "data": {
      "image/png": "[encoded data removed]",
      "text/plain": [
       "<Figure size 792x648 with 2 Axes>"
      ]
     },
     "metadata": {},
     "output_type": "display_data"
    }
   ],
   "source": [
    "corrmat(P.apply(lambda pred: 1*(pred >= 0.5) - y_val.values).corr(), inflate=False)\n",
    "plt.show()"
   ]
  },
  {
   "cell_type": "code",
   "execution_count": 49,
   "metadata": {},
   "outputs": [
    {
     "name": "stderr",
     "output_type": "stream",
     "text": [
      "24-Feb-19 18:50:40 - DEBUG - findfont: Matching :family=sans-serif:style=normal:variant=normal:weight=normal:stretch=normal:size=11.0 to Arial ('c:\\\\windows\\\\fonts\\\\arial.ttf') with score of 0.050000\n"
     ]
    },
    {
     "data": {
      "image/png": "[encoded data removed]",
      "text/plain": [
       "<Figure size 720x576 with 1 Axes>"
      ]
     },
     "metadata": {},
     "output_type": "display_data"
    }
   ],
   "source": [
    "from sklearn.metrics import roc_curve\n",
    "\n",
    "def plot_roc_curve(ytest, P_base_learners, P_ensemble, labels, ens_label):\n",
    "    \"\"\"Plot the roc curve for base learners and ensemble.\"\"\"\n",
    "    plt.figure(figsize=(10, 8))\n",
    "    plt.plot([0, 1], [0, 1], 'k--')\n",
    "    \n",
    "    cm = [plt.cm.rainbow(i)\n",
    "      for i in np.linspace(0, 1.0, P_base_learners.shape[1] + 1)]\n",
    "    \n",
    "    for i in range(P_base_learners.shape[1]):\n",
    "        p = P_base_learners[:, i]\n",
    "        fpr, tpr, _ = roc_curve(ytest, p)\n",
    "        plt.plot(fpr, tpr, label=labels[i], c=cm[i + 1])\n",
    "\n",
    "    fpr, tpr, _ = roc_curve(ytest, P_ensemble)\n",
    "    plt.plot(fpr, tpr, label=ens_label, c=cm[0])\n",
    "        \n",
    "    plt.xlabel('False positive rate')\n",
    "    plt.ylabel('True positive rate')\n",
    "    plt.title('ROC curve')\n",
    "    plt.legend(frameon=False)\n",
    "    plt.show()\n",
    "\n",
    "\n",
    "plot_roc_curve(y_val, P.values, P.mean(axis=1), list(P.columns), \"ensemble\")"
   ]
  },
  {
   "cell_type": "markdown",
   "metadata": {},
   "source": [
    "### Step 1: define a library of base learners"
   ]
  },
  {
   "cell_type": "code",
   "execution_count": 50,
   "metadata": {},
   "outputs": [],
   "source": [
    "base_models =  get_models()\n"
   ]
  },
  {
   "cell_type": "markdown",
   "metadata": {},
   "source": [
    "### Step 2: define a meta learner"
   ]
  },
  {
   "cell_type": "code",
   "execution_count": 51,
   "metadata": {},
   "outputs": [],
   "source": [
    "meta_learner = GradientBoostingClassifier(\n",
    "    n_estimators=1000,\n",
    "    loss=\"exponential\",\n",
    "    max_features=4,\n",
    "    max_depth=3,\n",
    "    subsample=0.5,\n",
    "    learning_rate=0.005, \n",
    "    random_state=SEED\n",
    ")"
   ]
  },
  {
   "cell_type": "code",
   "execution_count": 52,
   "metadata": {},
   "outputs": [],
   "source": [
    "xtrain_base, xpred_base, ytrain_base, ypred_base = train_test_split(X_trainmodel, y_trainmodel, test_size=test_size,random_state=SEED)"
   ]
  },
  {
   "cell_type": "code",
   "execution_count": 53,
   "metadata": {},
   "outputs": [],
   "source": [
    "def train_base_learners(base_learners, inp, out, verbose=True):\n",
    "    \"\"\"Train all base learners in the library.\"\"\"\n",
    "    if verbose: print(\"Fitting models.\")\n",
    "    for i, (name, m) in enumerate(base_learners.items()):\n",
    "        if verbose: print(\"%s...\" % name, end=\" \", flush=False)\n",
    "        m.fit(inp, out)\n",
    "        if verbose: print(\"done\")"
   ]
  },
  {
   "cell_type": "code",
   "execution_count": 54,
   "metadata": {},
   "outputs": [
    {
     "name": "stdout",
     "output_type": "stream",
     "text": [
      "Fitting models.\n",
      "knn... done\n",
      "naive bayes... done\n",
      "mlp-nn... done\n",
      "random forest... done\n",
      "gbm... done\n",
      "logistic... done\n"
     ]
    }
   ],
   "source": [
    "train_base_learners(base_models, xtrain_base, ytrain_base)"
   ]
  },
  {
   "cell_type": "code",
   "execution_count": 55,
   "metadata": {},
   "outputs": [],
   "source": [
    "def predict_base_learners(pred_base_learners, inp, verbose=True):\n",
    "    \"\"\"Generate a prediction matrix.\"\"\"\n",
    "    P = np.zeros((inp.shape[0], len(pred_base_learners)))\n",
    "\n",
    "    if verbose: print(\"Generating base learner predictions.\")\n",
    "    for i, (name, m) in enumerate(pred_base_learners.items()):\n",
    "        if verbose: print(\"%s...\" % name, end=\" \", flush=False)\n",
    "        p = m.predict_proba(inp)\n",
    "        # With two classes, need only predictions for one class\n",
    "        P[:, i] = p[:, 1]\n",
    "        if verbose: print(\"done\")\n",
    "\n",
    "    return P"
   ]
  },
  {
   "cell_type": "code",
   "execution_count": 56,
   "metadata": {},
   "outputs": [
    {
     "name": "stdout",
     "output_type": "stream",
     "text": [
      "Generating base learner predictions.\n",
      "knn... done\n",
      "naive bayes... done\n",
      "mlp-nn... done\n",
      "random forest... done\n",
      "gbm... done\n",
      "logistic... done\n"
     ]
    }
   ],
   "source": [
    "P_base = predict_base_learners(base_models, xpred_base)"
   ]
  },
  {
   "cell_type": "code",
   "execution_count": 57,
   "metadata": {},
   "outputs": [
    {
     "data": {
      "text/plain": [
       "GradientBoostingClassifier(criterion='friedman_mse', init=None,\n",
       "              learning_rate=0.005, loss='exponential', max_depth=3,\n",
       "              max_features=4, max_leaf_nodes=None,\n",
       "              min_impurity_decrease=0.0, min_impurity_split=None,\n",
       "              min_samples_leaf=1, min_samples_split=2,\n",
       "              min_weight_fraction_leaf=0.0, n_estimators=1000,\n",
       "              n_iter_no_change=None, presort='auto', random_state=222,\n",
       "              subsample=0.5, tol=0.0001, validation_fraction=0.1,\n",
       "              verbose=0, warm_start=False)"
      ]
     },
     "execution_count": 57,
     "metadata": {},
     "output_type": "execute_result"
    }
   ],
   "source": [
    "meta_learner.fit(P_base, ypred_base)"
   ]
  },
  {
   "cell_type": "code",
   "execution_count": 58,
   "metadata": {},
   "outputs": [],
   "source": [
    "def ensemble_predict(base_learners, meta_learner, inp, verbose=True):\n",
    "    \"\"\"Generate predictions from the ensemble.\"\"\"\n",
    "    P_pred = predict_base_learners(base_learners, inp, verbose=verbose)\n",
    "    return P_pred, meta_learner.predict_proba(P_pred)[:, 1]"
   ]
  },
  {
   "cell_type": "code",
   "execution_count": 59,
   "metadata": {},
   "outputs": [
    {
     "name": "stdout",
     "output_type": "stream",
     "text": [
      "Generating base learner predictions.\n",
      "knn... done\n",
      "naive bayes... done\n",
      "mlp-nn... done\n",
      "random forest... done\n",
      "gbm... done\n",
      "logistic... done\n",
      "\n",
      "Ensemble ROC-AUC score: 0.874\n"
     ]
    }
   ],
   "source": [
    "P_pred, p = ensemble_predict(base_models, meta_learner, X_val)\n",
    "print(\"\\nEnsemble ROC-AUC score: %.3f\" % roc_auc_score(y_val, p))"
   ]
  },
  {
   "cell_type": "code",
   "execution_count": 60,
   "metadata": {},
   "outputs": [
    {
     "name": "stdout",
     "output_type": "stream",
     "text": [
      "\n",
      "Fitting 2 layers\n",
      "Processing layer-1             done | 00:10:58\n",
      "Processing layer-2             done | 00:00:31\n",
      "Fit complete                        | 00:11:31\n",
      "\n",
      "Predicting 2 layers\n",
      "Processing layer-1             done | 00:00:23\n",
      "Processing layer-2             done | 00:00:00\n",
      "Predict complete                    | 00:00:24\n",
      "\n",
      "Predicting 2 layers\n",
      "Processing layer-1             done | 00:00:16\n",
      "Processing layer-2             done | 00:00:00\n",
      "Predict complete                    | 00:00:17\n"
     ]
    }
   ],
   "source": [
    "from mlens.ensemble import SuperLearner\n",
    "\n",
    "# Instantiate the ensemble with 10 folds\n",
    "sl = SuperLearner(\n",
    "    folds=10,\n",
    "    random_state=SEED,\n",
    "    verbose=2,\n",
    "    backend=\"multiprocessing\"\n",
    ")\n",
    "\n",
    "# Add the base learners and the meta learner\n",
    "sl.add(list(base_models.values()), proba=True) \n",
    "sl.add_meta(meta_learner, proba=True)\n",
    "\n",
    "# Train the ensemble\n",
    "sl.fit(X_trainmodel, y_trainmodel)\n",
    "\n"
   ]
  },
  {
   "cell_type": "code",
   "execution_count": 92,
   "metadata": {},
   "outputs": [
    {
     "name": "stdout",
     "output_type": "stream",
     "text": [
      "\n",
      "Predicting 2 layers\n",
      "Processing layer-1             done | 00:00:30\n",
      "Processing layer-2             done | 00:00:01\n",
      "Predict complete                    | 00:00:32\n"
     ]
    }
   ],
   "source": [
    "# Predict the test set\n",
    "p_sl = sl.predict_proba(test_dataset)\n",
    "\n",
    "#p_slp = sl.predict(test_dataset)"
   ]
  },
  {
   "cell_type": "code",
   "execution_count": 93,
   "metadata": {},
   "outputs": [],
   "source": [
    "prob = p_sl[::,1]"
   ]
  },
  {
   "cell_type": "code",
   "execution_count": 94,
   "metadata": {},
   "outputs": [
    {
     "name": "stdout",
     "output_type": "stream",
     "text": [
      "[0 0 0 ... 0 0 1]\n"
     ]
    }
   ],
   "source": [
    "prob= np.where(prob > 0.6, 1, 0)\n",
    "print(prob)"
   ]
  },
  {
   "cell_type": "code",
   "execution_count": 95,
   "metadata": {},
   "outputs": [],
   "source": [
    "submission =pd.DataFrame({'employee_id':test_dataset_emp.values ,'is_promoted':prob}) \n",
    "#submission['Loan_Status'].replace(0, 'N',inplace=True)\n",
    "#submission['Loan_Status'].replace(1, 'Y',inplace=True)\n",
    "import datetime\n",
    "FORMAT = '%Y%m%d%H%M%S'\n",
    "timestamp=datetime.datetime.now().strftime(FORMAT)\n",
    "filename =\"HR_Analytics_SuperLearner\"+timestamp+\"_out.csv\""
   ]
  },
  {
   "cell_type": "code",
   "execution_count": 96,
   "metadata": {},
   "outputs": [],
   "source": [
    "submission.to_csv(filename,index=False)"
   ]
  },
  {
   "cell_type": "code",
   "execution_count": 80,
   "metadata": {},
   "outputs": [
    {
     "name": "stdout",
     "output_type": "stream",
     "text": [
      "Generating base learner predictions.\n",
      "knn... done\n",
      "naive bayes... done\n",
      "mlp-nn... done\n",
      "random forest... done\n",
      "gbm... done\n",
      "logistic... done\n"
     ]
    }
   ],
   "source": [
    "P_pred, predictions = ensemble_predict(base_models, meta_learner, test_dataset)"
   ]
  },
  {
   "cell_type": "code",
   "execution_count": 84,
   "metadata": {},
   "outputs": [
    {
     "name": "stdout",
     "output_type": "stream",
     "text": [
      "[0 0 0 ... 0 0 1]\n"
     ]
    }
   ],
   "source": [
    "predictions = np.where(predictions > 0.5, 1, 0)\n",
    "print(predictions)"
   ]
  },
  {
   "cell_type": "code",
   "execution_count": 88,
   "metadata": {},
   "outputs": [],
   "source": [
    "submission =pd.DataFrame({'employee_id':test_dataset_emp.values ,'is_promoted':predictions}) \n",
    "#submission['Loan_Status'].replace(0, 'N',inplace=True)\n",
    "#submission['Loan_Status'].replace(1, 'Y',inplace=True)\n",
    "import datetime\n",
    "FORMAT = '%Y%m%d%H%M%S'\n",
    "timestamp=datetime.datetime.now().strftime(FORMAT)\n",
    "filename =\"HR_Analytics_Ensemble\"+timestamp+\"_out.csv\"\n",
    "submission.to_csv(filename,index=False)"
   ]
  },
  {
   "cell_type": "code",
   "execution_count": 98,
   "metadata": {},
   "outputs": [],
   "source": [
    "from sklearn import metrics\n",
    "from sklearn.metrics import roc_curve\n",
    "def measure_performance(X, y, clf, show_accuracy=True,show_classification_report=True,\n",
    "                        show_confusion_matrix=True, show_r2_score=False):\n",
    "    y_pred = clf.predict(X) \n",
    "    if show_accuracy:\n",
    "        print (\"Accuracy:{0:.3f}\".format( metrics.accuracy_score(y, y_pred)) )\n",
    "    if show_classification_report:\n",
    "        print (\"Classification report\")\n",
    "        print (metrics.classification_report(y, y_pred))\n",
    "    if show_confusion_matrix:\n",
    "        print(\"Confusion matrix\") \n",
    "        print(metrics.confusion_matrix(y, y_pred),)\n",
    "    if show_r2_score:\n",
    "        print (\"Coefficient of determination:{0:.3f}\"\n",
    "               .format( metrics.r2_score(y, y_pred)))\n",
    "    return y_pred\n",
    "\n",
    "from sklearn.model_selection import GridSearchCV, cross_val_score, StratifiedKFold, learning_curve\n",
    "def plot_learning_curve(train_sizes, train_scores, validation_scores):\n",
    "    plt.figure()\n",
    "    plt.title(\"Learning Curve\")\n",
    "    train_scores_mean = np.mean(train_scores, axis=1)\n",
    "    train_scores_std = np.std(train_scores, axis=1)\n",
    "    validation_scores_mean = np.mean(validation_scores, axis=1)\n",
    "    validation_scores_std = np.std(validation_scores, axis=1)\n",
    "\n",
    "    plt.fill_between(train_sizes, train_scores_mean - train_scores_std,\n",
    "                     train_scores_mean + train_scores_std, alpha=0.1,\n",
    "                     color=\"r\")\n",
    "    plt.fill_between(train_sizes, validation_scores_mean - validation_scores_std,\n",
    "                     validation_scores_mean + validation_scores_std, alpha=0.1, color=\"g\")\n",
    "    \n",
    "    plt.plot(train_sizes, train_scores_mean, 'o-', color=\"r\",label=\"Training score\")\n",
    "    plt.plot(train_sizes, validation_scores_mean, 'o-', color=\"g\" ,label=\"Cross-validation score\")\n",
    "    plt.ylim(max(-3, validation_scores_mean.min() - .1), train_scores_mean.max() + .1)\n",
    "    plt.legend(loc=\"best\")\n",
    "    plt.show()\n",
    "\n",
    "from sklearn.model_selection import validation_curve\n",
    "def plot_validation_curve(parameter_values, train_scores, validation_scores):\n",
    "    plt.figure()\n",
    "    plt.title(\"Validation Curve\")\n",
    "    train_scores_mean = np.mean(train_scores, axis=1)\n",
    "    train_scores_std = np.std(train_scores, axis=1)\n",
    "    validation_scores_mean = np.mean(validation_scores, axis=1)\n",
    "    validation_scores_std = np.std(validation_scores, axis=1)\n",
    "\n",
    "    plt.fill_between(parameter_values, train_scores_mean - train_scores_std,\n",
    "                     train_scores_mean + train_scores_std, alpha=0.1,\n",
    "                     color=\"r\")\n",
    "    plt.fill_between(parameter_values, validation_scores_mean - validation_scores_std,\n",
    "                     validation_scores_mean + validation_scores_std, alpha=0.1, color=\"g\")\n",
    "    plt.plot(parameter_values, train_scores_mean, 'o-', color=\"r\",\n",
    "             label=\"Training score\")\n",
    "    plt.plot(parameter_values, validation_scores_mean, 'o-', color=\"g\",\n",
    "             label=\"Cross-validation score\")\n",
    "    plt.ylim(validation_scores_mean.min() - .1, train_scores_mean.max() + .1)\n",
    "    plt.legend(loc=\"best\")\n",
    "    plt.show()\n",
    "\n",
    "def plot_roc(X_val,y_val,model):\n",
    "    fpr, tpr, thresholds = roc_curve(y_val, model.predict_proba(X_val)[:, 1])\n",
    "    plt.figure()\n",
    "    plt.plot(fpr, tpr, label=\"ROC Curve\")\n",
    "    plt.xlabel(\"FPR\")\n",
    "    plt.ylabel(\"TPR (recall)\")\n",
    "    plt.title(\"roc_curve\");\n",
    "    # find threshold closest to zero:\n",
    "    close_zero = np.argmin(np.abs(thresholds))\n",
    "    plt.plot(fpr[close_zero], tpr[close_zero], 'o', markersize=10,\n",
    "         label=\"threshold zero\", fillstyle=\"none\", c='k', mew=2)\n",
    "    plt.legend(loc=4)\n",
    "    plt.show()\n",
    "\n",
    "def test_classifier(model,X,y,cv):\n",
    "    clf = model.fit(X,y.values.ravel())\n",
    "    result = clf.score(X,y.values)\n",
    "    print (\"Accuracy: {0:.3f}\".format(result*100.0))\n",
    "\n",
    "    train_sizes, train_scores, validation_scores = learning_curve(clf, X,y.values.ravel(),cv=cv)\n",
    "    plot_learning_curve(train_sizes, train_scores, validation_scores)\n",
    "    return clf,result"
   ]
  },
  {
   "cell_type": "code",
   "execution_count": 100,
   "metadata": {},
   "outputs": [
    {
     "ename": "NameError",
     "evalue": "name 'best_model' is not defined",
     "output_type": "error",
     "traceback": [
      "\u001b[1;31m---------------------------------------------------------------------------\u001b[0m",
      "\u001b[1;31mNameError\u001b[0m                                 Traceback (most recent call last)",
      "\u001b[1;32m<ipython-input-100-43a2d2faeb35>\u001b[0m in \u001b[0;36m<module>\u001b[1;34m()\u001b[0m\n\u001b[0;32m      7\u001b[0m \u001b[1;33m\u001b[0m\u001b[0m\n\u001b[0;32m      8\u001b[0m \u001b[1;31m#best_model ,result = test_classifier(xgbclf,X_trainmodel,y_trainmodel,kfold)\u001b[0m\u001b[1;33m\u001b[0m\u001b[1;33m\u001b[0m\u001b[0m\n\u001b[1;32m----> 9\u001b[1;33m \u001b[0mprint\u001b[0m\u001b[1;33m(\u001b[0m\u001b[0mbest_model\u001b[0m\u001b[1;33m)\u001b[0m\u001b[1;33m\u001b[0m\u001b[0m\n\u001b[0m\u001b[0;32m     10\u001b[0m \u001b[0mplot_roc\u001b[0m\u001b[1;33m(\u001b[0m\u001b[0mX_val\u001b[0m\u001b[1;33m,\u001b[0m\u001b[0my_val\u001b[0m\u001b[1;33m,\u001b[0m\u001b[0mxgbclf\u001b[0m\u001b[1;33m)\u001b[0m\u001b[1;33m\u001b[0m\u001b[0m\n",
      "\u001b[1;31mNameError\u001b[0m: name 'best_model' is not defined"
     ]
    }
   ],
   "source": [
    "from xgboost.sklearn import XGBClassifier\n",
    "\n",
    "xgbclf= XGBClassifier(n_estimators=100, silent=False)\n",
    "xgbclf.fit(X_trainmodel ,y_trainmodel.values.ravel())\n",
    "\n",
    "warnings.filterwarnings(\"ignore\", category=DeprecationWarning) \n",
    "\n",
    "#best_model ,result = test_classifier(xgbclf,X_trainmodel,y_trainmodel,kfold)\n",
    "print(xgbclf)\n"
   ]
  },
  {
   "cell_type": "code",
   "execution_count": 101,
   "metadata": {},
   "outputs": [
    {
     "data": {
      "image/png": "[encoded data removed]",
      "text/plain": [
       "<Figure size 576x396 with 1 Axes>"
      ]
     },
     "metadata": {},
     "output_type": "display_data"
    }
   ],
   "source": [
    "plot_roc(X_val,y_val,xgbclf)"
   ]
  },
  {
   "cell_type": "code",
   "execution_count": 102,
   "metadata": {},
   "outputs": [],
   "source": [
    "import xgboost as xgb"
   ]
  },
  {
   "cell_type": "code",
   "execution_count": 116,
   "metadata": {},
   "outputs": [],
   "source": [
    "from sklearn.metrics import f1_score\n",
    "def calc_f1_score(predictions, y_test):\n",
    "    labels = y_test.get_label()\n",
    "    y_bin = [1. if y_cont > 0.5 else 0. for y_cont in predictions]\n",
    "    return 'f1',f1_score(labels,y_bin)"
   ]
  },
  {
   "cell_type": "code",
   "execution_count": 165,
   "metadata": {},
   "outputs": [],
   "source": [
    "params = {\"objective\": \"multi:softmax\",\n",
    "          'num_class': 2,\n",
    "          \"booster\" : \"gbtree\",\n",
    "          'learning_rate': 0.8,\n",
    "          \"max_depth\": 3,\n",
    "          \"subsample\": 0.8,\n",
    "          'colsample_bylevel': 0.6,\n",
    "          'gamma': 0,\n",
    "          'min_child_weight': 1,\n",
    "          \"silent\": 1,\n",
    "          'scale_pos_weight':1\n",
    "          }\n",
    "\n",
    "num_boost_round =200"
   ]
  },
  {
   "cell_type": "code",
   "execution_count": 166,
   "metadata": {
    "scrolled": false
   },
   "outputs": [
    {
     "name": "stdout",
     "output_type": "stream",
     "text": [
      "Train a XGBoost model\n",
      "[0]\ttrain-merror:0.076582\teval-merror:0.078018\ttrain-f1:0.200609\teval-f1:0.195636\n",
      "Multiple eval metrics have been passed: 'eval-f1' will be used for early stopping.\n",
      "\n",
      "Will train until eval-f1 hasn't improved in 50 rounds.\n",
      "[1]\ttrain-merror:0.074393\teval-merror:0.076339\ttrain-f1:0.227778\teval-f1:0.218236\n",
      "[2]\ttrain-merror:0.07432\teval-merror:0.076266\ttrain-f1:0.229119\teval-f1:0.219567\n",
      "[3]\ttrain-merror:0.074247\teval-merror:0.075536\ttrain-f1:0.233166\teval-f1:0.230483\n",
      "[4]\ttrain-merror:0.072739\teval-merror:0.073931\ttrain-f1:0.255849\teval-f1:0.258961\n",
      "[5]\ttrain-merror:0.068019\teval-merror:0.069041\ttrain-f1:0.338381\teval-f1:0.342142\n",
      "[6]\ttrain-merror:0.068117\teval-merror:0.069187\ttrain-f1:0.337435\teval-f1:0.339833\n",
      "[7]\ttrain-merror:0.068141\teval-merror:0.069041\ttrain-f1:0.337668\teval-f1:0.343056\n",
      "[8]\ttrain-merror:0.068627\teval-merror:0.069406\ttrain-f1:0.330724\teval-f1:0.340042\n",
      "[9]\ttrain-merror:0.067241\teval-merror:0.068384\ttrain-f1:0.356611\teval-f1:0.361282\n",
      "[10]\ttrain-merror:0.067289\teval-merror:0.068311\ttrain-f1:0.356445\teval-f1:0.359781\n",
      "[11]\ttrain-merror:0.067241\teval-merror:0.06853\ttrain-f1:0.358105\teval-f1:0.359044\n",
      "[12]\ttrain-merror:0.067143\teval-merror:0.06853\ttrain-f1:0.359629\teval-f1:0.359044\n",
      "[13]\ttrain-merror:0.067241\teval-merror:0.068311\ttrain-f1:0.359889\teval-f1:0.362398\n",
      "[14]\ttrain-merror:0.067192\teval-merror:0.068676\ttrain-f1:0.359759\teval-f1:0.359428\n",
      "[15]\ttrain-merror:0.066998\teval-merror:0.068384\ttrain-f1:0.363678\teval-f1:0.363018\n",
      "[16]\ttrain-merror:0.066925\teval-merror:0.068238\ttrain-f1:0.364812\teval-f1:0.366102\n",
      "[17]\ttrain-merror:0.066462\teval-merror:0.067362\ttrain-f1:0.373969\teval-f1:0.379287\n",
      "[18]\ttrain-merror:0.066414\teval-merror:0.067508\ttrain-f1:0.37414\teval-f1:0.377942\n",
      "[19]\ttrain-merror:0.066341\teval-merror:0.067216\ttrain-f1:0.37583\teval-f1:0.38477\n",
      "[20]\ttrain-merror:0.066316\teval-merror:0.067362\ttrain-f1:0.376772\teval-f1:0.383434\n",
      "[21]\ttrain-merror:0.066438\teval-merror:0.067508\ttrain-f1:0.375771\teval-f1:0.382098\n",
      "[22]\ttrain-merror:0.066414\teval-merror:0.067435\ttrain-f1:0.376997\teval-f1:0.38482\n",
      "[23]\ttrain-merror:0.066414\teval-merror:0.067362\ttrain-f1:0.376997\teval-f1:0.384256\n",
      "[24]\ttrain-merror:0.066389\teval-merror:0.067508\ttrain-f1:0.376798\teval-f1:0.382922\n",
      "[25]\ttrain-merror:0.066\teval-merror:0.066998\ttrain-f1:0.383269\teval-f1:0.389628\n",
      "[26]\ttrain-merror:0.065805\teval-merror:0.06707\ttrain-f1:0.387316\teval-f1:0.391794\n",
      "[27]\ttrain-merror:0.065781\teval-merror:0.067143\ttrain-f1:0.387126\teval-f1:0.391534\n",
      "[28]\ttrain-merror:0.06583\teval-merror:0.066925\ttrain-f1:0.386951\teval-f1:0.394719\n",
      "[29]\ttrain-merror:0.065805\teval-merror:0.06707\ttrain-f1:0.386204\teval-f1:0.391794\n",
      "[30]\ttrain-merror:0.065781\teval-merror:0.066998\ttrain-f1:0.387126\teval-f1:0.392857\n",
      "[31]\ttrain-merror:0.065684\teval-merror:0.06656\ttrain-f1:0.38914\teval-f1:0.4\n",
      "[32]\ttrain-merror:0.06566\teval-merror:0.066779\ttrain-f1:0.388121\teval-f1:0.39763\n",
      "[33]\ttrain-merror:0.065635\teval-merror:0.066998\ttrain-f1:0.387931\teval-f1:0.395257\n",
      "[34]\ttrain-merror:0.06566\teval-merror:0.066998\ttrain-f1:0.388121\teval-f1:0.396846\n",
      "[35]\ttrain-merror:0.065489\teval-merror:0.066779\ttrain-f1:0.39095\teval-f1:0.399212\n",
      "[36]\ttrain-merror:0.065514\teval-merror:0.066706\ttrain-f1:0.390862\teval-f1:0.399474\n",
      "[37]\ttrain-merror:0.065538\teval-merror:0.066706\ttrain-f1:0.390498\teval-f1:0.399474\n",
      "[38]\ttrain-merror:0.065368\teval-merror:0.066706\ttrain-f1:0.392768\teval-f1:0.399474\n",
      "[39]\ttrain-merror:0.065392\teval-merror:0.06656\ttrain-f1:0.39213\teval-f1:0.402359\n",
      "[40]\ttrain-merror:0.06527\teval-merror:0.066414\ttrain-f1:0.393672\teval-f1:0.40445\n",
      "[41]\ttrain-merror:0.065295\teval-merror:0.066633\ttrain-f1:0.393857\teval-f1:0.402096\n",
      "[42]\ttrain-merror:0.065173\teval-merror:0.066779\ttrain-f1:0.395941\teval-f1:0.40157\n",
      "[43]\ttrain-merror:0.065173\teval-merror:0.066779\ttrain-f1:0.395941\teval-f1:0.402351\n",
      "[44]\ttrain-merror:0.065173\teval-merror:0.066633\ttrain-f1:0.394576\teval-f1:0.403658\n",
      "[45]\ttrain-merror:0.065149\teval-merror:0.066487\ttrain-f1:0.396031\teval-f1:0.40574\n",
      "[46]\ttrain-merror:0.064978\teval-merror:0.06656\ttrain-f1:0.397473\teval-f1:0.405476\n",
      "[47]\ttrain-merror:0.064857\teval-merror:0.066341\ttrain-f1:0.39955\teval-f1:0.407045\n",
      "[48]\ttrain-merror:0.064832\teval-merror:0.066341\ttrain-f1:0.40072\teval-f1:0.408588\n",
      "[49]\ttrain-merror:0.064686\teval-merror:0.066268\ttrain-f1:0.402069\teval-f1:0.409623\n",
      "[50]\ttrain-merror:0.064492\teval-merror:0.066633\ttrain-f1:0.404136\teval-f1:0.405986\n",
      "[51]\ttrain-merror:0.064638\teval-merror:0.066779\ttrain-f1:0.402787\teval-f1:0.404684\n",
      "[52]\ttrain-merror:0.06454\teval-merror:0.066779\ttrain-f1:0.403954\teval-f1:0.405458\n",
      "[53]\ttrain-merror:0.064443\teval-merror:0.066706\ttrain-f1:0.405654\teval-f1:0.406494\n",
      "[54]\ttrain-merror:0.064443\teval-merror:0.06656\ttrain-f1:0.405921\teval-f1:0.40856\n",
      "[55]\ttrain-merror:0.064224\teval-merror:0.066706\ttrain-f1:0.409396\teval-f1:0.408031\n",
      "[56]\ttrain-merror:0.064297\teval-merror:0.066779\ttrain-f1:0.408328\teval-f1:0.406999\n",
      "[57]\ttrain-merror:0.064492\teval-merror:0.066779\ttrain-f1:0.406005\teval-f1:0.406999\n",
      "[58]\ttrain-merror:0.064346\teval-merror:0.066633\ttrain-f1:0.408145\teval-f1:0.409061\n",
      "[59]\ttrain-merror:0.064297\teval-merror:0.06707\ttrain-f1:0.407266\teval-f1:0.406714\n",
      "[60]\ttrain-merror:0.064127\teval-merror:0.066852\ttrain-f1:0.409498\teval-f1:0.408269\n",
      "[61]\ttrain-merror:0.06403\teval-merror:0.066779\ttrain-f1:0.410394\teval-f1:0.409296\n",
      "[62]\ttrain-merror:0.064322\teval-merror:0.066925\ttrain-f1:0.40903\teval-f1:0.408769\n",
      "[63]\ttrain-merror:0.063665\teval-merror:0.066414\ttrain-f1:0.418574\teval-f1:0.416667\n",
      "[64]\ttrain-merror:0.063713\teval-merror:0.066487\ttrain-f1:0.417871\teval-f1:0.414148\n",
      "[65]\ttrain-merror:0.063567\teval-merror:0.066268\ttrain-f1:0.419978\teval-f1:0.417202\n",
      "[66]\ttrain-merror:0.063616\teval-merror:0.066122\ttrain-f1:0.419018\teval-f1:0.417738\n",
      "[67]\ttrain-merror:0.063348\teval-merror:0.066341\ttrain-f1:0.423639\teval-f1:0.416934\n",
      "[68]\ttrain-merror:0.063251\teval-merror:0.066487\ttrain-f1:0.423759\teval-f1:0.4149\n",
      "[69]\ttrain-merror:0.063178\teval-merror:0.066414\ttrain-f1:0.425315\teval-f1:0.415918\n",
      "[70]\ttrain-merror:0.063178\teval-merror:0.066341\ttrain-f1:0.425824\teval-f1:0.417681\n",
      "[71]\ttrain-merror:0.063105\teval-merror:0.066268\ttrain-f1:0.426106\teval-f1:0.417202\n",
      "[72]\ttrain-merror:0.063056\teval-merror:0.066049\ttrain-f1:0.426549\teval-f1:0.4195\n",
      "[73]\ttrain-merror:0.063056\teval-merror:0.066268\ttrain-f1:0.425532\teval-f1:0.414194\n",
      "[74]\ttrain-merror:0.063056\teval-merror:0.066414\ttrain-f1:0.426295\teval-f1:0.41366\n",
      "[75]\ttrain-merror:0.062838\teval-merror:0.066487\ttrain-f1:0.429171\teval-f1:0.414148\n",
      "[76]\ttrain-merror:0.062838\teval-merror:0.066268\ttrain-f1:0.429927\teval-f1:0.417949\n",
      "[77]\ttrain-merror:0.062813\teval-merror:0.066049\ttrain-f1:0.431278\teval-f1:0.4195\n",
      "[78]\ttrain-merror:0.062813\teval-merror:0.066049\ttrain-f1:0.431278\teval-f1:0.4195\n",
      "[79]\ttrain-merror:0.062886\teval-merror:0.066195\ttrain-f1:0.430742\teval-f1:0.417469\n",
      "[80]\ttrain-merror:0.06274\teval-merror:0.066195\ttrain-f1:0.432813\teval-f1:0.417469\n",
      "[81]\ttrain-merror:0.062862\teval-merror:0.066122\ttrain-f1:0.431338\teval-f1:0.418485\n",
      "[82]\ttrain-merror:0.062886\teval-merror:0.066122\ttrain-f1:0.432492\teval-f1:0.419974\n",
      "[83]\ttrain-merror:0.062765\teval-merror:0.066122\ttrain-f1:0.433962\teval-f1:0.421456\n",
      "[84]\ttrain-merror:0.062667\teval-merror:0.066122\ttrain-f1:0.435335\teval-f1:0.421456\n",
      "[85]\ttrain-merror:0.062716\teval-merror:0.066268\ttrain-f1:0.434897\teval-f1:0.419437\n",
      "[86]\ttrain-merror:0.06274\teval-merror:0.066122\ttrain-f1:0.434057\teval-f1:0.420716\n",
      "[87]\ttrain-merror:0.062716\teval-merror:0.066268\ttrain-f1:0.434897\teval-f1:0.419437\n",
      "[88]\ttrain-merror:0.062667\teval-merror:0.066195\ttrain-f1:0.435583\teval-f1:0.418962\n",
      "[89]\ttrain-merror:0.062643\teval-merror:0.066341\ttrain-f1:0.435678\teval-f1:0.419169\n",
      "[90]\ttrain-merror:0.062643\teval-merror:0.066706\ttrain-f1:0.435926\teval-f1:0.416347\n",
      "[91]\ttrain-merror:0.062521\teval-merror:0.066779\ttrain-f1:0.437637\teval-f1:0.416826\n",
      "[92]\ttrain-merror:0.062448\teval-merror:0.066414\ttrain-f1:0.437432\teval-f1:0.420382\n",
      "[93]\ttrain-merror:0.062448\teval-merror:0.06656\ttrain-f1:0.438416\teval-f1:0.420584\n",
      "[94]\ttrain-merror:0.062521\teval-merror:0.066633\ttrain-f1:0.437637\teval-f1:0.420317\n",
      "[95]\ttrain-merror:0.062351\teval-merror:0.066414\ttrain-f1:0.439291\teval-f1:0.42112\n",
      "[96]\ttrain-merror:0.062254\teval-merror:0.066268\ttrain-f1:0.440656\teval-f1:0.423126\n",
      "[97]\ttrain-merror:0.062254\teval-merror:0.066414\ttrain-f1:0.440166\teval-f1:0.422589\n"
     ]
    },
    {
     "name": "stdout",
     "output_type": "stream",
     "text": [
      "[98]\ttrain-merror:0.062327\teval-merror:0.066122\ttrain-f1:0.439878\teval-f1:0.424396\n",
      "[99]\ttrain-merror:0.06201\teval-merror:0.066268\ttrain-f1:0.444541\teval-f1:0.424588\n",
      "[100]\ttrain-merror:0.062156\teval-merror:0.066049\ttrain-f1:0.442991\teval-f1:0.425397\n",
      "[101]\ttrain-merror:0.062229\teval-merror:0.066195\ttrain-f1:0.442215\teval-f1:0.424857\n",
      "[102]\ttrain-merror:0.062351\teval-merror:0.066122\ttrain-f1:0.441977\teval-f1:0.425856\n",
      "[103]\ttrain-merror:0.062302\teval-merror:0.066122\ttrain-f1:0.442169\teval-f1:0.425856\n",
      "[104]\ttrain-merror:0.062424\teval-merror:0.066487\ttrain-f1:0.439983\teval-f1:0.421587\n",
      "[105]\ttrain-merror:0.062351\teval-merror:0.066341\ttrain-f1:0.440026\teval-f1:0.42065\n",
      "[106]\ttrain-merror:0.062375\teval-merror:0.066195\ttrain-f1:0.43944\teval-f1:0.421925\n",
      "[107]\ttrain-merror:0.062375\teval-merror:0.066487\ttrain-f1:0.438212\teval-f1:0.420115\n",
      "[108]\ttrain-merror:0.062254\teval-merror:0.066706\ttrain-f1:0.439921\teval-f1:0.420051\n",
      "[109]\ttrain-merror:0.062035\teval-merror:0.066487\ttrain-f1:0.442257\teval-f1:0.421587\n",
      "[110]\ttrain-merror:0.061986\teval-merror:0.066852\ttrain-f1:0.443182\teval-f1:0.419518\n",
      "[111]\ttrain-merror:0.062059\teval-merror:0.066195\ttrain-f1:0.441428\teval-f1:0.421925\n",
      "[112]\ttrain-merror:0.062205\teval-merror:0.066341\ttrain-f1:0.439623\teval-f1:0.42065\n",
      "[113]\ttrain-merror:0.062302\teval-merror:0.066122\ttrain-f1:0.438007\teval-f1:0.423664\n",
      "[114]\ttrain-merror:0.061937\teval-merror:0.066414\ttrain-f1:0.443376\teval-f1:0.422589\n",
      "[115]\ttrain-merror:0.062059\teval-merror:0.06656\ttrain-f1:0.442404\teval-f1:0.420584\n",
      "[116]\ttrain-merror:0.062035\teval-merror:0.066633\ttrain-f1:0.443231\teval-f1:0.421053\n",
      "[117]\ttrain-merror:0.062083\teval-merror:0.066487\ttrain-f1:0.44182\teval-f1:0.421587\n",
      "[118]\ttrain-merror:0.062108\teval-merror:0.066487\ttrain-f1:0.441967\teval-f1:0.421587\n",
      "[119]\ttrain-merror:0.06184\teval-merror:0.066414\ttrain-f1:0.445462\teval-f1:0.421855\n",
      "[120]\ttrain-merror:0.061816\teval-merror:0.066341\ttrain-f1:0.446285\teval-f1:0.423589\n",
      "[121]\ttrain-merror:0.061791\teval-merror:0.066633\ttrain-f1:0.446623\teval-f1:0.420317\n",
      "[122]\ttrain-merror:0.061937\teval-merror:0.066268\ttrain-f1:0.44459\teval-f1:0.423126\n",
      "[123]\ttrain-merror:0.061913\teval-merror:0.066487\ttrain-f1:0.445171\teval-f1:0.421587\n",
      "[124]\ttrain-merror:0.06184\teval-merror:0.066414\ttrain-f1:0.446187\teval-f1:0.421855\n",
      "[125]\ttrain-merror:0.061524\teval-merror:0.06656\ttrain-f1:0.451053\teval-f1:0.422785\n",
      "[126]\ttrain-merror:0.061475\teval-merror:0.06656\ttrain-f1:0.451963\teval-f1:0.424242\n",
      "[127]\ttrain-merror:0.061475\teval-merror:0.066852\ttrain-f1:0.450533\teval-f1:0.421717\n",
      "[128]\ttrain-merror:0.061694\teval-merror:0.066998\ttrain-f1:0.448696\teval-f1:0.419722\n",
      "[129]\ttrain-merror:0.061718\teval-merror:0.066925\ttrain-f1:0.448598\teval-f1:0.42072\n",
      "[130]\ttrain-merror:0.061548\teval-merror:0.066998\ttrain-f1:0.451193\teval-f1:0.421185\n",
      "[131]\ttrain-merror:0.061548\teval-merror:0.066779\ttrain-f1:0.450716\teval-f1:0.422713\n",
      "[132]\ttrain-merror:0.061475\teval-merror:0.06656\ttrain-f1:0.450772\teval-f1:0.423515\n",
      "[133]\ttrain-merror:0.061548\teval-merror:0.066779\ttrain-f1:0.45\teval-f1:0.42344\n",
      "[134]\ttrain-merror:0.061451\teval-merror:0.06707\ttrain-f1:0.451585\teval-f1:0.421649\n",
      "[135]\ttrain-merror:0.061427\teval-merror:0.066706\ttrain-f1:0.451206\teval-f1:0.42225\n",
      "[136]\ttrain-merror:0.061402\teval-merror:0.06707\ttrain-f1:0.451781\teval-f1:0.42092\n",
      "[137]\ttrain-merror:0.061427\teval-merror:0.067143\ttrain-f1:0.451206\teval-f1:0.420655\n",
      "[138]\ttrain-merror:0.061354\teval-merror:0.067289\ttrain-f1:0.452215\teval-f1:0.420126\n",
      "[139]\ttrain-merror:0.061354\teval-merror:0.06707\ttrain-f1:0.452928\teval-f1:0.421649\n",
      "[140]\ttrain-merror:0.061378\teval-merror:0.067362\ttrain-f1:0.453067\teval-f1:0.42059\n",
      "[141]\ttrain-merror:0.061427\teval-merror:0.067654\ttrain-f1:0.453108\teval-f1:0.418079\n",
      "[142]\ttrain-merror:0.061378\teval-merror:0.067727\ttrain-f1:0.453304\teval-f1:0.418546\n",
      "[143]\ttrain-merror:0.061208\teval-merror:0.067654\ttrain-f1:0.456118\teval-f1:0.419537\n",
      "[144]\ttrain-merror:0.061232\teval-merror:0.0678\ttrain-f1:0.455784\teval-f1:0.418284\n",
      "[145]\ttrain-merror:0.061135\teval-merror:0.0678\ttrain-f1:0.455707\teval-f1:0.417555\n",
      "[146]\ttrain-merror:0.061086\teval-merror:0.067727\ttrain-f1:0.456376\teval-f1:0.417817\n",
      "[147]\ttrain-merror:0.06111\teval-merror:0.067508\ttrain-f1:0.456512\teval-f1:0.419335\n",
      "[148]\ttrain-merror:0.061378\teval-merror:0.067508\ttrain-f1:0.454722\teval-f1:0.420063\n",
      "[149]\ttrain-merror:0.061354\teval-merror:0.0678\ttrain-f1:0.454349\teval-f1:0.418284\n",
      "[150]\ttrain-merror:0.061013\teval-merror:0.067362\ttrain-f1:0.459016\teval-f1:0.422041\n",
      "[151]\ttrain-merror:0.061062\teval-merror:0.067289\ttrain-f1:0.457649\teval-f1:0.420854\n",
      "[152]\ttrain-merror:0.061086\teval-merror:0.067508\ttrain-f1:0.458486\teval-f1:0.421513\n",
      "Stopping. Best iteration:\n",
      "[102]\ttrain-merror:0.062351\teval-merror:0.066122\ttrain-f1:0.441977\teval-f1:0.425856\n",
      "\n"
     ]
    }
   ],
   "source": [
    "print(\"Train a XGBoost model\")\n",
    "dtrain = xgb.DMatrix(X_trainmodel, y_trainmodel)\n",
    "dvalid = xgb.DMatrix(X_val, y_val)\n",
    "\n",
    "watchlist = [(dtrain, 'train'), (dvalid, 'eval')]\n",
    "gbm = xgb.train(params, dtrain, num_boost_round, watchlist,\n",
    "                feval=calc_f1_score, maximize=True, early_stopping_rounds=50, verbose_eval=True)"
   ]
  },
  {
   "cell_type": "code",
   "execution_count": 167,
   "metadata": {},
   "outputs": [],
   "source": [
    "test_y  =gbm.predict(xgb.DMatrix(test_dataset))"
   ]
  },
  {
   "cell_type": "code",
   "execution_count": 168,
   "metadata": {},
   "outputs": [],
   "source": [
    "submission =pd.DataFrame({'employee_id':test_dataset_emp.values ,'is_promoted':test_y}) \n",
    "#submission['Loan_Status'].replace(0, 'N',inplace=True)\n",
    "#submission['Loan_Status'].replace(1, 'Y',inplace=True)\n",
    "import datetime\n",
    "FORMAT = '%Y%m%d%H%M%S'\n",
    "timestamp=datetime.datetime.now().strftime(FORMAT)\n",
    "filename =\"HR_Analytics_XgBoost\"+timestamp+\"_out.csv\"\n",
    "submission.to_csv(filename,index=False)"
   ]
  },
  {
   "cell_type": "code",
   "execution_count": null,
   "metadata": {},
   "outputs": [],
   "source": []
  }
 ],
 "metadata": {
  "kernelspec": {
   "display_name": "Python 3",
   "language": "python",
   "name": "python3"
  },
  "language_info": {
   "codemirror_mode": {
    "name": "ipython",
    "version": 3
   },
   "file_extension": ".py",
   "mimetype": "text/x-python",
   "name": "python",
   "nbconvert_exporter": "python",
   "pygments_lexer": "ipython3",
   "version": "3.7.1"
  }
 },
 "nbformat": 4,
 "nbformat_minor": 2
}
