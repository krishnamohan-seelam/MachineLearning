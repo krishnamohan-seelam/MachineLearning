{
 "cells": [
  {
   "cell_type": "code",
   "execution_count": 1,
   "metadata": {},
   "outputs": [],
   "source": [
    "import numpy as np\n",
    "import pandas as pd\n",
    "import matplotlib.pyplot as plt\n",
    "import seaborn as sns\n",
    "%matplotlib inline\n",
    "import warnings\n",
    "warnings.filterwarnings(\"ignore\")\n",
    "warnings.filterwarnings(\"ignore\", category=DeprecationWarning) \n",
    "sns.set(style=\"darkgrid\")\n",
    "pd.set_option('display.width', 200)\n",
    "pd.set_option('precision', 4)\n",
    "pd.set_option('display.width', 500)\n",
    "pd.set_option('display.max_columns', 200)\n",
    "pd.set_option('display.notebook_repr_html', True)"
   ]
  },
  {
   "cell_type": "code",
   "execution_count": 2,
   "metadata": {},
   "outputs": [],
   "source": [
    "def get_nullframe(dataset):\n",
    "    null_sum = dataset.isnull().sum()[dataset.isnull().sum()>0] \n",
    "    return pd.DataFrame({'feature':null_sum.index,'count':null_sum.values,\n",
    "                          'null_percent':(null_sum.values/dataset.shape[0])*100}).sort_values(by=['count'],ascending=False)"
   ]
  },
  {
   "cell_type": "code",
   "execution_count": 3,
   "metadata": {},
   "outputs": [],
   "source": [
    "from sklearn import metrics\n",
    "from sklearn.metrics import roc_curve\n",
    "def measure_performance(X, y, clf, show_accuracy=True,show_classification_report=True,\n",
    "                        show_confusion_matrix=True, show_r2_score=False):\n",
    "    y_pred = clf.predict(X) \n",
    "    if show_accuracy:\n",
    "        print (\"Accuracy:{0:.3f}\".format( metrics.accuracy_score(y, y_pred)) )\n",
    "    if show_classification_report:\n",
    "        print (\"Classification report\")\n",
    "        print (metrics.classification_report(y, y_pred))\n",
    "    if show_confusion_matrix:\n",
    "        print(\"Confusion matrix\") \n",
    "        print(metrics.confusion_matrix(y, y_pred),)\n",
    "    if show_r2_score:\n",
    "        print (\"Coefficient of determination:{0:.3f}\"\n",
    "               .format( metrics.r2_score(y, y_pred)))\n",
    "    return y_pred"
   ]
  },
  {
   "cell_type": "code",
   "execution_count": 4,
   "metadata": {},
   "outputs": [],
   "source": [
    "from sklearn.model_selection import GridSearchCV, cross_val_score, StratifiedKFold, learning_curve\n",
    "def plot_learning_curve(train_sizes, train_scores, validation_scores):\n",
    "    plt.figure()\n",
    "    plt.title(\"Learning Curve\")\n",
    "    train_scores_mean = np.mean(train_scores, axis=1)\n",
    "    train_scores_std = np.std(train_scores, axis=1)\n",
    "    validation_scores_mean = np.mean(validation_scores, axis=1)\n",
    "    validation_scores_std = np.std(validation_scores, axis=1)\n",
    "\n",
    "    plt.fill_between(train_sizes, train_scores_mean - train_scores_std,\n",
    "                     train_scores_mean + train_scores_std, alpha=0.1,\n",
    "                     color=\"r\")\n",
    "    plt.fill_between(train_sizes, validation_scores_mean - validation_scores_std,\n",
    "                     validation_scores_mean + validation_scores_std, alpha=0.1, color=\"g\")\n",
    "    \n",
    "    plt.plot(train_sizes, train_scores_mean, 'o-', color=\"r\",label=\"Training score\")\n",
    "    plt.plot(train_sizes, validation_scores_mean, 'o-', color=\"g\" ,label=\"Cross-validation score\")\n",
    "    plt.ylim(max(-3, validation_scores_mean.min() - .1), train_scores_mean.max() + .1)\n",
    "    plt.legend(loc=\"best\")\n",
    "    plt.show()"
   ]
  },
  {
   "cell_type": "code",
   "execution_count": 5,
   "metadata": {},
   "outputs": [],
   "source": [
    "from sklearn.model_selection import validation_curve\n",
    "def plot_validation_curve(parameter_values, train_scores, validation_scores):\n",
    "    plt.figure()\n",
    "    plt.title(\"Validation Curve\")\n",
    "    train_scores_mean = np.mean(train_scores, axis=1)\n",
    "    train_scores_std = np.std(train_scores, axis=1)\n",
    "    validation_scores_mean = np.mean(validation_scores, axis=1)\n",
    "    validation_scores_std = np.std(validation_scores, axis=1)\n",
    "\n",
    "    plt.fill_between(parameter_values, train_scores_mean - train_scores_std,\n",
    "                     train_scores_mean + train_scores_std, alpha=0.1,\n",
    "                     color=\"r\")\n",
    "    plt.fill_between(parameter_values, validation_scores_mean - validation_scores_std,\n",
    "                     validation_scores_mean + validation_scores_std, alpha=0.1, color=\"g\")\n",
    "    plt.plot(parameter_values, train_scores_mean, 'o-', color=\"r\",\n",
    "             label=\"Training score\")\n",
    "    plt.plot(parameter_values, validation_scores_mean, 'o-', color=\"g\",\n",
    "             label=\"Cross-validation score\")\n",
    "    plt.ylim(validation_scores_mean.min() - .1, train_scores_mean.max() + .1)\n",
    "    plt.legend(loc=\"best\")\n",
    "    plt.show()"
   ]
  },
  {
   "cell_type": "code",
   "execution_count": 6,
   "metadata": {},
   "outputs": [],
   "source": [
    "def plot_roc(X_val,y_val,model):\n",
    "    fpr, tpr, thresholds = roc_curve(y_val, model.predict_proba(X_val)[:, 1])\n",
    "    plt.figure()\n",
    "    plt.plot(fpr, tpr, label=\"ROC Curve\")\n",
    "    plt.xlabel(\"FPR\")\n",
    "    plt.ylabel(\"TPR (recall)\")\n",
    "    plt.title(\"roc_curve\");\n",
    "    # find threshold closest to zero:\n",
    "    close_zero = np.argmin(np.abs(thresholds))\n",
    "    plt.plot(fpr[close_zero], tpr[close_zero], 'o', markersize=10,\n",
    "         label=\"threshold zero\", fillstyle=\"none\", c='k', mew=2)\n",
    "    plt.legend(loc=4)\n",
    "    plt.show()"
   ]
  },
  {
   "cell_type": "code",
   "execution_count": 7,
   "metadata": {},
   "outputs": [],
   "source": [
    "def test_classifier(model,X,y,cv):\n",
    "    clf = model.fit(X,y.values.ravel())\n",
    "    result = clf.score(X,y.values)\n",
    "    print (\"Accuracy: {0:.3f}\".format(result*100.0))\n",
    "\n",
    "    train_sizes, train_scores, validation_scores = learning_curve(clf, X,y.values.ravel(),cv=cv)\n",
    "    plot_learning_curve(train_sizes, train_scores, validation_scores)\n",
    "    return clf,result"
   ]
  },
  {
   "cell_type": "code",
   "execution_count": 8,
   "metadata": {},
   "outputs": [],
   "source": [
    "train=pd.read_csv(\"train_u6lujuX_CVtuZ9i.csv\")\n",
    "test=pd.read_csv(\"test_Y3wMUE5_7gLdaTN.csv\")"
   ]
  },
  {
   "cell_type": "code",
   "execution_count": 9,
   "metadata": {},
   "outputs": [],
   "source": [
    "train_original=train.copy()\n",
    "test_original=test.copy()"
   ]
  },
  {
   "cell_type": "code",
   "execution_count": 10,
   "metadata": {},
   "outputs": [
    {
     "data": {
      "text/plain": [
       "Y    422\n",
       "N    192\n",
       "Name: Loan_Status, dtype: int64"
      ]
     },
     "execution_count": 10,
     "metadata": {},
     "output_type": "execute_result"
    }
   ],
   "source": [
    "train['Loan_Status'].value_counts()"
   ]
  },
  {
   "cell_type": "code",
   "execution_count": 11,
   "metadata": {},
   "outputs": [
    {
     "data": {
      "text/plain": [
       "Y    0.6873\n",
       "N    0.3127\n",
       "Name: Loan_Status, dtype: float64"
      ]
     },
     "execution_count": 11,
     "metadata": {},
     "output_type": "execute_result"
    }
   ],
   "source": [
    "train['Loan_Status'].value_counts(normalize=True)"
   ]
  },
  {
   "cell_type": "code",
   "execution_count": 12,
   "metadata": {},
   "outputs": [
    {
     "data": {
      "image/png": "[encoded data removed]",
      "text/plain": [
       "<Figure size 432x288 with 1 Axes>"
      ]
     },
     "metadata": {},
     "output_type": "display_data"
    }
   ],
   "source": [
    "ax = sns.countplot(x=\"Loan_Status\", data=train)"
   ]
  },
  {
   "cell_type": "code",
   "execution_count": 13,
   "metadata": {},
   "outputs": [
    {
     "data": {
      "text/html": [
       "<div>\n",
       "<style scoped>\n",
       "    .dataframe tbody tr th:only-of-type {\n",
       "        vertical-align: middle;\n",
       "    }\n",
       "\n",
       "    .dataframe tbody tr th {\n",
       "        vertical-align: top;\n",
       "    }\n",
       "\n",
       "    .dataframe thead th {\n",
       "        text-align: right;\n",
       "    }\n",
       "</style>\n",
       "<table border=\"1\" class=\"dataframe\">\n",
       "  <thead>\n",
       "    <tr style=\"text-align: right;\">\n",
       "      <th></th>\n",
       "      <th>Loan_ID</th>\n",
       "      <th>Gender</th>\n",
       "      <th>Married</th>\n",
       "      <th>Dependents</th>\n",
       "      <th>Education</th>\n",
       "      <th>Self_Employed</th>\n",
       "      <th>ApplicantIncome</th>\n",
       "      <th>CoapplicantIncome</th>\n",
       "      <th>LoanAmount</th>\n",
       "      <th>Loan_Amount_Term</th>\n",
       "      <th>Credit_History</th>\n",
       "      <th>Property_Area</th>\n",
       "      <th>Loan_Status</th>\n",
       "    </tr>\n",
       "  </thead>\n",
       "  <tbody>\n",
       "    <tr>\n",
       "      <th>0</th>\n",
       "      <td>LP001002</td>\n",
       "      <td>Male</td>\n",
       "      <td>No</td>\n",
       "      <td>0</td>\n",
       "      <td>Graduate</td>\n",
       "      <td>No</td>\n",
       "      <td>5849</td>\n",
       "      <td>0.0</td>\n",
       "      <td>NaN</td>\n",
       "      <td>360.0</td>\n",
       "      <td>1.0</td>\n",
       "      <td>Urban</td>\n",
       "      <td>Y</td>\n",
       "    </tr>\n",
       "    <tr>\n",
       "      <th>1</th>\n",
       "      <td>LP001003</td>\n",
       "      <td>Male</td>\n",
       "      <td>Yes</td>\n",
       "      <td>1</td>\n",
       "      <td>Graduate</td>\n",
       "      <td>No</td>\n",
       "      <td>4583</td>\n",
       "      <td>1508.0</td>\n",
       "      <td>128.0</td>\n",
       "      <td>360.0</td>\n",
       "      <td>1.0</td>\n",
       "      <td>Rural</td>\n",
       "      <td>N</td>\n",
       "    </tr>\n",
       "    <tr>\n",
       "      <th>2</th>\n",
       "      <td>LP001005</td>\n",
       "      <td>Male</td>\n",
       "      <td>Yes</td>\n",
       "      <td>0</td>\n",
       "      <td>Graduate</td>\n",
       "      <td>Yes</td>\n",
       "      <td>3000</td>\n",
       "      <td>0.0</td>\n",
       "      <td>66.0</td>\n",
       "      <td>360.0</td>\n",
       "      <td>1.0</td>\n",
       "      <td>Urban</td>\n",
       "      <td>Y</td>\n",
       "    </tr>\n",
       "    <tr>\n",
       "      <th>3</th>\n",
       "      <td>LP001006</td>\n",
       "      <td>Male</td>\n",
       "      <td>Yes</td>\n",
       "      <td>0</td>\n",
       "      <td>Not Graduate</td>\n",
       "      <td>No</td>\n",
       "      <td>2583</td>\n",
       "      <td>2358.0</td>\n",
       "      <td>120.0</td>\n",
       "      <td>360.0</td>\n",
       "      <td>1.0</td>\n",
       "      <td>Urban</td>\n",
       "      <td>Y</td>\n",
       "    </tr>\n",
       "    <tr>\n",
       "      <th>4</th>\n",
       "      <td>LP001008</td>\n",
       "      <td>Male</td>\n",
       "      <td>No</td>\n",
       "      <td>0</td>\n",
       "      <td>Graduate</td>\n",
       "      <td>No</td>\n",
       "      <td>6000</td>\n",
       "      <td>0.0</td>\n",
       "      <td>141.0</td>\n",
       "      <td>360.0</td>\n",
       "      <td>1.0</td>\n",
       "      <td>Urban</td>\n",
       "      <td>Y</td>\n",
       "    </tr>\n",
       "  </tbody>\n",
       "</table>\n",
       "</div>"
      ],
      "text/plain": [
       "    Loan_ID Gender Married Dependents     Education Self_Employed  ApplicantIncome  CoapplicantIncome  LoanAmount  Loan_Amount_Term  Credit_History Property_Area Loan_Status\n",
       "0  LP001002   Male      No          0      Graduate            No             5849                0.0         NaN             360.0             1.0         Urban           Y\n",
       "1  LP001003   Male     Yes          1      Graduate            No             4583             1508.0       128.0             360.0             1.0         Rural           N\n",
       "2  LP001005   Male     Yes          0      Graduate           Yes             3000                0.0        66.0             360.0             1.0         Urban           Y\n",
       "3  LP001006   Male     Yes          0  Not Graduate            No             2583             2358.0       120.0             360.0             1.0         Urban           Y\n",
       "4  LP001008   Male      No          0      Graduate            No             6000                0.0       141.0             360.0             1.0         Urban           Y"
      ]
     },
     "execution_count": 13,
     "metadata": {},
     "output_type": "execute_result"
    }
   ],
   "source": [
    "train.head()"
   ]
  },
  {
   "cell_type": "code",
   "execution_count": 14,
   "metadata": {},
   "outputs": [
    {
     "data": {
      "text/plain": [
       "['ApplicantIncome',\n",
       " 'CoapplicantIncome',\n",
       " 'LoanAmount',\n",
       " 'Loan_Amount_Term',\n",
       " 'Credit_History']"
      ]
     },
     "execution_count": 14,
     "metadata": {},
     "output_type": "execute_result"
    }
   ],
   "source": [
    "continuous_ds = train.select_dtypes(np.number)\n",
    "continuous_columns = continuous_ds.columns.values.tolist()\n",
    "continuous_columns"
   ]
  },
  {
   "cell_type": "code",
   "execution_count": 15,
   "metadata": {},
   "outputs": [],
   "source": [
    "categorical_ds = train.select_dtypes(\"object\")\n",
    "categorical_columns = categorical_ds.columns.values.tolist()\n",
    "ordinal_columns =['Dependents','Education','Property_Area']\n",
    "categorical_columns = [ column for column in categorical_columns if column not in ordinal_columns ]\n",
    "categorical_columns.remove('Loan_ID')"
   ]
  },
  {
   "cell_type": "code",
   "execution_count": 16,
   "metadata": {},
   "outputs": [
    {
     "data": {
      "image/png": "[encoded data removed]",
      "text/plain": [
       "<Figure size 864x216 with 4 Axes>"
      ]
     },
     "metadata": {},
     "output_type": "display_data"
    }
   ],
   "source": [
    "f = pd.melt(train, value_vars=sorted(categorical_columns))\n",
    "g = sns.FacetGrid(f, col='variable', col_wrap=4, sharex=False, sharey=False)\n",
    "g = g.map(sns.countplot, 'value')"
   ]
  },
  {
   "cell_type": "code",
   "execution_count": 17,
   "metadata": {},
   "outputs": [
    {
     "data": {
      "image/png": "[encoded data removed]",
      "text/plain": [
       "<Figure size 864x216 with 3 Axes>"
      ]
     },
     "metadata": {},
     "output_type": "display_data"
    }
   ],
   "source": [
    "f = pd.melt(train, value_vars=sorted(ordinal_columns))\n",
    "g = sns.FacetGrid(f, col='variable', col_wrap=4, sharex=False, sharey=False)\n",
    "g = g.map(sns.countplot, 'value')"
   ]
  },
  {
   "cell_type": "code",
   "execution_count": 18,
   "metadata": {},
   "outputs": [
    {
     "data": {
      "image/png": "[encoded data removed]",
      "text/plain": [
       "<Figure size 864x432 with 5 Axes>"
      ]
     },
     "metadata": {},
     "output_type": "display_data"
    }
   ],
   "source": [
    "f = pd.melt(train, value_vars=sorted(continuous_ds))\n",
    "g = sns.FacetGrid(f, col='variable', col_wrap=4, sharex=False, sharey=False)\n",
    "g = g.map(sns.distplot, 'value')"
   ]
  },
  {
   "cell_type": "code",
   "execution_count": 19,
   "metadata": {
    "scrolled": true
   },
   "outputs": [
    {
     "data": {
      "text/plain": [
       "<matplotlib.axes._subplots.AxesSubplot at 0x16629bbbd30>"
      ]
     },
     "execution_count": 19,
     "metadata": {},
     "output_type": "execute_result"
    },
    {
     "data": {
      "image/png": "[encoded data removed]",
      "text/plain": [
       "<Figure size 432x288 with 1 Axes>"
      ]
     },
     "metadata": {},
     "output_type": "display_data"
    }
   ],
   "source": [
    "gender=pd.crosstab(train['Gender'],train['Loan_Status'])\n",
    "gender.div(gender.sum(1).astype(float), axis=0).plot(kind=\"bar\", stacked=True, figsize=(6,4))"
   ]
  },
  {
   "cell_type": "code",
   "execution_count": 20,
   "metadata": {},
   "outputs": [
    {
     "data": {
      "text/plain": [
       "Gender  Credit_History  Loan_Status\n",
       "Female  0.0             N               16\n",
       "                        Y                1\n",
       "        1.0             N               20\n",
       "                        Y               64\n",
       "Male    0.0             N               63\n",
       "                        Y                6\n",
       "        1.0             N               75\n",
       "                        Y              307\n",
       "Name: Loan_ID, dtype: int64"
      ]
     },
     "execution_count": 20,
     "metadata": {},
     "output_type": "execute_result"
    }
   ],
   "source": [
    "train.groupby(['Gender','Credit_History','Loan_Status'])['Loan_ID'].count().reindex()"
   ]
  },
  {
   "cell_type": "code",
   "execution_count": 21,
   "metadata": {},
   "outputs": [
    {
     "data": {
      "text/plain": [
       "<matplotlib.axes._subplots.AxesSubplot at 0x1662a2fd320>"
      ]
     },
     "execution_count": 21,
     "metadata": {},
     "output_type": "execute_result"
    },
    {
     "data": {
      "image/png": "[encoded data removed]",
      "text/plain": [
       "<Figure size 432x288 with 1 Axes>"
      ]
     },
     "metadata": {},
     "output_type": "display_data"
    }
   ],
   "source": [
    "married=pd.crosstab(train['Married'],train['Loan_Status'])\n",
    "married.div(married.sum(1).astype(float), axis=0).plot(kind=\"bar\", stacked=True, figsize=(6,4))"
   ]
  },
  {
   "cell_type": "code",
   "execution_count": 22,
   "metadata": {},
   "outputs": [
    {
     "data": {
      "text/plain": [
       "Married  Credit_History  Loan_Status\n",
       "No       0.0             N               29\n",
       "                         Y                3\n",
       "         1.0             N               45\n",
       "                         Y              122\n",
       "Yes      0.0             N               53\n",
       "                         Y                4\n",
       "         1.0             N               52\n",
       "                         Y              253\n",
       "Name: Loan_ID, dtype: int64"
      ]
     },
     "execution_count": 22,
     "metadata": {},
     "output_type": "execute_result"
    }
   ],
   "source": [
    "train.groupby(['Married','Credit_History','Loan_Status'])['Loan_ID'].count().reindex()"
   ]
  },
  {
   "cell_type": "code",
   "execution_count": 23,
   "metadata": {},
   "outputs": [
    {
     "data": {
      "text/plain": [
       "<matplotlib.axes._subplots.AxesSubplot at 0x1662a340c88>"
      ]
     },
     "execution_count": 23,
     "metadata": {},
     "output_type": "execute_result"
    },
    {
     "data": {
      "image/png": "[encoded data removed]",
      "text/plain": [
       "<Figure size 432x288 with 1 Axes>"
      ]
     },
     "metadata": {},
     "output_type": "display_data"
    }
   ],
   "source": [
    "education=pd.crosstab(train['Education'],train['Loan_Status'])\n",
    "education.div(education.sum(1).astype(float), axis=0).plot(kind=\"bar\", stacked=True, figsize=(6,4))"
   ]
  },
  {
   "cell_type": "code",
   "execution_count": 24,
   "metadata": {},
   "outputs": [
    {
     "data": {
      "text/plain": [
       "Education     Credit_History  Loan_Status\n",
       "Graduate      0.0             N               57\n",
       "                              Y                6\n",
       "              1.0             N               73\n",
       "                              Y              307\n",
       "Not Graduate  0.0             N               25\n",
       "                              Y                1\n",
       "              1.0             N               24\n",
       "                              Y               71\n",
       "Name: Loan_ID, dtype: int64"
      ]
     },
     "execution_count": 24,
     "metadata": {},
     "output_type": "execute_result"
    }
   ],
   "source": [
    "train.groupby(['Education','Credit_History','Loan_Status'])['Loan_ID'].count().reindex()"
   ]
  },
  {
   "cell_type": "code",
   "execution_count": 25,
   "metadata": {},
   "outputs": [
    {
     "data": {
      "text/plain": [
       "<matplotlib.axes._subplots.AxesSubplot at 0x1662a39eda0>"
      ]
     },
     "execution_count": 25,
     "metadata": {},
     "output_type": "execute_result"
    },
    {
     "data": {
      "image/png": "[encoded data removed]",
      "text/plain": [
       "<Figure size 432x288 with 1 Axes>"
      ]
     },
     "metadata": {},
     "output_type": "display_data"
    }
   ],
   "source": [
    "self_employed=pd.crosstab(train['Self_Employed'],train['Loan_Status'])\n",
    "self_employed.div(self_employed.sum(1).astype(float), axis=0).plot(kind=\"bar\", stacked=True, figsize=(6,4))"
   ]
  },
  {
   "cell_type": "code",
   "execution_count": 26,
   "metadata": {},
   "outputs": [
    {
     "data": {
      "text/plain": [
       "Education     Self_Employed  Credit_History  Loan_Status\n",
       "Graduate      No             0.0             N               46\n",
       "                                             Y                6\n",
       "                             1.0             N               62\n",
       "                                             Y              249\n",
       "              Yes            0.0             N               10\n",
       "                             1.0             N                9\n",
       "                                             Y               41\n",
       "Not Graduate  No             0.0             N               23\n",
       "                                             Y                1\n",
       "                             1.0             N               19\n",
       "                                             Y               57\n",
       "              Yes            0.0             N                2\n",
       "                             1.0             N                4\n",
       "                                             Y                9\n",
       "Name: Loan_ID, dtype: int64"
      ]
     },
     "execution_count": 26,
     "metadata": {},
     "output_type": "execute_result"
    }
   ],
   "source": [
    "train.groupby(['Education','Self_Employed','Credit_History','Loan_Status'])['Loan_ID'].count().reindex()"
   ]
  },
  {
   "cell_type": "code",
   "execution_count": 27,
   "metadata": {},
   "outputs": [
    {
     "data": {
      "text/plain": [
       "<matplotlib.axes._subplots.AxesSubplot at 0x1662a42e400>"
      ]
     },
     "execution_count": 27,
     "metadata": {},
     "output_type": "execute_result"
    },
    {
     "data": {
      "image/png": "[encoded data removed]",
      "text/plain": [
       "<Figure size 432x288 with 1 Axes>"
      ]
     },
     "metadata": {},
     "output_type": "display_data"
    }
   ],
   "source": [
    "#Credit_History\n",
    "dependents=pd.crosstab(train['Dependents'],train['Loan_Status'])\n",
    "dependents.div(dependents.sum(1).astype(float), axis=0).plot(kind=\"bar\", stacked=True, figsize=(6,4))"
   ]
  },
  {
   "cell_type": "code",
   "execution_count": 28,
   "metadata": {},
   "outputs": [
    {
     "data": {
      "text/plain": [
       "Dependents  Credit_History  Loan_Status\n",
       "0           0.0             N               42\n",
       "                            Y                3\n",
       "            1.0             N               60\n",
       "                            Y              211\n",
       "1           0.0             N               13\n",
       "                            Y                1\n",
       "            1.0             N               17\n",
       "                            Y               59\n",
       "2           0.0             N               13\n",
       "                            Y                1\n",
       "            1.0             N               12\n",
       "                            Y               69\n",
       "3+          0.0             N                9\n",
       "                            Y                2\n",
       "            1.0             N                7\n",
       "                            Y               30\n",
       "Name: Loan_ID, dtype: int64"
      ]
     },
     "execution_count": 28,
     "metadata": {},
     "output_type": "execute_result"
    }
   ],
   "source": [
    "train.groupby(['Dependents','Credit_History','Loan_Status'])['Loan_ID'].count().reindex()"
   ]
  },
  {
   "cell_type": "code",
   "execution_count": 29,
   "metadata": {},
   "outputs": [
    {
     "data": {
      "text/plain": [
       "<matplotlib.axes._subplots.AxesSubplot at 0x1662a4a3358>"
      ]
     },
     "execution_count": 29,
     "metadata": {},
     "output_type": "execute_result"
    },
    {
     "data": {
      "image/png": "[encoded data removed]",
      "text/plain": [
       "<Figure size 432x288 with 1 Axes>"
      ]
     },
     "metadata": {},
     "output_type": "display_data"
    }
   ],
   "source": [
    "#Credit_History\n",
    "Credit_History=pd.crosstab(train['Credit_History'],train['Loan_Status'])\n",
    "Credit_History.div(Credit_History.sum(1).astype(float), axis=0).plot(kind=\"bar\", stacked=True, figsize=(6,4))"
   ]
  },
  {
   "cell_type": "code",
   "execution_count": 30,
   "metadata": {},
   "outputs": [
    {
     "data": {
      "text/plain": [
       "<matplotlib.axes._subplots.AxesSubplot at 0x1662a4e4a20>"
      ]
     },
     "execution_count": 30,
     "metadata": {},
     "output_type": "execute_result"
    },
    {
     "data": {
      "image/png": "[encoded data removed]",
      "text/plain": [
       "<Figure size 432x288 with 1 Axes>"
      ]
     },
     "metadata": {},
     "output_type": "display_data"
    }
   ],
   "source": [
    "PropertyArea=pd.crosstab(train['Property_Area'],train['Loan_Status'])\n",
    "PropertyArea.div(PropertyArea.sum(1).astype(float), axis=0).plot(kind=\"bar\", stacked=True, figsize=(6,4))"
   ]
  },
  {
   "cell_type": "code",
   "execution_count": 31,
   "metadata": {},
   "outputs": [
    {
     "data": {
      "text/plain": [
       "Property_Area  Loan_Status\n",
       "Rural          N               69\n",
       "               Y              110\n",
       "Semiurban      N               54\n",
       "               Y              179\n",
       "Urban          N               69\n",
       "               Y              133\n",
       "Name: Loan_ID, dtype: int64"
      ]
     },
     "execution_count": 31,
     "metadata": {},
     "output_type": "execute_result"
    }
   ],
   "source": [
    "train.groupby(['Property_Area','Loan_Status'])['Loan_ID'].count().reindex()"
   ]
  },
  {
   "cell_type": "code",
   "execution_count": 32,
   "metadata": {},
   "outputs": [
    {
     "data": {
      "text/plain": [
       "1.0    127\n",
       "0.0     26\n",
       "Name: Credit_History, dtype: int64"
      ]
     },
     "execution_count": 32,
     "metadata": {},
     "output_type": "execute_result"
    }
   ],
   "source": [
    "test[ (test['Credit_History'].notnull()) &(test['Dependents']!='0')]['Credit_History'].value_counts()"
   ]
  },
  {
   "cell_type": "code",
   "execution_count": 33,
   "metadata": {},
   "outputs": [
    {
     "data": {
      "text/html": [
       "<div>\n",
       "<style scoped>\n",
       "    .dataframe tbody tr th:only-of-type {\n",
       "        vertical-align: middle;\n",
       "    }\n",
       "\n",
       "    .dataframe tbody tr th {\n",
       "        vertical-align: top;\n",
       "    }\n",
       "\n",
       "    .dataframe thead th {\n",
       "        text-align: right;\n",
       "    }\n",
       "</style>\n",
       "<table border=\"1\" class=\"dataframe\">\n",
       "  <thead>\n",
       "    <tr style=\"text-align: right;\">\n",
       "      <th>Married</th>\n",
       "      <th>No</th>\n",
       "      <th>Yes</th>\n",
       "      <th>All</th>\n",
       "    </tr>\n",
       "    <tr>\n",
       "      <th>Credit_History</th>\n",
       "      <th></th>\n",
       "      <th></th>\n",
       "      <th></th>\n",
       "    </tr>\n",
       "  </thead>\n",
       "  <tbody>\n",
       "    <tr>\n",
       "      <th>0.0</th>\n",
       "      <td>32</td>\n",
       "      <td>57</td>\n",
       "      <td>89</td>\n",
       "    </tr>\n",
       "    <tr>\n",
       "      <th>1.0</th>\n",
       "      <td>167</td>\n",
       "      <td>305</td>\n",
       "      <td>472</td>\n",
       "    </tr>\n",
       "    <tr>\n",
       "      <th>All</th>\n",
       "      <td>199</td>\n",
       "      <td>362</td>\n",
       "      <td>561</td>\n",
       "    </tr>\n",
       "  </tbody>\n",
       "</table>\n",
       "</div>"
      ],
      "text/plain": [
       "Married          No  Yes  All\n",
       "Credit_History               \n",
       "0.0              32   57   89\n",
       "1.0             167  305  472\n",
       "All             199  362  561"
      ]
     },
     "execution_count": 33,
     "metadata": {},
     "output_type": "execute_result"
    }
   ],
   "source": [
    "Credit_History_Married=pd.crosstab(train['Credit_History'],train['Married'],train['Loan_Status'],margins=True, aggfunc='count')\n",
    "Credit_History_Married"
   ]
  },
  {
   "cell_type": "code",
   "execution_count": 34,
   "metadata": {},
   "outputs": [
    {
     "data": {
      "text/html": [
       "<div>\n",
       "<style scoped>\n",
       "    .dataframe tbody tr th:only-of-type {\n",
       "        vertical-align: middle;\n",
       "    }\n",
       "\n",
       "    .dataframe tbody tr th {\n",
       "        vertical-align: top;\n",
       "    }\n",
       "\n",
       "    .dataframe thead th {\n",
       "        text-align: right;\n",
       "    }\n",
       "</style>\n",
       "<table border=\"1\" class=\"dataframe\">\n",
       "  <thead>\n",
       "    <tr style=\"text-align: right;\">\n",
       "      <th></th>\n",
       "      <th>feature</th>\n",
       "      <th>count</th>\n",
       "      <th>null_percent</th>\n",
       "    </tr>\n",
       "  </thead>\n",
       "  <tbody>\n",
       "    <tr>\n",
       "      <th>6</th>\n",
       "      <td>Credit_History</td>\n",
       "      <td>50</td>\n",
       "      <td>8.1433</td>\n",
       "    </tr>\n",
       "    <tr>\n",
       "      <th>3</th>\n",
       "      <td>Self_Employed</td>\n",
       "      <td>32</td>\n",
       "      <td>5.2117</td>\n",
       "    </tr>\n",
       "    <tr>\n",
       "      <th>4</th>\n",
       "      <td>LoanAmount</td>\n",
       "      <td>22</td>\n",
       "      <td>3.5831</td>\n",
       "    </tr>\n",
       "    <tr>\n",
       "      <th>2</th>\n",
       "      <td>Dependents</td>\n",
       "      <td>15</td>\n",
       "      <td>2.4430</td>\n",
       "    </tr>\n",
       "    <tr>\n",
       "      <th>5</th>\n",
       "      <td>Loan_Amount_Term</td>\n",
       "      <td>14</td>\n",
       "      <td>2.2801</td>\n",
       "    </tr>\n",
       "    <tr>\n",
       "      <th>0</th>\n",
       "      <td>Gender</td>\n",
       "      <td>13</td>\n",
       "      <td>2.1173</td>\n",
       "    </tr>\n",
       "    <tr>\n",
       "      <th>1</th>\n",
       "      <td>Married</td>\n",
       "      <td>3</td>\n",
       "      <td>0.4886</td>\n",
       "    </tr>\n",
       "  </tbody>\n",
       "</table>\n",
       "</div>"
      ],
      "text/plain": [
       "            feature  count  null_percent\n",
       "6    Credit_History     50        8.1433\n",
       "3     Self_Employed     32        5.2117\n",
       "4        LoanAmount     22        3.5831\n",
       "2        Dependents     15        2.4430\n",
       "5  Loan_Amount_Term     14        2.2801\n",
       "0            Gender     13        2.1173\n",
       "1           Married      3        0.4886"
      ]
     },
     "execution_count": 34,
     "metadata": {},
     "output_type": "execute_result"
    }
   ],
   "source": [
    "train_null =get_nullframe(train)\n",
    "train_null"
   ]
  },
  {
   "cell_type": "code",
   "execution_count": 35,
   "metadata": {},
   "outputs": [
    {
     "data": {
      "text/html": [
       "<div>\n",
       "<style scoped>\n",
       "    .dataframe tbody tr th:only-of-type {\n",
       "        vertical-align: middle;\n",
       "    }\n",
       "\n",
       "    .dataframe tbody tr th {\n",
       "        vertical-align: top;\n",
       "    }\n",
       "\n",
       "    .dataframe thead th {\n",
       "        text-align: right;\n",
       "    }\n",
       "</style>\n",
       "<table border=\"1\" class=\"dataframe\">\n",
       "  <thead>\n",
       "    <tr style=\"text-align: right;\">\n",
       "      <th></th>\n",
       "      <th>feature</th>\n",
       "      <th>count</th>\n",
       "      <th>null_percent</th>\n",
       "    </tr>\n",
       "  </thead>\n",
       "  <tbody>\n",
       "    <tr>\n",
       "      <th>5</th>\n",
       "      <td>Credit_History</td>\n",
       "      <td>29</td>\n",
       "      <td>7.9019</td>\n",
       "    </tr>\n",
       "    <tr>\n",
       "      <th>2</th>\n",
       "      <td>Self_Employed</td>\n",
       "      <td>23</td>\n",
       "      <td>6.2670</td>\n",
       "    </tr>\n",
       "    <tr>\n",
       "      <th>0</th>\n",
       "      <td>Gender</td>\n",
       "      <td>11</td>\n",
       "      <td>2.9973</td>\n",
       "    </tr>\n",
       "    <tr>\n",
       "      <th>1</th>\n",
       "      <td>Dependents</td>\n",
       "      <td>10</td>\n",
       "      <td>2.7248</td>\n",
       "    </tr>\n",
       "    <tr>\n",
       "      <th>4</th>\n",
       "      <td>Loan_Amount_Term</td>\n",
       "      <td>6</td>\n",
       "      <td>1.6349</td>\n",
       "    </tr>\n",
       "    <tr>\n",
       "      <th>3</th>\n",
       "      <td>LoanAmount</td>\n",
       "      <td>5</td>\n",
       "      <td>1.3624</td>\n",
       "    </tr>\n",
       "  </tbody>\n",
       "</table>\n",
       "</div>"
      ],
      "text/plain": [
       "            feature  count  null_percent\n",
       "5    Credit_History     29        7.9019\n",
       "2     Self_Employed     23        6.2670\n",
       "0            Gender     11        2.9973\n",
       "1        Dependents     10        2.7248\n",
       "4  Loan_Amount_Term      6        1.6349\n",
       "3        LoanAmount      5        1.3624"
      ]
     },
     "execution_count": 35,
     "metadata": {},
     "output_type": "execute_result"
    }
   ],
   "source": [
    "test_null =get_nullframe(test)\n",
    "test_null"
   ]
  },
  {
   "cell_type": "code",
   "execution_count": 36,
   "metadata": {
    "scrolled": false
   },
   "outputs": [],
   "source": [
    "#train_credit_null_index = train[(train['Married']=='Yes') &\n",
    "#                                (train['CoapplicantIncome']!=0) \n",
    "#                                &(train['Credit_History'].isnull())].index.tolist()\n",
    "#test_credit_null_index=test[(test['Married']=='Yes') & \n",
    "#                            (test['CoapplicantIncome']!=0) &\n",
    "#                            (test['Credit_History'].isnull())].index.tolist()\n",
    "\n",
    "#train.loc[train_credit_null_index,'Credit_History']=1\n",
    "#test.loc[test_credit_null_index,'Credit_History']=1\n",
    "\n",
    "train['Credit_History'].fillna(train['Credit_History'].mode()[0], inplace=True)\n",
    "test['Credit_History'].fillna(test['Credit_History'].mode()[0], inplace=True)\n",
    "train['Self_Employed'].fillna(train['Self_Employed'].mode()[0], inplace=True)\n",
    "test['Self_Employed'].fillna(test['Self_Employed'].mode()[0], inplace=True)\n",
    "\n",
    "train['Dependents'].fillna(train['Dependents'].mode()[0],inplace=True)\n",
    "test['Dependents'].fillna(test['Dependents'].mode()[0],inplace=True)\n",
    "\n",
    " \n",
    "test['Loan_Amount_Term'].fillna(test['Loan_Amount_Term'].median(),inplace=True)\n",
    "train['Loan_Amount_Term'].fillna(train['Loan_Amount_Term'].median(),inplace=True)\n",
    "train['Gender'].fillna(train['Gender'].mode()[0], inplace=True)\n",
    "test['Gender'].fillna(test['Gender'].mode()[0], inplace=True)\n",
    "\n",
    "train_Married_null_index = train[ \n",
    "                                (train['CoapplicantIncome']!=0) \n",
    "                                &(train['Married'].isnull())].index.tolist()\n",
    "\n",
    "train.loc[train_Married_null_index,'Married']='Yes'\n",
    "train['Married'].fillna('No',inplace=True)"
   ]
  },
  {
   "cell_type": "code",
   "execution_count": 37,
   "metadata": {},
   "outputs": [
    {
     "data": {
      "text/html": [
       "<div>\n",
       "<style scoped>\n",
       "    .dataframe tbody tr th:only-of-type {\n",
       "        vertical-align: middle;\n",
       "    }\n",
       "\n",
       "    .dataframe tbody tr th {\n",
       "        vertical-align: top;\n",
       "    }\n",
       "\n",
       "    .dataframe thead th {\n",
       "        text-align: right;\n",
       "    }\n",
       "</style>\n",
       "<table border=\"1\" class=\"dataframe\">\n",
       "  <thead>\n",
       "    <tr style=\"text-align: right;\">\n",
       "      <th></th>\n",
       "      <th>feature</th>\n",
       "      <th>count</th>\n",
       "      <th>null_percent</th>\n",
       "    </tr>\n",
       "  </thead>\n",
       "  <tbody>\n",
       "    <tr>\n",
       "      <th>0</th>\n",
       "      <td>LoanAmount</td>\n",
       "      <td>22</td>\n",
       "      <td>3.5831</td>\n",
       "    </tr>\n",
       "  </tbody>\n",
       "</table>\n",
       "</div>"
      ],
      "text/plain": [
       "      feature  count  null_percent\n",
       "0  LoanAmount     22        3.5831"
      ]
     },
     "execution_count": 37,
     "metadata": {},
     "output_type": "execute_result"
    }
   ],
   "source": [
    "train_null =get_nullframe(train)\n",
    "train_null"
   ]
  },
  {
   "cell_type": "code",
   "execution_count": 38,
   "metadata": {},
   "outputs": [
    {
     "data": {
      "text/html": [
       "<div>\n",
       "<style scoped>\n",
       "    .dataframe tbody tr th:only-of-type {\n",
       "        vertical-align: middle;\n",
       "    }\n",
       "\n",
       "    .dataframe tbody tr th {\n",
       "        vertical-align: top;\n",
       "    }\n",
       "\n",
       "    .dataframe thead th {\n",
       "        text-align: right;\n",
       "    }\n",
       "</style>\n",
       "<table border=\"1\" class=\"dataframe\">\n",
       "  <thead>\n",
       "    <tr style=\"text-align: right;\">\n",
       "      <th></th>\n",
       "      <th>feature</th>\n",
       "      <th>count</th>\n",
       "      <th>null_percent</th>\n",
       "    </tr>\n",
       "  </thead>\n",
       "  <tbody>\n",
       "    <tr>\n",
       "      <th>0</th>\n",
       "      <td>LoanAmount</td>\n",
       "      <td>5</td>\n",
       "      <td>1.3624</td>\n",
       "    </tr>\n",
       "  </tbody>\n",
       "</table>\n",
       "</div>"
      ],
      "text/plain": [
       "      feature  count  null_percent\n",
       "0  LoanAmount      5        1.3624"
      ]
     },
     "execution_count": 38,
     "metadata": {},
     "output_type": "execute_result"
    }
   ],
   "source": [
    "test_null =get_nullframe(test)\n",
    "test_null"
   ]
  },
  {
   "cell_type": "code",
   "execution_count": 39,
   "metadata": {},
   "outputs": [],
   "source": [
    "def emi_calculator(row): \n",
    "    r = 8.7 / (12 * 100) # one month interest \n",
    "    return (row['LoanAmount']*1000 * r * pow(1 + r, row['Loan_Amount_Term'])) / (pow(1 + r, row['Loan_Amount_Term']) - 1) \n",
    " "
   ]
  },
  {
   "cell_type": "code",
   "execution_count": 40,
   "metadata": {},
   "outputs": [],
   "source": [
    "train['Loan_Status'].replace('N', 0,inplace=True)\n",
    "train['Loan_Status'].replace('Y', 1,inplace=True)\n",
    "full_dataset =pd.concat(objs=[train, test], axis=0,sort =True).reset_index(drop=True) \n",
    "table = full_dataset.pivot_table(values='LoanAmount', index='Self_Employed' ,columns='Education', aggfunc=np.median)\n",
    "def fage(x):\n",
    "     return table.loc[x['Self_Employed'],x['Education']]\n",
    "\n",
    "# Replace missing values\n",
    "full_dataset['LoanAmount'].fillna(full_dataset[full_dataset['LoanAmount'].isnull()].apply(fage, axis=1), inplace=True)"
   ]
  },
  {
   "cell_type": "code",
   "execution_count": 41,
   "metadata": {},
   "outputs": [],
   "source": [
    "def household_size(row):\n",
    "    if ((row['CoapplicantIncome'] >0) or (row['Married'] == 1)):\n",
    "        row['Dependents'] = row['Dependents'] + 2\n",
    "        return row['Dependents']\n",
    "    else:\n",
    "        return row['Dependents'] + 1\n"
   ]
  },
  {
   "cell_type": "code",
   "execution_count": 42,
   "metadata": {},
   "outputs": [],
   "source": [
    "property_map = {'Rural':1,'Urban':2,'Semiurban':3}\n",
    "full_dataset['TotalIncome'] =  full_dataset['ApplicantIncome']+ full_dataset['CoapplicantIncome']\n",
    "full_dataset['HasCoApplicant'] = full_dataset['CoapplicantIncome'].apply(lambda x: \"Y\" if x > 0 else \"N\")\n",
    "full_dataset['EMI'] = full_dataset.apply(emi_calculator,axis=1)\n",
    "full_dataset['Balance_Income']= full_dataset['TotalIncome']-(full_dataset['EMI']) \n",
    "full_dataset['Balance_ApplicantIncome']= full_dataset['ApplicantIncome']-(full_dataset['EMI'])\n",
    "full_dataset['Married'] = (full_dataset['Married']=='Yes') * 1\n",
    "full_dataset['Gender'] = (full_dataset['Gender']=='Male') * 1\n",
    "full_dataset['Property_Area'] = full_dataset['Property_Area'].map(property_map)\n",
    "full_dataset['LoanAmount']= full_dataset['LoanAmount']\n",
    "full_dataset['Dependents'].replace(('0', '1', '2', '3+'), (0, 1, 2, 3),inplace=True)\n"
   ]
  },
  {
   "cell_type": "code",
   "execution_count": 43,
   "metadata": {},
   "outputs": [
    {
     "data": {
      "text/html": [
       "<div>\n",
       "<style scoped>\n",
       "    .dataframe tbody tr th:only-of-type {\n",
       "        vertical-align: middle;\n",
       "    }\n",
       "\n",
       "    .dataframe tbody tr th {\n",
       "        vertical-align: top;\n",
       "    }\n",
       "\n",
       "    .dataframe thead th {\n",
       "        text-align: right;\n",
       "    }\n",
       "</style>\n",
       "<table border=\"1\" class=\"dataframe\">\n",
       "  <thead>\n",
       "    <tr style=\"text-align: right;\">\n",
       "      <th></th>\n",
       "      <th>ApplicantIncome</th>\n",
       "      <th>CoapplicantIncome</th>\n",
       "      <th>Credit_History</th>\n",
       "      <th>Dependents</th>\n",
       "      <th>Education</th>\n",
       "      <th>Gender</th>\n",
       "      <th>LoanAmount</th>\n",
       "      <th>Loan_Amount_Term</th>\n",
       "      <th>Loan_ID</th>\n",
       "      <th>Loan_Status</th>\n",
       "      <th>Married</th>\n",
       "      <th>Property_Area</th>\n",
       "      <th>Self_Employed</th>\n",
       "      <th>TotalIncome</th>\n",
       "      <th>HasCoApplicant</th>\n",
       "      <th>EMI</th>\n",
       "      <th>Balance_Income</th>\n",
       "      <th>Balance_ApplicantIncome</th>\n",
       "    </tr>\n",
       "  </thead>\n",
       "  <tbody>\n",
       "    <tr>\n",
       "      <th>0</th>\n",
       "      <td>5849</td>\n",
       "      <td>0.0</td>\n",
       "      <td>1.0</td>\n",
       "      <td>0</td>\n",
       "      <td>Graduate</td>\n",
       "      <td>1</td>\n",
       "      <td>130.0</td>\n",
       "      <td>360.0</td>\n",
       "      <td>LP001002</td>\n",
       "      <td>1.0</td>\n",
       "      <td>0</td>\n",
       "      <td>2</td>\n",
       "      <td>No</td>\n",
       "      <td>5849.0</td>\n",
       "      <td>N</td>\n",
       "      <td>1018.0717</td>\n",
       "      <td>4830.9283</td>\n",
       "      <td>4830.9283</td>\n",
       "    </tr>\n",
       "    <tr>\n",
       "      <th>1</th>\n",
       "      <td>4583</td>\n",
       "      <td>1508.0</td>\n",
       "      <td>1.0</td>\n",
       "      <td>1</td>\n",
       "      <td>Graduate</td>\n",
       "      <td>1</td>\n",
       "      <td>128.0</td>\n",
       "      <td>360.0</td>\n",
       "      <td>LP001003</td>\n",
       "      <td>0.0</td>\n",
       "      <td>1</td>\n",
       "      <td>1</td>\n",
       "      <td>No</td>\n",
       "      <td>6091.0</td>\n",
       "      <td>Y</td>\n",
       "      <td>1002.4090</td>\n",
       "      <td>5088.5910</td>\n",
       "      <td>3580.5910</td>\n",
       "    </tr>\n",
       "    <tr>\n",
       "      <th>2</th>\n",
       "      <td>3000</td>\n",
       "      <td>0.0</td>\n",
       "      <td>1.0</td>\n",
       "      <td>0</td>\n",
       "      <td>Graduate</td>\n",
       "      <td>1</td>\n",
       "      <td>66.0</td>\n",
       "      <td>360.0</td>\n",
       "      <td>LP001005</td>\n",
       "      <td>1.0</td>\n",
       "      <td>1</td>\n",
       "      <td>2</td>\n",
       "      <td>Yes</td>\n",
       "      <td>3000.0</td>\n",
       "      <td>N</td>\n",
       "      <td>516.8672</td>\n",
       "      <td>2483.1328</td>\n",
       "      <td>2483.1328</td>\n",
       "    </tr>\n",
       "    <tr>\n",
       "      <th>3</th>\n",
       "      <td>2583</td>\n",
       "      <td>2358.0</td>\n",
       "      <td>1.0</td>\n",
       "      <td>0</td>\n",
       "      <td>Not Graduate</td>\n",
       "      <td>1</td>\n",
       "      <td>120.0</td>\n",
       "      <td>360.0</td>\n",
       "      <td>LP001006</td>\n",
       "      <td>1.0</td>\n",
       "      <td>1</td>\n",
       "      <td>2</td>\n",
       "      <td>No</td>\n",
       "      <td>4941.0</td>\n",
       "      <td>Y</td>\n",
       "      <td>939.7585</td>\n",
       "      <td>4001.2415</td>\n",
       "      <td>1643.2415</td>\n",
       "    </tr>\n",
       "    <tr>\n",
       "      <th>4</th>\n",
       "      <td>6000</td>\n",
       "      <td>0.0</td>\n",
       "      <td>1.0</td>\n",
       "      <td>0</td>\n",
       "      <td>Graduate</td>\n",
       "      <td>1</td>\n",
       "      <td>141.0</td>\n",
       "      <td>360.0</td>\n",
       "      <td>LP001008</td>\n",
       "      <td>1.0</td>\n",
       "      <td>0</td>\n",
       "      <td>2</td>\n",
       "      <td>No</td>\n",
       "      <td>6000.0</td>\n",
       "      <td>N</td>\n",
       "      <td>1104.2162</td>\n",
       "      <td>4895.7838</td>\n",
       "      <td>4895.7838</td>\n",
       "    </tr>\n",
       "  </tbody>\n",
       "</table>\n",
       "</div>"
      ],
      "text/plain": [
       "   ApplicantIncome  CoapplicantIncome  Credit_History  Dependents     Education  Gender  LoanAmount  Loan_Amount_Term   Loan_ID  Loan_Status  Married  Property_Area Self_Employed  TotalIncome HasCoApplicant        EMI  Balance_Income  Balance_ApplicantIncome\n",
       "0             5849                0.0             1.0           0      Graduate       1       130.0             360.0  LP001002          1.0        0              2            No       5849.0              N  1018.0717       4830.9283                4830.9283\n",
       "1             4583             1508.0             1.0           1      Graduate       1       128.0             360.0  LP001003          0.0        1              1            No       6091.0              Y  1002.4090       5088.5910                3580.5910\n",
       "2             3000                0.0             1.0           0      Graduate       1        66.0             360.0  LP001005          1.0        1              2           Yes       3000.0              N   516.8672       2483.1328                2483.1328\n",
       "3             2583             2358.0             1.0           0  Not Graduate       1       120.0             360.0  LP001006          1.0        1              2            No       4941.0              Y   939.7585       4001.2415                1643.2415\n",
       "4             6000                0.0             1.0           0      Graduate       1       141.0             360.0  LP001008          1.0        0              2            No       6000.0              N  1104.2162       4895.7838                4895.7838"
      ]
     },
     "execution_count": 43,
     "metadata": {},
     "output_type": "execute_result"
    }
   ],
   "source": [
    "full_dataset.head()"
   ]
  },
  {
   "cell_type": "code",
   "execution_count": 44,
   "metadata": {},
   "outputs": [],
   "source": [
    "full_dataset['Dependents'] =full_dataset.apply(household_size,axis=1)\n",
    "full_dataset['PerCapitalIncome'] = full_dataset['TotalIncome']/full_dataset['Dependents']\n",
    "full_dataset['PerCapitalApplicantIncome'] = full_dataset['ApplicantIncome']/full_dataset['Dependents']\n",
    "\n",
    "#full_dataset['TotalIncomeRatio'] = ((full_dataset['LoanAmount']*1000)/ full_dataset['PerCapitalIncome']).astype(np.float64)\n",
    "#full_dataset['ApplicantIncomeRatio'] = (full_dataset['LoanAmount']*1000/ full_dataset['PerCapitalAppplicantIncome']).astype(np.float64)\n",
    "full_dataset['ApplicantIncomeRatio'] = full_dataset['ApplicantIncome']/ full_dataset['LoanAmount']\n",
    "full_dataset['TotalIncomeRatio'] = full_dataset['TotalIncome']/ full_dataset['LoanAmount']"
   ]
  },
  {
   "cell_type": "code",
   "execution_count": 45,
   "metadata": {},
   "outputs": [
    {
     "data": {
      "text/html": [
       "<div>\n",
       "<style scoped>\n",
       "    .dataframe tbody tr th:only-of-type {\n",
       "        vertical-align: middle;\n",
       "    }\n",
       "\n",
       "    .dataframe tbody tr th {\n",
       "        vertical-align: top;\n",
       "    }\n",
       "\n",
       "    .dataframe thead th {\n",
       "        text-align: right;\n",
       "    }\n",
       "</style>\n",
       "<table border=\"1\" class=\"dataframe\">\n",
       "  <thead>\n",
       "    <tr style=\"text-align: right;\">\n",
       "      <th></th>\n",
       "      <th>ApplicantIncome</th>\n",
       "      <th>CoapplicantIncome</th>\n",
       "      <th>Credit_History</th>\n",
       "      <th>Dependents</th>\n",
       "      <th>Education</th>\n",
       "      <th>Gender</th>\n",
       "      <th>LoanAmount</th>\n",
       "      <th>Loan_Amount_Term</th>\n",
       "      <th>Loan_ID</th>\n",
       "      <th>Loan_Status</th>\n",
       "      <th>Married</th>\n",
       "      <th>Property_Area</th>\n",
       "      <th>Self_Employed</th>\n",
       "      <th>TotalIncome</th>\n",
       "      <th>HasCoApplicant</th>\n",
       "      <th>EMI</th>\n",
       "      <th>Balance_Income</th>\n",
       "      <th>Balance_ApplicantIncome</th>\n",
       "      <th>PerCapitalIncome</th>\n",
       "      <th>PerCapitalApplicantIncome</th>\n",
       "      <th>ApplicantIncomeRatio</th>\n",
       "      <th>TotalIncomeRatio</th>\n",
       "    </tr>\n",
       "  </thead>\n",
       "  <tbody>\n",
       "    <tr>\n",
       "      <th>0</th>\n",
       "      <td>5849</td>\n",
       "      <td>0.0</td>\n",
       "      <td>1.0</td>\n",
       "      <td>1</td>\n",
       "      <td>Graduate</td>\n",
       "      <td>1</td>\n",
       "      <td>130.0</td>\n",
       "      <td>360.0</td>\n",
       "      <td>LP001002</td>\n",
       "      <td>1.0</td>\n",
       "      <td>0</td>\n",
       "      <td>2</td>\n",
       "      <td>No</td>\n",
       "      <td>5849.0</td>\n",
       "      <td>N</td>\n",
       "      <td>1018.0717</td>\n",
       "      <td>4830.9283</td>\n",
       "      <td>4830.9283</td>\n",
       "      <td>5849.0000</td>\n",
       "      <td>5849.0000</td>\n",
       "      <td>44.9923</td>\n",
       "      <td>44.9923</td>\n",
       "    </tr>\n",
       "    <tr>\n",
       "      <th>1</th>\n",
       "      <td>4583</td>\n",
       "      <td>1508.0</td>\n",
       "      <td>1.0</td>\n",
       "      <td>3</td>\n",
       "      <td>Graduate</td>\n",
       "      <td>1</td>\n",
       "      <td>128.0</td>\n",
       "      <td>360.0</td>\n",
       "      <td>LP001003</td>\n",
       "      <td>0.0</td>\n",
       "      <td>1</td>\n",
       "      <td>1</td>\n",
       "      <td>No</td>\n",
       "      <td>6091.0</td>\n",
       "      <td>Y</td>\n",
       "      <td>1002.4090</td>\n",
       "      <td>5088.5910</td>\n",
       "      <td>3580.5910</td>\n",
       "      <td>2030.3333</td>\n",
       "      <td>1527.6667</td>\n",
       "      <td>35.8047</td>\n",
       "      <td>47.5859</td>\n",
       "    </tr>\n",
       "    <tr>\n",
       "      <th>2</th>\n",
       "      <td>3000</td>\n",
       "      <td>0.0</td>\n",
       "      <td>1.0</td>\n",
       "      <td>2</td>\n",
       "      <td>Graduate</td>\n",
       "      <td>1</td>\n",
       "      <td>66.0</td>\n",
       "      <td>360.0</td>\n",
       "      <td>LP001005</td>\n",
       "      <td>1.0</td>\n",
       "      <td>1</td>\n",
       "      <td>2</td>\n",
       "      <td>Yes</td>\n",
       "      <td>3000.0</td>\n",
       "      <td>N</td>\n",
       "      <td>516.8672</td>\n",
       "      <td>2483.1328</td>\n",
       "      <td>2483.1328</td>\n",
       "      <td>1500.0000</td>\n",
       "      <td>1500.0000</td>\n",
       "      <td>45.4545</td>\n",
       "      <td>45.4545</td>\n",
       "    </tr>\n",
       "    <tr>\n",
       "      <th>3</th>\n",
       "      <td>2583</td>\n",
       "      <td>2358.0</td>\n",
       "      <td>1.0</td>\n",
       "      <td>2</td>\n",
       "      <td>Not Graduate</td>\n",
       "      <td>1</td>\n",
       "      <td>120.0</td>\n",
       "      <td>360.0</td>\n",
       "      <td>LP001006</td>\n",
       "      <td>1.0</td>\n",
       "      <td>1</td>\n",
       "      <td>2</td>\n",
       "      <td>No</td>\n",
       "      <td>4941.0</td>\n",
       "      <td>Y</td>\n",
       "      <td>939.7585</td>\n",
       "      <td>4001.2415</td>\n",
       "      <td>1643.2415</td>\n",
       "      <td>2470.5000</td>\n",
       "      <td>1291.5000</td>\n",
       "      <td>21.5250</td>\n",
       "      <td>41.1750</td>\n",
       "    </tr>\n",
       "    <tr>\n",
       "      <th>4</th>\n",
       "      <td>6000</td>\n",
       "      <td>0.0</td>\n",
       "      <td>1.0</td>\n",
       "      <td>1</td>\n",
       "      <td>Graduate</td>\n",
       "      <td>1</td>\n",
       "      <td>141.0</td>\n",
       "      <td>360.0</td>\n",
       "      <td>LP001008</td>\n",
       "      <td>1.0</td>\n",
       "      <td>0</td>\n",
       "      <td>2</td>\n",
       "      <td>No</td>\n",
       "      <td>6000.0</td>\n",
       "      <td>N</td>\n",
       "      <td>1104.2162</td>\n",
       "      <td>4895.7838</td>\n",
       "      <td>4895.7838</td>\n",
       "      <td>6000.0000</td>\n",
       "      <td>6000.0000</td>\n",
       "      <td>42.5532</td>\n",
       "      <td>42.5532</td>\n",
       "    </tr>\n",
       "  </tbody>\n",
       "</table>\n",
       "</div>"
      ],
      "text/plain": [
       "   ApplicantIncome  CoapplicantIncome  Credit_History  Dependents     Education  Gender  LoanAmount  Loan_Amount_Term   Loan_ID  Loan_Status  Married  Property_Area Self_Employed  TotalIncome HasCoApplicant        EMI  Balance_Income  Balance_ApplicantIncome  PerCapitalIncome  PerCapitalApplicantIncome  ApplicantIncomeRatio  TotalIncomeRatio\n",
       "0             5849                0.0             1.0           1      Graduate       1       130.0             360.0  LP001002          1.0        0              2            No       5849.0              N  1018.0717       4830.9283                4830.9283         5849.0000                  5849.0000               44.9923           44.9923\n",
       "1             4583             1508.0             1.0           3      Graduate       1       128.0             360.0  LP001003          0.0        1              1            No       6091.0              Y  1002.4090       5088.5910                3580.5910         2030.3333                  1527.6667               35.8047           47.5859\n",
       "2             3000                0.0             1.0           2      Graduate       1        66.0             360.0  LP001005          1.0        1              2           Yes       3000.0              N   516.8672       2483.1328                2483.1328         1500.0000                  1500.0000               45.4545           45.4545\n",
       "3             2583             2358.0             1.0           2  Not Graduate       1       120.0             360.0  LP001006          1.0        1              2            No       4941.0              Y   939.7585       4001.2415                1643.2415         2470.5000                  1291.5000               21.5250           41.1750\n",
       "4             6000                0.0             1.0           1      Graduate       1       141.0             360.0  LP001008          1.0        0              2            No       6000.0              N  1104.2162       4895.7838                4895.7838         6000.0000                  6000.0000               42.5532           42.5532"
      ]
     },
     "execution_count": 45,
     "metadata": {},
     "output_type": "execute_result"
    }
   ],
   "source": [
    "#full_dataset[\"Married_NoDependents\"] = ((full_dataset[\"Married\"] == 1) & (full_dataset['Dependents'] ==0)) * 1\n",
    "#full_dataset[\"Married_WithDependents\"] = ((full_dataset[\"Married\"] == 1) & (full_dataset['Dependents'] !=0)) * 1\n",
    "#full_dataset[\"NotMarried_NoDependents\"] = ((full_dataset[\"Married\"] == 0) & (full_dataset['Dependents'] ==0)) * 1\n",
    "#full_dataset[\"NotMarried_WithDependents\"] = ((full_dataset[\"Married\"] == 0) & (full_dataset['Dependents'] !=0)) * 1\n",
    "full_dataset.head()\n"
   ]
  },
  {
   "cell_type": "code",
   "execution_count": 46,
   "metadata": {},
   "outputs": [
    {
     "data": {
      "text/plain": [
       "<matplotlib.axes._subplots.AxesSubplot at 0x1662a5812b0>"
      ]
     },
     "execution_count": 46,
     "metadata": {},
     "output_type": "execute_result"
    },
    {
     "data": {
      "image/png": "[encoded data removed]",
      "text/plain": [
       "<Figure size 432x288 with 1 Axes>"
      ]
     },
     "metadata": {},
     "output_type": "display_data"
    }
   ],
   "source": [
    "sns.distplot(np.log1p(full_dataset['LoanAmount']))"
   ]
  },
  {
   "cell_type": "code",
   "execution_count": 47,
   "metadata": {},
   "outputs": [
    {
     "data": {
      "text/plain": [
       "<matplotlib.axes._subplots.AxesSubplot at 0x1662a635278>"
      ]
     },
     "execution_count": 47,
     "metadata": {},
     "output_type": "execute_result"
    },
    {
     "data": {
      "image/png": "[encoded data removed]",
      "text/plain": [
       "<Figure size 432x288 with 1 Axes>"
      ]
     },
     "metadata": {},
     "output_type": "display_data"
    }
   ],
   "source": [
    "sns.distplot(np.log1p(full_dataset['EMI']))"
   ]
  },
  {
   "cell_type": "code",
   "execution_count": 48,
   "metadata": {},
   "outputs": [
    {
     "data": {
      "text/plain": [
       "<matplotlib.axes._subplots.AxesSubplot at 0x16629c6f518>"
      ]
     },
     "execution_count": 48,
     "metadata": {},
     "output_type": "execute_result"
    },
    {
     "data": {
      "image/png": "[encoded data removed]",
      "text/plain": [
       "<Figure size 432x288 with 1 Axes>"
      ]
     },
     "metadata": {},
     "output_type": "display_data"
    }
   ],
   "source": [
    "sns.distplot(np.log1p(full_dataset['PerCapitalIncome']))"
   ]
  },
  {
   "cell_type": "code",
   "execution_count": 49,
   "metadata": {},
   "outputs": [],
   "source": [
    "cat_list = [column for column in  full_dataset.columns if column not in full_dataset.describe(include=[np.number]).columns.values.tolist()]\n",
    "cat_list.remove('Loan_ID') "
   ]
  },
  {
   "cell_type": "code",
   "execution_count": 50,
   "metadata": {},
   "outputs": [
    {
     "data": {
      "image/png": "[encoded data removed]",
      "text/plain": [
       "<Figure size 576x432 with 2 Axes>"
      ]
     },
     "metadata": {},
     "output_type": "display_data"
    }
   ],
   "source": [
    "correlation = full_dataset[full_dataset['Loan_Status'].notnull()][full_dataset.describe(include=[np.number]).columns.values.tolist()].corr()\n",
    "fig = plt.figure(figsize=(8,6))\n",
    "ax = fig.add_subplot(111)\n",
    "cmap = sns.diverging_palette(220, 10, as_cmap=True)\n",
    "sns.heatmap(correlation, \n",
    "           xticklabels=correlation.columns.values,\n",
    "           yticklabels=correlation.index.values,\n",
    "           cmap=cmap)\n",
    "ax.xaxis.tick_top()\n",
    "plt.setp(ax.get_xticklabels(), rotation=90)\n",
    "plt.show()\n",
    "\n",
    "#correlation = correlation.sort_values('Loan_Status', ascending=False)\n",
    "#plt.figure(figsize=(8,10))\n",
    "#sns.barplot( correlation['Loan_Status'][1:], correlation.index[1:], orient='h')\n",
    "#plt.show()"
   ]
  },
  {
   "cell_type": "code",
   "execution_count": 51,
   "metadata": {},
   "outputs": [],
   "source": [
    "train_Id  = full_dataset[full_dataset['Loan_Status'].notnull()][\"Loan_ID\"]\n",
    "test_Id = full_dataset[full_dataset['Loan_Status'].isnull()][\"Loan_ID\"]\n",
    "full_dataset.drop(['Loan_ID',  'TotalIncome', 'Balance_Income','PerCapitalIncome',\n",
    "                   'ApplicantIncome','PerCapitalApplicantIncome'],axis=1,inplace=True)"
   ]
  },
  {
   "cell_type": "code",
   "execution_count": 52,
   "metadata": {},
   "outputs": [],
   "source": [
    "full_dataset = pd.get_dummies(full_dataset, prefix_sep='_', drop_first=False)"
   ]
  },
  {
   "cell_type": "code",
   "execution_count": 53,
   "metadata": {},
   "outputs": [],
   "source": [
    "full_dataset.drop([ 'Education_Not Graduate','Self_Employed_No' ,'HasCoApplicant_N'],axis=1,inplace=True)"
   ]
  },
  {
   "cell_type": "code",
   "execution_count": 54,
   "metadata": {},
   "outputs": [],
   "source": [
    "from datatools.customtransformers import StdScaleTransformer,RobustScaleTransformer,MinMaxTransformer,LogTransformer\n",
    "scaler = LogTransformer(['EMI','LoanAmount'])\n",
    "full_dataset =scaler.fit_transform(full_dataset)"
   ]
  },
  {
   "cell_type": "code",
   "execution_count": 55,
   "metadata": {},
   "outputs": [],
   "source": [
    "def evaluvate_model(clf ,X_trainmodel, y_trainmodel,X_val,y_val): \n",
    "    clf.fit(X_trainmodel, y_trainmodel.values.ravel())\n",
    "    train_sizes, train_scores, validation_scores = learning_curve(clf, \n",
    "                                                                  X_trainmodel,y_trainmodel.values.ravel(),cv=kfold)\n",
    "    plot_learning_curve(train_sizes, train_scores, validation_scores)\n",
    "    plot_roc(X_val,y_val,clf)\n",
    "    y_pred=measure_performance(X_val,y_val,clf, show_accuracy=False, \n",
    "                               show_classification_report=True,\n",
    "                               show_confusion_matrix=True, show_r2_score=False)\n",
    "\n"
   ]
  },
  {
   "cell_type": "code",
   "execution_count": 56,
   "metadata": {},
   "outputs": [
    {
     "data": {
      "text/html": [
       "<div>\n",
       "<style scoped>\n",
       "    .dataframe tbody tr th:only-of-type {\n",
       "        vertical-align: middle;\n",
       "    }\n",
       "\n",
       "    .dataframe tbody tr th {\n",
       "        vertical-align: top;\n",
       "    }\n",
       "\n",
       "    .dataframe thead th {\n",
       "        text-align: right;\n",
       "    }\n",
       "</style>\n",
       "<table border=\"1\" class=\"dataframe\">\n",
       "  <thead>\n",
       "    <tr style=\"text-align: right;\">\n",
       "      <th></th>\n",
       "      <th>feature</th>\n",
       "      <th>count</th>\n",
       "      <th>null_percent</th>\n",
       "    </tr>\n",
       "  </thead>\n",
       "  <tbody>\n",
       "    <tr>\n",
       "      <th>0</th>\n",
       "      <td>Loan_Status</td>\n",
       "      <td>367</td>\n",
       "      <td>37.4108</td>\n",
       "    </tr>\n",
       "  </tbody>\n",
       "</table>\n",
       "</div>"
      ],
      "text/plain": [
       "       feature  count  null_percent\n",
       "0  Loan_Status    367       37.4108"
      ]
     },
     "execution_count": 56,
     "metadata": {},
     "output_type": "execute_result"
    }
   ],
   "source": [
    "null_dataset =get_nullframe(full_dataset)\n",
    "null_dataset"
   ]
  },
  {
   "cell_type": "code",
   "execution_count": 57,
   "metadata": {},
   "outputs": [],
   "source": [
    "train_X = full_dataset[full_dataset['Loan_Status'].notnull()] \n",
    "test_X = full_dataset[full_dataset['Loan_Status'].isnull()]  \n",
    "train_y= full_dataset[full_dataset['Loan_Status'].notnull()]['Loan_Status']\n",
    "train_X.drop(['Loan_Status'],axis=1,inplace=True)\n",
    "test_X.drop(['Loan_Status'],axis=1,inplace=True)"
   ]
  },
  {
   "cell_type": "code",
   "execution_count": 58,
   "metadata": {},
   "outputs": [
    {
     "name": "stdout",
     "output_type": "stream",
     "text": [
      "(614, 15)\n",
      "(367, 15)\n"
     ]
    }
   ],
   "source": [
    "from sklearn.model_selection import train_test_split\n",
    "print(train_X.shape)\n",
    "print(test_X.shape)\n",
    "test_size = 0.25\n",
    "seed = 42\n",
    "X_trainmodel, X_val, y_trainmodel, y_val = train_test_split(train_X, train_y, test_size=test_size,random_state=seed)\n",
    "kfold = StratifiedKFold(n_splits=10)"
   ]
  },
  {
   "cell_type": "code",
   "execution_count": 59,
   "metadata": {},
   "outputs": [
    {
     "data": {
      "text/html": [
       "<div>\n",
       "<style scoped>\n",
       "    .dataframe tbody tr th:only-of-type {\n",
       "        vertical-align: middle;\n",
       "    }\n",
       "\n",
       "    .dataframe tbody tr th {\n",
       "        vertical-align: top;\n",
       "    }\n",
       "\n",
       "    .dataframe thead th {\n",
       "        text-align: right;\n",
       "    }\n",
       "</style>\n",
       "<table border=\"1\" class=\"dataframe\">\n",
       "  <thead>\n",
       "    <tr style=\"text-align: right;\">\n",
       "      <th></th>\n",
       "      <th>CoapplicantIncome</th>\n",
       "      <th>Credit_History</th>\n",
       "      <th>Dependents</th>\n",
       "      <th>Gender</th>\n",
       "      <th>LoanAmount</th>\n",
       "      <th>Loan_Amount_Term</th>\n",
       "      <th>Married</th>\n",
       "      <th>Property_Area</th>\n",
       "      <th>EMI</th>\n",
       "      <th>Balance_ApplicantIncome</th>\n",
       "      <th>ApplicantIncomeRatio</th>\n",
       "      <th>TotalIncomeRatio</th>\n",
       "      <th>Education_Graduate</th>\n",
       "      <th>Self_Employed_Yes</th>\n",
       "      <th>HasCoApplicant_Y</th>\n",
       "    </tr>\n",
       "  </thead>\n",
       "  <tbody>\n",
       "    <tr>\n",
       "      <th>92</th>\n",
       "      <td>1820.0</td>\n",
       "      <td>1.0</td>\n",
       "      <td>4</td>\n",
       "      <td>1</td>\n",
       "      <td>4.4067</td>\n",
       "      <td>360.0</td>\n",
       "      <td>1</td>\n",
       "      <td>2</td>\n",
       "      <td>6.4542</td>\n",
       "      <td>2638.6630</td>\n",
       "      <td>40.4074</td>\n",
       "      <td>62.8765</td>\n",
       "      <td>0</td>\n",
       "      <td>0</td>\n",
       "      <td>1</td>\n",
       "    </tr>\n",
       "    <tr>\n",
       "      <th>304</th>\n",
       "      <td>2500.0</td>\n",
       "      <td>1.0</td>\n",
       "      <td>2</td>\n",
       "      <td>1</td>\n",
       "      <td>4.9488</td>\n",
       "      <td>360.0</td>\n",
       "      <td>0</td>\n",
       "      <td>1</td>\n",
       "      <td>7.0007</td>\n",
       "      <td>2903.6151</td>\n",
       "      <td>28.5714</td>\n",
       "      <td>46.4286</td>\n",
       "      <td>1</td>\n",
       "      <td>0</td>\n",
       "      <td>1</td>\n",
       "    </tr>\n",
       "    <tr>\n",
       "      <th>68</th>\n",
       "      <td>0.0</td>\n",
       "      <td>1.0</td>\n",
       "      <td>5</td>\n",
       "      <td>1</td>\n",
       "      <td>4.8363</td>\n",
       "      <td>60.0</td>\n",
       "      <td>1</td>\n",
       "      <td>2</td>\n",
       "      <td>7.8546</td>\n",
       "      <td>4523.3677</td>\n",
       "      <td>56.8000</td>\n",
       "      <td>56.8000</td>\n",
       "      <td>0</td>\n",
       "      <td>1</td>\n",
       "      <td>0</td>\n",
       "    </tr>\n",
       "    <tr>\n",
       "      <th>15</th>\n",
       "      <td>0.0</td>\n",
       "      <td>1.0</td>\n",
       "      <td>1</td>\n",
       "      <td>1</td>\n",
       "      <td>4.8363</td>\n",
       "      <td>360.0</td>\n",
       "      <td>0</td>\n",
       "      <td>2</td>\n",
       "      <td>6.8875</td>\n",
       "      <td>3971.0849</td>\n",
       "      <td>39.6000</td>\n",
       "      <td>39.6000</td>\n",
       "      <td>1</td>\n",
       "      <td>0</td>\n",
       "      <td>0</td>\n",
       "    </tr>\n",
       "    <tr>\n",
       "      <th>211</th>\n",
       "      <td>1250.0</td>\n",
       "      <td>0.0</td>\n",
       "      <td>5</td>\n",
       "      <td>1</td>\n",
       "      <td>4.8598</td>\n",
       "      <td>360.0</td>\n",
       "      <td>1</td>\n",
       "      <td>3</td>\n",
       "      <td>6.9112</td>\n",
       "      <td>2427.5910</td>\n",
       "      <td>26.7969</td>\n",
       "      <td>36.5625</td>\n",
       "      <td>1</td>\n",
       "      <td>0</td>\n",
       "      <td>1</td>\n",
       "    </tr>\n",
       "  </tbody>\n",
       "</table>\n",
       "</div>"
      ],
      "text/plain": [
       "     CoapplicantIncome  Credit_History  Dependents  Gender  LoanAmount  Loan_Amount_Term  Married  Property_Area     EMI  Balance_ApplicantIncome  ApplicantIncomeRatio  TotalIncomeRatio  Education_Graduate  Self_Employed_Yes  HasCoApplicant_Y\n",
       "92              1820.0             1.0           4       1      4.4067             360.0        1              2  6.4542                2638.6630               40.4074           62.8765                   0                  0                 1\n",
       "304             2500.0             1.0           2       1      4.9488             360.0        0              1  7.0007                2903.6151               28.5714           46.4286                   1                  0                 1\n",
       "68                 0.0             1.0           5       1      4.8363              60.0        1              2  7.8546                4523.3677               56.8000           56.8000                   0                  1                 0\n",
       "15                 0.0             1.0           1       1      4.8363             360.0        0              2  6.8875                3971.0849               39.6000           39.6000                   1                  0                 0\n",
       "211             1250.0             0.0           5       1      4.8598             360.0        1              3  6.9112                2427.5910               26.7969           36.5625                   1                  0                 1"
      ]
     },
     "execution_count": 59,
     "metadata": {},
     "output_type": "execute_result"
    }
   ],
   "source": [
    "X_trainmodel.head()"
   ]
  },
  {
   "cell_type": "code",
   "execution_count": 60,
   "metadata": {
    "scrolled": false
   },
   "outputs": [
    {
     "name": "stdout",
     "output_type": "stream",
     "text": [
      "Accuracy: 77.922\n",
      "Accuracy: 82.609\n"
     ]
    },
    {
     "data": {
      "image/png": "[encoded data removed]",
      "text/plain": [
       "<Figure size 432x288 with 1 Axes>"
      ]
     },
     "metadata": {},
     "output_type": "display_data"
    },
    {
     "name": "stdout",
     "output_type": "stream",
     "text": [
      "LogisticRegression(C=1.0, class_weight=None, dual=False, fit_intercept=True,\n",
      "          intercept_scaling=1, max_iter=100, multi_class='warn',\n",
      "          n_jobs=None, penalty='l2', random_state=None, solver='warn',\n",
      "          tol=0.0001, verbose=0, warm_start=False)\n",
      "Best Penalty: l1\n",
      "Best C: 4.641588833612778\n",
      "Accuracy: 82.609\n"
     ]
    },
    {
     "data": {
      "image/png": "[encoded data removed]",
      "text/plain": [
       "<Figure size 432x288 with 1 Axes>"
      ]
     },
     "metadata": {},
     "output_type": "display_data"
    },
    {
     "name": "stdout",
     "output_type": "stream",
     "text": [
      "GridSearchCV(cv=5, error_score='raise-deprecating',\n",
      "       estimator=LogisticRegression(C=1.0, class_weight=None, dual=False, fit_intercept=True,\n",
      "          intercept_scaling=1, max_iter=100, multi_class='warn',\n",
      "          n_jobs=None, penalty='l2', random_state=None, solver='warn',\n",
      "          tol=0.0001, verbose=0, warm_start=False),\n",
      "       fit_params=None, iid='warn', n_jobs=None,\n",
      "       param_grid={'C': array([1.00000e+00, 4.64159e+00, 2.15443e+01, 1.00000e+02, 4.64159e+02,\n",
      "       2.15443e+03, 1.00000e+04, 4.64159e+04, 2.15443e+05, 1.00000e+06]), 'penalty': ['l1', 'l2']},\n",
      "       pre_dispatch='2*n_jobs', refit=True, return_train_score='warn',\n",
      "       scoring='accuracy', verbose=0)\n",
      "Classification report\n",
      "              precision    recall  f1-score   support\n",
      "\n",
      "         0.0       0.92      0.41      0.56        54\n",
      "         1.0       0.75      0.98      0.85       100\n",
      "\n",
      "   micro avg       0.78      0.78      0.78       154\n",
      "   macro avg       0.84      0.69      0.71       154\n",
      "weighted avg       0.81      0.78      0.75       154\n",
      "\n",
      "Confusion matrix\n",
      "[[22 32]\n",
      " [ 2 98]]\n"
     ]
    },
    {
     "data": {
      "image/png": "[encoded data removed]",
      "text/plain": [
       "<Figure size 432x288 with 1 Axes>"
      ]
     },
     "metadata": {},
     "output_type": "display_data"
    }
   ],
   "source": [
    "from sklearn.linear_model import LogisticRegression\n",
    "logrmodel = LogisticRegression()\n",
    "logrmodel.fit(X_trainmodel, y_trainmodel.values.ravel())\n",
    "result = logrmodel.score(X_val, y_val)\n",
    "print (\"Accuracy: {0:.3f}\".format(result*100.0))\n",
    "logrmodel ,result = test_classifier(logrmodel,X_trainmodel,y_trainmodel,kfold)\n",
    "print(logrmodel)\n",
    "\n",
    "# Create regularization penalty space\n",
    "penalty = ['l1', 'l2']\n",
    "# Create regularization hyperparameter space\n",
    "C = np.logspace(0, 6, 10)\n",
    "# Create hyperparameter options\n",
    "hyperparameters = dict(C=C, penalty=penalty)\n",
    "warnings.filterwarnings(\"ignore\", category=DeprecationWarning) \n",
    "clf = GridSearchCV(logrmodel, hyperparameters, cv=5, verbose=0,scoring='accuracy')\n",
    "best_model = clf.fit(X_trainmodel, y_trainmodel.values.ravel())\n",
    "print('Best Penalty:', best_model.best_estimator_.get_params()['penalty'])\n",
    "print('Best C:', best_model.best_estimator_.get_params()['C'])\n",
    "\n",
    "best_lr_model ,result = test_classifier(best_model,X_trainmodel,y_trainmodel,kfold)\n",
    "print(best_lr_model)\n",
    "\n",
    "y_pred=measure_performance(X_val,y_val,best_lr_model, show_accuracy=False, \n",
    "                    show_classification_report=True,\n",
    "                    show_confusion_matrix=True, show_r2_score=False)\n",
    "\n",
    "plot_roc(X_val,y_val,best_lr_model)"
   ]
  },
  {
   "cell_type": "code",
   "execution_count": 61,
   "metadata": {},
   "outputs": [],
   "source": [
    "from xgboost.sklearn import XGBClassifier"
   ]
  },
  {
   "cell_type": "code",
   "execution_count": 62,
   "metadata": {},
   "outputs": [
    {
     "data": {
      "text/plain": [
       "XGBClassifier(base_score=0.5, booster='gbtree', colsample_bylevel=1,\n",
       "       colsample_bytree=1, gamma=0, learning_rate=0.1, max_delta_step=0,\n",
       "       max_depth=3, min_child_weight=1, missing=None, n_estimators=100,\n",
       "       n_jobs=1, nthread=None, objective='binary:logistic', random_state=0,\n",
       "       reg_alpha=0, reg_lambda=1, scale_pos_weight=1, seed=None,\n",
       "       silent=False, subsample=1)"
      ]
     },
     "execution_count": 62,
     "metadata": {},
     "output_type": "execute_result"
    }
   ],
   "source": [
    "xgbr = XGBClassifier(n_estimators=100, silent=False)\n",
    "xgbr.fit(X_trainmodel ,y_trainmodel.values.ravel())"
   ]
  },
  {
   "cell_type": "code",
   "execution_count": 63,
   "metadata": {},
   "outputs": [],
   "source": [
    "warnings.filterwarnings(\"ignore\", category=DeprecationWarning) "
   ]
  },
  {
   "cell_type": "code",
   "execution_count": 64,
   "metadata": {
    "scrolled": false
   },
   "outputs": [
    {
     "name": "stdout",
     "output_type": "stream",
     "text": [
      "Accuracy: 89.565\n"
     ]
    },
    {
     "data": {
      "image/png": "[encoded data removed]",
      "text/plain": [
       "<Figure size 432x288 with 1 Axes>"
      ]
     },
     "metadata": {},
     "output_type": "display_data"
    },
    {
     "name": "stdout",
     "output_type": "stream",
     "text": [
      "XGBClassifier(base_score=0.5, booster='gbtree', colsample_bylevel=1,\n",
      "       colsample_bytree=1, gamma=0, learning_rate=0.1, max_delta_step=0,\n",
      "       max_depth=3, min_child_weight=1, missing=None, n_estimators=100,\n",
      "       n_jobs=1, nthread=None, objective='binary:logistic', random_state=0,\n",
      "       reg_alpha=0, reg_lambda=1, scale_pos_weight=1, seed=None,\n",
      "       silent=False, subsample=1)\n"
     ]
    },
    {
     "data": {
      "image/png": "[encoded data removed]",
      "text/plain": [
       "<Figure size 432x288 with 1 Axes>"
      ]
     },
     "metadata": {},
     "output_type": "display_data"
    }
   ],
   "source": [
    "best_model ,result = test_classifier(xgbr,X_trainmodel,y_trainmodel,kfold)\n",
    "print(best_model)\n",
    "\n",
    "plot_roc(X_val,y_val,best_model)\n",
    "\n"
   ]
  },
  {
   "cell_type": "code",
   "execution_count": 65,
   "metadata": {},
   "outputs": [],
   "source": [
    "warnings.filterwarnings(\"ignore\", category=DeprecationWarning) "
   ]
  },
  {
   "cell_type": "code",
   "execution_count": 66,
   "metadata": {
    "scrolled": false
   },
   "outputs": [
    {
     "data": {
      "image/png": "[encoded data removed]",
      "text/plain": [
       "<Figure size 432x288 with 1 Axes>"
      ]
     },
     "metadata": {},
     "output_type": "display_data"
    },
    {
     "data": {
      "image/png": "[encoded data removed]",
      "text/plain": [
       "<Figure size 432x288 with 1 Axes>"
      ]
     },
     "metadata": {},
     "output_type": "display_data"
    },
    {
     "name": "stdout",
     "output_type": "stream",
     "text": [
      "Classification report\n",
      "              precision    recall  f1-score   support\n",
      "\n",
      "         0.0       0.78      0.54      0.64        54\n",
      "         1.0       0.79      0.92      0.85       100\n",
      "\n",
      "   micro avg       0.79      0.79      0.79       154\n",
      "   macro avg       0.79      0.73      0.74       154\n",
      "weighted avg       0.79      0.79      0.77       154\n",
      "\n",
      "Confusion matrix\n",
      "[[29 25]\n",
      " [ 8 92]]\n"
     ]
    }
   ],
   "source": [
    "evaluvate_model(xgbr,X_trainmodel, y_trainmodel,X_val,y_val)"
   ]
  },
  {
   "cell_type": "code",
   "execution_count": 67,
   "metadata": {},
   "outputs": [],
   "source": [
    " def calc_accuracy(predictions, y_test):\n",
    "    labels = y_test.get_label()\n",
    "    return 'accuracy_score', (1 - sum(labels != predictions)/len(labels))"
   ]
  },
  {
   "cell_type": "code",
   "execution_count": 68,
   "metadata": {},
   "outputs": [],
   "source": [
    "import xgboost as xgb"
   ]
  },
  {
   "cell_type": "code",
   "execution_count": 84,
   "metadata": {},
   "outputs": [],
   "source": [
    "params = {\"objective\": \"multi:softmax\",\n",
    "          'num_class': 2,\n",
    "          \"booster\" : \"gbtree\",\n",
    "          'learning_rate': 0.1,\n",
    "          \"max_depth\": 3,\n",
    "          \"subsample\": 0.6,\n",
    "          'colsample_bylevel': 1,\n",
    "          'gamma': 0,\n",
    "          'min_child_weight': 1,\n",
    "          \"silent\": 1,\n",
    "          }\n",
    "\n",
    "num_boost_round =200"
   ]
  },
  {
   "cell_type": "code",
   "execution_count": 85,
   "metadata": {
    "scrolled": false
   },
   "outputs": [
    {
     "name": "stdout",
     "output_type": "stream",
     "text": [
      "Train a XGBoost model\n",
      "[0]\ttrain-merror:0.167391\teval-merror:0.227273\ttrain-accuracy_score:0.832609\teval-accuracy_score:0.772727\n",
      "Multiple eval metrics have been passed: 'eval-accuracy_score' will be used for early stopping.\n",
      "\n",
      "Will train until eval-accuracy_score hasn't improved in 50 rounds.\n",
      "[1]\ttrain-merror:0.169565\teval-merror:0.214286\ttrain-accuracy_score:0.830435\teval-accuracy_score:0.785714\n",
      "[2]\ttrain-merror:0.163043\teval-merror:0.227273\ttrain-accuracy_score:0.836957\teval-accuracy_score:0.772727\n",
      "[3]\ttrain-merror:0.163043\teval-merror:0.227273\ttrain-accuracy_score:0.836957\teval-accuracy_score:0.772727\n",
      "[4]\ttrain-merror:0.16087\teval-merror:0.227273\ttrain-accuracy_score:0.83913\teval-accuracy_score:0.772727\n",
      "[5]\ttrain-merror:0.163043\teval-merror:0.227273\ttrain-accuracy_score:0.836957\teval-accuracy_score:0.772727\n",
      "[6]\ttrain-merror:0.16087\teval-merror:0.220779\ttrain-accuracy_score:0.83913\teval-accuracy_score:0.779221\n",
      "[7]\ttrain-merror:0.163043\teval-merror:0.220779\ttrain-accuracy_score:0.836957\teval-accuracy_score:0.779221\n",
      "[8]\ttrain-merror:0.16087\teval-merror:0.214286\ttrain-accuracy_score:0.83913\teval-accuracy_score:0.785714\n",
      "[9]\ttrain-merror:0.163043\teval-merror:0.214286\ttrain-accuracy_score:0.836957\teval-accuracy_score:0.785714\n",
      "[10]\ttrain-merror:0.16087\teval-merror:0.220779\ttrain-accuracy_score:0.83913\teval-accuracy_score:0.779221\n",
      "[11]\ttrain-merror:0.16087\teval-merror:0.220779\ttrain-accuracy_score:0.83913\teval-accuracy_score:0.779221\n",
      "[12]\ttrain-merror:0.16087\teval-merror:0.214286\ttrain-accuracy_score:0.83913\teval-accuracy_score:0.785714\n",
      "[13]\ttrain-merror:0.16087\teval-merror:0.220779\ttrain-accuracy_score:0.83913\teval-accuracy_score:0.779221\n",
      "[14]\ttrain-merror:0.16087\teval-merror:0.220779\ttrain-accuracy_score:0.83913\teval-accuracy_score:0.779221\n",
      "[15]\ttrain-merror:0.16087\teval-merror:0.214286\ttrain-accuracy_score:0.83913\teval-accuracy_score:0.785714\n",
      "[16]\ttrain-merror:0.16087\teval-merror:0.220779\ttrain-accuracy_score:0.83913\teval-accuracy_score:0.779221\n",
      "[17]\ttrain-merror:0.16087\teval-merror:0.214286\ttrain-accuracy_score:0.83913\teval-accuracy_score:0.785714\n",
      "[18]\ttrain-merror:0.16087\teval-merror:0.214286\ttrain-accuracy_score:0.83913\teval-accuracy_score:0.785714\n",
      "[19]\ttrain-merror:0.163043\teval-merror:0.214286\ttrain-accuracy_score:0.836957\teval-accuracy_score:0.785714\n",
      "[20]\ttrain-merror:0.16087\teval-merror:0.220779\ttrain-accuracy_score:0.83913\teval-accuracy_score:0.779221\n",
      "[21]\ttrain-merror:0.16087\teval-merror:0.214286\ttrain-accuracy_score:0.83913\teval-accuracy_score:0.785714\n",
      "[22]\ttrain-merror:0.16087\teval-merror:0.214286\ttrain-accuracy_score:0.83913\teval-accuracy_score:0.785714\n",
      "[23]\ttrain-merror:0.158696\teval-merror:0.214286\ttrain-accuracy_score:0.841304\teval-accuracy_score:0.785714\n",
      "[24]\ttrain-merror:0.16087\teval-merror:0.214286\ttrain-accuracy_score:0.83913\teval-accuracy_score:0.785714\n",
      "[25]\ttrain-merror:0.16087\teval-merror:0.214286\ttrain-accuracy_score:0.83913\teval-accuracy_score:0.785714\n",
      "[26]\ttrain-merror:0.16087\teval-merror:0.220779\ttrain-accuracy_score:0.83913\teval-accuracy_score:0.779221\n",
      "[27]\ttrain-merror:0.16087\teval-merror:0.220779\ttrain-accuracy_score:0.83913\teval-accuracy_score:0.779221\n",
      "[28]\ttrain-merror:0.16087\teval-merror:0.214286\ttrain-accuracy_score:0.83913\teval-accuracy_score:0.785714\n",
      "[29]\ttrain-merror:0.16087\teval-merror:0.214286\ttrain-accuracy_score:0.83913\teval-accuracy_score:0.785714\n",
      "[30]\ttrain-merror:0.156522\teval-merror:0.220779\ttrain-accuracy_score:0.843478\teval-accuracy_score:0.779221\n",
      "[31]\ttrain-merror:0.156522\teval-merror:0.220779\ttrain-accuracy_score:0.843478\teval-accuracy_score:0.779221\n",
      "[32]\ttrain-merror:0.154348\teval-merror:0.214286\ttrain-accuracy_score:0.845652\teval-accuracy_score:0.785714\n",
      "[33]\ttrain-merror:0.152174\teval-merror:0.207792\ttrain-accuracy_score:0.847826\teval-accuracy_score:0.792208\n",
      "[34]\ttrain-merror:0.152174\teval-merror:0.207792\ttrain-accuracy_score:0.847826\teval-accuracy_score:0.792208\n",
      "[35]\ttrain-merror:0.15\teval-merror:0.207792\ttrain-accuracy_score:0.85\teval-accuracy_score:0.792208\n",
      "[36]\ttrain-merror:0.15\teval-merror:0.207792\ttrain-accuracy_score:0.85\teval-accuracy_score:0.792208\n",
      "[37]\ttrain-merror:0.15\teval-merror:0.207792\ttrain-accuracy_score:0.85\teval-accuracy_score:0.792208\n",
      "[38]\ttrain-merror:0.147826\teval-merror:0.207792\ttrain-accuracy_score:0.852174\teval-accuracy_score:0.792208\n",
      "[39]\ttrain-merror:0.145652\teval-merror:0.214286\ttrain-accuracy_score:0.854348\teval-accuracy_score:0.785714\n",
      "[40]\ttrain-merror:0.143478\teval-merror:0.207792\ttrain-accuracy_score:0.856522\teval-accuracy_score:0.792208\n",
      "[41]\ttrain-merror:0.143478\teval-merror:0.207792\ttrain-accuracy_score:0.856522\teval-accuracy_score:0.792208\n",
      "[42]\ttrain-merror:0.143478\teval-merror:0.207792\ttrain-accuracy_score:0.856522\teval-accuracy_score:0.792208\n",
      "[43]\ttrain-merror:0.143478\teval-merror:0.207792\ttrain-accuracy_score:0.856522\teval-accuracy_score:0.792208\n",
      "[44]\ttrain-merror:0.143478\teval-merror:0.207792\ttrain-accuracy_score:0.856522\teval-accuracy_score:0.792208\n",
      "[45]\ttrain-merror:0.141304\teval-merror:0.207792\ttrain-accuracy_score:0.858696\teval-accuracy_score:0.792208\n",
      "[46]\ttrain-merror:0.141304\teval-merror:0.207792\ttrain-accuracy_score:0.858696\teval-accuracy_score:0.792208\n",
      "[47]\ttrain-merror:0.136957\teval-merror:0.207792\ttrain-accuracy_score:0.863043\teval-accuracy_score:0.792208\n",
      "[48]\ttrain-merror:0.134783\teval-merror:0.207792\ttrain-accuracy_score:0.865217\teval-accuracy_score:0.792208\n",
      "[49]\ttrain-merror:0.130435\teval-merror:0.207792\ttrain-accuracy_score:0.869565\teval-accuracy_score:0.792208\n",
      "[50]\ttrain-merror:0.126087\teval-merror:0.201299\ttrain-accuracy_score:0.873913\teval-accuracy_score:0.798701\n",
      "[51]\ttrain-merror:0.126087\teval-merror:0.201299\ttrain-accuracy_score:0.873913\teval-accuracy_score:0.798701\n",
      "[52]\ttrain-merror:0.130435\teval-merror:0.201299\ttrain-accuracy_score:0.869565\teval-accuracy_score:0.798701\n",
      "[53]\ttrain-merror:0.128261\teval-merror:0.201299\ttrain-accuracy_score:0.871739\teval-accuracy_score:0.798701\n",
      "[54]\ttrain-merror:0.128261\teval-merror:0.201299\ttrain-accuracy_score:0.871739\teval-accuracy_score:0.798701\n",
      "[55]\ttrain-merror:0.123913\teval-merror:0.201299\ttrain-accuracy_score:0.876087\teval-accuracy_score:0.798701\n",
      "[56]\ttrain-merror:0.126087\teval-merror:0.201299\ttrain-accuracy_score:0.873913\teval-accuracy_score:0.798701\n",
      "[57]\ttrain-merror:0.126087\teval-merror:0.194805\ttrain-accuracy_score:0.873913\teval-accuracy_score:0.805195\n",
      "[58]\ttrain-merror:0.123913\teval-merror:0.194805\ttrain-accuracy_score:0.876087\teval-accuracy_score:0.805195\n",
      "[59]\ttrain-merror:0.119565\teval-merror:0.194805\ttrain-accuracy_score:0.880435\teval-accuracy_score:0.805195\n",
      "[60]\ttrain-merror:0.119565\teval-merror:0.194805\ttrain-accuracy_score:0.880435\teval-accuracy_score:0.805195\n",
      "[61]\ttrain-merror:0.119565\teval-merror:0.194805\ttrain-accuracy_score:0.880435\teval-accuracy_score:0.805195\n",
      "[62]\ttrain-merror:0.119565\teval-merror:0.194805\ttrain-accuracy_score:0.880435\teval-accuracy_score:0.805195\n",
      "[63]\ttrain-merror:0.119565\teval-merror:0.194805\ttrain-accuracy_score:0.880435\teval-accuracy_score:0.805195\n",
      "[64]\ttrain-merror:0.119565\teval-merror:0.194805\ttrain-accuracy_score:0.880435\teval-accuracy_score:0.805195\n",
      "[65]\ttrain-merror:0.121739\teval-merror:0.194805\ttrain-accuracy_score:0.878261\teval-accuracy_score:0.805195\n",
      "[66]\ttrain-merror:0.117391\teval-merror:0.201299\ttrain-accuracy_score:0.882609\teval-accuracy_score:0.798701\n",
      "[67]\ttrain-merror:0.119565\teval-merror:0.207792\ttrain-accuracy_score:0.880435\teval-accuracy_score:0.792208\n",
      "[68]\ttrain-merror:0.117391\teval-merror:0.207792\ttrain-accuracy_score:0.882609\teval-accuracy_score:0.792208\n",
      "[69]\ttrain-merror:0.119565\teval-merror:0.201299\ttrain-accuracy_score:0.880435\teval-accuracy_score:0.798701\n",
      "[70]\ttrain-merror:0.115217\teval-merror:0.201299\ttrain-accuracy_score:0.884783\teval-accuracy_score:0.798701\n",
      "[71]\ttrain-merror:0.115217\teval-merror:0.201299\ttrain-accuracy_score:0.884783\teval-accuracy_score:0.798701\n",
      "[72]\ttrain-merror:0.117391\teval-merror:0.201299\ttrain-accuracy_score:0.882609\teval-accuracy_score:0.798701\n",
      "[73]\ttrain-merror:0.113043\teval-merror:0.201299\ttrain-accuracy_score:0.886957\teval-accuracy_score:0.798701\n",
      "[74]\ttrain-merror:0.115217\teval-merror:0.201299\ttrain-accuracy_score:0.884783\teval-accuracy_score:0.798701\n",
      "[75]\ttrain-merror:0.115217\teval-merror:0.194805\ttrain-accuracy_score:0.884783\teval-accuracy_score:0.805195\n"
     ]
    },
    {
     "name": "stdout",
     "output_type": "stream",
     "text": [
      "[76]\ttrain-merror:0.11087\teval-merror:0.194805\ttrain-accuracy_score:0.88913\teval-accuracy_score:0.805195\n",
      "[77]\ttrain-merror:0.104348\teval-merror:0.207792\ttrain-accuracy_score:0.895652\teval-accuracy_score:0.792208\n",
      "[78]\ttrain-merror:0.102174\teval-merror:0.207792\ttrain-accuracy_score:0.897826\teval-accuracy_score:0.792208\n",
      "[79]\ttrain-merror:0.102174\teval-merror:0.207792\ttrain-accuracy_score:0.897826\teval-accuracy_score:0.792208\n",
      "[80]\ttrain-merror:0.1\teval-merror:0.201299\ttrain-accuracy_score:0.9\teval-accuracy_score:0.798701\n",
      "[81]\ttrain-merror:0.1\teval-merror:0.214286\ttrain-accuracy_score:0.9\teval-accuracy_score:0.785714\n",
      "[82]\ttrain-merror:0.1\teval-merror:0.207792\ttrain-accuracy_score:0.9\teval-accuracy_score:0.792208\n",
      "[83]\ttrain-merror:0.097826\teval-merror:0.214286\ttrain-accuracy_score:0.902174\teval-accuracy_score:0.785714\n",
      "[84]\ttrain-merror:0.095652\teval-merror:0.201299\ttrain-accuracy_score:0.904348\teval-accuracy_score:0.798701\n",
      "[85]\ttrain-merror:0.095652\teval-merror:0.207792\ttrain-accuracy_score:0.904348\teval-accuracy_score:0.792208\n",
      "[86]\ttrain-merror:0.091304\teval-merror:0.207792\ttrain-accuracy_score:0.908696\teval-accuracy_score:0.792208\n",
      "[87]\ttrain-merror:0.091304\teval-merror:0.207792\ttrain-accuracy_score:0.908696\teval-accuracy_score:0.792208\n",
      "[88]\ttrain-merror:0.091304\teval-merror:0.214286\ttrain-accuracy_score:0.908696\teval-accuracy_score:0.785714\n",
      "[89]\ttrain-merror:0.08913\teval-merror:0.220779\ttrain-accuracy_score:0.91087\teval-accuracy_score:0.779221\n",
      "[90]\ttrain-merror:0.08913\teval-merror:0.214286\ttrain-accuracy_score:0.91087\teval-accuracy_score:0.785714\n",
      "[91]\ttrain-merror:0.086957\teval-merror:0.214286\ttrain-accuracy_score:0.913043\teval-accuracy_score:0.785714\n",
      "[92]\ttrain-merror:0.084783\teval-merror:0.214286\ttrain-accuracy_score:0.915217\teval-accuracy_score:0.785714\n",
      "[93]\ttrain-merror:0.080435\teval-merror:0.214286\ttrain-accuracy_score:0.919565\teval-accuracy_score:0.785714\n",
      "[94]\ttrain-merror:0.078261\teval-merror:0.214286\ttrain-accuracy_score:0.921739\teval-accuracy_score:0.785714\n",
      "[95]\ttrain-merror:0.076087\teval-merror:0.207792\ttrain-accuracy_score:0.923913\teval-accuracy_score:0.792208\n",
      "[96]\ttrain-merror:0.076087\teval-merror:0.214286\ttrain-accuracy_score:0.923913\teval-accuracy_score:0.785714\n",
      "[97]\ttrain-merror:0.078261\teval-merror:0.214286\ttrain-accuracy_score:0.921739\teval-accuracy_score:0.785714\n",
      "[98]\ttrain-merror:0.078261\teval-merror:0.207792\ttrain-accuracy_score:0.921739\teval-accuracy_score:0.792208\n",
      "[99]\ttrain-merror:0.078261\teval-merror:0.214286\ttrain-accuracy_score:0.921739\teval-accuracy_score:0.785714\n",
      "[100]\ttrain-merror:0.078261\teval-merror:0.214286\ttrain-accuracy_score:0.921739\teval-accuracy_score:0.785714\n",
      "[101]\ttrain-merror:0.076087\teval-merror:0.220779\ttrain-accuracy_score:0.923913\teval-accuracy_score:0.779221\n",
      "[102]\ttrain-merror:0.073913\teval-merror:0.214286\ttrain-accuracy_score:0.926087\teval-accuracy_score:0.785714\n",
      "[103]\ttrain-merror:0.071739\teval-merror:0.207792\ttrain-accuracy_score:0.928261\teval-accuracy_score:0.792208\n",
      "[104]\ttrain-merror:0.078261\teval-merror:0.207792\ttrain-accuracy_score:0.921739\teval-accuracy_score:0.792208\n",
      "[105]\ttrain-merror:0.076087\teval-merror:0.207792\ttrain-accuracy_score:0.923913\teval-accuracy_score:0.792208\n",
      "[106]\ttrain-merror:0.073913\teval-merror:0.207792\ttrain-accuracy_score:0.926087\teval-accuracy_score:0.792208\n",
      "[107]\ttrain-merror:0.076087\teval-merror:0.214286\ttrain-accuracy_score:0.923913\teval-accuracy_score:0.785714\n",
      "Stopping. Best iteration:\n",
      "[57]\ttrain-merror:0.126087\teval-merror:0.194805\ttrain-accuracy_score:0.873913\teval-accuracy_score:0.805195\n",
      "\n"
     ]
    }
   ],
   "source": [
    "print(\"Train a XGBoost model\")\n",
    "dtrain = xgb.DMatrix(X_trainmodel, y_trainmodel)\n",
    "dvalid = xgb.DMatrix(X_val, y_val)\n",
    "\n",
    "watchlist = [(dtrain, 'train'), (dvalid, 'eval')]\n",
    "gbm = xgb.train(params, dtrain, num_boost_round, watchlist, feval=calc_accuracy, maximize=True, early_stopping_rounds=50, verbose_eval=True)"
   ]
  },
  {
   "cell_type": "code",
   "execution_count": 86,
   "metadata": {},
   "outputs": [],
   "source": [
    "def create_feature_map(features):\n",
    "    outfile = open('xgb.fmap', 'w')\n",
    "    i = 0\n",
    "    for feat in features:\n",
    "        outfile.write('{0}\\t{1}\\tq\\n'.format(i, feat))\n",
    "        i = i + 1\n",
    "    outfile.close()"
   ]
  },
  {
   "cell_type": "code",
   "execution_count": 87,
   "metadata": {},
   "outputs": [],
   "source": [
    "import operator\n",
    "create_feature_map(X_trainmodel)"
   ]
  },
  {
   "cell_type": "code",
   "execution_count": 88,
   "metadata": {},
   "outputs": [
    {
     "data": {
      "text/plain": [
       "Text(0.5,0,'relative importance')"
      ]
     },
     "execution_count": 88,
     "metadata": {},
     "output_type": "execute_result"
    },
    {
     "data": {
      "image/png": "[encoded data removed]",
      "text/plain": [
       "<Figure size 432x288 with 1 Axes>"
      ]
     },
     "metadata": {},
     "output_type": "display_data"
    }
   ],
   "source": [
    "importance = gbm.get_fscore(fmap='xgb.fmap')\n",
    "importance = sorted(importance.items(), key=operator.itemgetter(1))\n",
    "\n",
    "df_importances = pd.DataFrame(importance, columns=['feature', 'fscore'])\n",
    "df_importances['fscore'] = df_importances['fscore'] / df_importances['fscore'].sum()\n",
    "\n",
    "df_importances.plot(kind='barh', x='feature', y='fscore')\n",
    "plt.title('XGBoost Feature Importance')\n",
    "plt.xlabel('relative importance')"
   ]
  },
  {
   "cell_type": "code",
   "execution_count": 89,
   "metadata": {},
   "outputs": [],
   "source": [
    "test_y  =gbm.predict(xgb.DMatrix(test_X))\n",
    "submission =pd.DataFrame({'Loan_ID':test_Id.values ,'Loan_Status':test_y}) \n",
    "submission['Loan_Status'].replace(0, 'N',inplace=True)\n",
    "submission['Loan_Status'].replace(1, 'Y',inplace=True)\n",
    "import datetime\n",
    "FORMAT = '%Y%m%d%H%M%S'\n",
    "timestamp=datetime.datetime.now().strftime(FORMAT)\n",
    "filename =\"submission_XgBooost\"+timestamp+\"_out.csv\"\n",
    "\n",
    "submission.to_csv(filename)"
   ]
  },
  {
   "cell_type": "markdown",
   "metadata": {},
   "source": [
    "### Public Leaderboard - Practice Problem: Loan Prediction III\n",
    "### Rank 156/35442\t\tKrishnaMohan\t0.8055555556"
   ]
  },
  {
   "cell_type": "code",
   "execution_count": 91,
   "metadata": {
    "scrolled": false
   },
   "outputs": [],
   "source": [
    "from sklearn.discriminant_analysis import LinearDiscriminantAnalysis\n",
    "lda =LinearDiscriminantAnalysis(solver ='eigen',n_components=None, priors=None, \n",
    "                                shrinkage=None,store_covariance=False, tol=0.0001)\n",
    "# Create regularization penalty space\n",
    "solver = ['svd', 'eigen','lsqr']\n",
    "tol=[0.005,0.001,0.01]\n",
    "shrinkage = [0.1,0.5]\n",
    "# Create hyperparameter options\n",
    "hyperparameters = dict(solver=solver,tol=tol) \n",
    "warnings.filterwarnings(\"ignore\", category=DeprecationWarning) \n",
    "grid = GridSearchCV(lda, hyperparameters, cv=5, verbose=0,scoring='accuracy')\n",
    "grid.fit(X_trainmodel, y_trainmodel.values.ravel())\n",
    "best_lda =  grid.best_estimator_"
   ]
  },
  {
   "cell_type": "code",
   "execution_count": 92,
   "metadata": {},
   "outputs": [
    {
     "name": "stdout",
     "output_type": "stream",
     "text": [
      "Accuracy: 82.174\n"
     ]
    },
    {
     "data": {
      "image/png": "[encoded data removed]",
      "text/plain": [
       "<Figure size 432x288 with 1 Axes>"
      ]
     },
     "metadata": {},
     "output_type": "display_data"
    },
    {
     "name": "stdout",
     "output_type": "stream",
     "text": [
      "LinearDiscriminantAnalysis(n_components=None, priors=None, shrinkage=None,\n",
      "              solver='svd', store_covariance=False, tol=0.005)\n",
      "Classification report\n",
      "              precision    recall  f1-score   support\n",
      "\n",
      "         0.0       0.92      0.41      0.56        54\n",
      "         1.0       0.75      0.98      0.85       100\n",
      "\n",
      "   micro avg       0.78      0.78      0.78       154\n",
      "   macro avg       0.84      0.69      0.71       154\n",
      "weighted avg       0.81      0.78      0.75       154\n",
      "\n",
      "Confusion matrix\n",
      "[[22 32]\n",
      " [ 2 98]]\n"
     ]
    },
    {
     "data": {
      "image/png": "[encoded data removed]",
      "text/plain": [
       "<Figure size 432x288 with 1 Axes>"
      ]
     },
     "metadata": {},
     "output_type": "display_data"
    }
   ],
   "source": [
    "best_lda ,result = test_classifier(best_lda,X_trainmodel,y_trainmodel,kfold)\n",
    "print(best_lda)\n",
    "\n",
    "y_pred=measure_performance(X_val,y_val,best_lda, show_accuracy=False, \n",
    "                    show_classification_report=True,\n",
    "                    show_confusion_matrix=True, show_r2_score=False)\n",
    "\n",
    "plot_roc(X_val,y_val,best_lda)"
   ]
  },
  {
   "cell_type": "code",
   "execution_count": 93,
   "metadata": {},
   "outputs": [],
   "source": [
    "from sklearn.svm import SVC\n",
    "def svc_param_selection(X, y, kfold):\n",
    "    param_Cs = [0.001, 0.01, 0.1, 1, 10]\n",
    "    param_gammas = [0.001, 0.01, 0.1, 1]\n",
    "    param_kernels =['linear','rbf']\n",
    "    param_grid = {'C': param_Cs, 'gamma' : param_gammas, 'kernel':param_kernels}\n",
    "    grid_search = GridSearchCV(SVC(probability =True,decision_function_shape ='ovr'), param_grid, cv=kfold,)\n",
    "    grid_search.fit(X, y.values.ravel())\n",
    "    print(\"Best estimator:\\n{}\".format(grid_search.best_estimator_))\n",
    "    print(\"Best parameters: {}\".format(grid_search.best_params_))\n",
    "    print(\"Best cross-validation score: {:.2f}\".format(grid_search.best_score_))\n",
    "    return grid_search.best_estimator_,grid_search.best_params_\n",
    "\n",
    "#svc_best,svc_best_params = svc_param_selection(X_trainmodel,y_trainmodel,kfold)"
   ]
  },
  {
   "cell_type": "code",
   "execution_count": 79,
   "metadata": {},
   "outputs": [
    {
     "name": "stdout",
     "output_type": "stream",
     "text": [
      "Accuracy: 88.261\n"
     ]
    },
    {
     "data": {
      "image/png": "[encoded data removed]",
      "text/plain": [
       "<Figure size 432x288 with 1 Axes>"
      ]
     },
     "metadata": {},
     "output_type": "display_data"
    },
    {
     "name": "stdout",
     "output_type": "stream",
     "text": [
      "GradientBoostingClassifier(criterion='friedman_mse', init=None,\n",
      "              learning_rate=0.1, loss='deviance', max_depth=5,\n",
      "              max_features=None, max_leaf_nodes=7,\n",
      "              min_impurity_decrease=0.0, min_impurity_split=None,\n",
      "              min_samples_leaf=5, min_samples_split=12,\n",
      "              min_weight_fraction_leaf=0.0, n_estimators=38,\n",
      "              n_iter_no_change=None, presort='auto', random_state=2,\n",
      "              subsample=1.0, tol=0.0001, validation_fraction=0.1,\n",
      "              verbose=0, warm_start=False)\n",
      "Classification report\n",
      "              precision    recall  f1-score   support\n",
      "\n",
      "         0.0       0.81      0.56      0.66        54\n",
      "         1.0       0.79      0.93      0.86       100\n",
      "\n",
      "   micro avg       0.80      0.80      0.80       154\n",
      "   macro avg       0.80      0.74      0.76       154\n",
      "weighted avg       0.80      0.80      0.79       154\n",
      "\n",
      "Confusion matrix\n",
      "[[30 24]\n",
      " [ 7 93]]\n"
     ]
    },
    {
     "data": {
      "image/png": "[encoded data removed]",
      "text/plain": [
       "<Figure size 432x288 with 1 Axes>"
      ]
     },
     "metadata": {},
     "output_type": "display_data"
    }
   ],
   "source": [
    "from sklearn.ensemble import GradientBoostingClassifier\n",
    "original_params = {'n_estimators':38, 'max_leaf_nodes': 7, 'max_depth':  5, 'random_state': 2,\n",
    "                   'min_samples_split': 12,'min_samples_leaf':5,'learning_rate':0.1 }\n",
    "\n",
    "gbc =GradientBoostingClassifier(**original_params)\n",
    "gbc.fit(X_trainmodel, y_trainmodel.values.ravel())\n",
    " \n",
    "best_gc =  gbc\n",
    "best_gc ,result = test_classifier(best_gc,X_trainmodel,y_trainmodel,kfold)\n",
    "print(best_gc)\n",
    "\n",
    "y_pred=measure_performance(X_val,y_val,best_gc, show_accuracy=False, \n",
    "                    show_classification_report=True,\n",
    "                    show_confusion_matrix=True, show_r2_score=False)\n",
    "\n",
    "plot_roc(X_val,y_val,best_gc)"
   ]
  },
  {
   "cell_type": "code",
   "execution_count": 95,
   "metadata": {},
   "outputs": [],
   "source": [
    "test_y =best_gc.predict(test_X)"
   ]
  },
  {
   "cell_type": "code",
   "execution_count": 97,
   "metadata": {},
   "outputs": [],
   "source": [
    "submission =pd.DataFrame({'Loan_ID':test_Id.values ,'Loan_Status':test_y}) \n",
    "submission['Loan_Status'].replace(0, 'N',inplace=True)\n",
    "submission['Loan_Status'].replace(1, 'Y',inplace=True)\n",
    "import datetime\n",
    "FORMAT = '%Y%m%d%H%M%S'\n",
    "timestamp=datetime.datetime.now().strftime(FORMAT)\n",
    "filename =\"submission_GradientBoosting\"+timestamp+\"_out.csv\"\n",
    "\n",
    "submission.to_csv(filename)"
   ]
  },
  {
   "cell_type": "code",
   "execution_count": null,
   "metadata": {},
   "outputs": [],
   "source": []
  }
 ],
 "metadata": {
  "kernelspec": {
   "display_name": "Python 3",
   "language": "python",
   "name": "python3"
  },
  "language_info": {
   "codemirror_mode": {
    "name": "ipython",
    "version": 3
   },
   "file_extension": ".py",
   "mimetype": "text/x-python",
   "name": "python",
   "nbconvert_exporter": "python",
   "pygments_lexer": "ipython3",
   "version": "3.6.5"
  }
 },
 "nbformat": 4,
 "nbformat_minor": 2
}
