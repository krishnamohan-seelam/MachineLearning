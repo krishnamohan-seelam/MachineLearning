{
 "cells": [
  {
   "cell_type": "code",
   "execution_count": 1,
   "metadata": {},
   "outputs": [],
   "source": [
    "%load_ext autoreload\n",
    "%autoreload 2"
   ]
  },
  {
   "cell_type": "code",
   "execution_count": 2,
   "metadata": {},
   "outputs": [],
   "source": [
    "import numpy as np\n",
    "import pandas as pd\n",
    "import matplotlib.pyplot as plt\n",
    "import seaborn as sns\n",
    "%matplotlib inline\n",
    "import warnings\n",
    "warnings.filterwarnings(\"ignore\")\n",
    "warnings.filterwarnings(\"ignore\", category=DeprecationWarning) \n",
    "sns.set(style=\"darkgrid\")\n",
    "pd.set_option('display.width', 200)\n",
    "pd.set_option('precision', 4)\n",
    "pd.set_option('display.width', 500)\n",
    "pd.set_option('display.max_columns', 200)\n",
    "pd.set_option('display.notebook_repr_html', True)"
   ]
  },
  {
   "cell_type": "code",
   "execution_count": 3,
   "metadata": {},
   "outputs": [],
   "source": [
    "def display_all(df):\n",
    "    with pd.option_context(\"display.max_rows\",1000):\n",
    "        with pd.option_context(\"display.max_columns\",1000):\n",
    "            display(df)"
   ]
  },
  {
   "cell_type": "code",
   "execution_count": 4,
   "metadata": {},
   "outputs": [],
   "source": [
    "def get_nullframe(dataset):\n",
    "    null_sum = dataset.isnull().sum()[dataset.isnull().sum()>0] \n",
    "    return pd.DataFrame({'feature':null_sum.index,'count':null_sum.values,\n",
    "                          'null_percent':(null_sum.values/dataset.shape[0])*100}).sort_values(by=['count'],ascending=False)"
   ]
  },
  {
   "cell_type": "code",
   "execution_count": 5,
   "metadata": {},
   "outputs": [],
   "source": [
    "from sklearn import metrics\n",
    "from sklearn.metrics import roc_curve\n",
    "def measure_performance(X, y, clf, show_accuracy=True,show_classification_report=True,\n",
    "                        show_confusion_matrix=True, show_r2_score=False):\n",
    "    y_pred = clf.predict(X) \n",
    "    if show_accuracy:\n",
    "        print (\"Accuracy:{0:.3f}\".format( metrics.accuracy_score(y, y_pred)) )\n",
    "    if show_classification_report:\n",
    "        print (\"Classification report\")\n",
    "        print (metrics.classification_report(y, y_pred))\n",
    "    if show_confusion_matrix:\n",
    "        print(\"Confusion matrix\") \n",
    "        print(metrics.confusion_matrix(y, y_pred),)\n",
    "    if show_r2_score:\n",
    "        print (\"Coefficient of determination:{0:.3f}\"\n",
    "               .format( metrics.r2_score(y, y_pred)))\n",
    "    return y_pred\n",
    "\n",
    "from sklearn.model_selection import GridSearchCV, cross_val_score, StratifiedKFold, learning_curve\n",
    "def plot_learning_curve(train_sizes, train_scores, validation_scores):\n",
    "    plt.figure()\n",
    "    plt.title(\"Learning Curve\")\n",
    "    train_scores_mean = np.mean(train_scores, axis=1)\n",
    "    train_scores_std = np.std(train_scores, axis=1)\n",
    "    validation_scores_mean = np.mean(validation_scores, axis=1)\n",
    "    validation_scores_std = np.std(validation_scores, axis=1)\n",
    "\n",
    "    plt.fill_between(train_sizes, train_scores_mean - train_scores_std,\n",
    "                     train_scores_mean + train_scores_std, alpha=0.1,\n",
    "                     color=\"r\")\n",
    "    plt.fill_between(train_sizes, validation_scores_mean - validation_scores_std,\n",
    "                     validation_scores_mean + validation_scores_std, alpha=0.1, color=\"g\")\n",
    "    \n",
    "    plt.plot(train_sizes, train_scores_mean, 'o-', color=\"r\",label=\"Training score\")\n",
    "    plt.plot(train_sizes, validation_scores_mean, 'o-', color=\"g\" ,label=\"Cross-validation score\")\n",
    "    plt.ylim(max(-3, validation_scores_mean.min() - .1), train_scores_mean.max() + .1)\n",
    "    plt.legend(loc=\"best\")\n",
    "    plt.show()\n",
    "\n",
    "from sklearn.model_selection import validation_curve\n",
    "def plot_validation_curve(parameter_values, train_scores, validation_scores):\n",
    "    plt.figure()\n",
    "    plt.title(\"Validation Curve\")\n",
    "    train_scores_mean = np.mean(train_scores, axis=1)\n",
    "    train_scores_std = np.std(train_scores, axis=1)\n",
    "    validation_scores_mean = np.mean(validation_scores, axis=1)\n",
    "    validation_scores_std = np.std(validation_scores, axis=1)\n",
    "\n",
    "    plt.fill_between(parameter_values, train_scores_mean - train_scores_std,\n",
    "                     train_scores_mean + train_scores_std, alpha=0.1,\n",
    "                     color=\"r\")\n",
    "    plt.fill_between(parameter_values, validation_scores_mean - validation_scores_std,\n",
    "                     validation_scores_mean + validation_scores_std, alpha=0.1, color=\"g\")\n",
    "    plt.plot(parameter_values, train_scores_mean, 'o-', color=\"r\",\n",
    "             label=\"Training score\")\n",
    "    plt.plot(parameter_values, validation_scores_mean, 'o-', color=\"g\",\n",
    "             label=\"Cross-validation score\")\n",
    "    plt.ylim(validation_scores_mean.min() - .1, train_scores_mean.max() + .1)\n",
    "    plt.legend(loc=\"best\")\n",
    "    plt.show()\n",
    "\n",
    "def plot_roc(X_val,y_val,model):\n",
    "    fpr, tpr, thresholds = roc_curve(y_val, model.predict_proba(X_val)[:, 1])\n",
    "    plt.figure()\n",
    "    plt.plot(fpr, tpr, label=\"ROC Curve\")\n",
    "    plt.xlabel(\"FPR\")\n",
    "    plt.ylabel(\"TPR (recall)\")\n",
    "    plt.title(\"roc_curve\");\n",
    "    # find threshold closest to zero:\n",
    "    close_zero = np.argmin(np.abs(thresholds))\n",
    "    plt.plot(fpr[close_zero], tpr[close_zero], 'o', markersize=10,\n",
    "         label=\"threshold zero\", fillstyle=\"none\", c='k', mew=2)\n",
    "    plt.legend(loc=4)\n",
    "    plt.show()\n",
    "\n",
    "def test_classifier(model,X,y,cv):\n",
    "    clf = model.fit(X,y.values.ravel())\n",
    "    result = clf.score(X,y.values)\n",
    "    print (\"Accuracy: {0:.3f}\".format(result*100.0))\n",
    "\n",
    "    train_sizes, train_scores, validation_scores = learning_curve(clf, X,y.values.ravel(),cv=cv)\n",
    "    plot_learning_curve(train_sizes, train_scores, validation_scores)\n",
    "    return clf,result"
   ]
  },
  {
   "cell_type": "code",
   "execution_count": 6,
   "metadata": {},
   "outputs": [],
   "source": [
    "train=pd.read_csv(\"train_u6lujuX_CVtuZ9i.csv\")\n",
    "test=pd.read_csv(\"test_Y3wMUE5_7gLdaTN.csv\")"
   ]
  },
  {
   "cell_type": "code",
   "execution_count": 7,
   "metadata": {},
   "outputs": [
    {
     "data": {
      "text/plain": [
       "['ApplicantIncome',\n",
       " 'CoapplicantIncome',\n",
       " 'LoanAmount',\n",
       " 'Loan_Amount_Term',\n",
       " 'Credit_History']"
      ]
     },
     "execution_count": 7,
     "metadata": {},
     "output_type": "execute_result"
    }
   ],
   "source": [
    "continuous_ds = train.select_dtypes(np.number)\n",
    "continuous_columns = continuous_ds.columns.values.tolist()\n",
    "continuous_columns"
   ]
  },
  {
   "cell_type": "code",
   "execution_count": 8,
   "metadata": {},
   "outputs": [],
   "source": [
    "categorical_ds = train.select_dtypes(\"object\")\n",
    "categorical_columns = categorical_ds.columns.values.tolist()\n",
    "ordinal_columns =['Dependents','Education','Property_Area']\n",
    "categorical_columns = [ column for column in categorical_columns if column not in ordinal_columns ]\n",
    "categorical_columns.remove('Loan_ID')"
   ]
  },
  {
   "cell_type": "code",
   "execution_count": 9,
   "metadata": {},
   "outputs": [
    {
     "data": {
      "text/html": [
       "<div>\n",
       "<style scoped>\n",
       "    .dataframe tbody tr th:only-of-type {\n",
       "        vertical-align: middle;\n",
       "    }\n",
       "\n",
       "    .dataframe tbody tr th {\n",
       "        vertical-align: top;\n",
       "    }\n",
       "\n",
       "    .dataframe thead th {\n",
       "        text-align: right;\n",
       "    }\n",
       "</style>\n",
       "<table border=\"1\" class=\"dataframe\">\n",
       "  <thead>\n",
       "    <tr style=\"text-align: right;\">\n",
       "      <th></th>\n",
       "      <th>feature</th>\n",
       "      <th>count</th>\n",
       "      <th>null_percent</th>\n",
       "    </tr>\n",
       "  </thead>\n",
       "  <tbody>\n",
       "    <tr>\n",
       "      <th>6</th>\n",
       "      <td>Credit_History</td>\n",
       "      <td>50</td>\n",
       "      <td>8.1433</td>\n",
       "    </tr>\n",
       "    <tr>\n",
       "      <th>3</th>\n",
       "      <td>Self_Employed</td>\n",
       "      <td>32</td>\n",
       "      <td>5.2117</td>\n",
       "    </tr>\n",
       "    <tr>\n",
       "      <th>4</th>\n",
       "      <td>LoanAmount</td>\n",
       "      <td>22</td>\n",
       "      <td>3.5831</td>\n",
       "    </tr>\n",
       "    <tr>\n",
       "      <th>2</th>\n",
       "      <td>Dependents</td>\n",
       "      <td>15</td>\n",
       "      <td>2.4430</td>\n",
       "    </tr>\n",
       "    <tr>\n",
       "      <th>5</th>\n",
       "      <td>Loan_Amount_Term</td>\n",
       "      <td>14</td>\n",
       "      <td>2.2801</td>\n",
       "    </tr>\n",
       "    <tr>\n",
       "      <th>0</th>\n",
       "      <td>Gender</td>\n",
       "      <td>13</td>\n",
       "      <td>2.1173</td>\n",
       "    </tr>\n",
       "    <tr>\n",
       "      <th>1</th>\n",
       "      <td>Married</td>\n",
       "      <td>3</td>\n",
       "      <td>0.4886</td>\n",
       "    </tr>\n",
       "  </tbody>\n",
       "</table>\n",
       "</div>"
      ],
      "text/plain": [
       "            feature  count  null_percent\n",
       "6    Credit_History     50        8.1433\n",
       "3     Self_Employed     32        5.2117\n",
       "4        LoanAmount     22        3.5831\n",
       "2        Dependents     15        2.4430\n",
       "5  Loan_Amount_Term     14        2.2801\n",
       "0            Gender     13        2.1173\n",
       "1           Married      3        0.4886"
      ]
     },
     "execution_count": 9,
     "metadata": {},
     "output_type": "execute_result"
    }
   ],
   "source": [
    "train_null =get_nullframe(train)\n",
    "train_null"
   ]
  },
  {
   "cell_type": "code",
   "execution_count": 10,
   "metadata": {},
   "outputs": [
    {
     "data": {
      "text/html": [
       "<div>\n",
       "<style scoped>\n",
       "    .dataframe tbody tr th:only-of-type {\n",
       "        vertical-align: middle;\n",
       "    }\n",
       "\n",
       "    .dataframe tbody tr th {\n",
       "        vertical-align: top;\n",
       "    }\n",
       "\n",
       "    .dataframe thead th {\n",
       "        text-align: right;\n",
       "    }\n",
       "</style>\n",
       "<table border=\"1\" class=\"dataframe\">\n",
       "  <thead>\n",
       "    <tr style=\"text-align: right;\">\n",
       "      <th></th>\n",
       "      <th>feature</th>\n",
       "      <th>count</th>\n",
       "      <th>null_percent</th>\n",
       "    </tr>\n",
       "  </thead>\n",
       "  <tbody>\n",
       "    <tr>\n",
       "      <th>5</th>\n",
       "      <td>Credit_History</td>\n",
       "      <td>29</td>\n",
       "      <td>7.9019</td>\n",
       "    </tr>\n",
       "    <tr>\n",
       "      <th>2</th>\n",
       "      <td>Self_Employed</td>\n",
       "      <td>23</td>\n",
       "      <td>6.2670</td>\n",
       "    </tr>\n",
       "    <tr>\n",
       "      <th>0</th>\n",
       "      <td>Gender</td>\n",
       "      <td>11</td>\n",
       "      <td>2.9973</td>\n",
       "    </tr>\n",
       "    <tr>\n",
       "      <th>1</th>\n",
       "      <td>Dependents</td>\n",
       "      <td>10</td>\n",
       "      <td>2.7248</td>\n",
       "    </tr>\n",
       "    <tr>\n",
       "      <th>4</th>\n",
       "      <td>Loan_Amount_Term</td>\n",
       "      <td>6</td>\n",
       "      <td>1.6349</td>\n",
       "    </tr>\n",
       "    <tr>\n",
       "      <th>3</th>\n",
       "      <td>LoanAmount</td>\n",
       "      <td>5</td>\n",
       "      <td>1.3624</td>\n",
       "    </tr>\n",
       "  </tbody>\n",
       "</table>\n",
       "</div>"
      ],
      "text/plain": [
       "            feature  count  null_percent\n",
       "5    Credit_History     29        7.9019\n",
       "2     Self_Employed     23        6.2670\n",
       "0            Gender     11        2.9973\n",
       "1        Dependents     10        2.7248\n",
       "4  Loan_Amount_Term      6        1.6349\n",
       "3        LoanAmount      5        1.3624"
      ]
     },
     "execution_count": 10,
     "metadata": {},
     "output_type": "execute_result"
    }
   ],
   "source": [
    "test_null =get_nullframe(test)\n",
    "test_null"
   ]
  },
  {
   "cell_type": "code",
   "execution_count": 11,
   "metadata": {},
   "outputs": [],
   "source": [
    "#train['Credit_History_Null'] = (train['Credit_History'].isnull()) * 1\n",
    "#test['Credit_History_Null']  = (test['Credit_History'].isnull()) * 1\n",
    "\n",
    "train['Credit_History'].fillna(train['Credit_History'].mode()[0], inplace=True)\n",
    "test['Credit_History'].fillna(test['Credit_History'].mode()[0], inplace=True)\n",
    "train['Self_Employed'].fillna(train['Self_Employed'].mode()[0], inplace=True)\n",
    "test['Self_Employed'].fillna(test['Self_Employed'].mode()[0], inplace=True)\n",
    "\n",
    "train['Dependents'].fillna(train['Dependents'].mode()[0],inplace=True)\n",
    "test['Dependents'].fillna(test['Dependents'].mode()[0],inplace=True)\n",
    "\n",
    "train['Loan_Amount_Term'].fillna(train['Loan_Amount_Term'].median(),inplace=True) \n",
    "test['Loan_Amount_Term'].fillna(test['Loan_Amount_Term'].median(),inplace=True)\n",
    "\n",
    "train['Gender'].fillna(train['Gender'].mode()[0], inplace=True)\n",
    "test['Gender'].fillna(test['Gender'].mode()[0], inplace=True)\n",
    "\n",
    "train['Married'].fillna(train['Gender'].mode()[0], inplace=True)\n",
    "test['Married'].fillna(test['Gender'].mode()[0], inplace=True)"
   ]
  },
  {
   "cell_type": "code",
   "execution_count": 12,
   "metadata": {},
   "outputs": [],
   "source": [
    "def emi_calculator(row): \n",
    "    r = 6.0 / (12 * 100) # one month interest \n",
    "    return (row['LoanAmount']*1000 * r * pow(1 + r, row['Loan_Amount_Term'])) / (pow(1 + r, row['Loan_Amount_Term']) - 1) "
   ]
  },
  {
   "cell_type": "code",
   "execution_count": 13,
   "metadata": {},
   "outputs": [],
   "source": [
    "train['Loan_Status'].replace('N', 0,inplace=True)\n",
    "train['Loan_Status'].replace('Y', 1,inplace=True)\n",
    "full_dataset =pd.concat(objs=[train, test], axis=0,sort =True).reset_index(drop=True) \n",
    "table = full_dataset.pivot_table(values='LoanAmount', index='Self_Employed' ,columns='Education', aggfunc=np.median)\n",
    "\n",
    "def fage(x):\n",
    "     return table.loc[x['Self_Employed'],x['Education']]\n",
    "\n",
    "# Replace missing values\n",
    "full_dataset['LoanAmount'].fillna(full_dataset[full_dataset['LoanAmount'].isnull()].apply(fage, axis=1), inplace=True)\n",
    "full_dataset['Dependents'].replace(('0', '1', '2', '3+'), (0, 1, 2, 3),inplace=True)"
   ]
  },
  {
   "cell_type": "code",
   "execution_count": 14,
   "metadata": {},
   "outputs": [],
   "source": [
    "def family_size(row): \n",
    "    if row['Married']==1:\n",
    "        return row['Dependents'] + 2\n",
    "    if row['Married']==0:\n",
    "        return row['Dependents'] + 1\n",
    "    \n",
    "    if row['Dependents']==0:\n",
    "        return row['Dependents'] +1\n",
    "    \n",
    "    return row['Dependents'] \n",
    "\n",
    "full_dataset['Family_Size'] = full_dataset.apply(family_size,axis=1)"
   ]
  },
  {
   "cell_type": "code",
   "execution_count": 15,
   "metadata": {},
   "outputs": [],
   "source": [
    "def important_loan_amount_term(row): \n",
    "    return 'Yes' if row['Loan_Amount_Term'] in [180,360,480] else 'No'"
   ]
  },
  {
   "cell_type": "code",
   "execution_count": 16,
   "metadata": {},
   "outputs": [],
   "source": [
    "property_map = {'Rural':3,'Urban':1,'Semiurban':2}\n",
    "full_dataset['TotalIncome'] =  full_dataset['ApplicantIncome']+ full_dataset['CoapplicantIncome']\n",
    "full_dataset['HasCoApplicant'] = full_dataset['CoapplicantIncome'].apply(lambda x: \"Y\" if x > 0 else \"N\")\n",
    "full_dataset['EMI'] = full_dataset.apply(emi_calculator,axis=1)\n",
    "full_dataset['Balance_Income']= full_dataset['TotalIncome']-(full_dataset['EMI']) +1\n",
    "full_dataset['Balance_ApplicantIncome']= full_dataset['ApplicantIncome']-(full_dataset['EMI']) +1\n",
    "full_dataset['Married'] = (full_dataset['Married']=='Yes') * 1\n",
    "full_dataset['Gender'] = (full_dataset['Gender']=='Male') * 1\n",
    "full_dataset['Property_Area'] = full_dataset['Property_Area'].map(property_map)\n",
    "full_dataset['LoanAmount']= full_dataset['LoanAmount']\n",
    "\n",
    "full_dataset['ApplicantIncomeRatio'] = full_dataset['ApplicantIncome']/ full_dataset['LoanAmount']\n",
    "full_dataset['TotalIncomeRatio'] = full_dataset['TotalIncome']/ full_dataset['LoanAmount']\n",
    "#full_dataset['Important_Loan_Amount_Term'] = full_dataset.apply(important_loan_amount_term,axis=1)\n",
    "#full_dataset['Loan_Amount_Term'] = full_dataset['Loan_Amount_Term'].astype(str)\n",
    "#full_dataset['ApplicantIncome_To_EMI_Ratio'] = full_dataset['ApplicantIncome']/ full_dataset['EMI']\n",
    "#full_dataset['TotalIncome_To_EMI_Ratio'] = full_dataset['TotalIncome']/ full_dataset['EMI']\n"
   ]
  },
  {
   "cell_type": "code",
   "execution_count": 17,
   "metadata": {},
   "outputs": [
    {
     "name": "stdout",
     "output_type": "stream",
     "text": [
      "low          170\n",
      "medium       452\n",
      "high         230\n",
      "very high    129\n",
      "Name: LoanAmount_Bin, dtype: int64\n"
     ]
    }
   ],
   "source": [
    "def binning(col, cut_points, labels=None):\n",
    "    #Define min and max values:\n",
    "    minval = col.min()\n",
    "    maxval = col.max()\n",
    "\n",
    "      #create list by adding min and max to cut_points\n",
    "    break_points = [minval] + cut_points + [maxval]\n",
    "\n",
    "  #if no labels provided, use default labels 0 ... (n-1)\n",
    "    if not labels:\n",
    "        labels = range(len(cut_points)+1)\n",
    "\n",
    "  #Binning using cut function of pandas\n",
    "    colBin = pd.cut(col,bins=break_points,labels=labels,include_lowest=True)\n",
    "    return colBin\n",
    "\n",
    "#Binning age:\n",
    "cut_points = [90,140,190]\n",
    "labels = [\"low\",\"medium\",\"high\",\"very high\"]\n",
    "full_dataset[\"LoanAmount_Bin\"] = binning(full_dataset[\"LoanAmount\"], cut_points, labels)\n",
    "print(pd.value_counts(full_dataset[\"LoanAmount_Bin\"], sort=False))"
   ]
  },
  {
   "cell_type": "code",
   "execution_count": 18,
   "metadata": {},
   "outputs": [
    {
     "data": {
      "text/html": [
       "<div>\n",
       "<style scoped>\n",
       "    .dataframe tbody tr th:only-of-type {\n",
       "        vertical-align: middle;\n",
       "    }\n",
       "\n",
       "    .dataframe tbody tr th {\n",
       "        vertical-align: top;\n",
       "    }\n",
       "\n",
       "    .dataframe thead th {\n",
       "        text-align: right;\n",
       "    }\n",
       "</style>\n",
       "<table border=\"1\" class=\"dataframe\">\n",
       "  <thead>\n",
       "    <tr style=\"text-align: right;\">\n",
       "      <th></th>\n",
       "      <th>feature</th>\n",
       "      <th>count</th>\n",
       "      <th>null_percent</th>\n",
       "    </tr>\n",
       "  </thead>\n",
       "  <tbody>\n",
       "    <tr>\n",
       "      <th>0</th>\n",
       "      <td>Loan_Status</td>\n",
       "      <td>367</td>\n",
       "      <td>37.4108</td>\n",
       "    </tr>\n",
       "  </tbody>\n",
       "</table>\n",
       "</div>"
      ],
      "text/plain": [
       "       feature  count  null_percent\n",
       "0  Loan_Status    367       37.4108"
      ]
     },
     "execution_count": 18,
     "metadata": {},
     "output_type": "execute_result"
    }
   ],
   "source": [
    "full_dataset_null =get_nullframe(full_dataset)\n",
    "full_dataset_null"
   ]
  },
  {
   "cell_type": "code",
   "execution_count": 19,
   "metadata": {},
   "outputs": [],
   "source": [
    "cat_list = [column for column in  full_dataset.columns if column not in full_dataset.describe(include=[np.number]).columns.values.tolist()]\n",
    "cat_list.remove('Loan_ID') "
   ]
  },
  {
   "cell_type": "code",
   "execution_count": 20,
   "metadata": {},
   "outputs": [
    {
     "data": {
      "image/png": "[encoded data removed]",
      "text/plain": [
       "<Figure size 576x432 with 2 Axes>"
      ]
     },
     "metadata": {},
     "output_type": "display_data"
    }
   ],
   "source": [
    "correlation = full_dataset[full_dataset['Loan_Status'].notnull()][full_dataset.describe(include=[np.number]).columns.values.tolist()].corr()\n",
    "fig = plt.figure(figsize=(8,6))\n",
    "ax = fig.add_subplot(111)\n",
    "cmap = sns.diverging_palette(220, 10, as_cmap=True)\n",
    "sns.heatmap(correlation, \n",
    "           xticklabels=correlation.columns.values,\n",
    "           yticklabels=correlation.index.values,\n",
    "           cmap=cmap)\n",
    "ax.xaxis.tick_top()\n",
    "plt.setp(ax.get_xticklabels(), rotation=90)\n",
    "plt.show()"
   ]
  },
  {
   "cell_type": "code",
   "execution_count": 21,
   "metadata": {},
   "outputs": [],
   "source": [
    "train_Id  = full_dataset[full_dataset['Loan_Status'].notnull()][\"Loan_ID\"]\n",
    "test_Id = full_dataset[full_dataset['Loan_Status'].isnull()][\"Loan_ID\"]\n",
    "full_dataset.drop(['Loan_ID','CoapplicantIncome','TotalIncome', \n",
    "                   'Balance_Income','ApplicantIncome','Dependents','LoanAmount',\n",
    "                    \n",
    "                   ],axis=1,inplace=True)\n",
    "\n",
    "full_dataset = pd.get_dummies(full_dataset, prefix_sep='_', drop_first=False)\n",
    "\n",
    "full_dataset.drop([ 'Education_Not Graduate','Self_Employed_No' ,\n",
    "                   'HasCoApplicant_N',\n",
    "                   'Education_Graduate',],axis=1,inplace=True)\n",
    "\n",
    "from datatools.customtransformers import StdScaleTransformer,RobustScaleTransformer,MinMaxTransformer,LogTransformer\n",
    "scaler = LogTransformer(['EMI'])\n",
    "full_dataset =scaler.fit_transform(full_dataset)"
   ]
  },
  {
   "cell_type": "code",
   "execution_count": 22,
   "metadata": {},
   "outputs": [
    {
     "data": {
      "text/html": [
       "<div>\n",
       "<style scoped>\n",
       "    .dataframe tbody tr th:only-of-type {\n",
       "        vertical-align: middle;\n",
       "    }\n",
       "\n",
       "    .dataframe tbody tr th {\n",
       "        vertical-align: top;\n",
       "    }\n",
       "\n",
       "    .dataframe thead th {\n",
       "        text-align: right;\n",
       "    }\n",
       "</style>\n",
       "<table border=\"1\" class=\"dataframe\">\n",
       "  <thead>\n",
       "    <tr style=\"text-align: right;\">\n",
       "      <th></th>\n",
       "      <th>Credit_History</th>\n",
       "      <th>Gender</th>\n",
       "      <th>Loan_Amount_Term</th>\n",
       "      <th>Loan_Status</th>\n",
       "      <th>Married</th>\n",
       "      <th>Property_Area</th>\n",
       "      <th>Family_Size</th>\n",
       "      <th>EMI</th>\n",
       "      <th>Balance_ApplicantIncome</th>\n",
       "      <th>ApplicantIncomeRatio</th>\n",
       "      <th>TotalIncomeRatio</th>\n",
       "      <th>Self_Employed_Yes</th>\n",
       "      <th>HasCoApplicant_Y</th>\n",
       "      <th>LoanAmount_Bin_low</th>\n",
       "      <th>LoanAmount_Bin_medium</th>\n",
       "      <th>LoanAmount_Bin_high</th>\n",
       "      <th>LoanAmount_Bin_very high</th>\n",
       "    </tr>\n",
       "  </thead>\n",
       "  <tbody>\n",
       "    <tr>\n",
       "      <th>0</th>\n",
       "      <td>1.0</td>\n",
       "      <td>1</td>\n",
       "      <td>360.0</td>\n",
       "      <td>1.0</td>\n",
       "      <td>0</td>\n",
       "      <td>1</td>\n",
       "      <td>1</td>\n",
       "      <td>6.6598</td>\n",
       "      <td>5070.5843</td>\n",
       "      <td>44.9923</td>\n",
       "      <td>44.9923</td>\n",
       "      <td>0</td>\n",
       "      <td>0</td>\n",
       "      <td>0</td>\n",
       "      <td>1</td>\n",
       "      <td>0</td>\n",
       "      <td>0</td>\n",
       "    </tr>\n",
       "    <tr>\n",
       "      <th>1</th>\n",
       "      <td>1.0</td>\n",
       "      <td>1</td>\n",
       "      <td>360.0</td>\n",
       "      <td>0.0</td>\n",
       "      <td>1</td>\n",
       "      <td>3</td>\n",
       "      <td>1</td>\n",
       "      <td>6.6443</td>\n",
       "      <td>3816.5753</td>\n",
       "      <td>35.8047</td>\n",
       "      <td>47.5859</td>\n",
       "      <td>0</td>\n",
       "      <td>1</td>\n",
       "      <td>0</td>\n",
       "      <td>1</td>\n",
       "      <td>0</td>\n",
       "      <td>0</td>\n",
       "    </tr>\n",
       "    <tr>\n",
       "      <th>2</th>\n",
       "      <td>1.0</td>\n",
       "      <td>1</td>\n",
       "      <td>360.0</td>\n",
       "      <td>1.0</td>\n",
       "      <td>1</td>\n",
       "      <td>1</td>\n",
       "      <td>1</td>\n",
       "      <td>5.9832</td>\n",
       "      <td>2605.2967</td>\n",
       "      <td>45.4545</td>\n",
       "      <td>45.4545</td>\n",
       "      <td>1</td>\n",
       "      <td>0</td>\n",
       "      <td>1</td>\n",
       "      <td>0</td>\n",
       "      <td>0</td>\n",
       "      <td>0</td>\n",
       "    </tr>\n",
       "    <tr>\n",
       "      <th>3</th>\n",
       "      <td>1.0</td>\n",
       "      <td>1</td>\n",
       "      <td>360.0</td>\n",
       "      <td>1.0</td>\n",
       "      <td>1</td>\n",
       "      <td>1</td>\n",
       "      <td>1</td>\n",
       "      <td>6.5799</td>\n",
       "      <td>1864.5394</td>\n",
       "      <td>21.5250</td>\n",
       "      <td>41.1750</td>\n",
       "      <td>0</td>\n",
       "      <td>1</td>\n",
       "      <td>0</td>\n",
       "      <td>1</td>\n",
       "      <td>0</td>\n",
       "      <td>0</td>\n",
       "    </tr>\n",
       "    <tr>\n",
       "      <th>4</th>\n",
       "      <td>1.0</td>\n",
       "      <td>1</td>\n",
       "      <td>360.0</td>\n",
       "      <td>1.0</td>\n",
       "      <td>0</td>\n",
       "      <td>1</td>\n",
       "      <td>1</td>\n",
       "      <td>6.7410</td>\n",
       "      <td>5155.6338</td>\n",
       "      <td>42.5532</td>\n",
       "      <td>42.5532</td>\n",
       "      <td>0</td>\n",
       "      <td>0</td>\n",
       "      <td>0</td>\n",
       "      <td>0</td>\n",
       "      <td>1</td>\n",
       "      <td>0</td>\n",
       "    </tr>\n",
       "  </tbody>\n",
       "</table>\n",
       "</div>"
      ],
      "text/plain": [
       "   Credit_History  Gender  Loan_Amount_Term  Loan_Status  Married  Property_Area  Family_Size     EMI  Balance_ApplicantIncome  ApplicantIncomeRatio  TotalIncomeRatio  Self_Employed_Yes  HasCoApplicant_Y  LoanAmount_Bin_low  LoanAmount_Bin_medium  LoanAmount_Bin_high  LoanAmount_Bin_very high\n",
       "0             1.0       1             360.0          1.0        0              1            1  6.6598                5070.5843               44.9923           44.9923                  0                 0                   0                      1                    0                         0\n",
       "1             1.0       1             360.0          0.0        1              3            1  6.6443                3816.5753               35.8047           47.5859                  0                 1                   0                      1                    0                         0\n",
       "2             1.0       1             360.0          1.0        1              1            1  5.9832                2605.2967               45.4545           45.4545                  1                 0                   1                      0                    0                         0\n",
       "3             1.0       1             360.0          1.0        1              1            1  6.5799                1864.5394               21.5250           41.1750                  0                 1                   0                      1                    0                         0\n",
       "4             1.0       1             360.0          1.0        0              1            1  6.7410                5155.6338               42.5532           42.5532                  0                 0                   0                      0                    1                         0"
      ]
     },
     "execution_count": 22,
     "metadata": {},
     "output_type": "execute_result"
    }
   ],
   "source": [
    "full_dataset.head()"
   ]
  },
  {
   "cell_type": "code",
   "execution_count": 23,
   "metadata": {},
   "outputs": [
    {
     "ename": "NameError",
     "evalue": "name 'checkpoint' is not defined",
     "output_type": "error",
     "traceback": [
      "\u001b[1;31m---------------------------------------------------------------------------\u001b[0m",
      "\u001b[1;31mNameError\u001b[0m                                 Traceback (most recent call last)",
      "\u001b[1;32m<ipython-input-23-0b3c68e966e8>\u001b[0m in \u001b[0;36m<module>\u001b[1;34m()\u001b[0m\n\u001b[1;32m----> 1\u001b[1;33m \u001b[0mcheckpoint\u001b[0m\u001b[1;33m\u001b[0m\u001b[0m\n\u001b[0m",
      "\u001b[1;31mNameError\u001b[0m: name 'checkpoint' is not defined"
     ]
    }
   ],
   "source": [
    "checkpoint"
   ]
  },
  {
   "cell_type": "code",
   "execution_count": 24,
   "metadata": {},
   "outputs": [],
   "source": [
    "def evaluvate_model(clf ,X_trainmodel, y_trainmodel,X_val,y_val): \n",
    "    clf.fit(X_trainmodel, y_trainmodel.values.ravel())\n",
    "    train_sizes, train_scores, validation_scores = learning_curve(clf, \n",
    "                                                                  X_trainmodel,y_trainmodel.values.ravel(),cv=kfold)\n",
    "    plot_learning_curve(train_sizes, train_scores, validation_scores)\n",
    "    plot_roc(X_val,y_val,clf)\n",
    "    y_pred=measure_performance(X_val,y_val,clf, show_accuracy=False, \n",
    "                               show_classification_report=True,\n",
    "                               show_confusion_matrix=True, show_r2_score=False)\n"
   ]
  },
  {
   "cell_type": "code",
   "execution_count": 25,
   "metadata": {},
   "outputs": [],
   "source": [
    "train_X = full_dataset[full_dataset['Loan_Status'].notnull()] \n",
    "test_X = full_dataset[full_dataset['Loan_Status'].isnull()]  \n",
    "train_y= full_dataset[full_dataset['Loan_Status'].notnull()]['Loan_Status']\n",
    "train_X.drop(['Loan_Status'],axis=1,inplace=True)\n",
    "test_X.drop(['Loan_Status'],axis=1,inplace=True)"
   ]
  },
  {
   "cell_type": "code",
   "execution_count": 26,
   "metadata": {},
   "outputs": [
    {
     "name": "stdout",
     "output_type": "stream",
     "text": [
      "(614, 16)\n",
      "(367, 16)\n"
     ]
    }
   ],
   "source": [
    "from sklearn.model_selection import train_test_split\n",
    "print(train_X.shape)\n",
    "print(test_X.shape)\n",
    "test_size = 0.25\n",
    "seed = 42\n",
    "X_trainmodel, X_val, y_trainmodel, y_val = train_test_split(train_X, train_y, test_size=test_size,random_state=seed)\n",
    "kfold = StratifiedKFold(n_splits=10)"
   ]
  },
  {
   "cell_type": "code",
   "execution_count": 27,
   "metadata": {},
   "outputs": [],
   "source": [
    "from xgboost.sklearn import XGBClassifier"
   ]
  },
  {
   "cell_type": "code",
   "execution_count": 28,
   "metadata": {},
   "outputs": [
    {
     "name": "stdout",
     "output_type": "stream",
     "text": [
      "Accuracy: 85.217\n"
     ]
    },
    {
     "data": {
      "image/png": "[encoded data removed]",
      "text/plain": [
       "<Figure size 432x288 with 1 Axes>"
      ]
     },
     "metadata": {},
     "output_type": "display_data"
    },
    {
     "name": "stdout",
     "output_type": "stream",
     "text": [
      "XGBClassifier(base_score=0.5, booster='gbtree', colsample_bylevel=1,\n",
      "       colsample_bytree=1, gamma=0, learning_rate=0.1, max_delta_step=0,\n",
      "       max_depth=3, min_child_weight=1, missing=None, n_estimators=50,\n",
      "       n_jobs=1, nthread=None, objective='binary:logistic', random_state=0,\n",
      "       reg_alpha=0, reg_lambda=1, scale_pos_weight=1, seed=None,\n",
      "       silent=False, subsample=1)\n"
     ]
    },
    {
     "data": {
      "image/png": "[encoded data removed]",
      "text/plain": [
       "<Figure size 432x288 with 1 Axes>"
      ]
     },
     "metadata": {},
     "output_type": "display_data"
    }
   ],
   "source": [
    "xgbr = XGBClassifier(n_estimators=50, silent=False)\n",
    "xgbr.fit(X_trainmodel ,y_trainmodel.values.ravel())\n",
    "\n",
    "warnings.filterwarnings(\"ignore\", category=DeprecationWarning) \n",
    "\n",
    "best_model ,result = test_classifier(xgbr,X_trainmodel,y_trainmodel,kfold)\n",
    "print(best_model)\n",
    "plot_roc(X_val,y_val,best_model)"
   ]
  },
  {
   "cell_type": "code",
   "execution_count": 29,
   "metadata": {},
   "outputs": [
    {
     "data": {
      "image/png": "[encoded data removed]",
      "text/plain": [
       "<Figure size 432x288 with 1 Axes>"
      ]
     },
     "metadata": {},
     "output_type": "display_data"
    },
    {
     "data": {
      "image/png": "[encoded data removed]",
      "text/plain": [
       "<Figure size 432x288 with 1 Axes>"
      ]
     },
     "metadata": {},
     "output_type": "display_data"
    },
    {
     "name": "stdout",
     "output_type": "stream",
     "text": [
      "Classification report\n",
      "              precision    recall  f1-score   support\n",
      "\n",
      "         0.0       0.87      0.50      0.64        54\n",
      "         1.0       0.78      0.96      0.86       100\n",
      "\n",
      "   micro avg       0.80      0.80      0.80       154\n",
      "   macro avg       0.83      0.73      0.75       154\n",
      "weighted avg       0.81      0.80      0.78       154\n",
      "\n",
      "Confusion matrix\n",
      "[[27 27]\n",
      " [ 4 96]]\n"
     ]
    }
   ],
   "source": [
    "warnings.filterwarnings(\"ignore\", category=DeprecationWarning) \n",
    "evaluvate_model(xgbr,X_trainmodel, y_trainmodel,X_val,y_val)"
   ]
  },
  {
   "cell_type": "code",
   "execution_count": 30,
   "metadata": {},
   "outputs": [],
   "source": [
    " def calc_accuracy(predictions, y_test):\n",
    "    labels = y_test.get_label()\n",
    "    return 'accuracy_score', (1 - sum(labels != predictions)/len(labels))"
   ]
  },
  {
   "cell_type": "code",
   "execution_count": 31,
   "metadata": {},
   "outputs": [],
   "source": [
    "import xgboost as xgb"
   ]
  },
  {
   "cell_type": "code",
   "execution_count": 32,
   "metadata": {},
   "outputs": [],
   "source": [
    "params = {\"objective\": \"multi:softmax\",\n",
    "          'num_class': 2,\n",
    "          \"booster\" : \"gbtree\",\n",
    "          'learning_rate': 0.1,\n",
    "          \"max_depth\": 3,\n",
    "          \"subsample\": 0.7,\n",
    "          'colsample_bylevel': 1,\n",
    "          'gamma': 0,\n",
    "          'min_child_weight': 1,\n",
    "          \"silent\": 1,\n",
    "          }\n",
    "\n",
    "num_boost_round =60"
   ]
  },
  {
   "cell_type": "code",
   "execution_count": 33,
   "metadata": {
    "scrolled": false
   },
   "outputs": [
    {
     "name": "stdout",
     "output_type": "stream",
     "text": [
      "Train a XGBoost model\n",
      "[0]\ttrain-merror:0.16087\teval-merror:0.214286\ttrain-accuracy_score:0.83913\teval-accuracy_score:0.785714\n",
      "Multiple eval metrics have been passed: 'eval-accuracy_score' will be used for early stopping.\n",
      "\n",
      "Will train until eval-accuracy_score hasn't improved in 50 rounds.\n",
      "[1]\ttrain-merror:0.158696\teval-merror:0.207792\ttrain-accuracy_score:0.841304\teval-accuracy_score:0.792208\n",
      "[2]\ttrain-merror:0.16087\teval-merror:0.214286\ttrain-accuracy_score:0.83913\teval-accuracy_score:0.785714\n",
      "[3]\ttrain-merror:0.156522\teval-merror:0.214286\ttrain-accuracy_score:0.843478\teval-accuracy_score:0.785714\n",
      "[4]\ttrain-merror:0.158696\teval-merror:0.207792\ttrain-accuracy_score:0.841304\teval-accuracy_score:0.792208\n",
      "[5]\ttrain-merror:0.16087\teval-merror:0.207792\ttrain-accuracy_score:0.83913\teval-accuracy_score:0.792208\n",
      "[6]\ttrain-merror:0.158696\teval-merror:0.207792\ttrain-accuracy_score:0.841304\teval-accuracy_score:0.792208\n",
      "[7]\ttrain-merror:0.16087\teval-merror:0.207792\ttrain-accuracy_score:0.83913\teval-accuracy_score:0.792208\n",
      "[8]\ttrain-merror:0.158696\teval-merror:0.207792\ttrain-accuracy_score:0.841304\teval-accuracy_score:0.792208\n",
      "[9]\ttrain-merror:0.16087\teval-merror:0.207792\ttrain-accuracy_score:0.83913\teval-accuracy_score:0.792208\n",
      "[10]\ttrain-merror:0.158696\teval-merror:0.207792\ttrain-accuracy_score:0.841304\teval-accuracy_score:0.792208\n",
      "[11]\ttrain-merror:0.158696\teval-merror:0.207792\ttrain-accuracy_score:0.841304\teval-accuracy_score:0.792208\n",
      "[12]\ttrain-merror:0.158696\teval-merror:0.207792\ttrain-accuracy_score:0.841304\teval-accuracy_score:0.792208\n",
      "[13]\ttrain-merror:0.158696\teval-merror:0.207792\ttrain-accuracy_score:0.841304\teval-accuracy_score:0.792208\n",
      "[14]\ttrain-merror:0.158696\teval-merror:0.207792\ttrain-accuracy_score:0.841304\teval-accuracy_score:0.792208\n",
      "[15]\ttrain-merror:0.16087\teval-merror:0.207792\ttrain-accuracy_score:0.83913\teval-accuracy_score:0.792208\n",
      "[16]\ttrain-merror:0.158696\teval-merror:0.207792\ttrain-accuracy_score:0.841304\teval-accuracy_score:0.792208\n",
      "[17]\ttrain-merror:0.158696\teval-merror:0.207792\ttrain-accuracy_score:0.841304\teval-accuracy_score:0.792208\n",
      "[18]\ttrain-merror:0.158696\teval-merror:0.207792\ttrain-accuracy_score:0.841304\teval-accuracy_score:0.792208\n",
      "[19]\ttrain-merror:0.158696\teval-merror:0.207792\ttrain-accuracy_score:0.841304\teval-accuracy_score:0.792208\n",
      "[20]\ttrain-merror:0.156522\teval-merror:0.207792\ttrain-accuracy_score:0.843478\teval-accuracy_score:0.792208\n",
      "[21]\ttrain-merror:0.156522\teval-merror:0.207792\ttrain-accuracy_score:0.843478\teval-accuracy_score:0.792208\n",
      "[22]\ttrain-merror:0.156522\teval-merror:0.207792\ttrain-accuracy_score:0.843478\teval-accuracy_score:0.792208\n",
      "[23]\ttrain-merror:0.156522\teval-merror:0.207792\ttrain-accuracy_score:0.843478\teval-accuracy_score:0.792208\n",
      "[24]\ttrain-merror:0.156522\teval-merror:0.207792\ttrain-accuracy_score:0.843478\teval-accuracy_score:0.792208\n",
      "[25]\ttrain-merror:0.156522\teval-merror:0.207792\ttrain-accuracy_score:0.843478\teval-accuracy_score:0.792208\n",
      "[26]\ttrain-merror:0.154348\teval-merror:0.207792\ttrain-accuracy_score:0.845652\teval-accuracy_score:0.792208\n",
      "[27]\ttrain-merror:0.156522\teval-merror:0.214286\ttrain-accuracy_score:0.843478\teval-accuracy_score:0.785714\n",
      "[28]\ttrain-merror:0.154348\teval-merror:0.214286\ttrain-accuracy_score:0.845652\teval-accuracy_score:0.785714\n",
      "[29]\ttrain-merror:0.152174\teval-merror:0.214286\ttrain-accuracy_score:0.847826\teval-accuracy_score:0.785714\n",
      "[30]\ttrain-merror:0.15\teval-merror:0.214286\ttrain-accuracy_score:0.85\teval-accuracy_score:0.785714\n",
      "[31]\ttrain-merror:0.147826\teval-merror:0.214286\ttrain-accuracy_score:0.852174\teval-accuracy_score:0.785714\n",
      "[32]\ttrain-merror:0.145652\teval-merror:0.214286\ttrain-accuracy_score:0.854348\teval-accuracy_score:0.785714\n",
      "[33]\ttrain-merror:0.145652\teval-merror:0.207792\ttrain-accuracy_score:0.854348\teval-accuracy_score:0.792208\n",
      "[34]\ttrain-merror:0.145652\teval-merror:0.214286\ttrain-accuracy_score:0.854348\teval-accuracy_score:0.785714\n",
      "[35]\ttrain-merror:0.145652\teval-merror:0.207792\ttrain-accuracy_score:0.854348\teval-accuracy_score:0.792208\n",
      "[36]\ttrain-merror:0.145652\teval-merror:0.201299\ttrain-accuracy_score:0.854348\teval-accuracy_score:0.798701\n",
      "[37]\ttrain-merror:0.145652\teval-merror:0.201299\ttrain-accuracy_score:0.854348\teval-accuracy_score:0.798701\n",
      "[38]\ttrain-merror:0.143478\teval-merror:0.201299\ttrain-accuracy_score:0.856522\teval-accuracy_score:0.798701\n",
      "[39]\ttrain-merror:0.145652\teval-merror:0.194805\ttrain-accuracy_score:0.854348\teval-accuracy_score:0.805195\n",
      "[40]\ttrain-merror:0.141304\teval-merror:0.194805\ttrain-accuracy_score:0.858696\teval-accuracy_score:0.805195\n",
      "[41]\ttrain-merror:0.141304\teval-merror:0.194805\ttrain-accuracy_score:0.858696\teval-accuracy_score:0.805195\n",
      "[42]\ttrain-merror:0.13913\teval-merror:0.194805\ttrain-accuracy_score:0.86087\teval-accuracy_score:0.805195\n",
      "[43]\ttrain-merror:0.13913\teval-merror:0.194805\ttrain-accuracy_score:0.86087\teval-accuracy_score:0.805195\n",
      "[44]\ttrain-merror:0.13913\teval-merror:0.194805\ttrain-accuracy_score:0.86087\teval-accuracy_score:0.805195\n",
      "[45]\ttrain-merror:0.136957\teval-merror:0.201299\ttrain-accuracy_score:0.863043\teval-accuracy_score:0.798701\n",
      "[46]\ttrain-merror:0.136957\teval-merror:0.201299\ttrain-accuracy_score:0.863043\teval-accuracy_score:0.798701\n",
      "[47]\ttrain-merror:0.134783\teval-merror:0.201299\ttrain-accuracy_score:0.865217\teval-accuracy_score:0.798701\n",
      "[48]\ttrain-merror:0.132609\teval-merror:0.194805\ttrain-accuracy_score:0.867391\teval-accuracy_score:0.805195\n",
      "[49]\ttrain-merror:0.132609\teval-merror:0.201299\ttrain-accuracy_score:0.867391\teval-accuracy_score:0.798701\n",
      "[50]\ttrain-merror:0.132609\teval-merror:0.201299\ttrain-accuracy_score:0.867391\teval-accuracy_score:0.798701\n",
      "[51]\ttrain-merror:0.132609\teval-merror:0.201299\ttrain-accuracy_score:0.867391\teval-accuracy_score:0.798701\n",
      "[52]\ttrain-merror:0.134783\teval-merror:0.201299\ttrain-accuracy_score:0.865217\teval-accuracy_score:0.798701\n",
      "[53]\ttrain-merror:0.134783\teval-merror:0.201299\ttrain-accuracy_score:0.865217\teval-accuracy_score:0.798701\n",
      "[54]\ttrain-merror:0.134783\teval-merror:0.201299\ttrain-accuracy_score:0.865217\teval-accuracy_score:0.798701\n",
      "[55]\ttrain-merror:0.130435\teval-merror:0.201299\ttrain-accuracy_score:0.869565\teval-accuracy_score:0.798701\n",
      "[56]\ttrain-merror:0.130435\teval-merror:0.194805\ttrain-accuracy_score:0.869565\teval-accuracy_score:0.805195\n",
      "[57]\ttrain-merror:0.128261\teval-merror:0.201299\ttrain-accuracy_score:0.871739\teval-accuracy_score:0.798701\n",
      "[58]\ttrain-merror:0.126087\teval-merror:0.201299\ttrain-accuracy_score:0.873913\teval-accuracy_score:0.798701\n",
      "[59]\ttrain-merror:0.128261\teval-merror:0.201299\ttrain-accuracy_score:0.871739\teval-accuracy_score:0.798701\n"
     ]
    }
   ],
   "source": [
    "print(\"Train a XGBoost model\")\n",
    "dtrain = xgb.DMatrix(X_trainmodel, y_trainmodel)\n",
    "dvalid = xgb.DMatrix(X_val, y_val)\n",
    "\n",
    "watchlist = [(dtrain, 'train'), (dvalid, 'eval')]\n",
    "gbm = xgb.train(params, dtrain, num_boost_round, watchlist,\n",
    "                feval=calc_accuracy, maximize=True, early_stopping_rounds=50, verbose_eval=True)"
   ]
  },
  {
   "cell_type": "code",
   "execution_count": 34,
   "metadata": {
    "scrolled": true
   },
   "outputs": [
    {
     "ename": "XGBoostError",
     "evalue": "b'[22:51:53] include/xgboost/././feature_map.h:83: unknown feature type, use i for indicator and q for quantity'",
     "output_type": "error",
     "traceback": [
      "\u001b[1;31m---------------------------------------------------------------------------\u001b[0m",
      "\u001b[1;31mXGBoostError\u001b[0m                              Traceback (most recent call last)",
      "\u001b[1;32m<ipython-input-34-81a2d23b99c6>\u001b[0m in \u001b[0;36m<module>\u001b[1;34m()\u001b[0m\n\u001b[0;32m     10\u001b[0m \u001b[0mcreate_feature_map\u001b[0m\u001b[1;33m(\u001b[0m\u001b[0mX_trainmodel\u001b[0m\u001b[1;33m)\u001b[0m\u001b[1;33m\u001b[0m\u001b[0m\n\u001b[0;32m     11\u001b[0m \u001b[1;33m\u001b[0m\u001b[0m\n\u001b[1;32m---> 12\u001b[1;33m \u001b[0mimportance\u001b[0m \u001b[1;33m=\u001b[0m \u001b[0mgbm\u001b[0m\u001b[1;33m.\u001b[0m\u001b[0mget_fscore\u001b[0m\u001b[1;33m(\u001b[0m\u001b[0mfmap\u001b[0m\u001b[1;33m=\u001b[0m\u001b[1;34m'xgb.fmap'\u001b[0m\u001b[1;33m)\u001b[0m\u001b[1;33m\u001b[0m\u001b[0m\n\u001b[0m\u001b[0;32m     13\u001b[0m \u001b[0mimportance\u001b[0m \u001b[1;33m=\u001b[0m \u001b[0msorted\u001b[0m\u001b[1;33m(\u001b[0m\u001b[0mimportance\u001b[0m\u001b[1;33m.\u001b[0m\u001b[0mitems\u001b[0m\u001b[1;33m(\u001b[0m\u001b[1;33m)\u001b[0m\u001b[1;33m,\u001b[0m \u001b[0mkey\u001b[0m\u001b[1;33m=\u001b[0m\u001b[0moperator\u001b[0m\u001b[1;33m.\u001b[0m\u001b[0mitemgetter\u001b[0m\u001b[1;33m(\u001b[0m\u001b[1;36m1\u001b[0m\u001b[1;33m)\u001b[0m\u001b[1;33m)\u001b[0m\u001b[1;33m\u001b[0m\u001b[0m\n\u001b[0;32m     14\u001b[0m \u001b[1;33m\u001b[0m\u001b[0m\n",
      "\u001b[1;32mD:\\Anaconda3\\lib\\site-packages\\xgboost\\core.py\u001b[0m in \u001b[0;36mget_fscore\u001b[1;34m(self, fmap)\u001b[0m\n\u001b[0;32m   1205\u001b[0m         \"\"\"\n\u001b[0;32m   1206\u001b[0m \u001b[1;33m\u001b[0m\u001b[0m\n\u001b[1;32m-> 1207\u001b[1;33m         \u001b[1;32mreturn\u001b[0m \u001b[0mself\u001b[0m\u001b[1;33m.\u001b[0m\u001b[0mget_score\u001b[0m\u001b[1;33m(\u001b[0m\u001b[0mfmap\u001b[0m\u001b[1;33m,\u001b[0m \u001b[0mimportance_type\u001b[0m\u001b[1;33m=\u001b[0m\u001b[1;34m'weight'\u001b[0m\u001b[1;33m)\u001b[0m\u001b[1;33m\u001b[0m\u001b[0m\n\u001b[0m\u001b[0;32m   1208\u001b[0m \u001b[1;33m\u001b[0m\u001b[0m\n\u001b[0;32m   1209\u001b[0m     \u001b[1;32mdef\u001b[0m \u001b[0mget_score\u001b[0m\u001b[1;33m(\u001b[0m\u001b[0mself\u001b[0m\u001b[1;33m,\u001b[0m \u001b[0mfmap\u001b[0m\u001b[1;33m=\u001b[0m\u001b[1;34m''\u001b[0m\u001b[1;33m,\u001b[0m \u001b[0mimportance_type\u001b[0m\u001b[1;33m=\u001b[0m\u001b[1;34m'weight'\u001b[0m\u001b[1;33m)\u001b[0m\u001b[1;33m:\u001b[0m\u001b[1;33m\u001b[0m\u001b[0m\n",
      "\u001b[1;32mD:\\Anaconda3\\lib\\site-packages\\xgboost\\core.py\u001b[0m in \u001b[0;36mget_score\u001b[1;34m(self, fmap, importance_type)\u001b[0m\n\u001b[0;32m   1227\u001b[0m         \u001b[1;32mif\u001b[0m \u001b[0mimportance_type\u001b[0m \u001b[1;33m==\u001b[0m \u001b[1;34m'weight'\u001b[0m\u001b[1;33m:\u001b[0m\u001b[1;33m\u001b[0m\u001b[0m\n\u001b[0;32m   1228\u001b[0m             \u001b[1;31m# do a simpler tree dump to save time\u001b[0m\u001b[1;33m\u001b[0m\u001b[1;33m\u001b[0m\u001b[0m\n\u001b[1;32m-> 1229\u001b[1;33m             \u001b[0mtrees\u001b[0m \u001b[1;33m=\u001b[0m \u001b[0mself\u001b[0m\u001b[1;33m.\u001b[0m\u001b[0mget_dump\u001b[0m\u001b[1;33m(\u001b[0m\u001b[0mfmap\u001b[0m\u001b[1;33m,\u001b[0m \u001b[0mwith_stats\u001b[0m\u001b[1;33m=\u001b[0m\u001b[1;32mFalse\u001b[0m\u001b[1;33m)\u001b[0m\u001b[1;33m\u001b[0m\u001b[0m\n\u001b[0m\u001b[0;32m   1230\u001b[0m \u001b[1;33m\u001b[0m\u001b[0m\n\u001b[0;32m   1231\u001b[0m             \u001b[0mfmap\u001b[0m \u001b[1;33m=\u001b[0m \u001b[1;33m{\u001b[0m\u001b[1;33m}\u001b[0m\u001b[1;33m\u001b[0m\u001b[0m\n",
      "\u001b[1;32mD:\\Anaconda3\\lib\\site-packages\\xgboost\\core.py\u001b[0m in \u001b[0;36mget_dump\u001b[1;34m(self, fmap, with_stats, dump_format)\u001b[0m\n\u001b[0;32m   1192\u001b[0m                                                   \u001b[0mc_str\u001b[0m\u001b[1;33m(\u001b[0m\u001b[0mdump_format\u001b[0m\u001b[1;33m)\u001b[0m\u001b[1;33m,\u001b[0m\u001b[1;33m\u001b[0m\u001b[0m\n\u001b[0;32m   1193\u001b[0m                                                   \u001b[0mctypes\u001b[0m\u001b[1;33m.\u001b[0m\u001b[0mbyref\u001b[0m\u001b[1;33m(\u001b[0m\u001b[0mlength\u001b[0m\u001b[1;33m)\u001b[0m\u001b[1;33m,\u001b[0m\u001b[1;33m\u001b[0m\u001b[0m\n\u001b[1;32m-> 1194\u001b[1;33m                                                   ctypes.byref(sarr)))\n\u001b[0m\u001b[0;32m   1195\u001b[0m         \u001b[0mres\u001b[0m \u001b[1;33m=\u001b[0m \u001b[0mfrom_cstr_to_pystr\u001b[0m\u001b[1;33m(\u001b[0m\u001b[0msarr\u001b[0m\u001b[1;33m,\u001b[0m \u001b[0mlength\u001b[0m\u001b[1;33m)\u001b[0m\u001b[1;33m\u001b[0m\u001b[0m\n\u001b[0;32m   1196\u001b[0m         \u001b[1;32mreturn\u001b[0m \u001b[0mres\u001b[0m\u001b[1;33m\u001b[0m\u001b[0m\n",
      "\u001b[1;32mD:\\Anaconda3\\lib\\site-packages\\xgboost\\core.py\u001b[0m in \u001b[0;36m_check_call\u001b[1;34m(ret)\u001b[0m\n\u001b[0;32m    128\u001b[0m     \"\"\"\n\u001b[0;32m    129\u001b[0m     \u001b[1;32mif\u001b[0m \u001b[0mret\u001b[0m \u001b[1;33m!=\u001b[0m \u001b[1;36m0\u001b[0m\u001b[1;33m:\u001b[0m\u001b[1;33m\u001b[0m\u001b[0m\n\u001b[1;32m--> 130\u001b[1;33m         \u001b[1;32mraise\u001b[0m \u001b[0mXGBoostError\u001b[0m\u001b[1;33m(\u001b[0m\u001b[0m_LIB\u001b[0m\u001b[1;33m.\u001b[0m\u001b[0mXGBGetLastError\u001b[0m\u001b[1;33m(\u001b[0m\u001b[1;33m)\u001b[0m\u001b[1;33m)\u001b[0m\u001b[1;33m\u001b[0m\u001b[0m\n\u001b[0m\u001b[0;32m    131\u001b[0m \u001b[1;33m\u001b[0m\u001b[0m\n\u001b[0;32m    132\u001b[0m \u001b[1;33m\u001b[0m\u001b[0m\n",
      "\u001b[1;31mXGBoostError\u001b[0m: b'[22:51:53] include/xgboost/././feature_map.h:83: unknown feature type, use i for indicator and q for quantity'"
     ]
    }
   ],
   "source": [
    "def create_feature_map(features):\n",
    "    outfile = open('xgb.fmap', 'w')\n",
    "    i = 0\n",
    "    for feat in features:\n",
    "        outfile.write('{0}\\t{1}\\tq\\n'.format(i, feat))\n",
    "        i = i + 1\n",
    "    outfile.close()\n",
    "\n",
    "import operator\n",
    "create_feature_map(X_trainmodel)\n",
    "\n",
    "importance = gbm.get_fscore(fmap='xgb.fmap')\n",
    "importance = sorted(importance.items(), key=operator.itemgetter(1))\n",
    "\n",
    "df_importances = pd.DataFrame(importance, columns=['feature', 'fscore'])\n",
    "df_importances['fscore'] = df_importances['fscore'] / df_importances['fscore'].sum()\n",
    "\n",
    "df_importances.plot(kind='barh', x='feature', y='fscore')\n",
    "plt.title('XGBoost Feature Importance')\n",
    "plt.xlabel('relative importance')"
   ]
  },
  {
   "cell_type": "code",
   "execution_count": 35,
   "metadata": {},
   "outputs": [],
   "source": [
    "test_y  =gbm.predict(xgb.DMatrix(test_X))"
   ]
  },
  {
   "cell_type": "code",
   "execution_count": 36,
   "metadata": {},
   "outputs": [],
   "source": [
    "submission =pd.DataFrame({'Loan_ID':test_Id.values ,'Loan_Status':test_y}) \n",
    "submission['Loan_Status'].replace(0, 'N',inplace=True)\n",
    "submission['Loan_Status'].replace(1, 'Y',inplace=True)\n",
    "import datetime\n",
    "FORMAT = '%Y%m%d%H%M%S'\n",
    "timestamp=datetime.datetime.now().strftime(FORMAT)\n",
    "filename =\"LoanAV_XgBooost\"+timestamp+\"_out.csv\""
   ]
  },
  {
   "cell_type": "code",
   "execution_count": 37,
   "metadata": {},
   "outputs": [],
   "source": [
    "submission.to_csv(filename)"
   ]
  },
  {
   "cell_type": "code",
   "execution_count": null,
   "metadata": {},
   "outputs": [],
   "source": []
  }
 ],
 "metadata": {
  "kernelspec": {
   "display_name": "Python 3",
   "language": "python",
   "name": "python3"
  },
  "language_info": {
   "codemirror_mode": {
    "name": "ipython",
    "version": 3
   },
   "file_extension": ".py",
   "mimetype": "text/x-python",
   "name": "python",
   "nbconvert_exporter": "python",
   "pygments_lexer": "ipython3",
   "version": "3.6.5"
  }
 },
 "nbformat": 4,
 "nbformat_minor": 2
}
