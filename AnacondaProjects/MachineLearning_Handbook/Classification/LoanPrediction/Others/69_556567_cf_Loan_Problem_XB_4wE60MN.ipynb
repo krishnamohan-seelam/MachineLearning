{
 "cells": [
  {
   "cell_type": "code",
   "execution_count": 162,
   "metadata": {},
   "outputs": [
    {
     "name": "stdout",
     "output_type": "stream",
     "text": [
      "Loan_ID               0\n",
      "Gender               13\n",
      "Married               3\n",
      "Dependents           15\n",
      "Education             0\n",
      "Self_Employed        32\n",
      "ApplicantIncome       0\n",
      "CoapplicantIncome     0\n",
      "LoanAmount           22\n",
      "Loan_Amount_Term     14\n",
      "Credit_History       50\n",
      "Property_Area         0\n",
      "Loan_Status           0\n",
      "dtype: int64\n",
      "Loan_ID               0\n",
      "Gender                0\n",
      "Married               0\n",
      "Dependents           15\n",
      "Education             0\n",
      "Self_Employed         0\n",
      "ApplicantIncome       0\n",
      "CoapplicantIncome     0\n",
      "LoanAmount           22\n",
      "Loan_Amount_Term     14\n",
      "Credit_History       50\n",
      "Property_Area         0\n",
      "Loan_Status           0\n",
      "dtype: int64\n"
     ]
    },
    {
     "name": "stderr",
     "output_type": "stream",
     "text": [
      "C:\\Users\\rahul.r.rajaram\\AppData\\Local\\Continuum\\anaconda3\\lib\\site-packages\\scipy\\stats\\stats.py:245: RuntimeWarning: The input array could not be properly checked for nan values. nan values will be ignored.\n",
      "  \"values. nan values will be ignored.\", RuntimeWarning)\n"
     ]
    }
   ],
   "source": [
    "#import libraries to read the data\n",
    "import pandas as pd\n",
    "import numpy as np\n",
    "from scipy.stats import mode\n",
    "#reading training and testing file\n",
    "train = pd.read_csv('train_loan.csv')\n",
    "test = pd.read_csv('test_loan.csv')\n",
    "#function for missing values\n",
    "def num_missing(x):\n",
    "  return sum(x.isnull())\n",
    "#Cleaning training data\n",
    "print (train.apply(num_missing, axis=0))\n",
    "train = train.replace('[+]','',regex=True)\n",
    "train['Gender'].fillna(mode(train['Gender'].astype('str')).mode[0], inplace=True)\n",
    "train['Married'].fillna(mode(train['Married'].astype('str')).mode[0], inplace=True)\n",
    "train['Self_Employed'].fillna(mode(train['Self_Employed'].astype('str')).mode[0], inplace=True)\n",
    "train['Dependents'] = train['Dependents'].astype(float)\n",
    "#train['Loan_Amount_Term'].fillna(mode(train['Loan_Amount_Term']).mode[0], inplace=True)\n",
    "#train['Credit_History'].fillna(mode(train['Credit_History']).mode[0], inplace=True)\n",
    "#train['Dependents'].fillna(mode(train['Dependents'].astype('float')).mode[0], inplace=True)\n",
    "#from fancyimpute import KNN    \n",
    "# X is the complete data matrix\n",
    "# X_incomplete has the same values as X except a subset have been replace with NaN\n",
    "# Use 3 nearest rows which have a feature to fill in each row's missing features\n",
    "#X_filled_knn = KNN(k=3).complete(train)\n",
    "\n",
    "# for imputing loan amount \n",
    "#impute_grps = train.pivot_table(values=[\"LoanAmount\"], index=[\"Gender\",\"Married\",\"Self_Employed\"], aggfunc=np.mean)\n",
    "#for i,row in train.loc[train['LoanAmount'].isnull(),:].iterrows():\n",
    "#  ind = tuple([row['Gender'],row['Married'],row['Self_Employed']])\n",
    "#  train.loc[i,'LoanAmount'] = impute_grps.loc[ind].values[0]\n",
    "#for one hot coding\n",
    "train = pd.get_dummies(train,columns=['Loan_Status'],drop_first=True,sparse=False)\n",
    "train.rename(index=str, columns={\"Loan_Status_Y\":\"Loan_Status\"},inplace=True)\n",
    "train_dummies = pd.get_dummies(train, columns=[u'Gender',\n",
    "       u'Married', u'Education', u'Self_Employed', u'Property_Area'],drop_first=False,sparse=False)\n",
    "\n",
    "#cleaning test data \n",
    "\n",
    "test = test.replace('[+]','',regex=True)\n",
    "test['Gender'].fillna(mode(test['Gender'].astype('str')).mode[0], inplace=True)\n",
    "test['Married'].fillna(mode(test['Married'].astype('str')).mode[0], inplace=True)\n",
    "test['Self_Employed'].fillna(mode(test['Self_Employed'].astype('str')).mode[0], inplace=True)\n",
    "test['Dependents'] = test['Dependents'].astype(float)\n",
    "#test['Loan_Amount_Term'].fillna(mode(test['Loan_Amount_Term']).mode[0], inplace=True)\n",
    "#test['Credit_History'].fillna(mode(test['Credit_History']).mode[0], inplace=True)\n",
    "#test['Dependents'].fillna(mode(test['Dependents'].astype('float')).mode[0], inplace=True)\n",
    "# for imputing loan amount \n",
    "#impute_grps = test.pivot_table(values=[\"LoanAmount\"], index=[\"Gender\",\"Married\",\"Self_Employed\"], aggfunc=np.mean)\n",
    "#for i,row in test.loc[test['LoanAmount'].isnull(),:].iterrows():\n",
    "#  ind = tuple([row['Gender'],row['Married'],row['Self_Employed']])\n",
    "#  test.loc[i,'LoanAmount'] = impute_grps.loc[ind].values[0]\n",
    "\n",
    "#test = pd.get_dummies(test,columns=['Loan_Status'],drop_first=True,sparse=False)\n",
    "#test.rename(index=str, columns={\"Loan_Status_Y\":\"Loan_Status\"},inplace=True)\n",
    "#for one hot coding\n",
    "test_dummies = pd.get_dummies(test, columns=[u'Gender',\n",
    "       u'Married', u'Education', u'Self_Employed', u'Property_Area'],drop_first=False,sparse=False)\n",
    "print (train.apply(num_missing, axis=0))\n",
    "# removing loan_id and status from training data\n",
    "X_train = train_dummies.drop(['Loan_ID'], 1)\n",
    "X_train = X_train.drop(['Loan_Status'], 1)                        \n",
    "Y_train = train_dummies['Loan_Status']\n",
    "#removing loan id from testing data\n",
    "X_test = test_dummies.drop(['Loan_ID'],1)\n",
    "\n",
    "\n"
   ]
  },
  {
   "cell_type": "code",
   "execution_count": 177,
   "metadata": {},
   "outputs": [
    {
     "name": "stderr",
     "output_type": "stream",
     "text": [
      "C:\\Users\\rahul.r.rajaram\\AppData\\Local\\Continuum\\anaconda3\\lib\\site-packages\\sklearn\\preprocessing\\label.py:151: DeprecationWarning: The truth value of an empty array is ambiguous. Returning False, but in future this will result in an error. Use `array.size > 0` to check that an array is not empty.\n",
      "  if diff:\n"
     ]
    }
   ],
   "source": [
    "#Import XGboost classifier\n",
    "from xgboost.sklearn import XGBClassifier\n",
    "\n",
    "\n",
    "#Create a Gaussian Classifier\n",
    "model = XGBClassifier(\n",
    " learning_rate =0.12,\n",
    " n_estimators=1000,\n",
    " max_depth=8,\n",
    " min_child_weight=3,\n",
    " gamma=0.35,\n",
    " subsample=0.8,\n",
    " colsample_bytree=0.8,\n",
    " objective= 'binary:logistic',\n",
    " nthread=4,\n",
    " scale_pos_weight=1,\n",
    " reg_alpha = 1,\n",
    " seed=27)\n",
    "\n",
    "#model training\n",
    "model.fit(X_train,Y_train)\n",
    "y_pred = model.predict(X_test)\n"
   ]
  },
  {
   "cell_type": "code",
   "execution_count": 73,
   "metadata": {},
   "outputs": [
    {
     "name": "stderr",
     "output_type": "stream",
     "text": [
      "C:\\Users\\rahul.r.rajaram\\AppData\\Local\\Continuum\\anaconda3\\lib\\site-packages\\sklearn\\preprocessing\\label.py:151: DeprecationWarning: The truth value of an empty array is ambiguous. Returning False, but in future this will result in an error. Use `array.size > 0` to check that an array is not empty.\n",
      "  if diff:\n"
     ]
    }
   ],
   "source": []
  },
  {
   "cell_type": "code",
   "execution_count": 69,
   "metadata": {},
   "outputs": [
    {
     "data": {
      "text/plain": [
       "Credit_History             0.270463\n",
       "ApplicantIncome            0.236814\n",
       "LoanAmount                 0.197971\n",
       "CoapplicantIncome          0.126236\n",
       "Dependents                 0.052834\n",
       "Loan_Amount_Term           0.046885\n",
       "Property_Area_Semiurban    0.023920\n",
       "Education_Not Graduate     0.022449\n",
       "Property_Area_Rural        0.022428\n",
       "dtype: float64"
      ]
     },
     "execution_count": 69,
     "metadata": {},
     "output_type": "execute_result"
    }
   ],
   "source": []
  },
  {
   "cell_type": "code",
   "execution_count": 26,
   "metadata": {
    "scrolled": false
   },
   "outputs": [
    {
     "name": "stdout",
     "output_type": "stream",
     "text": [
      "[1 1 1 1 0 1 1 0 1 1 0 1 1 0 1 1 1 1 1 1 1 1 1 1 1 0 1 1 1 1 1 1 1 1 1 0 1\n",
      " 1 1 1 1 1 1 1 1 1 1 1 1 1 1 1 1 1 1 0 1 1 0 1 1 1 1 0 1 1 0 0 1 0 1 1 1 1\n",
      " 1 1 1 1 1 1 0 1 0 0 0 1 1 1 1 1 1 1 1 1 0 1 1 1 1 1 1 0 1 1 1 1 0 1 1 1 1\n",
      " 1 1 1 1 1 0 0 0 0 0 1 1 0 0 1 0 1 1 1 1 0 1 1 1 1 1 1 1 1 0 1 0 1 1 1 1 0\n",
      " 1 1 1 1 1 0 1 1 1 1 1 0 1 0 1 1 1 0 0 1 0 0 1 1 1 0 0 1 1 1 1 1 1 1 1 0 1\n",
      " 1 1 1 0 1 1 0 0 0 0 1 0 1 0 1 1 1 1 1 1 1 0 1 0 1 1 0 1 1 1 1 1 0 1 1 1 1\n",
      " 1 1 0 1 1 1 1 0 1 1 1 1 1 0 0 1 1 0 1 0 1 0 1 0 1 1 1 1 0 1 1 1 1 0 1 1 1\n",
      " 0 1 1 0 1 1 1 0 1 0 0 1 1 1 0 0 1 1 1 0 1 1 1 1 0 1 1 1 1 1 1 1 1 0 0 0 1\n",
      " 1 0 1 1 1 0 1 1 1 0 1 1 1 1 1 0 1 1 1 1 1 0 1 1 1 0 1 1 1 0 1 1 1 1 1 1 0\n",
      " 1 1 1 1 1 1 0 1 1 0 0 1 1 0 1 1 0 1 1 1 1 0 1 1 1 1 1 1 1 1 1 1 0 1]\n"
     ]
    }
   ],
   "source": []
  },
  {
   "cell_type": "code",
   "execution_count": 178,
   "metadata": {},
   "outputs": [],
   "source": [
    "'''Getting SVM Predictions '''\n",
    "df_predicted = pd.DataFrame(y_pred,columns=[\"Loan_Status\"])\n",
    "result_xgb = pd.concat([test['Loan_ID'],df_predicted],axis=1)\n",
    "result_xgb['Loan_Status'] = result_xgb['Loan_Status'].map({1:'Y', 0: 'N'})\n",
    "result_xgb.to_csv(\"result_xgb_final.csv\", index = False)\n"
   ]
  }
 ],
 "metadata": {
  "kernelspec": {
   "display_name": "Python 3",
   "language": "python",
   "name": "python3"
  },
  "language_info": {
   "codemirror_mode": {
    "name": "ipython",
    "version": 3
   },
   "file_extension": ".py",
   "mimetype": "text/x-python",
   "name": "python",
   "nbconvert_exporter": "python",
   "pygments_lexer": "ipython3",
   "version": "3.6.5"
  }
 },
 "nbformat": 4,
 "nbformat_minor": 2
}
