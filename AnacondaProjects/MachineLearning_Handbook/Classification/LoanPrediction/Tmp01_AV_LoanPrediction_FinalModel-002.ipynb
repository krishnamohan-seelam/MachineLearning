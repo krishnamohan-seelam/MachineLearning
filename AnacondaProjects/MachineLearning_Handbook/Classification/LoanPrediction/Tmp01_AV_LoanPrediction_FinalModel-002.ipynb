{
 "cells": [
  {
   "cell_type": "code",
   "execution_count": 1,
   "metadata": {},
   "outputs": [],
   "source": [
    "%load_ext autoreload\n",
    "%autoreload 2"
   ]
  },
  {
   "cell_type": "code",
   "execution_count": 2,
   "metadata": {},
   "outputs": [],
   "source": [
    "import numpy as np\n",
    "import pandas as pd\n",
    "import matplotlib.pyplot as plt\n",
    "import seaborn as sns\n",
    "%matplotlib inline\n",
    "import warnings\n",
    "warnings.filterwarnings(\"ignore\")\n",
    "warnings.filterwarnings(\"ignore\", category=DeprecationWarning) \n",
    "sns.set(style=\"darkgrid\")\n",
    "pd.set_option('display.width', 200)\n",
    "pd.set_option('precision', 4)\n",
    "pd.set_option('display.width', 500)\n",
    "pd.set_option('display.max_columns', 200)\n",
    "pd.set_option('display.notebook_repr_html', True)"
   ]
  },
  {
   "cell_type": "code",
   "execution_count": 3,
   "metadata": {},
   "outputs": [],
   "source": [
    "def display_all(df):\n",
    "    with pd.option_context(\"display.max_rows\",1000):\n",
    "        with pd.option_context(\"display.max_columns\",1000):\n",
    "            display(df)"
   ]
  },
  {
   "cell_type": "code",
   "execution_count": 4,
   "metadata": {},
   "outputs": [],
   "source": [
    "def get_nullframe(dataset):\n",
    "    null_sum = dataset.isnull().sum()[dataset.isnull().sum()>0] \n",
    "    return pd.DataFrame({'feature':null_sum.index,'count':null_sum.values,\n",
    "                          'null_percent':(null_sum.values/dataset.shape[0])*100}).sort_values(by=['count'],ascending=False)"
   ]
  },
  {
   "cell_type": "code",
   "execution_count": 5,
   "metadata": {},
   "outputs": [],
   "source": [
    "from sklearn import metrics\n",
    "from sklearn.metrics import roc_curve\n",
    "def measure_performance(X, y, clf, show_accuracy=True,show_classification_report=True,\n",
    "                        show_confusion_matrix=True, show_r2_score=False):\n",
    "    y_pred = clf.predict(X) \n",
    "    if show_accuracy:\n",
    "        print (\"Accuracy:{0:.3f}\".format( metrics.accuracy_score(y, y_pred)) )\n",
    "    if show_classification_report:\n",
    "        print (\"Classification report\")\n",
    "        print (metrics.classification_report(y, y_pred))\n",
    "    if show_confusion_matrix:\n",
    "        print(\"Confusion matrix\") \n",
    "        print(metrics.confusion_matrix(y, y_pred),)\n",
    "    if show_r2_score:\n",
    "        print (\"Coefficient of determination:{0:.3f}\"\n",
    "               .format( metrics.r2_score(y, y_pred)))\n",
    "    return y_pred\n",
    "\n",
    "from sklearn.model_selection import GridSearchCV, cross_val_score, StratifiedKFold, learning_curve\n",
    "def plot_learning_curve(train_sizes, train_scores, validation_scores):\n",
    "    plt.figure()\n",
    "    plt.title(\"Learning Curve\")\n",
    "    train_scores_mean = np.mean(train_scores, axis=1)\n",
    "    train_scores_std = np.std(train_scores, axis=1)\n",
    "    validation_scores_mean = np.mean(validation_scores, axis=1)\n",
    "    validation_scores_std = np.std(validation_scores, axis=1)\n",
    "\n",
    "    plt.fill_between(train_sizes, train_scores_mean - train_scores_std,\n",
    "                     train_scores_mean + train_scores_std, alpha=0.1,\n",
    "                     color=\"r\")\n",
    "    plt.fill_between(train_sizes, validation_scores_mean - validation_scores_std,\n",
    "                     validation_scores_mean + validation_scores_std, alpha=0.1, color=\"g\")\n",
    "    \n",
    "    plt.plot(train_sizes, train_scores_mean, 'o-', color=\"r\",label=\"Training score\")\n",
    "    plt.plot(train_sizes, validation_scores_mean, 'o-', color=\"g\" ,label=\"Cross-validation score\")\n",
    "    plt.ylim(max(-3, validation_scores_mean.min() - .1), train_scores_mean.max() + .1)\n",
    "    plt.legend(loc=\"best\")\n",
    "    plt.show()\n",
    "\n",
    "from sklearn.model_selection import validation_curve\n",
    "def plot_validation_curve(parameter_values, train_scores, validation_scores):\n",
    "    plt.figure()\n",
    "    plt.title(\"Validation Curve\")\n",
    "    train_scores_mean = np.mean(train_scores, axis=1)\n",
    "    train_scores_std = np.std(train_scores, axis=1)\n",
    "    validation_scores_mean = np.mean(validation_scores, axis=1)\n",
    "    validation_scores_std = np.std(validation_scores, axis=1)\n",
    "\n",
    "    plt.fill_between(parameter_values, train_scores_mean - train_scores_std,\n",
    "                     train_scores_mean + train_scores_std, alpha=0.1,\n",
    "                     color=\"r\")\n",
    "    plt.fill_between(parameter_values, validation_scores_mean - validation_scores_std,\n",
    "                     validation_scores_mean + validation_scores_std, alpha=0.1, color=\"g\")\n",
    "    plt.plot(parameter_values, train_scores_mean, 'o-', color=\"r\",\n",
    "             label=\"Training score\")\n",
    "    plt.plot(parameter_values, validation_scores_mean, 'o-', color=\"g\",\n",
    "             label=\"Cross-validation score\")\n",
    "    plt.ylim(validation_scores_mean.min() - .1, train_scores_mean.max() + .1)\n",
    "    plt.legend(loc=\"best\")\n",
    "    plt.show()\n",
    "\n",
    "def plot_roc(X_val,y_val,model):\n",
    "    fpr, tpr, thresholds = roc_curve(y_val, model.predict_proba(X_val)[:, 1])\n",
    "    plt.figure()\n",
    "    plt.plot(fpr, tpr, label=\"ROC Curve\")\n",
    "    plt.xlabel(\"FPR\")\n",
    "    plt.ylabel(\"TPR (recall)\")\n",
    "    plt.title(\"roc_curve\");\n",
    "    # find threshold closest to zero:\n",
    "    close_zero = np.argmin(np.abs(thresholds))\n",
    "    plt.plot(fpr[close_zero], tpr[close_zero], 'o', markersize=10,\n",
    "         label=\"threshold zero\", fillstyle=\"none\", c='k', mew=2)\n",
    "    plt.legend(loc=4)\n",
    "    plt.show()\n",
    "\n",
    "def test_classifier(model,X,y,cv):\n",
    "    clf = model.fit(X,y.values.ravel())\n",
    "    result = clf.score(X,y.values)\n",
    "    print (\"Accuracy: {0:.3f}\".format(result*100.0))\n",
    "\n",
    "    train_sizes, train_scores, validation_scores = learning_curve(clf, X,y.values.ravel(),cv=cv)\n",
    "    plot_learning_curve(train_sizes, train_scores, validation_scores)\n",
    "    return clf,result"
   ]
  },
  {
   "cell_type": "code",
   "execution_count": 6,
   "metadata": {},
   "outputs": [],
   "source": [
    "train=pd.read_csv(\"train_u6lujuX_CVtuZ9i.csv\")\n",
    "test=pd.read_csv(\"test_Y3wMUE5_7gLdaTN.csv\")"
   ]
  },
  {
   "cell_type": "code",
   "execution_count": 7,
   "metadata": {},
   "outputs": [],
   "source": [
    "#train.drop(train[train['Married'].isnull()].index,inplace=True)\n",
    "#train.drop(train[(train['LoanAmount'].isnull()) & (train['Credit_History'].isnull())].index,inplace=True)"
   ]
  },
  {
   "cell_type": "code",
   "execution_count": 8,
   "metadata": {},
   "outputs": [
    {
     "data": {
      "text/plain": [
       "['ApplicantIncome',\n",
       " 'CoapplicantIncome',\n",
       " 'LoanAmount',\n",
       " 'Loan_Amount_Term',\n",
       " 'Credit_History']"
      ]
     },
     "execution_count": 8,
     "metadata": {},
     "output_type": "execute_result"
    }
   ],
   "source": [
    "continuous_ds = train.select_dtypes(np.number)\n",
    "continuous_columns = continuous_ds.columns.values.tolist()\n",
    "continuous_columns"
   ]
  },
  {
   "cell_type": "code",
   "execution_count": 9,
   "metadata": {},
   "outputs": [],
   "source": [
    "categorical_ds = train.select_dtypes(\"object\")\n",
    "categorical_columns = categorical_ds.columns.values.tolist()\n",
    "ordinal_columns =['Dependents','Education','Property_Area']\n",
    "categorical_columns = [ column for column in categorical_columns if column not in ordinal_columns ]\n",
    "categorical_columns.remove('Loan_ID')"
   ]
  },
  {
   "cell_type": "code",
   "execution_count": 10,
   "metadata": {},
   "outputs": [
    {
     "data": {
      "text/html": [
       "<div>\n",
       "<style scoped>\n",
       "    .dataframe tbody tr th:only-of-type {\n",
       "        vertical-align: middle;\n",
       "    }\n",
       "\n",
       "    .dataframe tbody tr th {\n",
       "        vertical-align: top;\n",
       "    }\n",
       "\n",
       "    .dataframe thead th {\n",
       "        text-align: right;\n",
       "    }\n",
       "</style>\n",
       "<table border=\"1\" class=\"dataframe\">\n",
       "  <thead>\n",
       "    <tr style=\"text-align: right;\">\n",
       "      <th></th>\n",
       "      <th>feature</th>\n",
       "      <th>count</th>\n",
       "      <th>null_percent</th>\n",
       "    </tr>\n",
       "  </thead>\n",
       "  <tbody>\n",
       "    <tr>\n",
       "      <th>6</th>\n",
       "      <td>Credit_History</td>\n",
       "      <td>50</td>\n",
       "      <td>8.1433</td>\n",
       "    </tr>\n",
       "    <tr>\n",
       "      <th>3</th>\n",
       "      <td>Self_Employed</td>\n",
       "      <td>32</td>\n",
       "      <td>5.2117</td>\n",
       "    </tr>\n",
       "    <tr>\n",
       "      <th>4</th>\n",
       "      <td>LoanAmount</td>\n",
       "      <td>22</td>\n",
       "      <td>3.5831</td>\n",
       "    </tr>\n",
       "    <tr>\n",
       "      <th>2</th>\n",
       "      <td>Dependents</td>\n",
       "      <td>15</td>\n",
       "      <td>2.4430</td>\n",
       "    </tr>\n",
       "    <tr>\n",
       "      <th>5</th>\n",
       "      <td>Loan_Amount_Term</td>\n",
       "      <td>14</td>\n",
       "      <td>2.2801</td>\n",
       "    </tr>\n",
       "    <tr>\n",
       "      <th>0</th>\n",
       "      <td>Gender</td>\n",
       "      <td>13</td>\n",
       "      <td>2.1173</td>\n",
       "    </tr>\n",
       "    <tr>\n",
       "      <th>1</th>\n",
       "      <td>Married</td>\n",
       "      <td>3</td>\n",
       "      <td>0.4886</td>\n",
       "    </tr>\n",
       "  </tbody>\n",
       "</table>\n",
       "</div>"
      ],
      "text/plain": [
       "            feature  count  null_percent\n",
       "6    Credit_History     50        8.1433\n",
       "3     Self_Employed     32        5.2117\n",
       "4        LoanAmount     22        3.5831\n",
       "2        Dependents     15        2.4430\n",
       "5  Loan_Amount_Term     14        2.2801\n",
       "0            Gender     13        2.1173\n",
       "1           Married      3        0.4886"
      ]
     },
     "execution_count": 10,
     "metadata": {},
     "output_type": "execute_result"
    }
   ],
   "source": [
    "train_null =get_nullframe(train)\n",
    "train_null"
   ]
  },
  {
   "cell_type": "code",
   "execution_count": 11,
   "metadata": {},
   "outputs": [
    {
     "data": {
      "text/html": [
       "<div>\n",
       "<style scoped>\n",
       "    .dataframe tbody tr th:only-of-type {\n",
       "        vertical-align: middle;\n",
       "    }\n",
       "\n",
       "    .dataframe tbody tr th {\n",
       "        vertical-align: top;\n",
       "    }\n",
       "\n",
       "    .dataframe thead th {\n",
       "        text-align: right;\n",
       "    }\n",
       "</style>\n",
       "<table border=\"1\" class=\"dataframe\">\n",
       "  <thead>\n",
       "    <tr style=\"text-align: right;\">\n",
       "      <th></th>\n",
       "      <th>feature</th>\n",
       "      <th>count</th>\n",
       "      <th>null_percent</th>\n",
       "    </tr>\n",
       "  </thead>\n",
       "  <tbody>\n",
       "    <tr>\n",
       "      <th>5</th>\n",
       "      <td>Credit_History</td>\n",
       "      <td>29</td>\n",
       "      <td>7.9019</td>\n",
       "    </tr>\n",
       "    <tr>\n",
       "      <th>2</th>\n",
       "      <td>Self_Employed</td>\n",
       "      <td>23</td>\n",
       "      <td>6.2670</td>\n",
       "    </tr>\n",
       "    <tr>\n",
       "      <th>0</th>\n",
       "      <td>Gender</td>\n",
       "      <td>11</td>\n",
       "      <td>2.9973</td>\n",
       "    </tr>\n",
       "    <tr>\n",
       "      <th>1</th>\n",
       "      <td>Dependents</td>\n",
       "      <td>10</td>\n",
       "      <td>2.7248</td>\n",
       "    </tr>\n",
       "    <tr>\n",
       "      <th>4</th>\n",
       "      <td>Loan_Amount_Term</td>\n",
       "      <td>6</td>\n",
       "      <td>1.6349</td>\n",
       "    </tr>\n",
       "    <tr>\n",
       "      <th>3</th>\n",
       "      <td>LoanAmount</td>\n",
       "      <td>5</td>\n",
       "      <td>1.3624</td>\n",
       "    </tr>\n",
       "  </tbody>\n",
       "</table>\n",
       "</div>"
      ],
      "text/plain": [
       "            feature  count  null_percent\n",
       "5    Credit_History     29        7.9019\n",
       "2     Self_Employed     23        6.2670\n",
       "0            Gender     11        2.9973\n",
       "1        Dependents     10        2.7248\n",
       "4  Loan_Amount_Term      6        1.6349\n",
       "3        LoanAmount      5        1.3624"
      ]
     },
     "execution_count": 11,
     "metadata": {},
     "output_type": "execute_result"
    }
   ],
   "source": [
    "test_null =get_nullframe(test)\n",
    "test_null"
   ]
  },
  {
   "cell_type": "code",
   "execution_count": 12,
   "metadata": {},
   "outputs": [],
   "source": [
    "#train['Credit_History_Null'] = (train['Credit_History'].isnull()) * 1\n",
    "#test['Credit_History_Null']  = (test['Credit_History'].isnull()) * 1\n",
    "\n",
    "train['Credit_History'].fillna(train['Credit_History'].mode()[0], inplace=True)\n",
    "test['Credit_History'].fillna(test['Credit_History'].mode()[0], inplace=True)\n",
    "train['Self_Employed'].fillna(train['Self_Employed'].mode()[0], inplace=True)\n",
    "test['Self_Employed'].fillna(test['Self_Employed'].mode()[0], inplace=True)\n",
    "\n",
    "train['Dependents'].fillna(train['Dependents'].mode()[0],inplace=True)\n",
    "test['Dependents'].fillna(test['Dependents'].mode()[0],inplace=True)\n",
    "\n",
    "train['Loan_Amount_Term'].fillna(train['Loan_Amount_Term'].median(),inplace=True) \n",
    "test['Loan_Amount_Term'].fillna(test['Loan_Amount_Term'].median(),inplace=True)\n",
    "\n",
    "train['Gender'].fillna(train['Gender'].mode()[0], inplace=True)\n",
    "test['Gender'].fillna(test['Gender'].mode()[0], inplace=True)\n",
    "\n",
    "train['Married'].fillna(train['Gender'].mode()[0], inplace=True)\n",
    "test['Married'].fillna(test['Gender'].mode()[0], inplace=True)"
   ]
  },
  {
   "cell_type": "code",
   "execution_count": 13,
   "metadata": {},
   "outputs": [],
   "source": [
    "def emi_calculator(row): \n",
    "    r = 6.0 / (12 * 100) # one month interest \n",
    "    return (row['LoanAmount']*1000 * r * pow(1 + r, row['Loan_Amount_Term'])) / (pow(1 + r, row['Loan_Amount_Term']) - 1) "
   ]
  },
  {
   "cell_type": "code",
   "execution_count": 14,
   "metadata": {},
   "outputs": [],
   "source": [
    "train['Loan_Status'].replace('N', 0,inplace=True)\n",
    "train['Loan_Status'].replace('Y', 1,inplace=True)\n",
    "full_dataset =pd.concat(objs=[train, test], axis=0,sort =True).reset_index(drop=True) \n",
    "table = full_dataset.pivot_table(values='LoanAmount', index='Self_Employed' ,columns='Education', aggfunc=np.median)\n",
    "\n",
    "def fage(x):\n",
    "     return table.loc[x['Self_Employed'],x['Education']]\n",
    "\n",
    "# Replace missing values\n",
    "full_dataset['LoanAmount'].fillna(full_dataset[full_dataset['LoanAmount'].isnull()].apply(fage, axis=1), inplace=True)"
   ]
  },
  {
   "cell_type": "code",
   "execution_count": 15,
   "metadata": {},
   "outputs": [],
   "source": [
    "property_map = {'Rural':3,'Urban':1,'Semiurban':2}\n",
    "full_dataset['TotalIncome'] =  full_dataset['ApplicantIncome']+ full_dataset['CoapplicantIncome']\n",
    "full_dataset['HasCoApplicant'] = full_dataset['CoapplicantIncome'].apply(lambda x: \"Y\" if x > 0 else \"N\")\n",
    "full_dataset['EMI'] = full_dataset.apply(emi_calculator,axis=1)\n",
    "full_dataset['Balance_Income']= full_dataset['TotalIncome']-(full_dataset['EMI']) +1\n",
    "full_dataset['Balance_ApplicantIncome']= full_dataset['ApplicantIncome']-(full_dataset['EMI']) +1\n",
    "full_dataset['Married'] = (full_dataset['Married']=='Yes') * 1\n",
    "full_dataset['Gender'] = (full_dataset['Gender']=='Male') * 1\n",
    "full_dataset['Property_Area'] = full_dataset['Property_Area'].map(property_map)\n",
    "full_dataset['LoanAmount']= full_dataset['LoanAmount']\n",
    "\n",
    "full_dataset['ApplicantIncomeRatio'] = full_dataset['ApplicantIncome']/ full_dataset['LoanAmount']\n",
    "full_dataset['TotalIncomeRatio'] = full_dataset['TotalIncome']/ full_dataset['LoanAmount']\n",
    "full_dataset['Dependents'].replace(('0', '1', '2', '3+'), (0, 1, 2, 3),inplace=True)"
   ]
  },
  {
   "cell_type": "code",
   "execution_count": 16,
   "metadata": {},
   "outputs": [
    {
     "data": {
      "text/html": [
       "<div>\n",
       "<style scoped>\n",
       "    .dataframe tbody tr th:only-of-type {\n",
       "        vertical-align: middle;\n",
       "    }\n",
       "\n",
       "    .dataframe tbody tr th {\n",
       "        vertical-align: top;\n",
       "    }\n",
       "\n",
       "    .dataframe thead th {\n",
       "        text-align: right;\n",
       "    }\n",
       "</style>\n",
       "<table border=\"1\" class=\"dataframe\">\n",
       "  <thead>\n",
       "    <tr style=\"text-align: right;\">\n",
       "      <th></th>\n",
       "      <th>feature</th>\n",
       "      <th>count</th>\n",
       "      <th>null_percent</th>\n",
       "    </tr>\n",
       "  </thead>\n",
       "  <tbody>\n",
       "    <tr>\n",
       "      <th>0</th>\n",
       "      <td>Loan_Status</td>\n",
       "      <td>367</td>\n",
       "      <td>37.4108</td>\n",
       "    </tr>\n",
       "  </tbody>\n",
       "</table>\n",
       "</div>"
      ],
      "text/plain": [
       "       feature  count  null_percent\n",
       "0  Loan_Status    367       37.4108"
      ]
     },
     "execution_count": 16,
     "metadata": {},
     "output_type": "execute_result"
    }
   ],
   "source": [
    "full_dataset_null =get_nullframe(full_dataset)\n",
    "full_dataset_null"
   ]
  },
  {
   "cell_type": "code",
   "execution_count": 17,
   "metadata": {},
   "outputs": [
    {
     "data": {
      "text/html": [
       "<div>\n",
       "<style scoped>\n",
       "    .dataframe tbody tr th:only-of-type {\n",
       "        vertical-align: middle;\n",
       "    }\n",
       "\n",
       "    .dataframe tbody tr th {\n",
       "        vertical-align: top;\n",
       "    }\n",
       "\n",
       "    .dataframe thead th {\n",
       "        text-align: right;\n",
       "    }\n",
       "</style>\n",
       "<table border=\"1\" class=\"dataframe\">\n",
       "  <thead>\n",
       "    <tr style=\"text-align: right;\">\n",
       "      <th></th>\n",
       "      <th>ApplicantIncome</th>\n",
       "      <th>CoapplicantIncome</th>\n",
       "      <th>Credit_History</th>\n",
       "      <th>Dependents</th>\n",
       "      <th>Education</th>\n",
       "      <th>Gender</th>\n",
       "      <th>LoanAmount</th>\n",
       "      <th>Loan_Amount_Term</th>\n",
       "      <th>Loan_ID</th>\n",
       "      <th>Loan_Status</th>\n",
       "      <th>Married</th>\n",
       "      <th>Property_Area</th>\n",
       "      <th>Self_Employed</th>\n",
       "      <th>TotalIncome</th>\n",
       "      <th>HasCoApplicant</th>\n",
       "      <th>EMI</th>\n",
       "      <th>Balance_Income</th>\n",
       "      <th>Balance_ApplicantIncome</th>\n",
       "      <th>ApplicantIncomeRatio</th>\n",
       "      <th>TotalIncomeRatio</th>\n",
       "    </tr>\n",
       "  </thead>\n",
       "  <tbody>\n",
       "    <tr>\n",
       "      <th>0</th>\n",
       "      <td>5849</td>\n",
       "      <td>0.0</td>\n",
       "      <td>1.0</td>\n",
       "      <td>0</td>\n",
       "      <td>Graduate</td>\n",
       "      <td>1</td>\n",
       "      <td>130.0</td>\n",
       "      <td>360.0</td>\n",
       "      <td>LP001002</td>\n",
       "      <td>1.0</td>\n",
       "      <td>0</td>\n",
       "      <td>1</td>\n",
       "      <td>No</td>\n",
       "      <td>5849.0</td>\n",
       "      <td>N</td>\n",
       "      <td>779.4157</td>\n",
       "      <td>5070.5843</td>\n",
       "      <td>5070.5843</td>\n",
       "      <td>44.9923</td>\n",
       "      <td>44.9923</td>\n",
       "    </tr>\n",
       "    <tr>\n",
       "      <th>1</th>\n",
       "      <td>4583</td>\n",
       "      <td>1508.0</td>\n",
       "      <td>1.0</td>\n",
       "      <td>1</td>\n",
       "      <td>Graduate</td>\n",
       "      <td>1</td>\n",
       "      <td>128.0</td>\n",
       "      <td>360.0</td>\n",
       "      <td>LP001003</td>\n",
       "      <td>0.0</td>\n",
       "      <td>1</td>\n",
       "      <td>3</td>\n",
       "      <td>No</td>\n",
       "      <td>6091.0</td>\n",
       "      <td>Y</td>\n",
       "      <td>767.4247</td>\n",
       "      <td>5324.5753</td>\n",
       "      <td>3816.5753</td>\n",
       "      <td>35.8047</td>\n",
       "      <td>47.5859</td>\n",
       "    </tr>\n",
       "    <tr>\n",
       "      <th>2</th>\n",
       "      <td>3000</td>\n",
       "      <td>0.0</td>\n",
       "      <td>1.0</td>\n",
       "      <td>0</td>\n",
       "      <td>Graduate</td>\n",
       "      <td>1</td>\n",
       "      <td>66.0</td>\n",
       "      <td>360.0</td>\n",
       "      <td>LP001005</td>\n",
       "      <td>1.0</td>\n",
       "      <td>1</td>\n",
       "      <td>1</td>\n",
       "      <td>Yes</td>\n",
       "      <td>3000.0</td>\n",
       "      <td>N</td>\n",
       "      <td>395.7033</td>\n",
       "      <td>2605.2967</td>\n",
       "      <td>2605.2967</td>\n",
       "      <td>45.4545</td>\n",
       "      <td>45.4545</td>\n",
       "    </tr>\n",
       "    <tr>\n",
       "      <th>3</th>\n",
       "      <td>2583</td>\n",
       "      <td>2358.0</td>\n",
       "      <td>1.0</td>\n",
       "      <td>0</td>\n",
       "      <td>Not Graduate</td>\n",
       "      <td>1</td>\n",
       "      <td>120.0</td>\n",
       "      <td>360.0</td>\n",
       "      <td>LP001006</td>\n",
       "      <td>1.0</td>\n",
       "      <td>1</td>\n",
       "      <td>1</td>\n",
       "      <td>No</td>\n",
       "      <td>4941.0</td>\n",
       "      <td>Y</td>\n",
       "      <td>719.4606</td>\n",
       "      <td>4222.5394</td>\n",
       "      <td>1864.5394</td>\n",
       "      <td>21.5250</td>\n",
       "      <td>41.1750</td>\n",
       "    </tr>\n",
       "    <tr>\n",
       "      <th>4</th>\n",
       "      <td>6000</td>\n",
       "      <td>0.0</td>\n",
       "      <td>1.0</td>\n",
       "      <td>0</td>\n",
       "      <td>Graduate</td>\n",
       "      <td>1</td>\n",
       "      <td>141.0</td>\n",
       "      <td>360.0</td>\n",
       "      <td>LP001008</td>\n",
       "      <td>1.0</td>\n",
       "      <td>0</td>\n",
       "      <td>1</td>\n",
       "      <td>No</td>\n",
       "      <td>6000.0</td>\n",
       "      <td>N</td>\n",
       "      <td>845.3662</td>\n",
       "      <td>5155.6338</td>\n",
       "      <td>5155.6338</td>\n",
       "      <td>42.5532</td>\n",
       "      <td>42.5532</td>\n",
       "    </tr>\n",
       "  </tbody>\n",
       "</table>\n",
       "</div>"
      ],
      "text/plain": [
       "   ApplicantIncome  CoapplicantIncome  Credit_History  Dependents     Education  Gender  LoanAmount  Loan_Amount_Term   Loan_ID  Loan_Status  Married  Property_Area Self_Employed  TotalIncome HasCoApplicant       EMI  Balance_Income  Balance_ApplicantIncome  ApplicantIncomeRatio  TotalIncomeRatio\n",
       "0             5849                0.0             1.0           0      Graduate       1       130.0             360.0  LP001002          1.0        0              1            No       5849.0              N  779.4157       5070.5843                5070.5843               44.9923           44.9923\n",
       "1             4583             1508.0             1.0           1      Graduate       1       128.0             360.0  LP001003          0.0        1              3            No       6091.0              Y  767.4247       5324.5753                3816.5753               35.8047           47.5859\n",
       "2             3000                0.0             1.0           0      Graduate       1        66.0             360.0  LP001005          1.0        1              1           Yes       3000.0              N  395.7033       2605.2967                2605.2967               45.4545           45.4545\n",
       "3             2583             2358.0             1.0           0  Not Graduate       1       120.0             360.0  LP001006          1.0        1              1            No       4941.0              Y  719.4606       4222.5394                1864.5394               21.5250           41.1750\n",
       "4             6000                0.0             1.0           0      Graduate       1       141.0             360.0  LP001008          1.0        0              1            No       6000.0              N  845.3662       5155.6338                5155.6338               42.5532           42.5532"
      ]
     },
     "execution_count": 17,
     "metadata": {},
     "output_type": "execute_result"
    }
   ],
   "source": [
    "full_dataset.head()"
   ]
  },
  {
   "cell_type": "code",
   "execution_count": 18,
   "metadata": {},
   "outputs": [],
   "source": [
    "cat_list = [column for column in  full_dataset.columns if column not in full_dataset.describe(include=[np.number]).columns.values.tolist()]\n",
    "cat_list.remove('Loan_ID') "
   ]
  },
  {
   "cell_type": "code",
   "execution_count": 19,
   "metadata": {},
   "outputs": [
    {
     "data": {
      "image/png": "[encoded data removed]",
      "text/plain": [
       "<Figure size 576x432 with 2 Axes>"
      ]
     },
     "metadata": {},
     "output_type": "display_data"
    }
   ],
   "source": [
    "correlation = full_dataset[full_dataset['Loan_Status'].notnull()][full_dataset.describe(include=[np.number]).columns.values.tolist()].corr()\n",
    "fig = plt.figure(figsize=(8,6))\n",
    "ax = fig.add_subplot(111)\n",
    "cmap = sns.diverging_palette(220, 10, as_cmap=True)\n",
    "sns.heatmap(correlation, \n",
    "           xticklabels=correlation.columns.values,\n",
    "           yticklabels=correlation.index.values,\n",
    "           cmap=cmap)\n",
    "ax.xaxis.tick_top()\n",
    "plt.setp(ax.get_xticklabels(), rotation=90)\n",
    "plt.show()"
   ]
  },
  {
   "cell_type": "code",
   "execution_count": 20,
   "metadata": {},
   "outputs": [],
   "source": [
    "train_Id  = full_dataset[full_dataset['Loan_Status'].notnull()][\"Loan_ID\"]\n",
    "test_Id = full_dataset[full_dataset['Loan_Status'].isnull()][\"Loan_ID\"]\n",
    "full_dataset.drop(['Loan_ID','CoapplicantIncome','TotalIncome', \n",
    "                   'Balance_Income','ApplicantIncome'\n",
    "                   ],axis=1,inplace=True)\n",
    "\n",
    "full_dataset = pd.get_dummies(full_dataset, prefix_sep='_', drop_first=False)\n",
    "\n",
    "full_dataset.drop([ 'Education_Not Graduate','Self_Employed_No' ,'HasCoApplicant_N'],axis=1,inplace=True)\n",
    "\n",
    "#from datatools.customtransformers import StdScaleTransformer,RobustScaleTransformer,MinMaxTransformer,LogTransformer\n",
    "#scaler = LogTransformer(['EMI','LoanAmount'])\n",
    "#full_dataset =scaler.fit_transform(full_dataset)\n",
    "\n",
    "full_dataset['EMI'] = np.log1p(full_dataset['EMI'])\n",
    "full_dataset['LoanAmount'] = np.log1p(full_dataset['LoanAmount'])"
   ]
  },
  {
   "cell_type": "code",
   "execution_count": 21,
   "metadata": {},
   "outputs": [],
   "source": [
    "def evaluvate_model(clf ,X_trainmodel, y_trainmodel,X_val,y_val): \n",
    "    clf.fit(X_trainmodel, y_trainmodel.values.ravel())\n",
    "    train_sizes, train_scores, validation_scores = learning_curve(clf, \n",
    "                                                                  X_trainmodel,y_trainmodel.values.ravel(),cv=kfold)\n",
    "    plot_learning_curve(train_sizes, train_scores, validation_scores)\n",
    "    plot_roc(X_val,y_val,clf)\n",
    "    y_pred=measure_performance(X_val,y_val,clf, show_accuracy=False, \n",
    "                               show_classification_report=True,\n",
    "                               show_confusion_matrix=True, show_r2_score=False)\n"
   ]
  },
  {
   "cell_type": "code",
   "execution_count": 22,
   "metadata": {},
   "outputs": [],
   "source": [
    "train_X = full_dataset[full_dataset['Loan_Status'].notnull()] \n",
    "test_X = full_dataset[full_dataset['Loan_Status'].isnull()]  \n",
    "train_y= full_dataset[full_dataset['Loan_Status'].notnull()]['Loan_Status']\n",
    "train_X.drop(['Loan_Status'],axis=1,inplace=True)\n",
    "test_X.drop(['Loan_Status'],axis=1,inplace=True)"
   ]
  },
  {
   "cell_type": "code",
   "execution_count": 23,
   "metadata": {},
   "outputs": [
    {
     "name": "stdout",
     "output_type": "stream",
     "text": [
      "(614, 14)\n",
      "(367, 14)\n"
     ]
    }
   ],
   "source": [
    "from sklearn.model_selection import train_test_split\n",
    "print(train_X.shape)\n",
    "print(test_X.shape)\n",
    "test_size = 0.25\n",
    "seed = 42\n",
    "X_trainmodel, X_val, y_trainmodel, y_val = train_test_split(train_X, train_y, test_size=test_size,random_state=1)\n",
    "kfold = StratifiedKFold(n_splits=5)"
   ]
  },
  {
   "cell_type": "code",
   "execution_count": 24,
   "metadata": {},
   "outputs": [
    {
     "name": "stdout",
     "output_type": "stream",
     "text": [
      "Accuracy: 89.130\n"
     ]
    },
    {
     "data": {
      "image/png": "[encoded data removed]",
      "text/plain": [
       "<Figure size 432x288 with 1 Axes>"
      ]
     },
     "metadata": {},
     "output_type": "display_data"
    },
    {
     "name": "stdout",
     "output_type": "stream",
     "text": [
      "XGBClassifier(base_score=0.5, booster='gbtree', colsample_bylevel=1,\n",
      "       colsample_bytree=1, gamma=0, learning_rate=0.1, max_delta_step=0,\n",
      "       max_depth=3, min_child_weight=1, missing=None, n_estimators=100,\n",
      "       n_jobs=1, nthread=None, objective='binary:logistic', random_state=0,\n",
      "       reg_alpha=0, reg_lambda=1, scale_pos_weight=1, seed=None,\n",
      "       silent=False, subsample=1)\n"
     ]
    },
    {
     "data": {
      "image/png": "[encoded data removed]",
      "text/plain": [
       "<Figure size 432x288 with 1 Axes>"
      ]
     },
     "metadata": {},
     "output_type": "display_data"
    }
   ],
   "source": [
    "from xgboost.sklearn import XGBClassifier\n",
    "\n",
    "xgbr = XGBClassifier(n_estimators=100, silent=False)\n",
    "xgbr.fit(X_trainmodel ,y_trainmodel.values.ravel())\n",
    "\n",
    "warnings.filterwarnings(\"ignore\", category=DeprecationWarning) \n",
    "\n",
    "best_model ,result = test_classifier(xgbr,X_trainmodel,y_trainmodel,kfold)\n",
    "print(best_model)\n",
    "plot_roc(X_val,y_val,best_model)"
   ]
  },
  {
   "cell_type": "code",
   "execution_count": 25,
   "metadata": {},
   "outputs": [
    {
     "data": {
      "image/png": "[encoded data removed]",
      "text/plain": [
       "<Figure size 432x288 with 1 Axes>"
      ]
     },
     "metadata": {},
     "output_type": "display_data"
    },
    {
     "data": {
      "image/png": "[encoded data removed]",
      "text/plain": [
       "<Figure size 432x288 with 1 Axes>"
      ]
     },
     "metadata": {},
     "output_type": "display_data"
    },
    {
     "name": "stdout",
     "output_type": "stream",
     "text": [
      "Classification report\n",
      "              precision    recall  f1-score   support\n",
      "\n",
      "         0.0       0.85      0.45      0.59        49\n",
      "         1.0       0.79      0.96      0.87       105\n",
      "\n",
      "   micro avg       0.80      0.80      0.80       154\n",
      "   macro avg       0.82      0.71      0.73       154\n",
      "weighted avg       0.81      0.80      0.78       154\n",
      "\n",
      "Confusion matrix\n",
      "[[ 22  27]\n",
      " [  4 101]]\n"
     ]
    }
   ],
   "source": [
    "warnings.filterwarnings(\"ignore\", category=DeprecationWarning) \n",
    "evaluvate_model(xgbr,X_trainmodel, y_trainmodel,X_val,y_val)"
   ]
  },
  {
   "cell_type": "code",
   "execution_count": 26,
   "metadata": {},
   "outputs": [],
   "source": [
    "def calc_accuracy(predictions, y_test):\n",
    "    labels = y_test.get_label()\n",
    "    return 'accuracy_score', (1 - sum(labels != predictions)/len(labels))"
   ]
  },
  {
   "cell_type": "code",
   "execution_count": 27,
   "metadata": {},
   "outputs": [],
   "source": [
    "import xgboost as xgb"
   ]
  },
  {
   "cell_type": "code",
   "execution_count": 28,
   "metadata": {},
   "outputs": [],
   "source": [
    "params = {\"objective\": \"multi:softmax\",\n",
    "          'num_class': 2,\n",
    "          \"booster\" : \"gbtree\",\n",
    "          'learning_rate': 0.1,\n",
    "          \"max_depth\": 3,\n",
    "          \"subsample\": 0.7,\n",
    "          'colsample_bylevel': 1,\n",
    "          'gamma': 0,\n",
    "          'min_child_weight': 1,\n",
    "          \"silent\": 1,\n",
    "          }\n",
    "\n",
    "num_boost_round =60"
   ]
  },
  {
   "cell_type": "code",
   "execution_count": 29,
   "metadata": {
    "scrolled": false
   },
   "outputs": [
    {
     "name": "stdout",
     "output_type": "stream",
     "text": [
      "Train a XGBoost model\n",
      "[0]\ttrain-merror:0.171739\teval-merror:0.201299\ttrain-accuracy_score:0.828261\teval-accuracy_score:0.798701\n",
      "Multiple eval metrics have been passed: 'eval-accuracy_score' will be used for early stopping.\n",
      "\n",
      "Will train until eval-accuracy_score hasn't improved in 50 rounds.\n",
      "[1]\ttrain-merror:0.169565\teval-merror:0.194805\ttrain-accuracy_score:0.830435\teval-accuracy_score:0.805195\n",
      "[2]\ttrain-merror:0.167391\teval-merror:0.194805\ttrain-accuracy_score:0.832609\teval-accuracy_score:0.805195\n",
      "[3]\ttrain-merror:0.167391\teval-merror:0.194805\ttrain-accuracy_score:0.832609\teval-accuracy_score:0.805195\n",
      "[4]\ttrain-merror:0.171739\teval-merror:0.201299\ttrain-accuracy_score:0.828261\teval-accuracy_score:0.798701\n",
      "[5]\ttrain-merror:0.171739\teval-merror:0.201299\ttrain-accuracy_score:0.828261\teval-accuracy_score:0.798701\n",
      "[6]\ttrain-merror:0.171739\teval-merror:0.201299\ttrain-accuracy_score:0.828261\teval-accuracy_score:0.798701\n",
      "[7]\ttrain-merror:0.167391\teval-merror:0.201299\ttrain-accuracy_score:0.832609\teval-accuracy_score:0.798701\n",
      "[8]\ttrain-merror:0.167391\teval-merror:0.201299\ttrain-accuracy_score:0.832609\teval-accuracy_score:0.798701\n",
      "[9]\ttrain-merror:0.167391\teval-merror:0.201299\ttrain-accuracy_score:0.832609\teval-accuracy_score:0.798701\n",
      "[10]\ttrain-merror:0.165217\teval-merror:0.194805\ttrain-accuracy_score:0.834783\teval-accuracy_score:0.805195\n",
      "[11]\ttrain-merror:0.167391\teval-merror:0.201299\ttrain-accuracy_score:0.832609\teval-accuracy_score:0.798701\n",
      "[12]\ttrain-merror:0.169565\teval-merror:0.201299\ttrain-accuracy_score:0.830435\teval-accuracy_score:0.798701\n",
      "[13]\ttrain-merror:0.169565\teval-merror:0.201299\ttrain-accuracy_score:0.830435\teval-accuracy_score:0.798701\n",
      "[14]\ttrain-merror:0.169565\teval-merror:0.201299\ttrain-accuracy_score:0.830435\teval-accuracy_score:0.798701\n",
      "[15]\ttrain-merror:0.169565\teval-merror:0.201299\ttrain-accuracy_score:0.830435\teval-accuracy_score:0.798701\n",
      "[16]\ttrain-merror:0.167391\teval-merror:0.201299\ttrain-accuracy_score:0.832609\teval-accuracy_score:0.798701\n",
      "[17]\ttrain-merror:0.169565\teval-merror:0.201299\ttrain-accuracy_score:0.830435\teval-accuracy_score:0.798701\n",
      "[18]\ttrain-merror:0.167391\teval-merror:0.201299\ttrain-accuracy_score:0.832609\teval-accuracy_score:0.798701\n",
      "[19]\ttrain-merror:0.167391\teval-merror:0.201299\ttrain-accuracy_score:0.832609\teval-accuracy_score:0.798701\n",
      "[20]\ttrain-merror:0.167391\teval-merror:0.201299\ttrain-accuracy_score:0.832609\teval-accuracy_score:0.798701\n",
      "[21]\ttrain-merror:0.167391\teval-merror:0.201299\ttrain-accuracy_score:0.832609\teval-accuracy_score:0.798701\n",
      "[22]\ttrain-merror:0.165217\teval-merror:0.201299\ttrain-accuracy_score:0.834783\teval-accuracy_score:0.798701\n",
      "[23]\ttrain-merror:0.165217\teval-merror:0.201299\ttrain-accuracy_score:0.834783\teval-accuracy_score:0.798701\n",
      "[24]\ttrain-merror:0.165217\teval-merror:0.201299\ttrain-accuracy_score:0.834783\teval-accuracy_score:0.798701\n",
      "[25]\ttrain-merror:0.165217\teval-merror:0.201299\ttrain-accuracy_score:0.834783\teval-accuracy_score:0.798701\n",
      "[26]\ttrain-merror:0.165217\teval-merror:0.201299\ttrain-accuracy_score:0.834783\teval-accuracy_score:0.798701\n",
      "[27]\ttrain-merror:0.16087\teval-merror:0.201299\ttrain-accuracy_score:0.83913\teval-accuracy_score:0.798701\n",
      "[28]\ttrain-merror:0.16087\teval-merror:0.201299\ttrain-accuracy_score:0.83913\teval-accuracy_score:0.798701\n",
      "[29]\ttrain-merror:0.158696\teval-merror:0.201299\ttrain-accuracy_score:0.841304\teval-accuracy_score:0.798701\n",
      "[30]\ttrain-merror:0.158696\teval-merror:0.201299\ttrain-accuracy_score:0.841304\teval-accuracy_score:0.798701\n",
      "[31]\ttrain-merror:0.158696\teval-merror:0.201299\ttrain-accuracy_score:0.841304\teval-accuracy_score:0.798701\n",
      "[32]\ttrain-merror:0.156522\teval-merror:0.201299\ttrain-accuracy_score:0.843478\teval-accuracy_score:0.798701\n",
      "[33]\ttrain-merror:0.156522\teval-merror:0.201299\ttrain-accuracy_score:0.843478\teval-accuracy_score:0.798701\n",
      "[34]\ttrain-merror:0.154348\teval-merror:0.201299\ttrain-accuracy_score:0.845652\teval-accuracy_score:0.798701\n",
      "[35]\ttrain-merror:0.152174\teval-merror:0.201299\ttrain-accuracy_score:0.847826\teval-accuracy_score:0.798701\n",
      "[36]\ttrain-merror:0.152174\teval-merror:0.194805\ttrain-accuracy_score:0.847826\teval-accuracy_score:0.805195\n",
      "[37]\ttrain-merror:0.15\teval-merror:0.194805\ttrain-accuracy_score:0.85\teval-accuracy_score:0.805195\n",
      "[38]\ttrain-merror:0.152174\teval-merror:0.194805\ttrain-accuracy_score:0.847826\teval-accuracy_score:0.805195\n",
      "[39]\ttrain-merror:0.15\teval-merror:0.194805\ttrain-accuracy_score:0.85\teval-accuracy_score:0.805195\n",
      "[40]\ttrain-merror:0.152174\teval-merror:0.194805\ttrain-accuracy_score:0.847826\teval-accuracy_score:0.805195\n",
      "[41]\ttrain-merror:0.152174\teval-merror:0.194805\ttrain-accuracy_score:0.847826\teval-accuracy_score:0.805195\n",
      "[42]\ttrain-merror:0.152174\teval-merror:0.194805\ttrain-accuracy_score:0.847826\teval-accuracy_score:0.805195\n",
      "[43]\ttrain-merror:0.152174\teval-merror:0.194805\ttrain-accuracy_score:0.847826\teval-accuracy_score:0.805195\n",
      "[44]\ttrain-merror:0.147826\teval-merror:0.194805\ttrain-accuracy_score:0.852174\teval-accuracy_score:0.805195\n",
      "[45]\ttrain-merror:0.145652\teval-merror:0.194805\ttrain-accuracy_score:0.854348\teval-accuracy_score:0.805195\n",
      "[46]\ttrain-merror:0.147826\teval-merror:0.194805\ttrain-accuracy_score:0.852174\teval-accuracy_score:0.805195\n",
      "[47]\ttrain-merror:0.145652\teval-merror:0.194805\ttrain-accuracy_score:0.854348\teval-accuracy_score:0.805195\n",
      "[48]\ttrain-merror:0.143478\teval-merror:0.194805\ttrain-accuracy_score:0.856522\teval-accuracy_score:0.805195\n",
      "[49]\ttrain-merror:0.143478\teval-merror:0.194805\ttrain-accuracy_score:0.856522\teval-accuracy_score:0.805195\n",
      "[50]\ttrain-merror:0.143478\teval-merror:0.201299\ttrain-accuracy_score:0.856522\teval-accuracy_score:0.798701\n",
      "[51]\ttrain-merror:0.141304\teval-merror:0.194805\ttrain-accuracy_score:0.858696\teval-accuracy_score:0.805195\n",
      "Stopping. Best iteration:\n",
      "[1]\ttrain-merror:0.169565\teval-merror:0.194805\ttrain-accuracy_score:0.830435\teval-accuracy_score:0.805195\n",
      "\n"
     ]
    }
   ],
   "source": [
    "print(\"Train a XGBoost model\")\n",
    "dtrain = xgb.DMatrix(X_trainmodel, y_trainmodel)\n",
    "dvalid = xgb.DMatrix(X_val, y_val)\n",
    "\n",
    "watchlist = [(dtrain, 'train'), (dvalid, 'eval')]\n",
    "gbm = xgb.train(params, dtrain, num_boost_round, watchlist,\n",
    "                feval=calc_accuracy, maximize=True, early_stopping_rounds=50, verbose_eval=True)"
   ]
  },
  {
   "cell_type": "code",
   "execution_count": 30,
   "metadata": {},
   "outputs": [
    {
     "data": {
      "text/plain": [
       "Text(0.5,0,'relative importance')"
      ]
     },
     "execution_count": 30,
     "metadata": {},
     "output_type": "execute_result"
    },
    {
     "data": {
      "image/png": "[encoded data removed]",
      "text/plain": [
       "<Figure size 432x288 with 1 Axes>"
      ]
     },
     "metadata": {},
     "output_type": "display_data"
    }
   ],
   "source": [
    "def create_feature_map(features):\n",
    "    outfile = open('xgb.fmap', 'w')\n",
    "    i = 0\n",
    "    for feat in features:\n",
    "        outfile.write('{0}\\t{1}\\tq\\n'.format(i, feat))\n",
    "        i = i + 1\n",
    "    outfile.close()\n",
    "\n",
    "import operator\n",
    "create_feature_map(X_trainmodel)\n",
    "\n",
    "importance = gbm.get_fscore(fmap='xgb.fmap')\n",
    "importance = sorted(importance.items(), key=operator.itemgetter(1))\n",
    "\n",
    "df_importances = pd.DataFrame(importance, columns=['feature', 'fscore'])\n",
    "df_importances['fscore'] = df_importances['fscore'] / df_importances['fscore'].sum()\n",
    "\n",
    "df_importances.plot(kind='barh', x='feature', y='fscore')\n",
    "plt.title('XGBoost Feature Importance')\n",
    "plt.xlabel('relative importance')"
   ]
  },
  {
   "cell_type": "code",
   "execution_count": 31,
   "metadata": {},
   "outputs": [],
   "source": [
    "test_y  =gbm.predict(xgb.DMatrix(test_X))"
   ]
  },
  {
   "cell_type": "code",
   "execution_count": 32,
   "metadata": {},
   "outputs": [],
   "source": [
    "submission =pd.DataFrame({'Loan_ID':test_Id.values ,'Loan_Status':test_y}) \n",
    "submission['Loan_Status'].replace(0, 'N',inplace=True)\n",
    "submission['Loan_Status'].replace(1, 'Y',inplace=True)\n",
    "import datetime\n",
    "FORMAT = '%Y%m%d%H%M%S'\n",
    "timestamp=datetime.datetime.now().strftime(FORMAT)\n",
    "filename =\"LoanAV_XgBooost\"+timestamp+\"_out.csv\""
   ]
  },
  {
   "cell_type": "code",
   "execution_count": 33,
   "metadata": {},
   "outputs": [],
   "source": [
    "#submission.to_csv(filename)"
   ]
  },
  {
   "cell_type": "code",
   "execution_count": 53,
   "metadata": {},
   "outputs": [
    {
     "name": "stdout",
     "output_type": "stream",
     "text": [
      "Fitting 10 folds for each of 100 candidates, totalling 1000 fits\n"
     ]
    },
    {
     "name": "stderr",
     "output_type": "stream",
     "text": [
      "[Parallel(n_jobs=-1)]: Using backend LokyBackend with 4 concurrent workers.\n",
      "[Parallel(n_jobs=-1)]: Done  76 tasks      | elapsed:    4.8s\n",
      "[Parallel(n_jobs=-1)]: Done 260 tasks      | elapsed:   27.1s\n",
      "[Parallel(n_jobs=-1)]: Done 510 tasks      | elapsed:  1.2min\n",
      "[Parallel(n_jobs=-1)]: Done 860 tasks      | elapsed:  2.2min\n",
      "[Parallel(n_jobs=-1)]: Done 1000 out of 1000 | elapsed:  2.6min finished\n"
     ]
    }
   ],
   "source": [
    "xgb_clf = XGBClassifier(n_estimators=100, silent=False)\n",
    "n_estimators = [10,20,30,40,50]\n",
    "max_depth = [2, 4, 6, 8,10]\n",
    "subsample=[0.2,0.4,0.6,0.8]\n",
    "param_grid = dict(max_depth=max_depth, n_estimators=n_estimators,subsample=subsample)\n",
    "kfold = StratifiedKFold(n_splits=10, shuffle=True, random_state=7)\n",
    "grid_search = GridSearchCV(xgb_clf, param_grid, scoring=\"neg_log_loss\", n_jobs=-1, cv=kfold, verbose=1)\n",
    "grid_result = grid_search.fit(X_trainmodel ,y_trainmodel.values.ravel())"
   ]
  },
  {
   "cell_type": "code",
   "execution_count": 54,
   "metadata": {},
   "outputs": [
    {
     "name": "stdout",
     "output_type": "stream",
     "text": [
      "Best: -0.460461 using {'max_depth': 2, 'n_estimators': 50, 'subsample': 0.6}\n",
      "-0.517814 (0.028676) with: {'max_depth': 2, 'n_estimators': 10, 'subsample': 0.2}\n",
      "-0.505343 (0.037280) with: {'max_depth': 2, 'n_estimators': 10, 'subsample': 0.4}\n",
      "-0.501985 (0.039243) with: {'max_depth': 2, 'n_estimators': 10, 'subsample': 0.6}\n",
      "-0.498827 (0.041255) with: {'max_depth': 2, 'n_estimators': 10, 'subsample': 0.8}\n",
      "-0.485184 (0.045276) with: {'max_depth': 2, 'n_estimators': 20, 'subsample': 0.2}\n",
      "-0.475706 (0.053954) with: {'max_depth': 2, 'n_estimators': 20, 'subsample': 0.4}\n",
      "-0.471022 (0.056369) with: {'max_depth': 2, 'n_estimators': 20, 'subsample': 0.6}\n",
      "-0.470181 (0.062029) with: {'max_depth': 2, 'n_estimators': 20, 'subsample': 0.8}\n",
      "-0.483992 (0.051496) with: {'max_depth': 2, 'n_estimators': 30, 'subsample': 0.2}\n",
      "-0.465648 (0.056626) with: {'max_depth': 2, 'n_estimators': 30, 'subsample': 0.4}\n",
      "-0.461619 (0.062585) with: {'max_depth': 2, 'n_estimators': 30, 'subsample': 0.6}\n",
      "-0.466009 (0.068261) with: {'max_depth': 2, 'n_estimators': 30, 'subsample': 0.8}\n",
      "-0.480989 (0.047591) with: {'max_depth': 2, 'n_estimators': 40, 'subsample': 0.2}\n",
      "-0.468243 (0.060495) with: {'max_depth': 2, 'n_estimators': 40, 'subsample': 0.4}\n",
      "-0.462364 (0.065774) with: {'max_depth': 2, 'n_estimators': 40, 'subsample': 0.6}\n",
      "-0.463538 (0.072827) with: {'max_depth': 2, 'n_estimators': 40, 'subsample': 0.8}\n",
      "-0.479365 (0.049515) with: {'max_depth': 2, 'n_estimators': 50, 'subsample': 0.2}\n",
      "-0.468036 (0.062916) with: {'max_depth': 2, 'n_estimators': 50, 'subsample': 0.4}\n",
      "-0.460461 (0.071367) with: {'max_depth': 2, 'n_estimators': 50, 'subsample': 0.6}\n",
      "-0.465353 (0.077859) with: {'max_depth': 2, 'n_estimators': 50, 'subsample': 0.8}\n",
      "-0.520298 (0.026641) with: {'max_depth': 4, 'n_estimators': 10, 'subsample': 0.2}\n",
      "-0.503620 (0.034877) with: {'max_depth': 4, 'n_estimators': 10, 'subsample': 0.4}\n",
      "-0.500589 (0.036712) with: {'max_depth': 4, 'n_estimators': 10, 'subsample': 0.6}\n",
      "-0.499477 (0.041475) with: {'max_depth': 4, 'n_estimators': 10, 'subsample': 0.8}\n",
      "-0.488932 (0.046485) with: {'max_depth': 4, 'n_estimators': 20, 'subsample': 0.2}\n",
      "-0.472095 (0.049904) with: {'max_depth': 4, 'n_estimators': 20, 'subsample': 0.4}\n",
      "-0.468605 (0.053952) with: {'max_depth': 4, 'n_estimators': 20, 'subsample': 0.6}\n",
      "-0.465991 (0.060961) with: {'max_depth': 4, 'n_estimators': 20, 'subsample': 0.8}\n",
      "-0.482784 (0.054164) with: {'max_depth': 4, 'n_estimators': 30, 'subsample': 0.2}\n",
      "-0.469575 (0.055415) with: {'max_depth': 4, 'n_estimators': 30, 'subsample': 0.4}\n",
      "-0.461884 (0.058549) with: {'max_depth': 4, 'n_estimators': 30, 'subsample': 0.6}\n",
      "-0.466786 (0.068156) with: {'max_depth': 4, 'n_estimators': 30, 'subsample': 0.8}\n",
      "-0.480520 (0.053167) with: {'max_depth': 4, 'n_estimators': 40, 'subsample': 0.2}\n",
      "-0.473272 (0.057958) with: {'max_depth': 4, 'n_estimators': 40, 'subsample': 0.4}\n",
      "-0.466613 (0.065917) with: {'max_depth': 4, 'n_estimators': 40, 'subsample': 0.6}\n",
      "-0.468651 (0.073212) with: {'max_depth': 4, 'n_estimators': 40, 'subsample': 0.8}\n",
      "-0.488514 (0.058925) with: {'max_depth': 4, 'n_estimators': 50, 'subsample': 0.2}\n",
      "-0.480944 (0.067183) with: {'max_depth': 4, 'n_estimators': 50, 'subsample': 0.4}\n",
      "-0.469607 (0.073516) with: {'max_depth': 4, 'n_estimators': 50, 'subsample': 0.6}\n",
      "-0.473905 (0.079973) with: {'max_depth': 4, 'n_estimators': 50, 'subsample': 0.8}\n",
      "-0.521673 (0.024624) with: {'max_depth': 6, 'n_estimators': 10, 'subsample': 0.2}\n",
      "-0.510067 (0.040871) with: {'max_depth': 6, 'n_estimators': 10, 'subsample': 0.4}\n",
      "-0.501102 (0.032327) with: {'max_depth': 6, 'n_estimators': 10, 'subsample': 0.6}\n",
      "-0.494595 (0.041928) with: {'max_depth': 6, 'n_estimators': 10, 'subsample': 0.8}\n",
      "-0.490435 (0.048586) with: {'max_depth': 6, 'n_estimators': 20, 'subsample': 0.2}\n",
      "-0.474357 (0.054234) with: {'max_depth': 6, 'n_estimators': 20, 'subsample': 0.4}\n",
      "-0.469079 (0.049509) with: {'max_depth': 6, 'n_estimators': 20, 'subsample': 0.6}\n",
      "-0.460773 (0.063344) with: {'max_depth': 6, 'n_estimators': 20, 'subsample': 0.8}\n",
      "-0.484183 (0.058195) with: {'max_depth': 6, 'n_estimators': 30, 'subsample': 0.2}\n",
      "-0.469171 (0.059284) with: {'max_depth': 6, 'n_estimators': 30, 'subsample': 0.4}\n",
      "-0.466379 (0.060913) with: {'max_depth': 6, 'n_estimators': 30, 'subsample': 0.6}\n",
      "-0.461571 (0.074136) with: {'max_depth': 6, 'n_estimators': 30, 'subsample': 0.8}\n",
      "-0.480917 (0.059925) with: {'max_depth': 6, 'n_estimators': 40, 'subsample': 0.2}\n",
      "-0.477430 (0.063885) with: {'max_depth': 6, 'n_estimators': 40, 'subsample': 0.4}\n",
      "-0.474777 (0.070486) with: {'max_depth': 6, 'n_estimators': 40, 'subsample': 0.6}\n",
      "-0.474292 (0.079428) with: {'max_depth': 6, 'n_estimators': 40, 'subsample': 0.8}\n",
      "-0.487608 (0.064544) with: {'max_depth': 6, 'n_estimators': 50, 'subsample': 0.2}\n",
      "-0.488637 (0.068475) with: {'max_depth': 6, 'n_estimators': 50, 'subsample': 0.4}\n",
      "-0.480834 (0.080183) with: {'max_depth': 6, 'n_estimators': 50, 'subsample': 0.6}\n",
      "-0.488773 (0.083312) with: {'max_depth': 6, 'n_estimators': 50, 'subsample': 0.8}\n",
      "-0.521677 (0.024647) with: {'max_depth': 8, 'n_estimators': 10, 'subsample': 0.2}\n",
      "-0.507778 (0.037815) with: {'max_depth': 8, 'n_estimators': 10, 'subsample': 0.4}\n",
      "-0.504821 (0.033341) with: {'max_depth': 8, 'n_estimators': 10, 'subsample': 0.6}\n",
      "-0.497538 (0.044568) with: {'max_depth': 8, 'n_estimators': 10, 'subsample': 0.8}\n",
      "-0.490065 (0.049249) with: {'max_depth': 8, 'n_estimators': 20, 'subsample': 0.2}\n",
      "-0.472970 (0.053995) with: {'max_depth': 8, 'n_estimators': 20, 'subsample': 0.4}\n",
      "-0.472385 (0.052296) with: {'max_depth': 8, 'n_estimators': 20, 'subsample': 0.6}\n",
      "-0.467333 (0.064834) with: {'max_depth': 8, 'n_estimators': 20, 'subsample': 0.8}\n",
      "-0.483004 (0.059762) with: {'max_depth': 8, 'n_estimators': 30, 'subsample': 0.2}\n",
      "-0.470986 (0.056880) with: {'max_depth': 8, 'n_estimators': 30, 'subsample': 0.4}\n",
      "-0.471911 (0.065807) with: {'max_depth': 8, 'n_estimators': 30, 'subsample': 0.6}\n",
      "-0.466686 (0.073560) with: {'max_depth': 8, 'n_estimators': 30, 'subsample': 0.8}\n",
      "-0.478806 (0.062502) with: {'max_depth': 8, 'n_estimators': 40, 'subsample': 0.2}\n",
      "-0.480381 (0.067544) with: {'max_depth': 8, 'n_estimators': 40, 'subsample': 0.4}\n",
      "-0.481560 (0.077041) with: {'max_depth': 8, 'n_estimators': 40, 'subsample': 0.6}\n",
      "-0.479141 (0.077788) with: {'max_depth': 8, 'n_estimators': 40, 'subsample': 0.8}\n",
      "-0.484576 (0.068354) with: {'max_depth': 8, 'n_estimators': 50, 'subsample': 0.2}\n",
      "-0.485938 (0.076568) with: {'max_depth': 8, 'n_estimators': 50, 'subsample': 0.4}\n",
      "-0.491072 (0.084036) with: {'max_depth': 8, 'n_estimators': 50, 'subsample': 0.6}\n",
      "-0.495937 (0.082080) with: {'max_depth': 8, 'n_estimators': 50, 'subsample': 0.8}\n",
      "-0.521677 (0.024647) with: {'max_depth': 10, 'n_estimators': 10, 'subsample': 0.2}\n",
      "-0.508032 (0.037265) with: {'max_depth': 10, 'n_estimators': 10, 'subsample': 0.4}\n",
      "-0.505690 (0.033628) with: {'max_depth': 10, 'n_estimators': 10, 'subsample': 0.6}\n",
      "-0.502257 (0.044272) with: {'max_depth': 10, 'n_estimators': 10, 'subsample': 0.8}\n",
      "-0.490065 (0.049249) with: {'max_depth': 10, 'n_estimators': 20, 'subsample': 0.2}\n",
      "-0.472139 (0.053360) with: {'max_depth': 10, 'n_estimators': 20, 'subsample': 0.4}\n",
      "-0.473994 (0.052683) with: {'max_depth': 10, 'n_estimators': 20, 'subsample': 0.6}\n",
      "-0.471859 (0.066491) with: {'max_depth': 10, 'n_estimators': 20, 'subsample': 0.8}\n",
      "-0.483004 (0.059762) with: {'max_depth': 10, 'n_estimators': 30, 'subsample': 0.2}\n",
      "-0.471037 (0.056840) with: {'max_depth': 10, 'n_estimators': 30, 'subsample': 0.4}\n",
      "-0.477259 (0.068962) with: {'max_depth': 10, 'n_estimators': 30, 'subsample': 0.6}\n",
      "-0.476120 (0.077913) with: {'max_depth': 10, 'n_estimators': 30, 'subsample': 0.8}\n",
      "-0.478806 (0.062502) with: {'max_depth': 10, 'n_estimators': 40, 'subsample': 0.2}\n",
      "-0.478701 (0.065694) with: {'max_depth': 10, 'n_estimators': 40, 'subsample': 0.4}\n",
      "-0.484302 (0.077835) with: {'max_depth': 10, 'n_estimators': 40, 'subsample': 0.6}\n",
      "-0.485384 (0.081934) with: {'max_depth': 10, 'n_estimators': 40, 'subsample': 0.8}\n",
      "-0.484576 (0.068354) with: {'max_depth': 10, 'n_estimators': 50, 'subsample': 0.2}\n",
      "-0.484499 (0.071486) with: {'max_depth': 10, 'n_estimators': 50, 'subsample': 0.4}\n",
      "-0.491672 (0.085976) with: {'max_depth': 10, 'n_estimators': 50, 'subsample': 0.6}\n",
      "-0.504700 (0.087816) with: {'max_depth': 10, 'n_estimators': 50, 'subsample': 0.8}\n"
     ]
    }
   ],
   "source": [
    "\n",
    "# summarize results\n",
    "print(\"Best: %f using %s\" % (grid_result.best_score_, grid_result.best_params_))\n",
    "means = grid_result.cv_results_['mean_test_score']\n",
    "stds = grid_result.cv_results_['std_test_score']\n",
    "params = grid_result.cv_results_['params']\n",
    "for mean, stdev, param in zip(means, stds, params):\n",
    "    print(\"%f (%f) with: %r\" % (mean, stdev, param))"
   ]
  },
  {
   "cell_type": "code",
   "execution_count": 56,
   "metadata": {},
   "outputs": [
    {
     "name": "stdout",
     "output_type": "stream",
     "text": [
      "XGBClassifier(base_score=0.5, booster='gbtree', colsample_bylevel=1,\n",
      "       colsample_bytree=1, gamma=0, learning_rate=0.1, max_delta_step=0,\n",
      "       max_depth=2, min_child_weight=1, missing=None, n_estimators=50,\n",
      "       n_jobs=1, nthread=None, objective='binary:logistic', random_state=0,\n",
      "       reg_alpha=0, reg_lambda=1, scale_pos_weight=1, seed=None,\n",
      "       silent=False, subsample=0.6)\n"
     ]
    }
   ],
   "source": [
    "best_estimator =grid_result.best_estimator_\n",
    "print(best_estimator)"
   ]
  },
  {
   "cell_type": "code",
   "execution_count": 57,
   "metadata": {},
   "outputs": [
    {
     "name": "stdout",
     "output_type": "stream",
     "text": [
      "Fitting 10 folds for each of 16 candidates, totalling 160 fits\n"
     ]
    },
    {
     "name": "stderr",
     "output_type": "stream",
     "text": [
      "[Parallel(n_jobs=-1)]: Using backend LokyBackend with 4 concurrent workers.\n",
      "[Parallel(n_jobs=-1)]: Done  42 tasks      | elapsed:   11.2s\n",
      "[Parallel(n_jobs=-1)]: Done 160 out of 160 | elapsed:   25.7s finished\n"
     ]
    }
   ],
   "source": [
    "colsample_bytree=[0.2,0.4,0.6,0.8]\n",
    "colsample_bylevel=[0.2,0.4,0.6,0.8]\n",
    "param_grid = dict(colsample_bylevel=colsample_bylevel,colsample_bytree=colsample_bytree)\n",
    "kfold = StratifiedKFold(n_splits=10, shuffle=True, random_state=7)\n",
    "grid_search = GridSearchCV(best_estimator, param_grid, scoring=\"neg_log_loss\", n_jobs=-1, cv=kfold, verbose=1)\n",
    "grid_result = grid_search.fit(X_trainmodel ,y_trainmodel.values.ravel())"
   ]
  },
  {
   "cell_type": "code",
   "execution_count": 58,
   "metadata": {},
   "outputs": [
    {
     "name": "stdout",
     "output_type": "stream",
     "text": [
      "Best: -0.463037 using {'colsample_bylevel': 0.8, 'colsample_bytree': 0.8}\n",
      "-0.530133 (0.046309) with: {'colsample_bylevel': 0.2, 'colsample_bytree': 0.2}\n",
      "-0.530674 (0.043842) with: {'colsample_bylevel': 0.2, 'colsample_bytree': 0.4}\n",
      "-0.520139 (0.034768) with: {'colsample_bylevel': 0.2, 'colsample_bytree': 0.6}\n",
      "-0.495733 (0.055959) with: {'colsample_bylevel': 0.2, 'colsample_bytree': 0.8}\n",
      "-0.530133 (0.046309) with: {'colsample_bylevel': 0.4, 'colsample_bytree': 0.2}\n",
      "-0.488652 (0.048150) with: {'colsample_bylevel': 0.4, 'colsample_bytree': 0.4}\n",
      "-0.483955 (0.049520) with: {'colsample_bylevel': 0.4, 'colsample_bytree': 0.6}\n",
      "-0.470195 (0.058264) with: {'colsample_bylevel': 0.4, 'colsample_bytree': 0.8}\n",
      "-0.530133 (0.046309) with: {'colsample_bylevel': 0.6, 'colsample_bytree': 0.2}\n",
      "-0.478611 (0.052727) with: {'colsample_bylevel': 0.6, 'colsample_bytree': 0.4}\n",
      "-0.474402 (0.055560) with: {'colsample_bylevel': 0.6, 'colsample_bytree': 0.6}\n",
      "-0.470838 (0.062886) with: {'colsample_bylevel': 0.6, 'colsample_bytree': 0.8}\n",
      "-0.530133 (0.046309) with: {'colsample_bylevel': 0.8, 'colsample_bytree': 0.2}\n",
      "-0.474843 (0.053672) with: {'colsample_bylevel': 0.8, 'colsample_bytree': 0.4}\n",
      "-0.473396 (0.057277) with: {'colsample_bylevel': 0.8, 'colsample_bytree': 0.6}\n",
      "-0.463037 (0.065248) with: {'colsample_bylevel': 0.8, 'colsample_bytree': 0.8}\n"
     ]
    }
   ],
   "source": [
    "print(\"Best: %f using %s\" % (grid_result.best_score_, grid_result.best_params_))\n",
    "means = grid_result.cv_results_['mean_test_score']\n",
    "stds = grid_result.cv_results_['std_test_score']\n",
    "params = grid_result.cv_results_['params']\n",
    "for mean, stdev, param in zip(means, stds, params):\n",
    "    print(\"%f (%f) with: %r\" % (mean, stdev, param))"
   ]
  },
  {
   "cell_type": "code",
   "execution_count": 59,
   "metadata": {},
   "outputs": [],
   "source": [
    "best_estimator =grid_result.best_estimator_"
   ]
  },
  {
   "cell_type": "code",
   "execution_count": 60,
   "metadata": {},
   "outputs": [],
   "source": [
    "test_y  =best_estimator.predict(test_X)\n",
    "submission =pd.DataFrame({'Loan_ID':test_Id.values ,'Loan_Status':test_y}) \n",
    "submission['Loan_Status'].replace(0, 'N',inplace=True)\n",
    "submission['Loan_Status'].replace(1, 'Y',inplace=True)\n",
    "import datetime\n",
    "FORMAT = '%Y%m%d%H%M%S'\n",
    "timestamp=datetime.datetime.now().strftime(FORMAT)\n",
    "filename =\"LoanAV_XgBooost\"+timestamp+\"_out.csv\"\n",
    "submission.to_csv(filename)"
   ]
  },
  {
   "cell_type": "code",
   "execution_count": null,
   "metadata": {},
   "outputs": [],
   "source": []
  }
 ],
 "metadata": {
  "gist": {
   "data": {
    "description": "AnacondaProjects/MachineLearning_Handbook/Classification/LoanPrediction/AV_LoanPrediction_FinalModel.ipynb",
    "public": true
   },
   "id": ""
  },
  "kernelspec": {
   "display_name": "Python 3",
   "language": "python",
   "name": "python3"
  },
  "language_info": {
   "codemirror_mode": {
    "name": "ipython",
    "version": 3
   },
   "file_extension": ".py",
   "mimetype": "text/x-python",
   "name": "python",
   "nbconvert_exporter": "python",
   "pygments_lexer": "ipython3",
   "version": "3.6.5"
  }
 },
 "nbformat": 4,
 "nbformat_minor": 2
}
