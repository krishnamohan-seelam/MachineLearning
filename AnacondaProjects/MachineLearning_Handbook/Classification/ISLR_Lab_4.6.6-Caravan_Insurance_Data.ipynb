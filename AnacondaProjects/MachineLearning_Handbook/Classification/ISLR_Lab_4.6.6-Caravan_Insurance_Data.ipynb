{
 "cells": [
  {
   "cell_type": "markdown",
   "metadata": {},
   "source": [
    "### 4.6 Lab: Logistic Regression, LDA, QDA, and KNN\n",
    "\n",
    "#### An Application to Caravan Insurance Data\n",
    "This data set includes 85 predictors that measure demographic characteristics for 5,822 individuals.\n",
    "\n",
    "###### Features \n",
    "\n",
    "###### Response \n",
    "* Purchase- which indicates whether or not a given individual purchases a caravan insurance policy\n"
   ]
  },
  {
   "cell_type": "code",
   "execution_count": 1,
   "metadata": {
    "collapsed": true
   },
   "outputs": [],
   "source": [
    "from mlsettings.settings import load_app_config, get_datafolder_path\n",
    "from mltools.mlcommon import load_data, print_dataset_info, split_dataset, auto_scatter_simple\n",
    "\n",
    "import matplotlib.pyplot as plt\n",
    "import seaborn as sns\n",
    "import pandas as pd\n",
    "import numpy as np\n",
    "import os.path\n",
    "% matplotlib inline \n",
    "from numpy import set_printoptions\n",
    "set_printoptions(precision=4)\n",
    "pd.set_option('display.width', 120)\n",
    "pd.set_option('precision', 4)"
   ]
  },
  {
   "cell_type": "code",
   "execution_count": 2,
   "metadata": {},
   "outputs": [
    {
     "name": "stdout",
     "output_type": "stream",
     "text": [
      "{'UAT': {'ML_PATH': 'F:\\\\MachineLearning', 'ML_DATASOURCE': 'F:\\\\DataSource'}, 'REG': {'ML_PATH': 'F:\\\\MachineLearning', 'ML_DATASOURCE': 'F:\\\\DataSource'}, 'DEV': {'ML_PATH': 'F:\\\\MachineLearning', 'ML_DATASOURCE': 'F:\\\\DataSource'}, 'PRD': {'ML_PATH': 'F:\\\\MachineLearning', 'ML_DATASOURCE': 'F:\\\\DataSource'}}\n",
      "Adding F:\\MachineLearning  to system path\n",
      "Adding F:\\DataSource  to system path\n"
     ]
    }
   ],
   "source": [
    "load_app_config()\n",
    "DIRECTORY=\"islr\"\n",
    "FILENAME ='caravan.csv'\n",
    "RESPONSE=\"Purchase\"\n",
    "input_path = get_datafolder_path()"
   ]
  },
  {
   "cell_type": "code",
   "execution_count": 3,
   "metadata": {
    "collapsed": true
   },
   "outputs": [],
   "source": [
    "def load_dataset(filename=FILENAME,response=RESPONSE):\n",
    "    input_file = os.path.join(input_path, DIRECTORY, filename)\n",
    "    input_dataset = load_data(input_file)\n",
    "    print(\" input file is :{0} loaded.\".format(input_file))\n",
    "    #print(input_dataset.head())\n",
    "    \n",
    "    try:\n",
    "        continuous_vars = input_dataset.describe().columns\n",
    "        print(\"Continous Variables\")\n",
    "        print(continuous_vars)\n",
    "    except ValueError:\n",
    "        print(\"No continous variables\")\n",
    "    \n",
    "    try:\n",
    "        categorical_vars = input_dataset.describe(include=[\"object\"]).columns\n",
    "        print(\"Categorical Variables\")\n",
    "        print(categorical_vars)\n",
    "    except ValueError:\n",
    "        print(\"No categorical variables\")\n",
    "        categorical_vars = None\n",
    "    \n",
    "    response_column =  [col for col in input_dataset.columns if response in col]\n",
    "    feature_columns =  [col for col in input_dataset.columns if response not in col]\n",
    "            \n",
    "    \n",
    "    return  input_dataset,feature_columns,response_column"
   ]
  },
  {
   "cell_type": "code",
   "execution_count": 4,
   "metadata": {},
   "outputs": [
    {
     "name": "stdout",
     "output_type": "stream",
     "text": [
      " input file is :F:\\DataSource\\islr\\caravan.csv loaded.\n",
      "Continous Variables\n",
      "Index(['SNO', 'MOSTYPE', 'MAANTHUI', 'MGEMOMV', 'MGEMLEEF', 'MOSHOOFD', 'MGODRK', 'MGODPR', 'MGODOV', 'MGODGE',\n",
      "       'MRELGE', 'MRELSA', 'MRELOV', 'MFALLEEN', 'MFGEKIND', 'MFWEKIND', 'MOPLHOOG', 'MOPLMIDD', 'MOPLLAAG',\n",
      "       'MBERHOOG', 'MBERZELF', 'MBERBOER', 'MBERMIDD', 'MBERARBG', 'MBERARBO', 'MSKA', 'MSKB1', 'MSKB2', 'MSKC',\n",
      "       'MSKD', 'MHHUUR', 'MHKOOP', 'MAUT1', 'MAUT2', 'MAUT0', 'MZFONDS', 'MZPART', 'MINKM30', 'MINK3045', 'MINK4575',\n",
      "       'MINK7512', 'MINK123M', 'MINKGEM', 'MKOOPKLA', 'PWAPART', 'PWABEDR', 'PWALAND', 'PPERSAUT', 'PBESAUT',\n",
      "       'PMOTSCO', 'PVRAAUT', 'PAANHANG', 'PTRACTOR', 'PWERKT', 'PBROM', 'PLEVEN', 'PPERSONG', 'PGEZONG', 'PWAOREG',\n",
      "       'PBRAND', 'PZEILPL', 'PPLEZIER', 'PFIETS', 'PINBOED', 'PBYSTAND', 'AWAPART', 'AWABEDR', 'AWALAND', 'APERSAUT',\n",
      "       'ABESAUT', 'AMOTSCO', 'AVRAAUT', 'AAANHANG', 'ATRACTOR', 'AWERKT', 'ABROM', 'ALEVEN', 'APERSONG', 'AGEZONG',\n",
      "       'AWAOREG', 'ABRAND', 'AZEILPL', 'APLEZIER', 'AFIETS', 'AINBOED', 'ABYSTAND'],\n",
      "      dtype='object')\n",
      "Categorical Variables\n",
      "Index(['Purchase'], dtype='object')\n"
     ]
    }
   ],
   "source": [
    "input_dataset,feature_columns,response_column = load_dataset(filename=FILENAME,response=RESPONSE)\n",
    "input_dataset = input_dataset.drop('SNO',axis=1)\n",
    "feature_columns.remove('SNO')\n",
    "X = input_dataset[feature_columns]\n",
    "y = input_dataset[response_column]"
   ]
  },
  {
   "cell_type": "code",
   "execution_count": 5,
   "metadata": {
    "collapsed": true
   },
   "outputs": [],
   "source": [
    "def display_data_descriptives(input_dataset,X,feature_columns,y,response_column):\n",
    "    print(\"<{0} {1} {0}>\".format(\"=\"*40,\"feature columns\"))\n",
    "    print(feature_columns)\n",
    "    print(\"<{0} {1} {0}>\".format(\"=\"*40,\"data header\"))\n",
    "    #print(X.head().to_string())\n",
    "    print(\"<{0} {1} {0}>\".format(\"=\"*40,\"response\"))\n",
    "    print(response_column)\n",
    "    print(\"<{0} {1} {0}>\".format(\"=\"*40,\"Descriptive Statistics -X\"))\n",
    "    print(X.describe())\n",
    "    print(\"<{0} {1} {0}>\".format(\"=\"*40,\"Descriptive Statistics -y\"))\n",
    "    print(y.describe())\n",
    "    print(\"<{0} {1} {0}>\".format(\"=\"*40,\"value_count -y\"))\n",
    "    print(y.groupby(response_column)[response_column].count())\n",
    "    #print(input_dataset.groupby(response_column)['Year'].count())\n",
    "    #print(\"<{0} {1} {0}>\".format(\"=\"*40,\"Correlation\"))\n",
    "    #print(input_dataset.corr(method='pearson'))"
   ]
  },
  {
   "cell_type": "code",
   "execution_count": 6,
   "metadata": {},
   "outputs": [
    {
     "name": "stdout",
     "output_type": "stream",
     "text": [
      "<======================================== feature columns ========================================>\n",
      "['MOSTYPE', 'MAANTHUI', 'MGEMOMV', 'MGEMLEEF', 'MOSHOOFD', 'MGODRK', 'MGODPR', 'MGODOV', 'MGODGE', 'MRELGE', 'MRELSA', 'MRELOV', 'MFALLEEN', 'MFGEKIND', 'MFWEKIND', 'MOPLHOOG', 'MOPLMIDD', 'MOPLLAAG', 'MBERHOOG', 'MBERZELF', 'MBERBOER', 'MBERMIDD', 'MBERARBG', 'MBERARBO', 'MSKA', 'MSKB1', 'MSKB2', 'MSKC', 'MSKD', 'MHHUUR', 'MHKOOP', 'MAUT1', 'MAUT2', 'MAUT0', 'MZFONDS', 'MZPART', 'MINKM30', 'MINK3045', 'MINK4575', 'MINK7512', 'MINK123M', 'MINKGEM', 'MKOOPKLA', 'PWAPART', 'PWABEDR', 'PWALAND', 'PPERSAUT', 'PBESAUT', 'PMOTSCO', 'PVRAAUT', 'PAANHANG', 'PTRACTOR', 'PWERKT', 'PBROM', 'PLEVEN', 'PPERSONG', 'PGEZONG', 'PWAOREG', 'PBRAND', 'PZEILPL', 'PPLEZIER', 'PFIETS', 'PINBOED', 'PBYSTAND', 'AWAPART', 'AWABEDR', 'AWALAND', 'APERSAUT', 'ABESAUT', 'AMOTSCO', 'AVRAAUT', 'AAANHANG', 'ATRACTOR', 'AWERKT', 'ABROM', 'ALEVEN', 'APERSONG', 'AGEZONG', 'AWAOREG', 'ABRAND', 'AZEILPL', 'APLEZIER', 'AFIETS', 'AINBOED', 'ABYSTAND']\n",
      "<======================================== data header ========================================>\n",
      "<======================================== response ========================================>\n",
      "['Purchase']\n",
      "<======================================== Descriptive Statistics -X ========================================>\n",
      "         MOSTYPE   MAANTHUI    MGEMOMV   MGEMLEEF   MOSHOOFD     MGODRK     MGODPR     MGODOV     MGODGE     MRELGE  \\\n",
      "count  5822.0000  5822.0000  5822.0000  5822.0000  5822.0000  5822.0000  5822.0000  5822.0000  5822.0000  5822.0000   \n",
      "mean     24.2533     1.1106     2.6788     2.9912     5.7736     0.6965     4.6269     1.0699     3.2585     6.1834   \n",
      "std      12.8467     0.4058     0.7898     0.8146     2.8568     1.0032     1.7158     1.0175     1.5976     1.9095   \n",
      "min       1.0000     1.0000     1.0000     1.0000     1.0000     0.0000     0.0000     0.0000     0.0000     0.0000   \n",
      "25%      10.0000     1.0000     2.0000     2.0000     3.0000     0.0000     4.0000     0.0000     2.0000     5.0000   \n",
      "50%      30.0000     1.0000     3.0000     3.0000     7.0000     0.0000     5.0000     1.0000     3.0000     6.0000   \n",
      "75%      35.0000     1.0000     3.0000     3.0000     8.0000     1.0000     6.0000     2.0000     4.0000     7.0000   \n",
      "max      41.0000    10.0000     5.0000     6.0000    10.0000     9.0000     9.0000     5.0000     9.0000     9.0000   \n",
      "\n",
      "         ...         ALEVEN   APERSONG    AGEZONG    AWAOREG     ABRAND    AZEILPL   APLEZIER     AFIETS    AINBOED  \\\n",
      "count    ...      5822.0000  5822.0000  5822.0000  5822.0000  5822.0000  5822.0000  5822.0000  5822.0000  5822.0000   \n",
      "mean     ...         0.0766     0.0053     0.0065     0.0046     0.5701     0.0005     0.0060     0.0318     0.0079   \n",
      "std      ...         0.3776     0.0728     0.0805     0.0774     0.5621     0.0227     0.0816     0.2110     0.0905   \n",
      "min      ...         0.0000     0.0000     0.0000     0.0000     0.0000     0.0000     0.0000     0.0000     0.0000   \n",
      "25%      ...         0.0000     0.0000     0.0000     0.0000     0.0000     0.0000     0.0000     0.0000     0.0000   \n",
      "50%      ...         0.0000     0.0000     0.0000     0.0000     1.0000     0.0000     0.0000     0.0000     0.0000   \n",
      "75%      ...         0.0000     0.0000     0.0000     0.0000     1.0000     0.0000     0.0000     0.0000     0.0000   \n",
      "max      ...         8.0000     1.0000     1.0000     2.0000     7.0000     1.0000     2.0000     3.0000     2.0000   \n",
      "\n",
      "        ABYSTAND  \n",
      "count  5822.0000  \n",
      "mean      0.0143  \n",
      "std       0.1200  \n",
      "min       0.0000  \n",
      "25%       0.0000  \n",
      "50%       0.0000  \n",
      "75%       0.0000  \n",
      "max       2.0000  \n",
      "\n",
      "[8 rows x 85 columns]\n",
      "<======================================== Descriptive Statistics -y ========================================>\n",
      "       Purchase\n",
      "count      5822\n",
      "unique        2\n",
      "top          No\n",
      "freq       5474\n",
      "<======================================== value_count -y ========================================>\n",
      "          Purchase\n",
      "Purchase          \n",
      "No            5474\n",
      "Yes            348\n"
     ]
    }
   ],
   "source": [
    "display_data_descriptives(input_dataset,X,feature_columns,y,response_column)"
   ]
  },
  {
   "cell_type": "code",
   "execution_count": 7,
   "metadata": {},
   "outputs": [
    {
     "data": {
      "text/html": [
       "<div>\n",
       "<style>\n",
       "    .dataframe thead tr:only-child th {\n",
       "        text-align: right;\n",
       "    }\n",
       "\n",
       "    .dataframe thead th {\n",
       "        text-align: left;\n",
       "    }\n",
       "\n",
       "    .dataframe tbody tr th {\n",
       "        vertical-align: top;\n",
       "    }\n",
       "</style>\n",
       "<table border=\"1\" class=\"dataframe\">\n",
       "  <thead>\n",
       "    <tr style=\"text-align: right;\">\n",
       "      <th></th>\n",
       "      <th>Purchase</th>\n",
       "    </tr>\n",
       "  </thead>\n",
       "  <tbody>\n",
       "    <tr>\n",
       "      <th>0</th>\n",
       "      <td>0</td>\n",
       "    </tr>\n",
       "    <tr>\n",
       "      <th>1</th>\n",
       "      <td>0</td>\n",
       "    </tr>\n",
       "    <tr>\n",
       "      <th>2</th>\n",
       "      <td>0</td>\n",
       "    </tr>\n",
       "    <tr>\n",
       "      <th>3</th>\n",
       "      <td>0</td>\n",
       "    </tr>\n",
       "    <tr>\n",
       "      <th>4</th>\n",
       "      <td>0</td>\n",
       "    </tr>\n",
       "  </tbody>\n",
       "</table>\n",
       "</div>"
      ],
      "text/plain": [
       "   Purchase\n",
       "0         0\n",
       "1         0\n",
       "2         0\n",
       "3         0\n",
       "4         0"
      ]
     },
     "execution_count": 7,
     "metadata": {},
     "output_type": "execute_result"
    }
   ],
   "source": [
    "from sklearn.preprocessing import LabelEncoder\n",
    "class_le = LabelEncoder()\n",
    "input_dataset[response_column] = class_le.fit_transform(input_dataset[response_column].values.ravel())\n",
    "input_dataset[response_column].head(5)"
   ]
  },
  {
   "cell_type": "code",
   "execution_count": 8,
   "metadata": {
    "collapsed": true
   },
   "outputs": [],
   "source": [
    "from sklearn.ensemble import ExtraTreesClassifier\n",
    "# feature extraction\n",
    "\n",
    "def select_features_by_XTree(X,y):\n",
    "    model = ExtraTreesClassifier()\n",
    "    model.fit(X, y.values.ravel())\n",
    "\n",
    "    selected_features =np.array(model.feature_importances_)\n",
    "    selected_features_X = pd.DataFrame(X.columns.values, columns=['name'])\n",
    "    selected_features =selected_features.reshape(len(X.columns),1)\n",
    "\n",
    "    selected_features_X['model_result'] =selected_features\n",
    "    selected_features_X =selected_features_X.sort_values(by='model_result',ascending=False)\n",
    "    return selected_features_X"
   ]
  },
  {
   "cell_type": "code",
   "execution_count": 9,
   "metadata": {},
   "outputs": [
    {
     "name": "stdout",
     "output_type": "stream",
     "text": [
      "<======================================== Feature Selection by XTree Classifier ========================================>\n"
     ]
    }
   ],
   "source": [
    "print(\"<{0} {1} {0}>\".format(\"=\"*40,\"Feature Selection by XTree Classifier\"))\n",
    "features_XTree = select_features_by_XTree(X,y)\n",
    "top_features =features_XTree['name']\n",
    "top_features =list(top_features.values)\n",
    "top_features =top_features[1:10]"
   ]
  },
  {
   "cell_type": "code",
   "execution_count": 10,
   "metadata": {
    "collapsed": true
   },
   "outputs": [],
   "source": [
    "from sklearn.model_selection import KFold\n",
    "from sklearn.model_selection import cross_val_score\n",
    "from sklearn.preprocessing import StandardScaler\n",
    "from sklearn.pipeline import Pipeline\n",
    "from sklearn.discriminant_analysis import LinearDiscriminantAnalysis\n",
    "\n",
    "\n",
    "from sklearn.model_selection  import  train_test_split\n",
    "from sklearn.linear_model  import LogisticRegression\n",
    "\n",
    "def evaluvate_pipeline(X_train,y_train,model,model_name):\n",
    "    \n",
    "    # create pipeline\n",
    "    estimators =[]\n",
    "    estimators.append(('standardize', StandardScaler()))\n",
    "    estimators.append((model_name, model))\n",
    "    pipeline = Pipeline(estimators)\n",
    "    # evaluate pipeline\n",
    "    kfold = KFold(n_splits=10, random_state=7)\n",
    "    scores = cross_val_score(pipeline, X_train, y_train.values.ravel(), cv=kfold)\n",
    "    \n",
    "    return scores,pipeline"
   ]
  },
  {
   "cell_type": "code",
   "execution_count": 11,
   "metadata": {
    "collapsed": true
   },
   "outputs": [],
   "source": [
    "from sklearn import metrics\n",
    "def measure_performance(X, y, clf, show_accuracy=True,show_classification_report=True,\n",
    "                        show_confusion_matrix=True, show_r2_score=False):\n",
    "    y_pred = clf.predict(X) \n",
    "    if show_accuracy:\n",
    "        print (\"Accuracy:{0:.3f}\".format( metrics.accuracy_score(y, y_pred)),\"\\n\" )\n",
    "    if show_classification_report:\n",
    "        print (\"Classification report\")\n",
    "        print (metrics.classification_report(y, y_pred),\"\\n\")\n",
    "    if show_confusion_matrix:\n",
    "        print(\"Confusion matrix\") \n",
    "        print(metrics.confusion_matrix(y, y_pred),\"\\n\")\n",
    "    if show_r2_score:\n",
    "        print (\"Coefficient of determination:{0:.3f}\"\n",
    "               .format( metrics.r2_score(y, y_pred)),\"\\n\")\n",
    "    return y_pred"
   ]
  },
  {
   "cell_type": "code",
   "execution_count": 12,
   "metadata": {
    "collapsed": true
   },
   "outputs": [],
   "source": [
    "from sklearn.metrics import roc_auc_score\n",
    "from sklearn.metrics import roc_curve,auc\n",
    "\n",
    "from matplotlib import style\n",
    "\n",
    "style.use('seaborn-colorblind')\n",
    "\n",
    "def plot_roc(y_test, y_pred):\n",
    "    \n",
    "    false_positive_rate, true_positive_rate, thresholds = roc_curve(y_test, y_pred)\n",
    "    roc_auc = auc(false_positive_rate, true_positive_rate)\n",
    "    fig = plt.figure(figsize=(6,4))\n",
    "    plt.title('Receiver Operating Characteristic')\n",
    "    plt.plot(false_positive_rate, true_positive_rate, 'b',label='AUC = %0.2f'% roc_auc)\n",
    "    plt.legend(loc='lower right')\n",
    "    plt.plot([0,1],[0,1],'r--')\n",
    "    plt.xlim([-0.1,1.2])\n",
    "    plt.ylim([-0.1,1.2])\n",
    "    plt.ylabel('True Positive Rate')\n",
    "    plt.xlabel('False Positive Rate')\n",
    "    plt.show()\n",
    "\n",
    "    roc_auc_score(y_test, y_pred)"
   ]
  },
  {
   "cell_type": "code",
   "execution_count": 13,
   "metadata": {},
   "outputs": [
    {
     "name": "stdout",
     "output_type": "stream",
     "text": [
      "LogisticRegression(C=1.0, class_weight=None, dual=False, fit_intercept=True,\n",
      "          intercept_scaling=1, max_iter=100, multi_class='ovr', n_jobs=1,\n",
      "          penalty='l2', random_state=None, solver='liblinear', tol=0.0001,\n",
      "          verbose=0, warm_start=False)\n",
      "0.94006769585\n",
      "Accuracy:0.941 \n",
      "\n",
      "Classification report\n",
      "             precision    recall  f1-score   support\n",
      "\n",
      "          0       0.94      1.00      0.97       941\n",
      "          1       0.00      0.00      0.00        59\n",
      "\n",
      "avg / total       0.89      0.94      0.91      1000\n",
      " \n",
      "\n",
      "Confusion matrix\n",
      "[[941   0]\n",
      " [ 59   0]] \n",
      "\n"
     ]
    },
    {
     "name": "stderr",
     "output_type": "stream",
     "text": [
      "F:\\Anaconda2\\envs\\machinelearning\\lib\\site-packages\\sklearn\\metrics\\classification.py:1113: UndefinedMetricWarning: Precision and F-score are ill-defined and being set to 0.0 in labels with no predicted samples.\n",
      "  'precision', 'predicted', average, warn_for)\n"
     ]
    },
    {
     "data": {
      "image/png": "[encoded data removed]",
      "text/plain": [
       "<matplotlib.figure.Figure at 0x23df55aa048>"
      ]
     },
     "metadata": {},
     "output_type": "display_data"
    },
    {
     "name": "stdout",
     "output_type": "stream",
     "text": [
      "[[ 0.9382  0.0618]\n",
      " [ 0.9864  0.0136]\n",
      " [ 0.893   0.107 ]\n",
      " ..., \n",
      " [ 0.9382  0.0618]\n",
      " [ 0.8889  0.1111]\n",
      " [ 0.9886  0.0114]]\n"
     ]
    }
   ],
   "source": [
    "X = input_dataset[top_features]\n",
    "y = input_dataset[response_column]\n",
    "X_train = X.iloc[1000:,:]\n",
    "y_train = y.iloc[1000:]\n",
    "X_test = X.iloc[:1000,:]\n",
    "y_test = y.iloc[:1000]\n",
    "\n",
    "test_size = 0.17\n",
    "seed = 1\n",
    "##X_train, X_test, y_train, y_test = train_test_split(X, y, test_size=test_size,random_state=seed)\n",
    "\n",
    "model =LogisticRegression()\n",
    "print(model)\n",
    "scores,pipeline = evaluvate_pipeline(X_train,y_train,model,'log_reg')\n",
    "\n",
    "print(scores.mean())\n",
    "\n",
    "pipeline.fit(X_train,y_train.values.ravel())\n",
    "\n",
    "y_pred = measure_performance(X_test,y_test,pipeline, show_accuracy=True, \n",
    "                             show_classification_report=True,\n",
    "                             show_confusion_matrix=True, show_r2_score=False)\n",
    "\n",
    "plot_roc(y_test, y_pred)\n",
    "\n",
    "y_pred_proba =  pipeline.predict_proba(X_test)\n",
    " \n",
    "print(y_pred_proba)\n"
   ]
  },
  {
   "cell_type": "markdown",
   "metadata": {
    "collapsed": true
   },
   "source": [
    "### Using KNN"
   ]
  },
  {
   "cell_type": "code",
   "execution_count": 14,
   "metadata": {},
   "outputs": [
    {
     "name": "stdout",
     "output_type": "stream",
     "text": [
      "0.932184737507\n",
      "Accuracy:0.934 \n",
      "\n",
      "Classification report\n",
      "             precision    recall  f1-score   support\n",
      "\n",
      "          0       0.94      0.99      0.97       941\n",
      "          1       0.18      0.03      0.06        59\n",
      "\n",
      "avg / total       0.90      0.93      0.91      1000\n",
      " \n",
      "\n",
      "Confusion matrix\n",
      "[[932   9]\n",
      " [ 57   2]] \n",
      "\n"
     ]
    },
    {
     "data": {
      "image/png": "[encoded data removed]",
      "text/plain": [
       "<matplotlib.figure.Figure at 0x23dfaa5f198>"
      ]
     },
     "metadata": {},
     "output_type": "display_data"
    }
   ],
   "source": [
    "from sklearn.neighbors import KNeighborsClassifier\n",
    "\n",
    "#X = input_dataset[top_features]\n",
    "#y = input_dataset[response_column]\n",
    "#X_train, X_test, y_train, y_test = train_test_split(X, y, test_size=test_size,random_state=seed)\n",
    "\n",
    "test_size = 0.17\n",
    "seed = 1\n",
    "\n",
    "model =KNeighborsClassifier(n_neighbors=5, weights='uniform')\n",
    "scores,pipeline = evaluvate_pipeline(X_train,y_train,model,'KNN')\n",
    "print(scores.mean())\n",
    "pipeline.fit(X_train,y_train.values.ravel())\n",
    "\n",
    "y_pred = measure_performance(X_test,y_test,pipeline, show_accuracy=True, \n",
    "                    show_classification_report=True,\n",
    "                    show_confusion_matrix=True, show_r2_score=False)\n",
    "plot_roc(y_test, y_pred)"
   ]
  },
  {
   "cell_type": "code",
   "execution_count": 41,
   "metadata": {},
   "outputs": [
    {
     "name": "stdout",
     "output_type": "stream",
     "text": [
      "LogisticRegression(C=1.0, class_weight=None, dual=False, fit_intercept=True,\n",
      "          intercept_scaling=1, max_iter=100, multi_class='ovr', n_jobs=1,\n",
      "          penalty='l2', random_state=None, solver='liblinear', tol=0.0001,\n",
      "          verbose=0, warm_start=False)\n",
      "0.94006769585\n",
      "Accuracy:0.941 \n",
      "\n",
      "Classification report\n",
      "             precision    recall  f1-score   support\n",
      "\n",
      "          0       0.94      1.00      0.97       941\n",
      "          1       0.00      0.00      0.00        59\n",
      "\n",
      "avg / total       0.89      0.94      0.91      1000\n",
      " \n",
      "\n",
      "Confusion matrix\n",
      "[[941   0]\n",
      " [ 59   0]] \n",
      "\n"
     ]
    },
    {
     "name": "stderr",
     "output_type": "stream",
     "text": [
      "F:\\Anaconda2\\envs\\machinelearning\\lib\\site-packages\\sklearn\\metrics\\classification.py:1113: UndefinedMetricWarning: Precision and F-score are ill-defined and being set to 0.0 in labels with no predicted samples.\n",
      "  'precision', 'predicted', average, warn_for)\n"
     ]
    },
    {
     "data": {
      "image/png": "[encoded data removed]",
      "text/plain": [
       "<matplotlib.figure.Figure at 0x23dfa903390>"
      ]
     },
     "metadata": {},
     "output_type": "display_data"
    },
    {
     "name": "stdout",
     "output_type": "stream",
     "text": [
      "[[ 0.9382  0.0618]\n",
      " [ 0.9864  0.0136]\n",
      " [ 0.893   0.107 ]\n",
      " ..., \n",
      " [ 0.9382  0.0618]\n",
      " [ 0.8889  0.1111]\n",
      " [ 0.9886  0.0114]]\n"
     ]
    }
   ],
   "source": [
    "X = input_dataset[top_features]\n",
    "y = input_dataset[response_column]\n",
    "X_train = X.iloc[1000:,:]\n",
    "y_train = y.iloc[1000:]\n",
    "X_test = X.iloc[:1000,:]\n",
    "y_test = y.iloc[:1000]\n",
    "\n",
    "test_size = 0.17\n",
    "seed = 1\n",
    "##X_train, X_test, y_train, y_test = train_test_split(X, y, test_size=test_size,random_state=seed)\n",
    "\n",
    "model =LogisticRegression()\n",
    "print(model)\n",
    "scores,pipeline = evaluvate_pipeline(X_train,y_train,model,'log_reg')\n",
    "\n",
    "print(scores.mean())\n",
    "\n",
    "pipeline.fit(X_train,y_train.values.ravel())\n",
    "\n",
    "y_pred = measure_performance(X_test,y_test,pipeline, show_accuracy=True, \n",
    "                             show_classification_report=True,\n",
    "                             show_confusion_matrix=True, show_r2_score=False)\n",
    "\n",
    "plot_roc(y_test, y_pred)\n",
    "\n",
    "y_pred_proba =  pipeline.predict_proba(X_test)\n",
    " \n",
    "print(y_pred_proba)\n",
    "\n",
    "\n",
    "y_test_inv = y_test.values.ravel()\n",
    "y_test_inv = class_le.inverse_transform(y_test_inv)\n",
    " \n",
    "cm_df = pd.DataFrame({'True': y_test_inv, 'Pred': y_pred_proba[:,1] > .25})\n",
    "cm_df.Pred.replace(to_replace={True:'Yes', False:'No'}, inplace=True)"
   ]
  },
  {
   "cell_type": "code",
   "execution_count": 42,
   "metadata": {},
   "outputs": [
    {
     "name": "stdout",
     "output_type": "stream",
     "text": [
      "Pred   No  Yes\n",
      "True          \n",
      "No    938    3\n",
      "Yes    57    2\n"
     ]
    }
   ],
   "source": [
    "print(cm_df.groupby(['True', 'Pred']).size().unstack('True').T)"
   ]
  },
  {
   "cell_type": "code",
   "execution_count": 43,
   "metadata": {},
   "outputs": [
    {
     "name": "stdout",
     "output_type": "stream",
     "text": [
      "             precision    recall  f1-score   support\n",
      "\n",
      "         No       0.94      1.00      0.97       941\n",
      "        Yes       0.40      0.03      0.06        59\n",
      "\n",
      "avg / total       0.91      0.94      0.92      1000\n",
      "\n"
     ]
    }
   ],
   "source": [
    "print(metrics.classification_report(y_test_inv, cm_df.Pred))"
   ]
  },
  {
   "cell_type": "code",
   "execution_count": null,
   "metadata": {
    "collapsed": true
   },
   "outputs": [],
   "source": []
  }
 ],
 "metadata": {
  "kernelspec": {
   "display_name": "Python 3",
   "language": "python",
   "name": "python3"
  },
  "language_info": {
   "codemirror_mode": {
    "name": "ipython",
    "version": 3
   },
   "file_extension": ".py",
   "mimetype": "text/x-python",
   "name": "python",
   "nbconvert_exporter": "python",
   "pygments_lexer": "ipython3",
   "version": "3.5.3"
  }
 },
 "nbformat": 4,
 "nbformat_minor": 2
}
