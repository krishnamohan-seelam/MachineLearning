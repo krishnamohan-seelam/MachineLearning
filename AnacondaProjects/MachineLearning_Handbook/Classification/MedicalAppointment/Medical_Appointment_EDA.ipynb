{
 "cells": [
  {
   "cell_type": "code",
   "execution_count": 1,
   "metadata": {},
   "outputs": [],
   "source": [
    "%load_ext autoreload\n",
    "%autoreload 2"
   ]
  },
  {
   "cell_type": "code",
   "execution_count": 2,
   "metadata": {},
   "outputs": [],
   "source": [
    "import os\n",
    "import numpy as np\n",
    "import pandas as pd\n",
    "import matplotlib.pyplot as plt\n",
    "import seaborn as sns\n",
    "import re\n",
    "from mlsettings.settings import load_app_config, get_datafolder_path\n",
    "from mltools.modelbuilder.dfloader  import DataFrameLoader \n",
    "from mltools.modelwrappers.xgbwrapper import XgBoostWrapper\n",
    "%matplotlib inline\n",
    "import warnings\n",
    "warnings.filterwarnings(\"ignore\")\n",
    "warnings.filterwarnings(\"ignore\", category=DeprecationWarning) \n",
    "sns.set(style=\"darkgrid\")\n",
    "pd.set_option('display.width', 200)\n",
    "pd.set_option('precision', 4)\n",
    "pd.set_option('display.width', 500)\n",
    "pd.set_option('display.max_columns', 200)\n",
    "pd.set_option('display.notebook_repr_html', True)"
   ]
  },
  {
   "cell_type": "code",
   "execution_count": 3,
   "metadata": {},
   "outputs": [],
   "source": [
    "pkmn_type_colors = [\n",
    "                    \n",
    "                    '#A8A878',  # Normal\n",
    "                    '#A040A0',  # Poison\n",
    "                    '#F8D030',  # Electric\n",
    "                    '#E0C068',  # Ground\n",
    "                    '#EE99AC',  # Fairy\n",
    "                    '#C03028',  # Fighting\n",
    "                    '#F85888',  # Psychic\n",
    "                    '#B8A038',  # Rock\n",
    "                    '#705898',  # Ghost\n",
    "                    '#98D8D8',  # Ice\n",
    "                    '#7038F8',  # Dragon\n",
    "                    '#78C850',  # Grass\n",
    "                    '#F08030',  # Fire\n",
    "                    '#6890F0',  # Water\n",
    "                    '#A8B820',  # Bug\n",
    "                    ]"
   ]
  },
  {
   "cell_type": "code",
   "execution_count": 4,
   "metadata": {},
   "outputs": [],
   "source": [
    "from sklearn import metrics\n",
    "from sklearn.metrics import roc_curve\n",
    "from sklearn.model_selection import GridSearchCV, cross_val_score, StratifiedKFold, learning_curve\n",
    "def measure_performance(X, y, clf, show_accuracy=True,show_classification_report=True,\n",
    "                        show_confusion_matrix=True, show_r2_score=False):\n",
    "    y_pred = clf.predict(X) \n",
    "    if show_accuracy:\n",
    "        print (\"Accuracy:{0:.3f}\".format( metrics.accuracy_score(y, y_pred)) )\n",
    "    if show_classification_report:\n",
    "        print (\"Classification report\")\n",
    "        print (metrics.classification_report(y, y_pred))\n",
    "    if show_confusion_matrix:\n",
    "        print(\"Confusion matrix\") \n",
    "        print(metrics.confusion_matrix(y, y_pred),)\n",
    "    if show_r2_score:\n",
    "        print (\"Coefficient of determination:{0:.3f}\"\n",
    "               .format( metrics.r2_score(y, y_pred)))\n",
    "    return y_pred\n",
    "\n",
    "\n",
    "def plot_learning_curve(train_sizes, train_scores, validation_scores):\n",
    "    plt.figure()\n",
    "    plt.title(\"Learning Curve\")\n",
    "    train_scores_mean = np.mean(train_scores, axis=1)\n",
    "    train_scores_std = np.std(train_scores, axis=1)\n",
    "    validation_scores_mean = np.mean(validation_scores, axis=1)\n",
    "    validation_scores_std = np.std(validation_scores, axis=1)\n",
    "\n",
    "    plt.fill_between(train_sizes, train_scores_mean - train_scores_std,\n",
    "                     train_scores_mean + train_scores_std, alpha=0.1,\n",
    "                     color=\"r\")\n",
    "    plt.fill_between(train_sizes, validation_scores_mean - validation_scores_std,\n",
    "                     validation_scores_mean + validation_scores_std, alpha=0.1, color=\"g\")\n",
    "    \n",
    "    plt.plot(train_sizes, train_scores_mean, 'o-', color=\"r\",label=\"Training score\")\n",
    "    plt.plot(train_sizes, validation_scores_mean, 'o-', color=\"g\" ,label=\"Cross-validation score\")\n",
    "    plt.ylim(max(-3, validation_scores_mean.min() - .1), train_scores_mean.max() + .1)\n",
    "    plt.legend(loc=\"best\")\n",
    "    plt.show()\n",
    "\n",
    "from sklearn.model_selection import validation_curve\n",
    "def plot_validation_curve(parameter_values, train_scores, validation_scores):\n",
    "    plt.figure()\n",
    "    plt.title(\"Validation Curve\")\n",
    "    train_scores_mean = np.mean(train_scores, axis=1)\n",
    "    train_scores_std = np.std(train_scores, axis=1)\n",
    "    validation_scores_mean = np.mean(validation_scores, axis=1)\n",
    "    validation_scores_std = np.std(validation_scores, axis=1)\n",
    "\n",
    "    plt.fill_between(parameter_values, train_scores_mean - train_scores_std,\n",
    "                     train_scores_mean + train_scores_std, alpha=0.1,\n",
    "                     color=\"r\")\n",
    "    plt.fill_between(parameter_values, validation_scores_mean - validation_scores_std,\n",
    "                     validation_scores_mean + validation_scores_std, alpha=0.1, color=\"g\")\n",
    "    plt.plot(parameter_values, train_scores_mean, 'o-', color=\"r\",\n",
    "             label=\"Training score\")\n",
    "    plt.plot(parameter_values, validation_scores_mean, 'o-', color=\"g\",\n",
    "             label=\"Cross-validation score\")\n",
    "    plt.ylim(validation_scores_mean.min() - .1, train_scores_mean.max() + .1)\n",
    "    plt.legend(loc=\"best\")\n",
    "    plt.show()\n",
    "\n",
    "def plot_roc(X_val,y_val,model):\n",
    "    fpr, tpr, thresholds = roc_curve(y_val, model.predict_proba(X_val)[:, 1])\n",
    "    plt.figure()\n",
    "    plt.plot(fpr, tpr, label=\"ROC Curve\")\n",
    "    plt.xlabel(\"FPR\")\n",
    "    plt.ylabel(\"TPR (recall)\")\n",
    "    plt.title(\"roc_curve\");\n",
    "    # find threshold closest to zero:\n",
    "    close_zero = np.argmin(np.abs(thresholds))\n",
    "    plt.plot(fpr[close_zero], tpr[close_zero], 'o', markersize=10,\n",
    "         label=\"threshold zero\", fillstyle=\"none\", c='k', mew=2)\n",
    "    plt.legend(loc=4)\n",
    "    plt.show()\n",
    "\n",
    "def test_classifier(model,X,y,cv):\n",
    "    clf = model.fit(X,y.values.ravel())\n",
    "    result = clf.score(X,y.values)\n",
    "    print (\"Accuracy: {0:.3f}\".format(result*100.0))\n",
    "\n",
    "    train_sizes, train_scores, validation_scores = learning_curve(clf, X,y.values.ravel(),cv=cv)\n",
    "    plot_learning_curve(train_sizes, train_scores, validation_scores)\n",
    "    return clf,result"
   ]
  },
  {
   "cell_type": "code",
   "execution_count": 5,
   "metadata": {},
   "outputs": [],
   "source": [
    "load_app_config()\n",
    "input_path = get_datafolder_path()\n",
    "DIRECTORY =\"noshowappointments\"\n",
    "TRAIN_FILE  = \"KaggleV2-May-2016.csv\"\n",
    "train_file = os.path.join(input_path, DIRECTORY, TRAIN_FILE)"
   ]
  },
  {
   "cell_type": "code",
   "execution_count": 6,
   "metadata": {},
   "outputs": [],
   "source": [
    "from datetime import datetime\n",
    "datatypes = {'PatientId': np.float64, 'AppointmentID': np.int64, 'Gender': str, 'ScheduledDay': str,\n",
    "             'AppointmentDay': str, 'Age': np.int32, 'Neighbourhood': str, 'Scholarship': np.int32, 'Hipertension': np.int32,\n",
    "             'Diabetes': np.int32, 'Alcoholism': np.int32, 'Handcap': np.int32, 'SMS_received': np.int32,\n",
    "             'No-show': str}\n",
    " "
   ]
  },
  {
   "cell_type": "code",
   "execution_count": 7,
   "metadata": {},
   "outputs": [],
   "source": [
    "train_df = DataFrameLoader(train_file, dtype=datatypes,).dataframe"
   ]
  },
  {
   "cell_type": "code",
   "execution_count": 8,
   "metadata": {},
   "outputs": [
    {
     "data": {
      "text/html": [
       "<div>\n",
       "<style scoped>\n",
       "    .dataframe tbody tr th:only-of-type {\n",
       "        vertical-align: middle;\n",
       "    }\n",
       "\n",
       "    .dataframe tbody tr th {\n",
       "        vertical-align: top;\n",
       "    }\n",
       "\n",
       "    .dataframe thead th {\n",
       "        text-align: right;\n",
       "    }\n",
       "</style>\n",
       "<table border=\"1\" class=\"dataframe\">\n",
       "  <thead>\n",
       "    <tr style=\"text-align: right;\">\n",
       "      <th></th>\n",
       "      <th>PatientId</th>\n",
       "      <th>AppointmentID</th>\n",
       "      <th>Age</th>\n",
       "      <th>Scholarship</th>\n",
       "      <th>Hipertension</th>\n",
       "      <th>Diabetes</th>\n",
       "      <th>Alcoholism</th>\n",
       "      <th>Handcap</th>\n",
       "      <th>SMS_received</th>\n",
       "    </tr>\n",
       "  </thead>\n",
       "  <tbody>\n",
       "    <tr>\n",
       "      <th>count</th>\n",
       "      <td>1.1053e+05</td>\n",
       "      <td>1.1053e+05</td>\n",
       "      <td>110527.0000</td>\n",
       "      <td>110527.0000</td>\n",
       "      <td>110527.0000</td>\n",
       "      <td>110527.0000</td>\n",
       "      <td>110527.0000</td>\n",
       "      <td>110527.0000</td>\n",
       "      <td>110527.0000</td>\n",
       "    </tr>\n",
       "    <tr>\n",
       "      <th>mean</th>\n",
       "      <td>1.4750e+14</td>\n",
       "      <td>5.6753e+06</td>\n",
       "      <td>37.0889</td>\n",
       "      <td>0.0983</td>\n",
       "      <td>0.1972</td>\n",
       "      <td>0.0719</td>\n",
       "      <td>0.0304</td>\n",
       "      <td>0.0222</td>\n",
       "      <td>0.3210</td>\n",
       "    </tr>\n",
       "    <tr>\n",
       "      <th>std</th>\n",
       "      <td>2.5609e+14</td>\n",
       "      <td>7.1296e+04</td>\n",
       "      <td>23.1102</td>\n",
       "      <td>0.2977</td>\n",
       "      <td>0.3979</td>\n",
       "      <td>0.2583</td>\n",
       "      <td>0.1717</td>\n",
       "      <td>0.1615</td>\n",
       "      <td>0.4669</td>\n",
       "    </tr>\n",
       "    <tr>\n",
       "      <th>min</th>\n",
       "      <td>3.9218e+04</td>\n",
       "      <td>5.0302e+06</td>\n",
       "      <td>-1.0000</td>\n",
       "      <td>0.0000</td>\n",
       "      <td>0.0000</td>\n",
       "      <td>0.0000</td>\n",
       "      <td>0.0000</td>\n",
       "      <td>0.0000</td>\n",
       "      <td>0.0000</td>\n",
       "    </tr>\n",
       "    <tr>\n",
       "      <th>25%</th>\n",
       "      <td>4.1726e+12</td>\n",
       "      <td>5.6403e+06</td>\n",
       "      <td>18.0000</td>\n",
       "      <td>0.0000</td>\n",
       "      <td>0.0000</td>\n",
       "      <td>0.0000</td>\n",
       "      <td>0.0000</td>\n",
       "      <td>0.0000</td>\n",
       "      <td>0.0000</td>\n",
       "    </tr>\n",
       "    <tr>\n",
       "      <th>50%</th>\n",
       "      <td>3.1732e+13</td>\n",
       "      <td>5.6806e+06</td>\n",
       "      <td>37.0000</td>\n",
       "      <td>0.0000</td>\n",
       "      <td>0.0000</td>\n",
       "      <td>0.0000</td>\n",
       "      <td>0.0000</td>\n",
       "      <td>0.0000</td>\n",
       "      <td>0.0000</td>\n",
       "    </tr>\n",
       "    <tr>\n",
       "      <th>75%</th>\n",
       "      <td>9.4392e+13</td>\n",
       "      <td>5.7255e+06</td>\n",
       "      <td>55.0000</td>\n",
       "      <td>0.0000</td>\n",
       "      <td>0.0000</td>\n",
       "      <td>0.0000</td>\n",
       "      <td>0.0000</td>\n",
       "      <td>0.0000</td>\n",
       "      <td>1.0000</td>\n",
       "    </tr>\n",
       "    <tr>\n",
       "      <th>max</th>\n",
       "      <td>9.9998e+14</td>\n",
       "      <td>5.7905e+06</td>\n",
       "      <td>115.0000</td>\n",
       "      <td>1.0000</td>\n",
       "      <td>1.0000</td>\n",
       "      <td>1.0000</td>\n",
       "      <td>1.0000</td>\n",
       "      <td>4.0000</td>\n",
       "      <td>1.0000</td>\n",
       "    </tr>\n",
       "  </tbody>\n",
       "</table>\n",
       "</div>"
      ],
      "text/plain": [
       "        PatientId  AppointmentID          Age  Scholarship  Hipertension     Diabetes   Alcoholism      Handcap  SMS_received\n",
       "count  1.1053e+05     1.1053e+05  110527.0000  110527.0000   110527.0000  110527.0000  110527.0000  110527.0000   110527.0000\n",
       "mean   1.4750e+14     5.6753e+06      37.0889       0.0983        0.1972       0.0719       0.0304       0.0222        0.3210\n",
       "std    2.5609e+14     7.1296e+04      23.1102       0.2977        0.3979       0.2583       0.1717       0.1615        0.4669\n",
       "min    3.9218e+04     5.0302e+06      -1.0000       0.0000        0.0000       0.0000       0.0000       0.0000        0.0000\n",
       "25%    4.1726e+12     5.6403e+06      18.0000       0.0000        0.0000       0.0000       0.0000       0.0000        0.0000\n",
       "50%    3.1732e+13     5.6806e+06      37.0000       0.0000        0.0000       0.0000       0.0000       0.0000        0.0000\n",
       "75%    9.4392e+13     5.7255e+06      55.0000       0.0000        0.0000       0.0000       0.0000       0.0000        1.0000\n",
       "max    9.9998e+14     5.7905e+06     115.0000       1.0000        1.0000       1.0000       1.0000       4.0000        1.0000"
      ]
     },
     "execution_count": 8,
     "metadata": {},
     "output_type": "execute_result"
    }
   ],
   "source": [
    "#train_df['No-show'].replace('No', 0,inplace=True)\n",
    "#train_df['No-show'].replace('Yes', 1,inplace=True)\n",
    "#train_df['Gender'].replace('F', 0,inplace=True)\n",
    "#train_df['Gender'].replace('M', 1,inplace=True)\n",
    "train_df.describe()"
   ]
  },
  {
   "cell_type": "code",
   "execution_count": 9,
   "metadata": {},
   "outputs": [],
   "source": [
    "def reassign_datatypes(data, columns, column_types):\n",
    "    assert len(columns) == len(column_types)\n",
    "    assert set(columns).issubset(data.columns.values)\n",
    "    for column, column_type in zip(columns, column_types):\n",
    "        data[column] = data[column].astype(column_type)\n",
    "    return data"
   ]
  },
  {
   "cell_type": "code",
   "execution_count": 10,
   "metadata": {},
   "outputs": [],
   "source": [
    "def add_datepart(df, fldname, drop=True, time=False, errors=\"raise\"):\n",
    "    fld = df[fldname]\n",
    "    fld_dtype = fld.dtype\n",
    "    if isinstance(fld_dtype, pd.core.dtypes.dtypes.DatetimeTZDtype):\n",
    "        fld_dtype = np.datetime64\n",
    "\n",
    "    if not np.issubdtype(fld_dtype, np.datetime64):\n",
    "        df[fldname] = fld = pd.to_datetime(fld, infer_datetime_format=True, errors=errors)\n",
    "    targ_pre = re.sub('[Dd]ate$', '', fldname)\n",
    "    attr = ['Year', 'Month', 'Week', 'Day', 'Dayofweek', 'Dayofyear',\n",
    "            'Is_month_end', 'Is_month_start', 'Is_quarter_end', 'Is_quarter_start', 'Is_year_end', 'Is_year_start']\n",
    "    if time:\n",
    "        attr = attr + ['Hour', 'Minute', 'Second']\n",
    "    for n in attr:\n",
    "        df[targ_pre + n] = getattr(fld.dt, n.lower())\n",
    "        if n.startswith('Is'):\n",
    "            df[targ_pre + n] =df[targ_pre + n].astype(int)\n",
    "            \n",
    "    df[targ_pre + 'Elapsed'] = fld.astype(np.int64) // 10 ** 9\n",
    "    if drop:\n",
    "        df.drop(fldname, axis=1, inplace=True)"
   ]
  },
  {
   "cell_type": "code",
   "execution_count": 11,
   "metadata": {},
   "outputs": [],
   "source": [
    "train_df = reassign_datatypes(train_df, ['PatientId'], [np.int64])\n",
    "train_df['ScheduledDay'] = pd.to_datetime(train_df['ScheduledDay'], format='%Y-%m-%dT%H:%M:%SZ')\n",
    "train_df['AppointmentDay'] = pd.to_datetime(train_df['AppointmentDay'], format='%Y-%m-%dT%H:%M:%SZ')"
   ]
  },
  {
   "cell_type": "code",
   "execution_count": 12,
   "metadata": {},
   "outputs": [
    {
     "data": {
      "text/html": [
       "<div>\n",
       "<style scoped>\n",
       "    .dataframe tbody tr th:only-of-type {\n",
       "        vertical-align: middle;\n",
       "    }\n",
       "\n",
       "    .dataframe tbody tr th {\n",
       "        vertical-align: top;\n",
       "    }\n",
       "\n",
       "    .dataframe thead th {\n",
       "        text-align: right;\n",
       "    }\n",
       "</style>\n",
       "<table border=\"1\" class=\"dataframe\">\n",
       "  <thead>\n",
       "    <tr style=\"text-align: right;\">\n",
       "      <th></th>\n",
       "      <th>PatientId</th>\n",
       "      <th>AppointmentID</th>\n",
       "      <th>Gender</th>\n",
       "      <th>ScheduledDay</th>\n",
       "      <th>AppointmentDay</th>\n",
       "      <th>Age</th>\n",
       "      <th>Neighbourhood</th>\n",
       "      <th>Scholarship</th>\n",
       "      <th>Hipertension</th>\n",
       "      <th>Diabetes</th>\n",
       "      <th>Alcoholism</th>\n",
       "      <th>Handcap</th>\n",
       "      <th>SMS_received</th>\n",
       "      <th>No-show</th>\n",
       "    </tr>\n",
       "  </thead>\n",
       "  <tbody>\n",
       "    <tr>\n",
       "      <th>0</th>\n",
       "      <td>29872499824296</td>\n",
       "      <td>5642903</td>\n",
       "      <td>F</td>\n",
       "      <td>2016-04-29 18:38:08</td>\n",
       "      <td>2016-04-29</td>\n",
       "      <td>62</td>\n",
       "      <td>JARDIM DA PENHA</td>\n",
       "      <td>0</td>\n",
       "      <td>1</td>\n",
       "      <td>0</td>\n",
       "      <td>0</td>\n",
       "      <td>0</td>\n",
       "      <td>0</td>\n",
       "      <td>No</td>\n",
       "    </tr>\n",
       "    <tr>\n",
       "      <th>1</th>\n",
       "      <td>558997776694438</td>\n",
       "      <td>5642503</td>\n",
       "      <td>M</td>\n",
       "      <td>2016-04-29 16:08:27</td>\n",
       "      <td>2016-04-29</td>\n",
       "      <td>56</td>\n",
       "      <td>JARDIM DA PENHA</td>\n",
       "      <td>0</td>\n",
       "      <td>0</td>\n",
       "      <td>0</td>\n",
       "      <td>0</td>\n",
       "      <td>0</td>\n",
       "      <td>0</td>\n",
       "      <td>No</td>\n",
       "    </tr>\n",
       "    <tr>\n",
       "      <th>2</th>\n",
       "      <td>4262962299951</td>\n",
       "      <td>5642549</td>\n",
       "      <td>F</td>\n",
       "      <td>2016-04-29 16:19:04</td>\n",
       "      <td>2016-04-29</td>\n",
       "      <td>62</td>\n",
       "      <td>MATA DA PRAIA</td>\n",
       "      <td>0</td>\n",
       "      <td>0</td>\n",
       "      <td>0</td>\n",
       "      <td>0</td>\n",
       "      <td>0</td>\n",
       "      <td>0</td>\n",
       "      <td>No</td>\n",
       "    </tr>\n",
       "    <tr>\n",
       "      <th>3</th>\n",
       "      <td>867951213174</td>\n",
       "      <td>5642828</td>\n",
       "      <td>F</td>\n",
       "      <td>2016-04-29 17:29:31</td>\n",
       "      <td>2016-04-29</td>\n",
       "      <td>8</td>\n",
       "      <td>PONTAL DE CAMBURI</td>\n",
       "      <td>0</td>\n",
       "      <td>0</td>\n",
       "      <td>0</td>\n",
       "      <td>0</td>\n",
       "      <td>0</td>\n",
       "      <td>0</td>\n",
       "      <td>No</td>\n",
       "    </tr>\n",
       "    <tr>\n",
       "      <th>4</th>\n",
       "      <td>8841186448183</td>\n",
       "      <td>5642494</td>\n",
       "      <td>F</td>\n",
       "      <td>2016-04-29 16:07:23</td>\n",
       "      <td>2016-04-29</td>\n",
       "      <td>56</td>\n",
       "      <td>JARDIM DA PENHA</td>\n",
       "      <td>0</td>\n",
       "      <td>1</td>\n",
       "      <td>1</td>\n",
       "      <td>0</td>\n",
       "      <td>0</td>\n",
       "      <td>0</td>\n",
       "      <td>No</td>\n",
       "    </tr>\n",
       "  </tbody>\n",
       "</table>\n",
       "</div>"
      ],
      "text/plain": [
       "         PatientId  AppointmentID Gender        ScheduledDay AppointmentDay  Age      Neighbourhood  Scholarship  Hipertension  Diabetes  Alcoholism  Handcap  SMS_received No-show\n",
       "0   29872499824296        5642903      F 2016-04-29 18:38:08     2016-04-29   62    JARDIM DA PENHA            0             1         0           0        0             0      No\n",
       "1  558997776694438        5642503      M 2016-04-29 16:08:27     2016-04-29   56    JARDIM DA PENHA            0             0         0           0        0             0      No\n",
       "2    4262962299951        5642549      F 2016-04-29 16:19:04     2016-04-29   62      MATA DA PRAIA            0             0         0           0        0             0      No\n",
       "3     867951213174        5642828      F 2016-04-29 17:29:31     2016-04-29    8  PONTAL DE CAMBURI            0             0         0           0        0             0      No\n",
       "4    8841186448183        5642494      F 2016-04-29 16:07:23     2016-04-29   56    JARDIM DA PENHA            0             1         1           0        0             0      No"
      ]
     },
     "execution_count": 12,
     "metadata": {},
     "output_type": "execute_result"
    }
   ],
   "source": [
    "train_df.head()"
   ]
  },
  {
   "cell_type": "markdown",
   "metadata": {},
   "source": [
    "##### Check any rows with all values missing\n",
    "##### Check how many features have constant value , if any remove unique values  have no contribution in predictive models"
   ]
  },
  {
   "cell_type": "code",
   "execution_count": 13,
   "metadata": {},
   "outputs": [
    {
     "name": "stdout",
     "output_type": "stream",
     "text": [
      "No of columns that have 100% missing values :0\n"
     ]
    },
    {
     "data": {
      "text/html": [
       "<div>\n",
       "<style scoped>\n",
       "    .dataframe tbody tr th:only-of-type {\n",
       "        vertical-align: middle;\n",
       "    }\n",
       "\n",
       "    .dataframe tbody tr th {\n",
       "        vertical-align: top;\n",
       "    }\n",
       "\n",
       "    .dataframe thead th {\n",
       "        text-align: right;\n",
       "    }\n",
       "</style>\n",
       "<table border=\"1\" class=\"dataframe\">\n",
       "  <thead>\n",
       "    <tr style=\"text-align: right;\">\n",
       "      <th></th>\n",
       "      <th>Feature</th>\n",
       "      <th>Missing_Values</th>\n",
       "      <th>Percent_of_Total_Values</th>\n",
       "    </tr>\n",
       "  </thead>\n",
       "  <tbody>\n",
       "  </tbody>\n",
       "</table>\n",
       "</div>"
      ],
      "text/plain": [
       "Empty DataFrame\n",
       "Columns: [Feature, Missing_Values, Percent_of_Total_Values]\n",
       "Index: []"
      ]
     },
     "execution_count": 13,
     "metadata": {},
     "output_type": "execute_result"
    }
   ],
   "source": [
    "from mltools.mlhelper import missing_values\n",
    "training_missing_values = missing_values(train_df)\n",
    "all_missing  = training_missing_values[training_missing_values['Missing_Values'] ==train_df.shape[0]]\n",
    "print(\"No of columns that have 100% missing values :{0}\".format(all_missing.shape[0]))\n",
    "all_missing.head()\n"
   ]
  },
  {
   "cell_type": "code",
   "execution_count": 14,
   "metadata": {},
   "outputs": [],
   "source": [
    "add_datepart(train_df,'ScheduledDay',drop=False,time=True)"
   ]
  },
  {
   "cell_type": "code",
   "execution_count": 15,
   "metadata": {},
   "outputs": [],
   "source": [
    "add_datepart(train_df,'AppointmentDay',drop=False,time=False)"
   ]
  },
  {
   "cell_type": "code",
   "execution_count": 16,
   "metadata": {},
   "outputs": [
    {
     "data": {
      "text/html": [
       "<div>\n",
       "<style scoped>\n",
       "    .dataframe tbody tr th:only-of-type {\n",
       "        vertical-align: middle;\n",
       "    }\n",
       "\n",
       "    .dataframe tbody tr th {\n",
       "        vertical-align: top;\n",
       "    }\n",
       "\n",
       "    .dataframe thead th {\n",
       "        text-align: right;\n",
       "    }\n",
       "</style>\n",
       "<table border=\"1\" class=\"dataframe\">\n",
       "  <thead>\n",
       "    <tr style=\"text-align: right;\">\n",
       "      <th></th>\n",
       "      <th>PatientId</th>\n",
       "      <th>AppointmentID</th>\n",
       "      <th>Gender</th>\n",
       "      <th>ScheduledDay</th>\n",
       "      <th>AppointmentDay</th>\n",
       "      <th>Age</th>\n",
       "      <th>Neighbourhood</th>\n",
       "      <th>Scholarship</th>\n",
       "      <th>Hipertension</th>\n",
       "      <th>Diabetes</th>\n",
       "      <th>Alcoholism</th>\n",
       "      <th>Handcap</th>\n",
       "      <th>SMS_received</th>\n",
       "      <th>No-show</th>\n",
       "      <th>ScheduledDayYear</th>\n",
       "      <th>ScheduledDayMonth</th>\n",
       "      <th>ScheduledDayWeek</th>\n",
       "      <th>ScheduledDayDay</th>\n",
       "      <th>ScheduledDayDayofweek</th>\n",
       "      <th>ScheduledDayDayofyear</th>\n",
       "      <th>ScheduledDayIs_month_end</th>\n",
       "      <th>ScheduledDayIs_month_start</th>\n",
       "      <th>ScheduledDayIs_quarter_end</th>\n",
       "      <th>ScheduledDayIs_quarter_start</th>\n",
       "      <th>ScheduledDayIs_year_end</th>\n",
       "      <th>ScheduledDayIs_year_start</th>\n",
       "      <th>ScheduledDayHour</th>\n",
       "      <th>ScheduledDayMinute</th>\n",
       "      <th>ScheduledDaySecond</th>\n",
       "      <th>ScheduledDayElapsed</th>\n",
       "      <th>AppointmentDayYear</th>\n",
       "      <th>AppointmentDayMonth</th>\n",
       "      <th>AppointmentDayWeek</th>\n",
       "      <th>AppointmentDayDay</th>\n",
       "      <th>AppointmentDayDayofweek</th>\n",
       "      <th>AppointmentDayDayofyear</th>\n",
       "      <th>AppointmentDayIs_month_end</th>\n",
       "      <th>AppointmentDayIs_month_start</th>\n",
       "      <th>AppointmentDayIs_quarter_end</th>\n",
       "      <th>AppointmentDayIs_quarter_start</th>\n",
       "      <th>AppointmentDayIs_year_end</th>\n",
       "      <th>AppointmentDayIs_year_start</th>\n",
       "      <th>AppointmentDayElapsed</th>\n",
       "    </tr>\n",
       "  </thead>\n",
       "  <tbody>\n",
       "    <tr>\n",
       "      <th>0</th>\n",
       "      <td>29872499824296</td>\n",
       "      <td>5642903</td>\n",
       "      <td>F</td>\n",
       "      <td>2016-04-29 18:38:08</td>\n",
       "      <td>2016-04-29</td>\n",
       "      <td>62</td>\n",
       "      <td>JARDIM DA PENHA</td>\n",
       "      <td>0</td>\n",
       "      <td>1</td>\n",
       "      <td>0</td>\n",
       "      <td>0</td>\n",
       "      <td>0</td>\n",
       "      <td>0</td>\n",
       "      <td>No</td>\n",
       "      <td>2016</td>\n",
       "      <td>4</td>\n",
       "      <td>17</td>\n",
       "      <td>29</td>\n",
       "      <td>4</td>\n",
       "      <td>120</td>\n",
       "      <td>0</td>\n",
       "      <td>0</td>\n",
       "      <td>0</td>\n",
       "      <td>0</td>\n",
       "      <td>0</td>\n",
       "      <td>0</td>\n",
       "      <td>18</td>\n",
       "      <td>38</td>\n",
       "      <td>8</td>\n",
       "      <td>1461955088</td>\n",
       "      <td>2016</td>\n",
       "      <td>4</td>\n",
       "      <td>17</td>\n",
       "      <td>29</td>\n",
       "      <td>4</td>\n",
       "      <td>120</td>\n",
       "      <td>0</td>\n",
       "      <td>0</td>\n",
       "      <td>0</td>\n",
       "      <td>0</td>\n",
       "      <td>0</td>\n",
       "      <td>0</td>\n",
       "      <td>1461888000</td>\n",
       "    </tr>\n",
       "    <tr>\n",
       "      <th>1</th>\n",
       "      <td>558997776694438</td>\n",
       "      <td>5642503</td>\n",
       "      <td>M</td>\n",
       "      <td>2016-04-29 16:08:27</td>\n",
       "      <td>2016-04-29</td>\n",
       "      <td>56</td>\n",
       "      <td>JARDIM DA PENHA</td>\n",
       "      <td>0</td>\n",
       "      <td>0</td>\n",
       "      <td>0</td>\n",
       "      <td>0</td>\n",
       "      <td>0</td>\n",
       "      <td>0</td>\n",
       "      <td>No</td>\n",
       "      <td>2016</td>\n",
       "      <td>4</td>\n",
       "      <td>17</td>\n",
       "      <td>29</td>\n",
       "      <td>4</td>\n",
       "      <td>120</td>\n",
       "      <td>0</td>\n",
       "      <td>0</td>\n",
       "      <td>0</td>\n",
       "      <td>0</td>\n",
       "      <td>0</td>\n",
       "      <td>0</td>\n",
       "      <td>16</td>\n",
       "      <td>8</td>\n",
       "      <td>27</td>\n",
       "      <td>1461946107</td>\n",
       "      <td>2016</td>\n",
       "      <td>4</td>\n",
       "      <td>17</td>\n",
       "      <td>29</td>\n",
       "      <td>4</td>\n",
       "      <td>120</td>\n",
       "      <td>0</td>\n",
       "      <td>0</td>\n",
       "      <td>0</td>\n",
       "      <td>0</td>\n",
       "      <td>0</td>\n",
       "      <td>0</td>\n",
       "      <td>1461888000</td>\n",
       "    </tr>\n",
       "    <tr>\n",
       "      <th>2</th>\n",
       "      <td>4262962299951</td>\n",
       "      <td>5642549</td>\n",
       "      <td>F</td>\n",
       "      <td>2016-04-29 16:19:04</td>\n",
       "      <td>2016-04-29</td>\n",
       "      <td>62</td>\n",
       "      <td>MATA DA PRAIA</td>\n",
       "      <td>0</td>\n",
       "      <td>0</td>\n",
       "      <td>0</td>\n",
       "      <td>0</td>\n",
       "      <td>0</td>\n",
       "      <td>0</td>\n",
       "      <td>No</td>\n",
       "      <td>2016</td>\n",
       "      <td>4</td>\n",
       "      <td>17</td>\n",
       "      <td>29</td>\n",
       "      <td>4</td>\n",
       "      <td>120</td>\n",
       "      <td>0</td>\n",
       "      <td>0</td>\n",
       "      <td>0</td>\n",
       "      <td>0</td>\n",
       "      <td>0</td>\n",
       "      <td>0</td>\n",
       "      <td>16</td>\n",
       "      <td>19</td>\n",
       "      <td>4</td>\n",
       "      <td>1461946744</td>\n",
       "      <td>2016</td>\n",
       "      <td>4</td>\n",
       "      <td>17</td>\n",
       "      <td>29</td>\n",
       "      <td>4</td>\n",
       "      <td>120</td>\n",
       "      <td>0</td>\n",
       "      <td>0</td>\n",
       "      <td>0</td>\n",
       "      <td>0</td>\n",
       "      <td>0</td>\n",
       "      <td>0</td>\n",
       "      <td>1461888000</td>\n",
       "    </tr>\n",
       "    <tr>\n",
       "      <th>3</th>\n",
       "      <td>867951213174</td>\n",
       "      <td>5642828</td>\n",
       "      <td>F</td>\n",
       "      <td>2016-04-29 17:29:31</td>\n",
       "      <td>2016-04-29</td>\n",
       "      <td>8</td>\n",
       "      <td>PONTAL DE CAMBURI</td>\n",
       "      <td>0</td>\n",
       "      <td>0</td>\n",
       "      <td>0</td>\n",
       "      <td>0</td>\n",
       "      <td>0</td>\n",
       "      <td>0</td>\n",
       "      <td>No</td>\n",
       "      <td>2016</td>\n",
       "      <td>4</td>\n",
       "      <td>17</td>\n",
       "      <td>29</td>\n",
       "      <td>4</td>\n",
       "      <td>120</td>\n",
       "      <td>0</td>\n",
       "      <td>0</td>\n",
       "      <td>0</td>\n",
       "      <td>0</td>\n",
       "      <td>0</td>\n",
       "      <td>0</td>\n",
       "      <td>17</td>\n",
       "      <td>29</td>\n",
       "      <td>31</td>\n",
       "      <td>1461950971</td>\n",
       "      <td>2016</td>\n",
       "      <td>4</td>\n",
       "      <td>17</td>\n",
       "      <td>29</td>\n",
       "      <td>4</td>\n",
       "      <td>120</td>\n",
       "      <td>0</td>\n",
       "      <td>0</td>\n",
       "      <td>0</td>\n",
       "      <td>0</td>\n",
       "      <td>0</td>\n",
       "      <td>0</td>\n",
       "      <td>1461888000</td>\n",
       "    </tr>\n",
       "    <tr>\n",
       "      <th>4</th>\n",
       "      <td>8841186448183</td>\n",
       "      <td>5642494</td>\n",
       "      <td>F</td>\n",
       "      <td>2016-04-29 16:07:23</td>\n",
       "      <td>2016-04-29</td>\n",
       "      <td>56</td>\n",
       "      <td>JARDIM DA PENHA</td>\n",
       "      <td>0</td>\n",
       "      <td>1</td>\n",
       "      <td>1</td>\n",
       "      <td>0</td>\n",
       "      <td>0</td>\n",
       "      <td>0</td>\n",
       "      <td>No</td>\n",
       "      <td>2016</td>\n",
       "      <td>4</td>\n",
       "      <td>17</td>\n",
       "      <td>29</td>\n",
       "      <td>4</td>\n",
       "      <td>120</td>\n",
       "      <td>0</td>\n",
       "      <td>0</td>\n",
       "      <td>0</td>\n",
       "      <td>0</td>\n",
       "      <td>0</td>\n",
       "      <td>0</td>\n",
       "      <td>16</td>\n",
       "      <td>7</td>\n",
       "      <td>23</td>\n",
       "      <td>1461946043</td>\n",
       "      <td>2016</td>\n",
       "      <td>4</td>\n",
       "      <td>17</td>\n",
       "      <td>29</td>\n",
       "      <td>4</td>\n",
       "      <td>120</td>\n",
       "      <td>0</td>\n",
       "      <td>0</td>\n",
       "      <td>0</td>\n",
       "      <td>0</td>\n",
       "      <td>0</td>\n",
       "      <td>0</td>\n",
       "      <td>1461888000</td>\n",
       "    </tr>\n",
       "  </tbody>\n",
       "</table>\n",
       "</div>"
      ],
      "text/plain": [
       "         PatientId  AppointmentID Gender        ScheduledDay AppointmentDay  Age      Neighbourhood  Scholarship  Hipertension  Diabetes  Alcoholism  Handcap  SMS_received No-show  ScheduledDayYear  ScheduledDayMonth  ScheduledDayWeek  ScheduledDayDay  ScheduledDayDayofweek  ScheduledDayDayofyear  ScheduledDayIs_month_end  ScheduledDayIs_month_start  ScheduledDayIs_quarter_end  ScheduledDayIs_quarter_start  ScheduledDayIs_year_end  ScheduledDayIs_year_start  ScheduledDayHour  \\\n",
       "0   29872499824296        5642903      F 2016-04-29 18:38:08     2016-04-29   62    JARDIM DA PENHA            0             1         0           0        0             0      No              2016                  4                17               29                      4                    120                         0                           0                           0                             0                        0                          0                18   \n",
       "1  558997776694438        5642503      M 2016-04-29 16:08:27     2016-04-29   56    JARDIM DA PENHA            0             0         0           0        0             0      No              2016                  4                17               29                      4                    120                         0                           0                           0                             0                        0                          0                16   \n",
       "2    4262962299951        5642549      F 2016-04-29 16:19:04     2016-04-29   62      MATA DA PRAIA            0             0         0           0        0             0      No              2016                  4                17               29                      4                    120                         0                           0                           0                             0                        0                          0                16   \n",
       "3     867951213174        5642828      F 2016-04-29 17:29:31     2016-04-29    8  PONTAL DE CAMBURI            0             0         0           0        0             0      No              2016                  4                17               29                      4                    120                         0                           0                           0                             0                        0                          0                17   \n",
       "4    8841186448183        5642494      F 2016-04-29 16:07:23     2016-04-29   56    JARDIM DA PENHA            0             1         1           0        0             0      No              2016                  4                17               29                      4                    120                         0                           0                           0                             0                        0                          0                16   \n",
       "\n",
       "   ScheduledDayMinute  ScheduledDaySecond  ScheduledDayElapsed  AppointmentDayYear  AppointmentDayMonth  AppointmentDayWeek  AppointmentDayDay  AppointmentDayDayofweek  AppointmentDayDayofyear  AppointmentDayIs_month_end  AppointmentDayIs_month_start  AppointmentDayIs_quarter_end  AppointmentDayIs_quarter_start  AppointmentDayIs_year_end  AppointmentDayIs_year_start  AppointmentDayElapsed  \n",
       "0                  38                   8           1461955088                2016                    4                  17                 29                        4                      120                           0                             0                             0                               0                          0                            0             1461888000  \n",
       "1                   8                  27           1461946107                2016                    4                  17                 29                        4                      120                           0                             0                             0                               0                          0                            0             1461888000  \n",
       "2                  19                   4           1461946744                2016                    4                  17                 29                        4                      120                           0                             0                             0                               0                          0                            0             1461888000  \n",
       "3                  29                  31           1461950971                2016                    4                  17                 29                        4                      120                           0                             0                             0                               0                          0                            0             1461888000  \n",
       "4                   7                  23           1461946043                2016                    4                  17                 29                        4                      120                           0                             0                             0                               0                          0                            0             1461888000  "
      ]
     },
     "execution_count": 16,
     "metadata": {},
     "output_type": "execute_result"
    }
   ],
   "source": [
    "train_df.head()"
   ]
  },
  {
   "cell_type": "code",
   "execution_count": 17,
   "metadata": {},
   "outputs": [],
   "source": [
    "train_df['Handcap'] = train_df['Handcap'].astype(str)"
   ]
  },
  {
   "cell_type": "code",
   "execution_count": 18,
   "metadata": {},
   "outputs": [],
   "source": [
    "train_df.drop(train_df[train_df['ScheduledDayYear']==2015].index,inplace=True)"
   ]
  },
  {
   "cell_type": "code",
   "execution_count": 19,
   "metadata": {},
   "outputs": [],
   "source": [
    "patient_id_count = train_df.groupby(['PatientId', 'No-show'], as_index=False)['PatientId'].agg(['count'])\n",
    "patient_id_count.rename(columns={'PatientId': 'count'}, inplace=True)"
   ]
  },
  {
   "cell_type": "code",
   "execution_count": 20,
   "metadata": {},
   "outputs": [],
   "source": [
    "train_df.drop(train_df[train_df['Age'] ==-1].index,inplace=True)"
   ]
  },
  {
   "cell_type": "code",
   "execution_count": 21,
   "metadata": {},
   "outputs": [
    {
     "data": {
      "image/png": "[encoded data removed]",
      "text/plain": [
       "<Figure size 432x288 with 1 Axes>"
      ]
     },
     "metadata": {},
     "output_type": "display_data"
    }
   ],
   "source": [
    "ax = sns.countplot(x=\"No-show\", data=train_df,palette=pkmn_type_colors)"
   ]
  },
  {
   "cell_type": "markdown",
   "metadata": {},
   "source": [
    "#####  As shown its a highly imbalanced dataset"
   ]
  },
  {
   "cell_type": "code",
   "execution_count": 22,
   "metadata": {},
   "outputs": [
    {
     "name": "stdout",
     "output_type": "stream",
     "text": [
      "constant features :43,2\n"
     ]
    },
    {
     "data": {
      "text/html": [
       "<div>\n",
       "<style scoped>\n",
       "    .dataframe tbody tr th:only-of-type {\n",
       "        vertical-align: middle;\n",
       "    }\n",
       "\n",
       "    .dataframe tbody tr th {\n",
       "        vertical-align: top;\n",
       "    }\n",
       "\n",
       "    .dataframe thead th {\n",
       "        text-align: right;\n",
       "    }\n",
       "</style>\n",
       "<table border=\"1\" class=\"dataframe\">\n",
       "  <thead>\n",
       "    <tr style=\"text-align: right;\">\n",
       "      <th></th>\n",
       "      <th>feature</th>\n",
       "      <th>count</th>\n",
       "    </tr>\n",
       "  </thead>\n",
       "  <tbody>\n",
       "    <tr>\n",
       "      <th>14</th>\n",
       "      <td>ScheduledDayYear</td>\n",
       "      <td>1</td>\n",
       "    </tr>\n",
       "    <tr>\n",
       "      <th>24</th>\n",
       "      <td>ScheduledDayIs_year_end</td>\n",
       "      <td>1</td>\n",
       "    </tr>\n",
       "    <tr>\n",
       "      <th>25</th>\n",
       "      <td>ScheduledDayIs_year_start</td>\n",
       "      <td>1</td>\n",
       "    </tr>\n",
       "    <tr>\n",
       "      <th>30</th>\n",
       "      <td>AppointmentDayYear</td>\n",
       "      <td>1</td>\n",
       "    </tr>\n",
       "    <tr>\n",
       "      <th>38</th>\n",
       "      <td>AppointmentDayIs_quarter_end</td>\n",
       "      <td>1</td>\n",
       "    </tr>\n",
       "    <tr>\n",
       "      <th>39</th>\n",
       "      <td>AppointmentDayIs_quarter_start</td>\n",
       "      <td>1</td>\n",
       "    </tr>\n",
       "    <tr>\n",
       "      <th>40</th>\n",
       "      <td>AppointmentDayIs_year_end</td>\n",
       "      <td>1</td>\n",
       "    </tr>\n",
       "    <tr>\n",
       "      <th>41</th>\n",
       "      <td>AppointmentDayIs_year_start</td>\n",
       "      <td>1</td>\n",
       "    </tr>\n",
       "  </tbody>\n",
       "</table>\n",
       "</div>"
      ],
      "text/plain": [
       "                           feature  count\n",
       "14                ScheduledDayYear      1\n",
       "24         ScheduledDayIs_year_end      1\n",
       "25       ScheduledDayIs_year_start      1\n",
       "30              AppointmentDayYear      1\n",
       "38    AppointmentDayIs_quarter_end      1\n",
       "39  AppointmentDayIs_quarter_start      1\n",
       "40       AppointmentDayIs_year_end      1\n",
       "41     AppointmentDayIs_year_start      1"
      ]
     },
     "execution_count": 22,
     "metadata": {},
     "output_type": "execute_result"
    }
   ],
   "source": [
    "feature_count  = train_df.nunique(dropna=False)\n",
    "constant_features = pd.DataFrame({'feature':feature_count.index,'count':feature_count.values})\n",
    "print(\"constant features :{0},{1}\".format(*constant_features.shape))\n",
    "constant_features[constant_features['count']==1] "
   ]
  },
  {
   "cell_type": "code",
   "execution_count": 23,
   "metadata": {},
   "outputs": [],
   "source": [
    "train_df.drop(constant_features[constant_features['count']==1]['feature'].values,axis =1,inplace=True)"
   ]
  },
  {
   "cell_type": "code",
   "execution_count": 24,
   "metadata": {},
   "outputs": [],
   "source": [
    "continuous = ['Age']\n",
    "columns_to_ignore =['PatientId','AppointmentID','Neighbourhood','No-show']\n",
    "categorical = [column  for column in train_df.columns.values if column not in continuous+columns_to_ignore]\n"
   ]
  },
  {
   "cell_type": "code",
   "execution_count": 25,
   "metadata": {
    "scrolled": false
   },
   "outputs": [],
   "source": [
    "# f = pd.melt(train_df, value_vars=sorted(categorical[:12]))\n",
    "# g = sns.FacetGrid(f, col='variable', col_wrap=4, sharex=False, sharey=False)\n",
    "# plt.xticks(rotation='vertical')\n",
    "# g = g.map(sns.countplot, 'value')\n",
    "# [plt.setp(ax.get_xticklabels(), rotation=60) for ax in g.axes.flat]\n",
    "# g.fig.tight_layout()\n",
    "# plt.show()"
   ]
  },
  {
   "cell_type": "code",
   "execution_count": 26,
   "metadata": {},
   "outputs": [],
   "source": [
    "# f = pd.melt(train_df, value_vars=sorted(categorical[13:]))\n",
    "# g = sns.FacetGrid(f, col='variable', col_wrap=4, sharex=False, sharey=False)\n",
    "# plt.xticks(rotation='vertical')\n",
    "# g = g.map(sns.countplot, 'value')\n",
    "# [plt.setp(ax.get_xticklabels(), rotation=60) for ax in g.axes.flat]\n",
    "# g.fig.tight_layout()\n",
    "# plt.show()"
   ]
  },
  {
   "cell_type": "code",
   "execution_count": 27,
   "metadata": {
    "scrolled": false
   },
   "outputs": [],
   "source": [
    "# for column in ['ScheduledDayMonth','ScheduledDayWeek',]:\n",
    "#     g=sns.factorplot(\"No-show\", col = column, \n",
    "#                    data = train_df[train_df[column].notnull()],kind = \"count\",\n",
    "#                    palette=pkmn_type_colors,size=5,aspect=1,col_wrap=4)\n",
    "#     g.fig.get_axes()[0].set_yscale('log')\n",
    "#     plt.show()"
   ]
  },
  {
   "cell_type": "code",
   "execution_count": 44,
   "metadata": {},
   "outputs": [
    {
     "data": {
      "text/plain": [
       "<matplotlib.axes._subplots.AxesSubplot at 0x1a1a6ffb198>"
      ]
     },
     "execution_count": 44,
     "metadata": {},
     "output_type": "execute_result"
    },
    {
     "data": {
      "image/png": "[encoded data removed]",
      "text/plain": [
       "<Figure size 432x288 with 1 Axes>"
      ]
     },
     "metadata": {},
     "output_type": "display_data"
    }
   ],
   "source": [
    "sns.distplot(train_df[train_df['No-show']=='Yes']['Age'],bins=10, kde=False)"
   ]
  },
  {
   "cell_type": "code",
   "execution_count": 45,
   "metadata": {},
   "outputs": [
    {
     "data": {
      "text/plain": [
       "<matplotlib.axes._subplots.AxesSubplot at 0x1a1a718da90>"
      ]
     },
     "execution_count": 45,
     "metadata": {},
     "output_type": "execute_result"
    },
    {
     "data": {
      "image/png": "[encoded data removed]",
      "text/plain": [
       "<Figure size 432x288 with 1 Axes>"
      ]
     },
     "metadata": {},
     "output_type": "display_data"
    }
   ],
   "source": [
    "sns.distplot(train_df[train_df['No-show']=='No']['Age'],bins=10, kde=False)"
   ]
  },
  {
   "cell_type": "code",
   "execution_count": 30,
   "metadata": {},
   "outputs": [],
   "source": [
    "#train_df['Age'] =np.log1p(train_df['Age'])"
   ]
  },
  {
   "cell_type": "code",
   "execution_count": 46,
   "metadata": {},
   "outputs": [],
   "source": [
    "#categorical.append('binned_Age')\n",
    "cat_data =  train_df[categorical+['No-show']]"
   ]
  },
  {
   "cell_type": "code",
   "execution_count": 32,
   "metadata": {},
   "outputs": [],
   "source": [
    "#bins =  list(np.linspace(0,100,11))\n",
    "#display(bins)\n",
    "#display(list(range(len(bins))))\n",
    "\n",
    "#bins = list(np.linspace(0,100,11))\n",
    "#labels = list(range(len(bins)-1))\n",
    "#train_df['binned_Age'] = pd.cut(train_df['Age'], bins=bins, labels=labels)"
   ]
  },
  {
   "cell_type": "code",
   "execution_count": 33,
   "metadata": {
    "scrolled": false
   },
   "outputs": [],
   "source": [
    "#train_df['binned_Age'].fillna(0,inplace=True)\n",
    "#train_df['binned_Age'] =train_df['binned_Age'].astype(str)"
   ]
  },
  {
   "cell_type": "code",
   "execution_count": 34,
   "metadata": {},
   "outputs": [],
   "source": [
    "# from scipy import stats\n",
    "# def anova(frame,categorical_features):\n",
    "#     anv = pd.DataFrame()\n",
    "#     anv['features'] = categorical_features\n",
    "#     pvals = []\n",
    "#     for c in categorical_features:\n",
    "#         samples = []\n",
    "#         for cls in frame[c].unique():\n",
    "#             s = frame[frame[c] == cls]['No-show'].values\n",
    "#             samples.append(s)\n",
    "#         pval = stats.f_oneway(*samples)[1]\n",
    "#         pvals.append(pval)\n",
    "#     anv['pval'] = pvals\n",
    "#     return anv.sort_values('pval')\n",
    "\n",
    " \n",
    "# k = anova(cat_data,categorical) \n",
    "# k['disparity'] = np.log(1./k['pval'].values) \n",
    "\n",
    "# plt.figure(figsize=(10,8))\n",
    "# sns.barplot(data=k, x = 'features', y='disparity') \n",
    "# plt.xticks(rotation=90) \n",
    "# plt "
   ]
  },
  {
   "cell_type": "code",
   "execution_count": 35,
   "metadata": {},
   "outputs": [
    {
     "data": {
      "text/html": [
       "<div>\n",
       "<style scoped>\n",
       "    .dataframe tbody tr th:only-of-type {\n",
       "        vertical-align: middle;\n",
       "    }\n",
       "\n",
       "    .dataframe tbody tr th {\n",
       "        vertical-align: top;\n",
       "    }\n",
       "\n",
       "    .dataframe thead th {\n",
       "        text-align: right;\n",
       "    }\n",
       "</style>\n",
       "<table border=\"1\" class=\"dataframe\">\n",
       "  <thead>\n",
       "    <tr style=\"text-align: right;\">\n",
       "      <th></th>\n",
       "      <th>PatientId</th>\n",
       "      <th>AppointmentID</th>\n",
       "      <th>Gender</th>\n",
       "      <th>ScheduledDay</th>\n",
       "      <th>AppointmentDay</th>\n",
       "      <th>Age</th>\n",
       "      <th>Neighbourhood</th>\n",
       "      <th>Scholarship</th>\n",
       "      <th>Hipertension</th>\n",
       "      <th>Diabetes</th>\n",
       "      <th>Alcoholism</th>\n",
       "      <th>Handcap</th>\n",
       "      <th>SMS_received</th>\n",
       "      <th>No-show</th>\n",
       "      <th>ScheduledDayMonth</th>\n",
       "      <th>ScheduledDayWeek</th>\n",
       "      <th>ScheduledDayDay</th>\n",
       "      <th>ScheduledDayDayofweek</th>\n",
       "      <th>ScheduledDayDayofyear</th>\n",
       "      <th>ScheduledDayIs_month_end</th>\n",
       "      <th>ScheduledDayIs_month_start</th>\n",
       "      <th>ScheduledDayIs_quarter_end</th>\n",
       "      <th>ScheduledDayIs_quarter_start</th>\n",
       "      <th>ScheduledDayHour</th>\n",
       "      <th>ScheduledDayMinute</th>\n",
       "      <th>ScheduledDaySecond</th>\n",
       "      <th>ScheduledDayElapsed</th>\n",
       "      <th>AppointmentDayMonth</th>\n",
       "      <th>AppointmentDayWeek</th>\n",
       "      <th>AppointmentDayDay</th>\n",
       "      <th>AppointmentDayDayofweek</th>\n",
       "      <th>AppointmentDayDayofyear</th>\n",
       "      <th>AppointmentDayIs_month_end</th>\n",
       "      <th>AppointmentDayIs_month_start</th>\n",
       "      <th>AppointmentDayElapsed</th>\n",
       "    </tr>\n",
       "  </thead>\n",
       "  <tbody>\n",
       "    <tr>\n",
       "      <th>0</th>\n",
       "      <td>29872499824296</td>\n",
       "      <td>5642903</td>\n",
       "      <td>F</td>\n",
       "      <td>2016-04-29 18:38:08</td>\n",
       "      <td>2016-04-29</td>\n",
       "      <td>62</td>\n",
       "      <td>JARDIM DA PENHA</td>\n",
       "      <td>0</td>\n",
       "      <td>1</td>\n",
       "      <td>0</td>\n",
       "      <td>0</td>\n",
       "      <td>0</td>\n",
       "      <td>0</td>\n",
       "      <td>No</td>\n",
       "      <td>4</td>\n",
       "      <td>17</td>\n",
       "      <td>29</td>\n",
       "      <td>4</td>\n",
       "      <td>120</td>\n",
       "      <td>0</td>\n",
       "      <td>0</td>\n",
       "      <td>0</td>\n",
       "      <td>0</td>\n",
       "      <td>18</td>\n",
       "      <td>38</td>\n",
       "      <td>8</td>\n",
       "      <td>1461955088</td>\n",
       "      <td>4</td>\n",
       "      <td>17</td>\n",
       "      <td>29</td>\n",
       "      <td>4</td>\n",
       "      <td>120</td>\n",
       "      <td>0</td>\n",
       "      <td>0</td>\n",
       "      <td>1461888000</td>\n",
       "    </tr>\n",
       "    <tr>\n",
       "      <th>1</th>\n",
       "      <td>558997776694438</td>\n",
       "      <td>5642503</td>\n",
       "      <td>M</td>\n",
       "      <td>2016-04-29 16:08:27</td>\n",
       "      <td>2016-04-29</td>\n",
       "      <td>56</td>\n",
       "      <td>JARDIM DA PENHA</td>\n",
       "      <td>0</td>\n",
       "      <td>0</td>\n",
       "      <td>0</td>\n",
       "      <td>0</td>\n",
       "      <td>0</td>\n",
       "      <td>0</td>\n",
       "      <td>No</td>\n",
       "      <td>4</td>\n",
       "      <td>17</td>\n",
       "      <td>29</td>\n",
       "      <td>4</td>\n",
       "      <td>120</td>\n",
       "      <td>0</td>\n",
       "      <td>0</td>\n",
       "      <td>0</td>\n",
       "      <td>0</td>\n",
       "      <td>16</td>\n",
       "      <td>8</td>\n",
       "      <td>27</td>\n",
       "      <td>1461946107</td>\n",
       "      <td>4</td>\n",
       "      <td>17</td>\n",
       "      <td>29</td>\n",
       "      <td>4</td>\n",
       "      <td>120</td>\n",
       "      <td>0</td>\n",
       "      <td>0</td>\n",
       "      <td>1461888000</td>\n",
       "    </tr>\n",
       "    <tr>\n",
       "      <th>2</th>\n",
       "      <td>4262962299951</td>\n",
       "      <td>5642549</td>\n",
       "      <td>F</td>\n",
       "      <td>2016-04-29 16:19:04</td>\n",
       "      <td>2016-04-29</td>\n",
       "      <td>62</td>\n",
       "      <td>MATA DA PRAIA</td>\n",
       "      <td>0</td>\n",
       "      <td>0</td>\n",
       "      <td>0</td>\n",
       "      <td>0</td>\n",
       "      <td>0</td>\n",
       "      <td>0</td>\n",
       "      <td>No</td>\n",
       "      <td>4</td>\n",
       "      <td>17</td>\n",
       "      <td>29</td>\n",
       "      <td>4</td>\n",
       "      <td>120</td>\n",
       "      <td>0</td>\n",
       "      <td>0</td>\n",
       "      <td>0</td>\n",
       "      <td>0</td>\n",
       "      <td>16</td>\n",
       "      <td>19</td>\n",
       "      <td>4</td>\n",
       "      <td>1461946744</td>\n",
       "      <td>4</td>\n",
       "      <td>17</td>\n",
       "      <td>29</td>\n",
       "      <td>4</td>\n",
       "      <td>120</td>\n",
       "      <td>0</td>\n",
       "      <td>0</td>\n",
       "      <td>1461888000</td>\n",
       "    </tr>\n",
       "    <tr>\n",
       "      <th>3</th>\n",
       "      <td>867951213174</td>\n",
       "      <td>5642828</td>\n",
       "      <td>F</td>\n",
       "      <td>2016-04-29 17:29:31</td>\n",
       "      <td>2016-04-29</td>\n",
       "      <td>8</td>\n",
       "      <td>PONTAL DE CAMBURI</td>\n",
       "      <td>0</td>\n",
       "      <td>0</td>\n",
       "      <td>0</td>\n",
       "      <td>0</td>\n",
       "      <td>0</td>\n",
       "      <td>0</td>\n",
       "      <td>No</td>\n",
       "      <td>4</td>\n",
       "      <td>17</td>\n",
       "      <td>29</td>\n",
       "      <td>4</td>\n",
       "      <td>120</td>\n",
       "      <td>0</td>\n",
       "      <td>0</td>\n",
       "      <td>0</td>\n",
       "      <td>0</td>\n",
       "      <td>17</td>\n",
       "      <td>29</td>\n",
       "      <td>31</td>\n",
       "      <td>1461950971</td>\n",
       "      <td>4</td>\n",
       "      <td>17</td>\n",
       "      <td>29</td>\n",
       "      <td>4</td>\n",
       "      <td>120</td>\n",
       "      <td>0</td>\n",
       "      <td>0</td>\n",
       "      <td>1461888000</td>\n",
       "    </tr>\n",
       "    <tr>\n",
       "      <th>4</th>\n",
       "      <td>8841186448183</td>\n",
       "      <td>5642494</td>\n",
       "      <td>F</td>\n",
       "      <td>2016-04-29 16:07:23</td>\n",
       "      <td>2016-04-29</td>\n",
       "      <td>56</td>\n",
       "      <td>JARDIM DA PENHA</td>\n",
       "      <td>0</td>\n",
       "      <td>1</td>\n",
       "      <td>1</td>\n",
       "      <td>0</td>\n",
       "      <td>0</td>\n",
       "      <td>0</td>\n",
       "      <td>No</td>\n",
       "      <td>4</td>\n",
       "      <td>17</td>\n",
       "      <td>29</td>\n",
       "      <td>4</td>\n",
       "      <td>120</td>\n",
       "      <td>0</td>\n",
       "      <td>0</td>\n",
       "      <td>0</td>\n",
       "      <td>0</td>\n",
       "      <td>16</td>\n",
       "      <td>7</td>\n",
       "      <td>23</td>\n",
       "      <td>1461946043</td>\n",
       "      <td>4</td>\n",
       "      <td>17</td>\n",
       "      <td>29</td>\n",
       "      <td>4</td>\n",
       "      <td>120</td>\n",
       "      <td>0</td>\n",
       "      <td>0</td>\n",
       "      <td>1461888000</td>\n",
       "    </tr>\n",
       "  </tbody>\n",
       "</table>\n",
       "</div>"
      ],
      "text/plain": [
       "         PatientId  AppointmentID Gender        ScheduledDay AppointmentDay  Age      Neighbourhood  Scholarship  Hipertension  Diabetes  Alcoholism Handcap  SMS_received No-show  ScheduledDayMonth  ScheduledDayWeek  ScheduledDayDay  ScheduledDayDayofweek  ScheduledDayDayofyear  ScheduledDayIs_month_end  ScheduledDayIs_month_start  ScheduledDayIs_quarter_end  ScheduledDayIs_quarter_start  ScheduledDayHour  ScheduledDayMinute  ScheduledDaySecond  ScheduledDayElapsed  AppointmentDayMonth  \\\n",
       "0   29872499824296        5642903      F 2016-04-29 18:38:08     2016-04-29   62    JARDIM DA PENHA            0             1         0           0       0             0      No                  4                17               29                      4                    120                         0                           0                           0                             0                18                  38                   8           1461955088                    4   \n",
       "1  558997776694438        5642503      M 2016-04-29 16:08:27     2016-04-29   56    JARDIM DA PENHA            0             0         0           0       0             0      No                  4                17               29                      4                    120                         0                           0                           0                             0                16                   8                  27           1461946107                    4   \n",
       "2    4262962299951        5642549      F 2016-04-29 16:19:04     2016-04-29   62      MATA DA PRAIA            0             0         0           0       0             0      No                  4                17               29                      4                    120                         0                           0                           0                             0                16                  19                   4           1461946744                    4   \n",
       "3     867951213174        5642828      F 2016-04-29 17:29:31     2016-04-29    8  PONTAL DE CAMBURI            0             0         0           0       0             0      No                  4                17               29                      4                    120                         0                           0                           0                             0                17                  29                  31           1461950971                    4   \n",
       "4    8841186448183        5642494      F 2016-04-29 16:07:23     2016-04-29   56    JARDIM DA PENHA            0             1         1           0       0             0      No                  4                17               29                      4                    120                         0                           0                           0                             0                16                   7                  23           1461946043                    4   \n",
       "\n",
       "   AppointmentDayWeek  AppointmentDayDay  AppointmentDayDayofweek  AppointmentDayDayofyear  AppointmentDayIs_month_end  AppointmentDayIs_month_start  AppointmentDayElapsed  \n",
       "0                  17                 29                        4                      120                           0                             0             1461888000  \n",
       "1                  17                 29                        4                      120                           0                             0             1461888000  \n",
       "2                  17                 29                        4                      120                           0                             0             1461888000  \n",
       "3                  17                 29                        4                      120                           0                             0             1461888000  \n",
       "4                  17                 29                        4                      120                           0                             0             1461888000  "
      ]
     },
     "execution_count": 35,
     "metadata": {},
     "output_type": "execute_result"
    }
   ],
   "source": [
    "train_df.head()"
   ]
  },
  {
   "cell_type": "code",
   "execution_count": 41,
   "metadata": {},
   "outputs": [
    {
     "data": {
      "text/plain": [
       "AppointmentDayMonth  No-show\n",
       "4                    No          2602\n",
       "                     Yes          633\n",
       "5                    No         64011\n",
       "                     Yes        16793\n",
       "6                    No         21551\n",
       "                     Yes         4874\n",
       "Name: No-show, dtype: int64"
      ]
     },
     "metadata": {},
     "output_type": "display_data"
    },
    {
     "data": {
      "image/png": "[encoded data removed]",
      "text/plain": [
       "<Figure size 432x288 with 1 Axes>"
      ]
     },
     "metadata": {},
     "output_type": "display_data"
    }
   ],
   "source": [
    "no_shows_by_month = train_df.groupby(['AppointmentDayMonth','No-show'])['No-show'].agg('count')\n",
    "display(no_shows_by_month)\n",
    "ax = sns.countplot(x=\"AppointmentDayMonth\", hue=\"No-show\", data=train_df)"
   ]
  },
  {
   "cell_type": "code",
   "execution_count": 42,
   "metadata": {},
   "outputs": [
    {
     "data": {
      "text/plain": [
       "AppointmentDayWeek  No-show\n",
       "17                  No          2602\n",
       "                    Yes          633\n",
       "18                  No         16679\n",
       "                    Yes         4265\n",
       "19                  No         17071\n",
       "                    Yes         4641\n",
       "20                  No         16782\n",
       "                    Yes         4663\n",
       "21                  No          6341\n",
       "                    Yes         1569\n",
       "22                  No         17571\n",
       "                    Yes         4068\n",
       "23                  No         11118\n",
       "                    Yes         2461\n",
       "Name: No-show, dtype: int64"
      ]
     },
     "metadata": {},
     "output_type": "display_data"
    },
    {
     "data": {
      "image/png": "[encoded data removed]",
      "text/plain": [
       "<Figure size 432x288 with 1 Axes>"
      ]
     },
     "metadata": {},
     "output_type": "display_data"
    }
   ],
   "source": [
    "no_shows_by_day = train_df.groupby(['AppointmentDayWeek','No-show'])['No-show'].agg('count')\n",
    "display(no_shows_by_day)\n",
    "ax = sns.countplot(x=\"AppointmentDayWeek\", hue=\"No-show\", data=train_df)"
   ]
  },
  {
   "cell_type": "code",
   "execution_count": 43,
   "metadata": {},
   "outputs": [
    {
     "data": {
      "text/plain": [
       "AppointmentDayDayofweek  No-show\n",
       "0                        No         18024\n",
       "                         Yes         4689\n",
       "1                        No         20488\n",
       "                         Yes         5152\n",
       "2                        No         20739\n",
       "                         Yes         5077\n",
       "3                        No         13909\n",
       "                         Yes         3338\n",
       "4                        No         14974\n",
       "                         Yes         4035\n",
       "5                        No            30\n",
       "                         Yes            9\n",
       "Name: No-show, dtype: int64"
      ]
     },
     "metadata": {},
     "output_type": "display_data"
    },
    {
     "data": {
      "image/png": "[encoded data removed]",
      "text/plain": [
       "<Figure size 432x288 with 1 Axes>"
      ]
     },
     "metadata": {},
     "output_type": "display_data"
    }
   ],
   "source": [
    "no_shows_by_Dayofweek = train_df.groupby(['AppointmentDayDayofweek','No-show'])['No-show'].agg('count')\n",
    "display(no_shows_by_Dayofweek)\n",
    "ax = sns.countplot(x=\"AppointmentDayDayofweek\", hue=\"No-show\", data=train_df)"
   ]
  },
  {
   "cell_type": "code",
   "execution_count": 48,
   "metadata": {},
   "outputs": [
    {
     "data": {
      "text/plain": [
       "'Gender ,ScheduledDay ,AppointmentDay ,Scholarship ,Hipertension ,Diabetes ,Alcoholism ,Handcap ,SMS_received ,ScheduledDayMonth ,ScheduledDayWeek ,ScheduledDayDay ,ScheduledDayDayofweek ,ScheduledDayDayofyear ,ScheduledDayIs_month_end ,ScheduledDayIs_month_start ,ScheduledDayIs_quarter_end ,ScheduledDayIs_quarter_start ,ScheduledDayHour ,ScheduledDayMinute ,ScheduledDaySecond ,ScheduledDayElapsed ,AppointmentDayMonth ,AppointmentDayWeek ,AppointmentDayDay ,AppointmentDayDayofweek ,AppointmentDayDayofyear ,AppointmentDayIs_month_end ,AppointmentDayIs_month_start ,AppointmentDayElapsed'"
      ]
     },
     "execution_count": 48,
     "metadata": {},
     "output_type": "execute_result"
    }
   ],
   "source": [
    "\" ,\".join(categorical)"
   ]
  },
  {
   "cell_type": "code",
   "execution_count": 51,
   "metadata": {},
   "outputs": [
    {
     "data": {
      "text/plain": [
       "AppointmentDayDay  No-show\n",
       "1                  No         3648\n",
       "                   Yes         808\n",
       "2                  No         7023\n",
       "                   Yes        1662\n",
       "3                  No         6702\n",
       "                   Yes        1634\n",
       "4                  No         3189\n",
       "                   Yes         972\n",
       "5                  No         3466\n",
       "                   Yes         807\n",
       "6                  No         6902\n",
       "                   Yes        1668\n",
       "7                  No         3600\n",
       "                   Yes         816\n",
       "8                  No         3700\n",
       "                   Yes         772\n",
       "9                  No         3501\n",
       "                   Yes        1019\n",
       "10                 No         3316\n",
       "                   Yes         992\n",
       "11                 No         3585\n",
       "                   Yes         879\n",
       "12                 No         3557\n",
       "                   Yes         837\n",
       "13                 No         3082\n",
       "                   Yes         905\n",
       "14                 No           30\n",
       "                   Yes           9\n",
       "16                 No         3564\n",
       "                   Yes        1049\n",
       "17                 No         3437\n",
       "                   Yes         935\n",
       "18                 No         3474\n",
       "                   Yes         888\n",
       "19                 No         3378\n",
       "                   Yes         892\n",
       "20                 No         2929\n",
       "                   Yes         899\n",
       "24                 No         3198\n",
       "                   Yes         811\n",
       "25                 No         3143\n",
       "                   Yes         758\n",
       "29                 No         2602\n",
       "                   Yes         633\n",
       "30                 No         3626\n",
       "                   Yes         888\n",
       "31                 No         3512\n",
       "                   Yes         767\n",
       "Name: No-show, dtype: int64"
      ]
     },
     "metadata": {},
     "output_type": "display_data"
    },
    {
     "data": {
      "image/png": "[encoded data removed]",
      "text/plain": [
       "<Figure size 432x288 with 1 Axes>"
      ]
     },
     "metadata": {},
     "output_type": "display_data"
    }
   ],
   "source": [
    "no_shows_by_DayDay= train_df.groupby(['AppointmentDayDay','No-show'])['No-show'].agg('count')\n",
    "display(no_shows_by_DayDay)\n",
    "ax = sns.countplot(x=\"AppointmentDayDay\", hue=\"No-show\", data=train_df)"
   ]
  },
  {
   "cell_type": "code",
   "execution_count": 36,
   "metadata": {},
   "outputs": [
    {
     "ename": "NameError",
     "evalue": "name 'Check' is not defined",
     "output_type": "error",
     "traceback": [
      "\u001b[1;31m---------------------------------------------------------------------------\u001b[0m",
      "\u001b[1;31mNameError\u001b[0m                                 Traceback (most recent call last)",
      "\u001b[1;32m<ipython-input-36-85d53ae9eb86>\u001b[0m in \u001b[0;36m<module>\u001b[1;34m()\u001b[0m\n\u001b[1;32m----> 1\u001b[1;33m \u001b[0mCheck\u001b[0m\u001b[1;33m\u001b[0m\u001b[0m\n\u001b[0m",
      "\u001b[1;31mNameError\u001b[0m: name 'Check' is not defined"
     ]
    }
   ],
   "source": [
    "Check"
   ]
  },
  {
   "cell_type": "code",
   "execution_count": null,
   "metadata": {},
   "outputs": [],
   "source": [
    "from statsmodels.graphics.mosaicplot import mosaic"
   ]
  },
  {
   "cell_type": "code",
   "execution_count": null,
   "metadata": {},
   "outputs": [],
   "source": [
    "mosaic(train_df, ['No-show','Gender','Hipertension'])\n",
    "plt.show()"
   ]
  },
  {
   "cell_type": "code",
   "execution_count": null,
   "metadata": {},
   "outputs": [],
   "source": [
    "train_df.drop(['PatientId','AppointmentID','Neighbourhood',],axis=1,inplace=True,)"
   ]
  },
  {
   "cell_type": "code",
   "execution_count": null,
   "metadata": {},
   "outputs": [],
   "source": [
    "train_df.drop(['ScheduledDay','AppointmentDay',],axis =1,inplace=True)"
   ]
  },
  {
   "cell_type": "code",
   "execution_count": null,
   "metadata": {},
   "outputs": [],
   "source": [
    "train_df.drop(['ScheduledDayDay','ScheduledDayHour',\n",
    "               'ScheduledDayMonth','ScheduledDayWeek','ScheduledDayDayofweek',\n",
    "               'ScheduledDayDayofyear' \n",
    "              ],axis =1,inplace=True)\n",
    "train_df.drop(['ScheduledDayElapsed','AppointmentDayElapsed',\n",
    "              'ScheduledDaySecond','ScheduledDayMinute','AppointmentDayDayofyear'\n",
    "             ],axis=1,inplace=True)"
   ]
  },
  {
   "cell_type": "code",
   "execution_count": null,
   "metadata": {},
   "outputs": [],
   "source": [
    "y_train_df =train_df['No-show']\n",
    "train_df.drop(['No-show'],axis =1,inplace=True)"
   ]
  },
  {
   "cell_type": "code",
   "execution_count": null,
   "metadata": {},
   "outputs": [],
   "source": [
    "correlation = train_df[train_df.describe(include=[np.number]).columns.values.tolist()].corr()\n",
    "fig = plt.figure(figsize=(12,8))\n",
    "ax = fig.add_subplot(111)\n",
    "cmap = sns.diverging_palette(220, 10, as_cmap=True)\n",
    "sns.heatmap(correlation, \n",
    "           xticklabels=correlation.columns.values,\n",
    "           yticklabels=correlation.index.values,\n",
    "           cmap=cmap)\n",
    "ax.xaxis.tick_top()\n",
    "plt.setp(ax.get_xticklabels(), rotation=90)\n",
    "plt.show()"
   ]
  },
  {
   "cell_type": "code",
   "execution_count": null,
   "metadata": {},
   "outputs": [],
   "source": [
    "full_dataset = pd.get_dummies(train_df, prefix_sep='_', drop_first=False)"
   ]
  },
  {
   "cell_type": "code",
   "execution_count": null,
   "metadata": {},
   "outputs": [],
   "source": [
    "full_dataset.drop(['Handcap_1'],axis=1,inplace=True)"
   ]
  },
  {
   "cell_type": "code",
   "execution_count": null,
   "metadata": {},
   "outputs": [],
   "source": [
    "y_train_df.head()"
   ]
  },
  {
   "cell_type": "code",
   "execution_count": null,
   "metadata": {},
   "outputs": [],
   "source": [
    "full_dataset.head()"
   ]
  },
  {
   "cell_type": "code",
   "execution_count": null,
   "metadata": {},
   "outputs": [],
   "source": [
    "def evaluvate_model(clf ,X_trainmodel, y_trainmodel,X_val,y_val): \n",
    "    clf.fit(X_trainmodel, y_trainmodel.values.ravel())\n",
    "    train_sizes, train_scores, validation_scores = learning_curve(clf, \n",
    "                                                                  X_trainmodel,y_trainmodel.values.ravel(),cv=kfold)\n",
    "    plot_learning_curve(train_sizes, train_scores, validation_scores)\n",
    "    plot_roc(X_val,y_val,clf)\n",
    "    y_pred=measure_performance(X_val,y_val,clf, show_accuracy=False, \n",
    "                               show_classification_report=True,\n",
    "                               show_confusion_matrix=True, show_r2_score=False)"
   ]
  },
  {
   "cell_type": "code",
   "execution_count": null,
   "metadata": {},
   "outputs": [],
   "source": [
    "from sklearn.model_selection import train_test_split\n",
    "test_size = 0.30\n",
    "seed = 42\n",
    "X_trainmodel, X_val, y_trainmodel, y_val = train_test_split(full_dataset, y_train_df, test_size=test_size,random_state=seed)\n",
    "kfold = StratifiedKFold(n_splits=2)"
   ]
  },
  {
   "cell_type": "code",
   "execution_count": null,
   "metadata": {},
   "outputs": [],
   "source": [
    "display(full_dataset.shape)\n",
    "display(X_trainmodel.shape)\n",
    "display(X_val.shape)"
   ]
  },
  {
   "cell_type": "code",
   "execution_count": null,
   "metadata": {},
   "outputs": [],
   "source": [
    "# from sklearn.ensemble import ExtraTreesClassifier\n",
    "# from sklearn.feature_selection import SelectFromModel\n",
    "# clf = ExtraTreesClassifier(random_state=42)\n",
    "# selector = clf.fit(X_trainmodel, y_trainmodel)\n",
    "\n",
    "# # plot most important features\n",
    "# feat_imp = pd.Series(clf.feature_importances_, index = X_trainmodel.columns.values).sort_values(ascending=False)\n",
    "# feat_imp[:40].plot(kind='bar', title='Feature Importances according to ExtraTreesClassifier', figsize=(12, 8))\n",
    "# plt.ylabel('Feature Importance Score')\n",
    "# plt.subplots_adjust(bottom=0.3)\n",
    "# plt.savefig('1.png')\n",
    "# plt.show()\n",
    "\n",
    "# # clf.feature_importances_ \n",
    "# fs = SelectFromModel(selector, prefit=True)\n",
    "\n",
    "# X_trainmodel = fs.transform(X_trainmodel)\n",
    "# X_val = fs.transform(X_val)"
   ]
  },
  {
   "cell_type": "code",
   "execution_count": null,
   "metadata": {},
   "outputs": [],
   "source": [
    "from xgboost.sklearn import XGBClassifier\n",
    "\n",
    "xgbr = XGBClassifier(n_estimators=50, silent=False)\n",
    "xgbr.fit(X_trainmodel ,y_trainmodel.values.ravel())\n",
    "plot_roc(X_val,y_val,xgbr)"
   ]
  },
  {
   "cell_type": "code",
   "execution_count": null,
   "metadata": {},
   "outputs": [],
   "source": [
    "def calc_accuracy(predictions, y_test):\n",
    "    labels = y_test.get_label()  \n",
    "    return 'accuracy_score', (1 - sum(labels != predictions)/len(labels))"
   ]
  },
  {
   "cell_type": "code",
   "execution_count": null,
   "metadata": {},
   "outputs": [],
   "source": [
    "def calc_accuracy2(predictions, y_test):\n",
    "    return 'accuracy_score', (1 - sum(y_test != predictions)/len(y_test))"
   ]
  },
  {
   "cell_type": "code",
   "execution_count": null,
   "metadata": {},
   "outputs": [],
   "source": [
    "import xgboost as xgb"
   ]
  },
  {
   "cell_type": "code",
   "execution_count": null,
   "metadata": {},
   "outputs": [],
   "source": [
    "xgb_params = {\"objective\": \"multi:softmax\",\n",
    "          'num_class': 2,\n",
    "          \"booster\" : \"gbtree\",\n",
    "          'learning_rate': 0.1,\n",
    "          \"max_depth\": 3,\n",
    "          \"subsample\": 1,\n",
    "          'colsample_bylevel': 0.8,\n",
    "          'gamma': 0,\n",
    "          'min_child_weight': 1.0,\n",
    "          'alpha': 1,\n",
    "          \"silent\": 1,\n",
    "          'nrounds':20\n",
    "          }\n",
    "\n",
    "params_X = {\n",
    "    \"objective\": \"multi:softmax\",\n",
    "     'num_class': 2,\n",
    "    'eta': 0.04,\n",
    "    'max_depth': 5,\n",
    "    'min_child_weight': 9.15,\n",
    "    'gamma': 0.59,\n",
    "    'subsample': 0.8,\n",
    "    'colsample_bytree': 0.8,\n",
    "    'alpha': 10.4,\n",
    "    'lambda': 5,\n",
    "    'nthread': 4,\n",
    "    'silent': 1,\n",
    "}\n",
    "num_boost_round =15"
   ]
  },
  {
   "cell_type": "code",
   "execution_count": null,
   "metadata": {},
   "outputs": [],
   "source": [
    "print(\"Train a XGBoost model\")\n",
    "dtrain = xgb.DMatrix(X_trainmodel, y_trainmodel)\n",
    "dvalid = xgb.DMatrix(X_val, y_val)\n",
    "# \n",
    "watchlist = [(dtrain, 'train'), (dvalid, 'eval')]\n",
    "gbm = xgb.train(params_X, dtrain, num_boost_round, watchlist,feval=calc_accuracy,\n",
    "                maximize=True, early_stopping_rounds=50, verbose_eval=True)"
   ]
  },
  {
   "cell_type": "code",
   "execution_count": null,
   "metadata": {},
   "outputs": [],
   "source": [
    "#xg = XgBoostWrapper(seed=27, params=xgb_params)\n",
    "#xg.train(X_trainmodel, y_trainmodel)\n",
    "#y_val_pred = xg.predict(X_val)\n",
    "#calc_accuracy2(y_val_pred,y_val)"
   ]
  },
  {
   "cell_type": "code",
   "execution_count": null,
   "metadata": {},
   "outputs": [],
   "source": [
    "def create_feature_map(features):\n",
    "    outfile = open('xgb.fmap', 'w')\n",
    "    i = 0\n",
    "    for feat in features:\n",
    "        outfile.write('{0}\\t{1}\\tq\\n'.format(i, feat))\n",
    "        i = i + 1\n",
    "    outfile.close()\n",
    "\n",
    "import operator\n",
    "create_feature_map(X_trainmodel)\n",
    "\n",
    "importance = gbm.get_fscore(fmap='xgb.fmap')\n",
    "importance = sorted(importance.items(), key=operator.itemgetter(1))\n",
    "\n",
    "df_importances = pd.DataFrame(importance, columns=['feature', 'fscore'])\n",
    "df_importances['fscore'] = df_importances['fscore'] / df_importances['fscore'].sum()\n",
    "\n",
    "df_importances.plot(kind='barh', x='feature', y='fscore')\n",
    "plt.title('XGBoost Feature Importance')\n",
    "plt.xlabel('relative importance')"
   ]
  },
  {
   "cell_type": "code",
   "execution_count": null,
   "metadata": {},
   "outputs": [],
   "source": [
    "heatmap_data =X_trainmodel\n",
    "corr_matrix =heatmap_data.corr('pearson')\n",
    "upper = corr_matrix.where(np.triu(np.ones(corr_matrix.shape), k=1).astype(np.bool)) \n",
    "correlation_threshold = 0.90\n",
    "to_drop = [column for column in upper.columns if any(upper[column].abs() > correlation_threshold) and column not in ['SalePrice','LogSalePrice']]\n",
    "to_drop    "
   ]
  },
  {
   "cell_type": "code",
   "execution_count": null,
   "metadata": {},
   "outputs": [],
   "source": [
    "correlated_predictors ={}\n",
    "record_collinear = pd.DataFrame(columns = ['drop_feature', 'corr_feature', 'corr_value'])\n",
    "for column in to_drop:\n",
    "    co_related_features = list(upper.index[upper[column].abs() > correlation_threshold])\n",
    "    co_related_values = list(upper[column][upper[column].abs() > correlation_threshold])\n",
    "    drop_features = [column for _ in range(len(co_related_features))]  \n",
    "\n",
    "    temp_df = pd.DataFrame.from_dict({'drop_feature': drop_features,\n",
    "                                             'corr_feature': co_related_features,\n",
    "                                             'corr_value': co_related_values})\n",
    "    record_collinear = record_collinear.append(temp_df, ignore_index = True)\n",
    "record_collinear.sort_values(by=['corr_value'],ascending=True)"
   ]
  },
  {
   "cell_type": "code",
   "execution_count": null,
   "metadata": {},
   "outputs": [],
   "source": []
  }
 ],
 "metadata": {
  "kernelspec": {
   "display_name": "Python 3",
   "language": "python",
   "name": "python3"
  },
  "language_info": {
   "codemirror_mode": {
    "name": "ipython",
    "version": 3
   },
   "file_extension": ".py",
   "mimetype": "text/x-python",
   "name": "python",
   "nbconvert_exporter": "python",
   "pygments_lexer": "ipython3",
   "version": "3.6.5"
  }
 },
 "nbformat": 4,
 "nbformat_minor": 2
}
