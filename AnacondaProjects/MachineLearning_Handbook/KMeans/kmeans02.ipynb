{
 "cells": [
  {
   "cell_type": "code",
   "execution_count": 2,
   "metadata": {
    "collapsed": true
   },
   "outputs": [],
   "source": [
    "from mlsettings.settings import load_app_config, get_datafolder_path\n",
    "from mltools.mlcommon import load_data, print_dataset_info, split_dataset, auto_scatter_simple\n",
    "% matplotlib inline \n",
    "import matplotlib.pyplot as plt\n",
    "import pandas as pd\n",
    "import os\n",
    "import seaborn as sns"
   ]
  },
  {
   "cell_type": "code",
   "execution_count": 3,
   "metadata": {},
   "outputs": [
    {
     "name": "stdout",
     "output_type": "stream",
     "text": [
      "{'REG': {'ML_DATASOURCE': 'F:\\\\DataSource', 'ML_PATH': 'F:\\\\MachineLearning'}, 'DEV': {'ML_DATASOURCE': 'F:\\\\DataSource', 'ML_PATH': 'F:\\\\MachineLearning'}, 'PRD': {'ML_DATASOURCE': 'F:\\\\DataSource', 'ML_PATH': 'F:\\\\MachineLearning'}, 'UAT': {'ML_DATASOURCE': 'F:\\\\DataSource', 'ML_PATH': 'F:\\\\MachineLearning'}}\n",
      "Adding F:\\DataSource  to system path\n",
      "Adding F:\\MachineLearning  to system path\n"
     ]
    }
   ],
   "source": [
    "load_app_config()\n",
    "DIRECTORY=\"weather\"\n",
    "FILENAME ='weather.csv'\n",
    "input_path = get_datafolder_path()"
   ]
  },
  {
   "cell_type": "code",
   "execution_count": 74,
   "metadata": {
    "collapsed": true
   },
   "outputs": [],
   "source": [
    "from sklearn.preprocessing import LabelEncoder\n",
    "from sklearn.preprocessing import LabelBinarizer\n",
    "def transform_data(input_dataset,categorical_vars):\n",
    "    transform_dataset=input_dataset\n",
    "    class_le = LabelEncoder()\n",
    "    class_lb = LabelBinarizer()\n",
    "    for feature  in categorical_vars:\n",
    "        feature_le = class_le.fit_transform(transform_dataset[feature].values) \n",
    "        transform_dataset[feature] = feature_le\n",
    "         \n",
    "    \n",
    "    return transform_dataset\n",
    "    "
   ]
  },
  {
   "cell_type": "code",
   "execution_count": 90,
   "metadata": {},
   "outputs": [],
   "source": [
    "from sklearn.cluster import KMeans\n",
    "def start_clustering(filename=FILENAME):\n",
    "    \n",
    "    \n",
    "    input_file = os.path.join(input_path, DIRECTORY, filename)\n",
    "    input_dataset = load_data(input_file)\n",
    "    print(\" input file is :{0} loaded.\".format(input_file))\n",
    "    print(input_dataset.head())\n",
    "    continuous_vars = input_dataset.describe().columns\n",
    "    categorical_vars = input_dataset.describe(include=[\"object\"]).columns\n",
    "    y_column=\"Play\"\n",
    "    print(input_dataset.shape)\n",
    "    print(input_dataset.info())\n",
    "    # to adjust predict not x== yes\n",
    "    \n",
    "    input_dataset[y_column] =  input_dataset[y_column].apply(lambda x: not x =='yes' )   \n",
    "    \n",
    "    print(input_dataset[y_column])\n",
    "    transformed_dataset = transform_data(input_dataset,categorical_vars)\n",
    "    print(transformed_dataset.head())\n",
    "    \n",
    "    print(categorical_vars)\n",
    "    categorical_vars=categorical_vars.drop(y_column)\n",
    "    y_true = transformed_dataset[y_column]\n",
    "    transformed_dataset = transformed_dataset.drop(y_column,axis=1)\n",
    "    transformed_dataset.reset_index(drop=True)\n",
    "   \n",
    "    \n",
    "    km = KMeans(n_clusters=2, init='random',  n_init=10,max_iter=30, tol=1e-04,random_state=2)\n",
    "    y_km = km.fit_predict(transformed_dataset)\n",
    "         \n",
    "    print(y_km)\n",
    "    print(y_true.values.reshape(1,-1))\n",
    "    #sns.boxplot(data=input_dataset, orient=\"h\");\n",
    "    \n",
    "    #f, ax = plt.subplots(figsize=(5, 3))\n",
    "    #sns.countplot(y=y_column, data=input_dataset, color=\"c\");\n",
    "    \n",
    "    \n",
    "    \n",
    "    #\n",
    "    #plt.grid()\n",
    "    #plt.show()"
   ]
  },
  {
   "cell_type": "code",
   "execution_count": 91,
   "metadata": {},
   "outputs": [
    {
     "name": "stdout",
     "output_type": "stream",
     "text": [
      " input file is :F:\\DataSource\\weather\\weather.csv loaded.\n",
      "    Outlook Temperature Humidity  Windy Play\n",
      "0     sunny         hot     high  False   no\n",
      "1     sunny         hot     high   True   no\n",
      "2  overcast         hot     high  False  yes\n",
      "3     rainy        mild     high  False  yes\n",
      "4     rainy        cool   normal  False  yes\n",
      "(14, 5)\n",
      "<class 'pandas.core.frame.DataFrame'>\n",
      "RangeIndex: 14 entries, 0 to 13\n",
      "Data columns (total 5 columns):\n",
      "Outlook        14 non-null object\n",
      "Temperature    14 non-null object\n",
      "Humidity       14 non-null object\n",
      "Windy          14 non-null bool\n",
      "Play           14 non-null object\n",
      "dtypes: bool(1), object(4)\n",
      "memory usage: 542.0+ bytes\n",
      "None\n",
      "0      True\n",
      "1      True\n",
      "2     False\n",
      "3     False\n",
      "4     False\n",
      "5      True\n",
      "6     False\n",
      "7      True\n",
      "8     False\n",
      "9     False\n",
      "10    False\n",
      "11    False\n",
      "12    False\n",
      "13     True\n",
      "Name: Play, dtype: bool\n",
      "   Outlook  Temperature  Humidity  Windy  Play\n",
      "0        2            1         0  False     1\n",
      "1        2            1         0   True     1\n",
      "2        0            1         0  False     0\n",
      "3        1            2         0  False     0\n",
      "4        1            0         1  False     0\n",
      "Index(['Outlook', 'Temperature', 'Humidity', 'Play'], dtype='object')\n",
      "[1 1 0 1 0 0 0 1 0 1 1 1 0 1]\n",
      "[[1 1 0 0 0 1 0 1 0 0 0 0 0 1]]\n"
     ]
    }
   ],
   "source": [
    "start_clustering(FILENAME)"
   ]
  },
  {
   "cell_type": "code",
   "execution_count": null,
   "metadata": {
    "collapsed": true
   },
   "outputs": [],
   "source": []
  },
  {
   "cell_type": "code",
   "execution_count": null,
   "metadata": {
    "collapsed": true
   },
   "outputs": [],
   "source": []
  },
  {
   "cell_type": "code",
   "execution_count": null,
   "metadata": {
    "collapsed": true
   },
   "outputs": [],
   "source": []
  }
 ],
 "metadata": {
  "kernelspec": {
   "display_name": "Python 3",
   "language": "python",
   "name": "python3"
  },
  "language_info": {
   "codemirror_mode": {
    "name": "ipython",
    "version": 3
   },
   "file_extension": ".py",
   "mimetype": "text/x-python",
   "name": "python",
   "nbconvert_exporter": "python",
   "pygments_lexer": "ipython3",
   "version": "3.5.3"
  }
 },
 "nbformat": 4,
 "nbformat_minor": 2
}
