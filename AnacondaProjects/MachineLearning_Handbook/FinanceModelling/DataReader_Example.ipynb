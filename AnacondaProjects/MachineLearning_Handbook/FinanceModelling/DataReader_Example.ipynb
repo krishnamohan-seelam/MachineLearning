{
 "cells": [
  {
   "cell_type": "code",
   "execution_count": 1,
   "metadata": {},
   "outputs": [],
   "source": [
    "import datetime\n",
    "import numpy as np\n",
    "import pandas as pd\n",
    "import pandas_datareader as pdr\n",
    "\n",
    "import matplotlib.pyplot as plt\n",
    "import seaborn as sns\n",
    "from pandas.plotting import register_matplotlib_converters\n",
    "register_matplotlib_converters()\n",
    "sns.set()"
   ]
  },
  {
   "cell_type": "code",
   "execution_count": 2,
   "metadata": {},
   "outputs": [],
   "source": [
    "start_date = datetime.datetime(2014,1,1)\n",
    "end_date   = datetime.datetime(2019,7,9)\n",
    "bac_df = pdr.get_data_yahoo('BAC', start='2014-01-01') \n"
   ]
  },
  {
   "cell_type": "code",
   "execution_count": 3,
   "metadata": {},
   "outputs": [
    {
     "data": {
      "text/html": [
       "<div>\n",
       "<style scoped>\n",
       "    .dataframe tbody tr th:only-of-type {\n",
       "        vertical-align: middle;\n",
       "    }\n",
       "\n",
       "    .dataframe tbody tr th {\n",
       "        vertical-align: top;\n",
       "    }\n",
       "\n",
       "    .dataframe thead th {\n",
       "        text-align: right;\n",
       "    }\n",
       "</style>\n",
       "<table border=\"1\" class=\"dataframe\">\n",
       "  <thead>\n",
       "    <tr style=\"text-align: right;\">\n",
       "      <th></th>\n",
       "      <th>High</th>\n",
       "      <th>Low</th>\n",
       "      <th>Open</th>\n",
       "      <th>Close</th>\n",
       "      <th>Volume</th>\n",
       "      <th>Adj Close</th>\n",
       "    </tr>\n",
       "    <tr>\n",
       "      <th>Date</th>\n",
       "      <th></th>\n",
       "      <th></th>\n",
       "      <th></th>\n",
       "      <th></th>\n",
       "      <th></th>\n",
       "      <th></th>\n",
       "    </tr>\n",
       "  </thead>\n",
       "  <tbody>\n",
       "    <tr>\n",
       "      <th>2013-12-31</th>\n",
       "      <td>15.62</td>\n",
       "      <td>15.51</td>\n",
       "      <td>15.60</td>\n",
       "      <td>15.57</td>\n",
       "      <td>57188900.0</td>\n",
       "      <td>14.3831</td>\n",
       "    </tr>\n",
       "    <tr>\n",
       "      <th>2014-01-02</th>\n",
       "      <td>16.16</td>\n",
       "      <td>15.68</td>\n",
       "      <td>15.69</td>\n",
       "      <td>16.10</td>\n",
       "      <td>148709900.0</td>\n",
       "      <td>14.8727</td>\n",
       "    </tr>\n",
       "    <tr>\n",
       "      <th>2014-01-03</th>\n",
       "      <td>16.50</td>\n",
       "      <td>16.23</td>\n",
       "      <td>16.27</td>\n",
       "      <td>16.41</td>\n",
       "      <td>129921800.0</td>\n",
       "      <td>15.1591</td>\n",
       "    </tr>\n",
       "    <tr>\n",
       "      <th>2014-01-06</th>\n",
       "      <td>16.73</td>\n",
       "      <td>16.56</td>\n",
       "      <td>16.63</td>\n",
       "      <td>16.66</td>\n",
       "      <td>114431300.0</td>\n",
       "      <td>15.3901</td>\n",
       "    </tr>\n",
       "    <tr>\n",
       "      <th>2014-01-07</th>\n",
       "      <td>16.79</td>\n",
       "      <td>16.45</td>\n",
       "      <td>16.77</td>\n",
       "      <td>16.50</td>\n",
       "      <td>110605100.0</td>\n",
       "      <td>15.2423</td>\n",
       "    </tr>\n",
       "  </tbody>\n",
       "</table>\n",
       "</div>"
      ],
      "text/plain": [
       "             High    Low   Open  Close       Volume  Adj Close\n",
       "Date                                                          \n",
       "2013-12-31  15.62  15.51  15.60  15.57   57188900.0    14.3831\n",
       "2014-01-02  16.16  15.68  15.69  16.10  148709900.0    14.8727\n",
       "2014-01-03  16.50  16.23  16.27  16.41  129921800.0    15.1591\n",
       "2014-01-06  16.73  16.56  16.63  16.66  114431300.0    15.3901\n",
       "2014-01-07  16.79  16.45  16.77  16.50  110605100.0    15.2423"
      ]
     },
     "execution_count": 3,
     "metadata": {},
     "output_type": "execute_result"
    }
   ],
   "source": [
    "bac_df =round(bac_df,4)\n",
    "bac_df.head()"
   ]
  },
  {
   "cell_type": "code",
   "execution_count": 4,
   "metadata": {},
   "outputs": [
    {
     "data": {
      "image/png": "[encoded data removed]",
      "text/plain": [
       "<Figure size 432x288 with 1 Axes>"
      ]
     },
     "metadata": {
      "needs_background": "light"
     },
     "output_type": "display_data"
    }
   ],
   "source": [
    "ax =sns.lineplot(x=bac_df.index, y= bac_df.Close )"
   ]
  },
  {
   "cell_type": "code",
   "execution_count": 5,
   "metadata": {},
   "outputs": [
    {
     "data": {
      "text/html": [
       "<div>\n",
       "<style scoped>\n",
       "    .dataframe tbody tr th:only-of-type {\n",
       "        vertical-align: middle;\n",
       "    }\n",
       "\n",
       "    .dataframe tbody tr th {\n",
       "        vertical-align: top;\n",
       "    }\n",
       "\n",
       "    .dataframe thead th {\n",
       "        text-align: right;\n",
       "    }\n",
       "</style>\n",
       "<table border=\"1\" class=\"dataframe\">\n",
       "  <thead>\n",
       "    <tr style=\"text-align: right;\">\n",
       "      <th></th>\n",
       "      <th>High</th>\n",
       "      <th>Low</th>\n",
       "      <th>Open</th>\n",
       "      <th>Close</th>\n",
       "      <th>Volume</th>\n",
       "      <th>Adj Close</th>\n",
       "    </tr>\n",
       "    <tr>\n",
       "      <th>Date</th>\n",
       "      <th></th>\n",
       "      <th></th>\n",
       "      <th></th>\n",
       "      <th></th>\n",
       "      <th></th>\n",
       "      <th></th>\n",
       "    </tr>\n",
       "  </thead>\n",
       "  <tbody>\n",
       "    <tr>\n",
       "      <th>2013-12-31</th>\n",
       "      <td>15.62</td>\n",
       "      <td>15.51</td>\n",
       "      <td>15.60</td>\n",
       "      <td>15.57</td>\n",
       "      <td>57188900.0</td>\n",
       "      <td>14.3831</td>\n",
       "    </tr>\n",
       "    <tr>\n",
       "      <th>2014-01-31</th>\n",
       "      <td>16.98</td>\n",
       "      <td>16.61</td>\n",
       "      <td>16.72</td>\n",
       "      <td>16.75</td>\n",
       "      <td>139432100.0</td>\n",
       "      <td>15.4732</td>\n",
       "    </tr>\n",
       "    <tr>\n",
       "      <th>2014-02-28</th>\n",
       "      <td>16.65</td>\n",
       "      <td>16.35</td>\n",
       "      <td>16.49</td>\n",
       "      <td>16.53</td>\n",
       "      <td>126252100.0</td>\n",
       "      <td>15.2700</td>\n",
       "    </tr>\n",
       "    <tr>\n",
       "      <th>2014-03-31</th>\n",
       "      <td>17.27</td>\n",
       "      <td>17.12</td>\n",
       "      <td>17.15</td>\n",
       "      <td>17.20</td>\n",
       "      <td>62115800.0</td>\n",
       "      <td>15.8984</td>\n",
       "    </tr>\n",
       "    <tr>\n",
       "      <th>2014-04-30</th>\n",
       "      <td>15.27</td>\n",
       "      <td>15.13</td>\n",
       "      <td>15.26</td>\n",
       "      <td>15.14</td>\n",
       "      <td>82359700.0</td>\n",
       "      <td>13.9943</td>\n",
       "    </tr>\n",
       "  </tbody>\n",
       "</table>\n",
       "</div>"
      ],
      "text/plain": [
       "             High    Low   Open  Close       Volume  Adj Close\n",
       "Date                                                          \n",
       "2013-12-31  15.62  15.51  15.60  15.57   57188900.0    14.3831\n",
       "2014-01-31  16.98  16.61  16.72  16.75  139432100.0    15.4732\n",
       "2014-02-28  16.65  16.35  16.49  16.53  126252100.0    15.2700\n",
       "2014-03-31  17.27  17.12  17.15  17.20   62115800.0    15.8984\n",
       "2014-04-30  15.27  15.13  15.26  15.14   82359700.0    13.9943"
      ]
     },
     "execution_count": 5,
     "metadata": {},
     "output_type": "execute_result"
    }
   ],
   "source": [
    "bac_df.index = pd.DatetimeIndex(bac_df.index)\n",
    "monthly  = bac_df.resample('BM').last() # BM - Last business date of month\n",
    "monthly.head()"
   ]
  },
  {
   "cell_type": "code",
   "execution_count": 6,
   "metadata": {},
   "outputs": [
    {
     "data": {
      "image/png": "[encoded data removed]",
      "text/plain": [
       "<Figure size 432x288 with 1 Axes>"
      ]
     },
     "metadata": {
      "needs_background": "light"
     },
     "output_type": "display_data"
    }
   ],
   "source": [
    "ax =sns.lineplot(x=monthly.index, y= monthly.Close )"
   ]
  },
  {
   "cell_type": "code",
   "execution_count": 7,
   "metadata": {},
   "outputs": [],
   "source": [
    "bac_df['Change'] = bac_df['Close'] - bac_df['Close'].shift()"
   ]
  },
  {
   "cell_type": "code",
   "execution_count": 8,
   "metadata": {},
   "outputs": [
    {
     "data": {
      "text/html": [
       "<div>\n",
       "<style scoped>\n",
       "    .dataframe tbody tr th:only-of-type {\n",
       "        vertical-align: middle;\n",
       "    }\n",
       "\n",
       "    .dataframe tbody tr th {\n",
       "        vertical-align: top;\n",
       "    }\n",
       "\n",
       "    .dataframe thead th {\n",
       "        text-align: right;\n",
       "    }\n",
       "</style>\n",
       "<table border=\"1\" class=\"dataframe\">\n",
       "  <thead>\n",
       "    <tr style=\"text-align: right;\">\n",
       "      <th></th>\n",
       "      <th>High</th>\n",
       "      <th>Low</th>\n",
       "      <th>Open</th>\n",
       "      <th>Close</th>\n",
       "      <th>Volume</th>\n",
       "      <th>Adj Close</th>\n",
       "      <th>Change</th>\n",
       "    </tr>\n",
       "    <tr>\n",
       "      <th>Date</th>\n",
       "      <th></th>\n",
       "      <th></th>\n",
       "      <th></th>\n",
       "      <th></th>\n",
       "      <th></th>\n",
       "      <th></th>\n",
       "      <th></th>\n",
       "    </tr>\n",
       "  </thead>\n",
       "  <tbody>\n",
       "    <tr>\n",
       "      <th>2013-12-31</th>\n",
       "      <td>15.62</td>\n",
       "      <td>15.51</td>\n",
       "      <td>15.60</td>\n",
       "      <td>15.57</td>\n",
       "      <td>57188900.0</td>\n",
       "      <td>14.3831</td>\n",
       "      <td>NaN</td>\n",
       "    </tr>\n",
       "    <tr>\n",
       "      <th>2014-01-02</th>\n",
       "      <td>16.16</td>\n",
       "      <td>15.68</td>\n",
       "      <td>15.69</td>\n",
       "      <td>16.10</td>\n",
       "      <td>148709900.0</td>\n",
       "      <td>14.8727</td>\n",
       "      <td>0.53</td>\n",
       "    </tr>\n",
       "    <tr>\n",
       "      <th>2014-01-03</th>\n",
       "      <td>16.50</td>\n",
       "      <td>16.23</td>\n",
       "      <td>16.27</td>\n",
       "      <td>16.41</td>\n",
       "      <td>129921800.0</td>\n",
       "      <td>15.1591</td>\n",
       "      <td>0.31</td>\n",
       "    </tr>\n",
       "    <tr>\n",
       "      <th>2014-01-06</th>\n",
       "      <td>16.73</td>\n",
       "      <td>16.56</td>\n",
       "      <td>16.63</td>\n",
       "      <td>16.66</td>\n",
       "      <td>114431300.0</td>\n",
       "      <td>15.3901</td>\n",
       "      <td>0.25</td>\n",
       "    </tr>\n",
       "    <tr>\n",
       "      <th>2014-01-07</th>\n",
       "      <td>16.79</td>\n",
       "      <td>16.45</td>\n",
       "      <td>16.77</td>\n",
       "      <td>16.50</td>\n",
       "      <td>110605100.0</td>\n",
       "      <td>15.2423</td>\n",
       "      <td>-0.16</td>\n",
       "    </tr>\n",
       "  </tbody>\n",
       "</table>\n",
       "</div>"
      ],
      "text/plain": [
       "             High    Low   Open  Close       Volume  Adj Close  Change\n",
       "Date                                                                  \n",
       "2013-12-31  15.62  15.51  15.60  15.57   57188900.0    14.3831     NaN\n",
       "2014-01-02  16.16  15.68  15.69  16.10  148709900.0    14.8727    0.53\n",
       "2014-01-03  16.50  16.23  16.27  16.41  129921800.0    15.1591    0.31\n",
       "2014-01-06  16.73  16.56  16.63  16.66  114431300.0    15.3901    0.25\n",
       "2014-01-07  16.79  16.45  16.77  16.50  110605100.0    15.2423   -0.16"
      ]
     },
     "execution_count": 8,
     "metadata": {},
     "output_type": "execute_result"
    }
   ],
   "source": [
    "bac_df.head()"
   ]
  },
  {
   "cell_type": "code",
   "execution_count": 9,
   "metadata": {},
   "outputs": [
    {
     "data": {
      "text/html": [
       "<div>\n",
       "<style scoped>\n",
       "    .dataframe tbody tr th:only-of-type {\n",
       "        vertical-align: middle;\n",
       "    }\n",
       "\n",
       "    .dataframe tbody tr th {\n",
       "        vertical-align: top;\n",
       "    }\n",
       "\n",
       "    .dataframe thead th {\n",
       "        text-align: right;\n",
       "    }\n",
       "</style>\n",
       "<table border=\"1\" class=\"dataframe\">\n",
       "  <thead>\n",
       "    <tr style=\"text-align: right;\">\n",
       "      <th></th>\n",
       "      <th>High</th>\n",
       "      <th>Low</th>\n",
       "      <th>Open</th>\n",
       "      <th>Close</th>\n",
       "      <th>Volume</th>\n",
       "      <th>Adj Close</th>\n",
       "      <th>Change</th>\n",
       "      <th>LN_Change</th>\n",
       "    </tr>\n",
       "    <tr>\n",
       "      <th>Date</th>\n",
       "      <th></th>\n",
       "      <th></th>\n",
       "      <th></th>\n",
       "      <th></th>\n",
       "      <th></th>\n",
       "      <th></th>\n",
       "      <th></th>\n",
       "      <th></th>\n",
       "    </tr>\n",
       "  </thead>\n",
       "  <tbody>\n",
       "    <tr>\n",
       "      <th>2013-12-31</th>\n",
       "      <td>15.62</td>\n",
       "      <td>15.51</td>\n",
       "      <td>15.60</td>\n",
       "      <td>15.57</td>\n",
       "      <td>57188900.0</td>\n",
       "      <td>14.3831</td>\n",
       "      <td>NaN</td>\n",
       "      <td>NaN</td>\n",
       "    </tr>\n",
       "    <tr>\n",
       "      <th>2014-01-02</th>\n",
       "      <td>16.16</td>\n",
       "      <td>15.68</td>\n",
       "      <td>15.69</td>\n",
       "      <td>16.10</td>\n",
       "      <td>148709900.0</td>\n",
       "      <td>14.8727</td>\n",
       "      <td>0.53</td>\n",
       "      <td>0.033473</td>\n",
       "    </tr>\n",
       "    <tr>\n",
       "      <th>2014-01-03</th>\n",
       "      <td>16.50</td>\n",
       "      <td>16.23</td>\n",
       "      <td>16.27</td>\n",
       "      <td>16.41</td>\n",
       "      <td>129921800.0</td>\n",
       "      <td>15.1591</td>\n",
       "      <td>0.31</td>\n",
       "      <td>0.019072</td>\n",
       "    </tr>\n",
       "    <tr>\n",
       "      <th>2014-01-06</th>\n",
       "      <td>16.73</td>\n",
       "      <td>16.56</td>\n",
       "      <td>16.63</td>\n",
       "      <td>16.66</td>\n",
       "      <td>114431300.0</td>\n",
       "      <td>15.3901</td>\n",
       "      <td>0.25</td>\n",
       "      <td>0.015120</td>\n",
       "    </tr>\n",
       "    <tr>\n",
       "      <th>2014-01-07</th>\n",
       "      <td>16.79</td>\n",
       "      <td>16.45</td>\n",
       "      <td>16.77</td>\n",
       "      <td>16.50</td>\n",
       "      <td>110605100.0</td>\n",
       "      <td>15.2423</td>\n",
       "      <td>-0.16</td>\n",
       "      <td>-0.009650</td>\n",
       "    </tr>\n",
       "  </tbody>\n",
       "</table>\n",
       "</div>"
      ],
      "text/plain": [
       "             High    Low   Open  Close       Volume  Adj Close  Change  \\\n",
       "Date                                                                     \n",
       "2013-12-31  15.62  15.51  15.60  15.57   57188900.0    14.3831     NaN   \n",
       "2014-01-02  16.16  15.68  15.69  16.10  148709900.0    14.8727    0.53   \n",
       "2014-01-03  16.50  16.23  16.27  16.41  129921800.0    15.1591    0.31   \n",
       "2014-01-06  16.73  16.56  16.63  16.66  114431300.0    15.3901    0.25   \n",
       "2014-01-07  16.79  16.45  16.77  16.50  110605100.0    15.2423   -0.16   \n",
       "\n",
       "            LN_Change  \n",
       "Date                   \n",
       "2013-12-31        NaN  \n",
       "2014-01-02   0.033473  \n",
       "2014-01-03   0.019072  \n",
       "2014-01-06   0.015120  \n",
       "2014-01-07  -0.009650  "
      ]
     },
     "execution_count": 9,
     "metadata": {},
     "output_type": "execute_result"
    }
   ],
   "source": [
    "bac_df['LN_Change'] = np.log(bac_df['Close']/ bac_df['Close'].shift())\n",
    "bac_df.head()"
   ]
  },
  {
   "cell_type": "code",
   "execution_count": 10,
   "metadata": {},
   "outputs": [
    {
     "data": {
      "text/plain": [
       "<matplotlib.axes._subplots.AxesSubplot at 0x1aed81f7240>"
      ]
     },
     "execution_count": 10,
     "metadata": {},
     "output_type": "execute_result"
    },
    {
     "data": {
      "image/png": "[encoded data removed]",
      "text/plain": [
       "<Figure size 432x288 with 1 Axes>"
      ]
     },
     "metadata": {
      "needs_background": "light"
     },
     "output_type": "display_data"
    }
   ],
   "source": [
    "sns.distplot(bac_df['LN_Change'][1:], bins=50, kde=False, rug=False)"
   ]
  },
  {
   "cell_type": "markdown",
   "metadata": {},
   "source": [
    "####  Average Daily Trading Volume\n",
    "Calculate average daily trading volume by adding up trading volume over the last X number of days. Then, divide the total by X. For example, sum the last 20 days of trading volume and divide by 20 to get the 20-day ADTV."
   ]
  },
  {
   "cell_type": "code",
   "execution_count": 11,
   "metadata": {},
   "outputs": [
    {
     "data": {
      "text/html": [
       "<div>\n",
       "<style scoped>\n",
       "    .dataframe tbody tr th:only-of-type {\n",
       "        vertical-align: middle;\n",
       "    }\n",
       "\n",
       "    .dataframe tbody tr th {\n",
       "        vertical-align: top;\n",
       "    }\n",
       "\n",
       "    .dataframe thead th {\n",
       "        text-align: right;\n",
       "    }\n",
       "</style>\n",
       "<table border=\"1\" class=\"dataframe\">\n",
       "  <thead>\n",
       "    <tr style=\"text-align: right;\">\n",
       "      <th></th>\n",
       "      <th>High</th>\n",
       "      <th>Low</th>\n",
       "      <th>Open</th>\n",
       "      <th>Close</th>\n",
       "      <th>Volume</th>\n",
       "      <th>Adj Close</th>\n",
       "      <th>Change</th>\n",
       "      <th>LN_Change</th>\n",
       "      <th>Daily_Volume</th>\n",
       "      <th>Expected_Change</th>\n",
       "    </tr>\n",
       "    <tr>\n",
       "      <th>Date</th>\n",
       "      <th></th>\n",
       "      <th></th>\n",
       "      <th></th>\n",
       "      <th></th>\n",
       "      <th></th>\n",
       "      <th></th>\n",
       "      <th></th>\n",
       "      <th></th>\n",
       "      <th></th>\n",
       "      <th></th>\n",
       "    </tr>\n",
       "  </thead>\n",
       "  <tbody>\n",
       "    <tr>\n",
       "      <th>2013-12-31</th>\n",
       "      <td>15.62</td>\n",
       "      <td>15.51</td>\n",
       "      <td>15.60</td>\n",
       "      <td>15.57</td>\n",
       "      <td>57188900.0</td>\n",
       "      <td>14.3831</td>\n",
       "      <td>NaN</td>\n",
       "      <td>NaN</td>\n",
       "      <td>NaN</td>\n",
       "      <td>NaN</td>\n",
       "    </tr>\n",
       "    <tr>\n",
       "      <th>2014-01-02</th>\n",
       "      <td>16.16</td>\n",
       "      <td>15.68</td>\n",
       "      <td>15.69</td>\n",
       "      <td>16.10</td>\n",
       "      <td>148709900.0</td>\n",
       "      <td>14.8727</td>\n",
       "      <td>0.53</td>\n",
       "      <td>0.033473</td>\n",
       "      <td>NaN</td>\n",
       "      <td>NaN</td>\n",
       "    </tr>\n",
       "    <tr>\n",
       "      <th>2014-01-03</th>\n",
       "      <td>16.50</td>\n",
       "      <td>16.23</td>\n",
       "      <td>16.27</td>\n",
       "      <td>16.41</td>\n",
       "      <td>129921800.0</td>\n",
       "      <td>15.1591</td>\n",
       "      <td>0.31</td>\n",
       "      <td>0.019072</td>\n",
       "      <td>NaN</td>\n",
       "      <td>NaN</td>\n",
       "    </tr>\n",
       "    <tr>\n",
       "      <th>2014-01-06</th>\n",
       "      <td>16.73</td>\n",
       "      <td>16.56</td>\n",
       "      <td>16.63</td>\n",
       "      <td>16.66</td>\n",
       "      <td>114431300.0</td>\n",
       "      <td>15.3901</td>\n",
       "      <td>0.25</td>\n",
       "      <td>0.015120</td>\n",
       "      <td>NaN</td>\n",
       "      <td>NaN</td>\n",
       "    </tr>\n",
       "    <tr>\n",
       "      <th>2014-01-07</th>\n",
       "      <td>16.79</td>\n",
       "      <td>16.45</td>\n",
       "      <td>16.77</td>\n",
       "      <td>16.50</td>\n",
       "      <td>110605100.0</td>\n",
       "      <td>15.2423</td>\n",
       "      <td>-0.16</td>\n",
       "      <td>-0.009650</td>\n",
       "      <td>NaN</td>\n",
       "      <td>NaN</td>\n",
       "    </tr>\n",
       "  </tbody>\n",
       "</table>\n",
       "</div>"
      ],
      "text/plain": [
       "             High    Low   Open  Close       Volume  Adj Close  Change  \\\n",
       "Date                                                                     \n",
       "2013-12-31  15.62  15.51  15.60  15.57   57188900.0    14.3831     NaN   \n",
       "2014-01-02  16.16  15.68  15.69  16.10  148709900.0    14.8727    0.53   \n",
       "2014-01-03  16.50  16.23  16.27  16.41  129921800.0    15.1591    0.31   \n",
       "2014-01-06  16.73  16.56  16.63  16.66  114431300.0    15.3901    0.25   \n",
       "2014-01-07  16.79  16.45  16.77  16.50  110605100.0    15.2423   -0.16   \n",
       "\n",
       "            LN_Change  Daily_Volume  Expected_Change  \n",
       "Date                                                  \n",
       "2013-12-31        NaN           NaN              NaN  \n",
       "2014-01-02   0.033473           NaN              NaN  \n",
       "2014-01-03   0.019072           NaN              NaN  \n",
       "2014-01-06   0.015120           NaN              NaN  \n",
       "2014-01-07  -0.009650           NaN              NaN  "
      ]
     },
     "execution_count": 11,
     "metadata": {},
     "output_type": "execute_result"
    }
   ],
   "source": [
    "bac_df['Daily_Volume'] = bac_df['LN_Change'].rolling(21).std().shift()\n",
    "bac_df['Expected_Change'] = bac_df['Daily_Volume'] * bac_df['Close']\n",
    "bac_df.head()"
   ]
  },
  {
   "cell_type": "code",
   "execution_count": 12,
   "metadata": {},
   "outputs": [],
   "source": [
    "bac_df_exch  = bac_df[bac_df['Expected_Change'].notnull()] "
   ]
  },
  {
   "cell_type": "code",
   "execution_count": 13,
   "metadata": {},
   "outputs": [
    {
     "data": {
      "image/png": "[encoded data removed]",
      "text/plain": [
       "<Figure size 432x288 with 1 Axes>"
      ]
     },
     "metadata": {
      "needs_background": "light"
     },
     "output_type": "display_data"
    }
   ],
   "source": [
    "ax =sns.lineplot(x=bac_df_exch.index, y= bac_df_exch.Expected_Change )"
   ]
  },
  {
   "cell_type": "code",
   "execution_count": null,
   "metadata": {},
   "outputs": [],
   "source": []
  }
 ],
 "metadata": {
  "kernelspec": {
   "display_name": "Python 3",
   "language": "python",
   "name": "python3"
  },
  "language_info": {
   "codemirror_mode": {
    "name": "ipython",
    "version": 3
   },
   "file_extension": ".py",
   "mimetype": "text/x-python",
   "name": "python",
   "nbconvert_exporter": "python",
   "pygments_lexer": "ipython3",
   "version": "3.7.1"
  }
 },
 "nbformat": 4,
 "nbformat_minor": 2
}
