{
 "cells": [
  {
   "cell_type": "code",
   "execution_count": 1,
   "metadata": {},
   "outputs": [],
   "source": [
    "import numpy as np\n",
    "import pandas as pd\n"
   ]
  },
  {
   "cell_type": "code",
   "execution_count": 2,
   "metadata": {
    "scrolled": true
   },
   "outputs": [],
   "source": [
    "present_value  =100000\n",
    "earnings_return = 0.095\n",
    "time_horizon = 30\n",
    "\n"
   ]
  },
  {
   "cell_type": "code",
   "execution_count": 3,
   "metadata": {},
   "outputs": [
    {
     "name": "stdout",
     "output_type": "stream",
     "text": [
      "Year                            EndingBalance\n",
      "---------------------------------------------\n",
      "1                                     109,500\n",
      "2                                     119,902\n",
      "3                                     131,293\n",
      "4                                     143,766\n",
      "5                                     157,424\n",
      "6                                     172,379\n",
      "7                                     188,755\n",
      "8                                     206,687\n",
      "9                                     226,322\n",
      "10                                    247,823\n",
      "11                                    271,366\n",
      "12                                    297,146\n",
      "13                                    325,375\n",
      "14                                    356,285\n",
      "15                                    390,132\n",
      "16                                    427,195\n",
      "17                                    467,778\n",
      "18                                    512,217\n",
      "19                                    560,878\n",
      "20                                    614,161\n",
      "21                                    672,507\n",
      "22                                    736,395\n",
      "23                                    806,352\n",
      "24                                    882,956\n",
      "25                                    966,836\n",
      "26                                  1,058,686\n",
      "27                                  1,159,261\n",
      "28                                  1,269,391\n",
      "29                                  1,389,983\n",
      "30                                  1,522,031\n"
     ]
    }
   ],
   "source": [
    "ending_balance =0\n",
    "print(\"{:<15s}{:>30s}\".format('Year','EndingBalance'))\n",
    "print(\"{}\".format('-'*45))\n",
    "for  t  in range(1,time_horizon+1):\n",
    "    ending_balance  = present_value *(1+earnings_return)\n",
    "    print(\"{:<15d}{:>30,.0f}\".format(t,round(ending_balance,2)))\n",
    "    present_value = ending_balance\n",
    "    "
   ]
  },
  {
   "cell_type": "code",
   "execution_count": 4,
   "metadata": {},
   "outputs": [],
   "source": [
    "voltality = .185"
   ]
  },
  {
   "cell_type": "code",
   "execution_count": 5,
   "metadata": {},
   "outputs": [
    {
     "name": "stdout",
     "output_type": "stream",
     "text": [
      "Year                            EndingBalance\n",
      "---------------------------------------------\n",
      "1                                     109,686\n",
      "2                                     142,585\n",
      "3                                     164,409\n",
      "4                                     151,493\n",
      "5                                     191,276\n",
      "6                                     214,690\n",
      "7                                     190,162\n",
      "8                                     246,739\n",
      "9                                     312,317\n",
      "10                                    340,316\n",
      "11                                    390,068\n",
      "12                                    425,914\n",
      "13                                    498,102\n",
      "14                                    614,120\n",
      "15                                    616,079\n",
      "16                                    635,042\n",
      "17                                    894,703\n",
      "18                                    904,726\n",
      "19                                    898,171\n",
      "20                                    776,515\n",
      "21                                    732,369\n",
      "22                                    815,363\n",
      "23                                    858,196\n",
      "24                                    912,328\n",
      "25                                    784,011\n",
      "26                                  1,033,316\n",
      "27                                    603,930\n",
      "28                                    502,545\n",
      "29                                    691,831\n",
      "30                                    830,036\n"
     ]
    }
   ],
   "source": [
    "present_value  =100000\n",
    "earnings_return = 0.095\n",
    "ending_balance =0\n",
    "print(\"{:<15s}{:>30s}\".format('Year','EndingBalance'))\n",
    "print(\"{}\".format('-'*45))\n",
    "for  t  in range(1,time_horizon+1):\n",
    "    year_return  = np.random.normal(earnings_return,voltality)\n",
    "    ending_balance  = present_value *(1+year_return)\n",
    "    print(\"{:<15d}{:>30,.0f}\".format(t,round(ending_balance,2)))\n",
    "    present_value = ending_balance"
   ]
  },
  {
   "cell_type": "code",
   "execution_count": null,
   "metadata": {},
   "outputs": [],
   "source": []
  }
 ],
 "metadata": {
  "kernelspec": {
   "display_name": "Python 3",
   "language": "python",
   "name": "python3"
  },
  "language_info": {
   "codemirror_mode": {
    "name": "ipython",
    "version": 3
   },
   "file_extension": ".py",
   "mimetype": "text/x-python",
   "name": "python",
   "nbconvert_exporter": "python",
   "pygments_lexer": "ipython3",
   "version": "3.7.1"
  }
 },
 "nbformat": 4,
 "nbformat_minor": 2
}
