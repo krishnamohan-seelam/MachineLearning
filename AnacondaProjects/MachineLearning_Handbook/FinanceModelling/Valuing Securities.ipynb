{
 "cells": [
  {
   "cell_type": "code",
   "execution_count": 1,
   "metadata": {},
   "outputs": [],
   "source": [
    "import numpy as np\n",
    "import pandas as pd\n",
    "import matplotlib.pyplot as plt\n",
    "import seaborn as sns\n",
    "from pandas.plotting import register_matplotlib_converters\n",
    "register_matplotlib_converters()\n",
    "sns.set()"
   ]
  },
  {
   "cell_type": "code",
   "execution_count": 2,
   "metadata": {},
   "outputs": [],
   "source": [
    "dividend  = 2.92\n",
    "present_value  = 152.60\n",
    "future_value  = 178.71\n",
    "expected_return  = (dividend + future_value)/present_value  "
   ]
  },
  {
   "cell_type": "code",
   "execution_count": 3,
   "metadata": {},
   "outputs": [
    {
     "name": "stdout",
     "output_type": "stream",
     "text": [
      "Expected return :0.19023591087811265\n"
     ]
    }
   ],
   "source": [
    "print(f'Expected return :{expected_return-1}')"
   ]
  },
  {
   "cell_type": "code",
   "execution_count": 4,
   "metadata": {},
   "outputs": [
    {
     "name": "stdout",
     "output_type": "stream",
     "text": [
      "Present value :152.6\n"
     ]
    }
   ],
   "source": [
    "present_value  =   (dividend + future_value)/expected_return  \n",
    "print(f'Present value :{present_value}')"
   ]
  },
  {
   "cell_type": "markdown",
   "metadata": {},
   "source": [
    "##### Dividend Discounting Method:\n",
    "###### The dividend discount model (DDM) is a quantitative method used for predicting the price of a company's stock based on the theory that its present-day price is worth the sum of all of its future dividend payments when discounted back to their present value\n",
    "\n",
    "##### In this model, each of the future year’s dividend up to, say, for ‘n’ years (10 years) is discounted with the appropriate discount rate to the present and summed up to arrive at the worth of the stock today. Dividends are expected to remain constant and the discount rate is assumed to remain unchanged."
   ]
  },
  {
   "cell_type": "markdown",
   "metadata": {},
   "source": [
    "##### Formula for the Dividend Discount Model\n",
    "###### Gordon Growth Model\n",
    "The GGM is based on the assumptions that the stream of future dividends will grow at some constant rate in future for an infinite time\n",
    "\n",
    "V0=  D1/(r-g)\n",
    "\n",
    "V0 – the current fair value of a stock\n",
    "\n",
    "D1 - Dividend\n",
    "\n",
    "r  - the estimated cost of equity capital\n",
    "\n",
    "g  - the constant growth rate of the company’s dividends for an infinite time"
   ]
  },
  {
   "cell_type": "code",
   "execution_count": 5,
   "metadata": {},
   "outputs": [
    {
     "data": {
      "text/plain": [
       "75.00000000000001"
      ]
     },
     "execution_count": 5,
     "metadata": {},
     "output_type": "execute_result"
    }
   ],
   "source": [
    "# constant growth model\n",
    "div = 3.\n",
    "g = .08\n",
    "er = .12\n",
    "\n",
    "div / (er - g)"
   ]
  },
  {
   "cell_type": "markdown",
   "metadata": {},
   "source": [
    "##### One-period Dividend Discount Model\n",
    "The one-period discount dividend model is used much less frequently than the Gordon Growth model. The former is applied when an investor wants to determine the intrinsic price of a stock that he or she will sell in one period from now.\n",
    "\n",
    "V0 =  D/1+r + P/1+r\n",
    "\n",
    "V0 – the current fair value of a stock\n",
    "\n",
    "D1 – the dividend payment in one period from now\n",
    "\n",
    "P1 – the stock price in one period from now\n",
    "\n",
    "r – the estimated cost of equity capital"
   ]
  },
  {
   "cell_type": "markdown",
   "metadata": {},
   "source": [
    "##### Multi-period Dividend Discount Model\n",
    "The multi-period dividend discount model is an extension of the one-period dividend discount model wherein an investor expects to hold a stock for the multiple periods. The main challenge of the multi-period model variation is that forecasting dividend payments for different periods is required.\n",
    "\n",
    "V0 =  D1/1+r + P1/1+r + D1/(1+r)^2 + P1/(1+r)^2 + .....D1/(1+r)^t + P1/(1+r)^t\n",
    "\n",
    "t = years"
   ]
  },
  {
   "cell_type": "code",
   "execution_count": 6,
   "metadata": {},
   "outputs": [],
   "source": [
    "# dividend discount model\n",
    "g = .08\n",
    "er = .12\n",
    "p1 = 81\n",
    "div = 3.\n",
    "\n",
    "horizon = pd.DataFrame({'div': np.zeros(3), 'exp_price': np.zeros(3)})\n",
    "horizon.index = np.arange(1, len(horizon) + 1)\n",
    "horizon.index.name = 'Year'\n",
    "for year in range(1,horizon['div'].count() + 1):\n",
    "    if year == 1:\n",
    "        horizon['div'][year] = div\n",
    "        horizon['exp_price'][year] = p1\n",
    "    else:    \n",
    "        horizon['div'][year] = div * (1 + g) ** (year - 1)\n",
    "        horizon['exp_price'][year] = p1 * (1 + g) ** (year -1)"
   ]
  },
  {
   "cell_type": "code",
   "execution_count": 7,
   "metadata": {},
   "outputs": [
    {
     "data": {
      "text/html": [
       "<div>\n",
       "<style scoped>\n",
       "    .dataframe tbody tr th:only-of-type {\n",
       "        vertical-align: middle;\n",
       "    }\n",
       "\n",
       "    .dataframe tbody tr th {\n",
       "        vertical-align: top;\n",
       "    }\n",
       "\n",
       "    .dataframe thead th {\n",
       "        text-align: right;\n",
       "    }\n",
       "</style>\n",
       "<table border=\"1\" class=\"dataframe\">\n",
       "  <thead>\n",
       "    <tr style=\"text-align: right;\">\n",
       "      <th></th>\n",
       "      <th>div</th>\n",
       "      <th>exp_price</th>\n",
       "    </tr>\n",
       "    <tr>\n",
       "      <th>Year</th>\n",
       "      <th></th>\n",
       "      <th></th>\n",
       "    </tr>\n",
       "  </thead>\n",
       "  <tbody>\n",
       "    <tr>\n",
       "      <th>1</th>\n",
       "      <td>3.0000</td>\n",
       "      <td>81.0000</td>\n",
       "    </tr>\n",
       "    <tr>\n",
       "      <th>2</th>\n",
       "      <td>3.2400</td>\n",
       "      <td>87.4800</td>\n",
       "    </tr>\n",
       "    <tr>\n",
       "      <th>3</th>\n",
       "      <td>3.4992</td>\n",
       "      <td>94.4784</td>\n",
       "    </tr>\n",
       "  </tbody>\n",
       "</table>\n",
       "</div>"
      ],
      "text/plain": [
       "         div  exp_price\n",
       "Year                   \n",
       "1     3.0000    81.0000\n",
       "2     3.2400    87.4800\n",
       "3     3.4992    94.4784"
      ]
     },
     "execution_count": 7,
     "metadata": {},
     "output_type": "execute_result"
    }
   ],
   "source": [
    "horizon"
   ]
  },
  {
   "cell_type": "code",
   "execution_count": 8,
   "metadata": {},
   "outputs": [
    {
     "data": {
      "text/plain": [
       "74.99999999999999"
      ]
     },
     "execution_count": 8,
     "metadata": {},
     "output_type": "execute_result"
    }
   ],
   "source": [
    "# what about stocks with no dividend?\n",
    "earning_per_share = 5.60\n",
    "price_to_earnings = 15\n",
    "expected_return = .12\n",
    "\n",
    "earning_per_share * price_to_earnings / (1 + expected_return)"
   ]
  },
  {
   "cell_type": "code",
   "execution_count": 9,
   "metadata": {},
   "outputs": [
    {
     "data": {
      "text/plain": [
       "66.25"
      ]
     },
     "execution_count": 9,
     "metadata": {},
     "output_type": "execute_result"
    }
   ],
   "source": [
    "earnings_actual = 5.3\n",
    "price_to_earnings = 14\n",
    "earnings_actual * price_to_earnings / (1 + expected_return)"
   ]
  },
  {
   "cell_type": "code",
   "execution_count": null,
   "metadata": {},
   "outputs": [],
   "source": []
  }
 ],
 "metadata": {
  "kernelspec": {
   "display_name": "Python 3",
   "language": "python",
   "name": "python3"
  },
  "language_info": {
   "codemirror_mode": {
    "name": "ipython",
    "version": 3
   },
   "file_extension": ".py",
   "mimetype": "text/x-python",
   "name": "python",
   "nbconvert_exporter": "python",
   "pygments_lexer": "ipython3",
   "version": "3.7.1"
  }
 },
 "nbformat": 4,
 "nbformat_minor": 2
}
