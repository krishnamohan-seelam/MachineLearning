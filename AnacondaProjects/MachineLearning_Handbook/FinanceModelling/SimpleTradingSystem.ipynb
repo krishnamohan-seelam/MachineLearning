{
 "cells": [
  {
   "cell_type": "code",
   "execution_count": 1,
   "metadata": {},
   "outputs": [],
   "source": [
    "import numpy as np\n",
    "import pandas as pd\n",
    "import pandas_datareader as pdr\n",
    "import matplotlib.pyplot as plt\n",
    "import seaborn as sns\n",
    "from pandas.plotting import register_matplotlib_converters\n",
    "register_matplotlib_converters()\n",
    "sns.set()"
   ]
  },
  {
   "cell_type": "code",
   "execution_count": 2,
   "metadata": {},
   "outputs": [],
   "source": [
    "bac_df = pdr.get_data_yahoo('BAC', start='2014-01-01') \n"
   ]
  },
  {
   "cell_type": "code",
   "execution_count": 3,
   "metadata": {},
   "outputs": [
    {
     "data": {
      "text/html": [
       "<div>\n",
       "<style scoped>\n",
       "    .dataframe tbody tr th:only-of-type {\n",
       "        vertical-align: middle;\n",
       "    }\n",
       "\n",
       "    .dataframe tbody tr th {\n",
       "        vertical-align: top;\n",
       "    }\n",
       "\n",
       "    .dataframe thead th {\n",
       "        text-align: right;\n",
       "    }\n",
       "</style>\n",
       "<table border=\"1\" class=\"dataframe\">\n",
       "  <thead>\n",
       "    <tr style=\"text-align: right;\">\n",
       "      <th></th>\n",
       "      <th>High</th>\n",
       "      <th>Low</th>\n",
       "      <th>Open</th>\n",
       "      <th>Close</th>\n",
       "      <th>Volume</th>\n",
       "      <th>Adj Close</th>\n",
       "    </tr>\n",
       "    <tr>\n",
       "      <th>Date</th>\n",
       "      <th></th>\n",
       "      <th></th>\n",
       "      <th></th>\n",
       "      <th></th>\n",
       "      <th></th>\n",
       "      <th></th>\n",
       "    </tr>\n",
       "  </thead>\n",
       "  <tbody>\n",
       "    <tr>\n",
       "      <th>2013-12-31</th>\n",
       "      <td>15.620000</td>\n",
       "      <td>15.510000</td>\n",
       "      <td>15.600000</td>\n",
       "      <td>15.57</td>\n",
       "      <td>57188900.0</td>\n",
       "      <td>14.383145</td>\n",
       "    </tr>\n",
       "    <tr>\n",
       "      <th>2014-01-02</th>\n",
       "      <td>16.160000</td>\n",
       "      <td>15.680000</td>\n",
       "      <td>15.690000</td>\n",
       "      <td>16.10</td>\n",
       "      <td>148709900.0</td>\n",
       "      <td>14.872746</td>\n",
       "    </tr>\n",
       "    <tr>\n",
       "      <th>2014-01-03</th>\n",
       "      <td>16.500000</td>\n",
       "      <td>16.230000</td>\n",
       "      <td>16.270000</td>\n",
       "      <td>16.41</td>\n",
       "      <td>129921800.0</td>\n",
       "      <td>15.159114</td>\n",
       "    </tr>\n",
       "    <tr>\n",
       "      <th>2014-01-06</th>\n",
       "      <td>16.730000</td>\n",
       "      <td>16.559999</td>\n",
       "      <td>16.629999</td>\n",
       "      <td>16.66</td>\n",
       "      <td>114431300.0</td>\n",
       "      <td>15.390057</td>\n",
       "    </tr>\n",
       "    <tr>\n",
       "      <th>2014-01-07</th>\n",
       "      <td>16.790001</td>\n",
       "      <td>16.450001</td>\n",
       "      <td>16.770000</td>\n",
       "      <td>16.50</td>\n",
       "      <td>110605100.0</td>\n",
       "      <td>15.242256</td>\n",
       "    </tr>\n",
       "  </tbody>\n",
       "</table>\n",
       "</div>"
      ],
      "text/plain": [
       "                 High        Low       Open  Close       Volume  Adj Close\n",
       "Date                                                                      \n",
       "2013-12-31  15.620000  15.510000  15.600000  15.57   57188900.0  14.383145\n",
       "2014-01-02  16.160000  15.680000  15.690000  16.10  148709900.0  14.872746\n",
       "2014-01-03  16.500000  16.230000  16.270000  16.41  129921800.0  15.159114\n",
       "2014-01-06  16.730000  16.559999  16.629999  16.66  114431300.0  15.390057\n",
       "2014-01-07  16.790001  16.450001  16.770000  16.50  110605100.0  15.242256"
      ]
     },
     "execution_count": 3,
     "metadata": {},
     "output_type": "execute_result"
    }
   ],
   "source": [
    "bac_df.head()"
   ]
  },
  {
   "cell_type": "code",
   "execution_count": 4,
   "metadata": {},
   "outputs": [],
   "source": [
    "bac_df.drop(['Adj Close'],axis =1 , inplace =True)"
   ]
  },
  {
   "cell_type": "code",
   "execution_count": 5,
   "metadata": {},
   "outputs": [],
   "source": [
    "bac_df['9-Day'] = bac_df['Close'].rolling(9).mean()\n",
    "bac_df['21-Day'] = bac_df['Close'].rolling(21).mean()\n",
    "bac_df['Change'] = np.log(bac_df['Close']/bac_df['Close'].shift())"
   ]
  },
  {
   "cell_type": "code",
   "execution_count": 6,
   "metadata": {},
   "outputs": [
    {
     "data": {
      "text/html": [
       "<div>\n",
       "<style scoped>\n",
       "    .dataframe tbody tr th:only-of-type {\n",
       "        vertical-align: middle;\n",
       "    }\n",
       "\n",
       "    .dataframe tbody tr th {\n",
       "        vertical-align: top;\n",
       "    }\n",
       "\n",
       "    .dataframe thead th {\n",
       "        text-align: right;\n",
       "    }\n",
       "</style>\n",
       "<table border=\"1\" class=\"dataframe\">\n",
       "  <thead>\n",
       "    <tr style=\"text-align: right;\">\n",
       "      <th></th>\n",
       "      <th>High</th>\n",
       "      <th>Low</th>\n",
       "      <th>Open</th>\n",
       "      <th>Close</th>\n",
       "      <th>Volume</th>\n",
       "      <th>9-Day</th>\n",
       "      <th>21-Day</th>\n",
       "      <th>Change</th>\n",
       "    </tr>\n",
       "    <tr>\n",
       "      <th>Date</th>\n",
       "      <th></th>\n",
       "      <th></th>\n",
       "      <th></th>\n",
       "      <th></th>\n",
       "      <th></th>\n",
       "      <th></th>\n",
       "      <th></th>\n",
       "      <th></th>\n",
       "    </tr>\n",
       "  </thead>\n",
       "  <tbody>\n",
       "    <tr>\n",
       "      <th>2019-07-08</th>\n",
       "      <td>29.299999</td>\n",
       "      <td>28.940001</td>\n",
       "      <td>29.010000</td>\n",
       "      <td>29.200001</td>\n",
       "      <td>30924400.0</td>\n",
       "      <td>28.773333</td>\n",
       "      <td>28.379524</td>\n",
       "      <td>-0.002053</td>\n",
       "    </tr>\n",
       "    <tr>\n",
       "      <th>2019-07-09</th>\n",
       "      <td>29.420000</td>\n",
       "      <td>28.940001</td>\n",
       "      <td>28.969999</td>\n",
       "      <td>29.350000</td>\n",
       "      <td>28750100.0</td>\n",
       "      <td>28.950000</td>\n",
       "      <td>28.466191</td>\n",
       "      <td>0.005124</td>\n",
       "    </tr>\n",
       "    <tr>\n",
       "      <th>2019-07-10</th>\n",
       "      <td>29.400000</td>\n",
       "      <td>28.959999</td>\n",
       "      <td>29.170000</td>\n",
       "      <td>29.020000</td>\n",
       "      <td>40574800.0</td>\n",
       "      <td>29.073333</td>\n",
       "      <td>28.511429</td>\n",
       "      <td>-0.011307</td>\n",
       "    </tr>\n",
       "    <tr>\n",
       "      <th>2019-07-11</th>\n",
       "      <td>29.500000</td>\n",
       "      <td>29.030001</td>\n",
       "      <td>29.100000</td>\n",
       "      <td>29.360001</td>\n",
       "      <td>37376800.0</td>\n",
       "      <td>29.201111</td>\n",
       "      <td>28.564762</td>\n",
       "      <td>0.011648</td>\n",
       "    </tr>\n",
       "    <tr>\n",
       "      <th>2019-07-12</th>\n",
       "      <td>29.530001</td>\n",
       "      <td>29.360001</td>\n",
       "      <td>29.440001</td>\n",
       "      <td>29.450001</td>\n",
       "      <td>29619000.0</td>\n",
       "      <td>29.251111</td>\n",
       "      <td>28.636191</td>\n",
       "      <td>0.003061</td>\n",
       "    </tr>\n",
       "  </tbody>\n",
       "</table>\n",
       "</div>"
      ],
      "text/plain": [
       "                 High        Low       Open      Close      Volume      9-Day  \\\n",
       "Date                                                                            \n",
       "2019-07-08  29.299999  28.940001  29.010000  29.200001  30924400.0  28.773333   \n",
       "2019-07-09  29.420000  28.940001  28.969999  29.350000  28750100.0  28.950000   \n",
       "2019-07-10  29.400000  28.959999  29.170000  29.020000  40574800.0  29.073333   \n",
       "2019-07-11  29.500000  29.030001  29.100000  29.360001  37376800.0  29.201111   \n",
       "2019-07-12  29.530001  29.360001  29.440001  29.450001  29619000.0  29.251111   \n",
       "\n",
       "               21-Day    Change  \n",
       "Date                             \n",
       "2019-07-08  28.379524 -0.002053  \n",
       "2019-07-09  28.466191  0.005124  \n",
       "2019-07-10  28.511429 -0.011307  \n",
       "2019-07-11  28.564762  0.011648  \n",
       "2019-07-12  28.636191  0.003061  "
      ]
     },
     "execution_count": 6,
     "metadata": {},
     "output_type": "execute_result"
    }
   ],
   "source": [
    "bac_df.tail()"
   ]
  },
  {
   "cell_type": "code",
   "execution_count": 7,
   "metadata": {},
   "outputs": [
    {
     "data": {
      "text/plain": [
       "<matplotlib.legend.Legend at 0x2321a3a1908>"
      ]
     },
     "execution_count": 7,
     "metadata": {},
     "output_type": "execute_result"
    },
    {
     "data": {
      "image/png": "[encoded data removed]",
      "text/plain": [
       "<Figure size 576x432 with 1 Axes>"
      ]
     },
     "metadata": {
      "needs_background": "light"
     },
     "output_type": "display_data"
    }
   ],
   "source": [
    "plt.figure(figsize=(8,6))\n",
    "ax =sns.lineplot(x=bac_df.index[-60:], y= bac_df['Close'][-60:] )\n",
    "sns.lineplot(x=bac_df.index[-60:], y= bac_df['9-Day'][-60:] )\n",
    "sns.lineplot(x=bac_df.index[-60:], y= bac_df['21-Day'][-60:] )\n",
    "plt.legend(title='', loc='upper right', labels=['Close', '9-Day','21-Day']) "
   ]
  },
  {
   "cell_type": "code",
   "execution_count": 8,
   "metadata": {},
   "outputs": [],
   "source": [
    "#### the position is going to indicate whether we're long or short.\n",
    "#### It's either going to have a 1; or, it's going to have a -1; \n",
    "bac_df['position'] = np.where( bac_df['9-Day'] >bac_df['21-Day'],1,0) \n",
    "bac_df['position'] = np.where( bac_df['9-Day'] < bac_df['21-Day'],-1,bac_df['position']) "
   ]
  },
  {
   "cell_type": "code",
   "execution_count": 9,
   "metadata": {},
   "outputs": [],
   "source": [
    "bac_df['system']  = bac_df['position'] * bac_df['Change']"
   ]
  },
  {
   "cell_type": "code",
   "execution_count": 10,
   "metadata": {},
   "outputs": [
    {
     "data": {
      "text/html": [
       "<div>\n",
       "<style scoped>\n",
       "    .dataframe tbody tr th:only-of-type {\n",
       "        vertical-align: middle;\n",
       "    }\n",
       "\n",
       "    .dataframe tbody tr th {\n",
       "        vertical-align: top;\n",
       "    }\n",
       "\n",
       "    .dataframe thead th {\n",
       "        text-align: right;\n",
       "    }\n",
       "</style>\n",
       "<table border=\"1\" class=\"dataframe\">\n",
       "  <thead>\n",
       "    <tr style=\"text-align: right;\">\n",
       "      <th></th>\n",
       "      <th>High</th>\n",
       "      <th>Low</th>\n",
       "      <th>Open</th>\n",
       "      <th>Close</th>\n",
       "      <th>Volume</th>\n",
       "      <th>9-Day</th>\n",
       "      <th>21-Day</th>\n",
       "      <th>Change</th>\n",
       "      <th>position</th>\n",
       "      <th>system</th>\n",
       "    </tr>\n",
       "    <tr>\n",
       "      <th>Date</th>\n",
       "      <th></th>\n",
       "      <th></th>\n",
       "      <th></th>\n",
       "      <th></th>\n",
       "      <th></th>\n",
       "      <th></th>\n",
       "      <th></th>\n",
       "      <th></th>\n",
       "      <th></th>\n",
       "      <th></th>\n",
       "    </tr>\n",
       "  </thead>\n",
       "  <tbody>\n",
       "    <tr>\n",
       "      <th>2019-07-08</th>\n",
       "      <td>29.299999</td>\n",
       "      <td>28.940001</td>\n",
       "      <td>29.010000</td>\n",
       "      <td>29.200001</td>\n",
       "      <td>30924400.0</td>\n",
       "      <td>28.773333</td>\n",
       "      <td>28.379524</td>\n",
       "      <td>-0.002053</td>\n",
       "      <td>1</td>\n",
       "      <td>-0.002053</td>\n",
       "    </tr>\n",
       "    <tr>\n",
       "      <th>2019-07-09</th>\n",
       "      <td>29.420000</td>\n",
       "      <td>28.940001</td>\n",
       "      <td>28.969999</td>\n",
       "      <td>29.350000</td>\n",
       "      <td>28750100.0</td>\n",
       "      <td>28.950000</td>\n",
       "      <td>28.466191</td>\n",
       "      <td>0.005124</td>\n",
       "      <td>1</td>\n",
       "      <td>0.005124</td>\n",
       "    </tr>\n",
       "    <tr>\n",
       "      <th>2019-07-10</th>\n",
       "      <td>29.400000</td>\n",
       "      <td>28.959999</td>\n",
       "      <td>29.170000</td>\n",
       "      <td>29.020000</td>\n",
       "      <td>40574800.0</td>\n",
       "      <td>29.073333</td>\n",
       "      <td>28.511429</td>\n",
       "      <td>-0.011307</td>\n",
       "      <td>1</td>\n",
       "      <td>-0.011307</td>\n",
       "    </tr>\n",
       "    <tr>\n",
       "      <th>2019-07-11</th>\n",
       "      <td>29.500000</td>\n",
       "      <td>29.030001</td>\n",
       "      <td>29.100000</td>\n",
       "      <td>29.360001</td>\n",
       "      <td>37376800.0</td>\n",
       "      <td>29.201111</td>\n",
       "      <td>28.564762</td>\n",
       "      <td>0.011648</td>\n",
       "      <td>1</td>\n",
       "      <td>0.011648</td>\n",
       "    </tr>\n",
       "    <tr>\n",
       "      <th>2019-07-12</th>\n",
       "      <td>29.530001</td>\n",
       "      <td>29.360001</td>\n",
       "      <td>29.440001</td>\n",
       "      <td>29.450001</td>\n",
       "      <td>29619000.0</td>\n",
       "      <td>29.251111</td>\n",
       "      <td>28.636191</td>\n",
       "      <td>0.003061</td>\n",
       "      <td>1</td>\n",
       "      <td>0.003061</td>\n",
       "    </tr>\n",
       "  </tbody>\n",
       "</table>\n",
       "</div>"
      ],
      "text/plain": [
       "                 High        Low       Open      Close      Volume      9-Day  \\\n",
       "Date                                                                            \n",
       "2019-07-08  29.299999  28.940001  29.010000  29.200001  30924400.0  28.773333   \n",
       "2019-07-09  29.420000  28.940001  28.969999  29.350000  28750100.0  28.950000   \n",
       "2019-07-10  29.400000  28.959999  29.170000  29.020000  40574800.0  29.073333   \n",
       "2019-07-11  29.500000  29.030001  29.100000  29.360001  37376800.0  29.201111   \n",
       "2019-07-12  29.530001  29.360001  29.440001  29.450001  29619000.0  29.251111   \n",
       "\n",
       "               21-Day    Change  position    system  \n",
       "Date                                                 \n",
       "2019-07-08  28.379524 -0.002053         1 -0.002053  \n",
       "2019-07-09  28.466191  0.005124         1  0.005124  \n",
       "2019-07-10  28.511429 -0.011307         1 -0.011307  \n",
       "2019-07-11  28.564762  0.011648         1  0.011648  \n",
       "2019-07-12  28.636191  0.003061         1  0.003061  "
      ]
     },
     "execution_count": 10,
     "metadata": {},
     "output_type": "execute_result"
    }
   ],
   "source": [
    "bac_df.tail()"
   ]
  },
  {
   "cell_type": "code",
   "execution_count": 11,
   "metadata": {},
   "outputs": [
    {
     "data": {
      "text/plain": [
       "<matplotlib.axes._subplots.AxesSubplot at 0x2321a265cc0>"
      ]
     },
     "execution_count": 11,
     "metadata": {},
     "output_type": "execute_result"
    },
    {
     "data": {
      "image/png": "[encoded data removed]",
      "text/plain": [
       "<Figure size 432x288 with 1 Axes>"
      ]
     },
     "metadata": {
      "needs_background": "light"
     },
     "output_type": "display_data"
    }
   ],
   "source": [
    "bac_df[['Change', 'system']].cumsum().plot()"
   ]
  },
  {
   "cell_type": "code",
   "execution_count": null,
   "metadata": {},
   "outputs": [],
   "source": []
  }
 ],
 "metadata": {
  "kernelspec": {
   "display_name": "Python 3",
   "language": "python",
   "name": "python3"
  },
  "language_info": {
   "codemirror_mode": {
    "name": "ipython",
    "version": 3
   },
   "file_extension": ".py",
   "mimetype": "text/x-python",
   "name": "python",
   "nbconvert_exporter": "python",
   "pygments_lexer": "ipython3",
   "version": "3.7.1"
  }
 },
 "nbformat": 4,
 "nbformat_minor": 2
}
