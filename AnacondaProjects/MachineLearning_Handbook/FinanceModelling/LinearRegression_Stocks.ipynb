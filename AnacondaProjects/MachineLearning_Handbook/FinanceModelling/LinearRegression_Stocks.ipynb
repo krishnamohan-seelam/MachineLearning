{
 "cells": [
  {
   "cell_type": "code",
   "execution_count": 1,
   "metadata": {},
   "outputs": [],
   "source": [
    "import numpy as np\n",
    "import pandas as pd\n",
    "import pandas_datareader as pdr \n",
    "\n",
    "import matplotlib.pyplot as plt\n",
    "import seaborn as sns\n",
    "from pandas.plotting import register_matplotlib_converters\n",
    "register_matplotlib_converters()\n",
    "sns.set()"
   ]
  },
  {
   "cell_type": "code",
   "execution_count": 2,
   "metadata": {},
   "outputs": [],
   "source": [
    "stocks = ['BAC','JPM']\n",
    "stocks_df = pdr.get_data_yahoo(stocks,start='2014-01-01') "
   ]
  },
  {
   "cell_type": "code",
   "execution_count": 3,
   "metadata": {},
   "outputs": [],
   "source": [
    "stocks_df = stocks_df.resample('BM').last()['Close']\n",
    " "
   ]
  },
  {
   "cell_type": "code",
   "execution_count": 4,
   "metadata": {},
   "outputs": [
    {
     "name": "stdout",
     "output_type": "stream",
     "text": [
      "<class 'pandas.core.frame.DataFrame'>\n",
      "DatetimeIndex: 68 entries, 2013-12-31 to 2019-07-31\n",
      "Freq: BM\n",
      "Data columns (total 2 columns):\n",
      "BAC    68 non-null float64\n",
      "JPM    68 non-null float64\n",
      "dtypes: float64(2)\n",
      "memory usage: 1.6 KB\n"
     ]
    }
   ],
   "source": [
    "stocks_df.info()\n"
   ]
  },
  {
   "cell_type": "code",
   "execution_count": 5,
   "metadata": {},
   "outputs": [
    {
     "data": {
      "text/html": [
       "<div>\n",
       "<style scoped>\n",
       "    .dataframe tbody tr th:only-of-type {\n",
       "        vertical-align: middle;\n",
       "    }\n",
       "\n",
       "    .dataframe tbody tr th {\n",
       "        vertical-align: top;\n",
       "    }\n",
       "\n",
       "    .dataframe thead th {\n",
       "        text-align: right;\n",
       "    }\n",
       "</style>\n",
       "<table border=\"1\" class=\"dataframe\">\n",
       "  <thead>\n",
       "    <tr style=\"text-align: right;\">\n",
       "      <th></th>\n",
       "      <th>BAC</th>\n",
       "      <th>JPM</th>\n",
       "    </tr>\n",
       "    <tr>\n",
       "      <th>Date</th>\n",
       "      <th></th>\n",
       "      <th></th>\n",
       "    </tr>\n",
       "  </thead>\n",
       "  <tbody>\n",
       "    <tr>\n",
       "      <th>2019-03-29</th>\n",
       "      <td>-0.052597</td>\n",
       "      <td>-0.030451</td>\n",
       "    </tr>\n",
       "    <tr>\n",
       "      <th>2019-04-30</th>\n",
       "      <td>0.102893</td>\n",
       "      <td>0.136626</td>\n",
       "    </tr>\n",
       "    <tr>\n",
       "      <th>2019-05-31</th>\n",
       "      <td>-0.139435</td>\n",
       "      <td>-0.090960</td>\n",
       "    </tr>\n",
       "    <tr>\n",
       "      <th>2019-06-28</th>\n",
       "      <td>0.086385</td>\n",
       "      <td>0.053650</td>\n",
       "    </tr>\n",
       "    <tr>\n",
       "      <th>2019-07-31</th>\n",
       "      <td>0.015398</td>\n",
       "      <td>0.030826</td>\n",
       "    </tr>\n",
       "  </tbody>\n",
       "</table>\n",
       "</div>"
      ],
      "text/plain": [
       "                 BAC       JPM\n",
       "Date                          \n",
       "2019-03-29 -0.052597 -0.030451\n",
       "2019-04-30  0.102893  0.136626\n",
       "2019-05-31 -0.139435 -0.090960\n",
       "2019-06-28  0.086385  0.053650\n",
       "2019-07-31  0.015398  0.030826"
      ]
     },
     "execution_count": 5,
     "metadata": {},
     "output_type": "execute_result"
    }
   ],
   "source": [
    "stocks_change =pd.DataFrame()\n",
    "\n",
    "for column in stocks_df:\n",
    "    if column not in stocks_change:\n",
    "        stocks_change[column] = np.log(stocks_df[column]).diff()\n",
    "\n",
    "stocks_change.tail()"
   ]
  },
  {
   "cell_type": "code",
   "execution_count": 6,
   "metadata": {},
   "outputs": [],
   "source": [
    "stocks_change = stocks_change[1:]"
   ]
  },
  {
   "cell_type": "code",
   "execution_count": 7,
   "metadata": {},
   "outputs": [
    {
     "data": {
      "text/plain": [
       "LinearRegression(copy_X=True, fit_intercept=True, n_jobs=None, normalize=False)"
      ]
     },
     "execution_count": 7,
     "metadata": {},
     "output_type": "execute_result"
    }
   ],
   "source": [
    "from sklearn.linear_model import LinearRegression  \n",
    "model  = LinearRegression(fit_intercept =True)\n",
    "x= np.array(stocks_change['BAC'])\n",
    "y = np.array(stocks_change['JPM'])\n",
    "model.fit(x[:,np.newaxis],y)"
   ]
  },
  {
   "cell_type": "code",
   "execution_count": 8,
   "metadata": {},
   "outputs": [
    {
     "data": {
      "text/plain": [
       "Text(0.5, 0, 'BAC')"
      ]
     },
     "execution_count": 8,
     "metadata": {},
     "output_type": "execute_result"
    },
    {
     "data": {
      "image/png": "[encoded data removed]",
      "text/plain": [
       "<Figure size 432x288 with 1 Axes>"
      ]
     },
     "metadata": {
      "needs_background": "light"
     },
     "output_type": "display_data"
    }
   ],
   "source": [
    "xfit = np.linspace(x.min(),x.max(),100)\n",
    "yfit = model.predict(xfit[:,np.newaxis])\n",
    "plt.scatter(x,y)\n",
    "plt.plot(xfit,yfit,c='r')\n",
    "plt.ylabel('JPM')\n",
    "plt.xlabel('BAC')"
   ]
  },
  {
   "cell_type": "code",
   "execution_count": 9,
   "metadata": {},
   "outputs": [
    {
     "data": {
      "text/plain": [
       "array([0.67547427])"
      ]
     },
     "execution_count": 9,
     "metadata": {},
     "output_type": "execute_result"
    }
   ],
   "source": [
    "model.coef_"
   ]
  },
  {
   "cell_type": "code",
   "execution_count": 10,
   "metadata": {},
   "outputs": [
    {
     "data": {
      "text/plain": [
       "array([[0.0033223 , 0.0038646 ],\n",
       "       [0.0038646 , 0.00572131]])"
      ]
     },
     "execution_count": 10,
     "metadata": {},
     "output_type": "execute_result"
    }
   ],
   "source": [
    "cov = np.cov(stocks_change['JPM'],stocks_change['BAC'],ddof=1)\n",
    "cov"
   ]
  },
  {
   "cell_type": "code",
   "execution_count": 11,
   "metadata": {},
   "outputs": [],
   "source": [
    "beta = cov[0,1] /cov[1,1]"
   ]
  },
  {
   "cell_type": "code",
   "execution_count": 12,
   "metadata": {},
   "outputs": [
    {
     "data": {
      "text/plain": [
       "0.6754742677860662"
      ]
     },
     "execution_count": 12,
     "metadata": {},
     "output_type": "execute_result"
    }
   ],
   "source": [
    "beta"
   ]
  },
  {
   "cell_type": "code",
   "execution_count": 18,
   "metadata": {},
   "outputs": [
    {
     "data": {
      "text/html": [
       "<div>\n",
       "<style scoped>\n",
       "    .dataframe tbody tr th:only-of-type {\n",
       "        vertical-align: middle;\n",
       "    }\n",
       "\n",
       "    .dataframe tbody tr th {\n",
       "        vertical-align: top;\n",
       "    }\n",
       "\n",
       "    .dataframe thead tr th {\n",
       "        text-align: left;\n",
       "    }\n",
       "\n",
       "    .dataframe thead tr:last-of-type th {\n",
       "        text-align: right;\n",
       "    }\n",
       "</style>\n",
       "<table border=\"1\" class=\"dataframe\">\n",
       "  <thead>\n",
       "    <tr>\n",
       "      <th>Attributes</th>\n",
       "      <th colspan=\"2\" halign=\"left\">High</th>\n",
       "      <th colspan=\"2\" halign=\"left\">Low</th>\n",
       "      <th colspan=\"2\" halign=\"left\">Open</th>\n",
       "      <th colspan=\"2\" halign=\"left\">Close</th>\n",
       "      <th colspan=\"2\" halign=\"left\">Volume</th>\n",
       "      <th colspan=\"2\" halign=\"left\">Adj Close</th>\n",
       "    </tr>\n",
       "    <tr>\n",
       "      <th>Symbols</th>\n",
       "      <th>BAC</th>\n",
       "      <th>JPM</th>\n",
       "      <th>BAC</th>\n",
       "      <th>JPM</th>\n",
       "      <th>BAC</th>\n",
       "      <th>JPM</th>\n",
       "      <th>BAC</th>\n",
       "      <th>JPM</th>\n",
       "      <th>BAC</th>\n",
       "      <th>JPM</th>\n",
       "      <th>BAC</th>\n",
       "      <th>JPM</th>\n",
       "    </tr>\n",
       "    <tr>\n",
       "      <th>Date</th>\n",
       "      <th></th>\n",
       "      <th></th>\n",
       "      <th></th>\n",
       "      <th></th>\n",
       "      <th></th>\n",
       "      <th></th>\n",
       "      <th></th>\n",
       "      <th></th>\n",
       "      <th></th>\n",
       "      <th></th>\n",
       "      <th></th>\n",
       "      <th></th>\n",
       "    </tr>\n",
       "  </thead>\n",
       "  <tbody>\n",
       "    <tr>\n",
       "      <th>2013-12-31</th>\n",
       "      <td>15.620000</td>\n",
       "      <td>58.549999</td>\n",
       "      <td>15.510000</td>\n",
       "      <td>58.049999</td>\n",
       "      <td>15.600000</td>\n",
       "      <td>58.200001</td>\n",
       "      <td>15.57</td>\n",
       "      <td>58.480000</td>\n",
       "      <td>57188900.0</td>\n",
       "      <td>11017400.0</td>\n",
       "      <td>14.383145</td>\n",
       "      <td>50.032772</td>\n",
       "    </tr>\n",
       "    <tr>\n",
       "      <th>2014-01-02</th>\n",
       "      <td>16.160000</td>\n",
       "      <td>58.500000</td>\n",
       "      <td>15.680000</td>\n",
       "      <td>57.970001</td>\n",
       "      <td>15.690000</td>\n",
       "      <td>58.310001</td>\n",
       "      <td>16.10</td>\n",
       "      <td>58.209999</td>\n",
       "      <td>148709900.0</td>\n",
       "      <td>15627600.0</td>\n",
       "      <td>14.872746</td>\n",
       "      <td>50.127510</td>\n",
       "    </tr>\n",
       "    <tr>\n",
       "      <th>2014-01-03</th>\n",
       "      <td>16.500000</td>\n",
       "      <td>58.950001</td>\n",
       "      <td>16.230000</td>\n",
       "      <td>58.209999</td>\n",
       "      <td>16.270000</td>\n",
       "      <td>58.290001</td>\n",
       "      <td>16.41</td>\n",
       "      <td>58.660000</td>\n",
       "      <td>129921800.0</td>\n",
       "      <td>14214100.0</td>\n",
       "      <td>15.159114</td>\n",
       "      <td>50.515026</td>\n",
       "    </tr>\n",
       "    <tr>\n",
       "      <th>2014-01-06</th>\n",
       "      <td>16.730000</td>\n",
       "      <td>59.470001</td>\n",
       "      <td>16.559999</td>\n",
       "      <td>58.830002</td>\n",
       "      <td>16.629999</td>\n",
       "      <td>59.160000</td>\n",
       "      <td>16.66</td>\n",
       "      <td>59.000000</td>\n",
       "      <td>114431300.0</td>\n",
       "      <td>17550700.0</td>\n",
       "      <td>15.390057</td>\n",
       "      <td>50.807812</td>\n",
       "    </tr>\n",
       "    <tr>\n",
       "      <th>2014-01-07</th>\n",
       "      <td>16.790001</td>\n",
       "      <td>59.430000</td>\n",
       "      <td>16.450001</td>\n",
       "      <td>58.110001</td>\n",
       "      <td>16.770000</td>\n",
       "      <td>59.290001</td>\n",
       "      <td>16.50</td>\n",
       "      <td>58.320000</td>\n",
       "      <td>110605100.0</td>\n",
       "      <td>17851200.0</td>\n",
       "      <td>15.242256</td>\n",
       "      <td>50.222229</td>\n",
       "    </tr>\n",
       "  </tbody>\n",
       "</table>\n",
       "</div>"
      ],
      "text/plain": [
       "Attributes       High                   Low                  Open             \\\n",
       "Symbols           BAC        JPM        BAC        JPM        BAC        JPM   \n",
       "Date                                                                           \n",
       "2013-12-31  15.620000  58.549999  15.510000  58.049999  15.600000  58.200001   \n",
       "2014-01-02  16.160000  58.500000  15.680000  57.970001  15.690000  58.310001   \n",
       "2014-01-03  16.500000  58.950001  16.230000  58.209999  16.270000  58.290001   \n",
       "2014-01-06  16.730000  59.470001  16.559999  58.830002  16.629999  59.160000   \n",
       "2014-01-07  16.790001  59.430000  16.450001  58.110001  16.770000  59.290001   \n",
       "\n",
       "Attributes  Close                  Volume              Adj Close             \n",
       "Symbols       BAC        JPM          BAC         JPM        BAC        JPM  \n",
       "Date                                                                         \n",
       "2013-12-31  15.57  58.480000   57188900.0  11017400.0  14.383145  50.032772  \n",
       "2014-01-02  16.10  58.209999  148709900.0  15627600.0  14.872746  50.127510  \n",
       "2014-01-03  16.41  58.660000  129921800.0  14214100.0  15.159114  50.515026  \n",
       "2014-01-06  16.66  59.000000  114431300.0  17550700.0  15.390057  50.807812  \n",
       "2014-01-07  16.50  58.320000  110605100.0  17851200.0  15.242256  50.222229  "
      ]
     },
     "execution_count": 18,
     "metadata": {},
     "output_type": "execute_result"
    }
   ],
   "source": [
    "stocks_df = pdr.get_data_yahoo(stocks,start='2014-01-01') \n",
    "stocks_df.head()"
   ]
  },
  {
   "cell_type": "code",
   "execution_count": 19,
   "metadata": {},
   "outputs": [],
   "source": [
    "stocks_df =stocks_df['Close']"
   ]
  },
  {
   "cell_type": "code",
   "execution_count": 20,
   "metadata": {},
   "outputs": [
    {
     "data": {
      "text/html": [
       "<div>\n",
       "<style scoped>\n",
       "    .dataframe tbody tr th:only-of-type {\n",
       "        vertical-align: middle;\n",
       "    }\n",
       "\n",
       "    .dataframe tbody tr th {\n",
       "        vertical-align: top;\n",
       "    }\n",
       "\n",
       "    .dataframe thead th {\n",
       "        text-align: right;\n",
       "    }\n",
       "</style>\n",
       "<table border=\"1\" class=\"dataframe\">\n",
       "  <thead>\n",
       "    <tr style=\"text-align: right;\">\n",
       "      <th>Symbols</th>\n",
       "      <th>BAC</th>\n",
       "      <th>JPM</th>\n",
       "    </tr>\n",
       "    <tr>\n",
       "      <th>Date</th>\n",
       "      <th></th>\n",
       "      <th></th>\n",
       "    </tr>\n",
       "  </thead>\n",
       "  <tbody>\n",
       "    <tr>\n",
       "      <th>2013-12-31</th>\n",
       "      <td>15.57</td>\n",
       "      <td>58.480000</td>\n",
       "    </tr>\n",
       "    <tr>\n",
       "      <th>2014-01-02</th>\n",
       "      <td>16.10</td>\n",
       "      <td>58.209999</td>\n",
       "    </tr>\n",
       "    <tr>\n",
       "      <th>2014-01-03</th>\n",
       "      <td>16.41</td>\n",
       "      <td>58.660000</td>\n",
       "    </tr>\n",
       "    <tr>\n",
       "      <th>2014-01-06</th>\n",
       "      <td>16.66</td>\n",
       "      <td>59.000000</td>\n",
       "    </tr>\n",
       "    <tr>\n",
       "      <th>2014-01-07</th>\n",
       "      <td>16.50</td>\n",
       "      <td>58.320000</td>\n",
       "    </tr>\n",
       "  </tbody>\n",
       "</table>\n",
       "</div>"
      ],
      "text/plain": [
       "Symbols       BAC        JPM\n",
       "Date                        \n",
       "2013-12-31  15.57  58.480000\n",
       "2014-01-02  16.10  58.209999\n",
       "2014-01-03  16.41  58.660000\n",
       "2014-01-06  16.66  59.000000\n",
       "2014-01-07  16.50  58.320000"
      ]
     },
     "execution_count": 20,
     "metadata": {},
     "output_type": "execute_result"
    }
   ],
   "source": [
    "stocks_df.head()"
   ]
  },
  {
   "cell_type": "code",
   "execution_count": 21,
   "metadata": {},
   "outputs": [],
   "source": [
    "vol = pd.DataFrame()"
   ]
  },
  {
   "cell_type": "code",
   "execution_count": 22,
   "metadata": {},
   "outputs": [],
   "source": [
    "for stock in stocks_df:\n",
    "    if stock not in vol :\n",
    "        vol[stock] = np.log(stocks_df[stock]).diff()"
   ]
  },
  {
   "cell_type": "code",
   "execution_count": 23,
   "metadata": {},
   "outputs": [
    {
     "data": {
      "text/html": [
       "<div>\n",
       "<style scoped>\n",
       "    .dataframe tbody tr th:only-of-type {\n",
       "        vertical-align: middle;\n",
       "    }\n",
       "\n",
       "    .dataframe tbody tr th {\n",
       "        vertical-align: top;\n",
       "    }\n",
       "\n",
       "    .dataframe thead th {\n",
       "        text-align: right;\n",
       "    }\n",
       "</style>\n",
       "<table border=\"1\" class=\"dataframe\">\n",
       "  <thead>\n",
       "    <tr style=\"text-align: right;\">\n",
       "      <th></th>\n",
       "      <th>BAC</th>\n",
       "      <th>JPM</th>\n",
       "    </tr>\n",
       "    <tr>\n",
       "      <th>Date</th>\n",
       "      <th></th>\n",
       "      <th></th>\n",
       "    </tr>\n",
       "  </thead>\n",
       "  <tbody>\n",
       "    <tr>\n",
       "      <th>2013-12-31</th>\n",
       "      <td>NaN</td>\n",
       "      <td>NaN</td>\n",
       "    </tr>\n",
       "    <tr>\n",
       "      <th>2014-01-02</th>\n",
       "      <td>0.033473</td>\n",
       "      <td>-0.004628</td>\n",
       "    </tr>\n",
       "    <tr>\n",
       "      <th>2014-01-03</th>\n",
       "      <td>0.019072</td>\n",
       "      <td>0.007701</td>\n",
       "    </tr>\n",
       "    <tr>\n",
       "      <th>2014-01-06</th>\n",
       "      <td>0.015120</td>\n",
       "      <td>0.005779</td>\n",
       "    </tr>\n",
       "    <tr>\n",
       "      <th>2014-01-07</th>\n",
       "      <td>-0.009650</td>\n",
       "      <td>-0.011592</td>\n",
       "    </tr>\n",
       "  </tbody>\n",
       "</table>\n",
       "</div>"
      ],
      "text/plain": [
       "                 BAC       JPM\n",
       "Date                          \n",
       "2013-12-31       NaN       NaN\n",
       "2014-01-02  0.033473 -0.004628\n",
       "2014-01-03  0.019072  0.007701\n",
       "2014-01-06  0.015120  0.005779\n",
       "2014-01-07 -0.009650 -0.011592"
      ]
     },
     "execution_count": 23,
     "metadata": {},
     "output_type": "execute_result"
    }
   ],
   "source": [
    "vol.head()"
   ]
  },
  {
   "cell_type": "code",
   "execution_count": 24,
   "metadata": {},
   "outputs": [
    {
     "name": "stdout",
     "output_type": "stream",
     "text": [
      "0.06389073810554181\n",
      "0.04253388865460298\n"
     ]
    }
   ],
   "source": [
    "var_BAC = vol['BAC'].var() * 252\n",
    "var_JPM= vol['JPM'].var() *252\n",
    "print(var_BAC)\n",
    "print(var_JPM)"
   ]
  },
  {
   "cell_type": "code",
   "execution_count": 25,
   "metadata": {},
   "outputs": [],
   "source": [
    "w_BAC =  .9\n",
    "w_JPM = 1 - w_BAC\n",
    "exp_BAC = .14\n",
    "exp_JPM = .07"
   ]
  },
  {
   "cell_type": "code",
   "execution_count": 26,
   "metadata": {},
   "outputs": [],
   "source": [
    "exp = w_BAC * exp_BAC + w_JPM * exp_JPM"
   ]
  },
  {
   "cell_type": "code",
   "execution_count": 27,
   "metadata": {},
   "outputs": [
    {
     "data": {
      "text/plain": [
       "0.13300000000000003"
      ]
     },
     "execution_count": 27,
     "metadata": {},
     "output_type": "execute_result"
    }
   ],
   "source": [
    "exp"
   ]
  },
  {
   "cell_type": "code",
   "execution_count": 28,
   "metadata": {},
   "outputs": [
    {
     "data": {
      "text/plain": [
       "0.04513597657759011"
      ]
     },
     "execution_count": 28,
     "metadata": {},
     "output_type": "execute_result"
    }
   ],
   "source": [
    "cov = np.cov(vol['JPM'][1:], vol['BAC'][1:])[0,1] *252\n",
    "cov"
   ]
  },
  {
   "cell_type": "code",
   "execution_count": 29,
   "metadata": {},
   "outputs": [
    {
     "data": {
      "text/plain": [
       "0.2455632556715298"
      ]
     },
     "execution_count": 29,
     "metadata": {},
     "output_type": "execute_result"
    }
   ],
   "source": [
    "port_std = np.sqrt(var_BAC * w_BAC **2 + var_JPM * w_JPM ** 2 + 2 * cov * w_BAC * w_JPM)\n",
    "port_std"
   ]
  },
  {
   "cell_type": "code",
   "execution_count": 30,
   "metadata": {},
   "outputs": [
    {
     "data": {
      "text/html": [
       "<div>\n",
       "<style scoped>\n",
       "    .dataframe tbody tr th:only-of-type {\n",
       "        vertical-align: middle;\n",
       "    }\n",
       "\n",
       "    .dataframe tbody tr th {\n",
       "        vertical-align: top;\n",
       "    }\n",
       "\n",
       "    .dataframe thead th {\n",
       "        text-align: right;\n",
       "    }\n",
       "</style>\n",
       "<table border=\"1\" class=\"dataframe\">\n",
       "  <thead>\n",
       "    <tr style=\"text-align: right;\">\n",
       "      <th></th>\n",
       "      <th>weight_JPM</th>\n",
       "      <th>exp_ret</th>\n",
       "      <th>std</th>\n",
       "    </tr>\n",
       "  </thead>\n",
       "  <tbody>\n",
       "    <tr>\n",
       "      <th>0</th>\n",
       "      <td>0.10</td>\n",
       "      <td>0.1330</td>\n",
       "      <td>0.237148</td>\n",
       "    </tr>\n",
       "    <tr>\n",
       "      <th>1</th>\n",
       "      <td>0.15</td>\n",
       "      <td>0.1295</td>\n",
       "      <td>0.229941</td>\n",
       "    </tr>\n",
       "    <tr>\n",
       "      <th>2</th>\n",
       "      <td>0.20</td>\n",
       "      <td>0.1260</td>\n",
       "      <td>0.223189</td>\n",
       "    </tr>\n",
       "    <tr>\n",
       "      <th>3</th>\n",
       "      <td>0.25</td>\n",
       "      <td>0.1225</td>\n",
       "      <td>0.216933</td>\n",
       "    </tr>\n",
       "    <tr>\n",
       "      <th>4</th>\n",
       "      <td>0.30</td>\n",
       "      <td>0.1190</td>\n",
       "      <td>0.211218</td>\n",
       "    </tr>\n",
       "    <tr>\n",
       "      <th>5</th>\n",
       "      <td>0.35</td>\n",
       "      <td>0.1155</td>\n",
       "      <td>0.206089</td>\n",
       "    </tr>\n",
       "    <tr>\n",
       "      <th>6</th>\n",
       "      <td>0.40</td>\n",
       "      <td>0.1120</td>\n",
       "      <td>0.201590</td>\n",
       "    </tr>\n",
       "    <tr>\n",
       "      <th>7</th>\n",
       "      <td>0.45</td>\n",
       "      <td>0.1085</td>\n",
       "      <td>0.197766</td>\n",
       "    </tr>\n",
       "    <tr>\n",
       "      <th>8</th>\n",
       "      <td>0.50</td>\n",
       "      <td>0.1050</td>\n",
       "      <td>0.194654</td>\n",
       "    </tr>\n",
       "    <tr>\n",
       "      <th>9</th>\n",
       "      <td>0.55</td>\n",
       "      <td>0.1015</td>\n",
       "      <td>0.192290</td>\n",
       "    </tr>\n",
       "    <tr>\n",
       "      <th>10</th>\n",
       "      <td>0.60</td>\n",
       "      <td>0.0980</td>\n",
       "      <td>0.190702</td>\n",
       "    </tr>\n",
       "    <tr>\n",
       "      <th>11</th>\n",
       "      <td>0.65</td>\n",
       "      <td>0.0945</td>\n",
       "      <td>0.189909</td>\n",
       "    </tr>\n",
       "    <tr>\n",
       "      <th>12</th>\n",
       "      <td>0.70</td>\n",
       "      <td>0.0910</td>\n",
       "      <td>0.189922</td>\n",
       "    </tr>\n",
       "    <tr>\n",
       "      <th>13</th>\n",
       "      <td>0.75</td>\n",
       "      <td>0.0875</td>\n",
       "      <td>0.190739</td>\n",
       "    </tr>\n",
       "    <tr>\n",
       "      <th>14</th>\n",
       "      <td>0.80</td>\n",
       "      <td>0.0840</td>\n",
       "      <td>0.192351</td>\n",
       "    </tr>\n",
       "    <tr>\n",
       "      <th>15</th>\n",
       "      <td>0.85</td>\n",
       "      <td>0.0805</td>\n",
       "      <td>0.194739</td>\n",
       "    </tr>\n",
       "    <tr>\n",
       "      <th>16</th>\n",
       "      <td>0.90</td>\n",
       "      <td>0.0770</td>\n",
       "      <td>0.197873</td>\n",
       "    </tr>\n",
       "    <tr>\n",
       "      <th>17</th>\n",
       "      <td>0.95</td>\n",
       "      <td>0.0735</td>\n",
       "      <td>0.201719</td>\n",
       "    </tr>\n",
       "    <tr>\n",
       "      <th>18</th>\n",
       "      <td>1.00</td>\n",
       "      <td>0.0700</td>\n",
       "      <td>0.206237</td>\n",
       "    </tr>\n",
       "    <tr>\n",
       "      <th>19</th>\n",
       "      <td>1.05</td>\n",
       "      <td>0.0665</td>\n",
       "      <td>0.211385</td>\n",
       "    </tr>\n",
       "    <tr>\n",
       "      <th>20</th>\n",
       "      <td>1.10</td>\n",
       "      <td>0.0630</td>\n",
       "      <td>0.217117</td>\n",
       "    </tr>\n",
       "  </tbody>\n",
       "</table>\n",
       "</div>"
      ],
      "text/plain": [
       "    weight_JPM  exp_ret       std\n",
       "0         0.10   0.1330  0.237148\n",
       "1         0.15   0.1295  0.229941\n",
       "2         0.20   0.1260  0.223189\n",
       "3         0.25   0.1225  0.216933\n",
       "4         0.30   0.1190  0.211218\n",
       "5         0.35   0.1155  0.206089\n",
       "6         0.40   0.1120  0.201590\n",
       "7         0.45   0.1085  0.197766\n",
       "8         0.50   0.1050  0.194654\n",
       "9         0.55   0.1015  0.192290\n",
       "10        0.60   0.0980  0.190702\n",
       "11        0.65   0.0945  0.189909\n",
       "12        0.70   0.0910  0.189922\n",
       "13        0.75   0.0875  0.190739\n",
       "14        0.80   0.0840  0.192351\n",
       "15        0.85   0.0805  0.194739\n",
       "16        0.90   0.0770  0.197873\n",
       "17        0.95   0.0735  0.201719\n",
       "18        1.00   0.0700  0.206237\n",
       "19        1.05   0.0665  0.211385\n",
       "20        1.10   0.0630  0.217117"
      ]
     },
     "execution_count": 30,
     "metadata": {},
     "output_type": "execute_result"
    }
   ],
   "source": [
    "effic = pd.DataFrame({'weight_JPM':np.zeros(21), 'exp_ret': np.zeros(21), 'std': np.zeros(21)})\n",
    "w_aapl = 0.0\n",
    "for weight in range(21):\n",
    "    effic['weight_JPM'][weight] = w_JPM\n",
    "    effic['exp_ret'][weight] = w_JPM * exp_JPM + (1-w_JPM) * exp_BAC\n",
    "    effic['std'][weight] = np.sqrt(var_JPM * w_JPM ** 2 + var_BAC * (1-w_JPM) ** 2 + cov * w_JPM * (1 - w_JPM))\n",
    "    w_JPM = w_JPM + .05\n",
    "\n",
    "effic"
   ]
  },
  {
   "cell_type": "code",
   "execution_count": 31,
   "metadata": {},
   "outputs": [
    {
     "data": {
      "image/png": "[encoded data removed]",
      "text/plain": [
       "<Figure size 576x396 with 1 Axes>"
      ]
     },
     "metadata": {},
     "output_type": "display_data"
    }
   ],
   "source": [
    "with plt.style.context('seaborn'):\n",
    "    plt.scatter(effic['std'],effic['exp_ret'])"
   ]
  },
  {
   "cell_type": "code",
   "execution_count": null,
   "metadata": {},
   "outputs": [],
   "source": []
  }
 ],
 "metadata": {
  "kernelspec": {
   "display_name": "Python 3",
   "language": "python",
   "name": "python3"
  },
  "language_info": {
   "codemirror_mode": {
    "name": "ipython",
    "version": 3
   },
   "file_extension": ".py",
   "mimetype": "text/x-python",
   "name": "python",
   "nbconvert_exporter": "python",
   "pygments_lexer": "ipython3",
   "version": "3.7.1"
  }
 },
 "nbformat": 4,
 "nbformat_minor": 2
}
