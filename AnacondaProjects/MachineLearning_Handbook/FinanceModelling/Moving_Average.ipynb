{
 "cells": [
  {
   "cell_type": "code",
   "execution_count": 1,
   "metadata": {},
   "outputs": [],
   "source": [
    "import datetime\n",
    "import numpy as np\n",
    "import pandas as pd\n",
    "import pandas_datareader as pdr\n",
    "\n",
    "import matplotlib.pyplot as plt\n",
    "import seaborn as sns\n",
    "from pandas.plotting import register_matplotlib_converters\n",
    "register_matplotlib_converters()\n",
    "sns.set()"
   ]
  },
  {
   "cell_type": "code",
   "execution_count": 2,
   "metadata": {},
   "outputs": [],
   "source": [
    "start_date = datetime.datetime(2014,1,1)\n",
    "end_date   = datetime.datetime(2019,7,9)\n",
    "bac_df = pdr.get_data_yahoo('BAC', start='2014-01-01') \n",
    "bac_df.drop(['Adj Close'],axis =1 ,inplace =True)\n",
    "bac_df = bac_df.resample('W').last()"
   ]
  },
  {
   "cell_type": "code",
   "execution_count": 3,
   "metadata": {},
   "outputs": [],
   "source": [
    "bac_df['5-Day'] = bac_df['Close'].rolling(5).mean().shift()"
   ]
  },
  {
   "cell_type": "code",
   "execution_count": 4,
   "metadata": {},
   "outputs": [
    {
     "data": {
      "text/html": [
       "<div>\n",
       "<style scoped>\n",
       "    .dataframe tbody tr th:only-of-type {\n",
       "        vertical-align: middle;\n",
       "    }\n",
       "\n",
       "    .dataframe tbody tr th {\n",
       "        vertical-align: top;\n",
       "    }\n",
       "\n",
       "    .dataframe thead th {\n",
       "        text-align: right;\n",
       "    }\n",
       "</style>\n",
       "<table border=\"1\" class=\"dataframe\">\n",
       "  <thead>\n",
       "    <tr style=\"text-align: right;\">\n",
       "      <th></th>\n",
       "      <th>High</th>\n",
       "      <th>Low</th>\n",
       "      <th>Open</th>\n",
       "      <th>Close</th>\n",
       "      <th>Volume</th>\n",
       "      <th>5-Day</th>\n",
       "    </tr>\n",
       "    <tr>\n",
       "      <th>Date</th>\n",
       "      <th></th>\n",
       "      <th></th>\n",
       "      <th></th>\n",
       "      <th></th>\n",
       "      <th></th>\n",
       "      <th></th>\n",
       "    </tr>\n",
       "  </thead>\n",
       "  <tbody>\n",
       "    <tr>\n",
       "      <th>2014-01-05</th>\n",
       "      <td>16.500000</td>\n",
       "      <td>16.230000</td>\n",
       "      <td>16.270000</td>\n",
       "      <td>16.410000</td>\n",
       "      <td>129921800.0</td>\n",
       "      <td>NaN</td>\n",
       "    </tr>\n",
       "    <tr>\n",
       "      <th>2014-01-12</th>\n",
       "      <td>16.790001</td>\n",
       "      <td>16.610001</td>\n",
       "      <td>16.750000</td>\n",
       "      <td>16.770000</td>\n",
       "      <td>87454100.0</td>\n",
       "      <td>NaN</td>\n",
       "    </tr>\n",
       "    <tr>\n",
       "      <th>2014-01-19</th>\n",
       "      <td>17.219999</td>\n",
       "      <td>16.990000</td>\n",
       "      <td>17.200001</td>\n",
       "      <td>17.010000</td>\n",
       "      <td>96232200.0</td>\n",
       "      <td>NaN</td>\n",
       "    </tr>\n",
       "    <tr>\n",
       "      <th>2014-01-26</th>\n",
       "      <td>16.719999</td>\n",
       "      <td>16.450001</td>\n",
       "      <td>16.670000</td>\n",
       "      <td>16.450001</td>\n",
       "      <td>112899300.0</td>\n",
       "      <td>NaN</td>\n",
       "    </tr>\n",
       "    <tr>\n",
       "      <th>2014-02-02</th>\n",
       "      <td>16.980000</td>\n",
       "      <td>16.610001</td>\n",
       "      <td>16.719999</td>\n",
       "      <td>16.750000</td>\n",
       "      <td>139432100.0</td>\n",
       "      <td>NaN</td>\n",
       "    </tr>\n",
       "    <tr>\n",
       "      <th>2014-02-09</th>\n",
       "      <td>16.879999</td>\n",
       "      <td>16.629999</td>\n",
       "      <td>16.820000</td>\n",
       "      <td>16.820000</td>\n",
       "      <td>122571100.0</td>\n",
       "      <td>16.678</td>\n",
       "    </tr>\n",
       "    <tr>\n",
       "      <th>2014-02-16</th>\n",
       "      <td>16.760000</td>\n",
       "      <td>16.650000</td>\n",
       "      <td>16.740000</td>\n",
       "      <td>16.700001</td>\n",
       "      <td>100684300.0</td>\n",
       "      <td>16.760</td>\n",
       "    </tr>\n",
       "    <tr>\n",
       "      <th>2014-02-23</th>\n",
       "      <td>16.490000</td>\n",
       "      <td>16.250000</td>\n",
       "      <td>16.290001</td>\n",
       "      <td>16.290001</td>\n",
       "      <td>106236900.0</td>\n",
       "      <td>16.746</td>\n",
       "    </tr>\n",
       "    <tr>\n",
       "      <th>2014-03-02</th>\n",
       "      <td>16.650000</td>\n",
       "      <td>16.350000</td>\n",
       "      <td>16.490000</td>\n",
       "      <td>16.530001</td>\n",
       "      <td>126252100.0</td>\n",
       "      <td>16.602</td>\n",
       "    </tr>\n",
       "    <tr>\n",
       "      <th>2014-03-09</th>\n",
       "      <td>17.590000</td>\n",
       "      <td>17.250000</td>\n",
       "      <td>17.540001</td>\n",
       "      <td>17.330000</td>\n",
       "      <td>109547100.0</td>\n",
       "      <td>16.618</td>\n",
       "    </tr>\n",
       "  </tbody>\n",
       "</table>\n",
       "</div>"
      ],
      "text/plain": [
       "                 High        Low       Open      Close       Volume   5-Day\n",
       "Date                                                                       \n",
       "2014-01-05  16.500000  16.230000  16.270000  16.410000  129921800.0     NaN\n",
       "2014-01-12  16.790001  16.610001  16.750000  16.770000   87454100.0     NaN\n",
       "2014-01-19  17.219999  16.990000  17.200001  17.010000   96232200.0     NaN\n",
       "2014-01-26  16.719999  16.450001  16.670000  16.450001  112899300.0     NaN\n",
       "2014-02-02  16.980000  16.610001  16.719999  16.750000  139432100.0     NaN\n",
       "2014-02-09  16.879999  16.629999  16.820000  16.820000  122571100.0  16.678\n",
       "2014-02-16  16.760000  16.650000  16.740000  16.700001  100684300.0  16.760\n",
       "2014-02-23  16.490000  16.250000  16.290001  16.290001  106236900.0  16.746\n",
       "2014-03-02  16.650000  16.350000  16.490000  16.530001  126252100.0  16.602\n",
       "2014-03-09  17.590000  17.250000  17.540001  17.330000  109547100.0  16.618"
      ]
     },
     "execution_count": 4,
     "metadata": {},
     "output_type": "execute_result"
    }
   ],
   "source": [
    "bac_df.head(10)"
   ]
  },
  {
   "cell_type": "code",
   "execution_count": 5,
   "metadata": {},
   "outputs": [
    {
     "data": {
      "text/plain": [
       "<matplotlib.axes._subplots.AxesSubplot at 0x2526823ccf8>"
      ]
     },
     "execution_count": 5,
     "metadata": {},
     "output_type": "execute_result"
    },
    {
     "data": {
      "image/png": "[encoded data removed]",
      "text/plain": [
       "<Figure size 432x288 with 1 Axes>"
      ]
     },
     "metadata": {
      "needs_background": "light"
     },
     "output_type": "display_data"
    }
   ],
   "source": [
    "sns.lineplot(x=bac_df.index[-120:], y= bac_df.Close[-120:] )\n",
    "sns.lineplot(x=bac_df.index[-120:], y= bac_df['5-Day'][-120:] )"
   ]
  },
  {
   "cell_type": "code",
   "execution_count": 6,
   "metadata": {},
   "outputs": [],
   "source": [
    "bac_df['MAD'] = np.abs(bac_df['Close']-bac_df['5-Day'])"
   ]
  },
  {
   "cell_type": "code",
   "execution_count": 7,
   "metadata": {},
   "outputs": [],
   "source": [
    "# Mean Percent Error\n",
    "bac_df['MAPE'] = bac_df['MAD']/bac_df['Close']"
   ]
  },
  {
   "cell_type": "code",
   "execution_count": 8,
   "metadata": {},
   "outputs": [
    {
     "name": "stdout",
     "output_type": "stream",
     "text": [
      "Mean absolute deviation :0.8619929340523734\n"
     ]
    }
   ],
   "source": [
    "print(f\"Mean absolute deviation :{bac_df['MAD'].mean()}\")"
   ]
  },
  {
   "cell_type": "code",
   "execution_count": 9,
   "metadata": {},
   "outputs": [
    {
     "name": "stdout",
     "output_type": "stream",
     "text": [
      "Mean Percent Error :0.04127423538239757\n"
     ]
    }
   ],
   "source": [
    "print(f\"Mean Percent Error :{bac_df['MAPE'].mean()}\")"
   ]
  },
  {
   "cell_type": "code",
   "execution_count": 10,
   "metadata": {},
   "outputs": [
    {
     "name": "stdout",
     "output_type": "stream",
     "text": [
      "Root Mean Squared Error:1.1467420183000445\n"
     ]
    }
   ],
   "source": [
    "bac_df['MSE'] = bac_df['MAD'] **2\n",
    "MSE = bac_df['MSE'].mean()\n",
    "RMSE = np.sqrt(MSE)\n",
    "print(f\"Root Mean Squared Error:{RMSE}\")"
   ]
  },
  {
   "cell_type": "code",
   "execution_count": 11,
   "metadata": {},
   "outputs": [
    {
     "data": {
      "text/html": [
       "<div>\n",
       "<style scoped>\n",
       "    .dataframe tbody tr th:only-of-type {\n",
       "        vertical-align: middle;\n",
       "    }\n",
       "\n",
       "    .dataframe tbody tr th {\n",
       "        vertical-align: top;\n",
       "    }\n",
       "\n",
       "    .dataframe thead th {\n",
       "        text-align: right;\n",
       "    }\n",
       "</style>\n",
       "<table border=\"1\" class=\"dataframe\">\n",
       "  <thead>\n",
       "    <tr style=\"text-align: right;\">\n",
       "      <th></th>\n",
       "      <th>High</th>\n",
       "      <th>Low</th>\n",
       "      <th>Open</th>\n",
       "      <th>Close</th>\n",
       "      <th>Volume</th>\n",
       "      <th>5-Day</th>\n",
       "      <th>MAD</th>\n",
       "      <th>MAPE</th>\n",
       "      <th>MSE</th>\n",
       "    </tr>\n",
       "    <tr>\n",
       "      <th>Date</th>\n",
       "      <th></th>\n",
       "      <th></th>\n",
       "      <th></th>\n",
       "      <th></th>\n",
       "      <th></th>\n",
       "      <th></th>\n",
       "      <th></th>\n",
       "      <th></th>\n",
       "      <th></th>\n",
       "    </tr>\n",
       "  </thead>\n",
       "  <tbody>\n",
       "    <tr>\n",
       "      <th>2019-06-16</th>\n",
       "      <td>28.170000</td>\n",
       "      <td>27.780001</td>\n",
       "      <td>27.910000</td>\n",
       "      <td>28.040001</td>\n",
       "      <td>37322100.0</td>\n",
       "      <td>28.058000</td>\n",
       "      <td>0.017999</td>\n",
       "      <td>0.000642</td>\n",
       "      <td>0.000324</td>\n",
       "    </tr>\n",
       "    <tr>\n",
       "      <th>2019-06-23</th>\n",
       "      <td>28.549999</td>\n",
       "      <td>28.080000</td>\n",
       "      <td>28.190001</td>\n",
       "      <td>28.120001</td>\n",
       "      <td>69444000.0</td>\n",
       "      <td>27.750000</td>\n",
       "      <td>0.370000</td>\n",
       "      <td>0.013158</td>\n",
       "      <td>0.136900</td>\n",
       "    </tr>\n",
       "    <tr>\n",
       "      <th>2019-06-30</th>\n",
       "      <td>29.270000</td>\n",
       "      <td>28.730000</td>\n",
       "      <td>29.010000</td>\n",
       "      <td>29.000000</td>\n",
       "      <td>101856900.0</td>\n",
       "      <td>27.694001</td>\n",
       "      <td>1.305999</td>\n",
       "      <td>0.045034</td>\n",
       "      <td>1.705634</td>\n",
       "    </tr>\n",
       "    <tr>\n",
       "      <th>2019-07-07</th>\n",
       "      <td>29.570000</td>\n",
       "      <td>29.150000</td>\n",
       "      <td>29.360001</td>\n",
       "      <td>29.260000</td>\n",
       "      <td>33092000.0</td>\n",
       "      <td>27.858001</td>\n",
       "      <td>1.402000</td>\n",
       "      <td>0.047915</td>\n",
       "      <td>1.965603</td>\n",
       "    </tr>\n",
       "    <tr>\n",
       "      <th>2019-07-14</th>\n",
       "      <td>29.400000</td>\n",
       "      <td>28.959999</td>\n",
       "      <td>29.170000</td>\n",
       "      <td>29.020000</td>\n",
       "      <td>40501300.0</td>\n",
       "      <td>28.390001</td>\n",
       "      <td>0.630000</td>\n",
       "      <td>0.021709</td>\n",
       "      <td>0.396900</td>\n",
       "    </tr>\n",
       "  </tbody>\n",
       "</table>\n",
       "</div>"
      ],
      "text/plain": [
       "                 High        Low       Open      Close       Volume  \\\n",
       "Date                                                                  \n",
       "2019-06-16  28.170000  27.780001  27.910000  28.040001   37322100.0   \n",
       "2019-06-23  28.549999  28.080000  28.190001  28.120001   69444000.0   \n",
       "2019-06-30  29.270000  28.730000  29.010000  29.000000  101856900.0   \n",
       "2019-07-07  29.570000  29.150000  29.360001  29.260000   33092000.0   \n",
       "2019-07-14  29.400000  28.959999  29.170000  29.020000   40501300.0   \n",
       "\n",
       "                5-Day       MAD      MAPE       MSE  \n",
       "Date                                                 \n",
       "2019-06-16  28.058000  0.017999  0.000642  0.000324  \n",
       "2019-06-23  27.750000  0.370000  0.013158  0.136900  \n",
       "2019-06-30  27.694001  1.305999  0.045034  1.705634  \n",
       "2019-07-07  27.858001  1.402000  0.047915  1.965603  \n",
       "2019-07-14  28.390001  0.630000  0.021709  0.396900  "
      ]
     },
     "execution_count": 11,
     "metadata": {},
     "output_type": "execute_result"
    }
   ],
   "source": [
    "bac_df.tail()"
   ]
  },
  {
   "cell_type": "code",
   "execution_count": null,
   "metadata": {},
   "outputs": [],
   "source": []
  }
 ],
 "metadata": {
  "kernelspec": {
   "display_name": "Python 3",
   "language": "python",
   "name": "python3"
  },
  "language_info": {
   "codemirror_mode": {
    "name": "ipython",
    "version": 3
   },
   "file_extension": ".py",
   "mimetype": "text/x-python",
   "name": "python",
   "nbconvert_exporter": "python",
   "pygments_lexer": "ipython3",
   "version": "3.7.1"
  }
 },
 "nbformat": 4,
 "nbformat_minor": 2
}
