{
 "cells": [
  {
   "cell_type": "markdown",
   "metadata": {},
   "source": [
    "### Problem Statement\n",
    "\n",
    "The data scientists at BigMart have collected 2013 sales data for 1559 products across 10 stores in different cities. Also, certain attributes of each product and store have been defined. The aim is to build a predictive model and find out the sales of each product at a particular store.Using this model, BigMart will try to understand the properties of products and stores which play a key role in increasing sales.\n",
    "\n",
    "**Please note that the data may have missing values as some stores might not report all the data due to technical glitches. Hence, it will be required to treat them accordingly.**\n",
    "\n",
    "### Data\n",
    "We have train (8523) and test (5681) data set, train data set has both input and output variable(s). You need to predict the sales for test data set.\n",
    "\n",
    "Variable|Description   \n",
    ":---- |:----\n",
    "Item_Identifier|Unique product ID\n",
    "Item_Weight|Weight of product\n",
    "Item_Fat_Content|Whether the product is low fat or not\n",
    "Item_Visibility|The % of total display area of all products in a store allocated to the particular product\n",
    "Item_Type|The category to which the product belongs\n",
    "Item_MRP|Maximum Retail Price (list price) of the product\n",
    "Outlet_Identifier|Unique store ID\n",
    "Outlet_Establishment_Year|The year in which store was established\n",
    "Outlet_Size|The size of the store in terms of ground area covered\n",
    "Outlet_Location_Type|The type of city in which the store is located\n",
    "Outlet_Type|Whether the outlet is just a grocery store or some sort of supermarket\n",
    "Item_Outlet_Sales|Sales of the product in the particular store. This is the outcome variable to be predicted.\n",
    "\n",
    "### Evaluation Metric:\n",
    "\n",
    "Your model performance will be evaluated on the basis of your prediction of the sales for the test data (test.csv), which contains similar data-points as train except for the sales to be predicted. Your submission needs to be in the format as shown in \"SampleSubmission.csv\".\n",
    "\n",
    "We at our end, have the actual sales for the test dataset, against which your predictions will be evaluated. We will use the **Root Mean Square Error** value to judge your response.\n",
    "\n",
    "\n",
    "\n",
    "Where,\n",
    "N: total number of observations\n",
    "Predicted: the response entered by user\n",
    "Actual: actual values of sales\n",
    "\n",
    "Also, note that the test data is further divided into Public (25%) and Private (75%) data. Your initial responses will be checked and scored on the Public data. But, the final rankings will be based on score on Private data set. Since this is a practice problem, we will keep declare winners after specific time intervals and refresh the competition.\n",
    " "
   ]
  },
  {
   "cell_type": "code",
   "execution_count": 1,
   "metadata": {},
   "outputs": [],
   "source": [
    "import warnings\n",
    "warnings.filterwarnings('ignore')"
   ]
  },
  {
   "cell_type": "code",
   "execution_count": 2,
   "metadata": {},
   "outputs": [],
   "source": [
    "import numpy as np\n",
    "import pandas as pd\n",
    "import pandas_profiling\n",
    "import seaborn as sns\n",
    "import scipy.stats as st\n",
    "from matplotlib import pyplot as plt"
   ]
  },
  {
   "cell_type": "code",
   "execution_count": 3,
   "metadata": {},
   "outputs": [],
   "source": [
    "from catboost import CatBoostRegressor"
   ]
  },
  {
   "cell_type": "code",
   "execution_count": 4,
   "metadata": {},
   "outputs": [],
   "source": [
    "def plot_validation_curve(parameter_values, train_scores, validation_scores):\n",
    "    plt.figure()\n",
    "    plt.title(\"Validation Curve\")\n",
    "    train_scores_mean = np.mean(train_scores, axis=1)\n",
    "    train_scores_std = np.std(train_scores, axis=1)\n",
    "    validation_scores_mean = np.mean(validation_scores, axis=1)\n",
    "    validation_scores_std = np.std(validation_scores, axis=1)\n",
    "\n",
    "    plt.fill_between(parameter_values, train_scores_mean - train_scores_std,\n",
    "                     train_scores_mean + train_scores_std, alpha=0.1,\n",
    "                     color=\"r\")\n",
    "    plt.fill_between(parameter_values, validation_scores_mean - validation_scores_std,\n",
    "                     validation_scores_mean + validation_scores_std, alpha=0.1, color=\"g\")\n",
    "    plt.plot(parameter_values, train_scores_mean, 'o-', color=\"r\",\n",
    "             label=\"Training score\")\n",
    "    plt.plot(parameter_values, validation_scores_mean, 'o-', color=\"g\",\n",
    "             label=\"Cross-validation score\")\n",
    "    plt.ylim(validation_scores_mean.min() - .1, train_scores_mean.max() + .1)\n",
    "    plt.legend(loc=\"best\")\n",
    "    plt.show()\n",
    "\n",
    "\n",
    "def plot_learning_curve(train_sizes, train_scores, validation_scores):\n",
    "    plt.figure()\n",
    "    plt.title(\"Learning Curve\")\n",
    "    train_scores_mean = np.mean(train_scores, axis=1)\n",
    "    train_scores_std = np.std(train_scores, axis=1)\n",
    "    validation_scores_mean = np.mean(validation_scores, axis=1)\n",
    "    validation_scores_std = np.std(validation_scores, axis=1)\n",
    "\n",
    "    plt.fill_between(train_sizes, train_scores_mean - train_scores_std,\n",
    "                     train_scores_mean + train_scores_std, alpha=0.1,\n",
    "                     color=\"r\")\n",
    "    plt.fill_between(train_sizes, validation_scores_mean - validation_scores_std,\n",
    "                     validation_scores_mean + validation_scores_std, alpha=0.1, color=\"g\")\n",
    "    \n",
    "    plt.plot(train_sizes, train_scores_mean, 'o-', color=\"r\",label=\"Training score\")\n",
    "    plt.plot(train_sizes, validation_scores_mean, 'o-', color=\"g\" ,label=\"Cross-validation score\")\n",
    "    plt.ylim(max(-3, validation_scores_mean.min() - .1), train_scores_mean.max() + .1)\n",
    "    plt.legend(loc=\"best\")\n",
    "    plt.show()"
   ]
  },
  {
   "cell_type": "code",
   "execution_count": 5,
   "metadata": {},
   "outputs": [],
   "source": [
    "pd.set_option('display.float_format', lambda x: '%.4f' % x)\n",
    "\n",
    "def get_predictors(df, target):\n",
    "    return [col for col in df.columns if col != target]\n",
    "\n",
    "def extended_describe(dataframe):\n",
    "    extended_describe_df = dataframe.describe(include='all').T\n",
    "    extended_describe_df['null_count'] = dataframe.isnull().sum()\n",
    "    extended_describe_df['unique_count'] = dataframe.apply(\n",
    "        lambda x: len(x.unique()))\n",
    "    return extended_describe_df"
   ]
  },
  {
   "cell_type": "code",
   "execution_count": 6,
   "metadata": {},
   "outputs": [],
   "source": [
    "target = 'Item_Outlet_Sales'\n",
    "\n",
    "train_file = 'train.csv'\n",
    "test_file = 'test.csv'"
   ]
  },
  {
   "cell_type": "code",
   "execution_count": 7,
   "metadata": {},
   "outputs": [],
   "source": [
    "train_df = pd.read_csv(train_file)\n",
    "test_df = pd.read_csv(test_file)"
   ]
  },
  {
   "cell_type": "code",
   "execution_count": 8,
   "metadata": {},
   "outputs": [],
   "source": [
    "test_df_copy = test_df.copy()"
   ]
  },
  {
   "cell_type": "code",
   "execution_count": 9,
   "metadata": {},
   "outputs": [],
   "source": [
    "predictors = get_predictors(train_df, target)"
   ]
  },
  {
   "cell_type": "code",
   "execution_count": 10,
   "metadata": {},
   "outputs": [
    {
     "data": {
      "text/html": [
       "<div>\n",
       "<style scoped>\n",
       "    .dataframe tbody tr th:only-of-type {\n",
       "        vertical-align: middle;\n",
       "    }\n",
       "\n",
       "    .dataframe tbody tr th {\n",
       "        vertical-align: top;\n",
       "    }\n",
       "\n",
       "    .dataframe thead th {\n",
       "        text-align: right;\n",
       "    }\n",
       "</style>\n",
       "<table border=\"1\" class=\"dataframe\">\n",
       "  <thead>\n",
       "    <tr style=\"text-align: right;\">\n",
       "      <th></th>\n",
       "      <th>count</th>\n",
       "      <th>unique</th>\n",
       "      <th>top</th>\n",
       "      <th>freq</th>\n",
       "      <th>mean</th>\n",
       "      <th>std</th>\n",
       "      <th>min</th>\n",
       "      <th>25%</th>\n",
       "      <th>50%</th>\n",
       "      <th>75%</th>\n",
       "      <th>max</th>\n",
       "      <th>null_count</th>\n",
       "      <th>unique_count</th>\n",
       "    </tr>\n",
       "  </thead>\n",
       "  <tbody>\n",
       "    <tr>\n",
       "      <th>Item_Identifier</th>\n",
       "      <td>8523</td>\n",
       "      <td>1559</td>\n",
       "      <td>FDG33</td>\n",
       "      <td>10</td>\n",
       "      <td>NaN</td>\n",
       "      <td>NaN</td>\n",
       "      <td>NaN</td>\n",
       "      <td>NaN</td>\n",
       "      <td>NaN</td>\n",
       "      <td>NaN</td>\n",
       "      <td>NaN</td>\n",
       "      <td>0</td>\n",
       "      <td>1559</td>\n",
       "    </tr>\n",
       "    <tr>\n",
       "      <th>Item_Weight</th>\n",
       "      <td>7060.0000</td>\n",
       "      <td>NaN</td>\n",
       "      <td>NaN</td>\n",
       "      <td>NaN</td>\n",
       "      <td>12.8576</td>\n",
       "      <td>4.6435</td>\n",
       "      <td>4.5550</td>\n",
       "      <td>8.7737</td>\n",
       "      <td>12.6000</td>\n",
       "      <td>16.8500</td>\n",
       "      <td>21.3500</td>\n",
       "      <td>1463</td>\n",
       "      <td>416</td>\n",
       "    </tr>\n",
       "    <tr>\n",
       "      <th>Item_Fat_Content</th>\n",
       "      <td>8523</td>\n",
       "      <td>5</td>\n",
       "      <td>Low Fat</td>\n",
       "      <td>5089</td>\n",
       "      <td>NaN</td>\n",
       "      <td>NaN</td>\n",
       "      <td>NaN</td>\n",
       "      <td>NaN</td>\n",
       "      <td>NaN</td>\n",
       "      <td>NaN</td>\n",
       "      <td>NaN</td>\n",
       "      <td>0</td>\n",
       "      <td>5</td>\n",
       "    </tr>\n",
       "    <tr>\n",
       "      <th>Item_Visibility</th>\n",
       "      <td>8523.0000</td>\n",
       "      <td>NaN</td>\n",
       "      <td>NaN</td>\n",
       "      <td>NaN</td>\n",
       "      <td>0.0661</td>\n",
       "      <td>0.0516</td>\n",
       "      <td>0.0000</td>\n",
       "      <td>0.0270</td>\n",
       "      <td>0.0539</td>\n",
       "      <td>0.0946</td>\n",
       "      <td>0.3284</td>\n",
       "      <td>0</td>\n",
       "      <td>7880</td>\n",
       "    </tr>\n",
       "    <tr>\n",
       "      <th>Item_Type</th>\n",
       "      <td>8523</td>\n",
       "      <td>16</td>\n",
       "      <td>Fruits and Vegetables</td>\n",
       "      <td>1232</td>\n",
       "      <td>NaN</td>\n",
       "      <td>NaN</td>\n",
       "      <td>NaN</td>\n",
       "      <td>NaN</td>\n",
       "      <td>NaN</td>\n",
       "      <td>NaN</td>\n",
       "      <td>NaN</td>\n",
       "      <td>0</td>\n",
       "      <td>16</td>\n",
       "    </tr>\n",
       "    <tr>\n",
       "      <th>Item_MRP</th>\n",
       "      <td>8523.0000</td>\n",
       "      <td>NaN</td>\n",
       "      <td>NaN</td>\n",
       "      <td>NaN</td>\n",
       "      <td>140.9928</td>\n",
       "      <td>62.2751</td>\n",
       "      <td>31.2900</td>\n",
       "      <td>93.8265</td>\n",
       "      <td>143.0128</td>\n",
       "      <td>185.6437</td>\n",
       "      <td>266.8884</td>\n",
       "      <td>0</td>\n",
       "      <td>5938</td>\n",
       "    </tr>\n",
       "    <tr>\n",
       "      <th>Outlet_Identifier</th>\n",
       "      <td>8523</td>\n",
       "      <td>10</td>\n",
       "      <td>OUT027</td>\n",
       "      <td>935</td>\n",
       "      <td>NaN</td>\n",
       "      <td>NaN</td>\n",
       "      <td>NaN</td>\n",
       "      <td>NaN</td>\n",
       "      <td>NaN</td>\n",
       "      <td>NaN</td>\n",
       "      <td>NaN</td>\n",
       "      <td>0</td>\n",
       "      <td>10</td>\n",
       "    </tr>\n",
       "    <tr>\n",
       "      <th>Outlet_Establishment_Year</th>\n",
       "      <td>8523.0000</td>\n",
       "      <td>NaN</td>\n",
       "      <td>NaN</td>\n",
       "      <td>NaN</td>\n",
       "      <td>1997.8319</td>\n",
       "      <td>8.3718</td>\n",
       "      <td>1985.0000</td>\n",
       "      <td>1987.0000</td>\n",
       "      <td>1999.0000</td>\n",
       "      <td>2004.0000</td>\n",
       "      <td>2009.0000</td>\n",
       "      <td>0</td>\n",
       "      <td>9</td>\n",
       "    </tr>\n",
       "    <tr>\n",
       "      <th>Outlet_Size</th>\n",
       "      <td>6113</td>\n",
       "      <td>3</td>\n",
       "      <td>Medium</td>\n",
       "      <td>2793</td>\n",
       "      <td>NaN</td>\n",
       "      <td>NaN</td>\n",
       "      <td>NaN</td>\n",
       "      <td>NaN</td>\n",
       "      <td>NaN</td>\n",
       "      <td>NaN</td>\n",
       "      <td>NaN</td>\n",
       "      <td>2410</td>\n",
       "      <td>4</td>\n",
       "    </tr>\n",
       "    <tr>\n",
       "      <th>Outlet_Location_Type</th>\n",
       "      <td>8523</td>\n",
       "      <td>3</td>\n",
       "      <td>Tier 3</td>\n",
       "      <td>3350</td>\n",
       "      <td>NaN</td>\n",
       "      <td>NaN</td>\n",
       "      <td>NaN</td>\n",
       "      <td>NaN</td>\n",
       "      <td>NaN</td>\n",
       "      <td>NaN</td>\n",
       "      <td>NaN</td>\n",
       "      <td>0</td>\n",
       "      <td>3</td>\n",
       "    </tr>\n",
       "    <tr>\n",
       "      <th>Outlet_Type</th>\n",
       "      <td>8523</td>\n",
       "      <td>4</td>\n",
       "      <td>Supermarket Type1</td>\n",
       "      <td>5577</td>\n",
       "      <td>NaN</td>\n",
       "      <td>NaN</td>\n",
       "      <td>NaN</td>\n",
       "      <td>NaN</td>\n",
       "      <td>NaN</td>\n",
       "      <td>NaN</td>\n",
       "      <td>NaN</td>\n",
       "      <td>0</td>\n",
       "      <td>4</td>\n",
       "    </tr>\n",
       "    <tr>\n",
       "      <th>Item_Outlet_Sales</th>\n",
       "      <td>8523.0000</td>\n",
       "      <td>NaN</td>\n",
       "      <td>NaN</td>\n",
       "      <td>NaN</td>\n",
       "      <td>2181.2889</td>\n",
       "      <td>1706.4996</td>\n",
       "      <td>33.2900</td>\n",
       "      <td>834.2474</td>\n",
       "      <td>1794.3310</td>\n",
       "      <td>3101.2964</td>\n",
       "      <td>13086.9648</td>\n",
       "      <td>0</td>\n",
       "      <td>3493</td>\n",
       "    </tr>\n",
       "  </tbody>\n",
       "</table>\n",
       "</div>"
      ],
      "text/plain": [
       "                              count unique                    top  freq  \\\n",
       "Item_Identifier                8523   1559                  FDG33    10   \n",
       "Item_Weight               7060.0000    NaN                    NaN   NaN   \n",
       "Item_Fat_Content               8523      5                Low Fat  5089   \n",
       "Item_Visibility           8523.0000    NaN                    NaN   NaN   \n",
       "Item_Type                      8523     16  Fruits and Vegetables  1232   \n",
       "Item_MRP                  8523.0000    NaN                    NaN   NaN   \n",
       "Outlet_Identifier              8523     10                 OUT027   935   \n",
       "Outlet_Establishment_Year 8523.0000    NaN                    NaN   NaN   \n",
       "Outlet_Size                    6113      3                 Medium  2793   \n",
       "Outlet_Location_Type           8523      3                 Tier 3  3350   \n",
       "Outlet_Type                    8523      4      Supermarket Type1  5577   \n",
       "Item_Outlet_Sales         8523.0000    NaN                    NaN   NaN   \n",
       "\n",
       "                               mean       std       min       25%       50%  \\\n",
       "Item_Identifier                 NaN       NaN       NaN       NaN       NaN   \n",
       "Item_Weight                 12.8576    4.6435    4.5550    8.7737   12.6000   \n",
       "Item_Fat_Content                NaN       NaN       NaN       NaN       NaN   \n",
       "Item_Visibility              0.0661    0.0516    0.0000    0.0270    0.0539   \n",
       "Item_Type                       NaN       NaN       NaN       NaN       NaN   \n",
       "Item_MRP                   140.9928   62.2751   31.2900   93.8265  143.0128   \n",
       "Outlet_Identifier               NaN       NaN       NaN       NaN       NaN   \n",
       "Outlet_Establishment_Year 1997.8319    8.3718 1985.0000 1987.0000 1999.0000   \n",
       "Outlet_Size                     NaN       NaN       NaN       NaN       NaN   \n",
       "Outlet_Location_Type            NaN       NaN       NaN       NaN       NaN   \n",
       "Outlet_Type                     NaN       NaN       NaN       NaN       NaN   \n",
       "Item_Outlet_Sales         2181.2889 1706.4996   33.2900  834.2474 1794.3310   \n",
       "\n",
       "                                75%        max  null_count  unique_count  \n",
       "Item_Identifier                 NaN        NaN           0          1559  \n",
       "Item_Weight                 16.8500    21.3500        1463           416  \n",
       "Item_Fat_Content                NaN        NaN           0             5  \n",
       "Item_Visibility              0.0946     0.3284           0          7880  \n",
       "Item_Type                       NaN        NaN           0            16  \n",
       "Item_MRP                   185.6437   266.8884           0          5938  \n",
       "Outlet_Identifier               NaN        NaN           0            10  \n",
       "Outlet_Establishment_Year 2004.0000  2009.0000           0             9  \n",
       "Outlet_Size                     NaN        NaN        2410             4  \n",
       "Outlet_Location_Type            NaN        NaN           0             3  \n",
       "Outlet_Type                     NaN        NaN           0             4  \n",
       "Item_Outlet_Sales         3101.2964 13086.9648           0          3493  "
      ]
     },
     "execution_count": 10,
     "metadata": {},
     "output_type": "execute_result"
    }
   ],
   "source": [
    "extended_describe(train_df)"
   ]
  },
  {
   "cell_type": "code",
   "execution_count": 11,
   "metadata": {},
   "outputs": [
    {
     "data": {
      "text/html": [
       "<div>\n",
       "<style scoped>\n",
       "    .dataframe tbody tr th:only-of-type {\n",
       "        vertical-align: middle;\n",
       "    }\n",
       "\n",
       "    .dataframe tbody tr th {\n",
       "        vertical-align: top;\n",
       "    }\n",
       "\n",
       "    .dataframe thead th {\n",
       "        text-align: right;\n",
       "    }\n",
       "</style>\n",
       "<table border=\"1\" class=\"dataframe\">\n",
       "  <thead>\n",
       "    <tr style=\"text-align: right;\">\n",
       "      <th></th>\n",
       "      <th>count</th>\n",
       "      <th>unique</th>\n",
       "      <th>top</th>\n",
       "      <th>freq</th>\n",
       "      <th>mean</th>\n",
       "      <th>std</th>\n",
       "      <th>min</th>\n",
       "      <th>25%</th>\n",
       "      <th>50%</th>\n",
       "      <th>75%</th>\n",
       "      <th>max</th>\n",
       "      <th>null_count</th>\n",
       "      <th>unique_count</th>\n",
       "    </tr>\n",
       "  </thead>\n",
       "  <tbody>\n",
       "    <tr>\n",
       "      <th>Item_Identifier</th>\n",
       "      <td>5681</td>\n",
       "      <td>1543</td>\n",
       "      <td>FDK57</td>\n",
       "      <td>8</td>\n",
       "      <td>NaN</td>\n",
       "      <td>NaN</td>\n",
       "      <td>NaN</td>\n",
       "      <td>NaN</td>\n",
       "      <td>NaN</td>\n",
       "      <td>NaN</td>\n",
       "      <td>NaN</td>\n",
       "      <td>0</td>\n",
       "      <td>1543</td>\n",
       "    </tr>\n",
       "    <tr>\n",
       "      <th>Item_Weight</th>\n",
       "      <td>4705.0000</td>\n",
       "      <td>NaN</td>\n",
       "      <td>NaN</td>\n",
       "      <td>NaN</td>\n",
       "      <td>12.6956</td>\n",
       "      <td>4.6648</td>\n",
       "      <td>4.5550</td>\n",
       "      <td>8.6450</td>\n",
       "      <td>12.5000</td>\n",
       "      <td>16.7000</td>\n",
       "      <td>21.3500</td>\n",
       "      <td>976</td>\n",
       "      <td>411</td>\n",
       "    </tr>\n",
       "    <tr>\n",
       "      <th>Item_Fat_Content</th>\n",
       "      <td>5681</td>\n",
       "      <td>5</td>\n",
       "      <td>Low Fat</td>\n",
       "      <td>3396</td>\n",
       "      <td>NaN</td>\n",
       "      <td>NaN</td>\n",
       "      <td>NaN</td>\n",
       "      <td>NaN</td>\n",
       "      <td>NaN</td>\n",
       "      <td>NaN</td>\n",
       "      <td>NaN</td>\n",
       "      <td>0</td>\n",
       "      <td>5</td>\n",
       "    </tr>\n",
       "    <tr>\n",
       "      <th>Item_Visibility</th>\n",
       "      <td>5681.0000</td>\n",
       "      <td>NaN</td>\n",
       "      <td>NaN</td>\n",
       "      <td>NaN</td>\n",
       "      <td>0.0657</td>\n",
       "      <td>0.0513</td>\n",
       "      <td>0.0000</td>\n",
       "      <td>0.0270</td>\n",
       "      <td>0.0542</td>\n",
       "      <td>0.0935</td>\n",
       "      <td>0.3236</td>\n",
       "      <td>0</td>\n",
       "      <td>5277</td>\n",
       "    </tr>\n",
       "    <tr>\n",
       "      <th>Item_Type</th>\n",
       "      <td>5681</td>\n",
       "      <td>16</td>\n",
       "      <td>Snack Foods</td>\n",
       "      <td>789</td>\n",
       "      <td>NaN</td>\n",
       "      <td>NaN</td>\n",
       "      <td>NaN</td>\n",
       "      <td>NaN</td>\n",
       "      <td>NaN</td>\n",
       "      <td>NaN</td>\n",
       "      <td>NaN</td>\n",
       "      <td>0</td>\n",
       "      <td>16</td>\n",
       "    </tr>\n",
       "    <tr>\n",
       "      <th>Item_MRP</th>\n",
       "      <td>5681.0000</td>\n",
       "      <td>NaN</td>\n",
       "      <td>NaN</td>\n",
       "      <td>NaN</td>\n",
       "      <td>141.0233</td>\n",
       "      <td>61.8091</td>\n",
       "      <td>31.9900</td>\n",
       "      <td>94.4120</td>\n",
       "      <td>141.4154</td>\n",
       "      <td>186.0266</td>\n",
       "      <td>266.5884</td>\n",
       "      <td>0</td>\n",
       "      <td>4402</td>\n",
       "    </tr>\n",
       "    <tr>\n",
       "      <th>Outlet_Identifier</th>\n",
       "      <td>5681</td>\n",
       "      <td>10</td>\n",
       "      <td>OUT027</td>\n",
       "      <td>624</td>\n",
       "      <td>NaN</td>\n",
       "      <td>NaN</td>\n",
       "      <td>NaN</td>\n",
       "      <td>NaN</td>\n",
       "      <td>NaN</td>\n",
       "      <td>NaN</td>\n",
       "      <td>NaN</td>\n",
       "      <td>0</td>\n",
       "      <td>10</td>\n",
       "    </tr>\n",
       "    <tr>\n",
       "      <th>Outlet_Establishment_Year</th>\n",
       "      <td>5681.0000</td>\n",
       "      <td>NaN</td>\n",
       "      <td>NaN</td>\n",
       "      <td>NaN</td>\n",
       "      <td>1997.8289</td>\n",
       "      <td>8.3723</td>\n",
       "      <td>1985.0000</td>\n",
       "      <td>1987.0000</td>\n",
       "      <td>1999.0000</td>\n",
       "      <td>2004.0000</td>\n",
       "      <td>2009.0000</td>\n",
       "      <td>0</td>\n",
       "      <td>9</td>\n",
       "    </tr>\n",
       "    <tr>\n",
       "      <th>Outlet_Size</th>\n",
       "      <td>4075</td>\n",
       "      <td>3</td>\n",
       "      <td>Medium</td>\n",
       "      <td>1862</td>\n",
       "      <td>NaN</td>\n",
       "      <td>NaN</td>\n",
       "      <td>NaN</td>\n",
       "      <td>NaN</td>\n",
       "      <td>NaN</td>\n",
       "      <td>NaN</td>\n",
       "      <td>NaN</td>\n",
       "      <td>1606</td>\n",
       "      <td>4</td>\n",
       "    </tr>\n",
       "    <tr>\n",
       "      <th>Outlet_Location_Type</th>\n",
       "      <td>5681</td>\n",
       "      <td>3</td>\n",
       "      <td>Tier 3</td>\n",
       "      <td>2233</td>\n",
       "      <td>NaN</td>\n",
       "      <td>NaN</td>\n",
       "      <td>NaN</td>\n",
       "      <td>NaN</td>\n",
       "      <td>NaN</td>\n",
       "      <td>NaN</td>\n",
       "      <td>NaN</td>\n",
       "      <td>0</td>\n",
       "      <td>3</td>\n",
       "    </tr>\n",
       "    <tr>\n",
       "      <th>Outlet_Type</th>\n",
       "      <td>5681</td>\n",
       "      <td>4</td>\n",
       "      <td>Supermarket Type1</td>\n",
       "      <td>3717</td>\n",
       "      <td>NaN</td>\n",
       "      <td>NaN</td>\n",
       "      <td>NaN</td>\n",
       "      <td>NaN</td>\n",
       "      <td>NaN</td>\n",
       "      <td>NaN</td>\n",
       "      <td>NaN</td>\n",
       "      <td>0</td>\n",
       "      <td>4</td>\n",
       "    </tr>\n",
       "  </tbody>\n",
       "</table>\n",
       "</div>"
      ],
      "text/plain": [
       "                              count unique                top  freq      mean  \\\n",
       "Item_Identifier                5681   1543              FDK57     8       NaN   \n",
       "Item_Weight               4705.0000    NaN                NaN   NaN   12.6956   \n",
       "Item_Fat_Content               5681      5            Low Fat  3396       NaN   \n",
       "Item_Visibility           5681.0000    NaN                NaN   NaN    0.0657   \n",
       "Item_Type                      5681     16        Snack Foods   789       NaN   \n",
       "Item_MRP                  5681.0000    NaN                NaN   NaN  141.0233   \n",
       "Outlet_Identifier              5681     10             OUT027   624       NaN   \n",
       "Outlet_Establishment_Year 5681.0000    NaN                NaN   NaN 1997.8289   \n",
       "Outlet_Size                    4075      3             Medium  1862       NaN   \n",
       "Outlet_Location_Type           5681      3             Tier 3  2233       NaN   \n",
       "Outlet_Type                    5681      4  Supermarket Type1  3717       NaN   \n",
       "\n",
       "                              std       min       25%       50%       75%  \\\n",
       "Item_Identifier               NaN       NaN       NaN       NaN       NaN   \n",
       "Item_Weight                4.6648    4.5550    8.6450   12.5000   16.7000   \n",
       "Item_Fat_Content              NaN       NaN       NaN       NaN       NaN   \n",
       "Item_Visibility            0.0513    0.0000    0.0270    0.0542    0.0935   \n",
       "Item_Type                     NaN       NaN       NaN       NaN       NaN   \n",
       "Item_MRP                  61.8091   31.9900   94.4120  141.4154  186.0266   \n",
       "Outlet_Identifier             NaN       NaN       NaN       NaN       NaN   \n",
       "Outlet_Establishment_Year  8.3723 1985.0000 1987.0000 1999.0000 2004.0000   \n",
       "Outlet_Size                   NaN       NaN       NaN       NaN       NaN   \n",
       "Outlet_Location_Type          NaN       NaN       NaN       NaN       NaN   \n",
       "Outlet_Type                   NaN       NaN       NaN       NaN       NaN   \n",
       "\n",
       "                                max  null_count  unique_count  \n",
       "Item_Identifier                 NaN           0          1543  \n",
       "Item_Weight                 21.3500         976           411  \n",
       "Item_Fat_Content                NaN           0             5  \n",
       "Item_Visibility              0.3236           0          5277  \n",
       "Item_Type                       NaN           0            16  \n",
       "Item_MRP                   266.5884           0          4402  \n",
       "Outlet_Identifier               NaN           0            10  \n",
       "Outlet_Establishment_Year 2009.0000           0             9  \n",
       "Outlet_Size                     NaN        1606             4  \n",
       "Outlet_Location_Type            NaN           0             3  \n",
       "Outlet_Type                     NaN           0             4  "
      ]
     },
     "execution_count": 11,
     "metadata": {},
     "output_type": "execute_result"
    }
   ],
   "source": [
    "extended_describe(test_df)"
   ]
  },
  {
   "cell_type": "code",
   "execution_count": 12,
   "metadata": {},
   "outputs": [
    {
     "name": "stdout",
     "output_type": "stream",
     "text": [
      "Number of 0 values initially:  526\n",
      "Number of 0 test values initially:  353\n",
      "Number of 0 values after modification:  0\n",
      "Number of 0 values after modification:  0\n"
     ]
    }
   ],
   "source": [
    "data = pd.concat([train_df, test_df], ignore_index=True)\n",
    "visibility_avg = train_df.groupby(['Item_Identifier'])['Item_Visibility'].agg(pd.Series.mean)\n",
    "\n",
    "# Impute 0 values with mean train_df of that product:\n",
    "miss_bool = (train_df['Item_Visibility'] == 0)\n",
    "miss_test_bool = (test_df['Item_Visibility'] == 0)\n",
    "\n",
    "print('Number of 0 values initially: ', sum(miss_bool))\n",
    "print('Number of 0 test values initially: ', sum(miss_test_bool))\n",
    "\n",
    "train_df.loc[miss_bool, 'Item_Visibility'] = train_df.loc[\n",
    "miss_bool, 'Item_Identifier'].apply(lambda x: visibility_avg.get(x, 0))\n",
    "test_df.loc[miss_test_bool, 'Item_Visibility'] = test_df.loc[\n",
    "    miss_test_bool,\n",
    "    'Item_Identifier'].apply(lambda x: visibility_avg.get(x, 0))\n",
    "print('Number of 0 values after modification: ',\n",
    "      sum(train_df['Item_Visibility'] == 0))\n",
    "print('Number of 0 values after modification: ',\n",
    "      sum(test_df['Item_Visibility'] == 0))"
   ]
  },
  {
   "cell_type": "code",
   "execution_count": 13,
   "metadata": {},
   "outputs": [
    {
     "name": "stdout",
     "output_type": "stream",
     "text": [
      "Original #missing: 1463\n",
      "Original #missing: 976\n",
      "Final #missing:  0\n",
      "Final #missing:  0\n"
     ]
    }
   ],
   "source": [
    "item_avg_weight = data.groupby(['Item_Identifier'])[\n",
    "    'Item_Weight'].agg(pd.Series.mean)\n",
    "\n",
    "# Get a boolean variable specifying missing Item_Weight values\n",
    "miss_train_bool = train_df['Item_Weight'].isnull()\n",
    "miss_test_bool = test_df['Item_Weight'].isnull()\n",
    "\n",
    "# Impute data and check #missing values before and after imputation to confirm\n",
    "print('Original #missing:', sum(miss_train_bool))\n",
    "print('Original #missing:', sum(miss_test_bool))\n",
    "\n",
    "train_df.loc[miss_train_bool, 'Item_Weight'] = train_df.loc[miss_train_bool,\n",
    "                                                            'Item_Identifier'].apply(lambda x: item_avg_weight.get(x, None))\n",
    "test_df.loc[miss_test_bool, 'Item_Weight'] = test_df.loc[miss_test_bool,\n",
    "                                                         'Item_Identifier'].apply(lambda x: item_avg_weight.get(x, None))\n",
    "\n",
    "print('Final #missing: ', sum(train_df['Item_Weight'].isnull()))\n",
    "print('Final #missing: ', sum(test_df['Item_Weight'].isnull()))"
   ]
  },
  {
   "cell_type": "code",
   "execution_count": 14,
   "metadata": {},
   "outputs": [
    {
     "name": "stdout",
     "output_type": "stream",
     "text": [
      "Orignal #missing: 2410\n",
      "Orignal #missing: 1606\n",
      "Final #missing:  0\n",
      "Final #missing:  0\n"
     ]
    }
   ],
   "source": [
    "outlet_location_mode = train_df.groupby(['Outlet_Location_Type'])[\n",
    "    'Outlet_Size'].agg(pd.Series.mode)\n",
    "\n",
    "# Get a boolean variable specifying missing Item_Weight values\n",
    "miss_train_bool = train_df['Outlet_Size'].isnull()\n",
    "miss_test_bool = test_df['Outlet_Size'].isnull()\n",
    "\n",
    "# Impute data and check #missing values before and after imputation to confirm\n",
    "print('Orignal #missing:', sum(miss_train_bool))\n",
    "print('Orignal #missing:', sum(miss_test_bool))\n",
    "\n",
    "train_df.loc[miss_train_bool, 'Outlet_Size'] = train_df.loc[miss_train_bool,\n",
    "                                                            'Outlet_Location_Type'].apply(lambda x: outlet_location_mode.get(x, None))\n",
    "test_df.loc[miss_test_bool, 'Outlet_Size'] = test_df.loc[miss_test_bool,\n",
    "                                                         'Outlet_Location_Type'].apply(lambda x: outlet_location_mode.get(x, None))\n",
    "\n",
    "print('Final #missing: ', sum(train_df['Outlet_Size'].isnull()))\n",
    "print('Final #missing: ', sum(test_df['Outlet_Size'].isnull()))"
   ]
  },
  {
   "cell_type": "code",
   "execution_count": 15,
   "metadata": {},
   "outputs": [],
   "source": [
    "def get_item_identifier(row):\n",
    "    return row['Item_Identifier'][:2]\n",
    "\n",
    "train_df['Item_Identifier_New'] = train_df.apply(get_item_identifier, axis=1)\n",
    "test_df['Item_Identifier_New'] = test_df.apply(get_item_identifier, axis=1)"
   ]
  },
  {
   "cell_type": "code",
   "execution_count": 16,
   "metadata": {},
   "outputs": [],
   "source": [
    "replace_fc = {'LF': 'Low Fat', 'low fat': 'Low Fat', 'low fat': 'Low Fat',\n",
    "              'reg': 'Regular', 'Low Fat': 'Low Fat', 'Regular': 'Regular'}\n",
    "\n",
    "train_df['Item_Fat_Content'].value_counts()\n",
    "\n",
    "train_df['Item_Fat_Content'] = train_df['Item_Fat_Content'].map(replace_fc)\n",
    "test_df['Item_Fat_Content'] = test_df['Item_Fat_Content'].map(replace_fc)"
   ]
  },
  {
   "cell_type": "code",
   "execution_count": 17,
   "metadata": {},
   "outputs": [],
   "source": [
    "train_df['Years'] = train_df['Outlet_Establishment_Year'].apply(\n",
    "    lambda x: 2013 - x)\n",
    "test_df['Years'] = test_df['Outlet_Establishment_Year'].apply(\n",
    "    lambda x: 2013 - x)"
   ]
  },
  {
   "cell_type": "code",
   "execution_count": 18,
   "metadata": {},
   "outputs": [
    {
     "name": "stdout",
     "output_type": "stream",
     "text": [
      "<class 'pandas.core.frame.DataFrame'>\n",
      "RangeIndex: 5681 entries, 0 to 5680\n",
      "Data columns (total 13 columns):\n",
      " #   Column                     Non-Null Count  Dtype  \n",
      "---  ------                     --------------  -----  \n",
      " 0   Item_Identifier            5681 non-null   object \n",
      " 1   Item_Weight                5681 non-null   float64\n",
      " 2   Item_Fat_Content           5681 non-null   object \n",
      " 3   Item_Visibility            5681 non-null   float64\n",
      " 4   Item_Type                  5681 non-null   object \n",
      " 5   Item_MRP                   5681 non-null   float64\n",
      " 6   Outlet_Identifier          5681 non-null   object \n",
      " 7   Outlet_Establishment_Year  5681 non-null   int64  \n",
      " 8   Outlet_Size                5681 non-null   object \n",
      " 9   Outlet_Location_Type       5681 non-null   object \n",
      " 10  Outlet_Type                5681 non-null   object \n",
      " 11  Item_Identifier_New        5681 non-null   object \n",
      " 12  Years                      5681 non-null   int64  \n",
      "dtypes: float64(3), int64(2), object(8)\n",
      "memory usage: 577.1+ KB\n"
     ]
    }
   ],
   "source": [
    "test_df.info()"
   ]
  },
  {
   "cell_type": "code",
   "execution_count": 19,
   "metadata": {},
   "outputs": [],
   "source": [
    "train_df.fillna(-999,inplace=True)\n",
    "test_df.fillna(-999,inplace=True)"
   ]
  },
  {
   "cell_type": "code",
   "execution_count": 20,
   "metadata": {},
   "outputs": [],
   "source": [
    "# train_df['isOutlet_27'] = train_df['Outlet_Identifier'].apply(\n",
    "#     lambda x: 'Y' if x == 'OUT027' else 'N')\n",
    "# test_df['isOutlet_27'] = test_df['Outlet_Identifier'].apply(\n",
    "#     lambda x: 'Y' if x == 'OUT027' else 'N')"
   ]
  },
  {
   "cell_type": "code",
   "execution_count": 21,
   "metadata": {},
   "outputs": [],
   "source": [
    "# train_df['isOutlet_10_or_19'] = train_df['Outlet_Identifier'].apply(\n",
    "#     lambda x: 'Y' if x in ('OUT010', 'OUT019') else 'N')\n",
    "# test_df['isOutlet_10_or_19'] = test_df['Outlet_Identifier'].apply(\n",
    "#     lambda x: 'Y' if x in ('OUT010', 'OUT019') else 'N')"
   ]
  },
  {
   "cell_type": "code",
   "execution_count": 22,
   "metadata": {},
   "outputs": [],
   "source": [
    "# mean_visibility=train_df['Item_Visibility'].mean()\n",
    "\n",
    "# train_df['Item_Visibility_MeanRatio']=train_df.apply(lambda x:x['Item_Visibility']/mean_visibility,axis=1)\n",
    "# test_df['Item_Visibility_MeanRatio']=test_df.apply(lambda x:x['Item_Visibility']/mean_visibility,axis=1)"
   ]
  },
  {
   "cell_type": "code",
   "execution_count": 23,
   "metadata": {},
   "outputs": [
    {
     "name": "stdout",
     "output_type": "stream",
     "text": [
      "<class 'pandas.core.frame.DataFrame'>\n",
      "RangeIndex: 8523 entries, 0 to 8522\n",
      "Data columns (total 14 columns):\n",
      " #   Column                     Non-Null Count  Dtype  \n",
      "---  ------                     --------------  -----  \n",
      " 0   Item_Identifier            8523 non-null   object \n",
      " 1   Item_Weight                8523 non-null   float64\n",
      " 2   Item_Fat_Content           8523 non-null   object \n",
      " 3   Item_Visibility            8523 non-null   float64\n",
      " 4   Item_Type                  8523 non-null   object \n",
      " 5   Item_MRP                   8523 non-null   float64\n",
      " 6   Outlet_Identifier          8523 non-null   object \n",
      " 7   Outlet_Establishment_Year  8523 non-null   int64  \n",
      " 8   Outlet_Size                8523 non-null   object \n",
      " 9   Outlet_Location_Type       8523 non-null   object \n",
      " 10  Outlet_Type                8523 non-null   object \n",
      " 11  Item_Outlet_Sales          8523 non-null   float64\n",
      " 12  Item_Identifier_New        8523 non-null   object \n",
      " 13  Years                      8523 non-null   int64  \n",
      "dtypes: float64(4), int64(2), object(8)\n",
      "memory usage: 932.3+ KB\n"
     ]
    }
   ],
   "source": [
    "train_df.info()"
   ]
  },
  {
   "cell_type": "code",
   "execution_count": 24,
   "metadata": {},
   "outputs": [
    {
     "name": "stdout",
     "output_type": "stream",
     "text": [
      "<class 'pandas.core.frame.DataFrame'>\n",
      "RangeIndex: 5681 entries, 0 to 5680\n",
      "Data columns (total 13 columns):\n",
      " #   Column                     Non-Null Count  Dtype  \n",
      "---  ------                     --------------  -----  \n",
      " 0   Item_Identifier            5681 non-null   object \n",
      " 1   Item_Weight                5681 non-null   float64\n",
      " 2   Item_Fat_Content           5681 non-null   object \n",
      " 3   Item_Visibility            5681 non-null   float64\n",
      " 4   Item_Type                  5681 non-null   object \n",
      " 5   Item_MRP                   5681 non-null   float64\n",
      " 6   Outlet_Identifier          5681 non-null   object \n",
      " 7   Outlet_Establishment_Year  5681 non-null   int64  \n",
      " 8   Outlet_Size                5681 non-null   object \n",
      " 9   Outlet_Location_Type       5681 non-null   object \n",
      " 10  Outlet_Type                5681 non-null   object \n",
      " 11  Item_Identifier_New        5681 non-null   object \n",
      " 12  Years                      5681 non-null   int64  \n",
      "dtypes: float64(3), int64(2), object(8)\n",
      "memory usage: 577.1+ KB\n"
     ]
    }
   ],
   "source": [
    "test_df.info()"
   ]
  },
  {
   "cell_type": "code",
   "execution_count": 25,
   "metadata": {},
   "outputs": [],
   "source": [
    "def encode_to_map(df, col,target):\n",
    "    named_agg_col = col+'_'+'sales'\n",
    "    items_group = train_df.groupby([col])[target].agg(sales_avg=pd.NamedAgg(column=named_agg_col, aggfunc='sum')).reset_index()\n",
    "    items_group =items_group.sort_values(['sales_avg'], ascending=False)\n",
    "    return items_group.sort_values(['sales_avg'], ascending=False)[col].values \n",
    "    \n",
    "\n",
    "def value_counts_to_map(df,col):\n",
    "    return train_df[col].value_counts(sort=True,ascending=True).index.values\n",
    "    \n",
    "\n",
    "item_fat_content_map  = { k:v for v,k  in enumerate(value_counts_to_map(train_df,'Item_Fat_Content'))}\n",
    "outlet_identifier_map = { k:v for v,k  in enumerate(encode_to_map(train_df,'Outlet_Identifier',target))}\n",
    "item_type_map  = { k:v for v,k  in enumerate(encode_to_map(train_df,'Item_Type',target))}\n",
    "outlet_size_map ={ k:v for v,k  in enumerate(encode_to_map(train_df,'Outlet_Size',target))}\n",
    "outlet_type_map = { k:v for v,k  in enumerate(encode_to_map(train_df,'Outlet_Type',target))}\n",
    "location_Type_map = { k:v for v,k  in enumerate(encode_to_map(train_df,'Outlet_Location_Type',target))}\n",
    "item_identifier_map = { k:v for v,k  in enumerate(encode_to_map(train_df,'Item_Identifier',target))} \n",
    "item_identifier_new_map = { k:v for v,k  in enumerate(encode_to_map(train_df,'Item_Identifier_New',target))}\n",
    "\n",
    "train_df['Item_Identifier_New'] = train_df['Item_Identifier_New'].map(item_identifier_new_map)\n",
    "train_df['Item_Fat_Content'] = train_df['Item_Fat_Content'].map(item_fat_content_map)\n",
    "train_df['Item_Type'] = train_df['Item_Type'].map(item_type_map)\n",
    "train_df['Outlet_Identifier'] = train_df['Outlet_Identifier'].map(outlet_identifier_map)\n",
    "train_df['Outlet_Size'] = train_df['Outlet_Size'].map(outlet_size_map)\n",
    "train_df['Outlet_Location_Type'] = train_df['Outlet_Location_Type'].map(location_Type_map)\n",
    "train_df['Outlet_Type'] = train_df['Outlet_Type'].map(outlet_type_map)\n",
    "\n"
   ]
  },
  {
   "cell_type": "code",
   "execution_count": 26,
   "metadata": {},
   "outputs": [],
   "source": [
    "test_df['Item_Identifier_New'] = test_df['Item_Identifier_New'].map(item_identifier_new_map)\n",
    "test_df['Item_Fat_Content'] = test_df['Item_Fat_Content'].map(item_fat_content_map)\n",
    "test_df['Item_Type'] = test_df['Item_Type'].map(item_type_map)\n",
    "test_df['Outlet_Identifier'] = test_df['Outlet_Identifier'].map(outlet_identifier_map)\n",
    "test_df['Outlet_Size'] = test_df['Outlet_Size'].map(outlet_size_map)\n",
    "test_df['Outlet_Location_Type'] = test_df['Outlet_Location_Type'].map(location_Type_map)\n",
    "test_df['Outlet_Type'] = test_df['Outlet_Type'].map(outlet_type_map)\n"
   ]
  },
  {
   "cell_type": "code",
   "execution_count": 27,
   "metadata": {},
   "outputs": [
    {
     "data": {
      "text/plain": [
       "<matplotlib.axes._subplots.AxesSubplot at 0x2554cfcdf48>"
      ]
     },
     "execution_count": 27,
     "metadata": {},
     "output_type": "execute_result"
    },
    {
     "data": {
      "image/png": "[encoded data removed]",
      "text/plain": [
       "<Figure size 576x396 with 1 Axes>"
      ]
     },
     "metadata": {},
     "output_type": "display_data"
    }
   ],
   "source": [
    "sns.distplot(np.sqrt(train_df['Item_Outlet_Sales']))"
   ]
  },
  {
   "cell_type": "code",
   "execution_count": 28,
   "metadata": {},
   "outputs": [],
   "source": [
    "train_df['Item_Outlet_Sales'] = np.sqrt(train_df['Item_Outlet_Sales'])"
   ]
  },
  {
   "cell_type": "code",
   "execution_count": null,
   "metadata": {},
   "outputs": [],
   "source": []
  },
  {
   "cell_type": "code",
   "execution_count": 29,
   "metadata": {},
   "outputs": [],
   "source": [
    "#drop_cols =['Outlet_Establishment_Year','Outlet_Size','Item_Type','Item_Fat_Content']\n",
    "drop_cols=['Outlet_Establishment_Year','Item_Identifier']"
   ]
  },
  {
   "cell_type": "code",
   "execution_count": 30,
   "metadata": {},
   "outputs": [],
   "source": [
    "train_df.drop(drop_cols,axis=1,inplace=True)\n",
    "test_df.drop(drop_cols,axis=1,inplace=True)"
   ]
  },
  {
   "cell_type": "code",
   "execution_count": 31,
   "metadata": {},
   "outputs": [],
   "source": [
    "X = train_df.drop(['Item_Outlet_Sales'], axis=1)\n",
    "y = train_df['Item_Outlet_Sales']\n",
    "X_test = test_df"
   ]
  },
  {
   "cell_type": "code",
   "execution_count": 32,
   "metadata": {},
   "outputs": [
    {
     "data": {
      "text/html": [
       "<div>\n",
       "<style scoped>\n",
       "    .dataframe tbody tr th:only-of-type {\n",
       "        vertical-align: middle;\n",
       "    }\n",
       "\n",
       "    .dataframe tbody tr th {\n",
       "        vertical-align: top;\n",
       "    }\n",
       "\n",
       "    .dataframe thead th {\n",
       "        text-align: right;\n",
       "    }\n",
       "</style>\n",
       "<table border=\"1\" class=\"dataframe\">\n",
       "  <thead>\n",
       "    <tr style=\"text-align: right;\">\n",
       "      <th></th>\n",
       "      <th>Item_Weight</th>\n",
       "      <th>Item_Fat_Content</th>\n",
       "      <th>Item_Visibility</th>\n",
       "      <th>Item_Type</th>\n",
       "      <th>Item_MRP</th>\n",
       "      <th>Outlet_Identifier</th>\n",
       "      <th>Outlet_Size</th>\n",
       "      <th>Outlet_Location_Type</th>\n",
       "      <th>Outlet_Type</th>\n",
       "      <th>Item_Outlet_Sales</th>\n",
       "      <th>Item_Identifier_New</th>\n",
       "      <th>Years</th>\n",
       "    </tr>\n",
       "  </thead>\n",
       "  <tbody>\n",
       "    <tr>\n",
       "      <th>0</th>\n",
       "      <td>9.3000</td>\n",
       "      <td>1</td>\n",
       "      <td>0.0160</td>\n",
       "      <td>4</td>\n",
       "      <td>249.8092</td>\n",
       "      <td>2</td>\n",
       "      <td>1</td>\n",
       "      <td>2</td>\n",
       "      <td>0</td>\n",
       "      <td>61.1158</td>\n",
       "      <td>0</td>\n",
       "      <td>14</td>\n",
       "    </tr>\n",
       "    <tr>\n",
       "      <th>1</th>\n",
       "      <td>5.9200</td>\n",
       "      <td>0</td>\n",
       "      <td>0.0193</td>\n",
       "      <td>9</td>\n",
       "      <td>48.2692</td>\n",
       "      <td>7</td>\n",
       "      <td>1</td>\n",
       "      <td>0</td>\n",
       "      <td>2</td>\n",
       "      <td>21.0576</td>\n",
       "      <td>2</td>\n",
       "      <td>4</td>\n",
       "    </tr>\n",
       "    <tr>\n",
       "      <th>2</th>\n",
       "      <td>17.5000</td>\n",
       "      <td>1</td>\n",
       "      <td>0.0168</td>\n",
       "      <td>8</td>\n",
       "      <td>141.6180</td>\n",
       "      <td>2</td>\n",
       "      <td>1</td>\n",
       "      <td>2</td>\n",
       "      <td>0</td>\n",
       "      <td>45.7960</td>\n",
       "      <td>0</td>\n",
       "      <td>14</td>\n",
       "    </tr>\n",
       "    <tr>\n",
       "      <th>3</th>\n",
       "      <td>19.2000</td>\n",
       "      <td>0</td>\n",
       "      <td>0.0153</td>\n",
       "      <td>0</td>\n",
       "      <td>182.0950</td>\n",
       "      <td>8</td>\n",
       "      <td>1</td>\n",
       "      <td>0</td>\n",
       "      <td>3</td>\n",
       "      <td>27.0625</td>\n",
       "      <td>0</td>\n",
       "      <td>15</td>\n",
       "    </tr>\n",
       "    <tr>\n",
       "      <th>4</th>\n",
       "      <td>8.9300</td>\n",
       "      <td>1</td>\n",
       "      <td>0.0081</td>\n",
       "      <td>2</td>\n",
       "      <td>53.8614</td>\n",
       "      <td>4</td>\n",
       "      <td>2</td>\n",
       "      <td>0</td>\n",
       "      <td>0</td>\n",
       "      <td>31.5389</td>\n",
       "      <td>1</td>\n",
       "      <td>26</td>\n",
       "    </tr>\n",
       "  </tbody>\n",
       "</table>\n",
       "</div>"
      ],
      "text/plain": [
       "   Item_Weight  Item_Fat_Content  Item_Visibility  Item_Type  Item_MRP  \\\n",
       "0       9.3000                 1           0.0160          4  249.8092   \n",
       "1       5.9200                 0           0.0193          9   48.2692   \n",
       "2      17.5000                 1           0.0168          8  141.6180   \n",
       "3      19.2000                 0           0.0153          0  182.0950   \n",
       "4       8.9300                 1           0.0081          2   53.8614   \n",
       "\n",
       "   Outlet_Identifier  Outlet_Size  Outlet_Location_Type  Outlet_Type  \\\n",
       "0                  2            1                     2            0   \n",
       "1                  7            1                     0            2   \n",
       "2                  2            1                     2            0   \n",
       "3                  8            1                     0            3   \n",
       "4                  4            2                     0            0   \n",
       "\n",
       "   Item_Outlet_Sales  Item_Identifier_New  Years  \n",
       "0            61.1158                    0     14  \n",
       "1            21.0576                    2      4  \n",
       "2            45.7960                    0     14  \n",
       "3            27.0625                    0     15  \n",
       "4            31.5389                    1     26  "
      ]
     },
     "execution_count": 32,
     "metadata": {},
     "output_type": "execute_result"
    }
   ],
   "source": [
    "train_df.head()"
   ]
  },
  {
   "cell_type": "code",
   "execution_count": 33,
   "metadata": {},
   "outputs": [],
   "source": [
    "from sklearn.model_selection import train_test_split\n",
    "X_train, X_validation, y_train, y_validation = train_test_split(X, y, train_size=0.8, random_state=42)"
   ]
  },
  {
   "cell_type": "code",
   "execution_count": 34,
   "metadata": {},
   "outputs": [],
   "source": [
    "from yellowbrick.regressor import ResidualsPlot\n",
    "from yellowbrick.regressor import PredictionError\n",
    "from yellowbrick.regressor import AlphaSelection\n",
    "from sklearn.linear_model import LassoCV\n",
    "from sklearn.linear_model import ElasticNetCV\n",
    "from sklearn.linear_model import ElasticNet\n",
    "from sklearn.model_selection import learning_curve\n",
    "from sklearn.linear_model import HuberRegressor\n",
    "from sklearn.metrics import mean_squared_error"
   ]
  },
  {
   "cell_type": "code",
   "execution_count": 35,
   "metadata": {},
   "outputs": [
    {
     "data": {
      "image/png": "[encoded data removed]",
      "text/plain": [
       "<Figure size 576x396 with 1 Axes>"
      ]
     },
     "metadata": {},
     "output_type": "display_data"
    },
    {
     "data": {
      "text/plain": [
       "<matplotlib.axes._subplots.AxesSubplot at 0x2554cf30408>"
      ]
     },
     "execution_count": 35,
     "metadata": {},
     "output_type": "execute_result"
    }
   ],
   "source": [
    "\n",
    "alphas=np.logspace(-10, -1, 300)\n",
    "model = ElasticNetCV(alphas=alphas)\n",
    "visualizer = AlphaSelection(model)\n",
    "visualizer.fit(X_train, y_train)  # Fit the training data to the visualizer\n",
    " \n",
    "visualizer.show()"
   ]
  },
  {
   "cell_type": "code",
   "execution_count": 36,
   "metadata": {},
   "outputs": [
    {
     "name": "stdout",
     "output_type": "stream",
     "text": [
      "ElasticNetCV(alphas=array([1.00000000e-10, 1.07176689e-10, 1.14868426e-10, 1.23112175e-10,\n",
      "       1.31947552e-10, 1.41417017e-10, 1.51566076e-10, 1.62443501e-10,\n",
      "       1.74101565e-10, 1.86596292e-10, 1.99987727e-10, 2.14340223e-10,\n",
      "       2.29722754e-10, 2.46209240e-10, 2.63878910e-10, 2.82816678e-10,\n",
      "       3.03113550e-10, 3.24867066e-10, 3.48181763e-10, 3.73169684e-10,\n",
      "       3.99950910e-10, 4.286541...\n",
      "       6.15598650e-02, 6.59778248e-02, 7.07128478e-02, 7.57876886e-02,\n",
      "       8.12267350e-02, 8.70561248e-02, 9.33038717e-02, 1.00000000e-01]),\n",
      "             copy_X=True, cv=5, eps=0.001, fit_intercept=True,\n",
      "             l1_ratio=[0.005, 0.001, 0.1, 1.0, 10.0, 100, 500], max_iter=10000,\n",
      "             n_alphas=100, n_jobs=None, normalize=False, positive=False,\n",
      "             precompute='auto', random_state=0, selection='cyclic', tol=1000,\n",
      "             verbose=0)\n"
     ]
    }
   ],
   "source": [
    "\n",
    "elnet_cv = ElasticNetCV(cv=5, random_state=0, max_iter=10000,\n",
    "                        alphas=np.logspace(-10, -1, 300), l1_ratio=[0.005, 0.001, .1, 1.0, 10.0,100,500], \n",
    "                        tol=1000)\n",
    "print(elnet_cv)\n",
    "elnet_cv.fit(X_train, y_train)\n",
    "y_pred_val = elnet_cv.predict(X=X_validation)"
   ]
  },
  {
   "cell_type": "code",
   "execution_count": 37,
   "metadata": {},
   "outputs": [
    {
     "data": {
      "text/plain": [
       "1130.4323250610212"
      ]
     },
     "execution_count": 37,
     "metadata": {},
     "output_type": "execute_result"
    }
   ],
   "source": [
    "elnet =ElasticNet(alpha = elnet_cv.alpha_,l1_ratio=elnet_cv.l1_ratio_)\n",
    "elnet.fit(X_train, y_train)\n",
    "y_pred_val = elnet.predict(X=X_validation)\n",
    "\n",
    "\n",
    "mean_squared_error(np.square(y_validation), np.square(y_pred_val),squared=False)"
   ]
  },
  {
   "cell_type": "code",
   "execution_count": 38,
   "metadata": {},
   "outputs": [],
   "source": [
    "def residual_plot(model,X_train, y_train,X_validation, y_validation):\n",
    "    visualizer = ResidualsPlot(elnet)\n",
    "    visualizer.fit(X_train, y_train)  # Fit the training data to the visualizer\n",
    "    visualizer.score(X_validation, y_validation)  # Evaluate the model on the test data\n",
    "    visualizer.show()                 # Finalize and render the figure"
   ]
  },
  {
   "cell_type": "code",
   "execution_count": 39,
   "metadata": {},
   "outputs": [],
   "source": [
    "def prediction_error(model,X_train, y_train,X_validation, y_validation):\n",
    "    visualizer = PredictionError(elnet)\n",
    "    visualizer.fit(X_train, y_train)  # Fit the training data to the visualizer\n",
    "    visualizer.score(X_validation, y_validation)  # Evaluate the model on the test data\n",
    "    visualizer.show()   "
   ]
  },
  {
   "cell_type": "code",
   "execution_count": 40,
   "metadata": {
    "scrolled": false
   },
   "outputs": [],
   "source": [
    "def show_learning_curve(model,X_train, y_train,X_validation, y_validation):\n",
    "    train_sizes, train_scores, validation_scores = learning_curve(\n",
    "        model, X_train, y_train.values.ravel(), cv=5)\n",
    "    plot_learning_curve(train_sizes, train_scores, validation_scores)"
   ]
  },
  {
   "cell_type": "code",
   "execution_count": 41,
   "metadata": {},
   "outputs": [],
   "source": [
    "y_elnet_test =np.square(elnet.predict(test_df))"
   ]
  },
  {
   "cell_type": "code",
   "execution_count": 42,
   "metadata": {},
   "outputs": [],
   "source": [
    "from sklearn.linear_model import RANSACRegressor"
   ]
  },
  {
   "cell_type": "code",
   "execution_count": 43,
   "metadata": {},
   "outputs": [],
   "source": [
    "from sklearn.model_selection import GridSearchCV"
   ]
  },
  {
   "cell_type": "code",
   "execution_count": 44,
   "metadata": {
    "scrolled": false
   },
   "outputs": [
    {
     "data": {
      "text/plain": [
       "GridSearchCV(cv=5, error_score=nan,\n",
       "             estimator=RANSACRegressor(base_estimator=ElasticNet(alpha=9.771619672696181e-05,\n",
       "                                                                 copy_X=True,\n",
       "                                                                 fit_intercept=True,\n",
       "                                                                 l1_ratio=0.001,\n",
       "                                                                 max_iter=1000,\n",
       "                                                                 normalize=False,\n",
       "                                                                 positive=False,\n",
       "                                                                 precompute=False,\n",
       "                                                                 random_state=None,\n",
       "                                                                 selection='cyclic',\n",
       "                                                                 tol=0.0001,\n",
       "                                                                 warm_start=False),\n",
       "                                       is_data_valid=None, is_model_valid=None,\n",
       "                                       loss='absolute_loss', max_skips=inf,\n",
       "                                       max_trials=100, min_samples=None,\n",
       "                                       random_state=27, residual_threshold=None,\n",
       "                                       stop_n_inliers=inf,\n",
       "                                       stop_probability=0.99, stop_score=inf),\n",
       "             iid='deprecated', n_jobs=None,\n",
       "             param_grid={'max_trials': [200, 300, 400],\n",
       "                         'stop_probability': [0.96, 0.98, 0.99]},\n",
       "             pre_dispatch='2*n_jobs', refit=True, return_train_score=False,\n",
       "             scoring=None, verbose=0)"
      ]
     },
     "execution_count": 44,
     "metadata": {},
     "output_type": "execute_result"
    }
   ],
   "source": [
    "ransac = RANSACRegressor(base_estimator=elnet,random_state=27)\n",
    "params = {\n",
    "'max_trials': [200,300,400],\n",
    "'stop_probability': [0.96,0.98, 0.99]\n",
    "}\n",
    "gscv = GridSearchCV(estimator=ransac, param_grid=params, cv=5)\n",
    "gscv.fit(X_train, y_train)\n"
   ]
  },
  {
   "cell_type": "code",
   "execution_count": 45,
   "metadata": {},
   "outputs": [
    {
     "data": {
      "text/plain": [
       "RANSACRegressor(base_estimator=ElasticNet(alpha=9.771619672696181e-05,\n",
       "                                          copy_X=True, fit_intercept=True,\n",
       "                                          l1_ratio=0.001, max_iter=1000,\n",
       "                                          normalize=False, positive=False,\n",
       "                                          precompute=False, random_state=None,\n",
       "                                          selection='cyclic', tol=0.0001,\n",
       "                                          warm_start=False),\n",
       "                is_data_valid=None, is_model_valid=None, loss='absolute_loss',\n",
       "                max_skips=inf, max_trials=300, min_samples=None,\n",
       "                random_state=27, residual_threshold=None, stop_n_inliers=inf,\n",
       "                stop_probability=0.96, stop_score=inf)"
      ]
     },
     "execution_count": 45,
     "metadata": {},
     "output_type": "execute_result"
    }
   ],
   "source": [
    "ransac =gscv.best_estimator_ \n",
    "ransac.fit(X_train, y_train)"
   ]
  },
  {
   "cell_type": "code",
   "execution_count": 46,
   "metadata": {},
   "outputs": [
    {
     "data": {
      "image/png": "[encoded data removed]",
      "text/plain": [
       "<Figure size 576x396 with 2 Axes>"
      ]
     },
     "metadata": {},
     "output_type": "display_data"
    }
   ],
   "source": [
    "residual_plot(ransac,X_train, y_train,X_validation, y_validation)"
   ]
  },
  {
   "cell_type": "code",
   "execution_count": 47,
   "metadata": {},
   "outputs": [
    {
     "data": {
      "image/png": "[encoded data removed]",
      "text/plain": [
       "<Figure size 576x396 with 1 Axes>"
      ]
     },
     "metadata": {},
     "output_type": "display_data"
    }
   ],
   "source": [
    "prediction_error(ransac,X_train, y_train,X_validation, y_validation)"
   ]
  },
  {
   "cell_type": "code",
   "execution_count": 48,
   "metadata": {},
   "outputs": [
    {
     "data": {
      "image/png": "[encoded data removed]",
      "text/plain": [
       "<Figure size 576x396 with 1 Axes>"
      ]
     },
     "metadata": {},
     "output_type": "display_data"
    }
   ],
   "source": [
    "show_learning_curve(ransac,X_train, y_train,X_validation, y_validation)"
   ]
  },
  {
   "cell_type": "code",
   "execution_count": 49,
   "metadata": {},
   "outputs": [
    {
     "data": {
      "text/plain": [
       "1166.578964049298"
      ]
     },
     "execution_count": 49,
     "metadata": {},
     "output_type": "execute_result"
    }
   ],
   "source": [
    "y_pred_val = ransac.predict(X=X_validation)\n",
    "mean_squared_error(np.square(y_validation), np.square(y_pred_val),squared=False)"
   ]
  },
  {
   "cell_type": "code",
   "execution_count": 52,
   "metadata": {},
   "outputs": [],
   "source": [
    "y_test =  np.square(elnet.predict(X=test_df)) "
   ]
  },
  {
   "cell_type": "code",
   "execution_count": 51,
   "metadata": {},
   "outputs": [
    {
     "ename": "NameError",
     "evalue": "name 'check' is not defined",
     "output_type": "error",
     "traceback": [
      "\u001b[1;31m---------------------------------------------------------------------------\u001b[0m",
      "\u001b[1;31mNameError\u001b[0m                                 Traceback (most recent call last)",
      "\u001b[1;32m<ipython-input-51-a2a7e1857040>\u001b[0m in \u001b[0;36m<module>\u001b[1;34m\u001b[0m\n\u001b[1;32m----> 1\u001b[1;33m \u001b[0mcheck\u001b[0m\u001b[1;33m\u001b[0m\u001b[1;33m\u001b[0m\u001b[0m\n\u001b[0m",
      "\u001b[1;31mNameError\u001b[0m: name 'check' is not defined"
     ]
    }
   ],
   "source": [
    "check"
   ]
  },
  {
   "cell_type": "code",
   "execution_count": 53,
   "metadata": {},
   "outputs": [],
   "source": [
    " \n",
    "submission = pd.DataFrame()\n",
    "submission['Item_Identifier'] = test_df_copy['Item_Identifier']\n",
    "submission['Outlet_Identifier'] = test_df_copy['Outlet_Identifier']\n",
    "submission['Item_Outlet_Sales'] = y_test\n",
    "import datetime\n",
    "FORMAT = '%Y%m%d%H%M%S'\n",
    "timestamp=datetime.datetime.now().strftime(FORMAT)\n",
    "filename =\"Submission_Regression_\"+timestamp+\"_out.csv\"\n",
    "submission.to_csv(filename,index=False)"
   ]
  },
  {
   "cell_type": "code",
   "execution_count": null,
   "metadata": {
    "scrolled": false
   },
   "outputs": [],
   "source": [
    "# grid = {'learning_rate': [0.03,0.08,0.5, 0.1],\n",
    "#        'depth': [3,4, 6,],\n",
    "#        'l2_leaf_reg': [1, 3, 5, 7, 9]}\n",
    "\n",
    "#grid_search_result = model.fit(X_train,y_train,cat_features=cat_features,eval_set=(X_validation,y_validation),plot=True)"
   ]
  },
  {
   "cell_type": "code",
   "execution_count": null,
   "metadata": {},
   "outputs": [],
   "source": [
    "feature_importances = model.get_feature_importance()\n",
    "feature_names = X_train.columns\n",
    "for score, name in sorted(zip(feature_importances, feature_names), reverse=True):\n",
    "    print('{}: {}'.format(name, score))"
   ]
  },
  {
   "cell_type": "code",
   "execution_count": null,
   "metadata": {},
   "outputs": [],
   "source": []
  },
  {
   "cell_type": "code",
   "execution_count": null,
   "metadata": {},
   "outputs": [],
   "source": []
  },
  {
   "cell_type": "code",
   "execution_count": null,
   "metadata": {},
   "outputs": [],
   "source": []
  }
 ],
 "metadata": {
  "kernelspec": {
   "display_name": "Python 3",
   "language": "python",
   "name": "python3"
  },
  "language_info": {
   "codemirror_mode": {
    "name": "ipython",
    "version": 3
   },
   "file_extension": ".py",
   "mimetype": "text/x-python",
   "name": "python",
   "nbconvert_exporter": "python",
   "pygments_lexer": "ipython3",
   "version": "3.7.5"
  }
 },
 "nbformat": 4,
 "nbformat_minor": 4
}
