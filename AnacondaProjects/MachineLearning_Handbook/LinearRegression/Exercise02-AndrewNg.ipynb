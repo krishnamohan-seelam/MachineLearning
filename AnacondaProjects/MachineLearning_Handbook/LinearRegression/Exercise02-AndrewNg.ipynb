{
 "cells": [
  {
   "cell_type": "code",
   "execution_count": 1,
   "metadata": {
    "collapsed": true
   },
   "outputs": [],
   "source": [
    "from mlsettings.settings import load_app_config, get_datafolder_path\n",
    "from mltools.mlcommon import load_data, print_dataset_info, split_dataset, auto_scatter_simple\n",
    "\n",
    "import matplotlib.pyplot as plt\n",
    "import seaborn as sns\n",
    "import pandas as pd\n",
    "import numpy as np\n",
    "import os\n",
    "% matplotlib inline \n",
    "plt.rcParams['figure.figsize'] = (8, 6)\n",
    "plt.rcParams['font.size'] = 8"
   ]
  },
  {
   "cell_type": "code",
   "execution_count": 2,
   "metadata": {},
   "outputs": [
    {
     "name": "stdout",
     "output_type": "stream",
     "text": [
      "{'DEV': {'ML_DATASOURCE': 'F:\\\\DataSource', 'ML_PATH': 'F:\\\\MachineLearning'}, 'PRD': {'ML_DATASOURCE': 'F:\\\\DataSource', 'ML_PATH': 'F:\\\\MachineLearning'}, 'REG': {'ML_DATASOURCE': 'F:\\\\DataSource', 'ML_PATH': 'F:\\\\MachineLearning'}, 'UAT': {'ML_DATASOURCE': 'F:\\\\DataSource', 'ML_PATH': 'F:\\\\MachineLearning'}}\n",
      "Adding F:\\DataSource  to system path\n",
      "Adding F:\\MachineLearning  to system path\n"
     ]
    }
   ],
   "source": [
    "load_app_config()\n",
    "DIRECTORY=\"ex2Data\"\n",
    "file ='age_height.csv'\n",
    "response=\"height\"\n",
    "input_path = get_datafolder_path()"
   ]
  },
  {
   "cell_type": "code",
   "execution_count": 3,
   "metadata": {
    "collapsed": true
   },
   "outputs": [],
   "source": [
    "def load_dataset(filename=file,response=response):\n",
    "    input_file = os.path.join(input_path, DIRECTORY, filename)\n",
    "    input_dataset = pd.read_csv(input_file)\n",
    "    \n",
    "    try:\n",
    "        continuous_vars = input_dataset.describe().columns\n",
    "        print(\"Continous Variables\")\n",
    "        print(continuous_vars)\n",
    "    except ValueError:\n",
    "        print(\"No continous variables\")\n",
    "    \n",
    "    try:\n",
    "        categorical_vars = input_dataset.describe(include=[\"object\"]).columns\n",
    "        print(\"Categorical Variables\")\n",
    "        print(categorical_vars)\n",
    "    except ValueError:\n",
    "        print(\"No categorical variables\")\n",
    "        categorical_vars = None\n",
    "    \n",
    "    response_column =  [col for col in input_dataset.columns if response in col]\n",
    "    feature_columns =  [col for col in input_dataset.columns if response not in col]\n",
    "    \n",
    "    print(response_column)\n",
    "    print(feature_columns)\n",
    "    print(input_dataset.describe())\n",
    "    return continuous_vars ,categorical_vars,response_column,feature_columns,input_dataset\n",
    "    \n",
    "    "
   ]
  },
  {
   "cell_type": "code",
   "execution_count": 4,
   "metadata": {},
   "outputs": [
    {
     "name": "stdout",
     "output_type": "stream",
     "text": [
      "Continous Variables\n",
      "Index(['age', 'height'], dtype='object')\n",
      "No categorical variables\n",
      "['height']\n",
      "['age']\n",
      "             age     height\n",
      "count  50.000000  50.000000\n",
      "mean    4.923576   1.064684\n",
      "std     1.727488   0.119129\n",
      "min     2.065900   0.779200\n",
      "25%     3.414550   0.964850\n",
      "50%     4.832900   1.077200\n",
      "75%     6.312775   1.144425\n",
      "max     7.930600   1.303000\n"
     ]
    }
   ],
   "source": [
    "continuous_vars ,categorical_vars,response_column,feature_columns,input_dataset=load_dataset(file,response)"
   ]
  },
  {
   "cell_type": "code",
   "execution_count": 5,
   "metadata": {},
   "outputs": [
    {
     "data": {
      "image/png": "[encoded data removed]",
      "text/plain": [
       "<matplotlib.figure.Figure at 0x1a706f46748>"
      ]
     },
     "metadata": {},
     "output_type": "display_data"
    }
   ],
   "source": [
    "plt.style.use('classic')\n",
    "fig = plt.figure(figsize=(8,5))\n",
    "ax = fig.add_subplot(1,1,1)\n",
    "\n",
    "ax.set_title('age vs height ')\n",
    "ax.set_xlabel('age')\n",
    "ax.set_ylabel('height')\n",
    "ax.set_xlim(2,8)\n",
    "ax.set_ylim(0.7,1.4)\n",
    "ax.scatter(input_dataset['age'],input_dataset['height'],marker=\"o\",alpha=0.7,color='orchid')\n",
    "plt.show()"
   ]
  },
  {
   "cell_type": "code",
   "execution_count": 6,
   "metadata": {},
   "outputs": [
    {
     "name": "stdout",
     "output_type": "stream",
     "text": [
      "X-train -(35, 1)\n",
      "X-train -(35, 1)\n",
      "X-train -(15, 1)\n",
      "X-train -(15, 1)\n"
     ]
    }
   ],
   "source": [
    "from sklearn.model_selection import train_test_split\n",
    "X = input_dataset['age']\n",
    "y = input_dataset['height']\n",
    "X_train, X_test, y_train, y_test = train_test_split(X, y,test_size=0.3, random_state=35)\n",
    "X_train, X_test = X_train.values.reshape(-1,1), X_test.values.reshape(-1,1)\n",
    "y_train, y_test = y_train.values.reshape(-1,1), y_test.values.reshape(-1,1)\n",
    "print(\"X-train -{0}\".format(X_train.shape))\n",
    "print(\"X-train -{0}\".format(y_train.shape))\n",
    "print(\"X-train -{0}\".format(X_test.shape))\n",
    "print(\"X-train -{0}\".format(y_test.shape))\n"
   ]
  },
  {
   "cell_type": "code",
   "execution_count": 7,
   "metadata": {},
   "outputs": [
    {
     "name": "stdout",
     "output_type": "stream",
     "text": [
      "LinearRegression(copy_X=True, fit_intercept=True, n_jobs=1, normalize=False)\n",
      "Linear Intercept :[ 0.73860378]\n",
      "Linear Intercept :[[ 0.06542109]]\n"
     ]
    }
   ],
   "source": [
    "from sklearn.linear_model import LinearRegression\n",
    "lin_reg =LinearRegression()\n",
    "lin_reg.fit(X_train, y_train)\n",
    "print(lin_reg)\n",
    "y_pred = lin_reg.predict(X_test)\n",
    "print(\"Linear Intercept :{0}\".format(lin_reg.intercept_))\n",
    "print(\"Linear Intercept :{0}\".format(lin_reg.coef_))"
   ]
  },
  {
   "cell_type": "code",
   "execution_count": 8,
   "metadata": {},
   "outputs": [
    {
     "name": "stdout",
     "output_type": "stream",
     "text": [
      "Root Mean Square Error:0.051192573711885084\n"
     ]
    }
   ],
   "source": [
    "from sklearn import metrics\n",
    "print(\"Root Mean Square Error:{0}\".format(np.sqrt(metrics.mean_squared_error(y_test, y_pred))))"
   ]
  },
  {
   "cell_type": "code",
   "execution_count": 9,
   "metadata": {},
   "outputs": [
    {
     "name": "stdout",
     "output_type": "stream",
     "text": [
      "SGDRegressor(alpha=0.07, average=False, epsilon=0.1, eta0=0.01,\n",
      "       fit_intercept=True, l1_ratio=0.15, learning_rate='invscaling',\n",
      "       loss='squared_loss', n_iter=28572.0, penalty='l2', power_t=0.25,\n",
      "       random_state=None, shuffle=True, verbose=0, warm_start=False)\n",
      "Linear Intercept :[ 0.74485218]\n",
      "Linear Intercept :[ 0.0641094]\n"
     ]
    }
   ],
   "source": [
    "from sklearn.linear_model import SGDRegressor \n",
    "sgd = SGDRegressor(alpha=0.07,penalty='l2')\n",
    "sgd.n_iter = np.ceil(10**6/len(y_train))\n",
    "sgd.fit(X_train, y_train.ravel())\n",
    "print(sgd)\n",
    "y_sgdpred = lin_reg.predict(X_test)\n",
    "print(\"Linear Intercept :{0}\".format(sgd.intercept_))\n",
    "print(\"Linear Intercept :{0}\".format(sgd.coef_))"
   ]
  },
  {
   "cell_type": "code",
   "execution_count": 10,
   "metadata": {},
   "outputs": [
    {
     "name": "stdout",
     "output_type": "stream",
     "text": [
      "Root Mean Square Error -SGD:0.051192573711885084\n"
     ]
    }
   ],
   "source": [
    "print(\"Root Mean Square Error -SGD:{0}\".format(np.sqrt(metrics.mean_squared_error(y_test, y_sgdpred))))"
   ]
  },
  {
   "cell_type": "code",
   "execution_count": 11,
   "metadata": {},
   "outputs": [],
   "source": [
    "x_validation=[[3.5],[7]]"
   ]
  },
  {
   "cell_type": "code",
   "execution_count": 12,
   "metadata": {},
   "outputs": [
    {
     "name": "stdout",
     "output_type": "stream",
     "text": [
      "[ 0.96923507  1.19361797]\n"
     ]
    }
   ],
   "source": [
    "y_validation = sgd.predict(x_validation)\n",
    "print(y_validation)"
   ]
  },
  {
   "cell_type": "code",
   "execution_count": 13,
   "metadata": {},
   "outputs": [
    {
     "data": {
      "image/png": "[encoded data removed]",
      "text/plain": [
       "<matplotlib.figure.Figure at 0x1a70751f4e0>"
      ]
     },
     "metadata": {},
     "output_type": "display_data"
    }
   ],
   "source": [
    "fig2 = plt.figure(figsize=(8,5))\n",
    "ax2 = fig2.add_subplot(1,1,1)\n",
    "ax2.set_title('age vs height -prediction')\n",
    "ax2.set_xlabel('age')\n",
    "ax2.set_ylabel('height')\n",
    "#ax2.set_xlim(0.85,1.25)\n",
    "#ax2.set_ylim(0.85,1.25)\n",
    "ax2.scatter(y_test, y_sgdpred,color='darkorchid')\n",
    "plt.show()"
   ]
  },
  {
   "cell_type": "code",
   "execution_count": 16,
   "metadata": {},
   "outputs": [
    {
     "name": "stdout",
     "output_type": "stream",
     "text": [
      "[ 0.00292738  0.00065056  0.00292896  0.00475107  0.00144491  0.00194602\n",
      "  0.00082631  0.00107267  0.00248081  0.00187579]\n",
      "0.0439400159471\n"
     ]
    }
   ],
   "source": [
    "from sklearn.model_selection import cross_val_score\n",
    "scores = abs(cross_val_score(sgd, X.values.reshape(-1,1), y.values.reshape(-1,1).ravel(), cv=10, scoring='neg_mean_squared_error'))\n",
    "print(scores)\n",
    "print(np.sqrt(scores).mean())"
   ]
  },
  {
   "cell_type": "code",
   "execution_count": null,
   "metadata": {
    "collapsed": true
   },
   "outputs": [],
   "source": []
  }
 ],
 "metadata": {
  "kernelspec": {
   "display_name": "Python 3",
   "language": "python",
   "name": "python3"
  },
  "language_info": {
   "codemirror_mode": {
    "name": "ipython",
    "version": 3
   },
   "file_extension": ".py",
   "mimetype": "text/x-python",
   "name": "python",
   "nbconvert_exporter": "python",
   "pygments_lexer": "ipython3",
   "version": "3.5.3"
  }
 },
 "nbformat": 4,
 "nbformat_minor": 2
}
