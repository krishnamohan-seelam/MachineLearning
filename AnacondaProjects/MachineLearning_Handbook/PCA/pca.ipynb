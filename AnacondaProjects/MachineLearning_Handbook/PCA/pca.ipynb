{
 "cells": [
  {
   "cell_type": "markdown",
   "metadata": {},
   "source": [
    "#    PCA:\n",
    "(Adapted from Python Machine learning and  bogotogo)\n",
    "    Here are the steps of PCA algorithm for dimensionality reduction:<br>\n",
    "    1.Standardize the d-dimensional dataset.<br>\n",
    "    2.Construct the covariance matrix.<br>\n",
    "    3.Decompose the covariance matrix into its eigenvectors and eigenvalues.<br>\n",
    "    4.Select k eigenvectors that correspond to the k largest eigenvalues,\n",
    "      where ks the dimensionality of the new feature subspace (k≤d)<br>\n",
    "    5.Construct a projection matrix W from the \"top\" k eigenvectors.<br>\n",
    "    6.Transform the d-dimensional input dataset x using the projection matrix W to \n",
    "      obtain the new k-dimensional feature subspace.\n",
    " "
   ]
  },
  {
   "cell_type": "code",
   "execution_count": 1,
   "metadata": {},
   "outputs": [
    {
     "name": "stdout",
     "output_type": "stream",
     "text": [
      "Adding D:\\DataSource  to system path\n",
      "Adding D:\\MachineLearning  to system path\n"
     ]
    }
   ],
   "source": [
    "from mlsettings.settings import load_app_config, get_datafolder_path\n",
    "from mltools.mlcommon import load_data, print_dataset_info, split_dataset, auto_scatter_simple\n",
    "\n",
    "import os\n",
    "import matplotlib.pyplot as plt\n",
    "import numpy as  np\n",
    "% matplotlib inline \n",
    "\n",
    "load_app_config()\n"
   ]
  },
  {
   "cell_type": "code",
   "execution_count": 2,
   "metadata": {},
   "outputs": [],
   "source": [
    "DIRECTORY = \"wine\"\n",
    "FILENAME = \"wine.data\"\n",
    "input_path = get_datafolder_path()\n",
    " \n"
   ]
  },
  {
   "cell_type": "markdown",
   "metadata": {},
   "source": [
    "# PCA Computation\n",
    "We computed the covariance matrix of the standardized training dataset using the numpy.cov() function.\n",
    "\n",
    "The symmetric D x D-dimensional covariance matrix, where d is the number of dimensions in the dataset, stores the pairwise covariances between the different features For example, the covariance between two features Xj and Xk on the population level can be calculated via the following equation:\n",
    "                    <img src=\"images/covariance.jpg\">\n",
    "Using the linalg.eig function, we performed the eigendecomposition that yielded 13 eigenvalues and the corresponding eigenvectors stored as columns in a 13×13 matrix.\n",
    "\n",
    "Since we want to reduce the dimensionality of our dataset by compressing it onto a new feature subspace, we only select the subset of the eigenvectors (principal components) that contains most of the information (variance).\n",
    "\n",
    "Since the eigenvalues define the magnitude of the eigenvectors, we have to sort the eigenvalues by decreasing magnitude, and we are interested in the top k eigenvectors based on the values of their corresponding eigenvalues\n",
    "\n",
    "Using the projection matrix, we can now transform a sample x (represented as a 1 x 13-dimensional row vector) onto the PCA subspace (the principal components one and two) obtaining Feature transformation, now a two-dimensional sample vector consisting of two new features:\n",
    "x`=x.W\n"
   ]
  },
  {
   "cell_type": "code",
   "execution_count": 3,
   "metadata": {},
   "outputs": [],
   "source": [
    "def start_pca(train_X_std,test_X_std,train_y ,test_y):\n",
    "   \n",
    "    covariant_matrix= np.cov(train_X_std.T)\n",
    "    #print(covariant_matrix[0::5])\n",
    "    eigen_values,eigen_vectors =np.linalg.eig(covariant_matrix)\n",
    "    print(eigen_values)\n",
    "    print(eigen_vectors[::5]) \n",
    "    \n",
    "    #plot variance explained ratios of the eigenvalues\n",
    "    plot_eigenvalues(eigen_values)\n",
    "    # Make a list of (eigenvalue, eigenvector) tuples\n",
    "    eigen_pairs = [(np.abs(eigen_values[i]), eigen_vectors[:, i]) for i in range(len(eigen_values))]\n",
    "    # Sort the (eigenvalue, eigenvector) tuples from high to low\n",
    "    eigen_pairs.sort(key=lambda k: k[0], reverse=True)\n",
    "    #create a 13×2 projection matrix W from the top two eigenvectors\n",
    "    w = np.hstack((eigen_pairs[0][1][:, np.newaxis], eigen_pairs[1][1][:, np.newaxis]))\n",
    "    \n",
    "    train_X_pca = train_X_std.dot(w)\n",
    "    \n",
    "    # plot the projections\n",
    "    colors = ['r', 'b', 'g']\n",
    "    markers = ['s', 'x', 'o']\n",
    "    for l, c, m in zip(np.unique(train_y), colors, markers):\n",
    "        plt.scatter(train_X_pca[train_y==l, 0], train_X_pca[train_y==l, 1], c=c, label=l, marker=m)\n",
    "    plt.xlabel('PC 1')\n",
    "    plt.ylabel('PC 2')\n",
    "    plt.legend(loc='lower left')\n",
    "    plt.show()\n",
    "            "
   ]
  },
  {
   "cell_type": "code",
   "execution_count": 4,
   "metadata": {},
   "outputs": [],
   "source": [
    "def plot_eigenvalues(eigen_vals):\n",
    "    tot = sum(eigen_vals)\n",
    "    var_exp = [(i / tot) for i in sorted(eigen_vals, reverse=True)]\n",
    "    cum_var_exp = np.cumsum(var_exp)\n",
    "    plt.bar(range(1,14), var_exp, alpha=0.5, align='center',label='individual explained variance')\n",
    "    plt.step(range(1,14), cum_var_exp, where='mid',label='cumulative explained variance')\n",
    "    plt.ylabel('Explained variance ratio')\n",
    "    plt.xlabel('Principal component index')\n",
    "    plt.legend(loc='best')\n",
    "    plt.show()\n",
    "    print(\" From the above plot its visible that two features contribute to 60% variance\")"
   ]
  },
  {
   "cell_type": "code",
   "execution_count": 5,
   "metadata": {},
   "outputs": [],
   "source": [
    "from sklearn.decomposition import PCA\n",
    "def start_pca_scikit(train_X_std,test_X_std,train_y ,test_y):\n",
    "    pca = PCA(n_components=2, whiten=True).fit(train_X_std)\n",
    "    train_X_pca = pca.fit_transform(train_X_std)\n",
    "    test_X_pca = pca.transform(test_X_std)\n",
    "    colors = ['r', 'b', 'g']\n",
    "    markers = ['s', 'x', 'o']\n",
    "    for l, c, m in zip(np.unique(train_y), colors, markers):\n",
    "        plt.scatter(train_X_pca[train_y==l, 0], train_X_pca[train_y==l, 1], c=c, label=l, marker=m)\n",
    "    plt.xlabel('PC 1')\n",
    "    plt.ylabel('PC 2')\n",
    "    plt.legend(loc='lower left')\n",
    "    plt.show()"
   ]
  },
  {
   "cell_type": "code",
   "execution_count": 6,
   "metadata": {},
   "outputs": [
    {
     "name": "stdout",
     "output_type": "stream",
     "text": [
      "start_classification\n",
      " input file is :D:\\DataSource\\wine\\wine.data loaded.\n",
      "[4.79500219 2.50003078 1.44306678 0.99901271 0.87517717 0.67821564\n",
      " 0.53031813 0.35080209 0.28446498 0.11333093 0.14810971 0.18968162\n",
      " 0.19934466]\n",
      "[[ 0.12221148  0.49927666 -0.12829383 -0.01136017 -0.35962533  0.23048312\n",
      "   0.04714035 -0.39450917 -0.37873538  0.10409129 -0.07349869  0.45755259\n",
      "  -0.09926907]\n",
      " [ 0.39099441  0.05595656  0.19268611  0.19038516 -0.14478068 -0.08777222\n",
      "  -0.09820019  0.39221599 -0.37290376 -0.53850843 -0.37707533 -0.06214601\n",
      "   0.0581313 ]\n",
      " [ 0.31641846 -0.21061646  0.03375899 -0.4398643  -0.15537495  0.09171275\n",
      "  -0.34939097 -0.47115093 -0.03714341 -0.1539475   0.02172227 -0.44167755\n",
      "  -0.25230846]]\n"
     ]
    },
    {
     "data": {
      "image/png": "[encoded data removed]",
      "text/plain": [
       "<Figure size 432x288 with 1 Axes>"
      ]
     },
     "metadata": {},
     "output_type": "display_data"
    },
    {
     "name": "stdout",
     "output_type": "stream",
     "text": [
      " From the above plot its visible that two features contribute to 60% variance\n"
     ]
    },
    {
     "data": {
      "image/png": "[encoded data removed]",
      "text/plain": [
       "<Figure size 432x288 with 1 Axes>"
      ]
     },
     "metadata": {},
     "output_type": "display_data"
    },
    {
     "name": "stdout",
     "output_type": "stream",
     "text": [
      "using scikit learn's PCA:\n"
     ]
    },
    {
     "data": {
      "image/png": "[encoded data removed]",
      "text/plain": [
       "<Figure size 432x288 with 1 Axes>"
      ]
     },
     "metadata": {},
     "output_type": "display_data"
    }
   ],
   "source": [
    "print(\"start_classification\")\n",
    "input_file = os.path.join(input_path, DIRECTORY, FILENAME)\n",
    "input_dataset = load_data(input_file)\n",
    "print(\" input file is :{0} loaded.\".format(input_file))\n",
    "     \n",
    "X,y = input_dataset.iloc[:,1:], input_dataset.iloc[:,0]\n",
    "from sklearn.model_selection import train_test_split   \n",
    "(train_X, test_X ,train_y ,test_y)=train_test_split(X, y, test_size=0.3, stratify=y, random_state=0)\n",
    "#print(train_X[0:5].to_string())\n",
    "from sklearn.preprocessing import StandardScaler\n",
    "sc = StandardScaler()\n",
    "train_X_std = sc.fit_transform(train_X)\n",
    "test_X_std= sc.fit_transform(train_X)\n",
    "    \n",
    "    \n",
    "start_pca(train_X_std,test_X_std,train_y ,test_y)\n",
    "print(\"using scikit learn's PCA:\")\n",
    "start_pca_scikit(train_X_std,test_X_std,train_y ,test_y)"
   ]
  },
  {
   "cell_type": "markdown",
   "metadata": {},
   "source": [
    "We can see from the plot, the data is more spread along the x-axis which is the first principal component than the \n",
    "y-axis which is the second principal component.\n",
    "Although we encoded the class labels information for the purpose of illustration in the preceding scatter plot, we have to keep in mind that PCA is an unsupervised technique that doesn't use class label information."
   ]
  },
  {
   "cell_type": "code",
   "execution_count": null,
   "metadata": {
    "collapsed": true
   },
   "outputs": [],
   "source": []
  }
 ],
 "metadata": {
  "kernelspec": {
   "display_name": "Python 3",
   "language": "python",
   "name": "python3"
  },
  "language_info": {
   "codemirror_mode": {
    "name": "ipython",
    "version": 3
   },
   "file_extension": ".py",
   "mimetype": "text/x-python",
   "name": "python",
   "nbconvert_exporter": "python",
   "pygments_lexer": "ipython3",
   "version": "3.6.5"
  }
 },
 "nbformat": 4,
 "nbformat_minor": 2
}
