{
 "cells": [
  {
   "cell_type": "markdown",
   "metadata": {},
   "source": [
    " # Title: Pima Indians Diabetes Database\n",
    " "
   ]
  },
  {
   "cell_type": "markdown",
   "metadata": {},
   "source": [
    "1. Relevant Information:\n",
    "      Several constraints were placed on the selection of these instances from\n",
    "      a larger database.  In particular, all patients here are females at\n",
    "      least 21 years old of Pima Indian heritage.  ADAP is an adaptive learning\n",
    "      routine that generates and executes digital analogs of perceptron-like\n",
    "      devices.  It is a unique algorithm; see the paper for details.\n",
    "\n",
    "2. Number of Instances: 768\n",
    "\n",
    "3. Number of Attributes: 8 plus class \n",
    "\n",
    "4. For Each Attribute: (all numeric-valued)\n",
    "   1. Number of times pregnant\n",
    "   2. Plasma glucose concentration a 2 hours in an oral glucose tolerance test\n",
    "   3. Diastolic blood pressure (mm Hg)\n",
    "   4. Triceps skin fold thickness (mm)\n",
    "   5. 2-Hour serum insulin (mu U/ml)\n",
    "   6. Body mass index (weight in kg/(height in m)^2)\n",
    "   7. Diabetes pedigree function\n",
    "   8. Age (years)\n",
    "   9. Class variable (0 or 1)\n",
    "\n",
    "5. Missing Attribute Values: Yes\n",
    "\n",
    "6. Class Distribution: (class value 1 is interpreted as \"tested positive for diabetes\")\n",
    "\n",
    "<table align=\"left\">\n",
    "    <tr>\n",
    "   <td>\n",
    "   Class Value\n",
    "   </td>\n",
    "  \n",
    "   <td>\n",
    "    Number of instances\n",
    "   </td>\n",
    "   </tr>\n",
    "    <tr>\n",
    "   <td>\n",
    "   0\n",
    "   </td>\n",
    "  \n",
    "   <td>\n",
    "   500\n",
    "   </td>\n",
    "   </tr>\n",
    "   <tr>\n",
    "   <td>\n",
    "   1\n",
    "   </td>\n",
    "  \n",
    "   <td>\n",
    "   268\n",
    "   </td>\n",
    "   </tr>\n",
    "   \n",
    "   \n",
    "   </table>"
   ]
  },
  {
   "cell_type": "code",
   "execution_count": 1,
   "metadata": {
    "collapsed": true
   },
   "outputs": [],
   "source": [
    "import os\n",
    "import math\n",
    "import datetime\n",
    "\n",
    "from sklearn.preprocessing import LabelEncoder\n",
    "from sklearn.preprocessing import LabelBinarizer\n",
    "\n",
    "from mlsettings.settings import load_app_config, get_datafolder_path\n",
    "from mltools.mlcommon import load_data, print_dataset_info, split_dataset, auto_scatter_simple\n",
    "\n",
    "import matplotlib.pyplot as plt\n",
    "import seaborn as sns\n",
    "import pandas as pd\n",
    "import numpy as np\n",
    " \n",
    "% matplotlib inline \n",
    "from numpy import set_printoptions\n",
    "set_printoptions(precision=4)"
   ]
  },
  {
   "cell_type": "code",
   "execution_count": 2,
   "metadata": {},
   "outputs": [
    {
     "name": "stdout",
     "output_type": "stream",
     "text": [
      "{'REG': {'ML_PATH': 'F:\\\\MachineLearning', 'ML_DATASOURCE': 'F:\\\\DataSource'}, 'UAT': {'ML_PATH': 'F:\\\\MachineLearning', 'ML_DATASOURCE': 'F:\\\\DataSource'}, 'DEV': {'ML_PATH': 'F:\\\\MachineLearning', 'ML_DATASOURCE': 'F:\\\\DataSource'}, 'PRD': {'ML_PATH': 'F:\\\\MachineLearning', 'ML_DATASOURCE': 'F:\\\\DataSource'}}\n",
      "Adding F:\\MachineLearning  to system path\n",
      "Adding F:\\DataSource  to system path\n"
     ]
    }
   ],
   "source": [
    "load_app_config()\n",
    "DIRECTORY=\"pima\"\n",
    "FILENAME ='pima-indians-diabetes.data'\n",
    "RESPONSE=\"class\"\n",
    "input_path = get_datafolder_path()"
   ]
  },
  {
   "cell_type": "code",
   "execution_count": 3,
   "metadata": {
    "collapsed": true
   },
   "outputs": [],
   "source": [
    "def load_dataset(filename=FILENAME,response=RESPONSE):\n",
    "    input_file = os.path.join(input_path, DIRECTORY, filename)\n",
    "    input_dataset = load_data(input_file)\n",
    "    print(\" input file is :{0} loaded.\".format(input_file))\n",
    "    #print(input_dataset.head())\n",
    "    \n",
    "    try:\n",
    "        continuous_vars = input_dataset.describe().columns\n",
    "        print(\"Continous Variables\")\n",
    "        print(continuous_vars)\n",
    "    except ValueError:\n",
    "        print(\"No continous variables\")\n",
    "    \n",
    "    try:\n",
    "        categorical_vars = input_dataset.describe(include=[\"object\"]).columns\n",
    "        print(\"Categorical Variables\")\n",
    "        print(categorical_vars)\n",
    "    except ValueError:\n",
    "        print(\"No categorical variables\")\n",
    "        categorical_vars = None\n",
    "    \n",
    "    response_column =  [col for col in input_dataset.columns if response in col]\n",
    "    feature_columns =  [col for col in input_dataset.columns if response not in col]\n",
    "            \n",
    "    \n",
    "    return  input_dataset,feature_columns,response_column\n"
   ]
  },
  {
   "cell_type": "code",
   "execution_count": 4,
   "metadata": {},
   "outputs": [
    {
     "name": "stdout",
     "output_type": "stream",
     "text": [
      " input file is :F:\\DataSource\\pima\\pima-indians-diabetes.data loaded.\n",
      "Continous Variables\n",
      "Index(['pregnant_times', 'glucose_level', 'blood_pressure', 'triceps',\n",
      "       'serum_insulin', 'bmi', 'diabetes_function', 'age', 'class'],\n",
      "      dtype='object')\n",
      "No categorical variables\n"
     ]
    }
   ],
   "source": [
    "input_dataset,feature_columns,response_column = load_dataset(filename=FILENAME,response=RESPONSE)\n",
    "X = input_dataset[feature_columns]\n",
    "y = input_dataset[response_column]"
   ]
  },
  {
   "cell_type": "code",
   "execution_count": 5,
   "metadata": {
    "collapsed": true
   },
   "outputs": [],
   "source": [
    "def display_data_descriptives(input_dataset,X,feature_columns,y,response_column):\n",
    "    print(\"<{0} {1} {0}>\".format(\"=\"*40,\"feature columns\"))\n",
    "    print(feature_columns)\n",
    "    print(\"<{0} {1} {0}>\".format(\"=\"*40,\"data header\"))\n",
    "    print(X.head().to_string())\n",
    "    print(\"<{0} {1} {0}>\".format(\"=\"*40,\"response\"))\n",
    "    print(response_column)\n",
    "    print(\"<{0} {1} {0}>\".format(\"=\"*40,\"Descriptive Statistics -X\"))\n",
    "    print(X.describe())\n",
    "    print(\"<{0} {1} {0}>\".format(\"=\"*40,\"Descriptive Statistics -y\"))\n",
    "    print(y.describe())\n",
    "    print(\"<{0} {1} {0}>\".format(\"=\"*40,\"value_count -y\"))\n",
    "    print(y['class'].value_counts())\n",
    "    print(\"<{0} {1} {0}>\".format(\"=\"*40,\"Correlation\"))\n",
    "    print(input_dataset.corr(method='pearson'))"
   ]
  },
  {
   "cell_type": "code",
   "execution_count": 6,
   "metadata": {},
   "outputs": [
    {
     "name": "stdout",
     "output_type": "stream",
     "text": [
      "<======================================== feature columns ========================================>\n",
      "['pregnant_times', 'glucose_level', 'blood_pressure', 'triceps', 'serum_insulin', 'bmi', 'diabetes_function', 'age']\n",
      "<======================================== data header ========================================>\n",
      "   pregnant_times  glucose_level  blood_pressure  triceps  serum_insulin   bmi  diabetes_function  age\n",
      "0               6            148              72       35              0  33.6              0.627   50\n",
      "1               1             85              66       29              0  26.6              0.351   31\n",
      "2               8            183              64        0              0  23.3              0.672   32\n",
      "3               1             89              66       23             94  28.1              0.167   21\n",
      "4               0            137              40       35            168  43.1              2.288   33\n",
      "<======================================== response ========================================>\n",
      "['class']\n",
      "<======================================== Descriptive Statistics -X ========================================>\n",
      "       pregnant_times  glucose_level  blood_pressure  triceps  serum_insulin      bmi  diabetes_function      age\n",
      "count         768.000        768.000         768.000  768.000        768.000  768.000            768.000  768.000\n",
      "mean            3.845        120.895          69.105   20.536         79.799   31.993              0.472   33.241\n",
      "std             3.370         31.973          19.356   15.952        115.244    7.884              0.331   11.760\n",
      "min             0.000          0.000           0.000    0.000          0.000    0.000              0.078   21.000\n",
      "25%             1.000         99.000          62.000    0.000          0.000   27.300              0.244   24.000\n",
      "50%             3.000        117.000          72.000   23.000         30.500   32.000              0.372   29.000\n",
      "75%             6.000        140.250          80.000   32.000        127.250   36.600              0.626   41.000\n",
      "max            17.000        199.000         122.000   99.000        846.000   67.100              2.420   81.000\n",
      "<======================================== Descriptive Statistics -y ========================================>\n",
      "         class\n",
      "count  768.000\n",
      "mean     0.349\n",
      "std      0.477\n",
      "min      0.000\n",
      "25%      0.000\n",
      "50%      0.000\n",
      "75%      1.000\n",
      "max      1.000\n",
      "<======================================== value_count -y ========================================>\n",
      "0    500\n",
      "1    268\n",
      "Name: class, dtype: int64\n",
      "<======================================== Correlation ========================================>\n",
      "                   pregnant_times  glucose_level  blood_pressure  triceps  serum_insulin    bmi  diabetes_function  \\\n",
      "pregnant_times              1.000          0.129           0.141   -0.082         -0.074  0.018             -0.034   \n",
      "glucose_level               0.129          1.000           0.153    0.057          0.331  0.221              0.137   \n",
      "blood_pressure              0.141          0.153           1.000    0.207          0.089  0.282              0.041   \n",
      "triceps                    -0.082          0.057           0.207    1.000          0.437  0.393              0.184   \n",
      "serum_insulin              -0.074          0.331           0.089    0.437          1.000  0.198              0.185   \n",
      "bmi                         0.018          0.221           0.282    0.393          0.198  1.000              0.141   \n",
      "diabetes_function          -0.034          0.137           0.041    0.184          0.185  0.141              1.000   \n",
      "age                         0.544          0.264           0.240   -0.114         -0.042  0.036              0.034   \n",
      "class                       0.222          0.467           0.065    0.075          0.131  0.293              0.174   \n",
      "\n",
      "                     age  class  \n",
      "pregnant_times     0.544  0.222  \n",
      "glucose_level      0.264  0.467  \n",
      "blood_pressure     0.240  0.065  \n",
      "triceps           -0.114  0.075  \n",
      "serum_insulin     -0.042  0.131  \n",
      "bmi                0.036  0.293  \n",
      "diabetes_function  0.034  0.174  \n",
      "age                1.000  0.238  \n",
      "class              0.238  1.000  \n"
     ]
    }
   ],
   "source": [
    "pd.set_option('display.width', 120)\n",
    "pd.set_option('precision', 3)\n",
    "display_data_descriptives(input_dataset,X,feature_columns,y,response_column)"
   ]
  },
  {
   "cell_type": "code",
   "execution_count": 7,
   "metadata": {
    "collapsed": true
   },
   "outputs": [],
   "source": [
    "#, color='cornflowerblue' ,edgecolor='hotpink'\n",
    "def plot_hist(input_dataset,feature_columns,response_column,nbins=10):\n",
    "    all_columns= feature_columns+response_column\n",
    "    fig = plt.figure(figsize=(9,6))\n",
    "    rows,col = input_dataset.shape\n",
    "    for i in range(col):\n",
    "        ax = fig.add_subplot(3, 3, i+1)\n",
    "        ax.hist(input_dataset[all_columns[i]], bins=10, histtype='stepfilled')\n",
    "        ax.set_title(all_columns[i])\n",
    "        \n",
    "    \n",
    "    plt.tight_layout()"
   ]
  },
  {
   "cell_type": "code",
   "execution_count": 8,
   "metadata": {},
   "outputs": [
    {
     "data": {
      "image/png": "[encoded data removed]",
      "text/plain": [
       "<matplotlib.figure.Figure at 0x253882930f0>"
      ]
     },
     "metadata": {},
     "output_type": "display_data"
    }
   ],
   "source": [
    "#plt.style.use('seaborn-colorblind')\n",
    "plot_hist(input_dataset,feature_columns,response_column,10)"
   ]
  },
  {
   "cell_type": "code",
   "execution_count": 9,
   "metadata": {
    "collapsed": true
   },
   "outputs": [],
   "source": [
    "from sklearn.model_selection import KFold\n",
    "from sklearn.model_selection import cross_val_score\n",
    "from sklearn.preprocessing import StandardScaler\n",
    "from sklearn.pipeline import Pipeline\n",
    "from sklearn.discriminant_analysis import LinearDiscriminantAnalysis\n",
    "\n",
    "\n",
    "from sklearn.model_selection  import  train_test_split\n",
    "from sklearn.linear_model  import LogisticRegression\n",
    "test_size = 0.33\n",
    "seed = 7\n",
    "\n",
    "X_train, X_test, y_train, y_test = train_test_split(X, y, test_size=test_size,random_state=seed)\n",
    "\n",
    "def evaluvate_pipeline(X_train,y_train):\n",
    "    \n",
    "    # create pipeline\n",
    "    estimators =[]\n",
    "    estimators.append(('standardize', StandardScaler()))\n",
    "    estimators.append(('lda', LinearDiscriminantAnalysis()))\n",
    "    model = Pipeline(estimators)\n",
    "    # evaluate pipeline\n",
    "    kfold = KFold(n_splits=10, random_state=7)\n",
    "    scores = cross_val_score(model, X_train, y_train.values.ravel(), cv=kfold)\n",
    "    \n",
    "    return scores,model\n"
   ]
  },
  {
   "cell_type": "code",
   "execution_count": 10,
   "metadata": {},
   "outputs": [
    {
     "name": "stdout",
     "output_type": "stream",
     "text": [
      "0.773462064252\n"
     ]
    }
   ],
   "source": [
    "scores,pipeline = evaluvate_pipeline(X,y)\n",
    "print(scores.mean())"
   ]
  },
  {
   "cell_type": "code",
   "execution_count": 11,
   "metadata": {},
   "outputs": [
    {
     "data": {
      "text/plain": [
       "Pipeline(steps=[('standardize', StandardScaler(copy=True, with_mean=True, with_std=True)), ('lda', LinearDiscriminantAnalysis(n_components=None, priors=None, shrinkage=None,\n",
       "              solver='svd', store_covariance=False, tol=0.0001))])"
      ]
     },
     "execution_count": 11,
     "metadata": {},
     "output_type": "execute_result"
    }
   ],
   "source": [
    "pipeline.fit(X_train,y_train.values.ravel())"
   ]
  },
  {
   "cell_type": "code",
   "execution_count": 12,
   "metadata": {
    "collapsed": true
   },
   "outputs": [],
   "source": [
    "from sklearn import metrics\n",
    "def measure_performance(X, y, clf, show_accuracy=True,show_classification_report=True,\n",
    "                        show_confusion_matrix=True, show_r2_score=False):\n",
    "    y_pred = clf.predict(X) \n",
    "    if show_accuracy:\n",
    "        print (\"Accuracy:{0:.3f}\".format( metrics.accuracy_score(y, y_pred)),\"\\n\" )\n",
    "    if show_classification_report:\n",
    "        print (\"Classification report\")\n",
    "        print (metrics.classification_report(y, y_pred),\"\\n\")\n",
    "    if show_confusion_matrix:\n",
    "        print(\"Confusion matrix\") \n",
    "        print(metrics.confusion_matrix(y, y_pred),\"\\n\")\n",
    "    if show_r2_score:\n",
    "        print (\"Coefficient of determination:{0:.3f}\"\n",
    "               .format( metrics.r2_score(y, y_pred)),\"\\n\")\n",
    "    return y_pred"
   ]
  },
  {
   "cell_type": "code",
   "execution_count": 13,
   "metadata": {},
   "outputs": [
    {
     "name": "stdout",
     "output_type": "stream",
     "text": [
      "Accuracy:0.772 \n",
      "\n",
      "Classification report\n",
      "             precision    recall  f1-score   support\n",
      "\n",
      "          0       0.80      0.86      0.83       162\n",
      "          1       0.72      0.61      0.66        92\n",
      "\n",
      "avg / total       0.77      0.77      0.77       254\n",
      " \n",
      "\n",
      "Confusion matrix\n",
      "[[140  22]\n",
      " [ 36  56]] \n",
      "\n"
     ]
    }
   ],
   "source": [
    "y_pred = measure_performance(X_test,y_test,pipeline, show_accuracy=True, \n",
    "                    show_classification_report=True,\n",
    "                    show_confusion_matrix=True, show_r2_score=False)"
   ]
  },
  {
   "cell_type": "code",
   "execution_count": 14,
   "metadata": {},
   "outputs": [],
   "source": [
    "from sklearn.metrics import roc_auc_score\n",
    "from sklearn.metrics import roc_curve,auc\n",
    "\n",
    "from matplotlib import style\n",
    "\n",
    "style.use('seaborn-colorblind')\n",
    "\n",
    "def plot_roc(y_test, y_pred):\n",
    "    \n",
    "    false_positive_rate, true_positive_rate, thresholds = roc_curve(y_test, y_pred)\n",
    "    roc_auc = auc(false_positive_rate, true_positive_rate)\n",
    "    fig = plt.figure(figsize=(6,4))\n",
    "    plt.title('Receiver Operating Characteristic')\n",
    "    plt.plot(false_positive_rate, true_positive_rate, 'b',label='AUC = %0.2f'% roc_auc)\n",
    "    plt.legend(loc='lower right')\n",
    "    plt.plot([0,1],[0,1],'r--')\n",
    "    plt.xlim([-0.1,1.2])\n",
    "    plt.ylim([-0.1,1.2])\n",
    "    plt.ylabel('True Positive Rate')\n",
    "    plt.xlabel('False Positive Rate')\n",
    "    plt.show()\n",
    "\n",
    "    roc_auc_score(y_test, y_pred)\n",
    "\n"
   ]
  },
  {
   "cell_type": "code",
   "execution_count": 15,
   "metadata": {},
   "outputs": [
    {
     "data": {
      "image/png": "[encoded data removed]",
      "text/plain": [
       "<matplotlib.figure.Figure at 0x25388a7a128>"
      ]
     },
     "metadata": {},
     "output_type": "display_data"
    }
   ],
   "source": [
    "plot_roc(y_test, y_pred)"
   ]
  },
  {
   "cell_type": "code",
   "execution_count": 16,
   "metadata": {
    "collapsed": true
   },
   "outputs": [],
   "source": [
    "from sklearn.ensemble import ExtraTreesClassifier\n",
    "# feature extraction\n",
    "\n",
    "def select_features_by_XTree(X,y):\n",
    "    model = ExtraTreesClassifier()\n",
    "    model.fit(X, y.values.ravel())\n",
    "\n",
    "    selected_features =np.array(model.feature_importances_)\n",
    "    selected_features_X = pd.DataFrame(X.columns.values, columns=['name'])\n",
    "    selected_features =selected_features.reshape(8,1)\n",
    "\n",
    "    selected_features_X['model_result'] =selected_features\n",
    "    selected_features_X =selected_features_X.sort_values(by='model_result',ascending=False)\n",
    "    return selected_features_X"
   ]
  },
  {
   "cell_type": "code",
   "execution_count": 17,
   "metadata": {},
   "outputs": [
    {
     "data": {
      "text/plain": [
       "['glucose_level', 'bmi', 'age', 'diabetes_function', 'pregnant_times']"
      ]
     },
     "execution_count": 17,
     "metadata": {},
     "output_type": "execute_result"
    }
   ],
   "source": [
    "features_XTree = select_features_by_XTree(X,y)\n",
    "top_features =features_XTree['name']\n",
    "top_features =list(top_features.values)\n",
    "top_features[0:5]"
   ]
  },
  {
   "cell_type": "code",
   "execution_count": 18,
   "metadata": {},
   "outputs": [
    {
     "name": "stdout",
     "output_type": "stream",
     "text": [
      "0.768288084465\n",
      "Accuracy:0.772 \n",
      "\n",
      "Classification report\n",
      "             precision    recall  f1-score   support\n",
      "\n",
      "          0       0.80      0.86      0.83       162\n",
      "          1       0.72      0.61      0.66        92\n",
      "\n",
      "avg / total       0.77      0.77      0.77       254\n",
      " \n",
      "\n",
      "Confusion matrix\n",
      "[[140  22]\n",
      " [ 36  56]] \n",
      "\n"
     ]
    },
    {
     "data": {
      "image/png": "[encoded data removed]",
      "text/plain": [
       "<matplotlib.figure.Figure at 0x25388a0a9e8>"
      ]
     },
     "metadata": {},
     "output_type": "display_data"
    }
   ],
   "source": [
    "X = input_dataset[top_features]\n",
    "y = input_dataset[response_column]\n",
    "X_train, X_test, y_train, y_test = train_test_split(X, y, test_size=test_size,random_state=seed)\n",
    "scores,model = evaluvate_pipeline(X_train,y_train)\n",
    "print(scores.mean())\n",
    "model.fit(X_train,y_train.values.ravel())\n",
    "y_pred = measure_performance(X_test,y_test,model, show_accuracy=True, \n",
    "                    show_classification_report=True,\n",
    "                    show_confusion_matrix=True, show_r2_score=False)\n",
    "plot_roc(y_test, y_pred)"
   ]
  },
  {
   "cell_type": "code",
   "execution_count": null,
   "metadata": {
    "collapsed": true
   },
   "outputs": [],
   "source": []
  }
 ],
 "metadata": {
  "kernelspec": {
   "display_name": "Python 3",
   "language": "python",
   "name": "python3"
  },
  "language_info": {
   "codemirror_mode": {
    "name": "ipython",
    "version": 3
   },
   "file_extension": ".py",
   "mimetype": "text/x-python",
   "name": "python",
   "nbconvert_exporter": "python",
   "pygments_lexer": "ipython3",
   "version": "3.5.3"
  }
 },
 "nbformat": 4,
 "nbformat_minor": 2
}
