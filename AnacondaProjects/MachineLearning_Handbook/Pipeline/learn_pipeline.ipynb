{
 "cells": [
  {
   "cell_type": "code",
   "execution_count": 46,
   "metadata": {
    "collapsed": true
   },
   "outputs": [],
   "source": [
    "import os\n",
    "import math\n",
    "import datetime\n",
    "\n",
    "from sklearn.preprocessing import LabelEncoder\n",
    "from sklearn.preprocessing import LabelBinarizer\n",
    "from sklearn.model_selection import train_test_split\n",
    "from mlsettings.settings import load_app_config, get_datafolder_path\n",
    "from mltools.mlcommon import load_data, print_dataset_info, split_dataset, auto_scatter_simple\n",
    "\n",
    "import matplotlib.pyplot as plt\n",
    "import seaborn as sns\n",
    "import pandas as pd\n",
    "import numpy as np\n",
    "\n",
    "% matplotlib inline "
   ]
  },
  {
   "cell_type": "code",
   "execution_count": 47,
   "metadata": {},
   "outputs": [
    {
     "name": "stdout",
     "output_type": "stream",
     "text": [
      "{'UAT': {'ML_PATH': 'F:\\\\MachineLearning', 'ML_DATASOURCE': 'F:\\\\DataSource'}, 'PRD': {'ML_PATH': 'F:\\\\MachineLearning', 'ML_DATASOURCE': 'F:\\\\DataSource'}, 'REG': {'ML_PATH': 'F:\\\\MachineLearning', 'ML_DATASOURCE': 'F:\\\\DataSource'}, 'DEV': {'ML_PATH': 'F:\\\\MachineLearning', 'ML_DATASOURCE': 'F:\\\\DataSource'}}\n",
      "Adding F:\\MachineLearning  to system path\n",
      "Adding F:\\DataSource  to system path\n"
     ]
    }
   ],
   "source": [
    "load_app_config()\n",
    "DIRECTORY=\"cancer\"\n",
    "FILENAME ='wdbc.data'\n",
    " \n",
    "input_path = get_datafolder_path()"
   ]
  },
  {
   "cell_type": "code",
   "execution_count": 55,
   "metadata": {
    "collapsed": true
   },
   "outputs": [],
   "source": [
    "from sklearn.preprocessing import LabelEncoder\n",
    "def prepare_dataset(filename=FILENAME):\n",
    "    input_file = os.path.join(input_path, DIRECTORY, filename)\n",
    "    input_dataset = pd.read_csv(input_file,header=None)\n",
    "    print(\" input file is :{0} loaded.\".format(input_file))\n",
    "    #print(input_dataset.info())\n",
    "    X =input_dataset.loc[: , 2:] \n",
    "    y= input_dataset.loc[:, 1] \n",
    "    \n",
    "    le = LabelEncoder()\n",
    "    y=le.fit_transform(y)\n",
    "    print(X[0:5])\n",
    "    return X,y"
   ]
  },
  {
   "cell_type": "code",
   "execution_count": 58,
   "metadata": {
    "collapsed": true
   },
   "outputs": [],
   "source": [
    "from sklearn.preprocessing import StandardScaler\n",
    "from sklearn.decomposition import PCA\n",
    "from sklearn.linear_model import LogisticRegression\n",
    "from sklearn.pipeline import make_pipeline\n",
    "def start_pipeline():\n",
    "    X,y = prepare_dataset(FILENAME)\n",
    "    X_train, X_test, y_train, y_test =train_test_split(X, y,test_size=0.20,stratify=y,random_state=1)\n",
    "    lr_pipeline = make_pipeline(StandardScaler(),\n",
    "                                PCA(n_components=2),\n",
    "                                LogisticRegression(random_state=1)\n",
    "                               )\n",
    "    lr_pipeline.fit(X_train,y_train)\n",
    "    y_pred = lr_pipeline.predict(X_test)\n",
    "    print('Test Accuracy: {0:.3f}' .format( lr_pipeline.score(X_test, y_test)))\n",
    "    \n",
    "    from sklearn import metrics\n",
    "    con_mat = metrics.confusion_matrix(y_test, y_pred)\n",
    "    print(con_mat)\n",
    "    "
   ]
  },
  {
   "cell_type": "code",
   "execution_count": 59,
   "metadata": {},
   "outputs": [
    {
     "name": "stdout",
     "output_type": "stream",
     "text": [
      " input file is :F:\\DataSource\\cancer\\wdbc.data loaded.\n",
      "      2      3       4       5        6        7       8        9       10  \\\n",
      "0  17.99  10.38  122.80  1001.0  0.11840  0.27760  0.3001  0.14710  0.2419   \n",
      "1  20.57  17.77  132.90  1326.0  0.08474  0.07864  0.0869  0.07017  0.1812   \n",
      "2  19.69  21.25  130.00  1203.0  0.10960  0.15990  0.1974  0.12790  0.2069   \n",
      "3  11.42  20.38   77.58   386.1  0.14250  0.28390  0.2414  0.10520  0.2597   \n",
      "4  20.29  14.34  135.10  1297.0  0.10030  0.13280  0.1980  0.10430  0.1809   \n",
      "\n",
      "        11   ...        22     23      24      25      26      27      28  \\\n",
      "0  0.07871   ...     25.38  17.33  184.60  2019.0  0.1622  0.6656  0.7119   \n",
      "1  0.05667   ...     24.99  23.41  158.80  1956.0  0.1238  0.1866  0.2416   \n",
      "2  0.05999   ...     23.57  25.53  152.50  1709.0  0.1444  0.4245  0.4504   \n",
      "3  0.09744   ...     14.91  26.50   98.87   567.7  0.2098  0.8663  0.6869   \n",
      "4  0.05883   ...     22.54  16.67  152.20  1575.0  0.1374  0.2050  0.4000   \n",
      "\n",
      "       29      30       31  \n",
      "0  0.2654  0.4601  0.11890  \n",
      "1  0.1860  0.2750  0.08902  \n",
      "2  0.2430  0.3613  0.08758  \n",
      "3  0.2575  0.6638  0.17300  \n",
      "4  0.1625  0.2364  0.07678  \n",
      "\n",
      "[5 rows x 30 columns]\n",
      "Test Accuracy: 0.956\n",
      "[[71  1]\n",
      " [ 4 38]]\n"
     ]
    }
   ],
   "source": [
    "start_pipeline()"
   ]
  },
  {
   "cell_type": "code",
   "execution_count": null,
   "metadata": {
    "collapsed": true
   },
   "outputs": [],
   "source": []
  }
 ],
 "metadata": {
  "kernelspec": {
   "display_name": "Python 3",
   "language": "python",
   "name": "python3"
  },
  "language_info": {
   "codemirror_mode": {
    "name": "ipython",
    "version": 3
   },
   "file_extension": ".py",
   "mimetype": "text/x-python",
   "name": "python",
   "nbconvert_exporter": "python",
   "pygments_lexer": "ipython3",
   "version": "3.5.3"
  }
 },
 "nbformat": 4,
 "nbformat_minor": 2
}
