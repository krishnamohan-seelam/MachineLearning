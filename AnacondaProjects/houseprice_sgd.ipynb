{
 "cells": [
  {
   "cell_type": "code",
   "execution_count": 11,
   "metadata": {
    "collapsed": true
   },
   "outputs": [],
   "source": [
    "# %matplotlib inline\n",
    "import pandas as pd\n",
    "import numpy as np\n",
    "import matplotlib.pyplot as plt\n",
    "from sklearn import  linear_model as lm\n",
    "from sklearn.linear_model import SGDRegressor  \n",
    "from sklearn.model_selection import train_test_split\n",
    "from sklearn import metrics\n",
    "import seaborn as sns"
   ]
  },
  {
   "cell_type": "markdown",
   "metadata": {},
   "source": [
    "# Load dataset"
   ]
  },
  {
   "cell_type": "code",
   "execution_count": 15,
   "metadata": {},
   "outputs": [
    {
     "name": "stdout",
     "output_type": "stream",
     "text": [
      "   sqrft  rooms   price\n",
      "0   2104      3  399900\n",
      "1   1600      3  329900\n",
      "2   2400      3  369000\n",
      "3   1416      2  232000\n",
      "4   3000      4  539900\n",
      "['sqrft' 'rooms' 'price']\n"
     ]
    },
    {
     "data": {
      "text/plain": [
       "<seaborn.axisgrid.FacetGrid at 0x1a9353232b0>"
      ]
     },
     "execution_count": 15,
     "metadata": {},
     "output_type": "execute_result"
    }
   ],
   "source": [
    "filename = r'F:\\datasource\\houseprices.csv'\n",
    "dataset =pd.read_csv(filename)\n",
    "print(dataset.head())\n",
    "print(dataset.columns.values)\n",
    "sns.lmplot(x='sqrft', y='price', data=dataset, aspect=1.5, scatter_kws={'alpha':0.2})"
   ]
  },
  {
   "cell_type": "code",
   "execution_count": 33,
   "metadata": {},
   "outputs": [
    {
     "name": "stdout",
     "output_type": "stream",
     "text": [
      "12\n"
     ]
    }
   ],
   "source": [
    "feature_cols = ['sqrft','rooms']\n",
    "X =dataset[feature_cols]\n",
    "y=dataset['price']\n",
    "X_train, X_test, y_train, y_test = train_test_split(X, y) \n",
    "print(len(y_test))"
   ]
  },
  {
   "cell_type": "code",
   "execution_count": 26,
   "metadata": {},
   "outputs": [
    {
     "data": {
      "text/plain": [
       "<seaborn.axisgrid.PairGrid at 0x1a93648bf60>"
      ]
     },
     "execution_count": 26,
     "metadata": {},
     "output_type": "execute_result"
    }
   ],
   "source": [
    "sgdreg =  SGDRegressor(loss=\"squared_loss\", penalty=None)\n",
    "sgdreg.n_iter =np.ceil(10**6/len(y))\n",
    "sgdreg.fit(X_train,y_train)\n",
    "\n",
    "sns.pairplot(dataset, x_vars=feature_cols, y_vars='price', kind='reg')\n",
    "\n",
    "#plt.scatter(X_train,y_train,color='blue')\n",
    "#plt.plot(X_train,linreg.predict(X_train),color ='red')\n",
    "#plt.show()\n",
    "#y_pred = linreg.predict(X_test)\n",
    "#np.sqrt(metrics.mean_squared_error(y_test, y_pred))"
   ]
  },
  {
   "cell_type": "code",
   "execution_count": 27,
   "metadata": {
    "scrolled": true
   },
   "outputs": [
    {
     "name": "stdout",
     "output_type": "stream",
     "text": [
      "[ -8.18998387e+14  -5.73535735e+14  -6.01609895e+14  -4.85246797e+14\n",
      "  -1.26011967e+15  -5.88350384e+14  -6.48888565e+14  -4.63578816e+14\n",
      "  -9.82901682e+14  -6.82522446e+14  -5.19527484e+14  -4.59436456e+14]\n"
     ]
    },
    {
     "data": {
      "text/plain": [
       "711807748223448.88"
      ]
     },
     "execution_count": 27,
     "metadata": {},
     "output_type": "execute_result"
    }
   ],
   "source": [
    "y_pred = sgdreg.predict(X_test)\n",
    "print(y_pred)\n",
    "np.sqrt(metrics.mean_squared_error(y_test, y_pred))\n",
    " "
   ]
  },
  {
   "cell_type": "code",
   "execution_count": 19,
   "metadata": {},
   "outputs": [
    {
     "name": "stdout",
     "output_type": "stream",
     "text": [
      "[[3031    4]]\n",
      "[ -2.16194657e+15]\n"
     ]
    }
   ],
   "source": [
    "new_house=np.array([3031,4]).reshape(1,-1)\n",
    "print(new_house)\n",
    "new_predict =sgdreg.predict(new_house)\n",
    "print(new_predict)"
   ]
  },
  {
   "cell_type": "code",
   "execution_count": null,
   "metadata": {
    "collapsed": true
   },
   "outputs": [],
   "source": []
  }
 ],
 "metadata": {
  "kernelspec": {
   "display_name": "Python 3",
   "language": "python",
   "name": "python3"
  },
  "language_info": {
   "codemirror_mode": {
    "name": "ipython",
    "version": 3
   },
   "file_extension": ".py",
   "mimetype": "text/x-python",
   "name": "python",
   "nbconvert_exporter": "python",
   "pygments_lexer": "ipython3",
   "version": "3.5.3"
  }
 },
 "nbformat": 4,
 "nbformat_minor": 2
}
