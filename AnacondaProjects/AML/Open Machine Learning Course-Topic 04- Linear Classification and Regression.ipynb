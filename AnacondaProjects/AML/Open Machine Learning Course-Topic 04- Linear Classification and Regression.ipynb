{
 "cells": [
  {
   "cell_type": "code",
   "execution_count": 1,
   "metadata": {
    "collapsed": true
   },
   "outputs": [],
   "source": [
    "import numpy as np\n",
    "import pandas as pd\n",
    "import matplotlib.pyplot as plt\n",
    "import seaborn as sns\n",
    "import warnings\n",
    "warnings.simplefilter('ignore')\n",
    "plt.style.use('fivethirtyeight')\n",
    "\n",
    "% matplotlib inline"
   ]
  },
  {
   "cell_type": "code",
   "execution_count": 2,
   "metadata": {},
   "outputs": [
    {
     "data": {
      "text/html": [
       "<div>\n",
       "<style>\n",
       "    .dataframe thead tr:only-child th {\n",
       "        text-align: right;\n",
       "    }\n",
       "\n",
       "    .dataframe thead th {\n",
       "        text-align: left;\n",
       "    }\n",
       "\n",
       "    .dataframe tbody tr th {\n",
       "        vertical-align: top;\n",
       "    }\n",
       "</style>\n",
       "<table border=\"1\" class=\"dataframe\">\n",
       "  <thead>\n",
       "    <tr style=\"text-align: right;\">\n",
       "      <th></th>\n",
       "      <th>Id</th>\n",
       "      <th>rank</th>\n",
       "      <th>discipline</th>\n",
       "      <th>yrs.since.phd</th>\n",
       "      <th>yrs.service</th>\n",
       "      <th>sex</th>\n",
       "      <th>salary</th>\n",
       "    </tr>\n",
       "  </thead>\n",
       "  <tbody>\n",
       "    <tr>\n",
       "      <th>0</th>\n",
       "      <td>1</td>\n",
       "      <td>Prof</td>\n",
       "      <td>B</td>\n",
       "      <td>19</td>\n",
       "      <td>18</td>\n",
       "      <td>Male</td>\n",
       "      <td>139750</td>\n",
       "    </tr>\n",
       "    <tr>\n",
       "      <th>1</th>\n",
       "      <td>2</td>\n",
       "      <td>Prof</td>\n",
       "      <td>B</td>\n",
       "      <td>20</td>\n",
       "      <td>16</td>\n",
       "      <td>Male</td>\n",
       "      <td>173200</td>\n",
       "    </tr>\n",
       "    <tr>\n",
       "      <th>2</th>\n",
       "      <td>3</td>\n",
       "      <td>AsstProf</td>\n",
       "      <td>B</td>\n",
       "      <td>4</td>\n",
       "      <td>3</td>\n",
       "      <td>Male</td>\n",
       "      <td>79750</td>\n",
       "    </tr>\n",
       "    <tr>\n",
       "      <th>3</th>\n",
       "      <td>4</td>\n",
       "      <td>Prof</td>\n",
       "      <td>B</td>\n",
       "      <td>45</td>\n",
       "      <td>39</td>\n",
       "      <td>Male</td>\n",
       "      <td>115000</td>\n",
       "    </tr>\n",
       "    <tr>\n",
       "      <th>4</th>\n",
       "      <td>5</td>\n",
       "      <td>Prof</td>\n",
       "      <td>B</td>\n",
       "      <td>40</td>\n",
       "      <td>41</td>\n",
       "      <td>Male</td>\n",
       "      <td>141500</td>\n",
       "    </tr>\n",
       "    <tr>\n",
       "      <th>5</th>\n",
       "      <td>6</td>\n",
       "      <td>AssocProf</td>\n",
       "      <td>B</td>\n",
       "      <td>6</td>\n",
       "      <td>6</td>\n",
       "      <td>Male</td>\n",
       "      <td>97000</td>\n",
       "    </tr>\n",
       "    <tr>\n",
       "      <th>6</th>\n",
       "      <td>7</td>\n",
       "      <td>Prof</td>\n",
       "      <td>B</td>\n",
       "      <td>30</td>\n",
       "      <td>23</td>\n",
       "      <td>Male</td>\n",
       "      <td>175000</td>\n",
       "    </tr>\n",
       "    <tr>\n",
       "      <th>7</th>\n",
       "      <td>8</td>\n",
       "      <td>Prof</td>\n",
       "      <td>B</td>\n",
       "      <td>45</td>\n",
       "      <td>45</td>\n",
       "      <td>Male</td>\n",
       "      <td>147765</td>\n",
       "    </tr>\n",
       "    <tr>\n",
       "      <th>8</th>\n",
       "      <td>9</td>\n",
       "      <td>Prof</td>\n",
       "      <td>B</td>\n",
       "      <td>21</td>\n",
       "      <td>20</td>\n",
       "      <td>Male</td>\n",
       "      <td>119250</td>\n",
       "    </tr>\n",
       "    <tr>\n",
       "      <th>9</th>\n",
       "      <td>10</td>\n",
       "      <td>Prof</td>\n",
       "      <td>B</td>\n",
       "      <td>18</td>\n",
       "      <td>18</td>\n",
       "      <td>Female</td>\n",
       "      <td>129000</td>\n",
       "    </tr>\n",
       "  </tbody>\n",
       "</table>\n",
       "</div>"
      ],
      "text/plain": [
       "   Id       rank discipline  yrs.since.phd  yrs.service     sex  salary\n",
       "0   1       Prof          B             19           18    Male  139750\n",
       "1   2       Prof          B             20           16    Male  173200\n",
       "2   3   AsstProf          B              4            3    Male   79750\n",
       "3   4       Prof          B             45           39    Male  115000\n",
       "4   5       Prof          B             40           41    Male  141500\n",
       "5   6  AssocProf          B              6            6    Male   97000\n",
       "6   7       Prof          B             30           23    Male  175000\n",
       "7   8       Prof          B             45           45    Male  147765\n",
       "8   9       Prof          B             21           20    Male  119250\n",
       "9  10       Prof          B             18           18  Female  129000"
      ]
     },
     "execution_count": 2,
     "metadata": {},
     "output_type": "execute_result"
    }
   ],
   "source": [
    "filename  = r'.\\data\\Salaries.csv'\n",
    "salaries_df = pd.read_csv(filename)\n",
    "salaries_df.head(10)"
   ]
  },
  {
   "cell_type": "code",
   "execution_count": 3,
   "metadata": {},
   "outputs": [
    {
     "data": {
      "text/html": [
       "<div>\n",
       "<style>\n",
       "    .dataframe thead tr:only-child th {\n",
       "        text-align: right;\n",
       "    }\n",
       "\n",
       "    .dataframe thead th {\n",
       "        text-align: left;\n",
       "    }\n",
       "\n",
       "    .dataframe tbody tr th {\n",
       "        vertical-align: top;\n",
       "    }\n",
       "</style>\n",
       "<table border=\"1\" class=\"dataframe\">\n",
       "  <thead>\n",
       "    <tr style=\"text-align: right;\">\n",
       "      <th></th>\n",
       "      <th>Id</th>\n",
       "      <th>rank</th>\n",
       "      <th>discipline</th>\n",
       "      <th>yrs.since.phd</th>\n",
       "      <th>yrs.service</th>\n",
       "      <th>sex</th>\n",
       "      <th>salary</th>\n",
       "      <th>rank_num</th>\n",
       "      <th>discipline_num</th>\n",
       "      <th>sex_num</th>\n",
       "    </tr>\n",
       "  </thead>\n",
       "  <tbody>\n",
       "    <tr>\n",
       "      <th>0</th>\n",
       "      <td>1</td>\n",
       "      <td>Prof</td>\n",
       "      <td>B</td>\n",
       "      <td>19</td>\n",
       "      <td>18</td>\n",
       "      <td>Male</td>\n",
       "      <td>139750</td>\n",
       "      <td>3</td>\n",
       "      <td>2</td>\n",
       "      <td>1</td>\n",
       "    </tr>\n",
       "    <tr>\n",
       "      <th>1</th>\n",
       "      <td>2</td>\n",
       "      <td>Prof</td>\n",
       "      <td>B</td>\n",
       "      <td>20</td>\n",
       "      <td>16</td>\n",
       "      <td>Male</td>\n",
       "      <td>173200</td>\n",
       "      <td>3</td>\n",
       "      <td>2</td>\n",
       "      <td>1</td>\n",
       "    </tr>\n",
       "    <tr>\n",
       "      <th>2</th>\n",
       "      <td>3</td>\n",
       "      <td>AsstProf</td>\n",
       "      <td>B</td>\n",
       "      <td>4</td>\n",
       "      <td>3</td>\n",
       "      <td>Male</td>\n",
       "      <td>79750</td>\n",
       "      <td>1</td>\n",
       "      <td>2</td>\n",
       "      <td>1</td>\n",
       "    </tr>\n",
       "    <tr>\n",
       "      <th>3</th>\n",
       "      <td>4</td>\n",
       "      <td>Prof</td>\n",
       "      <td>B</td>\n",
       "      <td>45</td>\n",
       "      <td>39</td>\n",
       "      <td>Male</td>\n",
       "      <td>115000</td>\n",
       "      <td>3</td>\n",
       "      <td>2</td>\n",
       "      <td>1</td>\n",
       "    </tr>\n",
       "    <tr>\n",
       "      <th>4</th>\n",
       "      <td>5</td>\n",
       "      <td>Prof</td>\n",
       "      <td>B</td>\n",
       "      <td>40</td>\n",
       "      <td>41</td>\n",
       "      <td>Male</td>\n",
       "      <td>141500</td>\n",
       "      <td>3</td>\n",
       "      <td>2</td>\n",
       "      <td>1</td>\n",
       "    </tr>\n",
       "  </tbody>\n",
       "</table>\n",
       "</div>"
      ],
      "text/plain": [
       "   Id      rank discipline  yrs.since.phd  yrs.service   sex  salary  \\\n",
       "0   1      Prof          B             19           18  Male  139750   \n",
       "1   2      Prof          B             20           16  Male  173200   \n",
       "2   3  AsstProf          B              4            3  Male   79750   \n",
       "3   4      Prof          B             45           39  Male  115000   \n",
       "4   5      Prof          B             40           41  Male  141500   \n",
       "\n",
       "   rank_num  discipline_num  sex_num  \n",
       "0         3               2        1  \n",
       "1         3               2        1  \n",
       "2         1               2        1  \n",
       "3         3               2        1  \n",
       "4         3               2        1  "
      ]
     },
     "execution_count": 3,
     "metadata": {},
     "output_type": "execute_result"
    }
   ],
   "source": [
    "groupby_rank = salaries_df.groupby(['rank'],as_index=False)['salary'].median().sort_values(by='salary', ascending=True)\n",
    "rank_order = list(groupby_rank['rank'])\n",
    "salaries_df['rank_num']=salaries_df['rank'].map(lambda x: rank_order.index(x)+1)\n",
    "\n",
    "groupby_discipline = salaries_df.groupby(['discipline'],as_index=False)['salary'].median().sort_values(by='discipline', ascending=True)\n",
    "discipline_order = list(groupby_discipline['discipline'])\n",
    "salaries_df['discipline_num']=salaries_df['discipline'].map(lambda x: discipline_order.index(x)+1)\n",
    "\n",
    "sex_order = list(salaries_df['sex'].unique())\n",
    "salaries_df['sex_num']=salaries_df['sex'].map(lambda x: sex_order.index(x)+1)\n",
    "salaries_df.head()"
   ]
  },
  {
   "cell_type": "code",
   "execution_count": 4,
   "metadata": {},
   "outputs": [
    {
     "name": "stdout",
     "output_type": "stream",
     "text": [
      "(317, 6)\n",
      "(80, 6)\n"
     ]
    }
   ],
   "source": [
    "salaries = salaries_df [['Id','rank_num','discipline_num','sex_num','yrs.since.phd','yrs.service','salary']]\n",
    "all_y = salaries[['salary']]\n",
    "salaries.drop('salary',axis=1,inplace=True)\n",
    "all_X =salaries\n",
    "from sklearn.model_selection import train_test_split\n",
    "train_X,test_X,train_y,test_y = train_test_split(all_X,all_y,test_size=0.2, random_state =17)\n",
    "print(train_X.shape)\n",
    "print(test_X.shape)"
   ]
  },
  {
   "cell_type": "code",
   "execution_count": 5,
   "metadata": {},
   "outputs": [
    {
     "data": {
      "image/png": "[encoded data removed]",
      "text/plain": [
       "<matplotlib.figure.Figure at 0x1f02d9c9518>"
      ]
     },
     "metadata": {},
     "output_type": "display_data"
    }
   ],
   "source": [
    "_, axes = plt.subplots(1, 2, figsize=(8, 4))\n",
    "sns.distplot(np.log1p(train_y['salary']),norm_hist=True,ax =axes[0])\n",
    "sns.distplot(train_y['salary'],norm_hist=True,ax =axes[1])\n",
    "plt.tight_layout()\n",
    "plt.show()"
   ]
  },
  {
   "cell_type": "code",
   "execution_count": 6,
   "metadata": {},
   "outputs": [
    {
     "data": {
      "text/html": [
       "<div>\n",
       "<style>\n",
       "    .dataframe thead tr:only-child th {\n",
       "        text-align: right;\n",
       "    }\n",
       "\n",
       "    .dataframe thead th {\n",
       "        text-align: left;\n",
       "    }\n",
       "\n",
       "    .dataframe tbody tr th {\n",
       "        vertical-align: top;\n",
       "    }\n",
       "</style>\n",
       "<table border=\"1\" class=\"dataframe\">\n",
       "  <thead>\n",
       "    <tr style=\"text-align: right;\">\n",
       "      <th></th>\n",
       "      <th>sex</th>\n",
       "      <th>rank</th>\n",
       "      <th>salary</th>\n",
       "    </tr>\n",
       "  </thead>\n",
       "  <tbody>\n",
       "    <tr>\n",
       "      <th>1</th>\n",
       "      <td>Female</td>\n",
       "      <td>AsstProf</td>\n",
       "      <td>77000.0</td>\n",
       "    </tr>\n",
       "    <tr>\n",
       "      <th>4</th>\n",
       "      <td>Male</td>\n",
       "      <td>AsstProf</td>\n",
       "      <td>80182.0</td>\n",
       "    </tr>\n",
       "    <tr>\n",
       "      <th>0</th>\n",
       "      <td>Female</td>\n",
       "      <td>AssocProf</td>\n",
       "      <td>90556.5</td>\n",
       "    </tr>\n",
       "    <tr>\n",
       "      <th>3</th>\n",
       "      <td>Male</td>\n",
       "      <td>AssocProf</td>\n",
       "      <td>95626.5</td>\n",
       "    </tr>\n",
       "    <tr>\n",
       "      <th>2</th>\n",
       "      <td>Female</td>\n",
       "      <td>Prof</td>\n",
       "      <td>120257.5</td>\n",
       "    </tr>\n",
       "    <tr>\n",
       "      <th>5</th>\n",
       "      <td>Male</td>\n",
       "      <td>Prof</td>\n",
       "      <td>123996.0</td>\n",
       "    </tr>\n",
       "  </tbody>\n",
       "</table>\n",
       "</div>"
      ],
      "text/plain": [
       "      sex       rank    salary\n",
       "1  Female   AsstProf   77000.0\n",
       "4    Male   AsstProf   80182.0\n",
       "0  Female  AssocProf   90556.5\n",
       "3    Male  AssocProf   95626.5\n",
       "2  Female       Prof  120257.5\n",
       "5    Male       Prof  123996.0"
      ]
     },
     "execution_count": 6,
     "metadata": {},
     "output_type": "execute_result"
    }
   ],
   "source": [
    "salaries_sex  = salaries_df.groupby(['sex','rank'],as_index=False)['salary'].median().sort_values(by='salary', ascending=True)\n",
    "salaries_sex"
   ]
  },
  {
   "cell_type": "code",
   "execution_count": 7,
   "metadata": {},
   "outputs": [
    {
     "data": {
      "text/html": [
       "<div>\n",
       "<style>\n",
       "    .dataframe thead tr:only-child th {\n",
       "        text-align: right;\n",
       "    }\n",
       "\n",
       "    .dataframe thead th {\n",
       "        text-align: left;\n",
       "    }\n",
       "\n",
       "    .dataframe tbody tr th {\n",
       "        vertical-align: top;\n",
       "    }\n",
       "</style>\n",
       "<table border=\"1\" class=\"dataframe\">\n",
       "  <thead>\n",
       "    <tr style=\"text-align: right;\">\n",
       "      <th></th>\n",
       "      <th>discipline</th>\n",
       "      <th>salary</th>\n",
       "    </tr>\n",
       "  </thead>\n",
       "  <tbody>\n",
       "    <tr>\n",
       "      <th>0</th>\n",
       "      <td>A</td>\n",
       "      <td>104350.0</td>\n",
       "    </tr>\n",
       "    <tr>\n",
       "      <th>1</th>\n",
       "      <td>B</td>\n",
       "      <td>113018.5</td>\n",
       "    </tr>\n",
       "  </tbody>\n",
       "</table>\n",
       "</div>"
      ],
      "text/plain": [
       "  discipline    salary\n",
       "0          A  104350.0\n",
       "1          B  113018.5"
      ]
     },
     "execution_count": 7,
     "metadata": {},
     "output_type": "execute_result"
    }
   ],
   "source": [
    "salaries_discipline  = salaries_df.groupby(['discipline'],as_index=False)['salary'].median().sort_values(by='salary', ascending=True)\n",
    "salaries_discipline"
   ]
  },
  {
   "cell_type": "code",
   "execution_count": 8,
   "metadata": {},
   "outputs": [
    {
     "data": {
      "text/html": [
       "<div>\n",
       "<style>\n",
       "    .dataframe thead tr:only-child th {\n",
       "        text-align: right;\n",
       "    }\n",
       "\n",
       "    .dataframe thead th {\n",
       "        text-align: left;\n",
       "    }\n",
       "\n",
       "    .dataframe tbody tr th {\n",
       "        vertical-align: top;\n",
       "    }\n",
       "</style>\n",
       "<table border=\"1\" class=\"dataframe\">\n",
       "  <thead>\n",
       "    <tr style=\"text-align: right;\">\n",
       "      <th></th>\n",
       "      <th>Id</th>\n",
       "      <th>rank_num</th>\n",
       "      <th>discipline_num</th>\n",
       "      <th>sex_num</th>\n",
       "      <th>yrs.since.phd</th>\n",
       "      <th>yrs.service</th>\n",
       "      <th>salary</th>\n",
       "    </tr>\n",
       "  </thead>\n",
       "  <tbody>\n",
       "    <tr>\n",
       "      <th>201</th>\n",
       "      <td>202</td>\n",
       "      <td>3</td>\n",
       "      <td>2</td>\n",
       "      <td>1</td>\n",
       "      <td>13.992291</td>\n",
       "      <td>40</td>\n",
       "      <td>119700</td>\n",
       "    </tr>\n",
       "    <tr>\n",
       "      <th>223</th>\n",
       "      <td>224</td>\n",
       "      <td>3</td>\n",
       "      <td>2</td>\n",
       "      <td>1</td>\n",
       "      <td>12.512559</td>\n",
       "      <td>20</td>\n",
       "      <td>129600</td>\n",
       "    </tr>\n",
       "    <tr>\n",
       "      <th>113</th>\n",
       "      <td>114</td>\n",
       "      <td>3</td>\n",
       "      <td>1</td>\n",
       "      <td>1</td>\n",
       "      <td>13.264073</td>\n",
       "      <td>37</td>\n",
       "      <td>104279</td>\n",
       "    </tr>\n",
       "    <tr>\n",
       "      <th>383</th>\n",
       "      <td>384</td>\n",
       "      <td>3</td>\n",
       "      <td>1</td>\n",
       "      <td>1</td>\n",
       "      <td>14.931091</td>\n",
       "      <td>44</td>\n",
       "      <td>105000</td>\n",
       "    </tr>\n",
       "    <tr>\n",
       "      <th>371</th>\n",
       "      <td>372</td>\n",
       "      <td>3</td>\n",
       "      <td>1</td>\n",
       "      <td>1</td>\n",
       "      <td>9.502300</td>\n",
       "      <td>20</td>\n",
       "      <td>110515</td>\n",
       "    </tr>\n",
       "  </tbody>\n",
       "</table>\n",
       "</div>"
      ],
      "text/plain": [
       "      Id  rank_num  discipline_num  sex_num  yrs.since.phd  yrs.service  \\\n",
       "201  202         3               2        1      13.992291           40   \n",
       "223  224         3               2        1      12.512559           20   \n",
       "113  114         3               1        1      13.264073           37   \n",
       "383  384         3               1        1      14.931091           44   \n",
       "371  372         3               1        1       9.502300           20   \n",
       "\n",
       "     salary  \n",
       "201  119700  \n",
       "223  129600  \n",
       "113  104279  \n",
       "383  105000  \n",
       "371  110515  "
      ]
     },
     "execution_count": 8,
     "metadata": {},
     "output_type": "execute_result"
    }
   ],
   "source": [
    "train_dataset =train_X.join(train_y) # For visualization \n",
    "from datatools.customtransformers import BoxcoxTransformer\n",
    "#'yrs.since.phd'\n",
    "bc =BoxcoxTransformer(cols=['yrs.since.phd'])\n",
    "train_dataset = bc.fit_transform(train_dataset)\n",
    "train_X = bc.fit_transform(train_X)\n",
    "test_X = bc.fit_transform(test_X)\n",
    "train_dataset.head()\n",
    " "
   ]
  },
  {
   "cell_type": "code",
   "execution_count": 9,
   "metadata": {
    "collapsed": true
   },
   "outputs": [],
   "source": [
    "def reg_plots(train_dataset,continuous_features,target_name):\n",
    "    fig = plt.figure(figsize=(12, 8))\n",
    "    fig.subplots_adjust(hspace=0.4, wspace=0.4)\n",
    "    size =len(continuous_features)\n",
    "     \n",
    "    for i in range(size):\n",
    "        ax = fig.add_subplot(4,3, i+1)\n",
    "        \n",
    "        if continuous_features[i] !=target_name:\n",
    "            sns.regplot( x=continuous_features[i],y=target_name, data =train_dataset ,ax=ax,\n",
    "                        scatter_kws={'cmap':'jet',\"alpha\": 0.7}  )\n",
    "            sns.despine()\n",
    "    plt.tight_layout()\n",
    "    plt.show()"
   ]
  },
  {
   "cell_type": "code",
   "execution_count": 10,
   "metadata": {},
   "outputs": [
    {
     "data": {
      "image/png": "[encoded data removed]",
      "text/plain": [
       "<matplotlib.figure.Figure at 0x1f0316afc50>"
      ]
     },
     "metadata": {},
     "output_type": "display_data"
    }
   ],
   "source": [
    "continuous_features = ['rank_num','discipline_num','sex_num','yrs.since.phd','yrs.service']\n",
    "target_name = 'salary'\n",
    "reg_plots(train_dataset,continuous_features,target_name)"
   ]
  },
  {
   "cell_type": "code",
   "execution_count": 11,
   "metadata": {},
   "outputs": [
    {
     "data": {
      "text/plain": [
       "<matplotlib.axes._subplots.AxesSubplot at 0x1f0319315f8>"
      ]
     },
     "execution_count": 11,
     "metadata": {},
     "output_type": "execute_result"
    },
    {
     "data": {
      "image/png": "[encoded data removed]",
      "text/plain": [
       "<matplotlib.figure.Figure at 0x1f0316a8a90>"
      ]
     },
     "metadata": {},
     "output_type": "display_data"
    }
   ],
   "source": [
    "sns.boxplot(x='rank_num', y=target_name, data=train_dataset)"
   ]
  },
  {
   "cell_type": "code",
   "execution_count": 12,
   "metadata": {},
   "outputs": [
    {
     "data": {
      "text/html": [
       "<div>\n",
       "<style>\n",
       "    .dataframe thead tr:only-child th {\n",
       "        text-align: right;\n",
       "    }\n",
       "\n",
       "    .dataframe thead th {\n",
       "        text-align: left;\n",
       "    }\n",
       "\n",
       "    .dataframe tbody tr th {\n",
       "        vertical-align: top;\n",
       "    }\n",
       "</style>\n",
       "<table border=\"1\" class=\"dataframe\">\n",
       "  <thead>\n",
       "    <tr style=\"text-align: right;\">\n",
       "      <th></th>\n",
       "      <th>Id</th>\n",
       "      <th>rank_num</th>\n",
       "      <th>discipline_num</th>\n",
       "      <th>sex_num</th>\n",
       "      <th>yrs.since.phd</th>\n",
       "      <th>yrs.service</th>\n",
       "      <th>salary</th>\n",
       "    </tr>\n",
       "  </thead>\n",
       "  <tbody>\n",
       "    <tr>\n",
       "      <th>43</th>\n",
       "      <td>44</td>\n",
       "      <td>3</td>\n",
       "      <td>2</td>\n",
       "      <td>1</td>\n",
       "      <td>13.509273</td>\n",
       "      <td>38</td>\n",
       "      <td>231545</td>\n",
       "    </tr>\n",
       "  </tbody>\n",
       "</table>\n",
       "</div>"
      ],
      "text/plain": [
       "    Id  rank_num  discipline_num  sex_num  yrs.since.phd  yrs.service  salary\n",
       "43  44         3               2        1      13.509273           38  231545"
      ]
     },
     "execution_count": 12,
     "metadata": {},
     "output_type": "execute_result"
    }
   ],
   "source": [
    "train_dataset[(train_dataset['salary']> 225000) &(train_dataset['rank_num']==3)]  #outlier"
   ]
  },
  {
   "cell_type": "code",
   "execution_count": 13,
   "metadata": {},
   "outputs": [
    {
     "data": {
      "text/plain": [
       "<matplotlib.axes._subplots.AxesSubplot at 0x1f031bcec18>"
      ]
     },
     "execution_count": 13,
     "metadata": {},
     "output_type": "execute_result"
    },
    {
     "data": {
      "image/png": "[encoded data removed]",
      "text/plain": [
       "<matplotlib.figure.Figure at 0x1f0316ea7b8>"
      ]
     },
     "metadata": {},
     "output_type": "display_data"
    }
   ],
   "source": [
    "sns.boxplot(x='discipline_num', y=target_name, data=train_dataset)"
   ]
  },
  {
   "cell_type": "code",
   "execution_count": 14,
   "metadata": {},
   "outputs": [
    {
     "data": {
      "text/html": [
       "<div>\n",
       "<style>\n",
       "    .dataframe thead tr:only-child th {\n",
       "        text-align: right;\n",
       "    }\n",
       "\n",
       "    .dataframe thead th {\n",
       "        text-align: left;\n",
       "    }\n",
       "\n",
       "    .dataframe tbody tr th {\n",
       "        vertical-align: top;\n",
       "    }\n",
       "</style>\n",
       "<table border=\"1\" class=\"dataframe\">\n",
       "  <thead>\n",
       "    <tr style=\"text-align: right;\">\n",
       "      <th></th>\n",
       "      <th>Id</th>\n",
       "      <th>rank_num</th>\n",
       "      <th>discipline_num</th>\n",
       "      <th>sex_num</th>\n",
       "      <th>yrs.since.phd</th>\n",
       "      <th>yrs.service</th>\n",
       "      <th>salary</th>\n",
       "    </tr>\n",
       "  </thead>\n",
       "  <tbody>\n",
       "    <tr>\n",
       "      <th>249</th>\n",
       "      <td>250</td>\n",
       "      <td>3</td>\n",
       "      <td>1</td>\n",
       "      <td>1</td>\n",
       "      <td>11.200063</td>\n",
       "      <td>7</td>\n",
       "      <td>204000</td>\n",
       "    </tr>\n",
       "    <tr>\n",
       "      <th>364</th>\n",
       "      <td>365</td>\n",
       "      <td>3</td>\n",
       "      <td>1</td>\n",
       "      <td>1</td>\n",
       "      <td>14.699608</td>\n",
       "      <td>43</td>\n",
       "      <td>205500</td>\n",
       "    </tr>\n",
       "    <tr>\n",
       "      <th>271</th>\n",
       "      <td>272</td>\n",
       "      <td>3</td>\n",
       "      <td>1</td>\n",
       "      <td>1</td>\n",
       "      <td>14.466027</td>\n",
       "      <td>18</td>\n",
       "      <td>194800</td>\n",
       "    </tr>\n",
       "  </tbody>\n",
       "</table>\n",
       "</div>"
      ],
      "text/plain": [
       "      Id  rank_num  discipline_num  sex_num  yrs.since.phd  yrs.service  \\\n",
       "249  250         3               1        1      11.200063            7   \n",
       "364  365         3               1        1      14.699608           43   \n",
       "271  272         3               1        1      14.466027           18   \n",
       "\n",
       "     salary  \n",
       "249  204000  \n",
       "364  205500  \n",
       "271  194800  "
      ]
     },
     "execution_count": 14,
     "metadata": {},
     "output_type": "execute_result"
    }
   ],
   "source": [
    "train_dataset[  (train_dataset['salary']> 190000) \n",
    "              & (train_dataset['discipline_num'] ==1)]  #outlier   "
   ]
  },
  {
   "cell_type": "code",
   "execution_count": 15,
   "metadata": {},
   "outputs": [
    {
     "data": {
      "text/html": [
       "<div>\n",
       "<style>\n",
       "    .dataframe thead tr:only-child th {\n",
       "        text-align: right;\n",
       "    }\n",
       "\n",
       "    .dataframe thead th {\n",
       "        text-align: left;\n",
       "    }\n",
       "\n",
       "    .dataframe tbody tr th {\n",
       "        vertical-align: top;\n",
       "    }\n",
       "</style>\n",
       "<table border=\"1\" class=\"dataframe\">\n",
       "  <thead>\n",
       "    <tr style=\"text-align: right;\">\n",
       "      <th></th>\n",
       "      <th>Id</th>\n",
       "      <th>rank_num</th>\n",
       "      <th>discipline_num</th>\n",
       "      <th>sex_num</th>\n",
       "      <th>yrs.since.phd</th>\n",
       "      <th>yrs.service</th>\n",
       "      <th>salary</th>\n",
       "    </tr>\n",
       "  </thead>\n",
       "  <tbody>\n",
       "    <tr>\n",
       "      <th>43</th>\n",
       "      <td>44</td>\n",
       "      <td>3</td>\n",
       "      <td>2</td>\n",
       "      <td>1</td>\n",
       "      <td>13.509273</td>\n",
       "      <td>38</td>\n",
       "      <td>231545</td>\n",
       "    </tr>\n",
       "  </tbody>\n",
       "</table>\n",
       "</div>"
      ],
      "text/plain": [
       "    Id  rank_num  discipline_num  sex_num  yrs.since.phd  yrs.service  salary\n",
       "43  44         3               2        1      13.509273           38  231545"
      ]
     },
     "execution_count": 15,
     "metadata": {},
     "output_type": "execute_result"
    }
   ],
   "source": [
    "train_dataset[  (train_dataset['salary']> 225000) \n",
    "              & (train_dataset['discipline_num'] ==2)]"
   ]
  },
  {
   "cell_type": "code",
   "execution_count": 16,
   "metadata": {},
   "outputs": [
    {
     "data": {
      "text/plain": [
       "<matplotlib.axes._subplots.AxesSubplot at 0x1f031b84ac8>"
      ]
     },
     "execution_count": 16,
     "metadata": {},
     "output_type": "execute_result"
    },
    {
     "data": {
      "image/png": "[encoded data removed]",
      "text/plain": [
       "<matplotlib.figure.Figure at 0x1f031678e10>"
      ]
     },
     "metadata": {},
     "output_type": "display_data"
    }
   ],
   "source": [
    "sns.boxplot(x='sex_num', y=target_name, data=train_dataset)"
   ]
  },
  {
   "cell_type": "code",
   "execution_count": 17,
   "metadata": {},
   "outputs": [
    {
     "data": {
      "text/html": [
       "<div>\n",
       "<style>\n",
       "    .dataframe thead tr:only-child th {\n",
       "        text-align: right;\n",
       "    }\n",
       "\n",
       "    .dataframe thead th {\n",
       "        text-align: left;\n",
       "    }\n",
       "\n",
       "    .dataframe tbody tr th {\n",
       "        vertical-align: top;\n",
       "    }\n",
       "</style>\n",
       "<table border=\"1\" class=\"dataframe\">\n",
       "  <thead>\n",
       "    <tr style=\"text-align: right;\">\n",
       "      <th></th>\n",
       "      <th>Id</th>\n",
       "      <th>rank_num</th>\n",
       "      <th>discipline_num</th>\n",
       "      <th>sex_num</th>\n",
       "      <th>yrs.since.phd</th>\n",
       "      <th>yrs.service</th>\n",
       "      <th>salary</th>\n",
       "    </tr>\n",
       "  </thead>\n",
       "  <tbody>\n",
       "    <tr>\n",
       "      <th>43</th>\n",
       "      <td>44</td>\n",
       "      <td>3</td>\n",
       "      <td>2</td>\n",
       "      <td>1</td>\n",
       "      <td>13.509273</td>\n",
       "      <td>38</td>\n",
       "      <td>231545</td>\n",
       "    </tr>\n",
       "  </tbody>\n",
       "</table>\n",
       "</div>"
      ],
      "text/plain": [
       "    Id  rank_num  discipline_num  sex_num  yrs.since.phd  yrs.service  salary\n",
       "43  44         3               2        1      13.509273           38  231545"
      ]
     },
     "execution_count": 17,
     "metadata": {},
     "output_type": "execute_result"
    }
   ],
   "source": [
    "train_dataset[  (train_dataset['salary']> 225000) \n",
    "              & (train_dataset['sex_num'] ==1)]"
   ]
  },
  {
   "cell_type": "code",
   "execution_count": 18,
   "metadata": {},
   "outputs": [
    {
     "data": {
      "image/png": "[encoded data removed]",
      "text/plain": [
       "<matplotlib.figure.Figure at 0x1f03190d5c0>"
      ]
     },
     "metadata": {},
     "output_type": "display_data"
    }
   ],
   "source": [
    "_, axes = plt.subplots(1, 2, figsize=(6, 4))\n",
    " \n",
    "sns.distplot(train_dataset['yrs.since.phd'],norm_hist=True,ax=axes[0])\n",
    "sns.distplot(np.log1p(train_dataset['yrs.since.phd']),norm_hist=True,ax=axes[1])\n",
    "plt.show()"
   ]
  },
  {
   "cell_type": "code",
   "execution_count": 19,
   "metadata": {},
   "outputs": [
    {
     "data": {
      "image/png": "[encoded data removed]",
      "text/plain": [
       "<matplotlib.figure.Figure at 0x1f0319e5ac8>"
      ]
     },
     "metadata": {},
     "output_type": "display_data"
    }
   ],
   "source": [
    "_, axes = plt.subplots(1, 2, figsize=(6, 4))\n",
    " \n",
    "sns.distplot(train_dataset['yrs.service'],norm_hist=True,ax=axes[0])\n",
    "sns.distplot(np.log1p(train_dataset['yrs.service']),norm_hist=True,ax=axes[1])\n",
    "plt.show()"
   ]
  },
  {
   "cell_type": "code",
   "execution_count": 20,
   "metadata": {},
   "outputs": [
    {
     "data": {
      "image/png": "[encoded data removed]",
      "text/plain": [
       "<matplotlib.figure.Figure at 0x1f0319e5e10>"
      ]
     },
     "metadata": {},
     "output_type": "display_data"
    }
   ],
   "source": [
    "fig = plt.figure(figsize=(12,8),dpi=100)\n",
    "ax =plt.gca()\n",
    "sns.barplot(x=\"yrs.service\", y=\"salary\", hue=\"rank_num\", data=train_dataset,ax=ax)\n",
    "plt.show()"
   ]
  },
  {
   "cell_type": "code",
   "execution_count": 21,
   "metadata": {},
   "outputs": [
    {
     "data": {
      "text/html": [
       "<div>\n",
       "<style>\n",
       "    .dataframe thead tr:only-child th {\n",
       "        text-align: right;\n",
       "    }\n",
       "\n",
       "    .dataframe thead th {\n",
       "        text-align: left;\n",
       "    }\n",
       "\n",
       "    .dataframe tbody tr th {\n",
       "        vertical-align: top;\n",
       "    }\n",
       "</style>\n",
       "<table border=\"1\" class=\"dataframe\">\n",
       "  <thead>\n",
       "    <tr style=\"text-align: right;\">\n",
       "      <th></th>\n",
       "      <th>Id</th>\n",
       "      <th>rank_num</th>\n",
       "      <th>discipline_num</th>\n",
       "      <th>sex_num</th>\n",
       "      <th>yrs.since.phd</th>\n",
       "      <th>yrs.service</th>\n",
       "      <th>salary</th>\n",
       "    </tr>\n",
       "  </thead>\n",
       "  <tbody>\n",
       "    <tr>\n",
       "      <th>count</th>\n",
       "      <td>317.000000</td>\n",
       "      <td>317.000000</td>\n",
       "      <td>317.000000</td>\n",
       "      <td>317.000000</td>\n",
       "      <td>317.000000</td>\n",
       "      <td>317.000000</td>\n",
       "      <td>317.000000</td>\n",
       "    </tr>\n",
       "    <tr>\n",
       "      <th>mean</th>\n",
       "      <td>197.930599</td>\n",
       "      <td>2.485804</td>\n",
       "      <td>1.539432</td>\n",
       "      <td>1.100946</td>\n",
       "      <td>8.805561</td>\n",
       "      <td>17.804416</td>\n",
       "      <td>114318.100946</td>\n",
       "    </tr>\n",
       "    <tr>\n",
       "      <th>std</th>\n",
       "      <td>114.964861</td>\n",
       "      <td>0.769650</td>\n",
       "      <td>0.499231</td>\n",
       "      <td>0.301734</td>\n",
       "      <td>4.067515</td>\n",
       "      <td>13.026248</td>\n",
       "      <td>30928.032278</td>\n",
       "    </tr>\n",
       "    <tr>\n",
       "      <th>min</th>\n",
       "      <td>1.000000</td>\n",
       "      <td>1.000000</td>\n",
       "      <td>1.000000</td>\n",
       "      <td>1.000000</td>\n",
       "      <td>0.000000</td>\n",
       "      <td>0.000000</td>\n",
       "      <td>62884.000000</td>\n",
       "    </tr>\n",
       "    <tr>\n",
       "      <th>25%</th>\n",
       "      <td>98.000000</td>\n",
       "      <td>2.000000</td>\n",
       "      <td>1.000000</td>\n",
       "      <td>1.000000</td>\n",
       "      <td>5.844037</td>\n",
       "      <td>7.000000</td>\n",
       "      <td>90304.000000</td>\n",
       "    </tr>\n",
       "    <tr>\n",
       "      <th>50%</th>\n",
       "      <td>202.000000</td>\n",
       "      <td>3.000000</td>\n",
       "      <td>2.000000</td>\n",
       "      <td>1.000000</td>\n",
       "      <td>8.899111</td>\n",
       "      <td>17.000000</td>\n",
       "      <td>107200.000000</td>\n",
       "    </tr>\n",
       "    <tr>\n",
       "      <th>75%</th>\n",
       "      <td>298.000000</td>\n",
       "      <td>3.000000</td>\n",
       "      <td>2.000000</td>\n",
       "      <td>1.000000</td>\n",
       "      <td>11.997197</td>\n",
       "      <td>27.000000</td>\n",
       "      <td>134778.000000</td>\n",
       "    </tr>\n",
       "    <tr>\n",
       "      <th>max</th>\n",
       "      <td>396.000000</td>\n",
       "      <td>3.000000</td>\n",
       "      <td>2.000000</td>\n",
       "      <td>2.000000</td>\n",
       "      <td>17.566220</td>\n",
       "      <td>60.000000</td>\n",
       "      <td>231545.000000</td>\n",
       "    </tr>\n",
       "  </tbody>\n",
       "</table>\n",
       "</div>"
      ],
      "text/plain": [
       "               Id    rank_num  discipline_num     sex_num  yrs.since.phd  \\\n",
       "count  317.000000  317.000000      317.000000  317.000000     317.000000   \n",
       "mean   197.930599    2.485804        1.539432    1.100946       8.805561   \n",
       "std    114.964861    0.769650        0.499231    0.301734       4.067515   \n",
       "min      1.000000    1.000000        1.000000    1.000000       0.000000   \n",
       "25%     98.000000    2.000000        1.000000    1.000000       5.844037   \n",
       "50%    202.000000    3.000000        2.000000    1.000000       8.899111   \n",
       "75%    298.000000    3.000000        2.000000    1.000000      11.997197   \n",
       "max    396.000000    3.000000        2.000000    2.000000      17.566220   \n",
       "\n",
       "       yrs.service         salary  \n",
       "count   317.000000     317.000000  \n",
       "mean     17.804416  114318.100946  \n",
       "std      13.026248   30928.032278  \n",
       "min       0.000000   62884.000000  \n",
       "25%       7.000000   90304.000000  \n",
       "50%      17.000000  107200.000000  \n",
       "75%      27.000000  134778.000000  \n",
       "max      60.000000  231545.000000  "
      ]
     },
     "execution_count": 21,
     "metadata": {},
     "output_type": "execute_result"
    }
   ],
   "source": [
    "train_dataset.describe()\n"
   ]
  },
  {
   "cell_type": "code",
   "execution_count": 22,
   "metadata": {
    "collapsed": true
   },
   "outputs": [],
   "source": [
    "test_X.describe()\n",
    "old_train_X = train_X\n",
    "old_test_X  = test_X"
   ]
  },
  {
   "cell_type": "code",
   "execution_count": 23,
   "metadata": {},
   "outputs": [
    {
     "name": "stdout",
     "output_type": "stream",
     "text": [
      "Linear Regression scores:0.40240174623674585\n"
     ]
    }
   ],
   "source": [
    "from sklearn.linear_model  import LinearRegression,Ridge\n",
    "from sklearn.model_selection import cross_val_score\n",
    "train_X = old_train_X\n",
    "test_X = old_test_X\n",
    "continuous_features = ['rank_num','sex_num','discipline_num','yrs.since.phd','yrs.service'] #,,\n",
    "train_X =train_X[continuous_features]\n",
    "test_X = test_X[continuous_features]\n",
    "linreg = LinearRegression()\n",
    "linreg.fit(train_X,train_y)\n",
    "y_pred = linreg.predict(test_X)\n",
    "scoring ='r2'\n",
    "lr_scores  = np.mean(cross_val_score(linreg, train_X, train_y, cv=10,scoring =scoring))\n",
    "print(\"Linear Regression scores:{0}\".format(lr_scores))\n"
   ]
  },
  {
   "cell_type": "code",
   "execution_count": 24,
   "metadata": {},
   "outputs": [
    {
     "name": "stdout",
     "output_type": "stream",
     "text": [
      "Linear Regression scores:0.4149919974474975\n"
     ]
    }
   ],
   "source": [
    "from sklearn.pipeline import make_pipeline\n",
    "from sklearn.preprocessing import StandardScaler,RobustScaler\n",
    "pipe_lr = make_pipeline(StandardScaler(), LinearRegression())\n",
    "pipe_lr.fit(train_X,train_y)\n",
    "y_pred = pipe_lr.predict(test_X)\n",
    "scoring ='r2'\n",
    "lr_scores  = np.mean(cross_val_score(pipe_lr, train_X, train_y, cv=5,scoring =scoring))\n",
    "print(\"Linear Regression scores:{0}\".format(lr_scores))"
   ]
  },
  {
   "cell_type": "code",
   "execution_count": 25,
   "metadata": {},
   "outputs": [
    {
     "name": "stdout",
     "output_type": "stream",
     "text": [
      "Linear Regression scores:0.4169905158076226\n"
     ]
    }
   ],
   "source": [
    "from sklearn.preprocessing import StandardScaler,RobustScaler\n",
    "pipe_ridge = make_pipeline(RobustScaler(), Ridge(alpha=10))\n",
    "pipe_ridge.fit(train_X,train_y)\n",
    "y_pred = pipe_ridge.predict(test_X)\n",
    "scoring ='r2'\n",
    "lr_scores  = np.mean(cross_val_score(pipe_ridge, train_X, train_y, cv=5,scoring ='r2'))\n",
    "print(\"Linear Regression scores:{0}\".format(lr_scores))"
   ]
  },
  {
   "cell_type": "code",
   "execution_count": 26,
   "metadata": {
    "collapsed": true
   },
   "outputs": [],
   "source": [
    "from sklearn.model_selection import GridSearchCV\n",
    "\n",
    "def create_grid_fit(X,y,model,params):\n",
    "    grid = GridSearchCV(model,params, cv=5, return_train_score=True, iid=False)\n",
    "    grid.fit(X,y)\n",
    "    return grid"
   ]
  },
  {
   "cell_type": "code",
   "execution_count": 27,
   "metadata": {
    "collapsed": true
   },
   "outputs": [],
   "source": [
    "def print_model_details(model,results,param):\n",
    "    print(\"Best score: %0.3f\" % model.best_score_)\n",
    "    print(\"Best parameters set:\")\n",
    "    print(model.best_estimator_)\n",
    "    print(model.best_params_)\n",
    "    print(model.best_score_)\n",
    "    #print((model.best_estimator_.coef_!= 0).sum())\n",
    "    plot_results(results,param)"
   ]
  },
  {
   "cell_type": "code",
   "execution_count": 28,
   "metadata": {
    "collapsed": true
   },
   "outputs": [],
   "source": [
    "def plot_results(results,param):\n",
    "    param ='param_'+ param\n",
    "    fig = plt.figure(figsize=(5, 3),dpi=100)\n",
    "    results.plot(param, 'mean_train_score',ax=fig.gca())\n",
    "    results.plot(param, 'mean_test_score', ax=fig.gca())\n",
    "    plt.fill_between(results[param].astype(np.float),\n",
    "                 results['mean_train_score'] + results['std_train_score'],\n",
    "                 results['mean_train_score'] - results['std_train_score'], alpha=0.2)\n",
    "    plt.fill_between(results[param].astype(np.float),\n",
    "                 results['mean_test_score'] + results['std_test_score'],\n",
    "                 results['mean_test_score'] - results['std_test_score'], alpha=0.2)\n",
    "    plt.legend()\n",
    "    plt.xscale(\"log\")"
   ]
  },
  {
   "cell_type": "code",
   "execution_count": 29,
   "metadata": {},
   "outputs": [
    {
     "name": "stdout",
     "output_type": "stream",
     "text": [
      "Best score: 0.487\n",
      "Best parameters set:\n",
      "Pipeline(memory=None,\n",
      "     steps=[('polynomialfeatures', PolynomialFeatures(degree=3, include_bias=True, interaction_only=True)), ('robustscaler', RobustScaler(copy=True, quantile_range=(25.0, 75.0), with_centering=True,\n",
      "       with_scaling=True)), ('ridge', Ridge(alpha=0.031622776601683791, copy_X=True, fit_intercept=True,\n",
      "   max_iter=None, normalize=False, random_state=None, solver='auto',\n",
      "   tol=0.001))])\n",
      "{'ridge__alpha': 0.031622776601683791}\n",
      "0.486814779443\n"
     ]
    },
    {
     "data": {
      "image/png": "[encoded data removed]",
      "text/plain": [
       "<matplotlib.figure.Figure at 0x1f032f69898>"
      ]
     },
     "metadata": {},
     "output_type": "display_data"
    }
   ],
   "source": [
    "from sklearn.preprocessing import PolynomialFeatures\n",
    "param ='ridge__alpha'\n",
    "param_grid = {param :np.logspace(-3,3,13)}\n",
    "pipe = make_pipeline(PolynomialFeatures(degree=3,interaction_only=True),RobustScaler(with_scaling=True) , Ridge())\n",
    "ridge_grid = create_grid_fit(train_X,train_y,pipe,param_grid)\n",
    "results = pd.DataFrame(ridge_grid.cv_results_)\n",
    "print_model_details(ridge_grid,results,param)"
   ]
  },
  {
   "cell_type": "code",
   "execution_count": 30,
   "metadata": {},
   "outputs": [
    {
     "data": {
      "text/html": [
       "<div>\n",
       "<style>\n",
       "    .dataframe thead tr:only-child th {\n",
       "        text-align: right;\n",
       "    }\n",
       "\n",
       "    .dataframe thead th {\n",
       "        text-align: left;\n",
       "    }\n",
       "\n",
       "    .dataframe tbody tr th {\n",
       "        vertical-align: top;\n",
       "    }\n",
       "</style>\n",
       "<table border=\"1\" class=\"dataframe\">\n",
       "  <thead>\n",
       "    <tr style=\"text-align: right;\">\n",
       "      <th></th>\n",
       "      <th>mean_fit_time</th>\n",
       "      <th>mean_score_time</th>\n",
       "      <th>mean_test_score</th>\n",
       "      <th>mean_train_score</th>\n",
       "      <th>param_ridge__alpha</th>\n",
       "      <th>params</th>\n",
       "      <th>rank_test_score</th>\n",
       "      <th>split0_test_score</th>\n",
       "      <th>split0_train_score</th>\n",
       "      <th>split1_test_score</th>\n",
       "      <th>...</th>\n",
       "      <th>split2_test_score</th>\n",
       "      <th>split2_train_score</th>\n",
       "      <th>split3_test_score</th>\n",
       "      <th>split3_train_score</th>\n",
       "      <th>split4_test_score</th>\n",
       "      <th>split4_train_score</th>\n",
       "      <th>std_fit_time</th>\n",
       "      <th>std_score_time</th>\n",
       "      <th>std_test_score</th>\n",
       "      <th>std_train_score</th>\n",
       "    </tr>\n",
       "  </thead>\n",
       "  <tbody>\n",
       "    <tr>\n",
       "      <th>0</th>\n",
       "      <td>0.016793</td>\n",
       "      <td>0.003597</td>\n",
       "      <td>0.479291</td>\n",
       "      <td>0.539024</td>\n",
       "      <td>0.001</td>\n",
       "      <td>{'ridge__alpha': 0.001}</td>\n",
       "      <td>6</td>\n",
       "      <td>0.656923</td>\n",
       "      <td>0.506853</td>\n",
       "      <td>0.442548</td>\n",
       "      <td>...</td>\n",
       "      <td>0.431669</td>\n",
       "      <td>0.550241</td>\n",
       "      <td>0.452774</td>\n",
       "      <td>0.548605</td>\n",
       "      <td>0.412542</td>\n",
       "      <td>0.557005</td>\n",
       "      <td>4.163360e-03</td>\n",
       "      <td>4.893377e-04</td>\n",
       "      <td>0.089811</td>\n",
       "      <td>0.017998</td>\n",
       "    </tr>\n",
       "    <tr>\n",
       "      <th>1</th>\n",
       "      <td>0.011795</td>\n",
       "      <td>0.003398</td>\n",
       "      <td>0.481708</td>\n",
       "      <td>0.538773</td>\n",
       "      <td>0.00316228</td>\n",
       "      <td>{'ridge__alpha': 0.00316227766017}</td>\n",
       "      <td>4</td>\n",
       "      <td>0.657250</td>\n",
       "      <td>0.506761</td>\n",
       "      <td>0.440809</td>\n",
       "      <td>...</td>\n",
       "      <td>0.437017</td>\n",
       "      <td>0.549931</td>\n",
       "      <td>0.457799</td>\n",
       "      <td>0.548416</td>\n",
       "      <td>0.415666</td>\n",
       "      <td>0.556744</td>\n",
       "      <td>1.326450e-03</td>\n",
       "      <td>4.908757e-04</td>\n",
       "      <td>0.088790</td>\n",
       "      <td>0.017950</td>\n",
       "    </tr>\n",
       "    <tr>\n",
       "      <th>2</th>\n",
       "      <td>0.010192</td>\n",
       "      <td>0.002399</td>\n",
       "      <td>0.484143</td>\n",
       "      <td>0.537848</td>\n",
       "      <td>0.01</td>\n",
       "      <td>{'ridge__alpha': 0.01}</td>\n",
       "      <td>3</td>\n",
       "      <td>0.657492</td>\n",
       "      <td>0.506184</td>\n",
       "      <td>0.439403</td>\n",
       "      <td>...</td>\n",
       "      <td>0.439011</td>\n",
       "      <td>0.548936</td>\n",
       "      <td>0.464130</td>\n",
       "      <td>0.547659</td>\n",
       "      <td>0.420679</td>\n",
       "      <td>0.555721</td>\n",
       "      <td>1.163138e-03</td>\n",
       "      <td>4.907682e-04</td>\n",
       "      <td>0.087769</td>\n",
       "      <td>0.017842</td>\n",
       "    </tr>\n",
       "    <tr>\n",
       "      <th>3</th>\n",
       "      <td>0.009194</td>\n",
       "      <td>0.001999</td>\n",
       "      <td>0.486815</td>\n",
       "      <td>0.535227</td>\n",
       "      <td>0.0316228</td>\n",
       "      <td>{'ridge__alpha': 0.0316227766017}</td>\n",
       "      <td>1</td>\n",
       "      <td>0.656252</td>\n",
       "      <td>0.504049</td>\n",
       "      <td>0.442888</td>\n",
       "      <td>...</td>\n",
       "      <td>0.437837</td>\n",
       "      <td>0.546325</td>\n",
       "      <td>0.470470</td>\n",
       "      <td>0.545216</td>\n",
       "      <td>0.426627</td>\n",
       "      <td>0.552573</td>\n",
       "      <td>4.000245e-04</td>\n",
       "      <td>5.352484e-07</td>\n",
       "      <td>0.085939</td>\n",
       "      <td>0.017599</td>\n",
       "    </tr>\n",
       "    <tr>\n",
       "      <th>4</th>\n",
       "      <td>0.008596</td>\n",
       "      <td>0.002598</td>\n",
       "      <td>0.486288</td>\n",
       "      <td>0.530390</td>\n",
       "      <td>0.1</td>\n",
       "      <td>{'ridge__alpha': 0.1}</td>\n",
       "      <td>2</td>\n",
       "      <td>0.651324</td>\n",
       "      <td>0.499716</td>\n",
       "      <td>0.440513</td>\n",
       "      <td>...</td>\n",
       "      <td>0.434854</td>\n",
       "      <td>0.541623</td>\n",
       "      <td>0.474231</td>\n",
       "      <td>0.540249</td>\n",
       "      <td>0.430516</td>\n",
       "      <td>0.546835</td>\n",
       "      <td>7.989169e-04</td>\n",
       "      <td>4.893758e-04</td>\n",
       "      <td>0.083945</td>\n",
       "      <td>0.017215</td>\n",
       "    </tr>\n",
       "    <tr>\n",
       "      <th>5</th>\n",
       "      <td>0.009396</td>\n",
       "      <td>0.002398</td>\n",
       "      <td>0.479837</td>\n",
       "      <td>0.523087</td>\n",
       "      <td>0.316228</td>\n",
       "      <td>{'ridge__alpha': 0.316227766017}</td>\n",
       "      <td>5</td>\n",
       "      <td>0.640233</td>\n",
       "      <td>0.493061</td>\n",
       "      <td>0.425816</td>\n",
       "      <td>...</td>\n",
       "      <td>0.429321</td>\n",
       "      <td>0.534537</td>\n",
       "      <td>0.472467</td>\n",
       "      <td>0.532318</td>\n",
       "      <td>0.431349</td>\n",
       "      <td>0.538724</td>\n",
       "      <td>1.354997e-03</td>\n",
       "      <td>4.903686e-04</td>\n",
       "      <td>0.081978</td>\n",
       "      <td>0.016745</td>\n",
       "    </tr>\n",
       "    <tr>\n",
       "      <th>6</th>\n",
       "      <td>0.009197</td>\n",
       "      <td>0.002198</td>\n",
       "      <td>0.466990</td>\n",
       "      <td>0.511497</td>\n",
       "      <td>1</td>\n",
       "      <td>{'ridge__alpha': 1.0}</td>\n",
       "      <td>7</td>\n",
       "      <td>0.619389</td>\n",
       "      <td>0.482886</td>\n",
       "      <td>0.404478</td>\n",
       "      <td>...</td>\n",
       "      <td>0.416622</td>\n",
       "      <td>0.522940</td>\n",
       "      <td>0.464064</td>\n",
       "      <td>0.519912</td>\n",
       "      <td>0.430395</td>\n",
       "      <td>0.525866</td>\n",
       "      <td>1.469199e-03</td>\n",
       "      <td>3.999721e-04</td>\n",
       "      <td>0.078763</td>\n",
       "      <td>0.015864</td>\n",
       "    </tr>\n",
       "    <tr>\n",
       "      <th>7</th>\n",
       "      <td>0.009190</td>\n",
       "      <td>0.002203</td>\n",
       "      <td>0.447150</td>\n",
       "      <td>0.492336</td>\n",
       "      <td>3.16228</td>\n",
       "      <td>{'ridge__alpha': 3.16227766017}</td>\n",
       "      <td>8</td>\n",
       "      <td>0.587851</td>\n",
       "      <td>0.466739</td>\n",
       "      <td>0.385791</td>\n",
       "      <td>...</td>\n",
       "      <td>0.391321</td>\n",
       "      <td>0.503795</td>\n",
       "      <td>0.446646</td>\n",
       "      <td>0.500121</td>\n",
       "      <td>0.424143</td>\n",
       "      <td>0.503854</td>\n",
       "      <td>3.893377e-04</td>\n",
       "      <td>4.076962e-04</td>\n",
       "      <td>0.073767</td>\n",
       "      <td>0.014188</td>\n",
       "    </tr>\n",
       "    <tr>\n",
       "      <th>8</th>\n",
       "      <td>0.010805</td>\n",
       "      <td>0.002788</td>\n",
       "      <td>0.427924</td>\n",
       "      <td>0.468425</td>\n",
       "      <td>10</td>\n",
       "      <td>{'ridge__alpha': 10.0}</td>\n",
       "      <td>9</td>\n",
       "      <td>0.554743</td>\n",
       "      <td>0.446026</td>\n",
       "      <td>0.386936</td>\n",
       "      <td>...</td>\n",
       "      <td>0.362755</td>\n",
       "      <td>0.480409</td>\n",
       "      <td>0.424426</td>\n",
       "      <td>0.475929</td>\n",
       "      <td>0.410760</td>\n",
       "      <td>0.476644</td>\n",
       "      <td>1.167296e-03</td>\n",
       "      <td>7.526176e-04</td>\n",
       "      <td>0.066809</td>\n",
       "      <td>0.012628</td>\n",
       "    </tr>\n",
       "    <tr>\n",
       "      <th>9</th>\n",
       "      <td>0.009406</td>\n",
       "      <td>0.002598</td>\n",
       "      <td>0.414148</td>\n",
       "      <td>0.446090</td>\n",
       "      <td>31.6228</td>\n",
       "      <td>{'ridge__alpha': 31.6227766017}</td>\n",
       "      <td>10</td>\n",
       "      <td>0.528943</td>\n",
       "      <td>0.425864</td>\n",
       "      <td>0.399279</td>\n",
       "      <td>...</td>\n",
       "      <td>0.339905</td>\n",
       "      <td>0.459064</td>\n",
       "      <td>0.405690</td>\n",
       "      <td>0.453850</td>\n",
       "      <td>0.396924</td>\n",
       "      <td>0.452834</td>\n",
       "      <td>5.032363e-04</td>\n",
       "      <td>7.993341e-04</td>\n",
       "      <td>0.062095</td>\n",
       "      <td>0.012130</td>\n",
       "    </tr>\n",
       "    <tr>\n",
       "      <th>10</th>\n",
       "      <td>0.009196</td>\n",
       "      <td>0.002803</td>\n",
       "      <td>0.390130</td>\n",
       "      <td>0.414720</td>\n",
       "      <td>100</td>\n",
       "      <td>{'ridge__alpha': 100.0}</td>\n",
       "      <td>11</td>\n",
       "      <td>0.496972</td>\n",
       "      <td>0.397389</td>\n",
       "      <td>0.384987</td>\n",
       "      <td>...</td>\n",
       "      <td>0.311055</td>\n",
       "      <td>0.429713</td>\n",
       "      <td>0.381735</td>\n",
       "      <td>0.422544</td>\n",
       "      <td>0.375899</td>\n",
       "      <td>0.421183</td>\n",
       "      <td>9.782461e-04</td>\n",
       "      <td>7.499558e-04</td>\n",
       "      <td>0.059946</td>\n",
       "      <td>0.012417</td>\n",
       "    </tr>\n",
       "    <tr>\n",
       "      <th>11</th>\n",
       "      <td>0.008996</td>\n",
       "      <td>0.001999</td>\n",
       "      <td>0.335291</td>\n",
       "      <td>0.355875</td>\n",
       "      <td>316.228</td>\n",
       "      <td>{'ridge__alpha': 316.227766017}</td>\n",
       "      <td>12</td>\n",
       "      <td>0.435184</td>\n",
       "      <td>0.341569</td>\n",
       "      <td>0.317164</td>\n",
       "      <td>...</td>\n",
       "      <td>0.263818</td>\n",
       "      <td>0.373892</td>\n",
       "      <td>0.332206</td>\n",
       "      <td>0.361839</td>\n",
       "      <td>0.328081</td>\n",
       "      <td>0.360651</td>\n",
       "      <td>4.768372e-07</td>\n",
       "      <td>1.907349e-07</td>\n",
       "      <td>0.055636</td>\n",
       "      <td>0.012621</td>\n",
       "    </tr>\n",
       "    <tr>\n",
       "      <th>12</th>\n",
       "      <td>0.009397</td>\n",
       "      <td>0.002598</td>\n",
       "      <td>0.257290</td>\n",
       "      <td>0.276805</td>\n",
       "      <td>1000</td>\n",
       "      <td>{'ridge__alpha': 1000.0}</td>\n",
       "      <td>13</td>\n",
       "      <td>0.344051</td>\n",
       "      <td>0.265298</td>\n",
       "      <td>0.219876</td>\n",
       "      <td>...</td>\n",
       "      <td>0.208499</td>\n",
       "      <td>0.294827</td>\n",
       "      <td>0.258938</td>\n",
       "      <td>0.280533</td>\n",
       "      <td>0.255085</td>\n",
       "      <td>0.279388</td>\n",
       "      <td>1.019630e-03</td>\n",
       "      <td>7.997514e-04</td>\n",
       "      <td>0.047572</td>\n",
       "      <td>0.011333</td>\n",
       "    </tr>\n",
       "  </tbody>\n",
       "</table>\n",
       "<p>13 rows × 21 columns</p>\n",
       "</div>"
      ],
      "text/plain": [
       "    mean_fit_time  mean_score_time  mean_test_score  mean_train_score  \\\n",
       "0        0.016793         0.003597         0.479291          0.539024   \n",
       "1        0.011795         0.003398         0.481708          0.538773   \n",
       "2        0.010192         0.002399         0.484143          0.537848   \n",
       "3        0.009194         0.001999         0.486815          0.535227   \n",
       "4        0.008596         0.002598         0.486288          0.530390   \n",
       "5        0.009396         0.002398         0.479837          0.523087   \n",
       "6        0.009197         0.002198         0.466990          0.511497   \n",
       "7        0.009190         0.002203         0.447150          0.492336   \n",
       "8        0.010805         0.002788         0.427924          0.468425   \n",
       "9        0.009406         0.002598         0.414148          0.446090   \n",
       "10       0.009196         0.002803         0.390130          0.414720   \n",
       "11       0.008996         0.001999         0.335291          0.355875   \n",
       "12       0.009397         0.002598         0.257290          0.276805   \n",
       "\n",
       "   param_ridge__alpha                              params  rank_test_score  \\\n",
       "0               0.001             {'ridge__alpha': 0.001}                6   \n",
       "1          0.00316228  {'ridge__alpha': 0.00316227766017}                4   \n",
       "2                0.01              {'ridge__alpha': 0.01}                3   \n",
       "3           0.0316228   {'ridge__alpha': 0.0316227766017}                1   \n",
       "4                 0.1               {'ridge__alpha': 0.1}                2   \n",
       "5            0.316228    {'ridge__alpha': 0.316227766017}                5   \n",
       "6                   1               {'ridge__alpha': 1.0}                7   \n",
       "7             3.16228     {'ridge__alpha': 3.16227766017}                8   \n",
       "8                  10              {'ridge__alpha': 10.0}                9   \n",
       "9             31.6228     {'ridge__alpha': 31.6227766017}               10   \n",
       "10                100             {'ridge__alpha': 100.0}               11   \n",
       "11            316.228     {'ridge__alpha': 316.227766017}               12   \n",
       "12               1000            {'ridge__alpha': 1000.0}               13   \n",
       "\n",
       "    split0_test_score  split0_train_score  split1_test_score       ...         \\\n",
       "0            0.656923            0.506853           0.442548       ...          \n",
       "1            0.657250            0.506761           0.440809       ...          \n",
       "2            0.657492            0.506184           0.439403       ...          \n",
       "3            0.656252            0.504049           0.442888       ...          \n",
       "4            0.651324            0.499716           0.440513       ...          \n",
       "5            0.640233            0.493061           0.425816       ...          \n",
       "6            0.619389            0.482886           0.404478       ...          \n",
       "7            0.587851            0.466739           0.385791       ...          \n",
       "8            0.554743            0.446026           0.386936       ...          \n",
       "9            0.528943            0.425864           0.399279       ...          \n",
       "10           0.496972            0.397389           0.384987       ...          \n",
       "11           0.435184            0.341569           0.317164       ...          \n",
       "12           0.344051            0.265298           0.219876       ...          \n",
       "\n",
       "    split2_test_score  split2_train_score  split3_test_score  \\\n",
       "0            0.431669            0.550241           0.452774   \n",
       "1            0.437017            0.549931           0.457799   \n",
       "2            0.439011            0.548936           0.464130   \n",
       "3            0.437837            0.546325           0.470470   \n",
       "4            0.434854            0.541623           0.474231   \n",
       "5            0.429321            0.534537           0.472467   \n",
       "6            0.416622            0.522940           0.464064   \n",
       "7            0.391321            0.503795           0.446646   \n",
       "8            0.362755            0.480409           0.424426   \n",
       "9            0.339905            0.459064           0.405690   \n",
       "10           0.311055            0.429713           0.381735   \n",
       "11           0.263818            0.373892           0.332206   \n",
       "12           0.208499            0.294827           0.258938   \n",
       "\n",
       "    split3_train_score  split4_test_score  split4_train_score  std_fit_time  \\\n",
       "0             0.548605           0.412542            0.557005  4.163360e-03   \n",
       "1             0.548416           0.415666            0.556744  1.326450e-03   \n",
       "2             0.547659           0.420679            0.555721  1.163138e-03   \n",
       "3             0.545216           0.426627            0.552573  4.000245e-04   \n",
       "4             0.540249           0.430516            0.546835  7.989169e-04   \n",
       "5             0.532318           0.431349            0.538724  1.354997e-03   \n",
       "6             0.519912           0.430395            0.525866  1.469199e-03   \n",
       "7             0.500121           0.424143            0.503854  3.893377e-04   \n",
       "8             0.475929           0.410760            0.476644  1.167296e-03   \n",
       "9             0.453850           0.396924            0.452834  5.032363e-04   \n",
       "10            0.422544           0.375899            0.421183  9.782461e-04   \n",
       "11            0.361839           0.328081            0.360651  4.768372e-07   \n",
       "12            0.280533           0.255085            0.279388  1.019630e-03   \n",
       "\n",
       "    std_score_time  std_test_score  std_train_score  \n",
       "0     4.893377e-04        0.089811         0.017998  \n",
       "1     4.908757e-04        0.088790         0.017950  \n",
       "2     4.907682e-04        0.087769         0.017842  \n",
       "3     5.352484e-07        0.085939         0.017599  \n",
       "4     4.893758e-04        0.083945         0.017215  \n",
       "5     4.903686e-04        0.081978         0.016745  \n",
       "6     3.999721e-04        0.078763         0.015864  \n",
       "7     4.076962e-04        0.073767         0.014188  \n",
       "8     7.526176e-04        0.066809         0.012628  \n",
       "9     7.993341e-04        0.062095         0.012130  \n",
       "10    7.499558e-04        0.059946         0.012417  \n",
       "11    1.907349e-07        0.055636         0.012621  \n",
       "12    7.997514e-04        0.047572         0.011333  \n",
       "\n",
       "[13 rows x 21 columns]"
      ]
     },
     "execution_count": 30,
     "metadata": {},
     "output_type": "execute_result"
    }
   ],
   "source": [
    "results"
   ]
  },
  {
   "cell_type": "code",
   "execution_count": 31,
   "metadata": {},
   "outputs": [
    {
     "name": "stdout",
     "output_type": "stream",
     "text": [
      "RandomForest Regression scores:0.4030942039445614\n"
     ]
    },
    {
     "data": {
      "text/plain": [
       "0.35800113173216885"
      ]
     },
     "execution_count": 31,
     "metadata": {},
     "output_type": "execute_result"
    }
   ],
   "source": [
    "from sklearn.ensemble import RandomForestRegressor\n",
    "regr = RandomForestRegressor(max_depth=4, max_features =None,random_state=0)\n",
    "regr.fit(train_X,train_y)\n",
    "y_pred = regr.predict(test_X)\n",
    "scoring ='r2'\n",
    "regr_scores  = np.mean(cross_val_score(regr, train_X, train_y, cv=5,scoring=scoring))\n",
    "print(\"RandomForest Regression scores:{0}\".format(regr_scores))\n",
    "from sklearn.metrics import r2_score\n",
    "r2_score(test_y, y_pred) "
   ]
  },
  {
   "cell_type": "code",
   "execution_count": 32,
   "metadata": {},
   "outputs": [
    {
     "name": "stdout",
     "output_type": "stream",
     "text": [
      "Fitting 3 folds for each of 8 candidates, totalling 24 fits\n"
     ]
    },
    {
     "name": "stderr",
     "output_type": "stream",
     "text": [
      "[Parallel(n_jobs=-1)]: Done  24 out of  24 | elapsed:  1.1min finished\n"
     ]
    },
    {
     "data": {
      "text/plain": [
       "{'max_depth': 5,\n",
       " 'max_features': 'auto',\n",
       " 'min_samples_leaf': 8,\n",
       " 'n_estimators': 1500}"
      ]
     },
     "execution_count": 32,
     "metadata": {},
     "output_type": "execute_result"
    }
   ],
   "source": [
    "from sklearn.model_selection import GridSearchCV\n",
    "# Create the parameter grid based on the results of random search \n",
    "param_grid = {\n",
    "    \n",
    "    'max_depth': [3,5],\n",
    "    'max_features': ['auto'],\n",
    "    'min_samples_leaf': [3,5,8,13],\n",
    "     \n",
    "    'n_estimators': [1500]\n",
    "}\n",
    "# Create a based model\n",
    "rf = RandomForestRegressor()\n",
    "# Instantiate the grid search model\n",
    "grid_search = GridSearchCV(estimator = rf, param_grid = param_grid, \n",
    "                          cv = 3, n_jobs = -1, verbose = 2)\n",
    "grid_search.fit(train_X,train_y)\n",
    "grid_search.best_params_"
   ]
  },
  {
   "cell_type": "code",
   "execution_count": 33,
   "metadata": {},
   "outputs": [
    {
     "name": "stdout",
     "output_type": "stream",
     "text": [
      "RandomForest Regression scores:0.44584855201077367\n",
      "Root Mean Square Error:21244.520856098563\n"
     ]
    }
   ],
   "source": [
    "from sklearn import metrics\n",
    "from sklearn.metrics import r2_score\n",
    "regr =grid_search.best_estimator_\n",
    "regr.fit(train_X,train_y)\n",
    "y_pred = regr.predict(test_X)\n",
    "\n",
    "regr_scores  = np.mean(cross_val_score(regr, train_X, train_y, cv=5))\n",
    "print(\"RandomForest Regression scores:{0}\".format(regr_scores))\n",
    "import numpy as np\n",
    "from sklearn import metrics\n",
    "print(\"Root Mean Square Error:{0}\".format(np.sqrt(metrics.mean_squared_error(test_y, y_pred))))"
   ]
  },
  {
   "cell_type": "code",
   "execution_count": 34,
   "metadata": {},
   "outputs": [
    {
     "name": "stdout",
     "output_type": "stream",
     "text": [
      "R2 value :0.40265232064819856\n"
     ]
    }
   ],
   "source": [
    "from sklearn.metrics import r2_score\n",
    "adv_r2 =r2_score(test_y, y_pred)  \n",
    "print(\"R2 value :{0}\".format(adv_r2))"
   ]
  },
  {
   "cell_type": "code",
   "execution_count": null,
   "metadata": {
    "collapsed": true
   },
   "outputs": [],
   "source": []
  },
  {
   "cell_type": "code",
   "execution_count": null,
   "metadata": {
    "collapsed": true
   },
   "outputs": [],
   "source": []
  }
 ],
 "metadata": {
  "kernelspec": {
   "display_name": "Python 3",
   "language": "python",
   "name": "python3"
  },
  "language_info": {
   "codemirror_mode": {
    "name": "ipython",
    "version": 3
   },
   "file_extension": ".py",
   "mimetype": "text/x-python",
   "name": "python",
   "nbconvert_exporter": "python",
   "pygments_lexer": "ipython3",
   "version": "3.5.5"
  }
 },
 "nbformat": 4,
 "nbformat_minor": 2
}
