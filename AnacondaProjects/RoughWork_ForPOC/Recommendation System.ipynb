{
 "cells": [
  {
   "cell_type": "markdown",
   "metadata": {},
   "source": [
    "#### Recommendation Engine"
   ]
  },
  {
   "cell_type": "markdown",
   "metadata": {},
   "source": [
    "Given large set of X rules available based on existing reconciliations,build a Y rule recommendation system based on the following\n",
    "\n",
    "- Y rule is configured using one or more X attributes\n",
    "- Given many X rules , find out which combination of X keys  occur frequently\n",
    "- Also determine the which frequency combinations are unexpected\n",
    "\n",
    "**Input** : Rec Type and Schema of X attributes\n",
    "\n",
    "**Output**:Probable list of Y rules \n",
    "\n",
    "\n",
    "---"
   ]
  },
  {
   "cell_type": "markdown",
   "metadata": {},
   "source": [
    "#### Association rules with antecedent and  consequent\n",
    "\n",
    "To identify and evaluvate association rules, three things are key"
   ]
  },
  {
   "cell_type": "markdown",
   "metadata": {},
   "source": [
    "- How frequent itemsets or consequent and antecedent purchased together : **support(Prevalence)**\n",
    "- Given purchase of antecedent how likely is the purchase of the consequent : **Confidence(Predictablity)**\n",
    "- How much likely is this association than we would expect by chance :**Lift(Interest)**\n",
    "\n",
    "**Note**\n",
    "- Association rules does not imply causality\n",
    "- Type 1 errors - accepting false rules\n",
    "- Type 2 errors  - missing significant rules\n",
    "\n",
    "---"
   ]
  },
  {
   "cell_type": "markdown",
   "metadata": {},
   "source": [
    "{A(i)}=> {C(i)}\n",
    "\n",
    "This rule indicates that based on the history of all the transactions, when Item A is found in a transaction or a basket, there is a strong propensity of the occurrence of Item C within the same transaction.\n",
    "\n",
    "The set of items on the left-hand side is the **antecedent** of the rule,while the one to the right is the **consequent**.\n",
    "\n",
    "- The antecedent and consequent of the rule can contain more than one item, like Item A and Item C. "
   ]
  },
  {
   "cell_type": "markdown",
   "metadata": {},
   "source": [
    "|Session ID|News|Finance|Entertainment|Sports|Arts|\n",
    "|----------|----|-------|-------------|------|----|\n",
    "|1\t|1|\t1|\t0|\t0|\t0|\n",
    "|2\t|1|\t1|\t0|\t0|\t0|\n",
    "|3\t|1|\t1|\t0|\t1|\t0|\n",
    "|4\t|0|\t0|\t0|\t0|\t1|\n",
    "|5\t|1|\t1|\t0|\t1|\t0|\n",
    "|6\t|1|\t0|\t1|\t0|\t1|"
   ]
  },
  {
   "cell_type": "markdown",
   "metadata": {},
   "source": [
    "---\n",
    "#### Support :\n",
    "The probability that the antecedent event will occur, is the **support** of the rule.That simply refers to the relative frequency that an itemset appears in transactions. \n",
    "\n",
    "**S{itemset}** =  **# txn with item set / # txn**\n",
    "\n",
    "From the above example:\n",
    "\n",
    "- Support({News})=5/6=0.83\n",
    "- Support({News, Finance})=4/6 =0.67\n",
    "- Support({Sports})=2/6=0.33\n",
    "\n",
    "The support measure for a rule indicates whether a rule is worth considering. Since the support measure favors the items where there is high occurrence, it uncovers the patterns that are worth taking advantage of and investigating.\n",
    "\n",
    "In association analysis, a threshold of support is specified to filter out infrequent rules. Any rule that exceeds the support threshold is then considered for further analysis."
   ]
  },
  {
   "cell_type": "markdown",
   "metadata": {},
   "source": [
    "---\n",
    "#### Confidence\n",
    "The probability that a transaction that contains the items on the left hand side of the rule also contains the item on the right hand side.The higher the confidence, the greater the likelihood that the item on the right hand side\n",
    "\n",
    "**C({A=>C})  = **# txn with both(A&C ) / # txn with A**\n",
    "\n",
    "In the case of the rule {News, Finance}→{Sports}, the question that the confidence measure answers is, if a transaction has both News and Finance, what is the likelihood of seeing Sports in it?\n",
    "\n",
    "Confidence({News, Finance,Sports}) = support({News, Finance,Sports})/support({News, Finance})\n",
    "\n",
    "support({{News, Finance,Sports}) =2/6 =0.33\n",
    "\n",
    "Support({News, Finance})= 4/6=0.67\n",
    "\n",
    "Confidence({News, Finance,Sports}) =0.33/0.67 =0.5\n",
    "\n",
    "##### What  does confidence means in this case  ? Half of the transactions that contain News and Finance also contain Sports. This means that 50% of the users who visit the news and finance pages also visit the sports pages."
   ]
  },
  {
   "cell_type": "markdown",
   "metadata": {},
   "source": [
    "---\n",
    "#### Lift\n",
    "\n",
    "**Need for Lift :**\n",
    "\n",
    "Though confidence of the rule is widely used, the frequency of occurrence of a rule consequent (conclusion) is largely ignored. In some transaction itemsets, this can provide spurious scrupulous rule sets because of the presence of infrequent items in the rule consequent.\n",
    "\n",
    "To solve this, the support of a consequent can be put in the denominator of a confidence calculation. This measure is called the lift of the rule.\n",
    "\n",
    "Lift is the ratio of the observed support of {News and Finance} and {Sports} with what is expected if {News and Finance} and {Sports} usage were completely independent. \n",
    "\n",
    "\n",
    "**L({A=>C}) = S({A=>C}) /S(C).S(A)**\n",
    "\n",
    "Lift({News, Finance} -> Sports) = support({News, Finance,Sports})/( support({News, Finance}) * support({Sports})\n",
    "\n",
    "Lift({News, Finance} -> Sports)  =0.33/(0.67 * 0.33) =1.5\n",
    "\n",
    "\n",
    "**Few things to note on lift:** \n",
    "\n",
    "- A lift greater than 1 suggests that the presence of the antecedent increases the chances that the consequent will occur in a given transaction\n",
    "\n",
    "- Lift below 1 indicates that purchasing the antecedent reduces the chances of purchasing the consequent in the same transaction.\n",
    "**Note**: This could indicate that the items are seen by customers as alternatives to each other\n",
    " \n",
    "- When the lift is 1, then purchasing the antecedent makes no difference on the chances of purchasing the consequent\n",
    "\n",
    "---"
   ]
  },
  {
   "cell_type": "markdown",
   "metadata": {},
   "source": [
    "#### Conviction\n",
    "The conviction of the rule X→Y is the ratio of the expected frequency of X occurring in spite of Y and the observed frequency of incorrect predictions.Conviction takes into account the direction of the rule. The conviction of (X→Y) is not the same as the conviction of (Y→X). The conviction of a rule (X→Y) can be calculated by\n",
    "\n",
    "Conviction(X→Y) = 1 -Support(Y) / 1-Confidence(X→Y)\n",
    "\n",
    "Conviction({News,Finance}-> {Sports}) =  1- 0.33 /1-0.5 = 1.32\n",
    "\n",
    "A conviction of 1.32 means that the rule ({News, Finance}→{Sports}) would be incorrect 32% more often if the relationship between {News, Finance} and {Sports} is purely random."
   ]
  },
  {
   "cell_type": "markdown",
   "metadata": {},
   "source": [
    "#### Mining Association Rules\n",
    "\n",
    "- Step 1: Prepare the data in transaction format. An association algorithm needs input data to be formatted in transaction format tx={i1, i2, i3}.\n",
    "\n",
    "- Step 2: Short-list frequently occurring itemsets. Itemsets are combinations of items. An association algorithm limits the analysis to the most frequently occurring items, so that the final rule set extracted in the next step is more meaningful.\n",
    "\n",
    "- Step 3: Generate relevant association rules from itemsets. Finally, the algorithm generates and filters the rules based on the interest measure."
   ]
  },
  {
   "cell_type": "markdown",
   "metadata": {},
   "source": [
    "---\n",
    "#### Apriori Algorithm\n",
    "The Apriori principles states that “If an itemset is frequent, then all its subset items will be frequent.” The itemset is “frequent” if the support for the itemset is more than that of the support threshold.\n",
    "\n",
    "\n"
   ]
  },
  {
   "cell_type": "markdown",
   "metadata": {},
   "source": [
    "####  References\n",
    "- https://blogs.gartner.com/martin-kihn/how-to-build-a-recommender-system-in-python/\n",
    "\n",
    "- Chapter06 Data Science, 2nd Edition by Bala Deshpande, Vijay Kotu\n"
   ]
  },
  {
   "cell_type": "markdown",
   "metadata": {},
   "source": []
  }
 ],
 "metadata": {
  "kernelspec": {
   "display_name": "Python 3",
   "language": "python",
   "name": "python3"
  },
  "language_info": {
   "codemirror_mode": {
    "name": "ipython",
    "version": 3
   },
   "file_extension": ".py",
   "mimetype": "text/x-python",
   "name": "python",
   "nbconvert_exporter": "python",
   "pygments_lexer": "ipython3",
   "version": "3.7.1"
  }
 },
 "nbformat": 4,
 "nbformat_minor": 2
}
