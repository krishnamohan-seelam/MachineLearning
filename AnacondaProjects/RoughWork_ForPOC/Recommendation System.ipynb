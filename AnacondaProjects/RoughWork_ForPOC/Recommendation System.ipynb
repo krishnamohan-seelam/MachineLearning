{
 "cells": [
  {
   "cell_type": "markdown",
   "metadata": {},
   "source": [
    "#### Recommendation Engine"
   ]
  },
  {
   "cell_type": "markdown",
   "metadata": {},
   "source": [
    "Given large set of Y rules available based on existing reconciliations,build a Y rule recommendation system based on the following\n",
    "\n",
    "- Y rule is configured using one or more X attributes\n",
    "- Given many X rules , find out which combination of X keys  occur frequently\n",
    "- Also determine the which frequency combinations are unexpected\n",
    "\n",
    "**Input** :X Type and Schema of X attributes\n",
    "\n",
    "**Output**:Probable list of Y rules \n",
    "\n",
    "\n",
    "---"
   ]
  },
  {
   "cell_type": "markdown",
   "metadata": {},
   "source": [
    "#### Association rules with antecedent and  consequent\n",
    "\n",
    "To identify and evaluvate association rules, three things are key"
   ]
  },
  {
   "cell_type": "markdown",
   "metadata": {},
   "source": [
    "- How frequent itemsets or consequent and antecedent purchased together : **support(Prevalence)**\n",
    "- Given purchase of antecedent how likely is the purchase of the consequent : **Confidence(Predictablity)**\n",
    "- How much likely is this association than we would expect by chance :**Lift(Interest)**\n",
    "\n",
    "**Note**\n",
    "- Association rules does not imply causality\n",
    "- Type 1 errors - accepting false rules\n",
    "- Type 2 errors  - missing significant rules\n",
    "\n",
    "---"
   ]
  },
  {
   "cell_type": "markdown",
   "metadata": {},
   "source": [
    "#### Support\n",
    "**S{itemset}** =  **# txn with item set / # txn**\n",
    "\n",
    "\n",
    "#### Confidence\n",
    "A: antecedent, C:consequent\n",
    "\n",
    "**C({A=>C})  = **# txn with both(A &C ) / # txn with A**\n",
    "\n",
    "#### Lift\n",
    "\n",
    "**L({A=>C}) = S({A=>C}) /S(C).S(A)**\n",
    "\n",
    "---"
   ]
  },
  {
   "cell_type": "markdown",
   "metadata": {},
   "source": [
    "|Transaction ID|Wine|Chips|Bread|Milk|\n",
    "|--------------|----|-----|-----|----|\n",
    "|1|1|1|1|1                           |\n",
    "|2|1|0|1|1                           |\n",
    "|3|0|0|1|1                           |\n",
    "|4|0|1|0|0                           |\n",
    "|5|1|1|1|1                           |\n",
    "|6|1|1|0|1                           |"
   ]
  },
  {
   "cell_type": "code",
   "execution_count": null,
   "metadata": {},
   "outputs": [],
   "source": []
  }
 ],
 "metadata": {
  "kernelspec": {
   "display_name": "Python 3",
   "language": "python",
   "name": "python3"
  },
  "language_info": {
   "codemirror_mode": {
    "name": "ipython",
    "version": 3
   },
   "file_extension": ".py",
   "mimetype": "text/x-python",
   "name": "python",
   "nbconvert_exporter": "python",
   "pygments_lexer": "ipython3",
   "version": "3.7.1"
  }
 },
 "nbformat": 4,
 "nbformat_minor": 2
}
