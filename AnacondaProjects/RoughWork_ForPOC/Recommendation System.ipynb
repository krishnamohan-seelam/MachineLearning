{
 "cells": [
  {
   "cell_type": "markdown",
   "metadata": {},
   "source": [
    "#### Recommendation Engine"
   ]
  },
  {
   "cell_type": "markdown",
   "metadata": {},
   "source": [
    "Given large set of Y rules available based on existing reconciliations,build a Y rule recommendation system based on the following\n",
    "\n",
    "- Y rule is configured using one or more X attributes\n",
    "- Given many X rules , find out which combination of X keys  occur frequently\n",
    "- Also determine the which frequency combinations are unexpected\n",
    "\n",
    "**Input** :X Type and Schema of X attributes\n",
    "\n",
    "**Output**:Probable list of Y rules \n",
    "\n",
    "\n",
    "---"
   ]
  },
  {
   "cell_type": "markdown",
   "metadata": {},
   "source": [
    "#### Association rules with antecedent and  consequent\n",
    "\n",
    "To identify and evaluvate association rules, three things are key"
   ]
  },
  {
   "cell_type": "markdown",
   "metadata": {},
   "source": [
    "- How frequent itemsets or consequent and antecedent purchased together : **support(Prevalence)**\n",
    "- Given purchase of antecedent how likely is the purchase of the consequent : **Confidence(Predictablity)**\n",
    "- How much likely is this association than we would expect by chance :**Lift(Interest)**\n",
    "\n",
    "**Note**\n",
    "- Association rules does not imply causality\n",
    "- Type 1 errors - accepting false rules\n",
    "- Type 2 errors  - missing significant rules\n",
    "\n",
    "---"
   ]
  },
  {
   "cell_type": "markdown",
   "metadata": {},
   "source": [
    "{A(i)}=> {C(i)}\n",
    "\n",
    "This rule indicates that based on the history of all the transactions, when Item A is found in a transaction or a basket, there is a strong propensity of the occurrence of Item C within the same transaction.\n",
    "\n",
    "The set of items on the left-hand side is the **antecedent** of the rule,while the one to the right is the **consequent**.\n",
    "\n",
    "- The antecedent and consequent of the rule can contain more than one item, like Item A and Item C. \n",
    "\n",
    "#### Support :\n",
    "The probability that the antecedent event will occur, is the **support** of the rule.That simply refers to the relative frequency that an itemset appears in transactions. \n",
    "\n",
    "**S{itemset}** =  **# txn with item set / # txn**\n",
    "\n",
    "\n",
    "#### Confidence\n",
    "The probability that a transaction that contains the items on the left hand side of the rule also contains the item on the right hand side.The higher the confidence, the greater the likelihood that the item on the right hand side\n",
    "\n",
    "**C({A=>C})  = **# txn with both(A &C ) / # txn with A**\n",
    "\n",
    "#### Lift\n",
    "The lift of the rule is the ratio of the support of the left-hand side of the rule co-occurring with the right-hand side  divided by the probability that the left-hand side and right-hand side co-occur if the two are independent.\n",
    "\n",
    "\n",
    "**L({A=>C}) = S({A=>C}) /S(C).S(A)**\n",
    "\n",
    "- A lift greater than 1 suggests that the presence of the antecedent increases the chances that the consequent will occur in a given transaction\n",
    "- Lift below 1 indicates that purchasing the antecedent reduces the chances of purchasing the consequent in the same transaction. \n",
    " **Note**: This could indicate that the items are seen by customers as alternatives to each other\n",
    "- When the lift is 1, then purchasing the antecedent makes no difference on the chances of purchasing the consequent\n",
    "\n",
    "---"
   ]
  },
  {
   "cell_type": "markdown",
   "metadata": {},
   "source": [
    "|Transaction ID|Wine|Chips|Bread|Milk|\n",
    "|--------------|----|-----|-----|----|\n",
    "|1|1|1|1|1                           |\n",
    "|2|1|0|1|1                           |\n",
    "|3|0|0|1|1                           |\n",
    "|4|0|1|0|0                           |\n",
    "|5|1|1|1|1                           |\n",
    "|6|1|1|0|1                           |"
   ]
  },
  {
   "cell_type": "markdown",
   "metadata": {},
   "source": [
    "#### Mining Association Rules\n",
    "\n",
    "- Step 1: Prepare the data in transaction format. An association algorithm needs input data to be formatted in transaction format tx={i1, i2, i3}.\n",
    "\n",
    "- Step 2: Short-list frequently occurring itemsets. Itemsets are combinations of items. An association algorithm limits the analysis to the most frequently occurring items, so that the final rule set extracted in the next step is more meaningful.\n",
    "\n",
    "- Step 3: Generate relevant association rules from itemsets. Finally, the algorithm generates and filters the rules based on the interest measure."
   ]
  },
  {
   "cell_type": "markdown",
   "metadata": {},
   "source": [
    "####  References\n",
    "- https://blogs.gartner.com/martin-kihn/how-to-build-a-recommender-system-in-python/\n",
    "\n",
    "- Chapter06 Data Science, 2nd Edition by Bala Deshpande, Vijay Kotu\n"
   ]
  },
  {
   "cell_type": "code",
   "execution_count": null,
   "metadata": {},
   "outputs": [],
   "source": []
  }
 ],
 "metadata": {
  "kernelspec": {
   "display_name": "Python 3",
   "language": "python",
   "name": "python3"
  },
  "language_info": {
   "codemirror_mode": {
    "name": "ipython",
    "version": 3
   },
   "file_extension": ".py",
   "mimetype": "text/x-python",
   "name": "python",
   "nbconvert_exporter": "python",
   "pygments_lexer": "ipython3",
   "version": "3.7.1"
  }
 },
 "nbformat": 4,
 "nbformat_minor": 2
}
