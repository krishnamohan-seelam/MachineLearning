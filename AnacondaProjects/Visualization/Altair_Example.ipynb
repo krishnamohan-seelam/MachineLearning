{
 "cells": [
  {
   "cell_type": "code",
   "execution_count": 1,
   "metadata": {},
   "outputs": [],
   "source": [
    "%load_ext autoreload\n",
    "%autoreload 2"
   ]
  },
  {
   "cell_type": "code",
   "execution_count": 2,
   "metadata": {},
   "outputs": [
    {
     "name": "stderr",
     "output_type": "stream",
     "text": [
      "UsageError: Line magic function `%` not found.\n",
      "21-Apr-19 20:26:26 - DEBUG - Loaded backend module://ipykernel.pylab.backend_inline version unknown.\n"
     ]
    }
   ],
   "source": [
    "import pathlib\n",
    "import numpy as np\n",
    "import pandas as pd\n",
    "from mlsettings.settings import load_app_config, get_datafolder_path\n",
    "from mltools.modelbuilder.supervised import SupervisedDataLoader\n",
    "import warnings\n",
    "warnings.filterwarnings('ignore')\n",
    "% matplotlib inline \n",
    "np.set_printoptions(precision=4)\n",
    "\n",
    "pd.set_option('display.width', 200)\n",
    "pd.set_option('precision', 4)\n",
    "pd.set_option('display.width', 500)\n",
    "pd.set_option('display.max_columns', 100)\n",
    "pd.set_option('display.notebook_repr_html', True)\n",
    "pd.options.display.float_format = '{:,.4f}'.format\n",
    "\n",
    "import logging\n",
    "logger = logging.getLogger()\n",
    "formatter = logging.Formatter('%(asctime)s - %(name)s - %(levelname)s - %(message)s', datefmt='%d-%b-%y %H:%M:%S')\n",
    "logger.setLevel(logging.DEBUG)"
   ]
  },
  {
   "cell_type": "code",
   "execution_count": 3,
   "metadata": {},
   "outputs": [
    {
     "name": "stderr",
     "output_type": "stream",
     "text": [
      "21-Apr-19 20:26:32 - INFO - Adding D:\\DataSource to system path\n",
      "21-Apr-19 20:26:32 - INFO - Adding D:\\MachineLearning to system path\n"
     ]
    }
   ],
   "source": [
    "load_app_config()\n",
    "DATA_DIRECTORY='HRAnalytics'\n",
    "TRAIN_FILE  = \"train.csv\"\n",
    "TEST_FILE  = \"test.csv\"\n",
    "RESPONSE = \"is_promoted\"\n",
    "input_path = get_datafolder_path()"
   ]
  },
  {
   "cell_type": "code",
   "execution_count": 4,
   "metadata": {},
   "outputs": [],
   "source": [
    "filepath  = pathlib.Path(input_path).joinpath(DATA_DIRECTORY)\n",
    "train_filepath = filepath.joinpath(TRAIN_FILE)\n",
    "test_filepath = filepath.joinpath(TEST_FILE)"
   ]
  },
  {
   "cell_type": "code",
   "execution_count": 5,
   "metadata": {},
   "outputs": [],
   "source": [
    "def data_retrieval(train_filepath,test_filepath,response= RESPONSE):\n",
    "    supervisedloader = SupervisedDataLoader(train_file=train_filepath,test_file=test_filepath,response =RESPONSE) \n",
    "    train_dataset,test_dataset = supervisedloader.load()\n",
    "    return train_dataset,test_dataset\n"
   ]
  },
  {
   "cell_type": "code",
   "execution_count": 6,
   "metadata": {},
   "outputs": [
    {
     "name": "stderr",
     "output_type": "stream",
     "text": [
      "21-Apr-19 20:29:01 - INFO - Loading train_file :D:\\DataSource\\HRAnalytics\\train.csv\n",
      "21-Apr-19 20:29:02 - INFO - Loading test_file :D:\\DataSource\\HRAnalytics\\test.csv\n"
     ]
    }
   ],
   "source": [
    "train_dataset,test_dataset =data_retrieval(train_filepath,test_filepath,RESPONSE)"
   ]
  },
  {
   "cell_type": "code",
   "execution_count": 7,
   "metadata": {},
   "outputs": [],
   "source": [
    "import altair as alt"
   ]
  },
  {
   "cell_type": "code",
   "execution_count": null,
   "metadata": {},
   "outputs": [],
   "source": []
  }
 ],
 "metadata": {
  "kernelspec": {
   "display_name": "Python 3",
   "language": "python",
   "name": "python3"
  },
  "language_info": {
   "codemirror_mode": {
    "name": "ipython",
    "version": 3
   },
   "file_extension": ".py",
   "mimetype": "text/x-python",
   "name": "python",
   "nbconvert_exporter": "python",
   "pygments_lexer": "ipython3",
   "version": "3.7.1"
  }
 },
 "nbformat": 4,
 "nbformat_minor": 2
}
