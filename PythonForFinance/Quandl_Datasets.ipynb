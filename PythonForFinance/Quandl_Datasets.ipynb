{
 "cells": [
  {
   "cell_type": "code",
   "execution_count": 1,
   "metadata": {},
   "outputs": [],
   "source": [
    "import quandl"
   ]
  },
  {
   "cell_type": "code",
   "execution_count": 2,
   "metadata": {},
   "outputs": [],
   "source": [
    "import os"
   ]
  },
  {
   "cell_type": "code",
   "execution_count": 3,
   "metadata": {},
   "outputs": [],
   "source": [
    "QUANDL_API_KEY  = os.environ.get('QUANDL_APIKEY',None)\n",
    "if not QUANDL_API_KEY:\n",
    "    raise ValueError(\"Quandl API key not available\")"
   ]
  },
  {
   "cell_type": "code",
   "execution_count": 4,
   "metadata": {},
   "outputs": [],
   "source": [
    "quandl.ApiConfig.api_key = QUANDL_API_KEY"
   ]
  },
  {
   "cell_type": "code",
   "execution_count": 5,
   "metadata": {},
   "outputs": [],
   "source": [
    "df = quandl.get('EURONEXT/ABN')"
   ]
  },
  {
   "cell_type": "code",
   "execution_count": 6,
   "metadata": {},
   "outputs": [
    {
     "data": {
      "text/html": [
       "<div>\n",
       "<style scoped>\n",
       "    .dataframe tbody tr th:only-of-type {\n",
       "        vertical-align: middle;\n",
       "    }\n",
       "\n",
       "    .dataframe tbody tr th {\n",
       "        vertical-align: top;\n",
       "    }\n",
       "\n",
       "    .dataframe thead th {\n",
       "        text-align: right;\n",
       "    }\n",
       "</style>\n",
       "<table border=\"1\" class=\"dataframe\">\n",
       "  <thead>\n",
       "    <tr style=\"text-align: right;\">\n",
       "      <th></th>\n",
       "      <th>Open</th>\n",
       "      <th>High</th>\n",
       "      <th>Low</th>\n",
       "      <th>Last</th>\n",
       "      <th>Volume</th>\n",
       "      <th>Turnover</th>\n",
       "    </tr>\n",
       "    <tr>\n",
       "      <th>Date</th>\n",
       "      <th></th>\n",
       "      <th></th>\n",
       "      <th></th>\n",
       "      <th></th>\n",
       "      <th></th>\n",
       "      <th></th>\n",
       "    </tr>\n",
       "  </thead>\n",
       "  <tbody>\n",
       "    <tr>\n",
       "      <td>2015-11-20</td>\n",
       "      <td>18.18</td>\n",
       "      <td>18.43</td>\n",
       "      <td>18.000</td>\n",
       "      <td>18.35</td>\n",
       "      <td>38392898.0</td>\n",
       "      <td>7.003281e+08</td>\n",
       "    </tr>\n",
       "    <tr>\n",
       "      <td>2015-11-23</td>\n",
       "      <td>18.45</td>\n",
       "      <td>18.70</td>\n",
       "      <td>18.215</td>\n",
       "      <td>18.61</td>\n",
       "      <td>3352514.0</td>\n",
       "      <td>6.186446e+07</td>\n",
       "    </tr>\n",
       "    <tr>\n",
       "      <td>2015-11-24</td>\n",
       "      <td>18.70</td>\n",
       "      <td>18.80</td>\n",
       "      <td>18.370</td>\n",
       "      <td>18.80</td>\n",
       "      <td>4871901.0</td>\n",
       "      <td>8.994087e+07</td>\n",
       "    </tr>\n",
       "    <tr>\n",
       "      <td>2015-11-25</td>\n",
       "      <td>18.85</td>\n",
       "      <td>19.50</td>\n",
       "      <td>18.770</td>\n",
       "      <td>19.45</td>\n",
       "      <td>4802607.0</td>\n",
       "      <td>9.153862e+07</td>\n",
       "    </tr>\n",
       "    <tr>\n",
       "      <td>2015-11-26</td>\n",
       "      <td>19.48</td>\n",
       "      <td>19.67</td>\n",
       "      <td>19.410</td>\n",
       "      <td>19.43</td>\n",
       "      <td>1648481.0</td>\n",
       "      <td>3.220713e+07</td>\n",
       "    </tr>\n",
       "  </tbody>\n",
       "</table>\n",
       "</div>"
      ],
      "text/plain": [
       "             Open   High     Low   Last      Volume      Turnover\n",
       "Date                                                             \n",
       "2015-11-20  18.18  18.43  18.000  18.35  38392898.0  7.003281e+08\n",
       "2015-11-23  18.45  18.70  18.215  18.61   3352514.0  6.186446e+07\n",
       "2015-11-24  18.70  18.80  18.370  18.80   4871901.0  8.994087e+07\n",
       "2015-11-25  18.85  19.50  18.770  19.45   4802607.0  9.153862e+07\n",
       "2015-11-26  19.48  19.67  19.410  19.43   1648481.0  3.220713e+07"
      ]
     },
     "execution_count": 6,
     "metadata": {},
     "output_type": "execute_result"
    }
   ],
   "source": [
    "df.head()"
   ]
  },
  {
   "cell_type": "code",
   "execution_count": 7,
   "metadata": {},
   "outputs": [],
   "source": [
    "import  matplotlib.pyplot as plt\n",
    "from pandas.plotting import register_matplotlib_converters\n",
    "register_matplotlib_converters()"
   ]
  },
  {
   "cell_type": "code",
   "execution_count": 8,
   "metadata": {},
   "outputs": [],
   "source": [
    "%matplotlib inline"
   ]
  },
  {
   "cell_type": "code",
   "execution_count": 9,
   "metadata": {},
   "outputs": [
    {
     "data": {
      "text/plain": [
       "[<matplotlib.lines.Line2D at 0x12c497aaba8>,\n",
       " <matplotlib.lines.Line2D at 0x12c49a49240>,\n",
       " <matplotlib.lines.Line2D at 0x12c49a49668>,\n",
       " <matplotlib.lines.Line2D at 0x12c49a497b8>,\n",
       " <matplotlib.lines.Line2D at 0x12c49a49908>,\n",
       " <matplotlib.lines.Line2D at 0x12c49a49a58>]"
      ]
     },
     "execution_count": 9,
     "metadata": {},
     "output_type": "execute_result"
    },
    {
     "data": {
      "image/png": "[encoded data removed]",
      "text/plain": [
       "<Figure size 432x288 with 1 Axes>"
      ]
     },
     "metadata": {
      "needs_background": "light"
     },
     "output_type": "display_data"
    }
   ],
   "source": [
    "plt.plot(df)"
   ]
  },
  {
   "cell_type": "code",
   "execution_count": null,
   "metadata": {},
   "outputs": [],
   "source": []
  }
 ],
 "metadata": {
  "kernelspec": {
   "display_name": "Python 3",
   "language": "python",
   "name": "python3"
  },
  "language_info": {
   "codemirror_mode": {
    "name": "ipython",
    "version": 3
   },
   "file_extension": ".py",
   "mimetype": "text/x-python",
   "name": "python",
   "nbconvert_exporter": "python",
   "pygments_lexer": "ipython3",
   "version": "3.7.1"
  }
 },
 "nbformat": 4,
 "nbformat_minor": 2
}
