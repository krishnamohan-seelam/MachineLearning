{
 "cells": [
  {
   "cell_type": "code",
   "execution_count": 1,
   "metadata": {},
   "outputs": [],
   "source": [
    "import re"
   ]
  },
  {
   "cell_type": "code",
   "execution_count": 2,
   "metadata": {},
   "outputs": [
    {
     "data": {
      "text/plain": [
       "'415-555-4242'"
      ]
     },
     "execution_count": 2,
     "metadata": {},
     "output_type": "execute_result"
    }
   ],
   "source": [
    "# Matching Regex Objects\n",
    "data = 'My number is 415-555-4242'\n",
    "pattern = re.compile(r'\\d{3}-\\d{3}-\\d{4}')\n",
    "search_result  = pattern.search(data)\n",
    "search_result.group()"
   ]
  },
  {
   "cell_type": "code",
   "execution_count": 3,
   "metadata": {},
   "outputs": [
    {
     "data": {
      "text/plain": [
       "('415', '555-4242')"
      ]
     },
     "execution_count": 3,
     "metadata": {},
     "output_type": "execute_result"
    }
   ],
   "source": [
    "# Grouping with Parentheses\n",
    "group_data = 'My number is 415-555-4242 ,111-222-3333.'\n",
    "group_pattern = re.compile(r'(\\d{3})-(\\d{3}-\\d{4})')\n",
    "search_result  = group_pattern.search(group_data)\n",
    "search_result.groups()"
   ]
  },
  {
   "cell_type": "code",
   "execution_count": 5,
   "metadata": {},
   "outputs": [
    {
     "data": {
      "text/plain": [
       "[('415', '555-4242'), ('111', '222-3333')]"
      ]
     },
     "execution_count": 5,
     "metadata": {},
     "output_type": "execute_result"
    }
   ],
   "source": [
    "# Grouping with Parentheses  mutiple searches\n",
    "#search() will return a Match object of the first matched text in the searched string, the findall() method will return the strings of every\n",
    "#match in the searched string.\n",
    "group_data = 'My number is 415-555-4242 , 111-222-3333.'\n",
    "group_pattern = re.compile(r'(\\d{3})-(\\d{3}-\\d{4})')\n",
    "search_result  = group_pattern.findall(group_data)\n",
    "search_result "
   ]
  },
  {
   "cell_type": "code",
   "execution_count": 6,
   "metadata": {},
   "outputs": [
    {
     "data": {
      "text/plain": [
       "[('415', '555-4242'), ('111', '222-3333')]"
      ]
     },
     "execution_count": 6,
     "metadata": {},
     "output_type": "execute_result"
    }
   ],
   "source": [
    "# Grouping with Parentheses with option matching(?) \n",
    "group_data = 'My number is (415)-555-4242 , 111-222-3333.'\n",
    "group_data = 'My number is 415-555-4242 , 111-222-3333.'\n",
    "group_pattern = re.compile(r'(\\(?\\d{3}\\)?)-(\\d{3}-\\d{4})')\n",
    "search_result  = group_pattern.findall(group_data)\n",
    "search_result "
   ]
  },
  {
   "cell_type": "code",
   "execution_count": 7,
   "metadata": {},
   "outputs": [
    {
     "name": "stdout",
     "output_type": "stream",
     "text": [
      "Batman\n",
      "Batwoman\n",
      "Batwowowoman\n"
     ]
    }
   ],
   "source": [
    "#Matching Zero or More with the Star\n",
    "zero_or_more  = re.compile(r'Bat(wo)*man')\n",
    "lines = [\"The Adventures of Batman\",\"The Adventures of Batwoman\",\"The Adventures of Batwowowoman\"]\n",
    "for line in lines:\n",
    "    search_result  = zero_or_more.search(line)\n",
    "    if search_result:\n",
    "        print(search_result.group())\n"
   ]
  },
  {
   "cell_type": "code",
   "execution_count": 8,
   "metadata": {},
   "outputs": [
    {
     "name": "stdout",
     "output_type": "stream",
     "text": [
      "Batman\n",
      "Batwoman\n"
     ]
    }
   ],
   "source": [
    "#Batwowowoman seems to be incorrect if you trying to search Batman or Batwoman\n",
    "zero_or_one  = re.compile(r'Bat(wo)?man')\n",
    "lines = [\"The Adventures of Batman\",\"The Adventures of Batwoman\",\"The Adventures of Batwowowoman\"]\n",
    "for line in lines:\n",
    "    search_result  = zero_or_one.search(line)\n",
    "    if search_result:\n",
    "        print(search_result.group())"
   ]
  },
  {
   "cell_type": "code",
   "execution_count": 9,
   "metadata": {},
   "outputs": [],
   "source": [
    "import pathlib\n",
    "import re\n",
    "mp3_path = r'E:\\My Songs\\Telugu'\n",
    "album_path = pathlib.Path(mp3_path).joinpath(\"Maharshi\")\n",
    "rename_pattern=r'\\s*-\\s*SenSongsMp3.Co'\n",
    "for file in album_path.rglob('*.mp3'):\n",
    "    file.rename(re.sub(rename_pattern,\"\",str(file)))\n"
   ]
  },
  {
   "cell_type": "code",
   "execution_count": 11,
   "metadata": {},
   "outputs": [
    {
     "name": "stdout",
     "output_type": "stream",
     "text": [
      "Collecting aiohttp\n",
      "  Downloading https://files.pythonhosted.org/packages/bc/bd/08f0900d62b4ea1ca10bb2e2a1596ac3b04024c7daf7350debee0bd022fb/aiohttp-3.5.4-cp37-cp37m-win_amd64.whl (611kB)\n",
      "Requirement already satisfied: attrs>=17.3.0 in d:\\anaconda3\\lib\\site-packages (from aiohttp) (19.1.0)\n",
      "Collecting async-timeout<4.0,>=3.0 (from aiohttp)\n",
      "  Downloading https://files.pythonhosted.org/packages/e1/1e/5a4441be21b0726c4464f3f23c8b19628372f606755a9d2e46c187e65ec4/async_timeout-3.0.1-py3-none-any.whl\n",
      "Requirement already satisfied: chardet<4.0,>=2.0 in d:\\anaconda3\\lib\\site-packages (from aiohttp) (3.0.4)\n",
      "Collecting multidict<5.0,>=4.0 (from aiohttp)\n",
      "  Downloading https://files.pythonhosted.org/packages/38/c7/07d8d88c3c16fe65d8596da429d104229dd7433b07432694a3ab45a72eaa/multidict-4.5.2-cp37-cp37m-win_amd64.whl (138kB)\n",
      "Collecting yarl<2.0,>=1.0 (from aiohttp)\n",
      "  Downloading https://files.pythonhosted.org/packages/7d/dc/fb3617b3de980566b54b1ae59eb72fc72810350d7ed9164b26f155fa682d/yarl-1.3.0-cp37-cp37m-win_amd64.whl (121kB)\n",
      "Requirement already satisfied: idna>=2.0 in d:\\anaconda3\\lib\\site-packages (from yarl<2.0,>=1.0->aiohttp) (2.8)\n",
      "Installing collected packages: async-timeout, multidict, yarl, aiohttp\n",
      "Successfully installed aiohttp-3.5.4 async-timeout-3.0.1 multidict-4.5.2 yarl-1.3.0\n"
     ]
    }
   ],
   "source": [
    "!pip install aiohttp"
   ]
  },
  {
   "cell_type": "code",
   "execution_count": 12,
   "metadata": {},
   "outputs": [],
   "source": [
    "import aiohttp"
   ]
  },
  {
   "cell_type": "code",
   "execution_count": null,
   "metadata": {},
   "outputs": [],
   "source": []
  }
 ],
 "metadata": {
  "kernelspec": {
   "display_name": "Python 3",
   "language": "python",
   "name": "python3"
  },
  "language_info": {
   "codemirror_mode": {
    "name": "ipython",
    "version": 3
   },
   "file_extension": ".py",
   "mimetype": "text/x-python",
   "name": "python",
   "nbconvert_exporter": "python",
   "pygments_lexer": "ipython3",
   "version": "3.7.1"
  }
 },
 "nbformat": 4,
 "nbformat_minor": 2
}
