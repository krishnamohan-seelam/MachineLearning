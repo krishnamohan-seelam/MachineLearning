{
 "cells": [
  {
   "cell_type": "code",
   "execution_count": 3,
   "metadata": {},
   "outputs": [
    {
     "name": "stdout",
     "output_type": "stream",
     "text": [
      "True\n"
     ]
    }
   ],
   "source": [
    "class Singleton(type):\n",
    "    def __init__(cls, name, bases, attrs, **kwargs):\n",
    "        super().__init__(name, bases, attrs)\n",
    "        cls.instance = None\n",
    "    \n",
    "    def __call__(cls,*args, **kwargs):\n",
    "        if cls.instance is None:\n",
    "            cls.instance  = super().__call__(*args, **kwargs)\n",
    "        return cls.instance\n",
    "\n",
    "\n",
    "class MyClass(metaclass=Singleton):\n",
    "    pass\n",
    "\n",
    "m1 = MyClass()\n",
    "m2 = MyClass()\n",
    "\n",
    "print(m1 is m2)\n",
    "\n"
   ]
  },
  {
   "cell_type": "code",
   "execution_count": null,
   "metadata": {},
   "outputs": [],
   "source": []
  }
 ],
 "metadata": {
  "kernelspec": {
   "display_name": "Python 3",
   "language": "python",
   "name": "python3"
  },
  "language_info": {
   "codemirror_mode": {
    "name": "ipython",
    "version": 3
   },
   "file_extension": ".py",
   "mimetype": "text/x-python",
   "name": "python",
   "nbconvert_exporter": "python",
   "pygments_lexer": "ipython3",
   "version": "3.7.1"
  }
 },
 "nbformat": 4,
 "nbformat_minor": 2
}
