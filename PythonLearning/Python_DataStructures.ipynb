{
 "cells": [
  {
   "cell_type": "code",
   "execution_count": 1,
   "metadata": {},
   "outputs": [],
   "source": [
    "import enum"
   ]
  },
  {
   "cell_type": "code",
   "execution_count": 2,
   "metadata": {},
   "outputs": [],
   "source": [
    "class BugStatus(enum.Enum):\n",
    "    \"\"\"\n",
    "    BugStatus to identify status of  program bug \n",
    "    Attributes\n",
    "    ----------\n",
    "    says_str : str\n",
    "        a formatted string to print out what the animal says\n",
    "    name : str\n",
    "        the name of the BugStatus\n",
    "    value: int\n",
    "        the unique value to identify BugStatus\n",
    "    \"\"\"\n",
    "    new = 7\n",
    "    incomplete = 6\n",
    "    invalid = 5\n",
    "    wont_fix = 4\n",
    "    in_progress = 3\n",
    "    fix_committed = 2\n",
    "    fix_released = 1\n",
    "        "
   ]
  },
  {
   "cell_type": "code",
   "execution_count": 3,
   "metadata": {},
   "outputs": [
    {
     "name": "stdout",
     "output_type": "stream",
     "text": [
      "new             =7\n",
      "incomplete      =6\n",
      "invalid         =5\n",
      "wont_fix        =4\n",
      "in_progress     =3\n",
      "fix_committed   =2\n",
      "fix_released    =1\n"
     ]
    }
   ],
   "source": [
    "for status in BugStatus:\n",
    "    print('{:15} ={}'.format(status.name,status.value))"
   ]
  },
  {
   "cell_type": "markdown",
   "metadata": {},
   "source": [
    "#### Comparing Enums"
   ]
  },
  {
   "cell_type": "code",
   "execution_count": 4,
   "metadata": {},
   "outputs": [
    {
     "name": "stdout",
     "output_type": "stream",
     "text": [
      "Equality: True False\n"
     ]
    }
   ],
   "source": [
    "new_bug = BugStatus.new\n",
    "last_updated = BugStatus.fix_released\n",
    "\n",
    "print('Equality:', new_bug == BugStatus.new, new_bug == BugStatus.in_progress)"
   ]
  },
  {
   "cell_type": "code",
   "execution_count": 6,
   "metadata": {},
   "outputs": [],
   "source": [
    "class IBugStatus(enum.IntEnum):\n",
    "\n",
    "    new = 7\n",
    "    incomplete = 6\n",
    "    invalid = 5\n",
    "    wont_fix = 4\n",
    "    in_progress = 3\n",
    "    fix_committed = 2\n",
    "    fix_released = 1"
   ]
  },
  {
   "cell_type": "code",
   "execution_count": 7,
   "metadata": {},
   "outputs": [
    {
     "name": "stdout",
     "output_type": "stream",
     "text": [
      "Ordered by value:\n",
      "  fix_released\n",
      "  fix_committed\n",
      "  in_progress\n",
      "  wont_fix\n",
      "  invalid\n",
      "  incomplete\n",
      "  new\n"
     ]
    }
   ],
   "source": [
    "print('Ordered by value:')\n",
    "print('\\n'.join('  ' + s.name for s in sorted(IBugStatus)))"
   ]
  },
  {
   "cell_type": "markdown",
   "metadata": {},
   "source": [
    "#### Creating Enumerations Programmatically"
   ]
  },
  {
   "cell_type": "code",
   "execution_count": 8,
   "metadata": {},
   "outputs": [],
   "source": [
    "UserBugStatus = enum.Enum(value ='UserBugStatus',names =('new','incomplete','progress'))"
   ]
  },
  {
   "cell_type": "code",
   "execution_count": 9,
   "metadata": {},
   "outputs": [
    {
     "name": "stdout",
     "output_type": "stream",
     "text": [
      "new             =1\n",
      "incomplete      =2\n",
      "progress        =3\n"
     ]
    }
   ],
   "source": [
    "for status in UserBugStatus:\n",
    "    print('{:15} ={}'.format(status.name,status.value))"
   ]
  },
  {
   "cell_type": "markdown",
   "metadata": {},
   "source": [
    "#### For more control over the values associated with members, the names string can be replaced with a sequence of two-part tuples or a dictionary mapping names to values."
   ]
  },
  {
   "cell_type": "code",
   "execution_count": 10,
   "metadata": {},
   "outputs": [
    {
     "name": "stdout",
     "output_type": "stream",
     "text": [
      "new             =1\n",
      "incomplete      =2\n",
      "progress        =3\n"
     ]
    }
   ],
   "source": [
    "UserBugStatus = enum.Enum(value ='UserBugStatus',names = [('new',1),('incomplete',2),('progress',3)])\n",
    "for status in UserBugStatus:\n",
    "    print('{:15} ={}'.format(status.name,status.value))"
   ]
  },
  {
   "cell_type": "code",
   "execution_count": 4,
   "metadata": {},
   "outputs": [],
   "source": [
    "import math"
   ]
  },
  {
   "cell_type": "code",
   "execution_count": 24,
   "metadata": {},
   "outputs": [],
   "source": [
    "number = 12345\n",
    "numstr = str(abs(number))\n",
    "places = len(numstr)-1\n",
    "\n",
    "results = []\n",
    "while places > 0:\n",
    "    result,rem = divmod(number,math.pow(10,places))\n",
    "    results.append(result)\n",
    "    number =rem\n",
    "    places -=1\n",
    "results.append(rem)    "
   ]
  },
  {
   "cell_type": "code",
   "execution_count": 25,
   "metadata": {},
   "outputs": [
    {
     "name": "stdout",
     "output_type": "stream",
     "text": [
      "[1.0, 2.0, 3.0, 4.0, 5.0]\n"
     ]
    }
   ],
   "source": [
    "print(results)"
   ]
  },
  {
   "cell_type": "code",
   "execution_count": null,
   "metadata": {},
   "outputs": [],
   "source": []
  }
 ],
 "metadata": {
  "kernelspec": {
   "display_name": "Python 3",
   "language": "python",
   "name": "python3"
  },
  "language_info": {
   "codemirror_mode": {
    "name": "ipython",
    "version": 3
   },
   "file_extension": ".py",
   "mimetype": "text/x-python",
   "name": "python",
   "nbconvert_exporter": "python",
   "pygments_lexer": "ipython3",
   "version": "3.7.5"
  }
 },
 "nbformat": 4,
 "nbformat_minor": 2
}
