{
 "cells": [
  {
   "cell_type": "code",
   "execution_count": 1,
   "metadata": {},
   "outputs": [],
   "source": [
    "import requests"
   ]
  },
  {
   "cell_type": "code",
   "execution_count": 2,
   "metadata": {},
   "outputs": [],
   "source": [
    "from bs4 import BeautifulSoup"
   ]
  },
  {
   "cell_type": "code",
   "execution_count": 3,
   "metadata": {
    "scrolled": false
   },
   "outputs": [],
   "source": [
    "req = requests.get('https://pythonhow.com/real-estate/rock-springs-wy/LCWYROCKSPRINGS/')\n",
    "response_content = req.content\n",
    "soup = BeautifulSoup(response_content,\"html.parser\")\n"
   ]
  },
  {
   "cell_type": "code",
   "execution_count": 4,
   "metadata": {
    "scrolled": false
   },
   "outputs": [
    {
     "data": {
      "text/plain": [
       "bs4.element.ResultSet"
      ]
     },
     "execution_count": 4,
     "metadata": {},
     "output_type": "execute_result"
    }
   ],
   "source": [
    "property_rows = soup.find_all('div',{'class':'propertyRow'})\n",
    "type(property_rows)"
   ]
  },
  {
   "cell_type": "code",
   "execution_count": 31,
   "metadata": {},
   "outputs": [],
   "source": [
    "propPrices = [property_row.find('h4',{'class':'propPrice'}).text.strip() for property_row in property_rows]\n",
    "addresses =  [property_row.find_all('span',{'class':'propAddressCollapse'}) for property_row in property_rows] "
   ]
  },
  {
   "cell_type": "code",
   "execution_count": 28,
   "metadata": {},
   "outputs": [
    {
     "data": {
      "text/plain": [
       "['0 GatewayRock Springs, WY 82901',\n",
       " '1003 Winchester Blvd.Rock Springs, WY 82901',\n",
       " '600 TalladegaRock Springs, WY 82901',\n",
       " '3239 Spearhead WayRock Springs, WY 82901',\n",
       " '522 Emerald StreetRock Springs, WY 82901',\n",
       " \"1302 Veteran's DriveRock Springs, WY 82901\",\n",
       " '1021 Cypress CirRock Springs, WY 82901',\n",
       " '913 Madison DrRock Springs, WY 82901',\n",
       " '1344 Teton StreetRock Springs, WY 82901',\n",
       " '4 Minnies LaneRock Springs, WY 82901']"
      ]
     },
     "execution_count": 28,
     "metadata": {},
     "output_type": "execute_result"
    }
   ],
   "source": [
    "addresses"
   ]
  },
  {
   "cell_type": "code",
   "execution_count": null,
   "metadata": {},
   "outputs": [],
   "source": []
  }
 ],
 "metadata": {
  "kernelspec": {
   "display_name": "Python 3",
   "language": "python",
   "name": "python3"
  },
  "language_info": {
   "codemirror_mode": {
    "name": "ipython",
    "version": 3
   },
   "file_extension": ".py",
   "mimetype": "text/x-python",
   "name": "python",
   "nbconvert_exporter": "python",
   "pygments_lexer": "ipython3",
   "version": "3.7.1"
  }
 },
 "nbformat": 4,
 "nbformat_minor": 2
}
