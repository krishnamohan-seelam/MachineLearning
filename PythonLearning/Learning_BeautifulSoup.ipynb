{
 "cells": [
  {
   "cell_type": "code",
   "execution_count": 1,
   "metadata": {},
   "outputs": [],
   "source": [
    "import requests"
   ]
  },
  {
   "cell_type": "code",
   "execution_count": 55,
   "metadata": {},
   "outputs": [],
   "source": [
    "from bs4 import BeautifulSoup\n",
    "from bs4.element import Tag as BS4Tag"
   ]
  },
  {
   "cell_type": "code",
   "execution_count": 35,
   "metadata": {
    "scrolled": false
   },
   "outputs": [],
   "source": [
    "#[href_tag['href'] for href_tag in href_tags]\n",
    "import collections\n",
    "#Link = collections.namedtuple('Link',['title','add_date','uri'])\n",
    "import time"
   ]
  },
  {
   "cell_type": "code",
   "execution_count": 54,
   "metadata": {
    "scrolled": false
   },
   "outputs": [],
   "source": [
    "# req = requests.get('https://pythonhow.com/real-estate/rock-springs-wy/LCWYROCKSPRINGS/')\n",
    "# response_content = req.content\n",
    "# soup = BeautifulSoup(response_content,\"html.parser\")\n",
    "\n",
    "\n",
    "# property_rows = soup.find_all('div',{'class':'propertyRow'})\n",
    "# type(property_rows)\n",
    "\n",
    "# propPrices = [property_row.find('h4',{'class':'propPrice'}).text.strip() for property_row in property_rows]\n",
    "# addresses =  [property_row.find_all('span',{'class':'propAddressCollapse'}) for property_row in property_rows] \n",
    "\n",
    "# addresses"
   ]
  },
  {
   "cell_type": "code",
   "execution_count": 79,
   "metadata": {},
   "outputs": [],
   "source": [
    "anchor_tags = [ tag for tag in soup.find_all(\"a\")]\n",
    "all_urls =[]     "
   ]
  },
  {
   "cell_type": "code",
   "execution_count": 80,
   "metadata": {},
   "outputs": [],
   "source": [
    "for tag in anchor_tags: \n",
    "    title =tag.contents[0]\n",
    "    url = tag['href']\n",
    "    add_date = time.ctime(int(tag['add_date']))\n",
    "    all_urls.append([title,url,add_date])"
   ]
  },
  {
   "cell_type": "code",
   "execution_count": 81,
   "metadata": {},
   "outputs": [],
   "source": [
    "import pandas as pd"
   ]
  },
  {
   "cell_type": "code",
   "execution_count": 84,
   "metadata": {},
   "outputs": [],
   "source": [
    "df = pd.DataFrame(all_urls,columns = ['Url_Title','URL','Date_Added'])"
   ]
  },
  {
   "cell_type": "code",
   "execution_count": 86,
   "metadata": {},
   "outputs": [],
   "source": [
    "df.to_csv('links.csv')"
   ]
  },
  {
   "cell_type": "code",
   "execution_count": null,
   "metadata": {},
   "outputs": [],
   "source": []
  }
 ],
 "metadata": {
  "kernelspec": {
   "display_name": "Python 3",
   "language": "python",
   "name": "python3"
  },
  "language_info": {
   "codemirror_mode": {
    "name": "ipython",
    "version": 3
   },
   "file_extension": ".py",
   "mimetype": "text/x-python",
   "name": "python",
   "nbconvert_exporter": "python",
   "pygments_lexer": "ipython3",
   "version": "3.7.5"
  }
 },
 "nbformat": 4,
 "nbformat_minor": 2
}
