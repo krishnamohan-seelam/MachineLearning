{
 "cells": [
  {
   "cell_type": "code",
   "execution_count": 1,
   "metadata": {},
   "outputs": [],
   "source": [
    "from math import pi\n",
    "from functools import wraps"
   ]
  },
  {
   "cell_type": "markdown",
   "metadata": {},
   "source": [
    "#### Example on simple decorator"
   ]
  },
  {
   "cell_type": "code",
   "execution_count": 2,
   "metadata": {},
   "outputs": [
    {
     "data": {
      "text/plain": [
       "(12, 37.69911184307752, 113.09733552923255)"
      ]
     },
     "execution_count": 2,
     "metadata": {},
     "output_type": "execute_result"
    }
   ],
   "source": [
    "def arg_check(func):\n",
    "    def wrapper(input_arg):\n",
    "        if type(input_arg)!=int:\n",
    "            raise TypeError(\"Only numbers are allowed\")\n",
    "        if input_arg <=0 :\n",
    "            raise valueError(\"Negative values are not allowed\")\n",
    "        else:\n",
    "            return func(input_arg)\n",
    "    return wrapper\n",
    "\n",
    "@arg_check\n",
    "def circle_measures(radius):\n",
    "    circumference = 2 * pi * radius\n",
    "    area = pi * radius * radius\n",
    "    diameter = 2 * radius\n",
    "    return (diameter, circumference, area)\n",
    "\n",
    "circle_measures(6)"
   ]
  },
  {
   "cell_type": "markdown",
   "metadata": {},
   "source": [
    "#### Example on Decorators with arguments"
   ]
  },
  {
   "cell_type": "code",
   "execution_count": 12,
   "metadata": {},
   "outputs": [
    {
     "name": "stdout",
     "output_type": "stream",
     "text": [
      "Calling check_input(1, 2, 3, name='Krishna')\n",
      "Hello Krishna\n"
     ]
    }
   ],
   "source": [
    "\n",
    "def args_logger(log_flag=False):\n",
    "    def decorator_wrapper(func):\n",
    "        @wraps(func)\n",
    "        def wrapper(*args,**kwargs):\n",
    "            if log_flag:\n",
    "                args_repr = [repr(arg) for arg in args ]\n",
    "                kwargs_repr =[f\"{k}={v!r}\" for k,v in kwargs.items()]\n",
    "                signature = \", \".join(args_repr + kwargs_repr)\n",
    "                print(f\"Calling {func.__name__}({signature})\")\n",
    "            return func(*args,**kwargs)\n",
    "        return wrapper\n",
    "    return decorator_wrapper\n",
    "\n",
    "\n",
    "@args_logger(True) \n",
    "def check_input(x,y,z,name=None):\n",
    "    \"\"\"check_input: sample function\"\"\"\n",
    "    print(\"Hello {}\".format(name))\n",
    "\n",
    "\n",
    "check_input(1,2,3,name='Krishna')"
   ]
  },
  {
   "cell_type": "code",
   "execution_count": 4,
   "metadata": {},
   "outputs": [
    {
     "name": "stdout",
     "output_type": "stream",
     "text": [
      "Help on function check_input in module __main__:\n",
      "\n",
      "check_input(x, y, z, name=None)\n",
      "    check_input: sample function\n",
      "\n"
     ]
    }
   ],
   "source": [
    "help(check_input)"
   ]
  },
  {
   "cell_type": "code",
   "execution_count": 5,
   "metadata": {},
   "outputs": [
    {
     "name": "stdout",
     "output_type": "stream",
     "text": [
      "function :<function rotate_list at 0x0000026F0B5F18C8> called \n"
     ]
    },
    {
     "data": {
      "text/plain": [
       "[1, 3, 0]"
      ]
     },
     "execution_count": 5,
     "metadata": {},
     "output_type": "execute_result"
    }
   ],
   "source": [
    "### instances as decorators\n",
    "class Trace(object):\n",
    "    def __init__(self,enabled=True):\n",
    "        self.enabled =enabled\n",
    "    \n",
    "    def __call__(self,func):\n",
    "        def wraps(*args,**kwargs):\n",
    "            print('function :{0} called '.format(func))\n",
    "            return func(*args,**kwargs)\n",
    "        return wraps\n",
    "    \n",
    "tracer = Trace()\n",
    "\n",
    "@tracer\n",
    "def rotate_list(l):\n",
    "    return l[1:] + [l[0]]\n",
    "\n",
    "l = rotate_list([0,1,3])\n",
    "l"
   ]
  },
  {
   "cell_type": "code",
   "execution_count": 6,
   "metadata": {},
   "outputs": [
    {
     "name": "stdout",
     "output_type": "stream",
     "text": [
      "function :<function rotate_list at 0x0000026F0B5F18C8> called \n"
     ]
    },
    {
     "data": {
      "text/plain": [
       "[3, 0, 1]"
      ]
     },
     "execution_count": 6,
     "metadata": {},
     "output_type": "execute_result"
    }
   ],
   "source": [
    "l = rotate_list(l)\n",
    "l"
   ]
  },
  {
   "cell_type": "code",
   "execution_count": 3,
   "metadata": {},
   "outputs": [],
   "source": [
    "def center_text(is_center = False,line_length =80):\n",
    "    def outer_wrapper(func):\n",
    "        def wrapper(*args,**kwargs):\n",
    "            result  = func(*args,**kwargs)\n",
    "            if is_center and isinstance(result, str):\n",
    "                return result.center(line_length,\"*\")\n",
    "            return result\n",
    "        return wrapper\n",
    "    return outer_wrapper\n",
    "\n",
    "\n"
   ]
  },
  {
   "cell_type": "code",
   "execution_count": 5,
   "metadata": {},
   "outputs": [],
   "source": [
    "@center_text(is_center=True)\n",
    "def get_message(message):\n",
    "    return message"
   ]
  },
  {
   "cell_type": "code",
   "execution_count": 6,
   "metadata": {},
   "outputs": [
    {
     "data": {
      "text/plain": [
       "'************************************Krishna*************************************'"
      ]
     },
     "execution_count": 6,
     "metadata": {},
     "output_type": "execute_result"
    }
   ],
   "source": [
    "get_message(\"Krishna\")"
   ]
  },
  {
   "cell_type": "code",
   "execution_count": 7,
   "metadata": {},
   "outputs": [],
   "source": [
    "@center_text(is_center=False)\n",
    "def get_unformatted_message(message):\n",
    "    return message"
   ]
  },
  {
   "cell_type": "code",
   "execution_count": 9,
   "metadata": {},
   "outputs": [
    {
     "data": {
      "text/plain": [
       "'Krishna'"
      ]
     },
     "execution_count": 9,
     "metadata": {},
     "output_type": "execute_result"
    }
   ],
   "source": [
    "get_unformatted_message(\"Krishna\")"
   ]
  },
  {
   "cell_type": "code",
   "execution_count": null,
   "metadata": {},
   "outputs": [],
   "source": []
  }
 ],
 "metadata": {
  "kernelspec": {
   "display_name": "Python 3",
   "language": "python",
   "name": "python3"
  },
  "language_info": {
   "codemirror_mode": {
    "name": "ipython",
    "version": 3
   },
   "file_extension": ".py",
   "mimetype": "text/x-python",
   "name": "python",
   "nbconvert_exporter": "python",
   "pygments_lexer": "ipython3",
   "version": "3.7.1"
  }
 },
 "nbformat": 4,
 "nbformat_minor": 2
}
