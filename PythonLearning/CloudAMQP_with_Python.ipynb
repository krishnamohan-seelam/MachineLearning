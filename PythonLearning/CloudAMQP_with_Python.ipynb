{
 "cells": [
  {
   "cell_type": "code",
   "execution_count": 1,
   "metadata": {},
   "outputs": [],
   "source": [
    "import os,pika"
   ]
  },
  {
   "cell_type": "code",
   "execution_count": 2,
   "metadata": {},
   "outputs": [
    {
     "name": "stdout",
     "output_type": "stream",
     "text": [
      " [x] Sent 'Hello World!'\n"
     ]
    }
   ],
   "source": [
    "url = os.environ.get('CLOUDAMQP_URL')\n",
    "if not url:\n",
    "    raise ValueError(\"AMQP config not found\")\n",
    "\n",
    "params = pika.URLParameters(url)\n",
    "connection = pika.BlockingConnection(params)\n",
    "channel = connection.channel() # start a channel\n",
    "channel.queue_declare(queue='hello') # Declare a queue\n",
    "channel.basic_publish(exchange='',\n",
    "                      routing_key='hello',\n",
    "                      body='Hello CloudAMQP!')\n",
    "\n",
    "print(\" [x] Sent 'Hello World!'\")\n",
    "connection.close()\n",
    "    "
   ]
  },
  {
   "cell_type": "code",
   "execution_count": null,
   "metadata": {},
   "outputs": [
    {
     "name": "stdout",
     "output_type": "stream",
     "text": [
      " [*] Waiting for messages:\n",
      " [x] Received b'Hello CloudAMQP!'\n"
     ]
    }
   ],
   "source": [
    "url = os.environ.get('CLOUDAMQP_URL')\n",
    "if not url:\n",
    "    raise ValueError(\"AMQP config not found\")\n",
    "\n",
    "params = pika.URLParameters(url)\n",
    "connection = pika.BlockingConnection(params)\n",
    "channel = connection.channel() # start a channel\n",
    "channel.queue_declare(queue='hello') # Declare a queue\n",
    "\n",
    "def callback(ch, method, properties, body):\n",
    "    print(\" [x] Received \" + str(body))\n",
    "\n",
    "channel.basic_consume('hello',\n",
    "                      callback,\n",
    "                      auto_ack=True)\n",
    "\n",
    "print(' [*] Waiting for messages:')\n",
    "try:\n",
    "    channel.start_consuming()\n",
    "except KeyboardInterupt:\n",
    "    channel.stop_consuming()\n",
    " "
   ]
  },
  {
   "cell_type": "code",
   "execution_count": null,
   "metadata": {},
   "outputs": [],
   "source": [
    "channel.close()"
   ]
  },
  {
   "cell_type": "code",
   "execution_count": null,
   "metadata": {},
   "outputs": [],
   "source": []
  }
 ],
 "metadata": {
  "kernelspec": {
   "display_name": "Python 3",
   "language": "python",
   "name": "python3"
  },
  "language_info": {
   "codemirror_mode": {
    "name": "ipython",
    "version": 3
   },
   "file_extension": ".py",
   "mimetype": "text/x-python",
   "name": "python",
   "nbconvert_exporter": "python",
   "pygments_lexer": "ipython3",
   "version": "3.7.1"
  }
 },
 "nbformat": 4,
 "nbformat_minor": 2
}
