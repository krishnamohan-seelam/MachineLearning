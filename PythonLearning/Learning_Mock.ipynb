{
 "cells": [
  {
   "cell_type": "code",
   "execution_count": 1,
   "metadata": {},
   "outputs": [],
   "source": [
    "import unittest.mock as mock"
   ]
  },
  {
   "cell_type": "code",
   "execution_count": 2,
   "metadata": {},
   "outputs": [],
   "source": [
    "mk = mock.Mock()"
   ]
  },
  {
   "cell_type": "code",
   "execution_count": 3,
   "metadata": {},
   "outputs": [],
   "source": [
    "json = mk"
   ]
  },
  {
   "cell_type": "code",
   "execution_count": 4,
   "metadata": {},
   "outputs": [
    {
     "data": {
      "text/plain": [
       "<Mock id='2228331719312'>"
      ]
     },
     "metadata": {},
     "output_type": "display_data"
    }
   ],
   "source": [
    "display(json)"
   ]
  },
  {
   "cell_type": "code",
   "execution_count": 5,
   "metadata": {},
   "outputs": [
    {
     "data": {
      "text/plain": [
       "<Mock name='mock.dumps()' id='2228331772504'>"
      ]
     },
     "execution_count": 5,
     "metadata": {},
     "output_type": "execute_result"
    }
   ],
   "source": [
    "json.dumps()"
   ]
  },
  {
   "cell_type": "code",
   "execution_count": 6,
   "metadata": {},
   "outputs": [
    {
     "data": {
      "text/plain": [
       "<Mock name='mock.loads().get()' id='2228331798712'>"
      ]
     },
     "execution_count": 6,
     "metadata": {},
     "output_type": "execute_result"
    }
   ],
   "source": [
    "json.loads('{\"k\":\"v\"}').get('k')"
   ]
  },
  {
   "cell_type": "code",
   "execution_count": 7,
   "metadata": {},
   "outputs": [],
   "source": [
    "json.loads.assert_called()"
   ]
  },
  {
   "cell_type": "code",
   "execution_count": 8,
   "metadata": {},
   "outputs": [],
   "source": [
    "json.loads.assert_called_once()"
   ]
  },
  {
   "cell_type": "code",
   "execution_count": 9,
   "metadata": {},
   "outputs": [
    {
     "data": {
      "text/plain": [
       "1"
      ]
     },
     "execution_count": 9,
     "metadata": {},
     "output_type": "execute_result"
    }
   ],
   "source": [
    "json.loads.call_count"
   ]
  },
  {
   "cell_type": "code",
   "execution_count": 10,
   "metadata": {},
   "outputs": [
    {
     "data": {
      "text/plain": [
       "call('{\"k\":\"v\"}')"
      ]
     },
     "execution_count": 10,
     "metadata": {},
     "output_type": "execute_result"
    }
   ],
   "source": [
    "json.loads.call_args"
   ]
  },
  {
   "cell_type": "code",
   "execution_count": 11,
   "metadata": {},
   "outputs": [
    {
     "data": {
      "text/plain": [
       "[call('{\"k\":\"v\"}')]"
      ]
     },
     "execution_count": 11,
     "metadata": {},
     "output_type": "execute_result"
    }
   ],
   "source": [
    "json.loads.call_args_list"
   ]
  },
  {
   "cell_type": "code",
   "execution_count": 12,
   "metadata": {},
   "outputs": [
    {
     "data": {
      "text/plain": [
       "[call.dumps(), call.loads('{\"k\":\"v\"}')]"
      ]
     },
     "execution_count": 12,
     "metadata": {},
     "output_type": "execute_result"
    }
   ],
   "source": [
    "json.method_calls"
   ]
  },
  {
   "cell_type": "markdown",
   "metadata": {},
   "source": [
    "#####  One reason to use mocks is to control your code’s behavior during tests. One way to do this is to specify a function’s return value."
   ]
  },
  {
   "cell_type": "code",
   "execution_count": 13,
   "metadata": {},
   "outputs": [],
   "source": [
    "from datetime import datetime\n",
    "\n",
    "def is_weekday():\n",
    "    today = datetime.today()\n",
    "    # Python's datetime library treats Monday as 0 and Sunday as 6\n",
    "    return (0 <= today.weekday() < 5)"
   ]
  },
  {
   "cell_type": "code",
   "execution_count": 14,
   "metadata": {},
   "outputs": [],
   "source": [
    "assert not is_weekday()"
   ]
  },
  {
   "cell_type": "code",
   "execution_count": 15,
   "metadata": {},
   "outputs": [],
   "source": [
    "import datetime\n",
    "tuesday = datetime.datetime(year=2019, month=1, day=1)\n",
    "saturday = datetime.datetime(year=2019, month=1, day=5)\n"
   ]
  },
  {
   "cell_type": "code",
   "execution_count": 16,
   "metadata": {},
   "outputs": [],
   "source": [
    "datetime =mock.Mock()"
   ]
  },
  {
   "cell_type": "code",
   "execution_count": 17,
   "metadata": {},
   "outputs": [],
   "source": [
    "# Mock .today() to return Tuesday\n",
    "datetime.today.return_value = tuesday\n",
    "# Test Tuesday is a weekday\n",
    "assert is_weekday()\n",
    "# Mock .today() to return Saturday\n",
    "datetime.today.return_value = saturday\n",
    "# Test Saturday is not a weekday\n",
    "assert not is_weekday()"
   ]
  },
  {
   "cell_type": "code",
   "execution_count": 18,
   "metadata": {},
   "outputs": [],
   "source": [
    "import requests\n",
    "import unittest\n",
    "from unittest.mock import Mock\n",
    "\n",
    "def get_holidays():\n",
    "    r = requests.get('http://localhost/api/holidays')\n",
    "    if r.status_code  == 200:\n",
    "        return r.json()\n",
    "    return None\n",
    "\n",
    "\n",
    "requests = Mock()\n",
    "\n",
    "class TestHolidayCalendar(unittest.TestCase):\n",
    "    \n",
    "    def log_request(self,url):\n",
    "        print(f'mocking request:{url}')\n",
    "        print('Received request')\n",
    "        response_mock = Mock()\n",
    "        response_mock.status_code = 200\n",
    "        response_mock.json.return_value  =  { '12/25':'Christmas', '8/15':'Independence Day'}\n",
    "        return response_mock\n",
    "    \n",
    "    def test_get_holidays_logging(self):\n",
    "        # Test a successful, logged request\n",
    "        requests.get.side_effect = self.log_request\n",
    "        self.assertEqual(get_holidays()['12/25'], 'Christmas')\n",
    "        "
   ]
  },
  {
   "cell_type": "code",
   "execution_count": 19,
   "metadata": {},
   "outputs": [
    {
     "name": "stderr",
     "output_type": "stream",
     "text": [
      "."
     ]
    },
    {
     "name": "stdout",
     "output_type": "stream",
     "text": [
      "mocking request:http://localhost/api/holidays\n",
      "Received request\n"
     ]
    },
    {
     "name": "stderr",
     "output_type": "stream",
     "text": [
      "\n",
      "----------------------------------------------------------------------\n",
      "Ran 1 test in 0.007s\n",
      "\n",
      "OK\n"
     ]
    }
   ],
   "source": [
    "if __name__ == '__main__':\n",
    "    unittest.main(argv=['first-arg-is-ignored'], exit=False)"
   ]
  },
  {
   "cell_type": "markdown",
   "metadata": {},
   "source": [
    "*.side_effect* can also be an iterable. The iterable must consist of return values, exceptions, or a mixture of both. The iterable will produce its next value every time you call your mocked method.\n",
    "\n",
    "The first time you call get_holidays(), get() raises a Timeout. The second time, the method returns a valid holidays dictionary. These side effects match the order they appear in the list passed to .side_effect.\n",
    "\n",
    "You can set .return_value and .side_effect on a Mock directly. However, because a Python mock object needs to be flexible in creating its attributes, there is a better way to configure these and other settings."
   ]
  },
  {
   "cell_type": "code",
   "execution_count": 20,
   "metadata": {},
   "outputs": [],
   "source": [
    "import unittest\n",
    "from requests.exceptions import Timeout\n",
    "from unittest.mock import Mock\n",
    "\n",
    "# Mock requests to control its behavior\n",
    "requests = Mock()\n",
    "\n",
    "def get_holidays():\n",
    "    r = requests.get('http://localhost/api/holidays')\n",
    "    if r.status_code == 200:\n",
    "        return r.json()\n",
    "    return None\n",
    "\n",
    "class TestCalendar(unittest.TestCase):\n",
    "    def test_get_holidays_retry(self):\n",
    "        # Create a new Mock to imitate a Response\n",
    "        response_mock = Mock()\n",
    "        response_mock.status_code = 200\n",
    "        response_mock.json.return_value = {\n",
    "            '12/25': 'Christmas',\n",
    "            '7/4': 'Independence Day',\n",
    "        }\n",
    "        # Set the side effect of .get()\n",
    "        requests.get.side_effect = [Timeout, response_mock]\n",
    "        # Test that the first request raises a Timeout\n",
    "        with self.assertRaises(Timeout):\n",
    "            get_holidays()\n",
    "        # Now retry, expecting a successful response\n",
    "        assert get_holidays()['12/25'] == 'Christmas'\n",
    "        # Finally, assert .get() was called twice\n",
    "        assert requests.get.call_count == 2"
   ]
  },
  {
   "cell_type": "code",
   "execution_count": 21,
   "metadata": {},
   "outputs": [
    {
     "name": "stderr",
     "output_type": "stream",
     "text": [
      ".."
     ]
    },
    {
     "name": "stdout",
     "output_type": "stream",
     "text": [
      "mocking request:http://localhost/api/holidays\n",
      "Received request\n"
     ]
    },
    {
     "name": "stderr",
     "output_type": "stream",
     "text": [
      "\n",
      "----------------------------------------------------------------------\n",
      "Ran 2 tests in 0.015s\n",
      "\n",
      "OK\n"
     ]
    }
   ],
   "source": [
    "if __name__ == '__main__':\n",
    "    unittest.main(argv=['first-arg-is-ignored'], exit=False)"
   ]
  },
  {
   "cell_type": "code",
   "execution_count": 22,
   "metadata": {},
   "outputs": [],
   "source": [
    "import unittest\n",
    "from requests.exceptions import Timeout\n",
    "from unittest.mock import Mock\n",
    "\n",
    "# Mock requests to control its behavior\n",
    "requests = Mock()\n",
    "\n",
    "def get_holidays():\n",
    "    r = requests.get('http://localhost/api/holidays')\n",
    "    if r.status_code == 200:\n",
    "        return r.json()\n",
    "    return None\n",
    "\n",
    "class TestCalendar(unittest.TestCase):\n",
    "    def test_get_holidays_retry(self):\n",
    "        # Create a new Mock to imitate a Response\n",
    "        holidays = {'12/25': 'Christmas', '7/4': 'Independence Day'}\n",
    "        response_mock = Mock(**{'json.return_value': holidays, 'status_code' : 200})\n",
    "        \n",
    "        # Set the side effect of .get()\n",
    "        requests.get.side_effect = [Timeout, response_mock]\n",
    "        # Test that the first request raises a Timeout\n",
    "        with self.assertRaises(Timeout):\n",
    "            get_holidays()\n",
    "        # Now retry, expecting a successful response\n",
    "        assert get_holidays()['12/25'] == 'Christmas'\n",
    "        # Finally, assert .get() was called twice\n",
    "        assert requests.get.call_count == 2"
   ]
  },
  {
   "cell_type": "code",
   "execution_count": 23,
   "metadata": {},
   "outputs": [
    {
     "name": "stderr",
     "output_type": "stream",
     "text": [
      ".."
     ]
    },
    {
     "name": "stdout",
     "output_type": "stream",
     "text": [
      "mocking request:http://localhost/api/holidays\n",
      "Received request\n"
     ]
    },
    {
     "name": "stderr",
     "output_type": "stream",
     "text": [
      "\n",
      "----------------------------------------------------------------------\n",
      "Ran 2 tests in 0.004s\n",
      "\n",
      "OK\n"
     ]
    }
   ],
   "source": [
    "if __name__ == '__main__':\n",
    "    unittest.main(argv=['first-arg-is-ignored'], exit=False)"
   ]
  },
  {
   "cell_type": "markdown",
   "metadata": {},
   "source": [
    "patch()\n",
    "unittest.mock provides a powerful mechanism for mocking objects, called patch(), which looks up an object in a given module and replaces that object with a Mock.\n",
    "\n",
    "Usually, you use patch() as a decorator or a context manager to provide a scope in which you will mock the target object."
   ]
  },
  {
   "cell_type": "markdown",
   "metadata": {},
   "source": [
    "patch() as a Decorator\n",
    "If you want to mock an object for the duration of your entire test function, you can use patch() as a function decorator.\n",
    "\n",
    "To see how this works, reorganize your my_calendar.py file by putting the logic and tests into separate files:"
   ]
  },
  {
   "cell_type": "markdown",
   "metadata": {},
   "source": [
    "#### Let’s say you only want to mock one method of an object instead of the entire object. You can do so by using patch.object().\n",
    "\n",
    "For example, .test_get_holidays_timeout() really only needs to mock requests.get() and set its .side_effect to Timeout:\n",
    "\n",
    "@patch.object(requests, 'get', side_effect=requests.exceptions.Timeout)"
   ]
  },
  {
   "cell_type": "code",
   "execution_count": null,
   "metadata": {},
   "outputs": [],
   "source": []
  }
 ],
 "metadata": {
  "kernelspec": {
   "display_name": "Python 3",
   "language": "python",
   "name": "python3"
  },
  "language_info": {
   "codemirror_mode": {
    "name": "ipython",
    "version": 3
   },
   "file_extension": ".py",
   "mimetype": "text/x-python",
   "name": "python",
   "nbconvert_exporter": "python",
   "pygments_lexer": "ipython3",
   "version": "3.7.1"
  }
 },
 "nbformat": 4,
 "nbformat_minor": 2
}
