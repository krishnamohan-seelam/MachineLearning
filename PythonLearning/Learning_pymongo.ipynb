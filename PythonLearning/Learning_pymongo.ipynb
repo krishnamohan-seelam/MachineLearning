{
 "cells": [
  {
   "cell_type": "code",
   "execution_count": 1,
   "metadata": {},
   "outputs": [],
   "source": [
    "%config IPCompleter.greedy=True"
   ]
  },
  {
   "cell_type": "code",
   "execution_count": 2,
   "metadata": {},
   "outputs": [],
   "source": [
    "import pymongo as pym\n",
    "import bson"
   ]
  },
  {
   "cell_type": "code",
   "execution_count": 3,
   "metadata": {},
   "outputs": [],
   "source": [
    "mongo_client = pym.MongoClient(\"mongodb://localhost:27017\")"
   ]
  },
  {
   "cell_type": "code",
   "execution_count": 4,
   "metadata": {},
   "outputs": [],
   "source": [
    "mongo_test = mongo_client['test']\n",
    "mongo_collection = mongo_test['bios']"
   ]
  },
  {
   "cell_type": "code",
   "execution_count": 5,
   "metadata": {},
   "outputs": [
    {
     "data": {
      "text/plain": [
       "{'_id': 1.0,\n",
       " 'name': {'first': 'John', 'last': 'Backus'},\n",
       " 'birth': datetime.datetime(1924, 12, 3, 5, 0),\n",
       " 'death': datetime.datetime(2007, 3, 17, 4, 0),\n",
       " 'contribs': ['Fortran', 'ALGOL', 'Backus-Naur Form', 'FP'],\n",
       " 'awards': [{'award': 'W.W. McDowell Award',\n",
       "   'year': 1967.0,\n",
       "   'by': 'IEEE Computer Society'},\n",
       "  {'award': 'National Medal of Science',\n",
       "   'year': 1975.0,\n",
       "   'by': 'National Science Foundation'},\n",
       "  {'award': 'Turing Award', 'year': 1977.0, 'by': 'ACM'},\n",
       "  {'award': 'Draper Prize',\n",
       "   'year': 1993.0,\n",
       "   'by': 'National Academy of Engineering'}]}"
      ]
     },
     "metadata": {},
     "output_type": "display_data"
    }
   ],
   "source": [
    "display(mongo_collection.find_one())"
   ]
  },
  {
   "cell_type": "code",
   "execution_count": 6,
   "metadata": {},
   "outputs": [
    {
     "data": {
      "text/plain": [
       "{'_id': 1.0,\n",
       " 'name': {'first': 'John', 'last': 'Backus'},\n",
       " 'birth': datetime.datetime(1924, 12, 3, 5, 0),\n",
       " 'death': datetime.datetime(2007, 3, 17, 4, 0),\n",
       " 'contribs': ['Fortran', 'ALGOL', 'Backus-Naur Form', 'FP'],\n",
       " 'awards': [{'award': 'W.W. McDowell Award',\n",
       "   'year': 1967.0,\n",
       "   'by': 'IEEE Computer Society'},\n",
       "  {'award': 'National Medal of Science',\n",
       "   'year': 1975.0,\n",
       "   'by': 'National Science Foundation'},\n",
       "  {'award': 'Turing Award', 'year': 1977.0, 'by': 'ACM'},\n",
       "  {'award': 'Draper Prize',\n",
       "   'year': 1993.0,\n",
       "   'by': 'National Academy of Engineering'}]}"
      ]
     },
     "metadata": {},
     "output_type": "display_data"
    },
    {
     "data": {
      "text/plain": [
       "{'_id': ObjectId('51df07b094c6acd67e492f41'),\n",
       " 'name': {'first': 'John', 'last': 'McCarthy'},\n",
       " 'birth': datetime.datetime(1927, 9, 4, 4, 0),\n",
       " 'death': datetime.datetime(2011, 12, 24, 5, 0),\n",
       " 'contribs': ['Lisp', 'Artificial Intelligence', 'ALGOL'],\n",
       " 'awards': [{'award': 'Turing Award', 'year': 1971.0, 'by': 'ACM'},\n",
       "  {'award': 'Kyoto Prize', 'year': 1988.0, 'by': 'Inamori Foundation'},\n",
       "  {'award': 'National Medal of Science',\n",
       "   'year': 1990.0,\n",
       "   'by': 'National Science Foundation'}]}"
      ]
     },
     "metadata": {},
     "output_type": "display_data"
    }
   ],
   "source": [
    "for document in mongo_collection.find({'name.first':'John'}):\n",
    "    display(document)"
   ]
  },
  {
   "cell_type": "code",
   "execution_count": 7,
   "metadata": {},
   "outputs": [
    {
     "data": {
      "text/plain": [
       "{'_id': 3.0,\n",
       " 'name': {'first': 'Grace', 'last': 'Hopper'},\n",
       " 'title': 'Rear Admiral',\n",
       " 'birth': datetime.datetime(1906, 12, 9, 5, 0),\n",
       " 'death': datetime.datetime(1992, 1, 1, 5, 0),\n",
       " 'contribs': ['UNIVAC', 'compiler', 'FLOW-MATIC', 'COBOL'],\n",
       " 'awards': [{'award': 'Computer Sciences Man of the Year',\n",
       "   'year': 1969.0,\n",
       "   'by': 'Data Processing Management Association'},\n",
       "  {'award': 'Distinguished Fellow',\n",
       "   'year': 1973.0,\n",
       "   'by': ' British Computer Society'},\n",
       "  {'award': 'W. W. McDowell Award',\n",
       "   'year': 1976.0,\n",
       "   'by': 'IEEE Computer Society'},\n",
       "  {'award': 'National Medal of Technology',\n",
       "   'year': 1991.0,\n",
       "   'by': 'United States'}]}"
      ]
     },
     "execution_count": 7,
     "metadata": {},
     "output_type": "execute_result"
    }
   ],
   "source": [
    "mongo_collection.find_one({'_id':3})"
   ]
  },
  {
   "cell_type": "code",
   "execution_count": 8,
   "metadata": {},
   "outputs": [],
   "source": [
    "import gridfs"
   ]
  },
  {
   "cell_type": "code",
   "execution_count": 9,
   "metadata": {},
   "outputs": [],
   "source": [
    "mongo_collection = gridfs.GridFS(mongo_test,'mycustomer_collection')"
   ]
  },
  {
   "cell_type": "code",
   "execution_count": 10,
   "metadata": {},
   "outputs": [
    {
     "data": {
      "text/plain": [
       "'4'"
      ]
     },
     "execution_count": 10,
     "metadata": {},
     "output_type": "execute_result"
    }
   ],
   "source": [
    "mongo_collection.put(b'Testing GridFS 3',_id='3' ,filename ='314')\n",
    "mongo_collection.put(b'Testing GridFS 4',_id='4' ,filename ='314.py')"
   ]
  },
  {
   "cell_type": "code",
   "execution_count": 11,
   "metadata": {},
   "outputs": [
    {
     "data": {
      "text/plain": [
       "b'Testing GridFS'"
      ]
     },
     "metadata": {},
     "output_type": "display_data"
    }
   ],
   "source": [
    "for mongo_doc in mongo_collection.find_one({'_id':'1'}):\n",
    "    display(mongo_doc)"
   ]
  },
  {
   "cell_type": "code",
   "execution_count": 13,
   "metadata": {},
   "outputs": [
    {
     "data": {
      "text/plain": [
       "b'Testing GridFS'"
      ]
     },
     "metadata": {},
     "output_type": "display_data"
    },
    {
     "data": {
      "text/plain": [
       "b'Testing GridFS'"
      ]
     },
     "metadata": {},
     "output_type": "display_data"
    },
    {
     "data": {
      "text/plain": [
       "b'Testing GridFS 3'"
      ]
     },
     "metadata": {},
     "output_type": "display_data"
    }
   ],
   "source": [
    "for mongo_doc in mongo_collection.find({'filename':'314'}):\n",
    "    display(mongo_doc.read())"
   ]
  },
  {
   "cell_type": "code",
   "execution_count": 14,
   "metadata": {},
   "outputs": [],
   "source": [
    "mongo_client.close()"
   ]
  },
  {
   "cell_type": "code",
   "execution_count": null,
   "metadata": {},
   "outputs": [],
   "source": []
  }
 ],
 "metadata": {
  "kernelspec": {
   "display_name": "Python 3",
   "language": "python",
   "name": "python3"
  },
  "language_info": {
   "codemirror_mode": {
    "name": "ipython",
    "version": 3
   },
   "file_extension": ".py",
   "mimetype": "text/x-python",
   "name": "python",
   "nbconvert_exporter": "python",
   "pygments_lexer": "ipython3",
   "version": "3.7.1"
  }
 },
 "nbformat": 4,
 "nbformat_minor": 2
}
