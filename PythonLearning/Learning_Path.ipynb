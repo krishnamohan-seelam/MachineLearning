{
 "cells": [
  {
   "cell_type": "code",
   "execution_count": 1,
   "metadata": {},
   "outputs": [],
   "source": [
    "from pathlib import Path"
   ]
  },
  {
   "cell_type": "code",
   "execution_count": 2,
   "metadata": {},
   "outputs": [],
   "source": [
    "p = Path('.')\n",
    "all_dir_paths = [x  for x in p.iterdir()  if x.is_dir()]"
   ]
  },
  {
   "cell_type": "code",
   "execution_count": 3,
   "metadata": {},
   "outputs": [
    {
     "data": {
      "text/plain": [
       "[WindowsPath('.ipynb_checkpoints'), WindowsPath('data')]"
      ]
     },
     "execution_count": 3,
     "metadata": {},
     "output_type": "execute_result"
    }
   ],
   "source": [
    "all_dir_paths"
   ]
  },
  {
   "cell_type": "code",
   "execution_count": 4,
   "metadata": {},
   "outputs": [
    {
     "data": {
      "text/plain": [
       "[WindowsPath('.ipynb_checkpoints'),\n",
       " WindowsPath('data'),\n",
       " WindowsPath('Elegant Coding in Python - Chapter02.ipynb'),\n",
       " WindowsPath('folium_example.ipynb'),\n",
       " WindowsPath('folium_example2.ipynb'),\n",
       " WindowsPath('geopy_example.ipynb'),\n",
       " WindowsPath('Learning_BeautifulSoup.ipynb'),\n",
       " WindowsPath('Learning_Bokeh.ipynb'),\n",
       " WindowsPath('Learning_Celery.ipynb'),\n",
       " WindowsPath('Learning_Csv.ipynb'),\n",
       " WindowsPath('Learning_Decorators.ipynb'),\n",
       " WindowsPath('Learning_DesignPattern.ipynb'),\n",
       " WindowsPath('Learning_Mock.ipynb'),\n",
       " WindowsPath('Learning_Path.ipynb'),\n",
       " WindowsPath('Learning_pymongo.ipynb'),\n",
       " WindowsPath('Learn_Async.ipynb'),\n",
       " WindowsPath('Learn_Numpy.ipynb'),\n",
       " WindowsPath('Learn_Threading.ipynb'),\n",
       " WindowsPath('line.html'),\n",
       " WindowsPath('map.html'),\n",
       " WindowsPath('pycon_pandas.ipynb'),\n",
       " WindowsPath('pymongo_example.ipynb'),\n",
       " WindowsPath('PythonNotes_Date_And_Time.ipynb'),\n",
       " WindowsPath('Python_DataStructures.ipynb'),\n",
       " WindowsPath('py_image_processing.ipynb'),\n",
       " WindowsPath('py_inheritance.ipynb'),\n",
       " WindowsPath('py_marsh.ipynb'),\n",
       " WindowsPath('py_mq.ipynb'),\n",
       " WindowsPath('py_pandas.ipynb'),\n",
       " WindowsPath('py_stockanalysis.ipynb'),\n",
       " WindowsPath('Py_Workpad.ipynb'),\n",
       " WindowsPath('volcanoes.html'),\n",
       " WindowsPath('volcanoes2.html')]"
      ]
     },
     "execution_count": 4,
     "metadata": {},
     "output_type": "execute_result"
    }
   ],
   "source": [
    "all_paths = [x  for x in p.iterdir()]\n",
    "all_paths"
   ]
  },
  {
   "cell_type": "code",
   "execution_count": 5,
   "metadata": {},
   "outputs": [
    {
     "data": {
      "text/plain": [
       "WindowsPath('C:/Users/krish')"
      ]
     },
     "execution_count": 5,
     "metadata": {},
     "output_type": "execute_result"
    }
   ],
   "source": [
    "home_path = Path.home()\n",
    "home_path"
   ]
  },
  {
   "cell_type": "code",
   "execution_count": 6,
   "metadata": {},
   "outputs": [
    {
     "data": {
      "text/plain": [
       "['line.html', 'map.html', 'volcanoes.html', 'volcanoes2.html']"
      ]
     },
     "execution_count": 6,
     "metadata": {},
     "output_type": "execute_result"
    }
   ],
   "source": [
    "html_files = [x.name for x in p.iterdir() if x.is_file() and  x.suffix == '.html' ]\n",
    "html_files"
   ]
  },
  {
   "cell_type": "code",
   "execution_count": 8,
   "metadata": {},
   "outputs": [],
   "source": [
    "v_path =Path().joinpath('a','b','c')"
   ]
  },
  {
   "cell_type": "code",
   "execution_count": 9,
   "metadata": {},
   "outputs": [
    {
     "data": {
      "text/plain": [
       "False"
      ]
     },
     "execution_count": 9,
     "metadata": {},
     "output_type": "execute_result"
    }
   ],
   "source": [
    "v_path.exists()"
   ]
  },
  {
   "cell_type": "code",
   "execution_count": 11,
   "metadata": {},
   "outputs": [
    {
     "data": {
      "text/plain": [
       "True"
      ]
     },
     "execution_count": 11,
     "metadata": {},
     "output_type": "execute_result"
    }
   ],
   "source": [
    "home_path.is_dir()"
   ]
  },
  {
   "cell_type": "code",
   "execution_count": 13,
   "metadata": {},
   "outputs": [
    {
     "data": {
      "text/plain": [
       "False"
      ]
     },
     "execution_count": 13,
     "metadata": {},
     "output_type": "execute_result"
    }
   ],
   "source": [
    "filename = home_path.joinpath('main.py')\n",
    "filename.is_file()\n"
   ]
  },
  {
   "cell_type": "code",
   "execution_count": null,
   "metadata": {},
   "outputs": [],
   "source": []
  }
 ],
 "metadata": {
  "kernelspec": {
   "display_name": "Python 3",
   "language": "python",
   "name": "python3"
  },
  "language_info": {
   "codemirror_mode": {
    "name": "ipython",
    "version": 3
   },
   "file_extension": ".py",
   "mimetype": "text/x-python",
   "name": "python",
   "nbconvert_exporter": "python",
   "pygments_lexer": "ipython3",
   "version": "3.7.1"
  }
 },
 "nbformat": 4,
 "nbformat_minor": 2
}
