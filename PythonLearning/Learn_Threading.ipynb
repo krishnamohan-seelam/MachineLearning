{
 "cells": [
  {
   "cell_type": "code",
   "execution_count": 1,
   "metadata": {},
   "outputs": [],
   "source": [
    "import requests\n",
    "import time\n",
    "import threading\n",
    "import logging"
   ]
  },
  {
   "cell_type": "code",
   "execution_count": 2,
   "metadata": {},
   "outputs": [],
   "source": [
    "gists = ['https://gist.github.com/recluze/1d2989c7e345c8c3c542', \n",
    "        'https://gist.github.com/recluze/a98aa1804884ca3b3ad3', \n",
    "        'https://gist.github.com/recluze/5051735efe3fc189b90d', \n",
    "        'https://gist.github.com/recluze/460157afc6a7492555bb', \n",
    "        'https://gist.github.com/recluze/5051735efe3fc189b90d', \n",
    "        'https://gist.github.com/recluze/c9bc4130af995c36176d']"
   ]
  },
  {
   "cell_type": "code",
   "execution_count": 3,
   "metadata": {},
   "outputs": [],
   "source": [
    "def thread_function(name):\n",
    "    logging.info(\"Thread %s: starting\", name)\n",
    "    time.sleep(2)\n",
    "    logging.info(\"Thread %s: finishing\", name)"
   ]
  },
  {
   "cell_type": "code",
   "execution_count": 4,
   "metadata": {},
   "outputs": [
    {
     "name": "stderr",
     "output_type": "stream",
     "text": [
      "23:22:58: Main    : create and start thread 0.\n",
      "23:22:58: Thread 0: starting\n",
      "23:22:58: Main    : create and start thread 1.\n",
      "23:22:58: Thread 1: starting\n",
      "23:22:58: Main    : create and start thread 2.\n",
      "23:22:58: Thread 2: starting\n",
      "23:22:58: Main    : before joining thread 0.\n",
      "23:23:00: Thread 0: finishing\n",
      "23:23:00: Main    : thread 0 done\n",
      "23:23:00: Main    : before joining thread 1.\n",
      "23:23:00: Thread 1: finishing\n",
      "23:23:00: Main    : thread 1 done\n",
      "23:23:00: Main    : before joining thread 2.\n",
      "23:23:00: Thread 2: finishing\n",
      "23:23:00: Main    : thread 2 done\n"
     ]
    }
   ],
   "source": [
    "log_format = '%(asctime)s: %(message)s'\n",
    "logging.basicConfig(format=log_format, level=logging.INFO,datefmt=\"%H:%M:%S\")\n",
    "threads = []\n",
    "for index in range(3):\n",
    "    logging.info(\"Main    : create and start thread %d.\", index)\n",
    "    th = threading.Thread(target = thread_function,args=(index,), daemon=True)\n",
    "    threads.append(th)\n",
    "    th.start()\n",
    "\n",
    "for index, thread in enumerate(threads):\n",
    "    logging.info(\"Main    : before joining thread %d.\", index)\n",
    "    thread.join()\n",
    "    logging.info(\"Main    : thread %d done\", index)"
   ]
  },
  {
   "cell_type": "code",
   "execution_count": 5,
   "metadata": {},
   "outputs": [],
   "source": [
    "import concurrent.futures"
   ]
  },
  {
   "cell_type": "code",
   "execution_count": 6,
   "metadata": {
    "scrolled": false
   },
   "outputs": [
    {
     "name": "stderr",
     "output_type": "stream",
     "text": [
      "23:23:00: Thread 0: starting\n",
      "23:23:00: Thread 1: starting\n",
      "23:23:00: Thread 2: starting\n",
      "23:23:02: Thread 0: finishing\n",
      "23:23:02: Thread 1: finishing\n",
      "23:23:02: Thread 2: finishing\n"
     ]
    }
   ],
   "source": [
    "with concurrent.futures.ThreadPoolExecutor(max_workers=3) as executor:\n",
    "    executor.map(thread_function,range(3))"
   ]
  },
  {
   "cell_type": "markdown",
   "metadata": {},
   "source": [
    "####  Race Conditions"
   ]
  },
  {
   "cell_type": "code",
   "execution_count": 7,
   "metadata": {},
   "outputs": [],
   "source": [
    "logging.getLogger().setLevel(logging.DEBUG)\n",
    "class FakeDatabase(object):\n",
    "    def __init__(self):\n",
    "        self.db_value  = 0\n",
    "        self._lock = threading.Lock()\n",
    "        \n",
    "    def update(self):\n",
    "        logging.info(\"Thread %s: starting update\", name)\n",
    "        next_value = self.db_value\n",
    "        next_value +=1\n",
    "        time.sleep(0.1)\n",
    "        self.db_value += next_value\n",
    "        logging.info(\"Thread %s: finishing update\", name)\n",
    "\n",
    "    def locked_update(self,name):\n",
    "        logging.info(\"Thread %s: starting update of locked_update\", name)\n",
    "        logging.info(\"Thread %s about to lock\", name)\n",
    "\n",
    "        with self._lock:\n",
    "            next_value = self.db_value\n",
    "            next_value +=1\n",
    "            time.sleep(0.1)\n",
    "            self.db_value += next_value\n",
    "            logging.info(\"Thread %s about to release lock\", name)\n",
    "        logging.debug(\"Thread %s after release\", name)\n",
    "        logging.info(\"Thread %s: finishing update\", name)"
   ]
  },
  {
   "cell_type": "code",
   "execution_count": 8,
   "metadata": {},
   "outputs": [],
   "source": [
    "\n",
    "fk_db = FakeDatabase()"
   ]
  },
  {
   "cell_type": "code",
   "execution_count": 9,
   "metadata": {},
   "outputs": [
    {
     "name": "stderr",
     "output_type": "stream",
     "text": [
      "23:23:02: Testing update. Starting value is 0.\n",
      "23:23:02: Testing update. Ending value is 0.\n"
     ]
    }
   ],
   "source": [
    "logging.info(\"Testing update. Starting value is %d.\", fk_db.db_value)\n",
    "with concurrent.futures.ThreadPoolExecutor(max_workers=2) as executor:\n",
    "    for index in range(2):\n",
    "        executor.submit(fk_db.update, index)\n",
    "logging.info(\"Testing update. Ending value is %d.\", fk_db.db_value)"
   ]
  },
  {
   "cell_type": "code",
   "execution_count": 10,
   "metadata": {},
   "outputs": [],
   "source": [
    "fk_db2 = FakeDatabase()"
   ]
  },
  {
   "cell_type": "code",
   "execution_count": 11,
   "metadata": {},
   "outputs": [
    {
     "name": "stderr",
     "output_type": "stream",
     "text": [
      "23:23:02: Testing update. Starting value is 0.\n",
      "23:23:02: Thread 0: starting update of locked_update\n",
      "23:23:02: Thread 0 about to lock\n",
      "23:23:02: Thread 1: starting update of locked_update\n",
      "23:23:02: Thread 1 about to lock\n",
      "23:23:03: Thread 0 about to release lock\n",
      "23:23:03: Thread 0 after release\n",
      "23:23:03: Thread 0: finishing update\n",
      "23:23:03: Thread 1 about to release lock\n",
      "23:23:03: Thread 1 after release\n",
      "23:23:03: Thread 1: finishing update\n",
      "23:23:03: Testing update. Ending value is 3.\n"
     ]
    }
   ],
   "source": [
    "logging.info(\"Testing update. Starting value is %d.\", fk_db2.db_value)\n",
    "with concurrent.futures.ThreadPoolExecutor(max_workers=2) as executor:\n",
    "    for index in range(2):\n",
    "        executor.submit(fk_db2.locked_update, index)\n",
    "logging.info(\"Testing update. Ending value is %d.\", fk_db2.db_value)"
   ]
  },
  {
   "cell_type": "markdown",
   "metadata": {},
   "source": [
    "##### Deadlocks"
   ]
  },
  {
   "cell_type": "markdown",
   "metadata": {},
   "source": [
    "A common problem when using Locks. As you saw, if the Lock has already been acquired, a second call to .acquire() will wait until the thread that is holding the Lock calls .release().\n",
    "What do you think happens when you run this code:"
   ]
  },
  {
   "cell_type": "code",
   "execution_count": 1,
   "metadata": {},
   "outputs": [
    {
     "name": "stdout",
     "output_type": "stream",
     "text": [
      "before first acquire\n",
      "before second acquire\n",
      "acquired lock twice\n"
     ]
    }
   ],
   "source": [
    "import threading\n",
    "\n",
    "#l = threading.Lock()\n",
    "print(\"before first acquire\")\n",
    "#l.acquire()\n",
    "print(\"before second acquire\")\n",
    "#l.acquire()\n",
    "print(\"acquired lock twice\")"
   ]
  },
  {
   "cell_type": "markdown",
   "metadata": {},
   "source": [
    "When the program calls l.acquire() the second time, it hangs waiting for the Lock to be released. \n",
    "In this example, you can fix the deadlock by removing the second call, but deadlocks usually happen from one of two subtle things:\n",
    "\n",
    "An implementation bug where a Lock is not released properly\n",
    "A design issue where a utility function needs to be called by functions that might or might not already have the Lock\n",
    "\n",
    "The first situation happens sometimes, but using a Lock as a context manager greatly reduces how often. It is recommended to write code whenever possible to make use of context managers, as they help to avoid situations where an exception skips you over the .release() call.\n",
    "\n",
    "The design issue can be a bit trickier in some languages. Thankfully, Python threading has a second object, called RLock, that is designed for just this situation. It allows a thread to .acquire() an RLock multiple times before it calls .release(). That thread is still required to call .release() the same number of times it called .acquire(), but it should be doing that anyway."
   ]
  },
  {
   "cell_type": "markdown",
   "metadata": {},
   "source": [
    "##### Lock and RLock are two of the basic tools used in threaded programming to prevent race conditions. "
   ]
  },
  {
   "cell_type": "code",
   "execution_count": null,
   "metadata": {},
   "outputs": [],
   "source": []
  }
 ],
 "metadata": {
  "kernelspec": {
   "display_name": "Python 3",
   "language": "python",
   "name": "python3"
  },
  "language_info": {
   "codemirror_mode": {
    "name": "ipython",
    "version": 3
   },
   "file_extension": ".py",
   "mimetype": "text/x-python",
   "name": "python",
   "nbconvert_exporter": "python",
   "pygments_lexer": "ipython3",
   "version": "3.7.1"
  }
 },
 "nbformat": 4,
 "nbformat_minor": 2
}
