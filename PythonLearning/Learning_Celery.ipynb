{
 "cells": [
  {
   "cell_type": "code",
   "execution_count": 1,
   "metadata": {},
   "outputs": [],
   "source": [
    "from celery import Celery"
   ]
  },
  {
   "cell_type": "code",
   "execution_count": 2,
   "metadata": {},
   "outputs": [],
   "source": [
    "app = Celery('tasks', backend='rpc://', broker='pyamqp://')"
   ]
  },
  {
   "cell_type": "code",
   "execution_count": 3,
   "metadata": {},
   "outputs": [],
   "source": [
    "@app.task\n",
    "def add(x, y):\n",
    "    return x + y"
   ]
  },
  {
   "cell_type": "code",
   "execution_count": 4,
   "metadata": {},
   "outputs": [
    {
     "ename": "SyntaxError",
     "evalue": "invalid syntax (rpc.py, line 20)",
     "output_type": "error",
     "traceback": [
      "Traceback \u001b[1;36m(most recent call last)\u001b[0m:\n",
      "  File \u001b[0;32m\"D:\\Anaconda3\\lib\\site-packages\\IPython\\core\\interactiveshell.py\"\u001b[0m, line \u001b[0;32m3267\u001b[0m, in \u001b[0;35mrun_code\u001b[0m\n    exec(code_obj, self.user_global_ns, self.user_ns)\n",
      "  File \u001b[0;32m\"<ipython-input-4-f68c3b0d4317>\"\u001b[0m, line \u001b[0;32m1\u001b[0m, in \u001b[0;35m<module>\u001b[0m\n    result = add.delay(4, 4)\n",
      "  File \u001b[0;32m\"D:\\Anaconda3\\lib\\site-packages\\celery\\app\\task.py\"\u001b[0m, line \u001b[0;32m408\u001b[0m, in \u001b[0;35mdelay\u001b[0m\n    return self.apply_async(args, kwargs)\n",
      "  File \u001b[0;32m\"D:\\Anaconda3\\lib\\site-packages\\celery\\app\\task.py\"\u001b[0m, line \u001b[0;32m535\u001b[0m, in \u001b[0;35mapply_async\u001b[0m\n    **options\n",
      "  File \u001b[0;32m\"D:\\Anaconda3\\lib\\site-packages\\celery\\app\\base.py\"\u001b[0m, line \u001b[0;32m744\u001b[0m, in \u001b[0;35msend_task\u001b[0m\n    self.backend.on_task_call(P, task_id)\n",
      "  File \u001b[0;32m\"D:\\Anaconda3\\lib\\site-packages\\kombu\\utils\\objects.py\"\u001b[0m, line \u001b[0;32m44\u001b[0m, in \u001b[0;35m__get__\u001b[0m\n    value = obj.__dict__[self.__name__] = self.__get(obj)\n",
      "  File \u001b[0;32m\"D:\\Anaconda3\\lib\\site-packages\\celery\\app\\base.py\"\u001b[0m, line \u001b[0;32m1196\u001b[0m, in \u001b[0;35mbackend\u001b[0m\n    return self._get_backend()\n",
      "  File \u001b[0;32m\"D:\\Anaconda3\\lib\\site-packages\\celery\\app\\base.py\"\u001b[0m, line \u001b[0;32m914\u001b[0m, in \u001b[0;35m_get_backend\u001b[0m\n    self.loader)\n",
      "  File \u001b[0;32m\"D:\\Anaconda3\\lib\\site-packages\\celery\\app\\backends.py\"\u001b[0m, line \u001b[0;32m70\u001b[0m, in \u001b[0;35mby_url\u001b[0m\n    return by_name(backend, loader), url\n",
      "  File \u001b[0;32m\"D:\\Anaconda3\\lib\\site-packages\\celery\\app\\backends.py\"\u001b[0m, line \u001b[0;32m50\u001b[0m, in \u001b[0;35mby_name\u001b[0m\n    cls = symbol_by_name(backend, aliases)\n",
      "  File \u001b[0;32m\"D:\\Anaconda3\\lib\\site-packages\\kombu\\utils\\imports.py\"\u001b[0m, line \u001b[0;32m56\u001b[0m, in \u001b[0;35msymbol_by_name\u001b[0m\n    module = imp(module_name, package=package, **kwargs)\n",
      "  File \u001b[0;32m\"D:\\Anaconda3\\lib\\importlib\\__init__.py\"\u001b[0m, line \u001b[0;32m127\u001b[0m, in \u001b[0;35mimport_module\u001b[0m\n    return _bootstrap._gcd_import(name[level:], package, level)\n",
      "  File \u001b[0;32m\"<frozen importlib._bootstrap>\"\u001b[0m, line \u001b[0;32m1006\u001b[0m, in \u001b[0;35m_gcd_import\u001b[0m\n",
      "  File \u001b[0;32m\"<frozen importlib._bootstrap>\"\u001b[0m, line \u001b[0;32m983\u001b[0m, in \u001b[0;35m_find_and_load\u001b[0m\n",
      "  File \u001b[0;32m\"<frozen importlib._bootstrap>\"\u001b[0m, line \u001b[0;32m967\u001b[0m, in \u001b[0;35m_find_and_load_unlocked\u001b[0m\n",
      "  File \u001b[0;32m\"<frozen importlib._bootstrap>\"\u001b[0m, line \u001b[0;32m677\u001b[0m, in \u001b[0;35m_load_unlocked\u001b[0m\n",
      "  File \u001b[0;32m\"<frozen importlib._bootstrap_external>\"\u001b[0m, line \u001b[0;32m724\u001b[0m, in \u001b[0;35mexec_module\u001b[0m\n",
      "  File \u001b[0;32m\"<frozen importlib._bootstrap_external>\"\u001b[0m, line \u001b[0;32m860\u001b[0m, in \u001b[0;35mget_code\u001b[0m\n",
      "  File \u001b[0;32m\"<frozen importlib._bootstrap_external>\"\u001b[0m, line \u001b[0;32m791\u001b[0m, in \u001b[0;35msource_to_code\u001b[0m\n",
      "\u001b[1;36m  File \u001b[1;32m\"<frozen importlib._bootstrap>\"\u001b[1;36m, line \u001b[1;32m219\u001b[1;36m, in \u001b[1;35m_call_with_frames_removed\u001b[1;36m\u001b[0m\n",
      "\u001b[1;36m  File \u001b[1;32m\"D:\\Anaconda3\\lib\\site-packages\\celery\\backends\\rpc.py\"\u001b[1;36m, line \u001b[1;32m20\u001b[0m\n\u001b[1;33m    from .async import AsyncBackendMixin, BaseResultConsumer\u001b[0m\n\u001b[1;37m              ^\u001b[0m\n\u001b[1;31mSyntaxError\u001b[0m\u001b[1;31m:\u001b[0m invalid syntax\n"
     ]
    }
   ],
   "source": [
    " "
   ]
  },
  {
   "cell_type": "code",
   "execution_count": null,
   "metadata": {},
   "outputs": [],
   "source": [
    " result.ready()"
   ]
  }
 ],
 "metadata": {
  "kernelspec": {
   "display_name": "Python 3",
   "language": "python",
   "name": "python3"
  },
  "language_info": {
   "codemirror_mode": {
    "name": "ipython",
    "version": 3
   },
   "file_extension": ".py",
   "mimetype": "text/x-python",
   "name": "python",
   "nbconvert_exporter": "python",
   "pygments_lexer": "ipython3",
   "version": "3.7.1"
  }
 },
 "nbformat": 4,
 "nbformat_minor": 2
}
