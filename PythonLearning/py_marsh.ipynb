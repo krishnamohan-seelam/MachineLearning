{
 "cells": [
  {
   "cell_type": "code",
   "execution_count": 1,
   "metadata": {},
   "outputs": [],
   "source": [
    "from marshmallow import Schema,fields,pprint"
   ]
  },
  {
   "cell_type": "code",
   "execution_count": 2,
   "metadata": {},
   "outputs": [],
   "source": [
    "import datetime as dt\n",
    "class User(object):\n",
    "    def __init__(self,name,email):\n",
    "        self.name = name\n",
    "        self.email = email\n",
    "        self.created_date = dt.datetime.now()\n",
    "        \n",
    "    def __repr__(self):\n",
    "        return '<User(name={self.name!r})>'.format(self=self)"
   ]
  },
  {
   "cell_type": "code",
   "execution_count": 3,
   "metadata": {},
   "outputs": [],
   "source": [
    "class UserSchema(Schema):\n",
    "    name = fields.Str()\n",
    "    email = fields.Email()\n",
    "    created_date = fields.DateTime()\n"
   ]
  },
  {
   "cell_type": "code",
   "execution_count": 4,
   "metadata": {},
   "outputs": [
    {
     "name": "stdout",
     "output_type": "stream",
     "text": [
      "{'created_date': '2019-04-14T21:12:34.428263+00:00',\n",
      " 'email': 'krishnamohan.seelam@gmail.com',\n",
      " 'name': 'Krishna'}\n"
     ]
    }
   ],
   "source": [
    "#Serializing \n",
    "user = User(name=\"Krishna\", email=\"krishnamohan.seelam@gmail.com\")\n",
    "user_schema = UserSchema()\n",
    "result = user_schema.dump(user)\n",
    "pprint(result.data)"
   ]
  },
  {
   "cell_type": "code",
   "execution_count": 5,
   "metadata": {},
   "outputs": [
    {
     "name": "stdout",
     "output_type": "stream",
     "text": [
      "{'email': 'krishnamohan.seelam@gmail.com', 'name': 'krishna'}\n"
     ]
    }
   ],
   "source": [
    "from pprint import pprint\n",
    "\n",
    "user_data = {\n",
    "    'created_at': '2019-04-14T20:57:54.396570+00:00',\n",
    "    'email': u'krishnamohan.seelam@gmail.com',\n",
    "    'name': u'krishna'\n",
    "}\n",
    "schema = UserSchema()\n",
    "result = schema.load(user_data)\n",
    "pprint(result.data)"
   ]
  }
 ],
 "metadata": {
  "kernelspec": {
   "display_name": "Python 3",
   "language": "python",
   "name": "python3"
  },
  "language_info": {
   "codemirror_mode": {
    "name": "ipython",
    "version": 3
   },
   "file_extension": ".py",
   "mimetype": "text/x-python",
   "name": "python",
   "nbconvert_exporter": "python",
   "pygments_lexer": "ipython3",
   "version": "3.7.1"
  }
 },
 "nbformat": 4,
 "nbformat_minor": 2
}
