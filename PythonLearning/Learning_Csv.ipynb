{
 "cells": [
  {
   "cell_type": "code",
   "execution_count": 1,
   "metadata": {},
   "outputs": [],
   "source": [
    "import csv"
   ]
  },
  {
   "cell_type": "code",
   "execution_count": 2,
   "metadata": {},
   "outputs": [],
   "source": [
    "import pathlib"
   ]
  },
  {
   "cell_type": "code",
   "execution_count": 3,
   "metadata": {},
   "outputs": [],
   "source": [
    "data_folder = r'data\\gapminder.tsv'"
   ]
  },
  {
   "cell_type": "code",
   "execution_count": 4,
   "metadata": {},
   "outputs": [],
   "source": [
    "csv_path = pathlib.Path(data_folder)"
   ]
  },
  {
   "cell_type": "code",
   "execution_count": 5,
   "metadata": {},
   "outputs": [],
   "source": [
    "with open(csv_path, 'rt') as csv_file:\n",
    "    csv_dialect = csv.Sniffer().sniff(csv_file.read(1024))\n",
    "    csv_file.seek(0)\n",
    "\n"
   ]
  },
  {
   "cell_type": "code",
   "execution_count": 8,
   "metadata": {},
   "outputs": [
    {
     "name": "stdout",
     "output_type": "stream",
     "text": [
      "Delimiter is :\t\n",
      "Doublequote is :False\n",
      "Escape Character is :None\n",
      "Line Terminator is :\r\n",
      "\n",
      "Quote Char is :\"\n",
      "Quoting is :0\n",
      "Skipping Initial Space is :False\n"
     ]
    }
   ],
   "source": [
    "print(f'Delimiter is :{csv_dialect.delimiter}')\n",
    "print(f'Doublequote is :{csv_dialect.doublequote}')\n",
    "print(f'Escape Character is :{csv_dialect.escapechar}')\n",
    "print(f'Line Terminator is :{csv_dialect.lineterminator}')\n",
    "print(f'Quote Char is :{csv_dialect.quotechar}')\n",
    "print(f'Quoting is :{csv_dialect.quoting}')\n",
    "print(f'Skipping Initial Space is :{csv_dialect.skipinitialspace}')\n",
    " "
   ]
  },
  {
   "cell_type": "code",
   "execution_count": null,
   "metadata": {},
   "outputs": [],
   "source": []
  },
  {
   "cell_type": "code",
   "execution_count": null,
   "metadata": {},
   "outputs": [],
   "source": []
  }
 ],
 "metadata": {
  "kernelspec": {
   "display_name": "Python 3",
   "language": "python",
   "name": "python3"
  },
  "language_info": {
   "codemirror_mode": {
    "name": "ipython",
    "version": 3
   },
   "file_extension": ".py",
   "mimetype": "text/x-python",
   "name": "python",
   "nbconvert_exporter": "python",
   "pygments_lexer": "ipython3",
   "version": "3.7.1"
  }
 },
 "nbformat": 4,
 "nbformat_minor": 2
}
